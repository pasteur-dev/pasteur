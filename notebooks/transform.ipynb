{
 "cells": [
  {
   "cell_type": "code",
   "execution_count": null,
   "metadata": {},
   "outputs": [],
   "source": [
    "from pasteur.kedro.ipython import *\n",
    "register_kedro()"
   ]
  },
  {
   "cell_type": "code",
   "execution_count": null,
   "metadata": {},
   "outputs": [],
   "source": [
    "%load_ext autoreload\n",
    "%autoreload 2"
   ]
  },
  {
   "cell_type": "code",
   "execution_count": null,
   "metadata": {},
   "outputs": [],
   "source": [
    "import pandas as pd\n",
    "import numpy as np"
   ]
  },
  {
   "cell_type": "code",
   "execution_count": null,
   "metadata": {},
   "outputs": [],
   "source": [
    "from pasteur.metadata import Metadata\n",
    "adult: pd.DataFrame = catalog.load(\"tab_adult.view.table\")\n",
    "admissions: pd.DataFrame = catalog.load(\"mimic_tab_admissions.view.table\")\n",
    "\n",
    "adult_meta: Metadata = catalog.load(\"tab_adult.view.metadata\")\n",
    "admissions_meta: Metadata = catalog.load(\"mimic_tab_admissions.view.metadata\")"
   ]
  },
  {
   "cell_type": "code",
   "execution_count": null,
   "metadata": {},
   "outputs": [],
   "source": [
    "from pasteur.transform.table import TableTransformer"
   ]
  },
  {
   "cell_type": "code",
   "execution_count": null,
   "metadata": {},
   "outputs": [
    {
     "data": {
      "text/html": [
       "<pre style=\"white-space:pre;overflow-x:auto;line-height:normal;font-family:Menlo,'DejaVu Sans Mono',consolas,'Courier New',monospace\"><span style=\"color: #800000; text-decoration-color: #800000\">╭─────────────────────────────── </span><span style=\"color: #800000; text-decoration-color: #800000; font-weight: bold\">Traceback </span><span style=\"color: #bf7f7f; text-decoration-color: #bf7f7f; font-weight: bold\">(most recent call last)</span><span style=\"color: #800000; text-decoration-color: #800000\"> ────────────────────────────────╮</span>\n",
       "<span style=\"color: #800000; text-decoration-color: #800000\">│</span> <span style=\"color: #bfbf7f; text-decoration-color: #bfbf7f\">/tmp/ipykernel_1743796/</span><span style=\"color: #808000; text-decoration-color: #808000; font-weight: bold\">3744811062.py</span>:<span style=\"color: #0000ff; text-decoration-color: #0000ff\">2</span> in <span style=\"color: #00ff00; text-decoration-color: #00ff00\">&lt;cell line: 2&gt;</span>                                         <span style=\"color: #800000; text-decoration-color: #800000\">│</span>\n",
       "<span style=\"color: #800000; text-decoration-color: #800000\">│</span>                                                                                                  <span style=\"color: #800000; text-decoration-color: #800000\">│</span>\n",
       "<span style=\"color: #800000; text-decoration-color: #800000\">│</span> <span style=\"color: #800000; text-decoration-color: #800000; font-style: italic\">[Errno 2] No such file or directory: '/tmp/ipykernel_1743796/3744811062.py'</span>                      <span style=\"color: #800000; text-decoration-color: #800000\">│</span>\n",
       "<span style=\"color: #800000; text-decoration-color: #800000\">│</span>                                                                                                  <span style=\"color: #800000; text-decoration-color: #800000\">│</span>\n",
       "<span style=\"color: #800000; text-decoration-color: #800000\">│</span> <span style=\"color: #bfbf7f; text-decoration-color: #bfbf7f\">/mnt/ext/projects/pasteur/src/pasteur/transform/</span><span style=\"color: #808000; text-decoration-color: #808000; font-weight: bold\">table.py</span>:<span style=\"color: #0000ff; text-decoration-color: #0000ff\">160</span> in <span style=\"color: #00ff00; text-decoration-color: #00ff00\">fit</span>                              <span style=\"color: #800000; text-decoration-color: #800000\">│</span>\n",
       "<span style=\"color: #800000; text-decoration-color: #800000\">│</span>                                                                                                  <span style=\"color: #800000; text-decoration-color: #800000\">│</span>\n",
       "<span style=\"color: #800000; text-decoration-color: #800000\">│</span>   <span style=\"color: #7f7f7f; text-decoration-color: #7f7f7f\">157 │   │   │   │   │   </span>ref_col = table[f_col]                                                 <span style=\"color: #800000; text-decoration-color: #800000\">│</span>\n",
       "<span style=\"color: #800000; text-decoration-color: #800000\">│</span>   <span style=\"color: #7f7f7f; text-decoration-color: #7f7f7f\">158 │   │   │   </span>                                                                               <span style=\"color: #800000; text-decoration-color: #800000\">│</span>\n",
       "<span style=\"color: #800000; text-decoration-color: #800000\">│</span>   <span style=\"color: #7f7f7f; text-decoration-color: #7f7f7f\">159 │   │   │   # Fit transformer</span>                                                              <span style=\"color: #800000; text-decoration-color: #800000\">│</span>\n",
       "<span style=\"color: #800000; text-decoration-color: #800000\">│</span> <span style=\"color: #800000; text-decoration-color: #800000\">❱ </span>160 <span style=\"color: #7f7f7f; text-decoration-color: #7f7f7f\">│   │   │   </span>t = transformers[col.type](**col.args)                                         <span style=\"color: #800000; text-decoration-color: #800000\">│</span>\n",
       "<span style=\"color: #800000; text-decoration-color: #800000\">│</span>   <span style=\"color: #7f7f7f; text-decoration-color: #7f7f7f\">161 │   │   │   </span><span style=\"color: #0000ff; text-decoration-color: #0000ff\">if</span> <span style=\"color: #00ffff; text-decoration-color: #00ffff\">isinstance</span>(t, RefTransformer) <span style=\"color: #ff00ff; text-decoration-color: #ff00ff\">and</span> ref_col <span style=\"color: #ff00ff; text-decoration-color: #ff00ff\">is</span> <span style=\"color: #ff00ff; text-decoration-color: #ff00ff\">not</span> <span style=\"color: #0000ff; text-decoration-color: #0000ff\">None</span>:                      <span style=\"color: #800000; text-decoration-color: #800000\">│</span>\n",
       "<span style=\"color: #800000; text-decoration-color: #800000\">│</span>   <span style=\"color: #7f7f7f; text-decoration-color: #7f7f7f\">162 │   │   │   │   </span>t.fit(table[name], ref_col)                                                <span style=\"color: #800000; text-decoration-color: #800000\">│</span>\n",
       "<span style=\"color: #800000; text-decoration-color: #800000\">│</span>   <span style=\"color: #7f7f7f; text-decoration-color: #7f7f7f\">163 │   │   │   </span><span style=\"color: #0000ff; text-decoration-color: #0000ff\">else</span>:                                                                          <span style=\"color: #800000; text-decoration-color: #800000\">│</span>\n",
       "<span style=\"color: #800000; text-decoration-color: #800000\">╰──────────────────────────────────────────────────────────────────────────────────────────────────╯</span>\n",
       "<span style=\"color: #ff0000; text-decoration-color: #ff0000; font-weight: bold\">KeyError: </span><span style=\"color: #008000; text-decoration-color: #008000\">'numerical'</span>\n",
       "</pre>\n"
      ],
      "text/plain": [
       "\u001b[31m╭─\u001b[0m\u001b[31m────────────────────────────── \u001b[0m\u001b[1;31mTraceback \u001b[0m\u001b[1;2;31m(most recent call last)\u001b[0m\u001b[31m ───────────────────────────────\u001b[0m\u001b[31m─╮\u001b[0m\n",
       "\u001b[31m│\u001b[0m \u001b[2;33m/tmp/ipykernel_1743796/\u001b[0m\u001b[1;33m3744811062.py\u001b[0m:\u001b[94m2\u001b[0m in \u001b[92m<cell line: 2>\u001b[0m                                         \u001b[31m│\u001b[0m\n",
       "\u001b[31m│\u001b[0m                                                                                                  \u001b[31m│\u001b[0m\n",
       "\u001b[31m│\u001b[0m \u001b[3;31m[Errno 2] No such file or directory: '/tmp/ipykernel_1743796/3744811062.py'\u001b[0m                      \u001b[31m│\u001b[0m\n",
       "\u001b[31m│\u001b[0m                                                                                                  \u001b[31m│\u001b[0m\n",
       "\u001b[31m│\u001b[0m \u001b[2;33m/mnt/ext/projects/pasteur/src/pasteur/transform/\u001b[0m\u001b[1;33mtable.py\u001b[0m:\u001b[94m160\u001b[0m in \u001b[92mfit\u001b[0m                              \u001b[31m│\u001b[0m\n",
       "\u001b[31m│\u001b[0m                                                                                                  \u001b[31m│\u001b[0m\n",
       "\u001b[31m│\u001b[0m   \u001b[2m157 \u001b[0m\u001b[2m│   │   │   │   │   \u001b[0mref_col = table[f_col]                                                 \u001b[31m│\u001b[0m\n",
       "\u001b[31m│\u001b[0m   \u001b[2m158 \u001b[0m\u001b[2m│   │   │   \u001b[0m                                                                               \u001b[31m│\u001b[0m\n",
       "\u001b[31m│\u001b[0m   \u001b[2m159 \u001b[0m\u001b[2m│   │   │   \u001b[0m\u001b[2m# Fit transformer\u001b[0m                                                              \u001b[31m│\u001b[0m\n",
       "\u001b[31m│\u001b[0m \u001b[31m❱ \u001b[0m160 \u001b[2m│   │   │   \u001b[0mt = transformers[col.type](**col.args)                                         \u001b[31m│\u001b[0m\n",
       "\u001b[31m│\u001b[0m   \u001b[2m161 \u001b[0m\u001b[2m│   │   │   \u001b[0m\u001b[94mif\u001b[0m \u001b[96misinstance\u001b[0m(t, RefTransformer) \u001b[95mand\u001b[0m ref_col \u001b[95mis\u001b[0m \u001b[95mnot\u001b[0m \u001b[94mNone\u001b[0m:                      \u001b[31m│\u001b[0m\n",
       "\u001b[31m│\u001b[0m   \u001b[2m162 \u001b[0m\u001b[2m│   │   │   │   \u001b[0mt.fit(table[name], ref_col)                                                \u001b[31m│\u001b[0m\n",
       "\u001b[31m│\u001b[0m   \u001b[2m163 \u001b[0m\u001b[2m│   │   │   \u001b[0m\u001b[94melse\u001b[0m:                                                                          \u001b[31m│\u001b[0m\n",
       "\u001b[31m╰──────────────────────────────────────────────────────────────────────────────────────────────────╯\u001b[0m\n",
       "\u001b[1;91mKeyError: \u001b[0m\u001b[32m'numerical'\u001b[0m\n"
      ]
     },
     "metadata": {},
     "output_type": "display_data"
    }
   ],
   "source": [
    "atrn = TableTransformer(adult_meta, \"table\")\n",
    "atrn.fit(adult)\n",
    "atrn.get_attributes()"
   ]
  },
  {
   "cell_type": "code",
   "execution_count": null,
   "metadata": {},
   "outputs": [
    {
     "data": {
      "text/html": [
       "<pre style=\"white-space:pre;overflow-x:auto;line-height:normal;font-family:Menlo,'DejaVu Sans Mono',consolas,'Courier New',monospace\"><span style=\"color: #800000; text-decoration-color: #800000\">╭─────────────────────────────── </span><span style=\"color: #800000; text-decoration-color: #800000; font-weight: bold\">Traceback </span><span style=\"color: #bf7f7f; text-decoration-color: #bf7f7f; font-weight: bold\">(most recent call last)</span><span style=\"color: #800000; text-decoration-color: #800000\"> ────────────────────────────────╮</span>\n",
       "<span style=\"color: #800000; text-decoration-color: #800000\">│</span> <span style=\"color: #bfbf7f; text-decoration-color: #bfbf7f\">/tmp/ipykernel_1743796/</span><span style=\"color: #808000; text-decoration-color: #808000; font-weight: bold\">2852719546.py</span>:<span style=\"color: #0000ff; text-decoration-color: #0000ff\">1</span> in <span style=\"color: #00ff00; text-decoration-color: #00ff00\">&lt;cell line: 1&gt;</span>                                         <span style=\"color: #800000; text-decoration-color: #800000\">│</span>\n",
       "<span style=\"color: #800000; text-decoration-color: #800000\">│</span>                                                                                                  <span style=\"color: #800000; text-decoration-color: #800000\">│</span>\n",
       "<span style=\"color: #800000; text-decoration-color: #800000\">│</span> <span style=\"color: #800000; text-decoration-color: #800000; font-style: italic\">[Errno 2] No such file or directory: '/tmp/ipykernel_1743796/2852719546.py'</span>                      <span style=\"color: #800000; text-decoration-color: #800000\">│</span>\n",
       "<span style=\"color: #800000; text-decoration-color: #800000\">│</span>                                                                                                  <span style=\"color: #800000; text-decoration-color: #800000\">│</span>\n",
       "<span style=\"color: #800000; text-decoration-color: #800000\">│</span> <span style=\"color: #bfbf7f; text-decoration-color: #bfbf7f\">/mnt/ext/projects/pasteur/src/pasteur/transform/</span><span style=\"color: #808000; text-decoration-color: #808000; font-weight: bold\">table.py</span>:<span style=\"color: #0000ff; text-decoration-color: #0000ff\">174</span> in <span style=\"color: #00ff00; text-decoration-color: #00ff00\">transform</span>                        <span style=\"color: #800000; text-decoration-color: #800000\">│</span>\n",
       "<span style=\"color: #800000; text-decoration-color: #800000\">│</span>                                                                                                  <span style=\"color: #800000; text-decoration-color: #800000\">│</span>\n",
       "<span style=\"color: #800000; text-decoration-color: #800000\">│</span>   <span style=\"color: #7f7f7f; text-decoration-color: #7f7f7f\">171 │   │   </span>tables: Dict[<span style=\"color: #00ffff; text-decoration-color: #00ffff\">str</span>, pd.DataFrame] | pd.DataFrame,                                    <span style=\"color: #800000; text-decoration-color: #800000\">│</span>\n",
       "<span style=\"color: #800000; text-decoration-color: #800000\">│</span>   <span style=\"color: #7f7f7f; text-decoration-color: #7f7f7f\">172 │   │   </span>ids: pd.DataFrame | <span style=\"color: #0000ff; text-decoration-color: #0000ff\">None</span> = <span style=\"color: #0000ff; text-decoration-color: #0000ff\">None</span>,                                                   <span style=\"color: #800000; text-decoration-color: #800000\">│</span>\n",
       "<span style=\"color: #800000; text-decoration-color: #800000\">│</span>   <span style=\"color: #7f7f7f; text-decoration-color: #7f7f7f\">173 │   </span>):                                                                                     <span style=\"color: #800000; text-decoration-color: #800000\">│</span>\n",
       "<span style=\"color: #800000; text-decoration-color: #800000\">│</span> <span style=\"color: #800000; text-decoration-color: #800000\">❱ </span>174 <span style=\"color: #7f7f7f; text-decoration-color: #7f7f7f\">│   │   </span><span style=\"color: #0000ff; text-decoration-color: #0000ff\">assert</span> <span style=\"color: #00ffff; text-decoration-color: #00ffff\">self</span>.fitted                                                                 <span style=\"color: #800000; text-decoration-color: #800000\">│</span>\n",
       "<span style=\"color: #800000; text-decoration-color: #800000\">│</span>   <span style=\"color: #7f7f7f; text-decoration-color: #7f7f7f\">175 │   │   </span>                                                                                   <span style=\"color: #800000; text-decoration-color: #800000\">│</span>\n",
       "<span style=\"color: #800000; text-decoration-color: #800000\">│</span>   <span style=\"color: #7f7f7f; text-decoration-color: #7f7f7f\">176 │   │   </span>meta = <span style=\"color: #00ffff; text-decoration-color: #00ffff\">self</span>.meta[<span style=\"color: #00ffff; text-decoration-color: #00ffff\">self</span>.name]                                                        <span style=\"color: #800000; text-decoration-color: #800000\">│</span>\n",
       "<span style=\"color: #800000; text-decoration-color: #800000\">│</span>   <span style=\"color: #7f7f7f; text-decoration-color: #7f7f7f\">177 │   │   </span><span style=\"color: #0000ff; text-decoration-color: #0000ff\">if</span> <span style=\"color: #00ffff; text-decoration-color: #00ffff\">isinstance</span>(tables, <span style=\"color: #00ffff; text-decoration-color: #00ffff\">dict</span>):                                                       <span style=\"color: #800000; text-decoration-color: #800000\">│</span>\n",
       "<span style=\"color: #800000; text-decoration-color: #800000\">╰──────────────────────────────────────────────────────────────────────────────────────────────────╯</span>\n",
       "<span style=\"color: #ff0000; text-decoration-color: #ff0000; font-weight: bold\">AssertionError</span>\n",
       "</pre>\n"
      ],
      "text/plain": [
       "\u001b[31m╭─\u001b[0m\u001b[31m────────────────────────────── \u001b[0m\u001b[1;31mTraceback \u001b[0m\u001b[1;2;31m(most recent call last)\u001b[0m\u001b[31m ───────────────────────────────\u001b[0m\u001b[31m─╮\u001b[0m\n",
       "\u001b[31m│\u001b[0m \u001b[2;33m/tmp/ipykernel_1743796/\u001b[0m\u001b[1;33m2852719546.py\u001b[0m:\u001b[94m1\u001b[0m in \u001b[92m<cell line: 1>\u001b[0m                                         \u001b[31m│\u001b[0m\n",
       "\u001b[31m│\u001b[0m                                                                                                  \u001b[31m│\u001b[0m\n",
       "\u001b[31m│\u001b[0m \u001b[3;31m[Errno 2] No such file or directory: '/tmp/ipykernel_1743796/2852719546.py'\u001b[0m                      \u001b[31m│\u001b[0m\n",
       "\u001b[31m│\u001b[0m                                                                                                  \u001b[31m│\u001b[0m\n",
       "\u001b[31m│\u001b[0m \u001b[2;33m/mnt/ext/projects/pasteur/src/pasteur/transform/\u001b[0m\u001b[1;33mtable.py\u001b[0m:\u001b[94m174\u001b[0m in \u001b[92mtransform\u001b[0m                        \u001b[31m│\u001b[0m\n",
       "\u001b[31m│\u001b[0m                                                                                                  \u001b[31m│\u001b[0m\n",
       "\u001b[31m│\u001b[0m   \u001b[2m171 \u001b[0m\u001b[2m│   │   \u001b[0mtables: Dict[\u001b[96mstr\u001b[0m, pd.DataFrame] | pd.DataFrame,                                    \u001b[31m│\u001b[0m\n",
       "\u001b[31m│\u001b[0m   \u001b[2m172 \u001b[0m\u001b[2m│   │   \u001b[0mids: pd.DataFrame | \u001b[94mNone\u001b[0m = \u001b[94mNone\u001b[0m,                                                   \u001b[31m│\u001b[0m\n",
       "\u001b[31m│\u001b[0m   \u001b[2m173 \u001b[0m\u001b[2m│   \u001b[0m):                                                                                     \u001b[31m│\u001b[0m\n",
       "\u001b[31m│\u001b[0m \u001b[31m❱ \u001b[0m174 \u001b[2m│   │   \u001b[0m\u001b[94massert\u001b[0m \u001b[96mself\u001b[0m.fitted                                                                 \u001b[31m│\u001b[0m\n",
       "\u001b[31m│\u001b[0m   \u001b[2m175 \u001b[0m\u001b[2m│   │   \u001b[0m                                                                                   \u001b[31m│\u001b[0m\n",
       "\u001b[31m│\u001b[0m   \u001b[2m176 \u001b[0m\u001b[2m│   │   \u001b[0mmeta = \u001b[96mself\u001b[0m.meta[\u001b[96mself\u001b[0m.name]                                                        \u001b[31m│\u001b[0m\n",
       "\u001b[31m│\u001b[0m   \u001b[2m177 \u001b[0m\u001b[2m│   │   \u001b[0m\u001b[94mif\u001b[0m \u001b[96misinstance\u001b[0m(tables, \u001b[96mdict\u001b[0m):                                                       \u001b[31m│\u001b[0m\n",
       "\u001b[31m╰──────────────────────────────────────────────────────────────────────────────────────────────────╯\u001b[0m\n",
       "\u001b[1;91mAssertionError\u001b[0m\n"
      ]
     },
     "metadata": {},
     "output_type": "display_data"
    }
   ],
   "source": [
    "enc = atrn.transform(adult)\n",
    "enc.info()"
   ]
  },
  {
   "cell_type": "code",
   "execution_count": null,
   "metadata": {},
   "outputs": [
    {
     "data": {
      "text/html": [
       "<pre style=\"white-space:pre;overflow-x:auto;line-height:normal;font-family:Menlo,'DejaVu Sans Mono',consolas,'Courier New',monospace\"><span style=\"color: #800000; text-decoration-color: #800000\">╭─────────────────────────────── </span><span style=\"color: #800000; text-decoration-color: #800000; font-weight: bold\">Traceback </span><span style=\"color: #bf7f7f; text-decoration-color: #bf7f7f; font-weight: bold\">(most recent call last)</span><span style=\"color: #800000; text-decoration-color: #800000\"> ────────────────────────────────╮</span>\n",
       "<span style=\"color: #800000; text-decoration-color: #800000\">│</span> <span style=\"color: #bfbf7f; text-decoration-color: #bfbf7f\">/tmp/ipykernel_1743796/</span><span style=\"color: #808000; text-decoration-color: #808000; font-weight: bold\">661810787.py</span>:<span style=\"color: #0000ff; text-decoration-color: #0000ff\">1</span> in <span style=\"color: #00ff00; text-decoration-color: #00ff00\">&lt;cell line: 1&gt;</span>                                          <span style=\"color: #800000; text-decoration-color: #800000\">│</span>\n",
       "<span style=\"color: #800000; text-decoration-color: #800000\">│</span>                                                                                                  <span style=\"color: #800000; text-decoration-color: #800000\">│</span>\n",
       "<span style=\"color: #800000; text-decoration-color: #800000\">│</span> <span style=\"color: #800000; text-decoration-color: #800000; font-style: italic\">[Errno 2] No such file or directory: '/tmp/ipykernel_1743796/661810787.py'</span>                       <span style=\"color: #800000; text-decoration-color: #800000\">│</span>\n",
       "<span style=\"color: #800000; text-decoration-color: #800000\">│</span>                                                                                                  <span style=\"color: #800000; text-decoration-color: #800000\">│</span>\n",
       "<span style=\"color: #800000; text-decoration-color: #800000\">│</span> <span style=\"color: #bfbf7f; text-decoration-color: #bfbf7f\">/mnt/ext/projects/pasteur/src/pasteur/transform/</span><span style=\"color: #808000; text-decoration-color: #808000; font-weight: bold\">table.py</span>:<span style=\"color: #0000ff; text-decoration-color: #0000ff\">228</span> in <span style=\"color: #00ff00; text-decoration-color: #00ff00\">reverse</span>                          <span style=\"color: #800000; text-decoration-color: #800000\">│</span>\n",
       "<span style=\"color: #800000; text-decoration-color: #800000\">│</span>                                                                                                  <span style=\"color: #800000; text-decoration-color: #800000\">│</span>\n",
       "<span style=\"color: #800000; text-decoration-color: #800000\">│</span>   <span style=\"color: #7f7f7f; text-decoration-color: #7f7f7f\">225 │   </span>):                                                                                     <span style=\"color: #800000; text-decoration-color: #800000\">│</span>\n",
       "<span style=\"color: #800000; text-decoration-color: #800000\">│</span>   <span style=\"color: #7f7f7f; text-decoration-color: #7f7f7f\">226 │   │   # If there are no ids that reference a foreign table, the ids and</span>                  <span style=\"color: #800000; text-decoration-color: #800000\">│</span>\n",
       "<span style=\"color: #800000; text-decoration-color: #800000\">│</span>   <span style=\"color: #7f7f7f; text-decoration-color: #7f7f7f\">227 │   │   # parent_table parameters can be set to None (ex. tabular data).</span>                   <span style=\"color: #800000; text-decoration-color: #800000\">│</span>\n",
       "<span style=\"color: #800000; text-decoration-color: #800000\">│</span> <span style=\"color: #800000; text-decoration-color: #800000\">❱ </span>228 <span style=\"color: #7f7f7f; text-decoration-color: #7f7f7f\">│   │   </span><span style=\"color: #0000ff; text-decoration-color: #0000ff\">assert</span> <span style=\"color: #00ffff; text-decoration-color: #00ffff\">self</span>.fitted                                                                 <span style=\"color: #800000; text-decoration-color: #800000\">│</span>\n",
       "<span style=\"color: #800000; text-decoration-color: #800000\">│</span>   <span style=\"color: #7f7f7f; text-decoration-color: #7f7f7f\">229 │   │   </span>transformers = <span style=\"color: #00ffff; text-decoration-color: #00ffff\">self</span>.transformers                                                   <span style=\"color: #800000; text-decoration-color: #800000\">│</span>\n",
       "<span style=\"color: #800000; text-decoration-color: #800000\">│</span>   <span style=\"color: #7f7f7f; text-decoration-color: #7f7f7f\">230 │   │   </span>                                                                                   <span style=\"color: #800000; text-decoration-color: #800000\">│</span>\n",
       "<span style=\"color: #800000; text-decoration-color: #800000\">│</span>   <span style=\"color: #7f7f7f; text-decoration-color: #7f7f7f\">231 │   │   </span>meta = <span style=\"color: #00ffff; text-decoration-color: #00ffff\">self</span>.meta[<span style=\"color: #00ffff; text-decoration-color: #00ffff\">self</span>.name]                                                        <span style=\"color: #800000; text-decoration-color: #800000\">│</span>\n",
       "<span style=\"color: #800000; text-decoration-color: #800000\">╰──────────────────────────────────────────────────────────────────────────────────────────────────╯</span>\n",
       "<span style=\"color: #ff0000; text-decoration-color: #ff0000; font-weight: bold\">AssertionError</span>\n",
       "</pre>\n"
      ],
      "text/plain": [
       "\u001b[31m╭─\u001b[0m\u001b[31m────────────────────────────── \u001b[0m\u001b[1;31mTraceback \u001b[0m\u001b[1;2;31m(most recent call last)\u001b[0m\u001b[31m ───────────────────────────────\u001b[0m\u001b[31m─╮\u001b[0m\n",
       "\u001b[31m│\u001b[0m \u001b[2;33m/tmp/ipykernel_1743796/\u001b[0m\u001b[1;33m661810787.py\u001b[0m:\u001b[94m1\u001b[0m in \u001b[92m<cell line: 1>\u001b[0m                                          \u001b[31m│\u001b[0m\n",
       "\u001b[31m│\u001b[0m                                                                                                  \u001b[31m│\u001b[0m\n",
       "\u001b[31m│\u001b[0m \u001b[3;31m[Errno 2] No such file or directory: '/tmp/ipykernel_1743796/661810787.py'\u001b[0m                       \u001b[31m│\u001b[0m\n",
       "\u001b[31m│\u001b[0m                                                                                                  \u001b[31m│\u001b[0m\n",
       "\u001b[31m│\u001b[0m \u001b[2;33m/mnt/ext/projects/pasteur/src/pasteur/transform/\u001b[0m\u001b[1;33mtable.py\u001b[0m:\u001b[94m228\u001b[0m in \u001b[92mreverse\u001b[0m                          \u001b[31m│\u001b[0m\n",
       "\u001b[31m│\u001b[0m                                                                                                  \u001b[31m│\u001b[0m\n",
       "\u001b[31m│\u001b[0m   \u001b[2m225 \u001b[0m\u001b[2m│   \u001b[0m):                                                                                     \u001b[31m│\u001b[0m\n",
       "\u001b[31m│\u001b[0m   \u001b[2m226 \u001b[0m\u001b[2m│   │   \u001b[0m\u001b[2m# If there are no ids that reference a foreign table, the ids and\u001b[0m                  \u001b[31m│\u001b[0m\n",
       "\u001b[31m│\u001b[0m   \u001b[2m227 \u001b[0m\u001b[2m│   │   \u001b[0m\u001b[2m# parent_table parameters can be set to None (ex. tabular data).\u001b[0m                   \u001b[31m│\u001b[0m\n",
       "\u001b[31m│\u001b[0m \u001b[31m❱ \u001b[0m228 \u001b[2m│   │   \u001b[0m\u001b[94massert\u001b[0m \u001b[96mself\u001b[0m.fitted                                                                 \u001b[31m│\u001b[0m\n",
       "\u001b[31m│\u001b[0m   \u001b[2m229 \u001b[0m\u001b[2m│   │   \u001b[0mtransformers = \u001b[96mself\u001b[0m.transformers                                                   \u001b[31m│\u001b[0m\n",
       "\u001b[31m│\u001b[0m   \u001b[2m230 \u001b[0m\u001b[2m│   │   \u001b[0m                                                                                   \u001b[31m│\u001b[0m\n",
       "\u001b[31m│\u001b[0m   \u001b[2m231 \u001b[0m\u001b[2m│   │   \u001b[0mmeta = \u001b[96mself\u001b[0m.meta[\u001b[96mself\u001b[0m.name]                                                        \u001b[31m│\u001b[0m\n",
       "\u001b[31m╰──────────────────────────────────────────────────────────────────────────────────────────────────╯\u001b[0m\n",
       "\u001b[1;91mAssertionError\u001b[0m\n"
      ]
     },
     "metadata": {},
     "output_type": "display_data"
    }
   ],
   "source": [
    "dec = atrn.reverse(enc)\n",
    "dec.info()"
   ]
  },
  {
   "cell_type": "code",
   "execution_count": null,
   "metadata": {},
   "outputs": [
    {
     "name": "stdout",
     "output_type": "stream",
     "text": [
      "<class 'pandas.core.frame.DataFrame'>\n",
      "Int64Index: 48842 entries, 0 to 16280\n",
      "Data columns (total 15 columns):\n",
      " #   Column          Non-Null Count  Dtype   \n",
      "---  ------          --------------  -----   \n",
      " 0   age             48842 non-null  int32   \n",
      " 1   workclass       48842 non-null  category\n",
      " 2   fnlwgt          48842 non-null  int32   \n",
      " 3   education       48842 non-null  category\n",
      " 4   education-num   48842 non-null  int32   \n",
      " 5   marital-status  48842 non-null  category\n",
      " 6   occupation      48842 non-null  category\n",
      " 7   relationship    48842 non-null  category\n",
      " 8   race            48842 non-null  category\n",
      " 9   sex             48842 non-null  category\n",
      " 10  capital-gain    48842 non-null  int32   \n",
      " 11  capital-loss    48842 non-null  int32   \n",
      " 12  hours-per-week  48842 non-null  int32   \n",
      " 13  native-country  48842 non-null  object  \n",
      " 14  income          48842 non-null  object  \n",
      "dtypes: category(7), int32(6), object(2)\n",
      "memory usage: 2.6+ MB\n"
     ]
    }
   ],
   "source": [
    "adult.info()"
   ]
  },
  {
   "cell_type": "code",
   "execution_count": null,
   "metadata": {},
   "outputs": [
    {
     "name": "stdout",
     "output_type": "stream",
     "text": [
      "\u001b[3;92mTrue\u001b[0m\n"
     ]
    }
   ],
   "source": [
    "np.all(adult == dec)"
   ]
  },
  {
   "cell_type": "code",
   "execution_count": null,
   "metadata": {},
   "outputs": [],
   "source": [
    "mtrn = TableTransformer(admissions_meta, \"table\")\n",
    "mtrn.fit(admissions)"
   ]
  },
  {
   "cell_type": "code",
   "execution_count": null,
   "metadata": {},
   "outputs": [
    {
     "name": "stdout",
     "output_type": "stream",
     "text": [
      "<class 'pandas.core.frame.DataFrame'>\n",
      "Int64Index: 523740 entries, 21038362 to 24981356\n",
      "Data columns (total 24 columns):\n",
      " #   Column                Non-Null Count   Dtype  \n",
      "---  ------                --------------   -----  \n",
      " 0   dod_year              34446 non-null   float32\n",
      " 1   dod_week              523740 non-null  uint8  \n",
      " 2   dod_day               523740 non-null  uint8  \n",
      " 3   admittime_year        523740 non-null  float32\n",
      " 4   admittime_week        523740 non-null  uint8  \n",
      " 5   admittime_day         523740 non-null  uint8  \n",
      " 6   admittime_time        523740 non-null  uint8  \n",
      " 7   dischtime_year        523740 non-null  float32\n",
      " 8   dischtime_week        523740 non-null  uint8  \n",
      " 9   dischtime_day         523740 non-null  uint8  \n",
      " 10  dischtime_time        523740 non-null  uint8  \n",
      " 11  deathtime_year        9337 non-null    float32\n",
      " 12  deathtime_week        523740 non-null  uint8  \n",
      " 13  deathtime_day         523740 non-null  uint8  \n",
      " 14  deathtime_time        523740 non-null  uint8  \n",
      " 15  admission_type        523740 non-null  uint8  \n",
      " 16  admission_location    523740 non-null  uint8  \n",
      " 17  discharge_location    523740 non-null  uint8  \n",
      " 18  insurance             523740 non-null  uint8  \n",
      " 19  language              523740 non-null  uint8  \n",
      " 20  marital_status        523740 non-null  uint8  \n",
      " 21  ethnicity             523740 non-null  uint8  \n",
      " 22  hospital_expire_flag  523740 non-null  uint8  \n",
      " 23  gender                523740 non-null  uint8  \n",
      "dtypes: float32(4), uint8(20)\n",
      "memory usage: 38.1 MB\n"
     ]
    }
   ],
   "source": [
    "menc = mtrn.transform(admissions)\n",
    "menc.info()"
   ]
  },
  {
   "cell_type": "code",
   "execution_count": null,
   "metadata": {},
   "outputs": [
    {
     "name": "stdout",
     "output_type": "stream",
     "text": [
      "<class 'pandas.core.frame.DataFrame'>\n",
      "Int64Index: 523740 entries, 21038362 to 24981356\n",
      "Data columns (total 14 columns):\n",
      " #   Column                Non-Null Count   Dtype         \n",
      "---  ------                --------------   -----         \n",
      " 0   birth_year            523740 non-null  datetime64[ns]\n",
      " 1   dod                   34446 non-null   datetime64[ns]\n",
      " 2   admittime             523740 non-null  datetime64[ns]\n",
      " 3   dischtime             523740 non-null  datetime64[ns]\n",
      " 4   deathtime             9337 non-null    datetime64[ns]\n",
      " 5   admission_type        523740 non-null  category      \n",
      " 6   admission_location    463305 non-null  object        \n",
      " 7   discharge_location    397083 non-null  object        \n",
      " 8   insurance             523740 non-null  category      \n",
      " 9   language              523740 non-null  category      \n",
      " 10  marital_status        457633 non-null  category      \n",
      " 11  ethnicity             523740 non-null  category      \n",
      " 12  hospital_expire_flag  523740 non-null  int64         \n",
      " 13  gender                523740 non-null  category      \n",
      "dtypes: category(6), datetime64[ns](5), int64(1), object(2)\n",
      "memory usage: 55.1+ MB\n"
     ]
    }
   ],
   "source": [
    "mdec = mtrn.reverse(menc)\n",
    "mdec.info()"
   ]
  },
  {
   "cell_type": "code",
   "execution_count": null,
   "metadata": {},
   "outputs": [
    {
     "name": "stdout",
     "output_type": "stream",
     "text": [
      "<class 'pandas.core.frame.DataFrame'>\n",
      "Int64Index: 523740 entries, 21038362 to 24981356\n",
      "Data columns (total 14 columns):\n",
      " #   Column                Non-Null Count   Dtype         \n",
      "---  ------                --------------   -----         \n",
      " 0   admittime             523740 non-null  datetime64[ns]\n",
      " 1   dischtime             523740 non-null  datetime64[ns]\n",
      " 2   deathtime             9337 non-null    datetime64[ns]\n",
      " 3   admission_type        523740 non-null  category      \n",
      " 4   admission_location    463305 non-null  object        \n",
      " 5   discharge_location    397083 non-null  object        \n",
      " 6   insurance             523740 non-null  category      \n",
      " 7   language              523740 non-null  category      \n",
      " 8   marital_status        457633 non-null  category      \n",
      " 9   ethnicity             523740 non-null  category      \n",
      " 10  hospital_expire_flag  523740 non-null  int64         \n",
      " 11  gender                523740 non-null  category      \n",
      " 12  dod                   34446 non-null   datetime64[ns]\n",
      " 13  birth_year            523740 non-null  datetime64[ns]\n",
      "dtypes: category(6), datetime64[ns](5), int64(1), object(2)\n",
      "memory usage: 55.1+ MB\n"
     ]
    }
   ],
   "source": [
    "adm = admissions.drop(columns=[\"subject_id\", \"year_group\", \"edregtime\", \"edouttime\"])\n",
    "adm.info()"
   ]
  },
  {
   "cell_type": "code",
   "execution_count": null,
   "metadata": {},
   "outputs": [
    {
     "name": "stdout",
     "output_type": "stream",
     "text": [
      "\u001b[1m<\u001b[0m\u001b[1;95mpandas.io.formats.style.Styler\u001b[0m\u001b[39m object at \u001b[0m\u001b[1;36m0x7f199efcfdf0\u001b[0m\u001b[1m>\u001b[0m\n"
     ]
    },
    {
     "data": {
      "text/html": [
       "<style type=\"text/css\">\n",
       "</style>\n",
       "<table id=\"T_00000\">\n",
       "  <thead>\n",
       "    <tr>\n",
       "      <th class=\"blank level0\" >&nbsp;</th>\n",
       "      <th id=\"T_00000_level0_col0\" class=\"col_heading level0 col0\" >admittime</th>\n",
       "      <th id=\"T_00000_level0_col1\" class=\"col_heading level0 col1\" >dischtime</th>\n",
       "      <th id=\"T_00000_level0_col2\" class=\"col_heading level0 col2\" >deathtime</th>\n",
       "      <th id=\"T_00000_level0_col3\" class=\"col_heading level0 col3\" >admission_type</th>\n",
       "      <th id=\"T_00000_level0_col4\" class=\"col_heading level0 col4\" >admission_location</th>\n",
       "      <th id=\"T_00000_level0_col5\" class=\"col_heading level0 col5\" >discharge_location</th>\n",
       "      <th id=\"T_00000_level0_col6\" class=\"col_heading level0 col6\" >insurance</th>\n",
       "      <th id=\"T_00000_level0_col7\" class=\"col_heading level0 col7\" >language</th>\n",
       "      <th id=\"T_00000_level0_col8\" class=\"col_heading level0 col8\" >marital_status</th>\n",
       "      <th id=\"T_00000_level0_col9\" class=\"col_heading level0 col9\" >ethnicity</th>\n",
       "      <th id=\"T_00000_level0_col10\" class=\"col_heading level0 col10\" >hospital_expire_flag</th>\n",
       "      <th id=\"T_00000_level0_col11\" class=\"col_heading level0 col11\" >gender</th>\n",
       "      <th id=\"T_00000_level0_col12\" class=\"col_heading level0 col12\" >dod</th>\n",
       "      <th id=\"T_00000_level0_col13\" class=\"col_heading level0 col13\" >birth_year</th>\n",
       "    </tr>\n",
       "    <tr>\n",
       "      <th class=\"index_name level0\" >hadm_id</th>\n",
       "      <th class=\"blank col0\" >&nbsp;</th>\n",
       "      <th class=\"blank col1\" >&nbsp;</th>\n",
       "      <th class=\"blank col2\" >&nbsp;</th>\n",
       "      <th class=\"blank col3\" >&nbsp;</th>\n",
       "      <th class=\"blank col4\" >&nbsp;</th>\n",
       "      <th class=\"blank col5\" >&nbsp;</th>\n",
       "      <th class=\"blank col6\" >&nbsp;</th>\n",
       "      <th class=\"blank col7\" >&nbsp;</th>\n",
       "      <th class=\"blank col8\" >&nbsp;</th>\n",
       "      <th class=\"blank col9\" >&nbsp;</th>\n",
       "      <th class=\"blank col10\" >&nbsp;</th>\n",
       "      <th class=\"blank col11\" >&nbsp;</th>\n",
       "      <th class=\"blank col12\" >&nbsp;</th>\n",
       "      <th class=\"blank col13\" >&nbsp;</th>\n",
       "    </tr>\n",
       "  </thead>\n",
       "  <tbody>\n",
       "    <tr>\n",
       "      <th id=\"T_00000_level0_row0\" class=\"row_heading level0 row0\" >21038362</th>\n",
       "      <td id=\"T_00000_row0_col0\" class=\"data row0 col0\" >2139-09-26 14:16:00</td>\n",
       "      <td id=\"T_00000_row0_col1\" class=\"data row0 col1\" >2139-09-28 11:30:00</td>\n",
       "      <td id=\"T_00000_row0_col2\" class=\"data row0 col2\" >NaT</td>\n",
       "      <td id=\"T_00000_row0_col3\" class=\"data row0 col3\" >ELECTIVE</td>\n",
       "      <td id=\"T_00000_row0_col4\" class=\"data row0 col4\" >None</td>\n",
       "      <td id=\"T_00000_row0_col5\" class=\"data row0 col5\" >HOME</td>\n",
       "      <td id=\"T_00000_row0_col6\" class=\"data row0 col6\" >Other</td>\n",
       "      <td id=\"T_00000_row0_col7\" class=\"data row0 col7\" >ENGLISH</td>\n",
       "      <td id=\"T_00000_row0_col8\" class=\"data row0 col8\" >SINGLE</td>\n",
       "      <td id=\"T_00000_row0_col9\" class=\"data row0 col9\" >UNKNOWN</td>\n",
       "      <td id=\"T_00000_row0_col10\" class=\"data row0 col10\" >0</td>\n",
       "      <td id=\"T_00000_row0_col11\" class=\"data row0 col11\" >F</td>\n",
       "      <td id=\"T_00000_row0_col12\" class=\"data row0 col12\" >NaT</td>\n",
       "      <td id=\"T_00000_row0_col13\" class=\"data row0 col13\" >2139-01-01 00:00:00</td>\n",
       "    </tr>\n",
       "    <tr>\n",
       "      <th id=\"T_00000_level0_row1\" class=\"row_heading level0 row1\" >24941086</th>\n",
       "      <td id=\"T_00000_row1_col0\" class=\"data row1 col0\" >2123-10-07 23:56:00</td>\n",
       "      <td id=\"T_00000_row1_col1\" class=\"data row1 col1\" >2123-10-12 11:22:00</td>\n",
       "      <td id=\"T_00000_row1_col2\" class=\"data row1 col2\" >NaT</td>\n",
       "      <td id=\"T_00000_row1_col3\" class=\"data row1 col3\" >ELECTIVE</td>\n",
       "      <td id=\"T_00000_row1_col4\" class=\"data row1 col4\" >None</td>\n",
       "      <td id=\"T_00000_row1_col5\" class=\"data row1 col5\" >HOME</td>\n",
       "      <td id=\"T_00000_row1_col6\" class=\"data row1 col6\" >Other</td>\n",
       "      <td id=\"T_00000_row1_col7\" class=\"data row1 col7\" >ENGLISH</td>\n",
       "      <td id=\"T_00000_row1_col8\" class=\"data row1 col8\" >nan</td>\n",
       "      <td id=\"T_00000_row1_col9\" class=\"data row1 col9\" >WHITE</td>\n",
       "      <td id=\"T_00000_row1_col10\" class=\"data row1 col10\" >0</td>\n",
       "      <td id=\"T_00000_row1_col11\" class=\"data row1 col11\" >F</td>\n",
       "      <td id=\"T_00000_row1_col12\" class=\"data row1 col12\" >NaT</td>\n",
       "      <td id=\"T_00000_row1_col13\" class=\"data row1 col13\" >2123-01-01 00:00:00</td>\n",
       "    </tr>\n",
       "    <tr>\n",
       "      <th id=\"T_00000_level0_row2\" class=\"row_heading level0 row2\" >21965160</th>\n",
       "      <td id=\"T_00000_row2_col0\" class=\"data row2 col0\" >2147-01-14 09:00:00</td>\n",
       "      <td id=\"T_00000_row2_col1\" class=\"data row2 col1\" >2147-01-17 14:25:00</td>\n",
       "      <td id=\"T_00000_row2_col2\" class=\"data row2 col2\" >NaT</td>\n",
       "      <td id=\"T_00000_row2_col3\" class=\"data row2 col3\" >ELECTIVE</td>\n",
       "      <td id=\"T_00000_row2_col4\" class=\"data row2 col4\" >None</td>\n",
       "      <td id=\"T_00000_row2_col5\" class=\"data row2 col5\" >HOME</td>\n",
       "      <td id=\"T_00000_row2_col6\" class=\"data row2 col6\" >Other</td>\n",
       "      <td id=\"T_00000_row2_col7\" class=\"data row2 col7\" >ENGLISH</td>\n",
       "      <td id=\"T_00000_row2_col8\" class=\"data row2 col8\" >nan</td>\n",
       "      <td id=\"T_00000_row2_col9\" class=\"data row2 col9\" >UNKNOWN</td>\n",
       "      <td id=\"T_00000_row2_col10\" class=\"data row2 col10\" >0</td>\n",
       "      <td id=\"T_00000_row2_col11\" class=\"data row2 col11\" >M</td>\n",
       "      <td id=\"T_00000_row2_col12\" class=\"data row2 col12\" >NaT</td>\n",
       "      <td id=\"T_00000_row2_col13\" class=\"data row2 col13\" >2147-01-01 00:00:00</td>\n",
       "    </tr>\n",
       "    <tr>\n",
       "      <th id=\"T_00000_level0_row3\" class=\"row_heading level0 row3\" >24709883</th>\n",
       "      <td id=\"T_00000_row3_col0\" class=\"data row3 col0\" >2165-12-27 17:33:00</td>\n",
       "      <td id=\"T_00000_row3_col1\" class=\"data row3 col1\" >2165-12-31 21:18:00</td>\n",
       "      <td id=\"T_00000_row3_col2\" class=\"data row3 col2\" >NaT</td>\n",
       "      <td id=\"T_00000_row3_col3\" class=\"data row3 col3\" >ELECTIVE</td>\n",
       "      <td id=\"T_00000_row3_col4\" class=\"data row3 col4\" >None</td>\n",
       "      <td id=\"T_00000_row3_col5\" class=\"data row3 col5\" >HOME</td>\n",
       "      <td id=\"T_00000_row3_col6\" class=\"data row3 col6\" >Other</td>\n",
       "      <td id=\"T_00000_row3_col7\" class=\"data row3 col7\" >ENGLISH</td>\n",
       "      <td id=\"T_00000_row3_col8\" class=\"data row3 col8\" >nan</td>\n",
       "      <td id=\"T_00000_row3_col9\" class=\"data row3 col9\" >OTHER</td>\n",
       "      <td id=\"T_00000_row3_col10\" class=\"data row3 col10\" >0</td>\n",
       "      <td id=\"T_00000_row3_col11\" class=\"data row3 col11\" >F</td>\n",
       "      <td id=\"T_00000_row3_col12\" class=\"data row3 col12\" >NaT</td>\n",
       "      <td id=\"T_00000_row3_col13\" class=\"data row3 col13\" >2165-01-01 00:00:00</td>\n",
       "    </tr>\n",
       "    <tr>\n",
       "      <th id=\"T_00000_level0_row4\" class=\"row_heading level0 row4\" >23272159</th>\n",
       "      <td id=\"T_00000_row4_col0\" class=\"data row4 col0\" >2122-08-28 08:48:00</td>\n",
       "      <td id=\"T_00000_row4_col1\" class=\"data row4 col1\" >2122-08-30 12:32:00</td>\n",
       "      <td id=\"T_00000_row4_col2\" class=\"data row4 col2\" >NaT</td>\n",
       "      <td id=\"T_00000_row4_col3\" class=\"data row4 col3\" >ELECTIVE</td>\n",
       "      <td id=\"T_00000_row4_col4\" class=\"data row4 col4\" >None</td>\n",
       "      <td id=\"T_00000_row4_col5\" class=\"data row4 col5\" >HOME</td>\n",
       "      <td id=\"T_00000_row4_col6\" class=\"data row4 col6\" >Other</td>\n",
       "      <td id=\"T_00000_row4_col7\" class=\"data row4 col7\" >ENGLISH</td>\n",
       "      <td id=\"T_00000_row4_col8\" class=\"data row4 col8\" >nan</td>\n",
       "      <td id=\"T_00000_row4_col9\" class=\"data row4 col9\" >BLACK/AFRICAN AMERICAN</td>\n",
       "      <td id=\"T_00000_row4_col10\" class=\"data row4 col10\" >0</td>\n",
       "      <td id=\"T_00000_row4_col11\" class=\"data row4 col11\" >M</td>\n",
       "      <td id=\"T_00000_row4_col12\" class=\"data row4 col12\" >NaT</td>\n",
       "      <td id=\"T_00000_row4_col13\" class=\"data row4 col13\" >2122-01-01 00:00:00</td>\n",
       "    </tr>\n",
       "  </tbody>\n",
       "</table>\n"
      ]
     },
     "execution_count": null,
     "metadata": {},
     "output_type": "execute_result"
    }
   ],
   "source": [
    "cols = list(adm.columns)\n",
    "\n",
    "adm[cols].head().style"
   ]
  },
  {
   "cell_type": "code",
   "execution_count": null,
   "metadata": {},
   "outputs": [
    {
     "name": "stdout",
     "output_type": "stream",
     "text": [
      "\u001b[1m<\u001b[0m\u001b[1;95mpandas.io.formats.style.Styler\u001b[0m\u001b[39m object at \u001b[0m\u001b[1;36m0x7f199876aa70\u001b[0m\u001b[1m>\u001b[0m\n"
     ]
    },
    {
     "data": {
      "text/html": [
       "<style type=\"text/css\">\n",
       "</style>\n",
       "<table id=\"T_00000\">\n",
       "  <thead>\n",
       "    <tr>\n",
       "      <th class=\"blank level0\" >&nbsp;</th>\n",
       "      <th id=\"T_00000_level0_col0\" class=\"col_heading level0 col0\" >admittime</th>\n",
       "      <th id=\"T_00000_level0_col1\" class=\"col_heading level0 col1\" >dischtime</th>\n",
       "      <th id=\"T_00000_level0_col2\" class=\"col_heading level0 col2\" >deathtime</th>\n",
       "      <th id=\"T_00000_level0_col3\" class=\"col_heading level0 col3\" >admission_type</th>\n",
       "      <th id=\"T_00000_level0_col4\" class=\"col_heading level0 col4\" >admission_location</th>\n",
       "      <th id=\"T_00000_level0_col5\" class=\"col_heading level0 col5\" >discharge_location</th>\n",
       "      <th id=\"T_00000_level0_col6\" class=\"col_heading level0 col6\" >insurance</th>\n",
       "      <th id=\"T_00000_level0_col7\" class=\"col_heading level0 col7\" >language</th>\n",
       "      <th id=\"T_00000_level0_col8\" class=\"col_heading level0 col8\" >marital_status</th>\n",
       "      <th id=\"T_00000_level0_col9\" class=\"col_heading level0 col9\" >ethnicity</th>\n",
       "      <th id=\"T_00000_level0_col10\" class=\"col_heading level0 col10\" >hospital_expire_flag</th>\n",
       "      <th id=\"T_00000_level0_col11\" class=\"col_heading level0 col11\" >gender</th>\n",
       "      <th id=\"T_00000_level0_col12\" class=\"col_heading level0 col12\" >dod</th>\n",
       "      <th id=\"T_00000_level0_col13\" class=\"col_heading level0 col13\" >birth_year</th>\n",
       "    </tr>\n",
       "    <tr>\n",
       "      <th class=\"index_name level0\" >hadm_id</th>\n",
       "      <th class=\"blank col0\" >&nbsp;</th>\n",
       "      <th class=\"blank col1\" >&nbsp;</th>\n",
       "      <th class=\"blank col2\" >&nbsp;</th>\n",
       "      <th class=\"blank col3\" >&nbsp;</th>\n",
       "      <th class=\"blank col4\" >&nbsp;</th>\n",
       "      <th class=\"blank col5\" >&nbsp;</th>\n",
       "      <th class=\"blank col6\" >&nbsp;</th>\n",
       "      <th class=\"blank col7\" >&nbsp;</th>\n",
       "      <th class=\"blank col8\" >&nbsp;</th>\n",
       "      <th class=\"blank col9\" >&nbsp;</th>\n",
       "      <th class=\"blank col10\" >&nbsp;</th>\n",
       "      <th class=\"blank col11\" >&nbsp;</th>\n",
       "      <th class=\"blank col12\" >&nbsp;</th>\n",
       "      <th class=\"blank col13\" >&nbsp;</th>\n",
       "    </tr>\n",
       "  </thead>\n",
       "  <tbody>\n",
       "    <tr>\n",
       "      <th id=\"T_00000_level0_row0\" class=\"row_heading level0 row0\" >21038362</th>\n",
       "      <td id=\"T_00000_row0_col0\" class=\"data row0 col0\" >2000-09-30 14:00:00</td>\n",
       "      <td id=\"T_00000_row0_col1\" class=\"data row0 col1\" >2000-10-02 11:30:00</td>\n",
       "      <td id=\"T_00000_row0_col2\" class=\"data row0 col2\" >NaT</td>\n",
       "      <td id=\"T_00000_row0_col3\" class=\"data row0 col3\" >ELECTIVE</td>\n",
       "      <td id=\"T_00000_row0_col4\" class=\"data row0 col4\" ><NA></td>\n",
       "      <td id=\"T_00000_row0_col5\" class=\"data row0 col5\" >HOME</td>\n",
       "      <td id=\"T_00000_row0_col6\" class=\"data row0 col6\" >Other</td>\n",
       "      <td id=\"T_00000_row0_col7\" class=\"data row0 col7\" >ENGLISH</td>\n",
       "      <td id=\"T_00000_row0_col8\" class=\"data row0 col8\" >SINGLE</td>\n",
       "      <td id=\"T_00000_row0_col9\" class=\"data row0 col9\" >UNKNOWN</td>\n",
       "      <td id=\"T_00000_row0_col10\" class=\"data row0 col10\" >0</td>\n",
       "      <td id=\"T_00000_row0_col11\" class=\"data row0 col11\" >F</td>\n",
       "      <td id=\"T_00000_row0_col12\" class=\"data row0 col12\" >NaT</td>\n",
       "      <td id=\"T_00000_row0_col13\" class=\"data row0 col13\" >2000-01-01 00:00:00</td>\n",
       "    </tr>\n",
       "    <tr>\n",
       "      <th id=\"T_00000_level0_row1\" class=\"row_heading level0 row1\" >24941086</th>\n",
       "      <td id=\"T_00000_row1_col0\" class=\"data row1 col0\" >2000-10-05 23:30:00</td>\n",
       "      <td id=\"T_00000_row1_col1\" class=\"data row1 col1\" >2000-10-10 11:00:00</td>\n",
       "      <td id=\"T_00000_row1_col2\" class=\"data row1 col2\" >NaT</td>\n",
       "      <td id=\"T_00000_row1_col3\" class=\"data row1 col3\" >ELECTIVE</td>\n",
       "      <td id=\"T_00000_row1_col4\" class=\"data row1 col4\" ><NA></td>\n",
       "      <td id=\"T_00000_row1_col5\" class=\"data row1 col5\" >HOME</td>\n",
       "      <td id=\"T_00000_row1_col6\" class=\"data row1 col6\" >Other</td>\n",
       "      <td id=\"T_00000_row1_col7\" class=\"data row1 col7\" >ENGLISH</td>\n",
       "      <td id=\"T_00000_row1_col8\" class=\"data row1 col8\" >nan</td>\n",
       "      <td id=\"T_00000_row1_col9\" class=\"data row1 col9\" >WHITE</td>\n",
       "      <td id=\"T_00000_row1_col10\" class=\"data row1 col10\" >0</td>\n",
       "      <td id=\"T_00000_row1_col11\" class=\"data row1 col11\" >F</td>\n",
       "      <td id=\"T_00000_row1_col12\" class=\"data row1 col12\" >NaT</td>\n",
       "      <td id=\"T_00000_row1_col13\" class=\"data row1 col13\" >2000-01-01 00:00:00</td>\n",
       "    </tr>\n",
       "    <tr>\n",
       "      <th id=\"T_00000_level0_row2\" class=\"row_heading level0 row2\" >21965160</th>\n",
       "      <td id=\"T_00000_row2_col0\" class=\"data row2 col0\" >2000-01-15 09:00:00</td>\n",
       "      <td id=\"T_00000_row2_col1\" class=\"data row2 col1\" >2000-01-18 14:00:00</td>\n",
       "      <td id=\"T_00000_row2_col2\" class=\"data row2 col2\" >NaT</td>\n",
       "      <td id=\"T_00000_row2_col3\" class=\"data row2 col3\" >ELECTIVE</td>\n",
       "      <td id=\"T_00000_row2_col4\" class=\"data row2 col4\" ><NA></td>\n",
       "      <td id=\"T_00000_row2_col5\" class=\"data row2 col5\" >HOME</td>\n",
       "      <td id=\"T_00000_row2_col6\" class=\"data row2 col6\" >Other</td>\n",
       "      <td id=\"T_00000_row2_col7\" class=\"data row2 col7\" >ENGLISH</td>\n",
       "      <td id=\"T_00000_row2_col8\" class=\"data row2 col8\" >nan</td>\n",
       "      <td id=\"T_00000_row2_col9\" class=\"data row2 col9\" >UNKNOWN</td>\n",
       "      <td id=\"T_00000_row2_col10\" class=\"data row2 col10\" >0</td>\n",
       "      <td id=\"T_00000_row2_col11\" class=\"data row2 col11\" >M</td>\n",
       "      <td id=\"T_00000_row2_col12\" class=\"data row2 col12\" >NaT</td>\n",
       "      <td id=\"T_00000_row2_col13\" class=\"data row2 col13\" >2000-01-01 00:00:00</td>\n",
       "    </tr>\n",
       "    <tr>\n",
       "      <th id=\"T_00000_level0_row3\" class=\"row_heading level0 row3\" >24709883</th>\n",
       "      <td id=\"T_00000_row3_col0\" class=\"data row3 col0\" >2000-12-29 17:30:00</td>\n",
       "      <td id=\"T_00000_row3_col1\" class=\"data row3 col1\" >2000-01-04 21:00:00</td>\n",
       "      <td id=\"T_00000_row3_col2\" class=\"data row3 col2\" >NaT</td>\n",
       "      <td id=\"T_00000_row3_col3\" class=\"data row3 col3\" >ELECTIVE</td>\n",
       "      <td id=\"T_00000_row3_col4\" class=\"data row3 col4\" ><NA></td>\n",
       "      <td id=\"T_00000_row3_col5\" class=\"data row3 col5\" >HOME</td>\n",
       "      <td id=\"T_00000_row3_col6\" class=\"data row3 col6\" >Other</td>\n",
       "      <td id=\"T_00000_row3_col7\" class=\"data row3 col7\" >ENGLISH</td>\n",
       "      <td id=\"T_00000_row3_col8\" class=\"data row3 col8\" >nan</td>\n",
       "      <td id=\"T_00000_row3_col9\" class=\"data row3 col9\" >OTHER</td>\n",
       "      <td id=\"T_00000_row3_col10\" class=\"data row3 col10\" >0</td>\n",
       "      <td id=\"T_00000_row3_col11\" class=\"data row3 col11\" >F</td>\n",
       "      <td id=\"T_00000_row3_col12\" class=\"data row3 col12\" >NaT</td>\n",
       "      <td id=\"T_00000_row3_col13\" class=\"data row3 col13\" >2000-01-01 00:00:00</td>\n",
       "    </tr>\n",
       "    <tr>\n",
       "      <th id=\"T_00000_level0_row4\" class=\"row_heading level0 row4\" >23272159</th>\n",
       "      <td id=\"T_00000_row4_col0\" class=\"data row4 col0\" >2000-09-01 08:30:00</td>\n",
       "      <td id=\"T_00000_row4_col1\" class=\"data row4 col1\" >2000-09-03 12:30:00</td>\n",
       "      <td id=\"T_00000_row4_col2\" class=\"data row4 col2\" >NaT</td>\n",
       "      <td id=\"T_00000_row4_col3\" class=\"data row4 col3\" >ELECTIVE</td>\n",
       "      <td id=\"T_00000_row4_col4\" class=\"data row4 col4\" ><NA></td>\n",
       "      <td id=\"T_00000_row4_col5\" class=\"data row4 col5\" >HOME</td>\n",
       "      <td id=\"T_00000_row4_col6\" class=\"data row4 col6\" >Other</td>\n",
       "      <td id=\"T_00000_row4_col7\" class=\"data row4 col7\" >ENGLISH</td>\n",
       "      <td id=\"T_00000_row4_col8\" class=\"data row4 col8\" >nan</td>\n",
       "      <td id=\"T_00000_row4_col9\" class=\"data row4 col9\" >BLACK/AFRICAN AMERICAN</td>\n",
       "      <td id=\"T_00000_row4_col10\" class=\"data row4 col10\" >0</td>\n",
       "      <td id=\"T_00000_row4_col11\" class=\"data row4 col11\" >M</td>\n",
       "      <td id=\"T_00000_row4_col12\" class=\"data row4 col12\" >NaT</td>\n",
       "      <td id=\"T_00000_row4_col13\" class=\"data row4 col13\" >2000-01-01 00:00:00</td>\n",
       "    </tr>\n",
       "  </tbody>\n",
       "</table>\n"
      ]
     },
     "execution_count": null,
     "metadata": {},
     "output_type": "execute_result"
    }
   ],
   "source": [
    "mdec[cols].head().style"
   ]
  },
  {
   "cell_type": "code",
   "execution_count": null,
   "metadata": {},
   "outputs": [
    {
     "name": "stdout",
     "output_type": "stream",
     "text": [
      "\n",
      "hadm_id\n",
      "\u001b[1;36m21038362\u001b[0m     \u001b[1;36m0.0\u001b[0m\n",
      "\u001b[1;36m24941086\u001b[0m     \u001b[1;36m0.0\u001b[0m\n",
      "\u001b[1;36m21965160\u001b[0m     \u001b[1;36m0.0\u001b[0m\n",
      "\u001b[1;36m24709883\u001b[0m     \u001b[1;36m0.0\u001b[0m\n",
      "\u001b[1;36m23272159\u001b[0m     \u001b[1;36m0.0\u001b[0m\n",
      "            \u001b[33m...\u001b[0m \n",
      "\u001b[1;36m20786062\u001b[0m    \u001b[1;36m33.0\u001b[0m\n",
      "\u001b[1;36m20943099\u001b[0m    \u001b[1;36m45.0\u001b[0m\n",
      "\u001b[1;36m23176714\u001b[0m    \u001b[1;36m76.0\u001b[0m\n",
      "\u001b[1;36m22347500\u001b[0m    \u001b[1;36m48.0\u001b[0m\n",
      "\u001b[1;36m24981356\u001b[0m    \u001b[1;36m86.0\u001b[0m\n",
      "Name: admittime_year, Length: \u001b[1;36m523740\u001b[0m, dtype: float32\n"
     ]
    }
   ],
   "source": [
    "menc[\"admittime_year\"]"
   ]
  },
  {
   "cell_type": "code",
   "execution_count": null,
   "metadata": {},
   "outputs": [],
   "source": []
  }
 ],
 "metadata": {
  "language_info": {
   "codemirror_mode": {
    "name": "ipython",
    "version": 3
   },
   "file_extension": ".py",
   "mimetype": "text/x-python",
   "name": "python",
   "nbconvert_exporter": "python",
   "pygments_lexer": "ipython3",
   "version": "3.10.6"
  },
  "vscode": {
   "interpreter": {
    "hash": "97cc609b13305c559618ec78a438abc56230b9381f827f22d070313b9a1f3777"
   }
  }
 },
 "nbformat": 4,
 "nbformat_minor": 2
}
