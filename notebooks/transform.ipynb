{
 "cells": [
  {
   "cell_type": "code",
   "execution_count": null,
   "metadata": {},
   "outputs": [],
   "source": [
    "from pasteur.kedro.ipython import *\n",
    "register_kedro()"
   ]
  },
  {
   "cell_type": "code",
   "execution_count": null,
   "metadata": {},
   "outputs": [],
   "source": [
    "%load_ext autoreload\n",
    "%autoreload 2"
   ]
  },
  {
   "cell_type": "code",
   "execution_count": null,
   "metadata": {},
   "outputs": [],
   "source": [
    "import pandas as pd\n",
    "import numpy as np"
   ]
  },
  {
   "cell_type": "code",
   "execution_count": null,
   "metadata": {},
   "outputs": [],
   "source": [
    "from pasteur.metadata import Metadata\n",
    "adult: pd.DataFrame = catalog.load(\"tab_adult.view.table\")\n",
    "admissions: pd.DataFrame = catalog.load(\"mimic_tab_admissions.view.table\")\n",
    "\n",
    "adult_meta: Metadata = catalog.load(\"tab_adult.view.metadata\")\n",
    "admissions_meta: Metadata = catalog.load(\"mimic_tab_admissions.view.metadata\")"
   ]
  },
  {
   "cell_type": "code",
   "execution_count": null,
   "metadata": {},
   "outputs": [],
   "source": [
    "from pasteur.transform.table import TableTransformer"
   ]
  },
  {
   "cell_type": "code",
   "execution_count": null,
   "metadata": {},
   "outputs": [
    {
     "name": "stdout",
     "output_type": "stream",
     "text": [
      "\n",
      "\u001b[1m{\u001b[0m\n",
      "    \u001b[32m'age'\u001b[0m: Attr\u001b[1m[\u001b[0m\u001b[33mna\u001b[0m=\u001b[1;36m0\u001b[0m,\u001b[33mukn\u001b[0m=\u001b[1;36m0\u001b[0m\u001b[1m]\u001b[0m\u001b[1m{\u001b[0m\u001b[32m'age'\u001b[0m: Num\u001b[1m[\u001b[0m\u001b[1;36m64\u001b[0m,nan\u001b[1m<\u001b[0m\u001b[1;95mx\u001b[0m\u001b[39m<nan\u001b[0m\u001b[1;39m]\u001b[0m\u001b[1;39m}\u001b[0m\u001b[39m,\u001b[0m\n",
      "\u001b[39m    \u001b[0m\u001b[32m'workclass'\u001b[0m\u001b[39m: Attr\u001b[0m\u001b[1;39m[\u001b[0m\u001b[33mna\u001b[0m\u001b[39m=\u001b[0m\u001b[1;36m0\u001b[0m\u001b[39m,\u001b[0m\u001b[33mukn\u001b[0m\u001b[39m=\u001b[0m\u001b[1;36m0\u001b[0m\u001b[1;39m]\u001b[0m\u001b[1;39m{\u001b[0m\u001b[32m'workclass'\u001b[0m\u001b[39m: Idx\u001b[0m\u001b[1;39m{\u001b[0m\u001b[32m'?'\u001b[0m\u001b[39m, \u001b[0m\u001b[32m'Federal-gov'\u001b[0m\u001b[39m, \u001b[0m\u001b[32m'Local-gov'\u001b[0m\u001b[39m, \u001b[0m\u001b[32m'Never-worked'\u001b[0m\u001b[39m, \u001b[0m\u001b[32m'Private'\u001b[0m\u001b[39m, \u001b[0m\u001b[32m'Self-emp-inc'\u001b[0m\u001b[39m, \u001b[0m\u001b[32m'Self-emp-not-inc'\u001b[0m\u001b[39m, \u001b[0m\u001b[32m'State-gov'\u001b[0m\u001b[39m, \u001b[0m\u001b[32m'Without-pay'\u001b[0m\u001b[1;39m}\u001b[0m\u001b[1;39m}\u001b[0m\u001b[39m,\u001b[0m\n",
      "\u001b[39m    \u001b[0m\u001b[32m'fnlwgt'\u001b[0m\u001b[39m: Attr\u001b[0m\u001b[1;39m[\u001b[0m\u001b[33mna\u001b[0m\u001b[39m=\u001b[0m\u001b[1;36m0\u001b[0m\u001b[39m,\u001b[0m\u001b[33mukn\u001b[0m\u001b[39m=\u001b[0m\u001b[1;36m0\u001b[0m\u001b[1;39m]\u001b[0m\u001b[1;39m{\u001b[0m\u001b[32m'fnlwgt'\u001b[0m\u001b[39m: Num\u001b[0m\u001b[1;39m[\u001b[0m\u001b[1;36m64\u001b[0m\u001b[39m,nan<x<nan\u001b[0m\u001b[1;39m]\u001b[0m\u001b[1;39m}\u001b[0m\u001b[39m,\u001b[0m\n",
      "\u001b[39m    \u001b[0m\u001b[32m'education'\u001b[0m\u001b[39m: Attr\u001b[0m\u001b[1;39m[\u001b[0m\u001b[33mna\u001b[0m\u001b[39m=\u001b[0m\u001b[1;36m0\u001b[0m\u001b[39m,\u001b[0m\u001b[33mukn\u001b[0m\u001b[39m=\u001b[0m\u001b[1;36m0\u001b[0m\u001b[1;39m]\u001b[0m\u001b[1;39m{\u001b[0m\u001b[32m'education'\u001b[0m\u001b[39m: Idx\u001b[0m\u001b[1;39m{\u001b[0m\u001b[32m'10th'\u001b[0m\u001b[39m, \u001b[0m\u001b[32m'11th'\u001b[0m\u001b[39m, \u001b[0m\u001b[32m'12th'\u001b[0m\u001b[39m, \u001b[0m\u001b[32m'1st-4th'\u001b[0m\u001b[39m, \u001b[0m\u001b[32m'5th-6th'\u001b[0m\u001b[39m, \u001b[0m\u001b[32m'7th-8th'\u001b[0m\u001b[39m, \u001b[0m\u001b[32m'9th'\u001b[0m\u001b[39m, \u001b[0m\u001b[32m'Assoc-acdm'\u001b[0m\u001b[39m, \u001b[0m\u001b[32m'Assoc-voc'\u001b[0m\u001b[39m, \u001b[0m\u001b[32m'Bachelors'\u001b[0m\u001b[39m, \u001b[0m\u001b[32m'Doctorate'\u001b[0m\u001b[39m, \u001b[0m\u001b[32m'HS-grad'\u001b[0m\u001b[39m, \u001b[0m\u001b[32m'Masters'\u001b[0m\u001b[39m, \u001b[0m\u001b[32m'Preschool'\u001b[0m\u001b[39m, \u001b[0m\u001b[32m'Prof-school'\u001b[0m\u001b[39m, \u001b[0m\u001b[32m'Some-college'\u001b[0m\u001b[1;39m}\u001b[0m\u001b[1;39m}\u001b[0m\u001b[39m,\u001b[0m\n",
      "\u001b[39m    \u001b[0m\u001b[32m'education-num'\u001b[0m\u001b[39m: Attr\u001b[0m\u001b[1;39m[\u001b[0m\u001b[33mna\u001b[0m\u001b[39m=\u001b[0m\u001b[1;36m0\u001b[0m\u001b[39m,\u001b[0m\u001b[33mukn\u001b[0m\u001b[39m=\u001b[0m\u001b[1;36m0\u001b[0m\u001b[1;39m]\u001b[0m\u001b[1;39m{\u001b[0m\u001b[32m'education-num'\u001b[0m\u001b[39m: Idx\u001b[0m\u001b[1;39m[\u001b[0m\u001b[32m'1'\u001b[0m\u001b[39m, \u001b[0m\u001b[32m'2'\u001b[0m\u001b[39m, \u001b[0m\u001b[32m'3'\u001b[0m\u001b[39m, \u001b[0m\u001b[32m'4'\u001b[0m\u001b[39m, \u001b[0m\u001b[32m'5'\u001b[0m\u001b[39m, \u001b[0m\u001b[32m'6'\u001b[0m\u001b[39m, \u001b[0m\u001b[32m'7'\u001b[0m\u001b[39m, \u001b[0m\u001b[32m'8'\u001b[0m\u001b[39m, \u001b[0m\u001b[32m'9'\u001b[0m\u001b[39m, \u001b[0m\u001b[32m'10'\u001b[0m\u001b[39m, \u001b[0m\u001b[32m'11'\u001b[0m\u001b[39m, \u001b[0m\u001b[32m'12'\u001b[0m\u001b[39m, \u001b[0m\u001b[32m'13'\u001b[0m\u001b[39m, \u001b[0m\u001b[32m'14'\u001b[0m\u001b[39m, \u001b[0m\u001b[32m'15'\u001b[0m\u001b[39m, \u001b[0m\u001b[32m'16'\u001b[0m\u001b[1;39m]\u001b[0m\u001b[1;39m}\u001b[0m\u001b[39m,\u001b[0m\n",
      "\u001b[39m    \u001b[0m\u001b[32m'marital-status'\u001b[0m\u001b[39m: Attr\u001b[0m\u001b[1;39m[\u001b[0m\u001b[33mna\u001b[0m\u001b[39m=\u001b[0m\u001b[1;36m0\u001b[0m\u001b[39m,\u001b[0m\u001b[33mukn\u001b[0m\u001b[39m=\u001b[0m\u001b[1;36m0\u001b[0m\u001b[1;39m]\u001b[0m\u001b[1;39m{\u001b[0m\u001b[32m'marital-status'\u001b[0m\u001b[39m: Idx\u001b[0m\u001b[1;39m{\u001b[0m\u001b[32m'Divorced'\u001b[0m\u001b[39m, \u001b[0m\u001b[32m'Married-AF-spouse'\u001b[0m\u001b[39m, \u001b[0m\u001b[32m'Married-civ-spouse'\u001b[0m\u001b[39m, \u001b[0m\u001b[32m'Married-spouse-absent'\u001b[0m\u001b[39m, \u001b[0m\u001b[32m'Never-married'\u001b[0m\u001b[39m, \u001b[0m\u001b[32m'Separated'\u001b[0m\u001b[39m, \u001b[0m\u001b[32m'Widowed'\u001b[0m\u001b[1;39m}\u001b[0m\u001b[1;39m}\u001b[0m\u001b[39m,\u001b[0m\n",
      "\u001b[39m    \u001b[0m\u001b[32m'occupation'\u001b[0m\u001b[39m: Attr\u001b[0m\u001b[1;39m[\u001b[0m\u001b[33mna\u001b[0m\u001b[39m=\u001b[0m\u001b[1;36m0\u001b[0m\u001b[39m,\u001b[0m\u001b[33mukn\u001b[0m\u001b[39m=\u001b[0m\u001b[1;36m0\u001b[0m\u001b[1;39m]\u001b[0m\u001b[1;39m{\u001b[0m\u001b[32m'occupation'\u001b[0m\u001b[39m: Idx\u001b[0m\u001b[1;39m{\u001b[0m\u001b[32m'?'\u001b[0m\u001b[39m, \u001b[0m\u001b[32m'Adm-clerical'\u001b[0m\u001b[39m, \u001b[0m\u001b[32m'Armed-Forces'\u001b[0m\u001b[39m, \u001b[0m\u001b[32m'Craft-repair'\u001b[0m\u001b[39m, \u001b[0m\u001b[32m'Exec-managerial'\u001b[0m\u001b[39m, \u001b[0m\u001b[32m'Farming-fishing'\u001b[0m\u001b[39m, \u001b[0m\u001b[32m'Handlers-cleaners'\u001b[0m\u001b[39m, \u001b[0m\u001b[32m'Machine-op-inspct'\u001b[0m\u001b[39m, \u001b[0m\u001b[32m'Other-service'\u001b[0m\u001b[39m, \u001b[0m\u001b[32m'Priv-house-serv'\u001b[0m\u001b[39m, \u001b[0m\u001b[32m'Prof-specialty'\u001b[0m\u001b[39m, \u001b[0m\u001b[32m'Protective-serv'\u001b[0m\u001b[39m, \u001b[0m\u001b[32m'Sales'\u001b[0m\u001b[39m, \u001b[0m\u001b[32m'Tech-support'\u001b[0m\u001b[39m, \u001b[0m\u001b[32m'Transport-moving'\u001b[0m\u001b[1;39m}\u001b[0m\u001b[1;39m}\u001b[0m\u001b[39m,\u001b[0m\n",
      "\u001b[39m    \u001b[0m\u001b[32m'relationship'\u001b[0m\u001b[39m: Attr\u001b[0m\u001b[1;39m[\u001b[0m\u001b[33mna\u001b[0m\u001b[39m=\u001b[0m\u001b[1;36m0\u001b[0m\u001b[39m,\u001b[0m\u001b[33mukn\u001b[0m\u001b[39m=\u001b[0m\u001b[1;36m0\u001b[0m\u001b[1;39m]\u001b[0m\u001b[1;39m{\u001b[0m\u001b[32m'relationship'\u001b[0m\u001b[39m: Idx\u001b[0m\u001b[1;39m{\u001b[0m\u001b[32m'Husband'\u001b[0m\u001b[39m, \u001b[0m\u001b[32m'Not-in-family'\u001b[0m\u001b[39m, \u001b[0m\u001b[32m'Other-relative'\u001b[0m\u001b[39m, \u001b[0m\u001b[32m'Own-child'\u001b[0m\u001b[39m, \u001b[0m\u001b[32m'Unmarried'\u001b[0m\u001b[39m, \u001b[0m\u001b[32m'Wife'\u001b[0m\u001b[1;39m}\u001b[0m\u001b[1;39m}\u001b[0m\u001b[39m,\u001b[0m\n",
      "\u001b[39m    \u001b[0m\u001b[32m'race'\u001b[0m\u001b[39m: Attr\u001b[0m\u001b[1;39m[\u001b[0m\u001b[33mna\u001b[0m\u001b[39m=\u001b[0m\u001b[1;36m0\u001b[0m\u001b[39m,\u001b[0m\u001b[33mukn\u001b[0m\u001b[39m=\u001b[0m\u001b[1;36m0\u001b[0m\u001b[1;39m]\u001b[0m\u001b[1;39m{\u001b[0m\u001b[32m'race'\u001b[0m\u001b[39m: Idx\u001b[0m\u001b[1;39m{\u001b[0m\u001b[32m'Amer-Indian-Eskimo'\u001b[0m\u001b[39m, \u001b[0m\u001b[32m'Asian-Pac-Islander'\u001b[0m\u001b[39m, \u001b[0m\u001b[32m'Black'\u001b[0m\u001b[39m, \u001b[0m\u001b[32m'Other'\u001b[0m\u001b[39m, \u001b[0m\u001b[32m'White'\u001b[0m\u001b[1;39m}\u001b[0m\u001b[1;39m}\u001b[0m\u001b[39m,\u001b[0m\n",
      "\u001b[39m    \u001b[0m\u001b[32m'sex'\u001b[0m\u001b[39m: Attr\u001b[0m\u001b[1;39m[\u001b[0m\u001b[33mna\u001b[0m\u001b[39m=\u001b[0m\u001b[1;36m0\u001b[0m\u001b[39m,\u001b[0m\u001b[33mukn\u001b[0m\u001b[39m=\u001b[0m\u001b[1;36m0\u001b[0m\u001b[1;39m]\u001b[0m\u001b[1;39m{\u001b[0m\u001b[32m'sex'\u001b[0m\u001b[39m: Idx\u001b[0m\u001b[1;39m{\u001b[0m\u001b[32m'Female'\u001b[0m\u001b[39m, \u001b[0m\u001b[32m'Male'\u001b[0m\u001b[1;39m}\u001b[0m\u001b[1;39m}\u001b[0m\u001b[39m,\u001b[0m\n",
      "\u001b[39m    \u001b[0m\u001b[32m'capital-gain'\u001b[0m\u001b[39m: Attr\u001b[0m\u001b[1;39m[\u001b[0m\u001b[33mna\u001b[0m\u001b[39m=\u001b[0m\u001b[1;36m0\u001b[0m\u001b[39m,\u001b[0m\u001b[33mukn\u001b[0m\u001b[39m=\u001b[0m\u001b[1;36m0\u001b[0m\u001b[1;39m]\u001b[0m\u001b[1;39m{\u001b[0m\u001b[32m'capital-gain'\u001b[0m\u001b[39m: Num\u001b[0m\u001b[1;39m[\u001b[0m\u001b[1;36m64\u001b[0m\u001b[39m,nan<x<nan\u001b[0m\u001b[1;39m]\u001b[0m\u001b[1;39m}\u001b[0m\u001b[39m,\u001b[0m\n",
      "\u001b[39m    \u001b[0m\u001b[32m'capital-loss'\u001b[0m\u001b[39m: Attr\u001b[0m\u001b[1;39m[\u001b[0m\u001b[33mna\u001b[0m\u001b[39m=\u001b[0m\u001b[1;36m0\u001b[0m\u001b[39m,\u001b[0m\u001b[33mukn\u001b[0m\u001b[39m=\u001b[0m\u001b[1;36m0\u001b[0m\u001b[1;39m]\u001b[0m\u001b[1;39m{\u001b[0m\u001b[32m'capital-loss'\u001b[0m\u001b[39m: Num\u001b[0m\u001b[1;39m[\u001b[0m\u001b[1;36m64\u001b[0m\u001b[39m,nan<x<nan\u001b[0m\u001b[1;39m]\u001b[0m\u001b[1;39m}\u001b[0m\u001b[39m,\u001b[0m\n",
      "\u001b[39m    \u001b[0m\u001b[32m'hours-per-week'\u001b[0m\u001b[39m: Attr\u001b[0m\u001b[1;39m[\u001b[0m\u001b[33mna\u001b[0m\u001b[39m=\u001b[0m\u001b[1;36m0\u001b[0m\u001b[39m,\u001b[0m\u001b[33mukn\u001b[0m\u001b[39m=\u001b[0m\u001b[1;36m0\u001b[0m\u001b[1;39m]\u001b[0m\u001b[1;39m{\u001b[0m\u001b[32m'hours-per-week'\u001b[0m\u001b[39m: Num\u001b[0m\u001b[1;39m[\u001b[0m\u001b[1;36m64\u001b[0m\u001b[39m,nan<x<nan\u001b[0m\u001b[1;39m]\u001b[0m\u001b[1;39m}\u001b[0m\u001b[39m,\u001b[0m\n",
      "\u001b[39m    \u001b[0m\u001b[32m'native-country'\u001b[0m\u001b[39m: Attr\u001b[0m\u001b[1;39m[\u001b[0m\u001b[33mna\u001b[0m\u001b[39m=\u001b[0m\u001b[1;36m0\u001b[0m\u001b[39m,\u001b[0m\u001b[33mukn\u001b[0m\u001b[39m=\u001b[0m\u001b[1;36m0\u001b[0m\u001b[1;39m]\u001b[0m\u001b[1;39m{\u001b[0m\u001b[32m'native-country'\u001b[0m\u001b[39m: Idx\u001b[0m\u001b[1;39m{\u001b[0m\u001b[32m'?'\u001b[0m\u001b[39m, \u001b[0m\u001b[32m'Cambodia'\u001b[0m\u001b[39m, \u001b[0m\u001b[32m'Canada'\u001b[0m\u001b[39m, \u001b[0m\u001b[32m'China'\u001b[0m\u001b[39m, \u001b[0m\u001b[32m'Columbia'\u001b[0m\u001b[39m, \u001b[0m\u001b[32m'Cuba'\u001b[0m\u001b[39m, \u001b[0m\u001b[32m'Dominican-Republic'\u001b[0m\u001b[39m, \u001b[0m\u001b[32m'Ecuador'\u001b[0m\u001b[39m, \u001b[0m\u001b[32m'El-Salvador'\u001b[0m\u001b[39m, \u001b[0m\u001b[32m'England'\u001b[0m\u001b[39m, \u001b[0m\u001b[32m'France'\u001b[0m\u001b[39m, \u001b[0m\u001b[32m'Germany'\u001b[0m\u001b[39m, \u001b[0m\u001b[32m'Greece'\u001b[0m\u001b[39m, \u001b[0m\u001b[32m'Guatemala'\u001b[0m\u001b[39m, \u001b[0m\u001b[32m'Haiti'\u001b[0m\u001b[39m, \u001b[0m\u001b[32m'Holand-Netherlands'\u001b[0m\u001b[39m, \u001b[0m\u001b[32m'Honduras'\u001b[0m\u001b[39m, \u001b[0m\u001b[32m'Hong'\u001b[0m\u001b[39m, \u001b[0m\u001b[32m'Hungary'\u001b[0m\u001b[39m, \u001b[0m\u001b[32m'India'\u001b[0m\u001b[39m, \u001b[0m\u001b[32m'Iran'\u001b[0m\u001b[39m, \u001b[0m\u001b[32m'Ireland'\u001b[0m\u001b[39m, \u001b[0m\u001b[32m'Italy'\u001b[0m\u001b[39m, \u001b[0m\u001b[32m'Jamaica'\u001b[0m\u001b[39m, \u001b[0m\u001b[32m'Japan'\u001b[0m\u001b[39m, \u001b[0m\u001b[32m'Laos'\u001b[0m\u001b[39m, \u001b[0m\u001b[32m'Mexico'\u001b[0m\u001b[39m, \u001b[0m\u001b[32m'Nicaragua'\u001b[0m\u001b[39m, \u001b[0m\u001b[32m'Outlying-US\u001b[0m\u001b[32m(\u001b[0m\u001b[32mGuam-USVI-etc\u001b[0m\u001b[32m)\u001b[0m\u001b[32m'\u001b[0m\u001b[39m, \u001b[0m\u001b[32m'Peru'\u001b[0m\u001b[39m, \u001b[0m\u001b[32m'Philippines'\u001b[0m\u001b[39m, \u001b[0m\u001b[32m'Poland'\u001b[0m\u001b[39m, \u001b[0m\u001b[32m'Portugal'\u001b[0m\u001b[39m, \u001b[0m\u001b[32m'Puerto-Rico'\u001b[0m\u001b[39m, \u001b[0m\u001b[32m'Scotland'\u001b[0m\u001b[39m, \u001b[0m\u001b[32m'South'\u001b[0m\u001b[39m, \u001b[0m\u001b[32m'Taiwan'\u001b[0m\u001b[39m, \u001b[0m\u001b[32m'Thailand'\u001b[0m\u001b[39m, \u001b[0m\u001b[32m'Trinadad&Tobago'\u001b[0m\u001b[39m, \u001b[0m\u001b[32m'United-States'\u001b[0m\u001b[39m, \u001b[0m\u001b[32m'Vietnam'\u001b[0m\u001b[39m, \u001b[0m\u001b[32m'Yugoslavia'\u001b[0m\u001b[1;39m}\u001b[0m\u001b[1;39m}\u001b[0m\u001b[39m,\u001b[0m\n",
      "\u001b[39m    \u001b[0m\u001b[32m'income'\u001b[0m\u001b[39m: Attr\u001b[0m\u001b[1;39m[\u001b[0m\u001b[33mna\u001b[0m\u001b[39m=\u001b[0m\u001b[1;36m0\u001b[0m\u001b[39m,\u001b[0m\u001b[33mukn\u001b[0m\u001b[39m=\u001b[0m\u001b[1;36m0\u001b[0m\u001b[1;39m]\u001b[0m\u001b[1;39m{\u001b[0m\u001b[32m'income'\u001b[0m\u001b[39m: Idx\u001b[0m\u001b[1;39m{\u001b[0m\u001b[32m'<=50K'\u001b[0m\u001b[39m, \u001b[0m\u001b[32m'\u001b[0m\u001b[32m>\u001b[0m\u001b[32m50K'\u001b[0m\u001b[1m}\u001b[0m\u001b[1m}\u001b[0m\n",
      "\u001b[1m}\u001b[0m\n"
     ]
    }
   ],
   "source": [
    "atrn = TableTransformer(adult_meta, \"table\")\n",
    "atrn.fit(adult)\n",
    "atrn.get_attributes()"
   ]
  },
  {
   "cell_type": "code",
   "execution_count": null,
   "metadata": {},
   "outputs": [
    {
     "name": "stdout",
     "output_type": "stream",
     "text": [
      "<class 'pandas.core.frame.DataFrame'>\n",
      "Int64Index: 48842 entries, 0 to 16280\n",
      "Data columns (total 15 columns):\n",
      " #   Column          Non-Null Count  Dtype  \n",
      "---  ------          --------------  -----  \n",
      " 0   age             48842 non-null  float32\n",
      " 1   workclass       48842 non-null  uint8  \n",
      " 2   fnlwgt          48842 non-null  float32\n",
      " 3   education       48842 non-null  uint8  \n",
      " 4   education-num   48842 non-null  uint8  \n",
      " 5   marital-status  48842 non-null  uint8  \n",
      " 6   occupation      48842 non-null  uint8  \n",
      " 7   relationship    48842 non-null  uint8  \n",
      " 8   race            48842 non-null  uint8  \n",
      " 9   sex             48842 non-null  uint8  \n",
      " 10  capital-gain    48842 non-null  float32\n",
      " 11  capital-loss    48842 non-null  float32\n",
      " 12  hours-per-week  48842 non-null  float32\n",
      " 13  native-country  48842 non-null  uint8  \n",
      " 14  income          48842 non-null  uint8  \n",
      "dtypes: float32(5), uint8(10)\n",
      "memory usage: 1.8 MB\n"
     ]
    }
   ],
   "source": [
    "enc = atrn.transform(adult)\n",
    "enc.info()"
   ]
  },
  {
   "cell_type": "code",
   "execution_count": null,
   "metadata": {},
   "outputs": [
    {
     "name": "stdout",
     "output_type": "stream",
     "text": [
      "<class 'pandas.core.frame.DataFrame'>\n",
      "Int64Index: 48842 entries, 0 to 16280\n",
      "Data columns (total 15 columns):\n",
      " #   Column          Non-Null Count  Dtype   \n",
      "---  ------          --------------  -----   \n",
      " 0   age             48842 non-null  int32   \n",
      " 1   workclass       48842 non-null  category\n",
      " 2   fnlwgt          48842 non-null  int32   \n",
      " 3   education       48842 non-null  category\n",
      " 4   education-num   48842 non-null  int32   \n",
      " 5   marital-status  48842 non-null  category\n",
      " 6   occupation      48842 non-null  category\n",
      " 7   relationship    48842 non-null  category\n",
      " 8   race            48842 non-null  category\n",
      " 9   sex             48842 non-null  category\n",
      " 10  capital-gain    48842 non-null  int32   \n",
      " 11  capital-loss    48842 non-null  int32   \n",
      " 12  hours-per-week  48842 non-null  int32   \n",
      " 13  native-country  48842 non-null  object  \n",
      " 14  income          48842 non-null  object  \n",
      "dtypes: category(7), int32(6), object(2)\n",
      "memory usage: 2.6+ MB\n"
     ]
    }
   ],
   "source": [
    "dec = atrn.reverse(enc)\n",
    "dec.info()"
   ]
  },
  {
   "cell_type": "code",
   "execution_count": null,
   "metadata": {},
   "outputs": [
    {
     "name": "stdout",
     "output_type": "stream",
     "text": [
      "<class 'pandas.core.frame.DataFrame'>\n",
      "Int64Index: 48842 entries, 0 to 16280\n",
      "Data columns (total 15 columns):\n",
      " #   Column          Non-Null Count  Dtype   \n",
      "---  ------          --------------  -----   \n",
      " 0   age             48842 non-null  int32   \n",
      " 1   workclass       48842 non-null  category\n",
      " 2   fnlwgt          48842 non-null  int32   \n",
      " 3   education       48842 non-null  category\n",
      " 4   education-num   48842 non-null  int32   \n",
      " 5   marital-status  48842 non-null  category\n",
      " 6   occupation      48842 non-null  category\n",
      " 7   relationship    48842 non-null  category\n",
      " 8   race            48842 non-null  category\n",
      " 9   sex             48842 non-null  category\n",
      " 10  capital-gain    48842 non-null  int32   \n",
      " 11  capital-loss    48842 non-null  int32   \n",
      " 12  hours-per-week  48842 non-null  int32   \n",
      " 13  native-country  48842 non-null  object  \n",
      " 14  income          48842 non-null  object  \n",
      "dtypes: category(7), int32(6), object(2)\n",
      "memory usage: 2.6+ MB\n"
     ]
    }
   ],
   "source": [
    "adult.info()"
   ]
  },
  {
   "cell_type": "code",
   "execution_count": null,
   "metadata": {},
   "outputs": [],
   "source": []
  }
 ],
 "metadata": {
  "language_info": {
   "codemirror_mode": {
    "name": "ipython",
    "version": 3
   },
   "file_extension": ".py",
   "mimetype": "text/x-python",
   "name": "python",
   "nbconvert_exporter": "python",
   "pygments_lexer": "ipython3",
   "version": "3.10.6"
  },
  "vscode": {
   "interpreter": {
    "hash": "97cc609b13305c559618ec78a438abc56230b9381f827f22d070313b9a1f3777"
   }
  }
 },
 "nbformat": 4,
 "nbformat_minor": 2
}
