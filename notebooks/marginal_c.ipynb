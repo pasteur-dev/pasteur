{
 "cells": [
  {
   "cell_type": "code",
   "execution_count": null,
   "metadata": {},
   "outputs": [],
   "source": [
    "import numpy as np\n",
    "\n",
    "z = np.zeros(256*256, dtype=np.uint32)\n",
    "a = np.random.randint(10, size=(10_000_000), dtype=np.uint8)\n",
    "b = np.random.randint(10, size=(10_000_000), dtype=np.uint8)\n",
    "c = np.random.randint(10, size=(10_000_000), dtype=np.uint8)\n",
    "d = np.random.randint(10, size=(10_000_000), dtype=np.uint8)"
   ]
  },
  {
   "cell_type": "code",
   "execution_count": null,
   "metadata": {},
   "outputs": [
    {
     "name": "stdout",
     "output_type": "stream",
     "text": [
      "830000000\n",
      "8.12 ms ± 39 µs per loop (mean ± std. dev. of 7 runs, 100 loops each)\n"
     ]
    }
   ],
   "source": [
    "from pasteur.marginal.native import marginal\n",
    "\n",
    "marginal(256, z, [(1, a),(10, b),(100, c),(1000, d)])\n",
    "print(np.sum(z))\n",
    "\n",
    "%timeit marginal(256, z, [(1, a),(10, b),(100, c),(1000, d)])"
   ]
  },
  {
   "cell_type": "code",
   "execution_count": null,
   "metadata": {},
   "outputs": [
    {
     "name": "stdout",
     "output_type": "stream",
     "text": [
      "                                                                                                                                                  6.06it/s]\u001b[0m\r"
     ]
    }
   ],
   "source": [
    "from pasteur.utils.progress import process_in_parallel, init_pool, logging_redirect_pbar\n",
    "\n",
    "base_args = {\n",
    "    \"dom\": 1,\n",
    "    \"out\": z,\n",
    "    \"ops\": [(1, a),(256, b)]\n",
    "}\n",
    "\n",
    "per_call_args = [{} for _ in range(100000)]\n",
    "\n",
    "with init_pool(), logging_redirect_pbar():\n",
    "    process_in_parallel(marginal, per_call_args, base_args)"
   ]
  },
  {
   "cell_type": "code",
   "execution_count": null,
   "metadata": {},
   "outputs": [
    {
     "data": {
      "text/plain": [
       "array([4, 0, 0, 0, 2, 0, 0, 0, 2, 0, 0, 0, 2, 0, 1, 0, 1, 0, 0, 0, 0, 0,\n",
       "       0, 0, 0, 0, 0, 0, 0, 0, 0, 0, 0, 0, 0, 0, 0, 0, 0, 0, 0, 0, 0, 0,\n",
       "       0, 0, 0, 0, 0], dtype=uint32)"
      ]
     },
     "execution_count": null,
     "metadata": {},
     "output_type": "execute_result"
    }
   ],
   "source": [
    "a = np.array([0, 0, 1, 1, 2, 2, 3, 3], dtype=np.uint8)\n",
    "b = np.array([0, 0, 1, 1, 2, 2, 3, 3], dtype=np.uint8)\n",
    "\n",
    "z = np.zeros(49, dtype=np.uint32)\n",
    "marginal(256, z, [(1, a), (3, b)])\n",
    "\n",
    "z"
   ]
  },
  {
   "cell_type": "code",
   "execution_count": null,
   "metadata": {},
   "outputs": [
    {
     "data": {
      "text/plain": [
       "array([0, 0, 1, 1, 2, 2, 3, 3], dtype=uint8)"
      ]
     },
     "execution_count": null,
     "metadata": {},
     "output_type": "execute_result"
    }
   ],
   "source": [
    "a"
   ]
  },
  {
   "cell_type": "code",
   "execution_count": null,
   "metadata": {},
   "outputs": [],
   "source": []
  }
 ],
 "metadata": {
  "language_info": {
   "codemirror_mode": {
    "name": "ipython",
    "version": 3
   },
   "file_extension": ".py",
   "mimetype": "text/x-python",
   "name": "python",
   "nbconvert_exporter": "python",
   "pygments_lexer": "ipython3",
   "version": "3.10.6"
  },
  "vscode": {
   "interpreter": {
    "hash": "50661068d2d5c6ff1ce24ae701dfa73cc4ae117a223c3f7199e1fdb4656c8912"
   }
  }
 },
 "nbformat": 4,
 "nbformat_minor": 2
}
