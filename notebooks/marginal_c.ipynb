{
 "cells": [
  {
   "cell_type": "code",
   "execution_count": null,
   "metadata": {},
   "outputs": [],
   "source": [
    "import numpy as np\n",
    "\n",
    "z = np.zeros(256*256, dtype=np.uint32)\n",
    "a = np.random.randint(256, size=(10_000_000), dtype=np.uint8)\n",
    "b = np.random.randint(256, size=(10_000_000), dtype=np.uint8)"
   ]
  },
  {
   "cell_type": "code",
   "execution_count": null,
   "metadata": {},
   "outputs": [
    {
     "name": "stdout",
     "output_type": "stream",
     "text": [
      "25.1 ms ± 42.4 µs per loop (mean ± std. dev. of 7 runs, 10 loops each)\n"
     ]
    }
   ],
   "source": [
    "from pasteur.marginal.native import marginal\n",
    "\n",
    "%timeit marginal(100000000, z, [(1, a),(256, a)])"
   ]
  },
  {
   "cell_type": "code",
   "execution_count": null,
   "metadata": {},
   "outputs": [
    {
     "name": "stdout",
     "output_type": "stream",
     "text": [
      "                                                                                                                                                  4.28it/s]\u001b[0m\r"
     ]
    }
   ],
   "source": [
    "from pasteur.utils.progress import process_in_parallel, init_pool, logging_redirect_pbar\n",
    "\n",
    "base_args = {\n",
    "    \"dom\": 1,\n",
    "    \"out\": z,\n",
    "    \"ops\": [(1, a),(1, a),(1, a)]\n",
    "}\n",
    "\n",
    "per_call_args = [{} for _ in range(100000)]\n",
    "\n",
    "with init_pool(), logging_redirect_pbar():\n",
    "    process_in_parallel(marginal, per_call_args, base_args)"
   ]
  },
  {
   "cell_type": "code",
   "execution_count": null,
   "metadata": {},
   "outputs": [],
   "source": []
  }
 ],
 "metadata": {
  "language_info": {
   "codemirror_mode": {
    "name": "ipython",
    "version": 3
   },
   "file_extension": ".py",
   "mimetype": "text/x-python",
   "name": "python",
   "nbconvert_exporter": "python",
   "pygments_lexer": "ipython3",
   "version": "3.10.6"
  },
  "vscode": {
   "interpreter": {
    "hash": "50661068d2d5c6ff1ce24ae701dfa73cc4ae117a223c3f7199e1fdb4656c8912"
   }
  }
 },
 "nbformat": 4,
 "nbformat_minor": 2
}
