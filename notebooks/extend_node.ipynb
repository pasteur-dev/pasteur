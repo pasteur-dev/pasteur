{
 "cells": [
  {
   "cell_type": "code",
   "execution_count": null,
   "metadata": {},
   "outputs": [],
   "source": [
    "tst = {\n",
    "    \"tst1\": [\"1\", \"2\", \"3\"],\n",
    "    \"tst2\": {\"1\": \"4\", \"2\": \"5\", \"3\": \"6\"},\n",
    "    \"tst3\": \"7\",\n",
    "    \"tst4\": {\"1\": [\"8\", \"9\"], \"2\": {\"1\": \"10\", \"2\": \"11\"}},\n",
    "}\n",
    "tst2 = \"tst2\""
   ]
  },
  {
   "cell_type": "code",
   "execution_count": null,
   "metadata": {},
   "outputs": [
    {
     "data": {
      "text/plain": [
       "['1', '2', '3', '4', '5', '6', '7', '8', '9', '10', '11']"
      ]
     },
     "execution_count": null,
     "metadata": {},
     "output_type": "execute_result"
    }
   ],
   "source": [
    "from __future__ import annotations\n",
    "from typing import Any\n",
    "\n",
    "NestedInputs = str | list['NestedInputs'] | dict[str, 'NestedInputs']\n",
    "\n",
    "def _flatten_inputs(inputs: NestedInputs) -> str | list[str]:\n",
    "    if isinstance(inputs, str):\n",
    "        return inputs\n",
    "    \n",
    "    out = []\n",
    "    for nested in inputs.values() if isinstance(inputs, dict) else inputs:\n",
    "        data = _flatten_inputs(nested)\n",
    "        if isinstance(data, str):\n",
    "            out.append(data)\n",
    "        else:\n",
    "            out.extend(data)\n",
    "    \n",
    "    return out\n",
    "\n",
    "_flatten_inputs(tst)"
   ]
  },
  {
   "cell_type": "code",
   "execution_count": null,
   "metadata": {},
   "outputs": [
    {
     "data": {
      "text/plain": [
       "'tst2'"
      ]
     },
     "execution_count": null,
     "metadata": {},
     "output_type": "execute_result"
    }
   ],
   "source": [
    "_flatten_inputs(tst2)"
   ]
  },
  {
   "cell_type": "code",
   "execution_count": null,
   "metadata": {},
   "outputs": [
    {
     "data": {
      "text/plain": [
       "{'0': 0,\n",
       " '1': 1,\n",
       " '2': 2,\n",
       " '3': 3,\n",
       " '4': 4,\n",
       " '5': 5,\n",
       " '6': 6,\n",
       " '7': 7,\n",
       " '8': 8,\n",
       " '9': 9,\n",
       " '10': 10,\n",
       " '11': 11}"
      ]
     },
     "execution_count": null,
     "metadata": {},
     "output_type": "execute_result"
    }
   ],
   "source": [
    "tst_data = {str(d): d for d in range(12)}\n",
    "tst_data"
   ]
  },
  {
   "cell_type": "code",
   "execution_count": null,
   "metadata": {},
   "outputs": [
    {
     "data": {
      "text/plain": [
       "{'tst1': [1, 2, 3],\n",
       " 'tst2': {'1': 4, '2': 5, '3': 6},\n",
       " 'tst3': 7,\n",
       " 'tst4': {'1': [8, 9], '2': {'1': 10, '2': 11}}}"
      ]
     },
     "execution_count": null,
     "metadata": {},
     "output_type": "execute_result"
    }
   ],
   "source": [
    "def _bind_inputs(inputs: NestedInputs, datasets: dict[str, Any]):\n",
    "    if isinstance(inputs, str):\n",
    "        return datasets[inputs]\n",
    "    \n",
    "    if isinstance(inputs, dict):\n",
    "        out = {}\n",
    "        for name, nested in inputs.items():\n",
    "            out[name] = _bind_inputs(nested, datasets)\n",
    "        return out\n",
    "    \n",
    "    assert isinstance(inputs, list)\n",
    "\n",
    "    out = []\n",
    "    for nested in inputs:\n",
    "        out.append(_bind_inputs(nested, datasets))\n",
    "    return out\n",
    "\n",
    "out = _bind_inputs(tst, tst_data)\n",
    "out"
   ]
  },
  {
   "cell_type": "code",
   "execution_count": null,
   "metadata": {},
   "outputs": [
    {
     "data": {
      "text/plain": [
       "{'1': 1,\n",
       " '2': 2,\n",
       " '3': 3,\n",
       " '4': 4,\n",
       " '5': 5,\n",
       " '6': 6,\n",
       " '7': 7,\n",
       " '8': 8,\n",
       " '9': 9,\n",
       " '10': 10,\n",
       " '11': 11}"
      ]
     },
     "execution_count": null,
     "metadata": {},
     "output_type": "execute_result"
    }
   ],
   "source": [
    "\n",
    "NestedOutputs = Any | list[\"NestedInputs\"] | dict[str, \"NestedInputs\"]\n",
    "\n",
    "def _flatten_outputs(nested: NestedInputs, outputs: NestedOutputs) -> dict[str, Any]:\n",
    "    if isinstance(nested, str):\n",
    "        return {nested: outputs}\n",
    "\n",
    "    out = {}\n",
    "    if isinstance(nested, dict):\n",
    "        assert isinstance(outputs, dict)\n",
    "        for idx, vals in nested.items():\n",
    "            data = _flatten_outputs(vals, outputs[idx])\n",
    "            out.update(data)\n",
    "    else:\n",
    "        assert isinstance(outputs, list) and isinstance(nested, list)\n",
    "        for vals, outs in zip(nested, outputs):\n",
    "            data = _flatten_outputs(vals, outs)\n",
    "            out.update(data)\n",
    "\n",
    "    return out\n",
    "\n",
    "_flatten_outputs(tst, out)"
   ]
  },
  {
   "cell_type": "code",
   "execution_count": null,
   "metadata": {},
   "outputs": [],
   "source": []
  }
 ],
 "metadata": {
  "language_info": {
   "codemirror_mode": {
    "name": "ipython",
    "version": 3
   },
   "file_extension": ".py",
   "mimetype": "text/x-python",
   "name": "python",
   "nbconvert_exporter": "python",
   "pygments_lexer": "ipython3",
   "version": "3.10.8"
  },
  "vscode": {
   "interpreter": {
    "hash": "50661068d2d5c6ff1ce24ae701dfa73cc4ae117a223c3f7199e1fdb4656c8912"
   }
  }
 },
 "nbformat": 4,
 "nbformat_minor": 2
}
