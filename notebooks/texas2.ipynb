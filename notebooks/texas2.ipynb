{
 "cells": [
  {
   "cell_type": "code",
   "execution_count": null,
   "metadata": {},
   "outputs": [
    {
     "name": "stdout",
     "output_type": "stream",
     "text": [
      "\u001b[0m\u001b[34mINFO    \u001b[0m Kedro project Pasteur                                                                                           \u001b[2m__init__.py\u001b[0m\u001b[2m:\u001b[0m\u001b[2m77\u001b[0m\n",
      "\u001b[0m\u001b[34mINFO    \u001b[0m Defined global variable \u001b[32m'context'\u001b[0m, \u001b[32m'session'\u001b[0m, \u001b[32m'catalog'\u001b[0m and \u001b[32m'pipelines'\u001b[0m                                         \u001b[2m__init__.py\u001b[0m\u001b[2m:\u001b[0m\u001b[2m78\u001b[0m\n",
      "\u001b[0m\u001b[34mINFO    \u001b[0m Registered line magic \u001b[32m'run_viz'\u001b[0m                                                                                 \u001b[2m__init__.py\u001b[0m\u001b[2m:\u001b[0m\u001b[2m84\u001b[0m\n"
     ]
    }
   ],
   "source": [
    "from pasteur.kedro.ipython import * # type: ignore\n",
    "register_kedro() # type: ignore"
   ]
  },
  {
   "cell_type": "code",
   "execution_count": null,
   "metadata": {},
   "outputs": [
    {
     "name": "stdout",
     "output_type": "stream",
     "text": [
      "The memory_profiler extension is already loaded. To reload it, use:\n",
      "  %reload_ext memory_profiler\n"
     ]
    }
   ],
   "source": [
    "%load_ext memory_profiler"
   ]
  },
  {
   "cell_type": "code",
   "execution_count": null,
   "metadata": {},
   "outputs": [],
   "source": [
    "table = catalog.load('texas_base.wrk.table')\n",
    "trn = catalog.load('texas_base.trn.table')"
   ]
  },
  {
   "cell_type": "code",
   "execution_count": null,
   "metadata": {},
   "outputs": [
    {
     "name": "stdout",
     "output_type": "stream",
     "text": [
      "\n"
     ]
    },
    {
     "name": "stdout",
     "output_type": "stream",
     "text": [
      "Filename: /mnt/ext/projects/pasteur/src/pasteur/table.py\n",
      "\n",
      "Line #    Mem usage    Increment  Occurrences   Line Contents\n",
      "=============================================================\n",
      "   177   2481.5 MiB   2481.5 MiB           1       def transform(\n",
      "   178                                                 self,\n",
      "   179                                                 tables: dict[str, pd.DataFrame] | dict[str, LazyChunk],\n",
      "   180                                                 ids: pd.DataFrame | LazyChunk | None = None,\n",
      "   181                                             ):\n",
      "   182   2481.5 MiB      0.0 MiB           1           assert self.fitted\n",
      "   183                                         \n",
      "   184   2481.5 MiB      0.0 MiB           1           meta = self.meta[self.name]\n",
      "   185   2481.5 MiB      0.0 MiB           1           if isinstance(tables, dict):\n",
      "   186                                                     cached_tables = {\n",
      "   187                                                         name: part() if callable(part) else part\n",
      "   188                                                         for name, part in tables.items()\n",
      "   189                                                     }\n",
      "   190                                                     table = cached_tables[self.name]\n",
      "   191                                                 else:\n",
      "   192   3389.0 MiB    907.5 MiB           1               cached_tables = {self.name: tables() if callable(tables) else tables}\n",
      "   193   3389.0 MiB      0.0 MiB           1               table = cached_tables[self.name]\n",
      "   194                                         \n",
      "   195                                                 # Only load foreign keys if required by column\n",
      "   196   3389.0 MiB      0.0 MiB           1           cached_ids = None\n",
      "   197   3389.0 MiB      0.0 MiB           1           if self.ref.table_has_reference():\n",
      "   198                                                     if ids is None:\n",
      "   199                                                         cached_ids = self.ref.find_foreign_ids(self.name, cached_tables)\n",
      "   200                                                     else:\n",
      "   201                                                         cached_ids = ids() if callable(ids) else ids\n",
      "   202                                                     # If we do have foreign relationships drop all rows that don't have\n",
      "   203                                                     # parents and warn\n",
      "   204                                                     if len(cached_ids) < len(table):\n",
      "   205                                                         logger.warning(\n",
      "   206                                                             f\"Found {len(table) - len(cached_ids)} rows without ids on table {self.name}. Dropping before transforming...\"\n",
      "   207                                                         )\n",
      "   208                                                         table = table.loc[cached_ids.index]\n",
      "   209                                         \n",
      "   210   3389.0 MiB      0.0 MiB           1           tts = []\n",
      "   211   3389.0 MiB -68159.8 MiB         252           for name, col in meta.cols.items():\n",
      "   212   3389.0 MiB -70493.2 MiB         251               if col.is_id():\n",
      "   213   3389.0 MiB      0.0 MiB           2                   continue\n",
      "   214                                         \n",
      "   215                                                     # Add foreign column if required\n",
      "   216   3389.0 MiB -70493.2 MiB         249               ref_col = None\n",
      "   217   3389.0 MiB -70493.2 MiB         249               if col.ref:\n",
      "   218                                                         f_table, f_col = col.ref.table, col.ref.col\n",
      "   219                                                         assert f_col\n",
      "   220                                                         if f_table:\n",
      "   221                                                             assert cached_ids is not None\n",
      "   222                                                             # Foreign column from another table\n",
      "   223                                                             ref_col = cached_ids.join(\n",
      "   224                                                                 cached_tables[f_table][f_col], on=f_table\n",
      "   225                                                             )[f_col]\n",
      "   226                                                         else:\n",
      "   227                                                             # Local column, duplicate and rename\n",
      "   228                                                             ref_col = table[f_col]\n",
      "   229                                         \n",
      "   230   3389.0 MiB -70493.2 MiB         249               t = self.transformers[name]\n",
      "   231   3389.0 MiB -70493.2 MiB         249               if isinstance(t, RefTransformer) and ref_col is not None:\n",
      "   232                                                         tt = t.transform(table[name], ref_col)\n",
      "   233                                                     else:\n",
      "   234   3382.3 MiB -70731.6 MiB         249                   tt = t.transform(table[name])\n",
      "   235   3380.4 MiB -69064.5 MiB         249               tts.append(tt)\n",
      "   236   3378.7 MiB -68587.7 MiB         249               del ref_col\n",
      "   237                                         \n",
      "   238   3143.9 MiB   -245.1 MiB           1           del cached_ids, cached_tables, table\n",
      "   239   3420.6 MiB    276.6 MiB           1           return pd.concat(tts, axis=1, copy=False, join=\"inner\")"
     ]
    }
   ],
   "source": [
    "from pasteur.table import TableTransformer\n",
    "\n",
    "%mprun -f TableTransformer.transform trn.transform(table.sample)"
   ]
  },
  {
   "cell_type": "code",
   "execution_count": null,
   "metadata": {},
   "outputs": [],
   "source": []
  }
 ],
 "metadata": {
  "language_info": {
   "codemirror_mode": {
    "name": "ipython",
    "version": 3
   },
   "file_extension": ".py",
   "mimetype": "text/x-python",
   "name": "python",
   "nbconvert_exporter": "python",
   "pygments_lexer": "ipython3",
   "version": "3.10.8"
  },
  "vscode": {
   "interpreter": {
    "hash": "50661068d2d5c6ff1ce24ae701dfa73cc4ae117a223c3f7199e1fdb4656c8912"
   }
  }
 },
 "nbformat": 4,
 "nbformat_minor": 2
}
