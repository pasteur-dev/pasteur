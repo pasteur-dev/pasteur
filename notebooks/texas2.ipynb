{
 "cells": [
  {
   "cell_type": "code",
   "execution_count": null,
   "metadata": {},
   "outputs": [
    {
     "name": "stdout",
     "output_type": "stream",
     "text": [
      "\u001b[0m\u001b[34mINFO    \u001b[0m Kedro project Pasteur                                                                                           \u001b[2m__init__.py\u001b[0m\u001b[2m:\u001b[0m\u001b[2m77\u001b[0m\n",
      "\u001b[0m\u001b[34mINFO    \u001b[0m Defined global variable \u001b[32m'context'\u001b[0m, \u001b[32m'session'\u001b[0m, \u001b[32m'catalog'\u001b[0m and \u001b[32m'pipelines'\u001b[0m                                         \u001b[2m__init__.py\u001b[0m\u001b[2m:\u001b[0m\u001b[2m78\u001b[0m\n",
      "\u001b[0m\u001b[31mWARNING \u001b[0m \u001b[35m/mnt/ext/projects/pasteur/venv/lib/python3.10/site-packages/plotly/graph_objects/\u001b[0m\u001b[95m__init__.py\u001b[0m:\u001b[1;36m288\u001b[0m:              \u001b[2mwarnings.py\u001b[0m\u001b[2m:\u001b[0m\u001b[2m109\u001b[0m\n",
      "\u001b[0m         DeprecationWarning: distutils Version classes are deprecated. Use packaging.version instead.                   \u001b[2m               \u001b[0m\n",
      "\u001b[0m           if \u001b[1;35mLooseVersion\u001b[0m\u001b[1m(\u001b[0mipywidgets.__version__\u001b[1m)\u001b[0m >= \u001b[1;35mLooseVersion\u001b[0m\u001b[1m(\u001b[0m\u001b[32m\"7.0.0\"\u001b[0m\u001b[1m)\u001b[0m:                                            \u001b[2m               \u001b[0m\n",
      "\u001b[0m                                                                                                                        \u001b[2m               \u001b[0m\n",
      "\u001b[0m\u001b[34mINFO    \u001b[0m Registered line magic \u001b[32m'run_viz'\u001b[0m                                                                                 \u001b[2m__init__.py\u001b[0m\u001b[2m:\u001b[0m\u001b[2m84\u001b[0m\n"
     ]
    }
   ],
   "source": [
    "from pasteur.kedro.ipython import * # type: ignore\n",
    "register_kedro() # type: ignore~~"
   ]
  },
  {
   "cell_type": "code",
   "execution_count": null,
   "metadata": {},
   "outputs": [
    {
     "name": "stdout",
     "output_type": "stream",
     "text": [
      "\u001b[0m\u001b[31mWARNING \u001b[0m \u001b[35m/mnt/ext/projects/pasteur/venv/lib/python3.10/site-packages/IPython/extensions/\u001b[0m\u001b[95mautoreload.py\u001b[0m:\u001b[1;36m121\u001b[0m:              \u001b[2mwarnings.py\u001b[0m\u001b[2m:\u001b[0m\u001b[2m109\u001b[0m\n",
      "\u001b[0m         DeprecationWarning: the imp module is deprecated in favour of importlib and slated for removal in Python \u001b[1;36m3.12\u001b[0m; \u001b[2m               \u001b[0m\n",
      "\u001b[0m         see the module's documentation for alternative uses                                                            \u001b[2m               \u001b[0m\n",
      "\u001b[0m           from imp import reload                                                                                       \u001b[2m               \u001b[0m\n",
      "\u001b[0m                                                                                                                        \u001b[2m               \u001b[0m\n"
     ]
    }
   ],
   "source": [
    "%load_ext autoreload\n",
    "%autoreload 2"
   ]
  },
  {
   "cell_type": "code",
   "execution_count": null,
   "metadata": {},
   "outputs": [],
   "source": [
    "table = catalog.load('texas_charges.ident_idx.bst_table').sample()\n",
    "trn = catalog.load('texas_charges.trn.table')\n",
    "\n",
    "from pasteur.utils.leaks import clear, check, graph"
   ]
  },
  {
   "cell_type": "code",
   "execution_count": null,
   "metadata": {},
   "outputs": [
    {
     "ename": "",
     "evalue": "",
     "output_type": "error",
     "traceback": [
      "\u001b[1;31mThe Kernel crashed while executing code in the the current cell or a previous cell. Please review the code in the cell(s) to identify a possible cause of the failure. Click <a href='https://aka.ms/vscodeJupyterKernelCrash'>here</a> for more info. View Jupyter <a href='command:jupyter.viewOutput'>log</a> for further details."
     ]
    }
   ],
   "source": [
    "clear()\n",
    "a = trn.reverse(table)\n",
    "del a\n",
    "check()"
   ]
  },
  {
   "cell_type": "code",
   "execution_count": null,
   "metadata": {},
   "outputs": [
    {
     "name": "stdout",
     "output_type": "stream",
     "text": [
      "https://dreampuf.github.io/GraphvizOnline/#digraph%20ObjectGraph%20%7B%0A%20%20node%5Bshape%3Dbox%2C%20style%3Dfilled%2C%20fillcolor%3Dwhite%5D%3B%0A%20%20o140661405744480%5Bfontcolor%3Dred%5D%3B%0A%20%20o140661405744480%5Blabel%3D%22IntegerArray%5Cn%3CIntegerArray%3E%5Cn%5B21342%2C%2021342%2C%2021342%2C%20213%22%5D%3B%0A%20%20o140661405744480%5Bfillcolor%3D%220%2C0%2C1%22%5D%3B%0A%20%20o140661404857456%20-%3E%20o140661405744480%3B%0A%20%20o140661404857456%5Blabel%3D%22ExtensionBlock%5CnExtensionBlock%3A%20slice%289%2C%2010%2C%201%29%2C%201%20x%20925%22%5D%3B%0A%20%20o140661404857456%5Bfillcolor%3D%220%2C0%2C0.953333%22%5D%3B%0A%20%20o140661453528384%20-%3E%20o140661404857456%3B%0A%20%20o140661453528384%5Blabel%3D%22tuple%5Cn11%20items%22%5D%3B%0A%20%20o140661453528384%5Bfillcolor%3D%220%2C0%2C0.906667%22%5D%3B%0A%20%20o140661453351152%20-%3E%20o140661453528384%3B%0A%20%20o140661453351152%5Blabel%3D%22BlockManager%5CnBlockManager%5CnItems%3A%20Index%28%5B%27record_id%27%2C%20%22%5D%3B%0A%20%20o140661453351152%5Bfillcolor%3D%220%2C0%2C0.86%22%5D%3B%0A%20%20o140661405655360%20-%3E%20o140661453351152%20%5Blabel%3D%22_mgr%22%2Cweight%3D2%5D%3B%0A%20%20o140661405655360%5Blabel%3D%22dict%5Cn5%20items%22%5D%3B%0A%20%20o140661405655360%5Bfillcolor%3D%220%2C0%2C0.813333%22%5D%3B%0A%20%20o140661405744144%20-%3E%20o140661405655360%20%5Blabel%3D%22__dict__%22%2Cweight%3D10%5D%3B%0A%20%20o140661405744144%5Blabel%3D%22DataFrame%5Cn%20%20%20%20%20%20%20%20%20%20%20record_id%20revenue_code%20hcpcs_%22%5D%3B%0A%20%20o140661405744144%5Bfillcolor%3D%220%2C0%2C0.766667%22%5D%3B%0A%20%20o79843072%20-%3E%20o140661405744144%3B%0A%20%20o79843072%5Blabel%3D%22frame%5Cn/mnt/ext/projects/pasteur/src/pasteur/table.py%3A335%22%5D%3B%0A%20%20o79843072%5Bfillcolor%3D%220%2C0%2C0.72%22%5D%3B%0A%20%20o140663671344832%20-%3E%20o79843072%3B%0A%20%20o140663671344832%5Blabel%3D%22frame%5Cn/mnt/ext/projects/pasteur/src/pasteur/extras/transformers.py%3A160%22%5D%3B%0A%20%20o140663671344832%5Bfillcolor%3D%220%2C0%2C0.673333%22%5D%3B%0A%20%20o140661404965056%20-%3E%20o140663671344832%3B%0A%20%20o140661404965056%5Blabel%3D%22frame%5Cn/mnt/ext/projects/pasteur/venv/lib/python3.10/site-packages/pandas/core/accessor.py%3A95%22%5D%3B%0A%20%20o140661404965056%5Bfillcolor%3D%220%2C0%2C0.626667%22%5D%3B%0A%20%20o140661405008416%20-%3E%20o140661404965056%3B%0A%20%20o140661405008416%5Blabel%3D%22frame%5Cn/mnt/ext/projects/pasteur/venv/lib/python3.10/site-packages/pandas/core/arrays/categorical.py%3A2882%22%5D%3B%0A%20%20o140661405008416%5Bfillcolor%3D%220%2C0%2C0.58%22%5D%3B%0A%20%20o54783216%20-%3E%20o140661405008416%3B%0A%20%20o54783216%5Blabel%3D%22frame%5Cn/mnt/ext/projects/pasteur/venv/lib/python3.10/site-packages/pandas/core/arrays/categorical.py%3A1374%22%5D%3B%0A%20%20o54783216%5Bfillcolor%3D%220%2C0%2C0.533333%22%5D%3B%0A%20%20o140661455156864%20-%3E%20o54783216%3B%0A%20%20o140661455156864%5Blabel%3D%22frame%5Cn/mnt/ext/projects/pasteur/venv/lib/python3.10/site-packages/pandas/core/arrays/categorical.py%3A1039%22%5D%3B%0A%20%20o140661455156864%5Bfillcolor%3D%220%2C0%2C0.486667%22%5D%3B%0A%20%20o140661455156864%5Bfontcolor%3Dwhite%5D%3B%0A%20%20o140661453763584%20-%3E%20o140661455156864%3B%0A%20%20o140661453763584%5Blabel%3D%22tuple%5Cn1%20items%22%5D%3B%0A%20%20o140661453763584%5Bfillcolor%3D%220%2C0%2C0.44%22%5D%3B%0A%20%20o140661453763584%5Bfontcolor%3Dwhite%5D%3B%0A%20%20o140662998582544%20-%3E%20o140661453763584%3B%0A%20%20o140662998582544%5Blabel%3D%22_lru_cache_wrapper%5Cn%3Cfunctools._lru_cache_wrapper%20object%20at%20%22%5D%3B%0A%20%20o140662998582544%5Bfillcolor%3D%220%2C0%2C0.393333%22%5D%3B%0A%20%20o140662998582544%5Bfontcolor%3Dwhite%5D%3B%0A%20%20o140663024660928%20-%3E%20o140662998582544%20%5Blabel%3D%22find_stack_level%22%2Cweight%3D2%5D%3B%0A%20%20o140663024660928%5Blabel%3D%22dict%5Cn32%20items%22%5D%3B%0A%20%20o140663024660928%5Bfillcolor%3D%220%2C0%2C0.346667%22%5D%3B%0A%20%20o140663024660928%5Bfontcolor%3Dwhite%5D%3B%0A%20%20o140663024610464%20-%3E%20o140663024660928%20%5Blabel%3D%22__dict__%22%2Cweight%3D10%5D%3B%0A%20%20o140663024610464%5Blabel%3D%22module%5Cnpandas.util._decorators%22%5D%3B%0A%20%20o140663024610464%5Bfillcolor%3D%220.3%2C1%2C0.3%22%5D%3B%0A%20%20o140663024610464%5Bfontcolor%3Dwhite%5D%3B%0A%7D%0A\n"
     ]
    }
   ],
   "source": [
    "graph('IntegerArray')"
   ]
  },
  {
   "cell_type": "code",
   "execution_count": null,
   "metadata": {},
   "outputs": [],
   "source": [
    "import pandas.util._exceptions"
   ]
  }
 ],
 "metadata": {
  "language_info": {
   "codemirror_mode": {
    "name": "ipython",
    "version": 3
   },
   "file_extension": ".py",
   "mimetype": "text/x-python",
   "name": "python",
   "nbconvert_exporter": "python",
   "pygments_lexer": "ipython3",
   "version": "3.10.8"
  },
  "vscode": {
   "interpreter": {
    "hash": "50661068d2d5c6ff1ce24ae701dfa73cc4ae117a223c3f7199e1fdb4656c8912"
   }
  }
 },
 "nbformat": 4,
 "nbformat_minor": 2
}
