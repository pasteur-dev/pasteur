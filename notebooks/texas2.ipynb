{
 "cells": [
  {
   "cell_type": "code",
   "execution_count": null,
   "metadata": {},
   "outputs": [
    {
     "name": "stdout",
     "output_type": "stream",
     "text": [
      "\u001b[0m\u001b[34mINFO    \u001b[0m Kedro project Pasteur                                                                                           \u001b[2m__init__.py\u001b[0m\u001b[2m:\u001b[0m\u001b[2m77\u001b[0m\n",
      "\u001b[0m\u001b[34mINFO    \u001b[0m Defined global variable \u001b[32m'context'\u001b[0m, \u001b[32m'session'\u001b[0m, \u001b[32m'catalog'\u001b[0m and \u001b[32m'pipelines'\u001b[0m                                         \u001b[2m__init__.py\u001b[0m\u001b[2m:\u001b[0m\u001b[2m78\u001b[0m\n",
      "\u001b[0m\u001b[31mWARNING \u001b[0m \u001b[35m/mnt/ext/projects/pasteur/venv/lib/python3.10/site-packages/plotly/graph_objects/\u001b[0m\u001b[95m__init__.py\u001b[0m:\u001b[1;36m288\u001b[0m:              \u001b[2mwarnings.py\u001b[0m\u001b[2m:\u001b[0m\u001b[2m109\u001b[0m\n",
      "\u001b[0m         DeprecationWarning: distutils Version classes are deprecated. Use packaging.version instead.                   \u001b[2m               \u001b[0m\n",
      "\u001b[0m           if \u001b[1;35mLooseVersion\u001b[0m\u001b[1m(\u001b[0mipywidgets.__version__\u001b[1m)\u001b[0m >= \u001b[1;35mLooseVersion\u001b[0m\u001b[1m(\u001b[0m\u001b[32m\"7.0.0\"\u001b[0m\u001b[1m)\u001b[0m:                                            \u001b[2m               \u001b[0m\n",
      "\u001b[0m                                                                                                                        \u001b[2m               \u001b[0m\n",
      "\u001b[0m\u001b[34mINFO    \u001b[0m Registered line magic \u001b[32m'run_viz'\u001b[0m                                                                                 \u001b[2m__init__.py\u001b[0m\u001b[2m:\u001b[0m\u001b[2m84\u001b[0m\n"
     ]
    }
   ],
   "source": [
    "# import tracemalloc\n",
    "# tracemalloc.start()\n",
    "\n",
    "from pasteur.kedro.ipython import * # type: ignore\n",
    "register_kedro() # type: ignore\n",
    "\n",
    "from tqdm import tqdm, trange\n",
    "import pprint"
   ]
  },
  {
   "cell_type": "code",
   "execution_count": null,
   "metadata": {},
   "outputs": [
    {
     "name": "stdout",
     "output_type": "stream",
     "text": [
      "\u001b[0m\u001b[31mWARNING \u001b[0m \u001b[35m/mnt/ext/projects/pasteur/venv/lib/python3.10/site-packages/IPython/extensions/\u001b[0m\u001b[95mautoreload.py\u001b[0m:\u001b[1;36m121\u001b[0m:              \u001b[2mwarnings.py\u001b[0m\u001b[2m:\u001b[0m\u001b[2m109\u001b[0m\n",
      "\u001b[0m         DeprecationWarning: the imp module is deprecated in favour of importlib and slated for removal in Python \u001b[1;36m3.12\u001b[0m; \u001b[2m               \u001b[0m\n",
      "\u001b[0m         see the module's documentation for alternative uses                                                            \u001b[2m               \u001b[0m\n",
      "\u001b[0m           from imp import reload                                                                                       \u001b[2m               \u001b[0m\n",
      "\u001b[0m                                                                                                                        \u001b[2m               \u001b[0m\n"
     ]
    }
   ],
   "source": [
    "%load_ext autoreload\n",
    "%autoreload 2"
   ]
  },
  {
   "cell_type": "code",
   "execution_count": null,
   "metadata": {},
   "outputs": [],
   "source": [
    "table = catalog.load('texas_base.wrk.table')\n",
    "trn = catalog.load('texas_base.trn.table')"
   ]
  },
  {
   "cell_type": "code",
   "execution_count": null,
   "metadata": {},
   "outputs": [],
   "source": [
    "s = table['2008q1']\n",
    "col = 'provider_name'"
   ]
  },
  {
   "cell_type": "code",
   "execution_count": null,
   "metadata": {},
   "outputs": [
    {
     "name": "stdout",
     "output_type": "stream",
     "text": [
      "\u001b[0m\u001b[31mWARNING \u001b[0m \u001b[35m/mnt/ext/projects/pasteur/src/pasteur/extras/\u001b[0m\u001b[95mtransformers.py\u001b[0m:\u001b[1;36m56\u001b[0m: SettingWithCopyWarning:                       \u001b[2mwarnings.py\u001b[0m\u001b[2m:\u001b[0m\u001b[2m109\u001b[0m\n",
      "\u001b[0m         A value is trying to be set on a copy of a slice from a DataFrame                                              \u001b[2m               \u001b[0m\n",
      "\u001b[0m                                                                                                                        \u001b[2m               \u001b[0m\n",
      "\u001b[0m         See the caveats in the documentation:                                                                          \u001b[2m               \u001b[0m\n",
      "\u001b[0m         \u001b[4;94mhttps://pandas.pydata.org/pandas-docs/stable/user_guide/indexing.html#returning-a-view-versus-a-copy\u001b[0m           \u001b[2m               \u001b[0m\n",
      "\u001b[0m           cl = \u001b[1;35mdata.clip\u001b[0m\u001b[1m(\u001b[0mself.min, self.max, \u001b[33minplace\u001b[0m=\u001b[3;91mFalse\u001b[0m\u001b[1m)\u001b[0m                                                            \u001b[2m               \u001b[0m\n",
      "\u001b[0m                                                                                                                        \u001b[2m               \u001b[0m\n",
      "\u001b[0m\u001b[31mWARNING \u001b[0m \u001b[35m/mnt/ext/projects/pasteur/src/pasteur/extras/\u001b[0m\u001b[95mtransformers.py\u001b[0m:\u001b[1;36m56\u001b[0m: SettingWithCopyWarning:                       \u001b[2mwarnings.py\u001b[0m\u001b[2m:\u001b[0m\u001b[2m109\u001b[0m\n",
      "\u001b[0m         A value is trying to be set on a copy of a slice from a DataFrame                                              \u001b[2m               \u001b[0m\n",
      "\u001b[0m                                                                                                                        \u001b[2m               \u001b[0m\n",
      "\u001b[0m         See the caveats in the documentation:                                                                          \u001b[2m               \u001b[0m\n",
      "\u001b[0m         \u001b[4;94mhttps://pandas.pydata.org/pandas-docs/stable/user_guide/indexing.html#returning-a-view-versus-a-copy\u001b[0m           \u001b[2m               \u001b[0m\n",
      "\u001b[0m           cl = \u001b[1;35mdata.clip\u001b[0m\u001b[1m(\u001b[0mself.min, self.max, \u001b[33minplace\u001b[0m=\u001b[3;91mFalse\u001b[0m\u001b[1m)\u001b[0m                                                            \u001b[2m               \u001b[0m\n",
      "\u001b[0m                                                                                                                        \u001b[2m               \u001b[0m\n",
      "\u001b[0m\u001b[31mWARNING \u001b[0m \u001b[35m/mnt/ext/projects/pasteur/src/pasteur/extras/\u001b[0m\u001b[95mtransformers.py\u001b[0m:\u001b[1;36m56\u001b[0m: SettingWithCopyWarning:                       \u001b[2mwarnings.py\u001b[0m\u001b[2m:\u001b[0m\u001b[2m109\u001b[0m\n",
      "\u001b[0m         A value is trying to be set on a copy of a slice from a DataFrame                                              \u001b[2m               \u001b[0m\n",
      "\u001b[0m                                                                                                                        \u001b[2m               \u001b[0m\n",
      "\u001b[0m         See the caveats in the documentation:                                                                          \u001b[2m               \u001b[0m\n",
      "\u001b[0m         \u001b[4;94mhttps://pandas.pydata.org/pandas-docs/stable/user_guide/indexing.html#returning-a-view-versus-a-copy\u001b[0m           \u001b[2m               \u001b[0m\n",
      "\u001b[0m           cl = \u001b[1;35mdata.clip\u001b[0m\u001b[1m(\u001b[0mself.min, self.max, \u001b[33minplace\u001b[0m=\u001b[3;91mFalse\u001b[0m\u001b[1m)\u001b[0m                                                            \u001b[2m               \u001b[0m\n",
      "\u001b[0m                                                                                                                        \u001b[2m               \u001b[0m\n",
      "\u001b[0m\u001b[31mWARNING \u001b[0m \u001b[35m/mnt/ext/projects/pasteur/src/pasteur/extras/\u001b[0m\u001b[95mtransformers.py\u001b[0m:\u001b[1;36m56\u001b[0m: SettingWithCopyWarning:                       \u001b[2mwarnings.py\u001b[0m\u001b[2m:\u001b[0m\u001b[2m109\u001b[0m\n",
      "\u001b[0m         A value is trying to be set on a copy of a slice from a DataFrame                                              \u001b[2m               \u001b[0m\n",
      "\u001b[0m                                                                                                                        \u001b[2m               \u001b[0m\n",
      "\u001b[0m         See the caveats in the documentation:                                                                          \u001b[2m               \u001b[0m\n",
      "\u001b[0m         \u001b[4;94mhttps://pandas.pydata.org/pandas-docs/stable/user_guide/indexing.html#returning-a-view-versus-a-copy\u001b[0m           \u001b[2m               \u001b[0m\n",
      "\u001b[0m           cl = \u001b[1;35mdata.clip\u001b[0m\u001b[1m(\u001b[0mself.min, self.max, \u001b[33minplace\u001b[0m=\u001b[3;91mFalse\u001b[0m\u001b[1m)\u001b[0m                                                            \u001b[2m               \u001b[0m\n",
      "\u001b[0m                                                                                                                        \u001b[2m               \u001b[0m\n",
      "\u001b[0m\u001b[31mWARNING \u001b[0m \u001b[35m/mnt/ext/projects/pasteur/src/pasteur/extras/\u001b[0m\u001b[95mtransformers.py\u001b[0m:\u001b[1;36m56\u001b[0m: SettingWithCopyWarning:                       \u001b[2mwarnings.py\u001b[0m\u001b[2m:\u001b[0m\u001b[2m109\u001b[0m\n",
      "\u001b[0m         A value is trying to be set on a copy of a slice from a DataFrame                                              \u001b[2m               \u001b[0m\n",
      "\u001b[0m                                                                                                                        \u001b[2m               \u001b[0m\n",
      "\u001b[0m         See the caveats in the documentation:                                                                          \u001b[2m               \u001b[0m\n",
      "\u001b[0m         \u001b[4;94mhttps://pandas.pydata.org/pandas-docs/stable/user_guide/indexing.html#returning-a-view-versus-a-copy\u001b[0m           \u001b[2m               \u001b[0m\n",
      "\u001b[0m           cl = \u001b[1;35mdata.clip\u001b[0m\u001b[1m(\u001b[0mself.min, self.max, \u001b[33minplace\u001b[0m=\u001b[3;91mFalse\u001b[0m\u001b[1m)\u001b[0m                                                            \u001b[2m               \u001b[0m\n",
      "\u001b[0m                                                                                                                        \u001b[2m               \u001b[0m\n",
      "\u001b[0m\u001b[31mWARNING \u001b[0m \u001b[35m/mnt/ext/projects/pasteur/src/pasteur/extras/\u001b[0m\u001b[95mtransformers.py\u001b[0m:\u001b[1;36m56\u001b[0m: SettingWithCopyWarning:                       \u001b[2mwarnings.py\u001b[0m\u001b[2m:\u001b[0m\u001b[2m109\u001b[0m\n",
      "\u001b[0m         A value is trying to be set on a copy of a slice from a DataFrame                                              \u001b[2m               \u001b[0m\n",
      "\u001b[0m                                                                                                                        \u001b[2m               \u001b[0m\n",
      "\u001b[0m         See the caveats in the documentation:                                                                          \u001b[2m               \u001b[0m\n",
      "\u001b[0m         \u001b[4;94mhttps://pandas.pydata.org/pandas-docs/stable/user_guide/indexing.html#returning-a-view-versus-a-copy\u001b[0m           \u001b[2m               \u001b[0m\n",
      "\u001b[0m           cl = \u001b[1;35mdata.clip\u001b[0m\u001b[1m(\u001b[0mself.min, self.max, \u001b[33minplace\u001b[0m=\u001b[3;91mFalse\u001b[0m\u001b[1m)\u001b[0m                                                            \u001b[2m               \u001b[0m\n",
      "\u001b[0m                                                                                                                        \u001b[2m               \u001b[0m\n",
      "\u001b[0m\u001b[31mWARNING \u001b[0m \u001b[35m/mnt/ext/projects/pasteur/src/pasteur/extras/\u001b[0m\u001b[95mtransformers.py\u001b[0m:\u001b[1;36m56\u001b[0m: SettingWithCopyWarning:                       \u001b[2mwarnings.py\u001b[0m\u001b[2m:\u001b[0m\u001b[2m109\u001b[0m\n",
      "\u001b[0m         A value is trying to be set on a copy of a slice from a DataFrame                                              \u001b[2m               \u001b[0m\n",
      "\u001b[0m                                                                                                                        \u001b[2m               \u001b[0m\n",
      "\u001b[0m         See the caveats in the documentation:                                                                          \u001b[2m               \u001b[0m\n",
      "\u001b[0m         \u001b[4;94mhttps://pandas.pydata.org/pandas-docs/stable/user_guide/indexing.html#returning-a-view-versus-a-copy\u001b[0m           \u001b[2m               \u001b[0m\n",
      "\u001b[0m           cl = \u001b[1;35mdata.clip\u001b[0m\u001b[1m(\u001b[0mself.min, self.max, \u001b[33minplace\u001b[0m=\u001b[3;91mFalse\u001b[0m\u001b[1m)\u001b[0m                                                            \u001b[2m               \u001b[0m\n",
      "\u001b[0m                                                                                                                        \u001b[2m               \u001b[0m\n",
      "\u001b[0m\u001b[31mWARNING \u001b[0m \u001b[35m/mnt/ext/projects/pasteur/src/pasteur/extras/\u001b[0m\u001b[95mtransformers.py\u001b[0m:\u001b[1;36m56\u001b[0m: SettingWithCopyWarning:                       \u001b[2mwarnings.py\u001b[0m\u001b[2m:\u001b[0m\u001b[2m109\u001b[0m\n",
      "\u001b[0m         A value is trying to be set on a copy of a slice from a DataFrame                                              \u001b[2m               \u001b[0m\n",
      "\u001b[0m                                                                                                                        \u001b[2m               \u001b[0m\n",
      "\u001b[0m         See the caveats in the documentation:                                                                          \u001b[2m               \u001b[0m\n",
      "\u001b[0m         \u001b[4;94mhttps://pandas.pydata.org/pandas-docs/stable/user_guide/indexing.html#returning-a-view-versus-a-copy\u001b[0m           \u001b[2m               \u001b[0m\n",
      "\u001b[0m           cl = \u001b[1;35mdata.clip\u001b[0m\u001b[1m(\u001b[0mself.min, self.max, \u001b[33minplace\u001b[0m=\u001b[3;91mFalse\u001b[0m\u001b[1m)\u001b[0m                                                            \u001b[2m               \u001b[0m\n",
      "\u001b[0m                                                                                                                        \u001b[2m               \u001b[0m\n",
      "\u001b[0m\u001b[31mWARNING \u001b[0m \u001b[35m/mnt/ext/projects/pasteur/src/pasteur/extras/\u001b[0m\u001b[95mtransformers.py\u001b[0m:\u001b[1;36m56\u001b[0m: SettingWithCopyWarning:                       \u001b[2mwarnings.py\u001b[0m\u001b[2m:\u001b[0m\u001b[2m109\u001b[0m\n",
      "\u001b[0m         A value is trying to be set on a copy of a slice from a DataFrame                                              \u001b[2m               \u001b[0m\n",
      "\u001b[0m                                                                                                                        \u001b[2m               \u001b[0m\n",
      "\u001b[0m         See the caveats in the documentation:                                                                          \u001b[2m               \u001b[0m\n",
      "\u001b[0m         \u001b[4;94mhttps://pandas.pydata.org/pandas-docs/stable/user_guide/indexing.html#returning-a-view-versus-a-copy\u001b[0m           \u001b[2m               \u001b[0m\n",
      "\u001b[0m           cl = \u001b[1;35mdata.clip\u001b[0m\u001b[1m(\u001b[0mself.min, self.max, \u001b[33minplace\u001b[0m=\u001b[3;91mFalse\u001b[0m\u001b[1m)\u001b[0m                                                            \u001b[2m               \u001b[0m\n",
      "\u001b[0m                                                                                                                        \u001b[2m               \u001b[0m\n",
      "\u001b[0m\u001b[31mWARNING \u001b[0m \u001b[35m/mnt/ext/projects/pasteur/src/pasteur/extras/\u001b[0m\u001b[95mtransformers.py\u001b[0m:\u001b[1;36m56\u001b[0m: SettingWithCopyWarning:                       \u001b[2mwarnings.py\u001b[0m\u001b[2m:\u001b[0m\u001b[2m109\u001b[0m\n",
      "\u001b[0m         A value is trying to be set on a copy of a slice from a DataFrame                                              \u001b[2m               \u001b[0m\n",
      "\u001b[0m                                                                                                                        \u001b[2m               \u001b[0m\n",
      "\u001b[0m         See the caveats in the documentation:                                                                          \u001b[2m               \u001b[0m\n",
      "\u001b[0m         \u001b[4;94mhttps://pandas.pydata.org/pandas-docs/stable/user_guide/indexing.html#returning-a-view-versus-a-copy\u001b[0m           \u001b[2m               \u001b[0m\n",
      "\u001b[0m           cl = \u001b[1;35mdata.clip\u001b[0m\u001b[1m(\u001b[0mself.min, self.max, \u001b[33minplace\u001b[0m=\u001b[3;91mFalse\u001b[0m\u001b[1m)\u001b[0m                                                            \u001b[2m               \u001b[0m\n",
      "\u001b[0m                                                                                                                        \u001b[2m               \u001b[0m\n",
      "\u001b[0m\u001b[31mWARNING \u001b[0m \u001b[35m/mnt/ext/projects/pasteur/src/pasteur/extras/\u001b[0m\u001b[95mtransformers.py\u001b[0m:\u001b[1;36m56\u001b[0m: SettingWithCopyWarning:                       \u001b[2mwarnings.py\u001b[0m\u001b[2m:\u001b[0m\u001b[2m109\u001b[0m\n",
      "\u001b[0m         A value is trying to be set on a copy of a slice from a DataFrame                                              \u001b[2m               \u001b[0m\n",
      "\u001b[0m                                                                                                                        \u001b[2m               \u001b[0m\n",
      "\u001b[0m         See the caveats in the documentation:                                                                          \u001b[2m               \u001b[0m\n",
      "\u001b[0m         \u001b[4;94mhttps://pandas.pydata.org/pandas-docs/stable/user_guide/indexing.html#returning-a-view-versus-a-copy\u001b[0m           \u001b[2m               \u001b[0m\n",
      "\u001b[0m           cl = \u001b[1;35mdata.clip\u001b[0m\u001b[1m(\u001b[0mself.min, self.max, \u001b[33minplace\u001b[0m=\u001b[3;91mFalse\u001b[0m\u001b[1m)\u001b[0m                                                            \u001b[2m               \u001b[0m\n",
      "\u001b[0m                                                                                                                        \u001b[2m               \u001b[0m\n",
      "\u001b[0m\u001b[31mWARNING \u001b[0m \u001b[35m/mnt/ext/projects/pasteur/src/pasteur/extras/\u001b[0m\u001b[95mtransformers.py\u001b[0m:\u001b[1;36m56\u001b[0m: SettingWithCopyWarning:                       \u001b[2mwarnings.py\u001b[0m\u001b[2m:\u001b[0m\u001b[2m109\u001b[0m\n",
      "\u001b[0m         A value is trying to be set on a copy of a slice from a DataFrame                                              \u001b[2m               \u001b[0m\n",
      "\u001b[0m                                                                                                                        \u001b[2m               \u001b[0m\n",
      "\u001b[0m         See the caveats in the documentation:                                                                          \u001b[2m               \u001b[0m\n",
      "\u001b[0m         \u001b[4;94mhttps://pandas.pydata.org/pandas-docs/stable/user_guide/indexing.html#returning-a-view-versus-a-copy\u001b[0m           \u001b[2m               \u001b[0m\n",
      "\u001b[0m           cl = \u001b[1;35mdata.clip\u001b[0m\u001b[1m(\u001b[0mself.min, self.max, \u001b[33minplace\u001b[0m=\u001b[3;91mFalse\u001b[0m\u001b[1m)\u001b[0m                                                            \u001b[2m               \u001b[0m\n",
      "\u001b[0m                                                                                                                        \u001b[2m               \u001b[0m\n"
     ]
    },
    {
     "ename": "",
     "evalue": "",
     "output_type": "error",
     "traceback": [
      "\u001b[1;31mThe Kernel crashed while executing code in the the current cell or a previous cell. Please review the code in the cell(s) to identify a possible cause of the failure. Click <a href='https://aka.ms/vscodeJupyterKernelCrash'>here</a> for more info. View Jupyter <a href='command:jupyter.viewOutput'>log</a> for further details."
     ]
    }
   ],
   "source": [
    "a = trn.transform(s)\n",
    "del a"
   ]
  },
  {
   "cell_type": "code",
   "execution_count": null,
   "metadata": {},
   "outputs": [],
   "source": [
    "import objgraph\n",
    "\n",
    "objgraph.show_growth(limit=3) \n",
    "a = trn.transform(s)\n",
    "del a\n",
    "objgraph.show_growth(limit=1000) "
   ]
  },
  {
   "cell_type": "code",
   "execution_count": null,
   "metadata": {},
   "outputs": [],
   "source": [
    "import random\n",
    "objgraph.show_chain(\n",
    "    objgraph.find_backref_chain(\n",
    "        random.choice(objgraph.by_type('Int64Engine')),\n",
    "        objgraph.is_proper_module),\n",
    "    filename='chain.png')"
   ]
  },
  {
   "cell_type": "code",
   "execution_count": null,
   "metadata": {},
   "outputs": [],
   "source": [
    "# start = tracemalloc.take_snapshot()\n",
    "# a = trn.transform(s)\n",
    "# del a\n",
    "# end = tracemalloc.take_snapshot()"
   ]
  },
  {
   "cell_type": "code",
   "execution_count": null,
   "metadata": {},
   "outputs": [],
   "source": [
    "# import gc\n",
    "\n",
    "# for i in range(100):\n",
    "#     a = trn.transform(s)\n",
    "#     del a\n",
    "#     print(f\"{gc.collect()}, {gc.get_stats()}\")"
   ]
  },
  {
   "cell_type": "code",
   "execution_count": null,
   "metadata": {},
   "outputs": [],
   "source": [
    "# ntrn = trn.transformer.transformers[col]\n",
    "# for i in trange(10000):\n",
    "#     a = ntrn.transform(s[col])\n",
    "#     del a"
   ]
  },
  {
   "cell_type": "code",
   "execution_count": null,
   "metadata": {},
   "outputs": [],
   "source": [
    "diff = end.compare_to(start, \"filename\")"
   ]
  },
  {
   "cell_type": "code",
   "execution_count": null,
   "metadata": {},
   "outputs": [],
   "source": [
    "for stat in sorted(diff, key=lambda a: a.size_diff, reverse=True):\n",
    "    if stat.count_diff == 0:\n",
    "        continue\n",
    "    \n",
    "    print(f\"{stat.size_diff:10d}: {stat.traceback}\")"
   ]
  },
  {
   "cell_type": "code",
   "execution_count": null,
   "metadata": {},
   "outputs": [],
   "source": [
    "import xdot"
   ]
  },
  {
   "cell_type": "code",
   "execution_count": null,
   "metadata": {},
   "outputs": [],
   "source": [
    "import pandas.util._decorators"
   ]
  }
 ],
 "metadata": {
  "language_info": {
   "codemirror_mode": {
    "name": "ipython",
    "version": 3
   },
   "file_extension": ".py",
   "mimetype": "text/x-python",
   "name": "python",
   "nbconvert_exporter": "python",
   "pygments_lexer": "ipython3",
   "version": "3.10.8"
  },
  "vscode": {
   "interpreter": {
    "hash": "50661068d2d5c6ff1ce24ae701dfa73cc4ae117a223c3f7199e1fdb4656c8912"
   }
  }
 },
 "nbformat": 4,
 "nbformat_minor": 2
}
