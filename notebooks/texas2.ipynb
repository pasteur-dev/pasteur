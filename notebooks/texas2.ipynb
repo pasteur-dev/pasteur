{
 "cells": [
  {
   "cell_type": "code",
   "execution_count": null,
   "metadata": {},
   "outputs": [
    {
     "name": "stdout",
     "output_type": "stream",
     "text": [
      "\u001b[0m\u001b[34mINFO    \u001b[0m Kedro project Pasteur                                                                                           \u001b[2m__init__.py\u001b[0m\u001b[2m:\u001b[0m\u001b[2m77\u001b[0m\n",
      "\u001b[0m\u001b[34mINFO    \u001b[0m Defined global variable \u001b[32m'context'\u001b[0m, \u001b[32m'session'\u001b[0m, \u001b[32m'catalog'\u001b[0m and \u001b[32m'pipelines'\u001b[0m                                         \u001b[2m__init__.py\u001b[0m\u001b[2m:\u001b[0m\u001b[2m78\u001b[0m\n",
      "\u001b[0m\u001b[31mWARNING \u001b[0m \u001b[35m/mnt/ext/projects/pasteur/venv/lib/python3.10/site-packages/plotly/graph_objects/\u001b[0m\u001b[95m__init__.py\u001b[0m:\u001b[1;36m288\u001b[0m:              \u001b[2mwarnings.py\u001b[0m\u001b[2m:\u001b[0m\u001b[2m109\u001b[0m\n",
      "\u001b[0m         DeprecationWarning: distutils Version classes are deprecated. Use packaging.version instead.                   \u001b[2m               \u001b[0m\n",
      "\u001b[0m           if \u001b[1;35mLooseVersion\u001b[0m\u001b[1m(\u001b[0mipywidgets.__version__\u001b[1m)\u001b[0m >= \u001b[1;35mLooseVersion\u001b[0m\u001b[1m(\u001b[0m\u001b[32m\"7.0.0\"\u001b[0m\u001b[1m)\u001b[0m:                                            \u001b[2m               \u001b[0m\n",
      "\u001b[0m                                                                                                                        \u001b[2m               \u001b[0m\n",
      "\u001b[0m\u001b[34mINFO    \u001b[0m Registered line magic \u001b[32m'run_viz'\u001b[0m                                                                                 \u001b[2m__init__.py\u001b[0m\u001b[2m:\u001b[0m\u001b[2m84\u001b[0m\n"
     ]
    }
   ],
   "source": [
    "# import tracemalloc\n",
    "# tracemalloc.start()\n",
    "\n",
    "from pasteur.kedro.ipython import * # type: ignore\n",
    "register_kedro() # type: ignore~~"
   ]
  },
  {
   "cell_type": "code",
   "execution_count": null,
   "metadata": {},
   "outputs": [
    {
     "name": "stdout",
     "output_type": "stream",
     "text": [
      "\u001b[0m\u001b[31mWARNING \u001b[0m \u001b[35m/mnt/ext/projects/pasteur/venv/lib/python3.10/site-packages/IPython/extensions/\u001b[0m\u001b[95mautoreload.py\u001b[0m:\u001b[1;36m121\u001b[0m:              \u001b[2mwarnings.py\u001b[0m\u001b[2m:\u001b[0m\u001b[2m109\u001b[0m\n",
      "\u001b[0m         DeprecationWarning: the imp module is deprecated in favour of importlib and slated for removal in Python \u001b[1;36m3.12\u001b[0m; \u001b[2m               \u001b[0m\n",
      "\u001b[0m         see the module's documentation for alternative uses                                                            \u001b[2m               \u001b[0m\n",
      "\u001b[0m           from imp import reload                                                                                       \u001b[2m               \u001b[0m\n",
      "\u001b[0m                                                                                                                        \u001b[2m               \u001b[0m\n"
     ]
    }
   ],
   "source": [
    "%load_ext autoreload\n",
    "%autoreload 2"
   ]
  },
  {
   "cell_type": "code",
   "execution_count": null,
   "metadata": {},
   "outputs": [],
   "source": [
    "table = catalog.load('texas_charges.wrk.bst_table').sample()\n",
    "trn = catalog.load('texas_charges.trn.table')"
   ]
  },
  {
   "cell_type": "code",
   "execution_count": null,
   "metadata": {},
   "outputs": [
    {
     "name": "stdout",
     "output_type": "stream",
     "text": [
      "<class 'pandas.core.frame.DataFrame'>\n",
      "Int64Index: 9245057 entries, 0 to 11557148\n",
      "Data columns (total 12 columns):\n",
      " #   Column                 Dtype \n",
      "---  ------                 ----- \n",
      " 0   revenue_code           uint16\n",
      " 1   hcpcs_qualifier        uint8 \n",
      " 2   hcpcs_procedure_code   uint16\n",
      " 3   modifier_1             uint8 \n",
      " 4   modifier_2             uint8 \n",
      " 5   modifier_3             uint8 \n",
      " 6   modifier_4             uint8 \n",
      " 7   unit_measurement_code  uint8 \n",
      " 8   units_of_service       uint8 \n",
      " 9   unit_rate              uint8 \n",
      " 10  chrgs_line_item        uint8 \n",
      " 11  chrgs_non_cov          uint8 \n",
      "dtypes: uint16(2), uint8(10)\n",
      "memory usage: 194.0 MB\n"
     ]
    }
   ],
   "source": [
    "trn[\"idx\"].encode(catalog.load('texas_charges.wrk.bst_table').sample()).info()"
   ]
  },
  {
   "cell_type": "code",
   "execution_count": null,
   "metadata": {},
   "outputs": [
    {
     "name": "stdout",
     "output_type": "stream",
     "text": [
      "<class 'pandas.core.frame.DataFrame'>\n",
      "Int64Index: 9251363 entries, 0 to 11557133\n",
      "Data columns (total 13 columns):\n",
      " #   Column                 Dtype   \n",
      "---  ------                 -----   \n",
      " 0   record_id              int64   \n",
      " 1   revenue_code           category\n",
      " 2   hcpcs_qualifier        category\n",
      " 3   hcpcs_procedure_code   category\n",
      " 4   modifier_1             category\n",
      " 5   modifier_2             category\n",
      " 6   modifier_3             category\n",
      " 7   modifier_4             category\n",
      " 8   unit_measurement_code  category\n",
      " 9   units_of_service       Int32   \n",
      " 10  unit_rate              float32 \n",
      " 11  chrgs_line_item        float32 \n",
      " 12  chrgs_non_cov          float32 \n",
      "dtypes: Int32(1), category(8), float32(3), int64(1)\n",
      "memory usage: 379.5 MB\n"
     ]
    },
    {
     "ename": "",
     "evalue": "",
     "output_type": "error",
     "traceback": [
      "\u001b[1;31mThe Kernel crashed while executing code in the the current cell or a previous cell. Please review the code in the cell(s) to identify a possible cause of the failure. Click <a href='https://aka.ms/vscodeJupyterKernelCrash'>here</a> for more info. View Jupyter <a href='command:jupyter.viewOutput'>log</a> for further details."
     ]
    }
   ],
   "source": [
    "catalog.load('texas_charges.ident_idx.table').sample().info()"
   ]
  },
  {
   "cell_type": "code",
   "execution_count": null,
   "metadata": {},
   "outputs": [],
   "source": []
  }
 ],
 "metadata": {
  "language_info": {
   "codemirror_mode": {
    "name": "ipython",
    "version": 3
   },
   "file_extension": ".py",
   "mimetype": "text/x-python",
   "name": "python",
   "nbconvert_exporter": "python",
   "pygments_lexer": "ipython3",
   "version": "3.10.8"
  },
  "vscode": {
   "interpreter": {
    "hash": "50661068d2d5c6ff1ce24ae701dfa73cc4ae117a223c3f7199e1fdb4656c8912"
   }
  }
 },
 "nbformat": 4,
 "nbformat_minor": 2
}
