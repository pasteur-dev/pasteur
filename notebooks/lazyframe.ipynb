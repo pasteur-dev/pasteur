{
 "cells": [
  {
   "cell_type": "code",
   "execution_count": null,
   "metadata": {},
   "outputs": [],
   "source": [
    "from typing import TYPE_CHECKING, Any, Generic, TypeVar\n",
    "\n",
    "if TYPE_CHECKING:\n",
    "    import pandas as pd\n",
    "\n",
    "A = TypeVar('A')\n",
    "\n",
    "class LazyChunk(Generic[A]):\n",
    "    def __call__(self, columns: list[str] | None = None, chunksize: int | None = None) -> A:\n",
    "        raise NotImplementedError()\n",
    "\n",
    "class LazyDataset(Generic[A]):\n",
    "    def __init__(self, merged_load: LazyChunk[A], partitions: dict[str, LazyChunk[A]] | None = None) -> None:\n",
    "        self._partitions = partitions\n",
    "        self.merged_load = merged_load\n",
    "\n",
    "    def __call__(self, columns: list[str] | None = None) -> Any:\n",
    "        return self.merged_load(columns=columns)\n",
    "\n",
    "    def __getitem__(self, pid: str) -> LazyChunk[A]:\n",
    "        assert self._partitions, \"No partitions found.\"\n",
    "        return self._partitions[pid]\n",
    "    \n",
    "    def __iter__(self):\n",
    "        if self._partitions:\n",
    "            return iter(self._partitions)\n",
    "        return iter([self.merged_load])\n",
    "\n",
    "class LazyFrame(LazyDataset[\"pd.DataFrame\"]):\n",
    "    ..."
   ]
  }
 ],
 "metadata": {
  "language_info": {
   "name": "python",
   "version": "3.10.8"
  },
  "vscode": {
   "interpreter": {
    "hash": "50661068d2d5c6ff1ce24ae701dfa73cc4ae117a223c3f7199e1fdb4656c8912"
   }
  }
 },
 "nbformat": 4,
 "nbformat_minor": 2
}
