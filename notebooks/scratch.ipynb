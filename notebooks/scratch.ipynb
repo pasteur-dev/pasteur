{
 "cells": [
  {
   "cell_type": "code",
   "metadata": {},
   "outputs": [
    {
     "name": "stdout",
     "output_type": "stream",
     "text": [
      "2000-01-01 00:00:00,000 - kedro.io.data_catalog - INFO - Loading data from `mimic.core_patients` (ParquetDataSet)...\n",
      "2000-01-01 00:00:00,000 - kedro.io.data_catalog - INFO - Loading data from `mimic.core_admissions` (ParquetDataSet)...\n",
      "2000-01-01 00:00:00,000 - kedro.io.data_catalog - INFO - Loading data from `mimic.hosp_labevents` (ParquetDataSet)...\n"
     ]
    }
   ],
   "source": [
    "# Removes lint errors from VS Code\n",
    "from typing import Dict, TYPE_CHECKING, Tuple, List\n",
    "\n",
    "if TYPE_CHECKING:\n",
    "    import kedro\n",
    "    catalog: kedro.io.data_catalog.DataCatalog\n",
    "    session: kedro.framework.session.session.KedroSession\n",
    "    catalog: kedro.io.data_catalog.DataCatalog\n",
    "    pipelines: Dict[str, kedro.pipeline.pipeline.Pipeline]\n",
    "\n",
    "import pandas as pd\n",
    "patients: pd.DataFrame = catalog.load('mimic.core_patients')\n",
    "admissions: pd.DataFrame = catalog.load('mimic.core_admissions')\n",
    "labevents: pd.DataFrame = catalog.load('mimic.hosp_labevents')"
   ]
  },
  {
   "cell_type": "code",
   "metadata": {},
   "outputs": [],
   "source": [
    "from pandas.api.types import is_datetime64_any_dtype as is_datetime\n",
    "\n",
    "\n",
    "def mk_dates_relative(\n",
    "    source_table: pd.DataFrame,\n",
    "    source_idx_col: str,\n",
    "    date_table: pd.DataFrame,\n",
    "    date_col: str,\n",
    "    date_format: str = None,\n",
    "):\n",
    "    rel_table = source_table.copy(deep=False)\n",
    "    dates = date_table[date_col]\n",
    "\n",
    "    # Some date indexes can be null, in this case drop the rows that contain them\n",
    "    # Using a relative date would make no sense for them\n",
    "    rel_table = rel_table.dropna(subset=[source_idx_col])\n",
    "\n",
    "    # Some target columns are not dates by default\n",
    "    # ex. patient table anchor_year is not a date\n",
    "    if date_format:\n",
    "        dates = pd.to_datetime(dates, format=date_format)\n",
    "    else:\n",
    "        assert is_datetime(dates), f\"Date col {date_col} is not a datetime and no date_format was provided\"\n",
    "\n",
    "    # Create column that matches source_table\n",
    "    synced_dates = dates[rel_table[source_idx_col]]\n",
    "    synced_dates.index = rel_table.index\n",
    "\n",
    "    for col in source_table.keys():\n",
    "        if not is_datetime(source_table[col]):\n",
    "            continue\n",
    "\n",
    "        rel_table[col] = source_table[col] - synced_dates\n",
    "\n",
    "    return rel_table\n"
   ]
  },
  {
   "cell_type": "code",
   "metadata": {},
   "outputs": [],
   "source": [
    "# sensitive\n",
    "mk_dates_relative(admissions, 'subject_id', patients, 'anchor_year', '%Y')"
   ]
  },
  {
   "cell_type": "code",
   "metadata": {},
   "outputs": [],
   "source": [
    "# sensitive\n",
    "labevents_short = labevents[:5000000]\n",
    "mk_dates_relative(labevents_short, 'hadm_id', admissions, 'admittime')"
   ]
  },
  {
   "cell_type": "code",
   "metadata": {},
   "outputs": [],
   "source": [
    "labevents_short = labevents[:40000000]\n",
    "time_events = labevents_short[['subject_id', 'hadm_id', 'charttime', 'storetime']].merge(admissions.reset_index()[['subject_id', 'hadm_id', 'admittime', 'dischtime']], on='subject_id');"
   ]
  },
  {
   "cell_type": "code",
   "metadata": {},
   "outputs": [
    {
     "data": {
      "text/plain": [
       "(22012063, 21740699, 22497081)"
      ]
     },
     "execution_count": 36,
     "metadata": {},
     "output_type": "execute_result"
    }
   ],
   "source": [
    "hosp_events = (time_events['admittime'] < time_events['charttime']) & (time_events['charttime'] < time_events['dischtime'])\n",
    "hosp_events_w_adm = hosp_events & (time_events['hadm_id_x'] == time_events['hadm_id_y'])\n",
    "adm_events = labevents[:40000000].dropna(subset=['hadm_id']).merge(admissions.reset_index(), on='hadm_id')\n",
    "\n",
    "hosp_events.sum(), hosp_events_w_adm.sum(), len(adm_events)"
   ]
  },
  {
   "cell_type": "code",
   "metadata": {},
   "outputs": [
    {
     "data": {
      "text/plain": [
       "(382278, 246569, 256878, 328743)"
      ]
     },
     "execution_count": 25,
     "metadata": {},
     "output_type": "execute_result"
    }
   ],
   "source": [
    "len(patients), len(labevents[['subject_id']].merge(pd.DataFrame(admissions['subject_id'].unique(), columns=['subject_id']))['subject_id'].unique()), len(admissions['subject_id'].unique()), len(labevents['subject_id'].unique())"
   ]
  },
  {
   "cell_type": "code",
   "metadata": {},
   "outputs": [],
   "source": []
  }
 ],
 "metadata": {
  "language_info": {
   "codemirror_mode": {
    "name": "ipython",
    "version": 3
   },
   "file_extension": ".py",
   "mimetype": "text/x-python",
   "name": "python",
   "nbconvert_exporter": "python",
   "pygments_lexer": "ipython3",
   "version": "3.8.10"
  },
  "vscode": {
   "interpreter": {
    "hash": "50661068d2d5c6ff1ce24ae701dfa73cc4ae117a223c3f7199e1fdb4656c8912"
   }
  }
 },
 "nbformat": 4,
 "nbformat_minor": 2
}
