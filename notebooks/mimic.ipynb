{
 "cells": [
  {
   "cell_type": "code",
   "execution_count": null,
   "metadata": {},
   "outputs": [
    {
     "name": "stdout",
     "output_type": "stream",
     "text": [
      "\u001b[0m\u001b[34mINFO    \u001b[0m Kedro project Pasteur                                                                                           \u001b[2m__init__.py\u001b[0m\u001b[2m:\u001b[0m\u001b[2m77\u001b[0m\n",
      "\u001b[0m\u001b[34mINFO    \u001b[0m Defined global variable \u001b[32m'context'\u001b[0m, \u001b[32m'session'\u001b[0m, \u001b[32m'catalog'\u001b[0m and \u001b[32m'pipelines'\u001b[0m                                         \u001b[2m__init__.py\u001b[0m\u001b[2m:\u001b[0m\u001b[2m78\u001b[0m\n",
      "\u001b[0m\u001b[34mINFO    \u001b[0m Registered line magic \u001b[32m'run_viz'\u001b[0m                                                                                 \u001b[2m__init__.py\u001b[0m\u001b[2m:\u001b[0m\u001b[2m84\u001b[0m\n"
     ]
    }
   ],
   "source": [
    "from pasteur.kedro.ipython import * # type: ignore\n",
    "register_kedro() # type: ignore\n",
    "\n",
    "%load_ext autoreload\n",
    "%autoreload 2"
   ]
  },
  {
   "cell_type": "code",
   "execution_count": null,
   "metadata": {},
   "outputs": [
    {
     "name": "stdout",
     "output_type": "stream",
     "text": [
      "                mimic.core_patients:     382,278 5\n",
      "              mimic.core_admissions:     523,740 14\n",
      "                         mimic.keys:     382,278 0\n",
      "                 mimic.icu_icustays:      76,540 7\n",
      "              mimic.icu_chartevents: 329,499,788 10\n",
      "               mimic.core_transfers:   2,189,535 6\n",
      "                 mimic.hosp_d_hcpcs:      89,200 3\n",
      "           mimic.hosp_diagnoses_icd:   5,280,351 5\n",
      "         mimic.hosp_d_icd_diagnoses:     109,775 2\n",
      "        mimic.hosp_d_icd_procedures:      85,257 2\n",
      "              mimic.hosp_d_labitems:       1,630 4\n",
      "                mimic.hosp_drgcodes:     769,622 7\n",
      "             mimic.hosp_hcpcsevents:     160,727 6\n",
      "      mimic.hosp_microbiologyevents:   3,397,914 23\n",
      "              mimic.hosp_poe_detail:   3,256,358 4\n",
      "          mimic.hosp_procedures_icd:     779,625 6\n",
      "                mimic.hosp_services:     562,892 5\n",
      "           mimic.icu_datetimeevents:   7,495,712 9\n",
      "                  mimic.icu_d_items:       3,861 8\n",
      "             mimic.icu_outputevents:   4,457,381 8\n",
      "          mimic.icu_procedureevents:     731,247 26\n",
      "                    mimic.hosp_emar:  27,464,367 11\n",
      "             mimic.hosp_emar_detail:  55,947,921 32\n",
      "               mimic.hosp_labevents: 122,103,667 14\n",
      "                mimic.hosp_pharmacy:  14,736,384 27\n",
      "                     mimic.hosp_poe:  42,483,962 10\n",
      "           mimic.hosp_prescriptions:  17,008,053 17\n",
      "              mimic.icu_inputevents:   9,460,658 26\n"
     ]
    }
   ],
   "source": [
    "mimic = [n for n in catalog.list() if n.startswith('mimic.') and not 'raw' in n]\n",
    "for table in mimic:\n",
    "    n, d = catalog.load(table).shape\n",
    "    print(f\"{table:>35s}: {n:>11,d} {d}\")"
   ]
  },
  {
   "cell_type": "code",
   "execution_count": null,
   "metadata": {},
   "outputs": [],
   "source": [
    "a = catalog.load('mimic.icu_chartevents').sample()"
   ]
  },
  {
   "cell_type": "code",
   "execution_count": null,
   "metadata": {},
   "outputs": [
    {
     "name": "stdout",
     "output_type": "stream",
     "text": [
      "\u001b[1m(\u001b[0m\u001b[1;36m329499788\u001b[0m, \u001b[1;36m10\u001b[0m\u001b[1m)\u001b[0m\n"
     ]
    }
   ],
   "source": [
    "catalog.load('mimic.icu_chartevents').shape"
   ]
  },
  {
   "cell_type": "code",
   "execution_count": null,
   "metadata": {},
   "outputs": [],
   "source": [
    "patients = catalog.load('mimic.core_patients')()\n",
    "stays = catalog.load('mimic.icu_icustays')()\n",
    "events = catalog.load('mimic.icu_chartevents').sample()"
   ]
  },
  {
   "cell_type": "code",
   "execution_count": null,
   "metadata": {},
   "outputs": [
    {
     "name": "stdout",
     "output_type": "stream",
     "text": [
      "\u001b[1m(\u001b[0m\u001b[1;36m61879206\u001b[0m, \u001b[1;36m10\u001b[0m\u001b[1m)\u001b[0m\n"
     ]
    }
   ],
   "source": [
    "events.shape"
   ]
  },
  {
   "cell_type": "code",
   "execution_count": null,
   "metadata": {},
   "outputs": [
    {
     "data": {
      "text/html": [
       "<div>\n",
       "<style scoped>\n",
       "    .dataframe tbody tr th:only-of-type {\n",
       "        vertical-align: middle;\n",
       "    }\n",
       "\n",
       "    .dataframe tbody tr th {\n",
       "        vertical-align: top;\n",
       "    }\n",
       "\n",
       "    .dataframe thead th {\n",
       "        text-align: right;\n",
       "    }\n",
       "</style>\n",
       "<table border=\"1\" class=\"dataframe\">\n",
       "  <thead>\n",
       "    <tr style=\"text-align: right;\">\n",
       "      <th></th>\n",
       "      <th>subject_id</th>\n",
       "      <th>charttime</th>\n",
       "      <th>storetime</th>\n",
       "      <th>itemid</th>\n",
       "      <th>value</th>\n",
       "      <th>valuenum</th>\n",
       "      <th>valueuom</th>\n",
       "      <th>warning</th>\n",
       "      <th>first_careunit</th>\n",
       "      <th>last_careunit</th>\n",
       "      <th>intime</th>\n",
       "      <th>outtime</th>\n",
       "      <th>los</th>\n",
       "      <th>gender</th>\n",
       "      <th>dod</th>\n",
       "      <th>birth_year</th>\n",
       "    </tr>\n",
       "  </thead>\n",
       "  <tbody>\n",
       "    <tr>\n",
       "      <th>175171303</th>\n",
       "      <td>17498523</td>\n",
       "      <td>2169-08-14 18:30:00</td>\n",
       "      <td>2169-08-14 23:57:00</td>\n",
       "      <td>220734</td>\n",
       "      <td>6.5</td>\n",
       "      <td>6.500</td>\n",
       "      <td>units</td>\n",
       "      <td>False</td>\n",
       "      <td>Trauma SICU (TSICU)</td>\n",
       "      <td>Trauma SICU (TSICU)</td>\n",
       "      <td>2169-08-14 19:56:00</td>\n",
       "      <td>2169-08-15 21:33:28</td>\n",
       "      <td>1.067685</td>\n",
       "      <td>F</td>\n",
       "      <td>NaT</td>\n",
       "      <td>2095-01-01</td>\n",
       "    </tr>\n",
       "    <tr>\n",
       "      <th>175171304</th>\n",
       "      <td>17498523</td>\n",
       "      <td>2169-08-14 18:30:00</td>\n",
       "      <td>2169-08-14 23:57:00</td>\n",
       "      <td>227471</td>\n",
       "      <td>1.009</td>\n",
       "      <td>1.009</td>\n",
       "      <td>NaN</td>\n",
       "      <td>False</td>\n",
       "      <td>Trauma SICU (TSICU)</td>\n",
       "      <td>Trauma SICU (TSICU)</td>\n",
       "      <td>2169-08-14 19:56:00</td>\n",
       "      <td>2169-08-15 21:33:28</td>\n",
       "      <td>1.067685</td>\n",
       "      <td>F</td>\n",
       "      <td>NaT</td>\n",
       "      <td>2095-01-01</td>\n",
       "    </tr>\n",
       "    <tr>\n",
       "      <th>175171305</th>\n",
       "      <td>17498523</td>\n",
       "      <td>2169-08-14 20:14:00</td>\n",
       "      <td>2169-08-14 21:02:00</td>\n",
       "      <td>220277</td>\n",
       "      <td>98</td>\n",
       "      <td>98.000</td>\n",
       "      <td>%</td>\n",
       "      <td>False</td>\n",
       "      <td>Trauma SICU (TSICU)</td>\n",
       "      <td>Trauma SICU (TSICU)</td>\n",
       "      <td>2169-08-14 19:56:00</td>\n",
       "      <td>2169-08-15 21:33:28</td>\n",
       "      <td>1.067685</td>\n",
       "      <td>F</td>\n",
       "      <td>NaT</td>\n",
       "      <td>2095-01-01</td>\n",
       "    </tr>\n",
       "    <tr>\n",
       "      <th>175171306</th>\n",
       "      <td>17498523</td>\n",
       "      <td>2169-08-14 20:15:00</td>\n",
       "      <td>2169-08-14 20:19:00</td>\n",
       "      <td>220046</td>\n",
       "      <td>135</td>\n",
       "      <td>135.000</td>\n",
       "      <td>bpm</td>\n",
       "      <td>False</td>\n",
       "      <td>Trauma SICU (TSICU)</td>\n",
       "      <td>Trauma SICU (TSICU)</td>\n",
       "      <td>2169-08-14 19:56:00</td>\n",
       "      <td>2169-08-15 21:33:28</td>\n",
       "      <td>1.067685</td>\n",
       "      <td>F</td>\n",
       "      <td>NaT</td>\n",
       "      <td>2095-01-01</td>\n",
       "    </tr>\n",
       "    <tr>\n",
       "      <th>175171307</th>\n",
       "      <td>17498523</td>\n",
       "      <td>2169-08-14 20:15:00</td>\n",
       "      <td>2169-08-14 20:19:00</td>\n",
       "      <td>220047</td>\n",
       "      <td>70</td>\n",
       "      <td>70.000</td>\n",
       "      <td>bpm</td>\n",
       "      <td>False</td>\n",
       "      <td>Trauma SICU (TSICU)</td>\n",
       "      <td>Trauma SICU (TSICU)</td>\n",
       "      <td>2169-08-14 19:56:00</td>\n",
       "      <td>2169-08-15 21:33:28</td>\n",
       "      <td>1.067685</td>\n",
       "      <td>F</td>\n",
       "      <td>NaT</td>\n",
       "      <td>2095-01-01</td>\n",
       "    </tr>\n",
       "  </tbody>\n",
       "</table>\n",
       "</div>"
      ]
     },
     "execution_count": null,
     "metadata": {},
     "output_type": "execute_result"
    }
   ],
   "source": [
    "import pandas as pd\n",
    "\n",
    "birth_year = patients[\"anchor_year\"] - patients[\"anchor_age\"]\n",
    "birth_year_date = pd.to_datetime(birth_year, format=\"%Y\")\n",
    "\n",
    "test = (\n",
    "    events.join(\n",
    "        stays.drop(columns=[\"subject_id\", \"hadm_id\"]), how=\"inner\", on=\"stay_id\"\n",
    "    )\n",
    "    .join(\n",
    "        patients.drop(\n",
    "            columns=[\"anchor_age\", \"anchor_year\", \"anchor_year_group\"]\n",
    "        ).assign(birth_year=birth_year_date),\n",
    "        how=\"inner\",\n",
    "        on=\"subject_id\",\n",
    "    )\n",
    "    .drop(columns=[\"hadm_id\", \"stay_id\"])\n",
    ")\n",
    "test.head()\n"
   ]
  },
  {
   "cell_type": "code",
   "execution_count": null,
   "metadata": {},
   "outputs": [
    {
     "name": "stdout",
     "output_type": "stream",
     "text": [
      "<class 'pandas.core.frame.DataFrame'>\n",
      "Int64Index: 61879206 entries, 175171303 to 287546602\n",
      "Data columns (total 16 columns):\n",
      " #   Column          Dtype         \n",
      "---  ------          -----         \n",
      " 0   subject_id      int32         \n",
      " 1   charttime       datetime64[ns]\n",
      " 2   storetime       datetime64[ns]\n",
      " 3   itemid          category      \n",
      " 4   value           category      \n",
      " 5   valuenum        float32       \n",
      " 6   valueuom        category      \n",
      " 7   warning         bool          \n",
      " 8   first_careunit  category      \n",
      " 9   last_careunit   category      \n",
      " 10  intime          datetime64[ns]\n",
      " 11  outtime         datetime64[ns]\n",
      " 12  los             float64       \n",
      " 13  gender          category      \n",
      " 14  dod             datetime64[ns]\n",
      " 15  birth_year      datetime64[ns]\n",
      "dtypes: bool(1), category(6), datetime64[ns](6), float32(1), float64(1), int32(1)\n",
      "memory usage: 4.7 GB\n"
     ]
    }
   ],
   "source": [
    "test.info()"
   ]
  },
  {
   "cell_type": "code",
   "execution_count": null,
   "metadata": {},
   "outputs": [
    {
     "name": "stdout",
     "output_type": "stream",
     "text": [
      "\u001b[1;36m0\u001b[0m\n"
     ]
    }
   ],
   "source": [
    "import numpy as np\n",
    "\n",
    "np.count_nonzero(pd.isna(test['intime']))"
   ]
  },
  {
   "cell_type": "code",
   "execution_count": null,
   "metadata": {},
   "outputs": [],
   "source": [
    "from pasteur.extras.views.mimic import MimicBillion"
   ]
  },
  {
   "cell_type": "code",
   "execution_count": null,
   "metadata": {},
   "outputs": [],
   "source": [
    "b = MimicBillion()\n",
    "funs = b.ingest('table', **{n: catalog.load(f\"mimic.{n}\") for n in b.deps['table']})"
   ]
  },
  {
   "cell_type": "code",
   "execution_count": null,
   "metadata": {},
   "outputs": [],
   "source": [
    "from pasteur.extras.utils import ColumnResampler"
   ]
  },
  {
   "cell_type": "code",
   "execution_count": null,
   "metadata": {},
   "outputs": [],
   "source": [
    "r = ColumnResampler(a['value'], 375, True)"
   ]
  },
  {
   "cell_type": "code",
   "execution_count": null,
   "metadata": {},
   "outputs": [],
   "source": [
    "s = catalog.load('mimic_billion.view.table').sample()"
   ]
  },
  {
   "cell_type": "code",
   "execution_count": null,
   "metadata": {},
   "outputs": [],
   "source": [
    "u = s['value'].unique()\n",
    "nums = {}\n",
    "for v in u:\n",
    "    try:\n",
    "        int(v)\n",
    "        nums[v] = \"num\"\n",
    "    except Exception:\n",
    "        nums[v] = v\n",
    "        pass"
   ]
  },
  {
   "cell_type": "code",
   "execution_count": null,
   "metadata": {},
   "outputs": [
    {
     "name": "stdout",
     "output_type": "stream",
     "text": [
      "\u001b[1;36m9223\u001b[0m\n"
     ]
    }
   ],
   "source": [
    "len(nums)"
   ]
  },
  {
   "cell_type": "code",
   "execution_count": null,
   "metadata": {},
   "outputs": [
    {
     "name": "stdout",
     "output_type": "stream",
     "text": [
      "\n",
      "id\n",
      "\u001b[1;36m86260902\u001b[0m                 num\n",
      "\u001b[1;36m86260903\u001b[0m                 num\n",
      "\u001b[1;36m86260904\u001b[0m                 num\n",
      "\u001b[1;36m86260905\u001b[0m                 num\n",
      "\u001b[1;36m86260906\u001b[0m                 num\n",
      "                  \u001b[33m...\u001b[0m       \n",
      "\u001b[1;36m114655081\u001b[0m       Consistently\n",
      "\u001b[1;36m114655082\u001b[0m        Wiggle toes\n",
      "\u001b[1;36m114655083\u001b[0m                 No\n",
      "\u001b[1;36m114655084\u001b[0m    Full resistance\n",
      "\u001b[1;36m114655085\u001b[0m    Full resistance\n",
      "Name: value, Length: \u001b[1;36m15642975\u001b[0m, dtype: object\n"
     ]
    }
   ],
   "source": [
    "s['value'].cat.add_categories([\"num\"]).map(nums)"
   ]
  },
  {
   "cell_type": "code",
   "execution_count": null,
   "metadata": {},
   "outputs": [],
   "source": [
    "m = catalog.load('mimic_billion.privbayes.model')"
   ]
  },
  {
   "cell_type": "code",
   "execution_count": null,
   "metadata": {},
   "outputs": [
    {
     "name": "stdout",
     "output_type": "stream",
     "text": [
      "              intime_year: (4 9 18 32)\n",
      "              intime_week: (4 9 18 32 52)\n",
      "               intime_day: (4 7)\n",
      "              intime_time: (4 9 18 24)\n",
      "             outtime_week: (4 8)\n",
      "              outtime_day: (4 7)\n",
      "             outtime_time: (4 9 18 24)\n",
      "           charttime_week: (4 9 12)\n",
      "            charttime_day: (4 7)\n",
      "           charttime_time: (4 9 18 24)\n",
      "                 valuenum: (2 4 9 18 32 33)\n",
      "                 valueuom: (3 4 9 18 32 40)\n",
      "                  warning: (2)\n",
      "           first_careunit: (2 4 9)\n",
      "            last_careunit: (2 4 9)\n",
      "                   gender: (2)\n"
     ]
    },
    {
     "ename": "",
     "evalue": "",
     "output_type": "error",
     "traceback": [
      "\u001b[1;31mThe Kernel crashed while executing code in the the current cell or a previous cell. Please review the code in the cell(s) to identify a possible cause of the failure. Click <a href='https://aka.ms/vscodeJupyterKernelCrash'>here</a> for more info. View Jupyter <a href='command:jupyter.viewOutput'>log</a> for further details."
     ]
    }
   ],
   "source": [
    "for attr in m.attrs.values():\n",
    "    for val in attr.vals.values():\n",
    "        print(f\"{val.name:>25s}: ({' '.join(f'{val.get_domain(i)}' for i in reversed(range(val.height)))})\")"
   ]
  },
  {
   "cell_type": "code",
   "execution_count": null,
   "metadata": {},
   "outputs": [],
   "source": []
  }
 ],
 "metadata": {
  "language_info": {
   "codemirror_mode": {
    "name": "ipython",
    "version": 3
   },
   "file_extension": ".py",
   "mimetype": "text/x-python",
   "name": "python",
   "nbconvert_exporter": "python",
   "pygments_lexer": "ipython3",
   "version": "3.10.9"
  },
  "vscode": {
   "interpreter": {
    "hash": "d48f3171bf93d5bacc74509c6ff913ccf36520ab35bc9e1b8a60d7039aa36cfb"
   }
  }
 },
 "nbformat": 4,
 "nbformat_minor": 2
}
