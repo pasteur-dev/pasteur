{
 "cells": [
  {
   "cell_type": "code",
   "execution_count": null,
   "metadata": {},
   "outputs": [
    {
     "name": "stdout",
     "output_type": "stream",
     "text": [
      "2000-01-01 00:00:00,000 - kedro.io.data_catalog - INFO - Loading data from `mimic_mm_core.wrk.patients` (ParquetDataSet)...\n",
      "2000-01-01 00:00:00,000 - kedro.io.data_catalog - INFO - Loading data from `mimic_mm_core.wrk.admissions` (ParquetDataSet)...\n",
      "2000-01-01 00:00:00,000 - kedro.io.data_catalog - INFO - Loading data from `mimic_mm_core.wrk.transfers` (ParquetDataSet)...\n",
      "2000-01-01 00:00:00,000 - kedro.io.data_catalog - INFO - Loading data from `mimic_mm_core.ref.patients` (ParquetDataSet)...\n",
      "2000-01-01 00:00:00,000 - kedro.io.data_catalog - INFO - Loading data from `mimic_mm_core.ref.admissions` (ParquetDataSet)...\n",
      "2000-01-01 00:00:00,000 - kedro.io.data_catalog - INFO - Loading data from `mimic_mm_core.ref.transfers` (ParquetDataSet)...\n"
     ]
    }
   ],
   "source": [
    "# Removes lint errors from VS Code\n",
    "from typing import Dict, TYPE_CHECKING, Tuple, List\n",
    "\n",
    "if TYPE_CHECKING:\n",
    "    import kedro\n",
    "\n",
    "    catalog: kedro.io.data_catalog.DataCatalog\n",
    "    session: kedro.framework.session.session.KedroSession\n",
    "    catalog: kedro.io.data_catalog.DataCatalog\n",
    "    pipelines: Dict[str, kedro.pipeline.pipeline.Pipeline]\n",
    "\n",
    "import numpy as np\n",
    "import pandas as pd\n",
    "\n",
    "patients_wrk: pd.DataFrame = catalog.load(\"mimic_mm_core.wrk.patients\")\n",
    "admissions_wrk: pd.DataFrame = catalog.load(\"mimic_mm_core.wrk.admissions\")\n",
    "transfers_wrk: pd.DataFrame = catalog.load(\"mimic_mm_core.wrk.transfers\")\n",
    "\n",
    "patients_ref: pd.DataFrame = catalog.load(\"mimic_mm_core.ref.patients\")\n",
    "admissions_ref: pd.DataFrame = catalog.load(\"mimic_mm_core.ref.admissions\")\n",
    "transfers_ref: pd.DataFrame = catalog.load(\"mimic_mm_core.ref.transfers\")\n",
    "\n",
    "# Removes lint errors from VS Code\n",
    "from typing import Dict, TYPE_CHECKING, Tuple, List\n",
    "\n",
    "if TYPE_CHECKING:\n",
    "    import kedro\n",
    "    catalog: kedro.io.data_catalog.DataCatalog\n",
    "    session: kedro.framework.session.session.KedroSession\n",
    "    catalog: kedro.io.data_catalog.DataCatalog\n",
    "    pipelines: Dict[str, kedro.pipeline.pipeline.Pipeline]\n",
    "\n",
    "# Plotting\n",
    "%matplotlib inline\n",
    "\n",
    "from matplotlib import pyplot as plt\n",
    "import matplotlib.ticker as ticker\n",
    "\n",
    "plt.style.use(\"./utils/light.mplstyle\")\n",
    "plt.rcParams['figure.figsize'] = [6, 4]\n",
    "# plt.rcParams['figure.dpi'] = 100 # 200 e.g. is really fine, but slower"
   ]
  },
  {
   "cell_type": "code",
   "execution_count": null,
   "metadata": {},
   "outputs": [],
   "source": [
    "tables = {\n",
    "    \"patients\": [patients_wrk, patients_ref],\n",
    "    \"admissions\": [admissions_wrk, admissions_ref],\n",
    "    \"transfers\": [transfers_wrk, transfers_ref],\n",
    "}\n",
    "\n",
    "\n",
    "def is_categorical(col):\n",
    "    # return metadata[\"tables\"][table][\"fields\"][col][\"type\"] == \"categorical\"\n",
    "    return col in [\n",
    "        # Patient\n",
    "        \"gender\",\n",
    "        \"anchor_year_group\",\n",
    "        \"year_group\",\n",
    "        # Admissions\n",
    "        \"admission_type\",\n",
    "        \"admission_location\",\n",
    "        \"discharge_location\",\n",
    "        \"insurance\",\n",
    "        \"language\",\n",
    "        \"marital_status\",\n",
    "        \"ethnicity\",\n",
    "        \"hospital_expire_flag\",\n",
    "        # Transfers\n",
    "        \"eventtype\",\n",
    "        \"careunit\",\n",
    "    ]\n",
    "\n",
    "\n",
    "def is_id(col):\n",
    "    return col in [\"subject_id\", \"hadm_id\", \"transfer_id\"]\n",
    "\n",
    "\n",
    "from pandas.api.types import (\n",
    "    is_datetime64_any_dtype as is_datetime,\n",
    "    is_timedelta64_dtype as is_timedelta,\n",
    ")\n"
   ]
  },
  {
   "cell_type": "code",
   "execution_count": null,
   "metadata": {},
   "outputs": [
    {
     "data": {
      "application/vnd.jupyter.widget-view+json": {
       "model_id": "3ab2fc49a2e5492c86a4810e6139fe2b",
       "version_major": 2,
       "version_minor": 0
      },
      "text/plain": [
       "Tab(children=(HBox(children=(Output(),)), HBox(), HBox(children=(Output(),))))"
      ]
     },
     "metadata": {},
     "output_type": "display_data"
    }
   ],
   "source": [
    "import ipywidgets as widgets\n",
    "\n",
    "titles = []\n",
    "tabs = []\n",
    "for table, (wrk, ref) in tables.items():\n",
    "    output = widgets.Output()\n",
    "    with output:\n",
    "        fig, ax = plt.subplots()\n",
    "        ax.hist([patients_wrk['birth_year'].dt.year, patients_ref['birth_year'].dt.year], histtype='bar', rwidth=0.9, label=['wrk', 'ref'])\n",
    "        ax.legend()\n",
    "        plt.show()\n",
    "\n",
    "    box = widgets.HBox([output] if table != 'admissions' else [])\n",
    "\n",
    "    titles.append(table)\n",
    "    tabs.append(box)\n",
    "\n",
    "tab = widgets.Tab()\n",
    "tab.children = tabs\n",
    "tab.titles = titles\n",
    "tab"
   ]
  },
  {
   "cell_type": "code",
   "execution_count": null,
   "metadata": {},
   "outputs": [],
   "source": []
  }
 ],
 "metadata": {
  "language_info": {
   "codemirror_mode": {
    "name": "ipython",
    "version": 3
   },
   "file_extension": ".py",
   "mimetype": "text/x-python",
   "name": "python",
   "nbconvert_exporter": "python",
   "pygments_lexer": "ipython3",
   "version": "3.10.5"
  },
  "vscode": {
   "interpreter": {
    "hash": "50661068d2d5c6ff1ce24ae701dfa73cc4ae117a223c3f7199e1fdb4656c8912"
   }
  }
 },
 "nbformat": 4,
 "nbformat_minor": 2
}
