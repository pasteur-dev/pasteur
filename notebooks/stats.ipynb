{
 "cells": [
  {
   "cell_type": "code",
   "execution_count": null,
   "metadata": {},
   "outputs": [
    {
     "name": "stdout",
     "output_type": "stream",
     "text": [
      "2000-01-01 00:00:00,000 - kedro.io.data_catalog - INFO - Loading data from `mimic_mm_core.wrk.patients` (ParquetDataSet)...\n",
      "2000-01-01 00:00:00,000 - kedro.io.data_catalog - INFO - Loading data from `mimic_mm_core.wrk.admissions` (ParquetDataSet)...\n",
      "2000-01-01 00:00:00,000 - kedro.io.data_catalog - INFO - Loading data from `mimic_mm_core.wrk.transfers` (ParquetDataSet)...\n",
      "2000-01-01 00:00:00,000 - kedro.io.data_catalog - INFO - Loading data from `mimic_mm_core.ref.patients` (ParquetDataSet)...\n",
      "2000-01-01 00:00:00,000 - kedro.io.data_catalog - INFO - Loading data from `mimic_mm_core.ref.admissions` (ParquetDataSet)...\n",
      "2000-01-01 00:00:00,000 - kedro.io.data_catalog - INFO - Loading data from `mimic_mm_core.ref.transfers` (ParquetDataSet)...\n"
     ]
    }
   ],
   "source": [
    "# Removes lint errors from VS Code\n",
    "from typing import Dict, TYPE_CHECKING, Tuple, List\n",
    "\n",
    "if TYPE_CHECKING:\n",
    "    import kedro\n",
    "\n",
    "    catalog: kedro.io.data_catalog.DataCatalog\n",
    "    session: kedro.framework.session.session.KedroSession\n",
    "    catalog: kedro.io.data_catalog.DataCatalog\n",
    "    pipelines: Dict[str, kedro.pipeline.pipeline.Pipeline]\n",
    "\n",
    "import numpy as np\n",
    "import pandas as pd\n",
    "\n",
    "patients_wrk: pd.DataFrame = catalog.load(\"mimic_mm_core.wrk.patients\")\n",
    "admissions_wrk: pd.DataFrame = catalog.load(\"mimic_mm_core.wrk.admissions\")\n",
    "transfers_wrk: pd.DataFrame = catalog.load(\"mimic_mm_core.wrk.transfers\")\n",
    "\n",
    "patients_ref: pd.DataFrame = catalog.load(\"mimic_mm_core.ref.patients\")\n",
    "admissions_ref: pd.DataFrame = catalog.load(\"mimic_mm_core.ref.admissions\")\n",
    "transfers_ref: pd.DataFrame = catalog.load(\"mimic_mm_core.ref.transfers\")\n",
    "\n",
    "# Removes lint errors from VS Code\n",
    "from typing import Dict, TYPE_CHECKING, Tuple, List\n",
    "\n",
    "if TYPE_CHECKING:\n",
    "    import kedro\n",
    "    catalog: kedro.io.data_catalog.DataCatalog\n",
    "    session: kedro.framework.session.session.KedroSession\n",
    "    catalog: kedro.io.data_catalog.DataCatalog\n",
    "    pipelines: Dict[str, kedro.pipeline.pipeline.Pipeline]\n",
    "\n",
    "# Plotting\n",
    "%matplotlib inline\n",
    "\n",
    "from matplotlib import pyplot as plt\n",
    "import matplotlib.ticker as ticker\n",
    "\n",
    "plt.style.use(\"./utils/light.mplstyle\")\n",
    "plt.rcParams['figure.figsize'] = [6, 4]\n",
    "# plt.rcParams['figure.dpi'] = 100 # 200 e.g. is really fine, but slower"
   ]
  },
  {
   "cell_type": "code",
   "execution_count": null,
   "metadata": {},
   "outputs": [],
   "source": [
    "tables = {\n",
    "    \"patients\": [patients_wrk, patients_ref],\n",
    "    \"admissions\": [admissions_wrk, admissions_ref],\n",
    "    \"transfers\": [transfers_wrk, transfers_ref],\n",
    "}\n",
    "\n",
    "\n",
    "def is_categorical(col):\n",
    "    # return metadata[\"tables\"][table][\"fields\"][col][\"type\"] == \"categorical\"\n",
    "    return col in [\n",
    "        # Patient\n",
    "        \"gender\",\n",
    "        \"anchor_year_group\",\n",
    "        \"year_group\",\n",
    "        # Admissions\n",
    "        \"admission_type\",\n",
    "        \"admission_location\",\n",
    "        \"discharge_location\",\n",
    "        \"insurance\",\n",
    "        \"language\",\n",
    "        \"marital_status\",\n",
    "        \"ethnicity\",\n",
    "        \"hospital_expire_flag\",\n",
    "        # Transfers\n",
    "        \"eventtype\",\n",
    "        \"careunit\",\n",
    "    ]\n",
    "\n",
    "\n",
    "def is_id(col):\n",
    "    return col in [\"subject_id\", \"hadm_id\", \"transfer_id\"]\n",
    "\n",
    "\n",
    "from pandas.api.types import (\n",
    "    is_datetime64_any_dtype as is_datetime,\n",
    "    is_timedelta64_dtype as is_timedelta,\n",
    ")\n"
   ]
  },
  {
   "cell_type": "code",
   "execution_count": null,
   "metadata": {},
   "outputs": [
    {
     "data": {
      "application/vnd.jupyter.widget-view+json": {
       "model_id": "defea2f9001b4c6dbfb3b84a935b8d85",
       "version_major": 2,
       "version_minor": 0
      },
      "text/plain": [
       "Tab(children=(HBox(children=(Output(),)), HBox(), HBox(children=(Output(),))))"
      ]
     },
     "metadata": {},
     "output_type": "display_data"
    }
   ],
   "source": [
    "import ipywidgets as widgets\n",
    "\n",
    "titles = []\n",
    "tabs = []\n",
    "for table, (wrk, ref) in tables.items():\n",
    "    output = widgets.Output()\n",
    "    with output:\n",
    "        fig, ax = plt.subplots()\n",
    "        ax.hist([patients_wrk['birth_year'].dt.year, patients_ref['birth_year'].dt.year], histtype='bar', rwidth=0.9, label=['wrk', 'ref'])\n",
    "        ax.legend()\n",
    "        plt.show()\n",
    "\n",
    "    box = widgets.HBox([output] if table != 'admissions' else [])\n",
    "\n",
    "    titles.append(table)\n",
    "    tabs.append(box)\n",
    "\n",
    "tab = widgets.Tab()\n",
    "tab.children = tabs\n",
    "tab.titles = titles\n",
    "tab"
   ]
  },
  {
   "cell_type": "code",
   "execution_count": null,
   "metadata": {},
   "outputs": [],
   "source": []
  }
 ],
 "metadata": {
  "language_info": {
   "codemirror_mode": {
    "name": "ipython",
    "version": 3
   },
   "file_extension": ".py",
   "mimetype": "text/x-python",
   "name": "python",
   "nbconvert_exporter": "python",
   "pygments_lexer": "ipython3",
   "version": "3.10.5"
  },
  "vscode": {
   "interpreter": {
    "hash": "50661068d2d5c6ff1ce24ae701dfa73cc4ae117a223c3f7199e1fdb4656c8912"
   }
  },
  "widgets": {
   "application/vnd.jupyter.widget-state+json": {
    "state": {
     "0508baf20ee74819b41c12c2dc39b478": {
      "model_module": "@jupyter-widgets/base",
      "model_module_version": "1.2.0",
      "model_name": "LayoutModel",
      "state": {}
     },
     "1254316f54cc4ed8803a5b53410e1315": {
      "model_module": "@jupyter-widgets/output",
      "model_module_version": "1.0.0",
      "model_name": "OutputModel",
      "state": {
       "layout": "IPY_MODEL_c21290c07da944f49b5114f719f88baa",
       "outputs": [
        {
         "data": {
          "image/png": "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\n",
          "text/plain": "<Figure size 432x288 with 1 Axes>"
         },
         "metadata": {
          "needs_background": "light"
         },
         "output_type": "display_data"
        }
       ]
      }
     },
     "1bc57c23eef64d029e04320164035f23": {
      "model_module": "@jupyter-widgets/output",
      "model_module_version": "1.0.0",
      "model_name": "OutputModel",
      "state": {
       "layout": "IPY_MODEL_672421ac3dd84cbaa24a6e2ad7f1a0d5",
       "outputs": [
        {
         "data": {
          "image/png": "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\n",
          "text/plain": "<Figure size 432x288 with 1 Axes>"
         },
         "metadata": {
          "needs_background": "light"
         },
         "output_type": "display_data"
        }
       ]
      }
     },
     "32eb5e1b21b4492984360547d7e714ad": {
      "model_module": "@jupyter-widgets/base",
      "model_module_version": "1.2.0",
      "model_name": "LayoutModel",
      "state": {}
     },
     "531812e194c848b99437c543b27434a9": {
      "model_module": "@jupyter-widgets/base",
      "model_module_version": "1.2.0",
      "model_name": "LayoutModel",
      "state": {}
     },
     "59d216149b5b41dea83e1d7a5f0e8f6b": {
      "model_module": "@jupyter-widgets/base",
      "model_module_version": "1.2.0",
      "model_name": "LayoutModel",
      "state": {}
     },
     "672421ac3dd84cbaa24a6e2ad7f1a0d5": {
      "model_module": "@jupyter-widgets/base",
      "model_module_version": "1.2.0",
      "model_name": "LayoutModel",
      "state": {}
     },
     "6f0354be093047e9a9b982c888aed7ec": {
      "model_module": "@jupyter-widgets/controls",
      "model_module_version": "1.5.0",
      "model_name": "HBoxModel",
      "state": {
       "layout": "IPY_MODEL_531812e194c848b99437c543b27434a9"
      }
     },
     "b995ee0f374147bd9e08c781e7ddce5a": {
      "model_module": "@jupyter-widgets/controls",
      "model_module_version": "1.5.0",
      "model_name": "HBoxModel",
      "state": {
       "children": [
        "IPY_MODEL_1bc57c23eef64d029e04320164035f23"
       ],
       "layout": "IPY_MODEL_59d216149b5b41dea83e1d7a5f0e8f6b"
      }
     },
     "bafc3ac62b864953a9adfda43c9b2728": {
      "model_module": "@jupyter-widgets/base",
      "model_module_version": "1.2.0",
      "model_name": "LayoutModel",
      "state": {}
     },
     "c21290c07da944f49b5114f719f88baa": {
      "model_module": "@jupyter-widgets/base",
      "model_module_version": "1.2.0",
      "model_name": "LayoutModel",
      "state": {}
     },
     "c6ae9e7724b94d5bb2773335531897a8": {
      "model_module": "@jupyter-widgets/controls",
      "model_module_version": "1.5.0",
      "model_name": "HBoxModel",
      "state": {
       "children": [
        "IPY_MODEL_f5ed773247ed4eaf95b59394741eff24"
       ],
       "layout": "IPY_MODEL_0508baf20ee74819b41c12c2dc39b478"
      }
     },
     "defea2f9001b4c6dbfb3b84a935b8d85": {
      "model_module": "@jupyter-widgets/controls",
      "model_module_version": "1.5.0",
      "model_name": "TabModel",
      "state": {
       "children": [
        "IPY_MODEL_b995ee0f374147bd9e08c781e7ddce5a",
        "IPY_MODEL_6f0354be093047e9a9b982c888aed7ec",
        "IPY_MODEL_c6ae9e7724b94d5bb2773335531897a8"
       ],
       "layout": "IPY_MODEL_bafc3ac62b864953a9adfda43c9b2728"
      }
     },
     "f5ed773247ed4eaf95b59394741eff24": {
      "model_module": "@jupyter-widgets/output",
      "model_module_version": "1.0.0",
      "model_name": "OutputModel",
      "state": {
       "layout": "IPY_MODEL_32eb5e1b21b4492984360547d7e714ad",
       "outputs": [
        {
         "data": {
          "image/png": "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\n",
          "text/plain": "<Figure size 432x288 with 1 Axes>"
         },
         "metadata": {
          "needs_background": "light"
         },
         "output_type": "display_data"
        }
       ]
      }
     }
    },
    "version_major": 2,
    "version_minor": 0
   }
  }
 },
 "nbformat": 4,
 "nbformat_minor": 4
}
