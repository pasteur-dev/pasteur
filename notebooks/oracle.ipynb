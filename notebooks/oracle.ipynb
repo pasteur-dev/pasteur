{
 "cells": [
  {
   "cell_type": "code",
   "execution_count": null,
   "metadata": {},
   "outputs": [
    {
     "name": "stdout",
     "output_type": "stream",
     "text": [
      "\u001b[0m\u001b[34mINFO    \u001b[0m Kedro project Pasteur                                                                                           \u001b[2m__init__.py\u001b[0m\u001b[2m:\u001b[0m\u001b[2m77\u001b[0m\n",
      "\u001b[0m\u001b[34mINFO    \u001b[0m Defined global variable \u001b[32m'context'\u001b[0m, \u001b[32m'session'\u001b[0m, \u001b[32m'catalog'\u001b[0m and \u001b[32m'pipelines'\u001b[0m                                         \u001b[2m__init__.py\u001b[0m\u001b[2m:\u001b[0m\u001b[2m78\u001b[0m\n",
      "\u001b[0m\u001b[31mWARNING \u001b[0m \u001b[35m/srv/data/antheas/projects/pasteur/venv/lib/python3.10/site-packages/plotly/graph_objects/\u001b[0m\u001b[95m__init__.py\u001b[0m:\u001b[1;36m288\u001b[0m:     \u001b[2mwarnings.py\u001b[0m\u001b[2m:\u001b[0m\u001b[2m109\u001b[0m\n",
      "\u001b[0m         DeprecationWarning: distutils Version classes are deprecated. Use packaging.version instead.                   \u001b[2m               \u001b[0m\n",
      "\u001b[0m           if \u001b[1;35mLooseVersion\u001b[0m\u001b[1m(\u001b[0mipywidgets.__version__\u001b[1m)\u001b[0m >= \u001b[1;35mLooseVersion\u001b[0m\u001b[1m(\u001b[0m\u001b[32m\"7.0.0\"\u001b[0m\u001b[1m)\u001b[0m:                                            \u001b[2m               \u001b[0m\n",
      "\u001b[0m                                                                                                                        \u001b[2m               \u001b[0m\n",
      "\u001b[0m\u001b[34mINFO    \u001b[0m Registered line magic \u001b[32m'run_viz'\u001b[0m                                                                                 \u001b[2m__init__.py\u001b[0m\u001b[2m:\u001b[0m\u001b[2m84\u001b[0m\n",
      "\u001b[0m\u001b[31mWARNING \u001b[0m \u001b[35m/srv/data/antheas/projects/pasteur/venv/lib/python3.10/site-packages/IPython/extensions/\u001b[0m\u001b[95mautoreload.py\u001b[0m:\u001b[1;36m121\u001b[0m:     \u001b[2mwarnings.py\u001b[0m\u001b[2m:\u001b[0m\u001b[2m109\u001b[0m\n",
      "\u001b[0m         DeprecationWarning: the imp module is deprecated in favour of importlib and slated for removal in Python \u001b[1;36m3.12\u001b[0m; \u001b[2m               \u001b[0m\n",
      "\u001b[0m         see the module's documentation for alternative uses                                                            \u001b[2m               \u001b[0m\n",
      "\u001b[0m           from imp import reload                                                                                       \u001b[2m               \u001b[0m\n",
      "\u001b[0m                                                                                                                        \u001b[2m               \u001b[0m\n"
     ]
    }
   ],
   "source": [
    "from pasteur.kedro.ipython import * # type: ignore\n",
    "register_kedro() # type: ignore\n",
    "\n",
    "%load_ext autoreload\n",
    "%autoreload 2"
   ]
  },
  {
   "cell_type": "code",
   "execution_count": null,
   "metadata": {},
   "outputs": [
    {
     "name": "stdout",
     "output_type": "stream",
     "text": [
      "\u001b[1m(\u001b[0m\u001b[1;36m406897216\u001b[0m, \u001b[1;36m12\u001b[0m\u001b[1m)\u001b[0m\n"
     ]
    }
   ],
   "source": [
    "# view = \"tab_adult\"\n",
    "view = \"texas_charges\"\n",
    "\n",
    "enc = catalog.load(f'{view}.wrk.idx_table')\n",
    "trn = catalog.load(f'{view}.trn.table')\n",
    "attrs = trn['idx'].get_attributes()\n",
    "enc.shape"
   ]
  },
  {
   "cell_type": "code",
   "execution_count": null,
   "metadata": {},
   "outputs": [],
   "source": [
    "from pasteur.utils.progress import init_pool, logging_redirect_pbar\n",
    "\n",
    "init_pool()\n",
    "logging_redirect_pbar().__enter__()"
   ]
  },
  {
   "cell_type": "code",
   "execution_count": null,
   "metadata": {},
   "outputs": [
    {
     "name": "stdout",
     "output_type": "stream",
     "text": [
      "\u001b[0m\u001b[31mWARNING \u001b[0m Loading partitioned dataset as a whole, this may cause memory issues.                                           \u001b[2m__init__.py\u001b[0m\u001b[2m:\u001b[0m\u001b[2m85\u001b[0m\n"
     ]
    }
   ],
   "source": [
    "from pasteur.marginal import MarginalOracle\n",
    "\n",
    "o = MarginalOracle(attrs, enc, False)\n",
    "o._load_batch(enc)"
   ]
  },
  {
   "cell_type": "code",
   "execution_count": null,
   "metadata": {},
   "outputs": [],
   "source": [
    "o._swap_batch()"
   ]
  },
  {
   "cell_type": "code",
   "execution_count": null,
   "metadata": {},
   "outputs": [],
   "source": [
    "o._unload_batch()"
   ]
  },
  {
   "cell_type": "code",
   "execution_count": null,
   "metadata": {},
   "outputs": [],
   "source": [
    "model = catalog.load(f\"{view}.privbayes.model\")"
   ]
  },
  {
   "cell_type": "code",
   "execution_count": null,
   "metadata": {},
   "outputs": [
    {
     "name": "stdout",
     "output_type": "stream",
     "text": [
      "           >>>>>>>  Sampling values sequentially: 100%|\u001b[34m###########################################################\u001b[0m| 12/12 [00:00<00:00,  1.00it/s]\u001b[0m\n",
      "\u001b[0m\u001b[34mINFO    \u001b[0m Deterministic check: random number after  \u001b[1;35mPrivBayesSynth.sample\u001b[0m\u001b[1m(\u001b[0m\u001b[1m)\u001b[0m: \u001b[1m<\u001b[0m\u001b[1;95mnp.random\u001b[0m\u001b[1m>\u001b[0m \u001b[1;36m0.61770\u001b[0m \u001b[1m<\u001b[0m\u001b[1;95mrandom\u001b[0m\u001b[1m>\u001b[0m \u001b[1;36m0.29213\u001b[0m            \u001b[2msynth.py\u001b[0m\u001b[2m:\u001b[0m\u001b[2m40\u001b[0m\n"
     ]
    }
   ],
   "source": [
    "a = model.sample()"
   ]
  },
  {
   "cell_type": "code",
   "execution_count": null,
   "metadata": {},
   "outputs": [
    {
     "name": "stdout",
     "output_type": "stream",
     "text": [
      "\u001b[1m(\u001b[0m\u001b[1;36m9247664\u001b[0m, \u001b[1;36m12\u001b[0m\u001b[1m)\u001b[0m\n"
     ]
    }
   ],
   "source": [
    "a[1]['table'].shape"
   ]
  },
  {
   "cell_type": "code",
   "execution_count": null,
   "metadata": {},
   "outputs": [
    {
     "name": "stdout",
     "output_type": "stream",
     "text": [
      "Bayesian Network Tree:\n",
      "(PrivBayes e1=0.30, e2=0.70, theta=4.00, available t=100000.00)\n",
      "┌─────────────────────┬─────┬──────────┬─────────────────────────────────────────────────────────┐\n",
      "│        Column Nodes │ Dom │ Avail. t │ Attribute Parents                                       │\n",
      "├─────────────────────┼─────┼──────────┼─────────────────────────────────────────────────────────┤\n",
      "│        revenue_code │ 385 │   259.74 │                                                         │\n",
      "│unit_measurement_code │   5 │ 20000.00 │ revenue_code[0]                                         │\n",
      "│           unit_rate │  21 │  4761.90 │ revenue_code[0] unit_measurement_code[0]                │\n",
      "│     hcpcs_qualifier │   5 │ 20000.00 │ revenue_code[0] unit_measurement_code[0] unit_rate[1]   │\n",
      "│hcpcs_procedure_code │ 3265 │    30.63 │ hcpcs_qualifier[1] unit_measurement_code[0]             │\n",
      "│                     │     │          │ > unit_rate[1]                                          │\n",
      "│          modifier_1 │  91 │  1098.90 │ revenue_code[1] hcpcs_qualifier[0]                      │\n",
      "│                     │     │          │ > hcpcs_procedure_code[1] unit_measurement_code[0]      │\n",
      "│                     │     │          │ > unit_rate[1]                                          │\n",
      "│       chrgs_non_cov │  20 │  5000.00 │ revenue_code[0] hcpcs_procedure_code[1] unit_rate[1]    │\n",
      "│     chrgs_line_item │  20 │  5000.00 │ revenue_code[0] hcpcs_procedure_code[1] unit_rate[1]    │\n",
      "│          modifier_2 │  16 │  6250.00 │ revenue_code[0] hcpcs_procedure_code[1] modifier_1[1]   │\n",
      "│    units_of_service │  21 │  4761.90 │ revenue_code[0] hcpcs_qualifier[1]                      │\n",
      "│                     │     │          │ > unit_measurement_code[1]                              │\n",
      "│          modifier_3 │   3 │ 33333.33 │ revenue_code[1] hcpcs_procedure_code[1]                 │\n",
      "│                     │     │          │ > unit_measurement_code[0] chrgs_line_item[0]           │\n",
      "│                     │     │          │ > chrgs_non_cov[0]                                      │\n",
      "│          modifier_4 │   3 │ 33333.33 │ hcpcs_procedure_code[1] modifier_3[0]                   │\n",
      "│                     │     │          │ > unit_measurement_code[0] units_of_service[0]          │\n",
      "│                     │     │          │ > chrgs_line_item[0]                                    │\n",
      "└─────────────────────┴─────┴──────────┴─────────────────────────────────────────────────────────┘\n"
     ]
    }
   ],
   "source": [
    "print(str(model))"
   ]
  },
  {
   "cell_type": "code",
   "execution_count": null,
   "metadata": {},
   "outputs": [],
   "source": []
  }
 ],
 "metadata": {
  "language_info": {
   "codemirror_mode": {
    "name": "ipython",
    "version": 3
   },
   "file_extension": ".py",
   "mimetype": "text/x-python",
   "name": "python",
   "nbconvert_exporter": "python",
   "pygments_lexer": "ipython3",
   "version": "3.10.9"
  },
  "vscode": {
   "interpreter": {
    "hash": "06fefce6151b2561bea7dbaa3a9e0f8a5fddd1f07747f54ebd96cc390fa4aebe"
   }
  }
 },
 "nbformat": 4,
 "nbformat_minor": 2
}
