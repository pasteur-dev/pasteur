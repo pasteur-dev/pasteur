{
 "cells": [
  {
   "cell_type": "code",
   "execution_count": null,
   "metadata": {},
   "outputs": [],
   "source": [
    "# Removes lint errors from VS Code\n",
    "from typing import Dict, TYPE_CHECKING, Tuple, List\n",
    "from functools import reduce\n",
    "\n",
    "if TYPE_CHECKING:\n",
    "    import kedro\n",
    "\n",
    "    catalog: kedro.io.data_catalog.DataCatalog\n",
    "    session: kedro.framework.session.session.KedroSession\n",
    "    catalog: kedro.io.data_catalog.DataCatalog\n",
    "    pipelines: Dict[str, kedro.pipeline.pipeline.Pipeline]\n",
    "\n",
    "import numpy as np\n",
    "import pandas as pd\n"
   ]
  },
  {
   "cell_type": "code",
   "execution_count": null,
   "metadata": {},
   "outputs": [],
   "source": [
    "from pasteur.transform import TableTransformer\n",
    "\n",
    "table: pd.DataFrame = catalog.load(\"mimic_tab_admissions.wrk.bhr_table\")\n",
    "trn: TableTransformer = catalog.load(\"mimic_tab_admissions.wrk.trn_table\")"
   ]
  },
  {
   "cell_type": "code",
   "execution_count": null,
   "metadata": {},
   "outputs": [],
   "source": [
    "attr = trn[\"bhr\"].get_attributes()"
   ]
  },
  {
   "cell_type": "code",
   "execution_count": null,
   "metadata": {},
   "outputs": [],
   "source": [
    "%load_ext line_profiler"
   ]
  },
  {
   "cell_type": "code",
   "execution_count": null,
   "metadata": {},
   "outputs": [],
   "source": [
    "def calc_marginal(\n",
    "    data: np.ndarray,\n",
    "    domain: np.ndarray,\n",
    "    x: list[int],\n",
    "    p: list[int],\n",
    "    rm_zeros: bool = False,\n",
    "):\n",
    "    \"\"\"Calculates the 1 way and 2 way marginals between the set of columns in x\n",
    "    and the set of columns in p.\"\"\"\n",
    "\n",
    "    sub_data = data[:, x + p]\n",
    "    sub_domain = domain[x + p]\n",
    "\n",
    "    margin, _ = np.histogramdd(sub_data, sub_domain)\n",
    "    margin /= margin.sum()\n",
    "    if rm_zeros:\n",
    "        # Mutual info turns into NaN without this\n",
    "        margin += 1e-24\n",
    "\n",
    "    x_idx = tuple(range(len(x)))\n",
    "    p_idx = tuple(range(-len(p), 0))\n",
    "\n",
    "    x_mar = np.sum(margin, axis=p_idx).reshape(-1)\n",
    "    p_mar = np.sum(margin, axis=x_idx).reshape(-1)\n",
    "    j_mar = margin.reshape((len(x_mar), len(p_mar)))\n",
    "\n",
    "    return j_mar, x_mar, p_mar"
   ]
  },
  {
   "cell_type": "code",
   "execution_count": null,
   "metadata": {},
   "outputs": [],
   "source": [
    "# synth = PrivBayesSynth()\n",
    "# synth.bake({\"table\": attr}, {\"table\": table}, {})\n",
    "\n",
    "data = table.to_numpy(dtype=\"uint16\")\n",
    "domain = data.max(axis=0) + 1\n",
    "\n",
    "# %lprun -f calc_marginal calc_marginal(data, domain, [0,1,2,3,4], [5,6,7,8,9,10,11,12,13,14,15])\n",
    "j_mar1, x_mar1, p_mar1 = calc_marginal(data, domain, [0,1,2,3,4], [5,6,7,8,9,10,11,12,13,14,15])"
   ]
  },
  {
   "cell_type": "code",
   "execution_count": null,
   "metadata": {},
   "outputs": [],
   "source": [
    "def calc_marginal_2(\n",
    "    data: np.ndarray,\n",
    "    domain: np.ndarray,\n",
    "    x: list[int],\n",
    "    p: list[int],\n",
    "    rm_zeros: bool = False,\n",
    "):\n",
    "    \"\"\"Calculates the 1 way and 2 way marginals between the set of columns in x\n",
    "    and the set of columns in p.\"\"\"\n",
    "\n",
    "    sub_data = data[:, x + p]\n",
    "    sub_domain = domain[x + p]\n",
    "\n",
    "    x_dom = reduce(lambda a, b: a*b, domain[x], 1)\n",
    "    p_dom = reduce(lambda a, b: a*b, domain[p], 1)\n",
    "    idx = np.zeros((len(sub_data)), dtype=\"int64\")\n",
    "    for col, dom in zip(sub_data.transpose(), sub_domain):\n",
    "        idx = idx*dom + col\n",
    "    \n",
    "    counts = np.bincount(idx, minlength=x_dom*p_dom)\n",
    "    margin = counts.reshape(x_dom, p_dom).astype(\"float\")\n",
    "\n",
    "    margin /= margin.sum()\n",
    "    if rm_zeros:\n",
    "        # Mutual info turns into NaN without this\n",
    "        margin += 1e-24\n",
    "\n",
    "    j_mar = margin\n",
    "    x_mar = np.sum(margin, axis=1)\n",
    "    p_mar = np.sum(margin, axis=0)\n",
    "\n",
    "    return j_mar, x_mar, p_mar\n",
    "    \n",
    "j_mar2, x_mar2, p_mar2 = calc_marginal_2(data, domain, [0,1,2,3,4], [5,6,7,8,9,10,11,12,13,14,15])"
   ]
  },
  {
   "cell_type": "code",
   "execution_count": null,
   "metadata": {},
   "outputs": [],
   "source": [
    "assert np.all(j_mar1 == j_mar2)\n",
    "assert np.all(x_mar1 == x_mar2)\n",
    "assert np.all(p_mar1 == p_mar2)"
   ]
  },
  {
   "cell_type": "code",
   "execution_count": null,
   "metadata": {},
   "outputs": [
    {
     "data": {
      "text/html": [
       "<pre style=\"white-space:pre;overflow-x:auto;line-height:normal;font-family:Menlo,'DejaVu Sans Mono',consolas,'Courier New',monospace\"><span style=\"color: #800000; text-decoration-color: #800000\">╭─────────────────────────────── </span><span style=\"color: #800000; text-decoration-color: #800000; font-weight: bold\">Traceback </span><span style=\"color: #bf7f7f; text-decoration-color: #bf7f7f; font-weight: bold\">(most recent call last)</span><span style=\"color: #800000; text-decoration-color: #800000\"> ────────────────────────────────╮</span>\n",
       "<span style=\"color: #800000; text-decoration-color: #800000\">│</span> <span style=\"color: #bfbf7f; text-decoration-color: #bfbf7f\">/tmp/ipykernel_9824/</span><span style=\"color: #808000; text-decoration-color: #808000; font-weight: bold\">2048533878.py</span>:<span style=\"color: #0000ff; text-decoration-color: #0000ff\">1</span> in <span style=\"color: #00ff00; text-decoration-color: #00ff00\">&lt;cell line: 1&gt;</span>                                            <span style=\"color: #800000; text-decoration-color: #800000\">│</span>\n",
       "<span style=\"color: #800000; text-decoration-color: #800000\">│</span>                                                                                                  <span style=\"color: #800000; text-decoration-color: #800000\">│</span>\n",
       "<span style=\"color: #800000; text-decoration-color: #800000\">│</span> <span style=\"color: #800000; text-decoration-color: #800000; font-style: italic\">[Errno 2] No such file or directory: '/tmp/ipykernel_9824/2048533878.py'</span>                         <span style=\"color: #800000; text-decoration-color: #800000\">│</span>\n",
       "<span style=\"color: #800000; text-decoration-color: #800000\">│</span>                                                                                                  <span style=\"color: #800000; text-decoration-color: #800000\">│</span>\n",
       "<span style=\"color: #800000; text-decoration-color: #800000\">│</span> <span style=\"color: #bfbf7f; text-decoration-color: #bfbf7f\">/mnt/ext/projects/pasteur/venv/lib/python3.10/site-packages/IPython/core/</span><span style=\"color: #808000; text-decoration-color: #808000; font-weight: bold\">interactiveshell.py</span>:<span style=\"color: #0000ff; text-decoration-color: #0000ff\">241</span> <span style=\"color: #800000; text-decoration-color: #800000\">│</span>\n",
       "<span style=\"color: #800000; text-decoration-color: #800000\">│</span> <span style=\"color: #0000ff; text-decoration-color: #0000ff\">8</span> in <span style=\"color: #00ff00; text-decoration-color: #00ff00\">run_line_magic</span>                                                                              <span style=\"color: #800000; text-decoration-color: #800000\">│</span>\n",
       "<span style=\"color: #800000; text-decoration-color: #800000\">│</span>                                                                                                  <span style=\"color: #800000; text-decoration-color: #800000\">│</span>\n",
       "<span style=\"color: #800000; text-decoration-color: #800000\">│</span>   <span style=\"color: #7f7f7f; text-decoration-color: #7f7f7f\">2415 │   │   │   </span><span style=\"color: #0000ff; text-decoration-color: #0000ff\">if</span> <span style=\"color: #00ffff; text-decoration-color: #00ffff\">getattr</span>(fn, <span style=\"color: #808000; text-decoration-color: #808000\">\"needs_local_scope\"</span>, <span style=\"color: #0000ff; text-decoration-color: #0000ff\">False</span>):                                   <span style=\"color: #800000; text-decoration-color: #800000\">│</span>\n",
       "<span style=\"color: #800000; text-decoration-color: #800000\">│</span>   <span style=\"color: #7f7f7f; text-decoration-color: #7f7f7f\">2416 │   │   │   │   </span>kwargs[<span style=\"color: #808000; text-decoration-color: #808000\">'local_ns'</span>] = <span style=\"color: #00ffff; text-decoration-color: #00ffff\">self</span>.get_local_scope(stack_depth)                    <span style=\"color: #800000; text-decoration-color: #800000\">│</span>\n",
       "<span style=\"color: #800000; text-decoration-color: #800000\">│</span>   <span style=\"color: #7f7f7f; text-decoration-color: #7f7f7f\">2417 │   │   │   </span><span style=\"color: #0000ff; text-decoration-color: #0000ff\">with</span> <span style=\"color: #00ffff; text-decoration-color: #00ffff\">self</span>.builtin_trap:                                                       <span style=\"color: #800000; text-decoration-color: #800000\">│</span>\n",
       "<span style=\"color: #800000; text-decoration-color: #800000\">│</span> <span style=\"color: #800000; text-decoration-color: #800000\">❱ </span>2418 <span style=\"color: #7f7f7f; text-decoration-color: #7f7f7f\">│   │   │   │   </span>result = fn(*args, **kwargs)                                              <span style=\"color: #800000; text-decoration-color: #800000\">│</span>\n",
       "<span style=\"color: #800000; text-decoration-color: #800000\">│</span>   <span style=\"color: #7f7f7f; text-decoration-color: #7f7f7f\">2419 │   │   │   </span><span style=\"color: #0000ff; text-decoration-color: #0000ff\">return</span> result                                                                 <span style=\"color: #800000; text-decoration-color: #800000\">│</span>\n",
       "<span style=\"color: #800000; text-decoration-color: #800000\">│</span>   <span style=\"color: #7f7f7f; text-decoration-color: #7f7f7f\">2420 │   </span>                                                                                      <span style=\"color: #800000; text-decoration-color: #800000\">│</span>\n",
       "<span style=\"color: #800000; text-decoration-color: #800000\">│</span>   <span style=\"color: #7f7f7f; text-decoration-color: #7f7f7f\">2421 │   </span><span style=\"color: #0000ff; text-decoration-color: #0000ff\">def</span> <span style=\"color: #00ff00; text-decoration-color: #00ff00\">get_local_scope</span>(<span style=\"color: #00ffff; text-decoration-color: #00ffff\">self</span>, stack_depth):                                               <span style=\"color: #800000; text-decoration-color: #800000\">│</span>\n",
       "<span style=\"color: #800000; text-decoration-color: #800000\">│</span>                                                                                                  <span style=\"color: #800000; text-decoration-color: #800000\">│</span>\n",
       "<span style=\"color: #800000; text-decoration-color: #800000\">│</span> <span style=\"color: #bfbf7f; text-decoration-color: #bfbf7f\">/mnt/ext/projects/pasteur/venv/lib/python3.10/site-packages/</span><span style=\"color: #808000; text-decoration-color: #808000; font-weight: bold\">decorator.py</span>:<span style=\"color: #0000ff; text-decoration-color: #0000ff\">232</span> in <span style=\"color: #00ff00; text-decoration-color: #00ff00\">fun</span>              <span style=\"color: #800000; text-decoration-color: #800000\">│</span>\n",
       "<span style=\"color: #800000; text-decoration-color: #800000\">│</span>                                                                                                  <span style=\"color: #800000; text-decoration-color: #800000\">│</span>\n",
       "<span style=\"color: #800000; text-decoration-color: #800000\">│</span>   <span style=\"color: #7f7f7f; text-decoration-color: #7f7f7f\">229 │   │   </span><span style=\"color: #0000ff; text-decoration-color: #0000ff\">def</span> <span style=\"color: #00ff00; text-decoration-color: #00ff00\">fun</span>(*args, **kw):                                                              <span style=\"color: #800000; text-decoration-color: #800000\">│</span>\n",
       "<span style=\"color: #800000; text-decoration-color: #800000\">│</span>   <span style=\"color: #7f7f7f; text-decoration-color: #7f7f7f\">230 │   │   │   </span><span style=\"color: #0000ff; text-decoration-color: #0000ff\">if</span> <span style=\"color: #ff00ff; text-decoration-color: #ff00ff\">not</span> kwsyntax:                                                               <span style=\"color: #800000; text-decoration-color: #800000\">│</span>\n",
       "<span style=\"color: #800000; text-decoration-color: #800000\">│</span>   <span style=\"color: #7f7f7f; text-decoration-color: #7f7f7f\">231 │   │   │   │   </span>args, kw = fix(args, kw, sig)                                              <span style=\"color: #800000; text-decoration-color: #800000\">│</span>\n",
       "<span style=\"color: #800000; text-decoration-color: #800000\">│</span> <span style=\"color: #800000; text-decoration-color: #800000\">❱ </span>232 <span style=\"color: #7f7f7f; text-decoration-color: #7f7f7f\">│   │   │   </span><span style=\"color: #0000ff; text-decoration-color: #0000ff\">return</span> caller(func, *(extras + args), **kw)                                    <span style=\"color: #800000; text-decoration-color: #800000\">│</span>\n",
       "<span style=\"color: #800000; text-decoration-color: #800000\">│</span>   <span style=\"color: #7f7f7f; text-decoration-color: #7f7f7f\">233 │   </span>fun.<span style=\"color: #ff0000; text-decoration-color: #ff0000\">__name__</span> = func.<span style=\"color: #ff0000; text-decoration-color: #ff0000\">__name__</span>                                                           <span style=\"color: #800000; text-decoration-color: #800000\">│</span>\n",
       "<span style=\"color: #800000; text-decoration-color: #800000\">│</span>   <span style=\"color: #7f7f7f; text-decoration-color: #7f7f7f\">234 │   </span>fun.<span style=\"color: #ff0000; text-decoration-color: #ff0000\">__doc__</span> = func.<span style=\"color: #ff0000; text-decoration-color: #ff0000\">__doc__</span>                                                             <span style=\"color: #800000; text-decoration-color: #800000\">│</span>\n",
       "<span style=\"color: #800000; text-decoration-color: #800000\">│</span>   <span style=\"color: #7f7f7f; text-decoration-color: #7f7f7f\">235 │   </span>fun.__wrapped__ = func                                                                 <span style=\"color: #800000; text-decoration-color: #800000\">│</span>\n",
       "<span style=\"color: #800000; text-decoration-color: #800000\">│</span>                                                                                                  <span style=\"color: #800000; text-decoration-color: #800000\">│</span>\n",
       "<span style=\"color: #800000; text-decoration-color: #800000\">│</span> <span style=\"color: #bfbf7f; text-decoration-color: #bfbf7f\">/mnt/ext/projects/pasteur/venv/lib/python3.10/site-packages/IPython/core/</span><span style=\"color: #808000; text-decoration-color: #808000; font-weight: bold\">magic.py</span>:<span style=\"color: #0000ff; text-decoration-color: #0000ff\">187</span> in         <span style=\"color: #800000; text-decoration-color: #800000\">│</span>\n",
       "<span style=\"color: #800000; text-decoration-color: #800000\">│</span> <span style=\"color: #00ff00; text-decoration-color: #00ff00\">&lt;lambda&gt;</span>                                                                                         <span style=\"color: #800000; text-decoration-color: #800000\">│</span>\n",
       "<span style=\"color: #800000; text-decoration-color: #800000\">│</span>                                                                                                  <span style=\"color: #800000; text-decoration-color: #800000\">│</span>\n",
       "<span style=\"color: #800000; text-decoration-color: #800000\">│</span>   <span style=\"color: #7f7f7f; text-decoration-color: #7f7f7f\">184 │   # This is a closure to capture the magic_kind.  We could also use a class,</span>             <span style=\"color: #800000; text-decoration-color: #800000\">│</span>\n",
       "<span style=\"color: #800000; text-decoration-color: #800000\">│</span>   <span style=\"color: #7f7f7f; text-decoration-color: #7f7f7f\">185 │   # but it's overkill for just that one bit of state.</span>                                    <span style=\"color: #800000; text-decoration-color: #800000\">│</span>\n",
       "<span style=\"color: #800000; text-decoration-color: #800000\">│</span>   <span style=\"color: #7f7f7f; text-decoration-color: #7f7f7f\">186 │   </span><span style=\"color: #0000ff; text-decoration-color: #0000ff\">def</span> <span style=\"color: #00ff00; text-decoration-color: #00ff00\">magic_deco</span>(arg):                                                                   <span style=\"color: #800000; text-decoration-color: #800000\">│</span>\n",
       "<span style=\"color: #800000; text-decoration-color: #800000\">│</span> <span style=\"color: #800000; text-decoration-color: #800000\">❱ </span>187 <span style=\"color: #7f7f7f; text-decoration-color: #7f7f7f\">│   │   </span>call = <span style=\"color: #0000ff; text-decoration-color: #0000ff\">lambda</span> f, *a, **k: f(*a, **k)                                               <span style=\"color: #800000; text-decoration-color: #800000\">│</span>\n",
       "<span style=\"color: #800000; text-decoration-color: #800000\">│</span>   <span style=\"color: #7f7f7f; text-decoration-color: #7f7f7f\">188 │   │   </span>                                                                                   <span style=\"color: #800000; text-decoration-color: #800000\">│</span>\n",
       "<span style=\"color: #800000; text-decoration-color: #800000\">│</span>   <span style=\"color: #7f7f7f; text-decoration-color: #7f7f7f\">189 │   │   </span><span style=\"color: #0000ff; text-decoration-color: #0000ff\">if</span> callable(arg):                                                                  <span style=\"color: #800000; text-decoration-color: #800000\">│</span>\n",
       "<span style=\"color: #800000; text-decoration-color: #800000\">│</span>   <span style=\"color: #7f7f7f; text-decoration-color: #7f7f7f\">190 │   │   │   # \"Naked\" decorator call (just @foo, no args)</span>                                  <span style=\"color: #800000; text-decoration-color: #800000\">│</span>\n",
       "<span style=\"color: #800000; text-decoration-color: #800000\">│</span>                                                                                                  <span style=\"color: #800000; text-decoration-color: #800000\">│</span>\n",
       "<span style=\"color: #800000; text-decoration-color: #800000\">│</span> <span style=\"color: #bfbf7f; text-decoration-color: #bfbf7f\">/mnt/ext/projects/pasteur/venv/lib/python3.10/site-packages/IPython/core/magics/</span><span style=\"color: #808000; text-decoration-color: #808000; font-weight: bold\">execution.py</span>:<span style=\"color: #0000ff; text-decoration-color: #0000ff\">118</span> <span style=\"color: #800000; text-decoration-color: #800000\">│</span>\n",
       "<span style=\"color: #800000; text-decoration-color: #800000\">│</span> <span style=\"color: #0000ff; text-decoration-color: #0000ff\">0</span> in <span style=\"color: #00ff00; text-decoration-color: #00ff00\">timeit</span>                                                                                      <span style=\"color: #800000; text-decoration-color: #800000\">│</span>\n",
       "<span style=\"color: #800000; text-decoration-color: #800000\">│</span>                                                                                                  <span style=\"color: #800000; text-decoration-color: #800000\">│</span>\n",
       "<span style=\"color: #800000; text-decoration-color: #800000\">│</span>   <span style=\"color: #7f7f7f; text-decoration-color: #7f7f7f\">1177 │   │   │   # determine number so that 0.2 &lt;= total time &lt; 2.0</span>                            <span style=\"color: #800000; text-decoration-color: #800000\">│</span>\n",
       "<span style=\"color: #800000; text-decoration-color: #800000\">│</span>   <span style=\"color: #7f7f7f; text-decoration-color: #7f7f7f\">1178 │   │   │   </span><span style=\"color: #0000ff; text-decoration-color: #0000ff\">for</span> index <span style=\"color: #ff00ff; text-decoration-color: #ff00ff\">in</span> <span style=\"color: #00ffff; text-decoration-color: #00ffff\">range</span>(<span style=\"color: #0000ff; text-decoration-color: #0000ff\">0</span>, <span style=\"color: #0000ff; text-decoration-color: #0000ff\">10</span>):                                                    <span style=\"color: #800000; text-decoration-color: #800000\">│</span>\n",
       "<span style=\"color: #800000; text-decoration-color: #800000\">│</span>   <span style=\"color: #7f7f7f; text-decoration-color: #7f7f7f\">1179 │   │   │   │   </span>number = <span style=\"color: #0000ff; text-decoration-color: #0000ff\">10</span> ** index                                                      <span style=\"color: #800000; text-decoration-color: #800000\">│</span>\n",
       "<span style=\"color: #800000; text-decoration-color: #800000\">│</span> <span style=\"color: #800000; text-decoration-color: #800000\">❱ </span>1180 <span style=\"color: #7f7f7f; text-decoration-color: #7f7f7f\">│   │   │   │   </span>time_number = timer.timeit(number)                                        <span style=\"color: #800000; text-decoration-color: #800000\">│</span>\n",
       "<span style=\"color: #800000; text-decoration-color: #800000\">│</span>   <span style=\"color: #7f7f7f; text-decoration-color: #7f7f7f\">1181 │   │   │   │   </span><span style=\"color: #0000ff; text-decoration-color: #0000ff\">if</span> time_number &gt;= <span style=\"color: #0000ff; text-decoration-color: #0000ff\">0.2</span>:                                                    <span style=\"color: #800000; text-decoration-color: #800000\">│</span>\n",
       "<span style=\"color: #800000; text-decoration-color: #800000\">│</span>   <span style=\"color: #7f7f7f; text-decoration-color: #7f7f7f\">1182 │   │   │   │   │   </span><span style=\"color: #0000ff; text-decoration-color: #0000ff\">break</span>                                                                 <span style=\"color: #800000; text-decoration-color: #800000\">│</span>\n",
       "<span style=\"color: #800000; text-decoration-color: #800000\">│</span>   <span style=\"color: #7f7f7f; text-decoration-color: #7f7f7f\">1183 </span>                                                                                          <span style=\"color: #800000; text-decoration-color: #800000\">│</span>\n",
       "<span style=\"color: #800000; text-decoration-color: #800000\">│</span>                                                                                                  <span style=\"color: #800000; text-decoration-color: #800000\">│</span>\n",
       "<span style=\"color: #800000; text-decoration-color: #800000\">│</span> <span style=\"color: #bfbf7f; text-decoration-color: #bfbf7f\">/mnt/ext/projects/pasteur/venv/lib/python3.10/site-packages/IPython/core/magics/</span><span style=\"color: #808000; text-decoration-color: #808000; font-weight: bold\">execution.py</span>:<span style=\"color: #0000ff; text-decoration-color: #0000ff\">169</span> <span style=\"color: #800000; text-decoration-color: #800000\">│</span>\n",
       "<span style=\"color: #800000; text-decoration-color: #800000\">│</span> in <span style=\"color: #00ff00; text-decoration-color: #00ff00\">timeit</span>                                                                                        <span style=\"color: #800000; text-decoration-color: #800000\">│</span>\n",
       "<span style=\"color: #800000; text-decoration-color: #800000\">│</span>                                                                                                  <span style=\"color: #800000; text-decoration-color: #800000\">│</span>\n",
       "<span style=\"color: #800000; text-decoration-color: #800000\">│</span>   <span style=\"color: #7f7f7f; text-decoration-color: #7f7f7f\"> 166 │   │   </span>gcold = gc.isenabled()                                                            <span style=\"color: #800000; text-decoration-color: #800000\">│</span>\n",
       "<span style=\"color: #800000; text-decoration-color: #800000\">│</span>   <span style=\"color: #7f7f7f; text-decoration-color: #7f7f7f\"> 167 │   │   </span>gc.disable()                                                                      <span style=\"color: #800000; text-decoration-color: #800000\">│</span>\n",
       "<span style=\"color: #800000; text-decoration-color: #800000\">│</span>   <span style=\"color: #7f7f7f; text-decoration-color: #7f7f7f\"> 168 │   │   </span><span style=\"color: #0000ff; text-decoration-color: #0000ff\">try</span>:                                                                              <span style=\"color: #800000; text-decoration-color: #800000\">│</span>\n",
       "<span style=\"color: #800000; text-decoration-color: #800000\">│</span> <span style=\"color: #800000; text-decoration-color: #800000\">❱ </span> 169 <span style=\"color: #7f7f7f; text-decoration-color: #7f7f7f\">│   │   │   </span>timing = <span style=\"color: #00ffff; text-decoration-color: #00ffff\">self</span>.inner(it, <span style=\"color: #00ffff; text-decoration-color: #00ffff\">self</span>.timer)                                           <span style=\"color: #800000; text-decoration-color: #800000\">│</span>\n",
       "<span style=\"color: #800000; text-decoration-color: #800000\">│</span>   <span style=\"color: #7f7f7f; text-decoration-color: #7f7f7f\"> 170 │   │   </span><span style=\"color: #0000ff; text-decoration-color: #0000ff\">finally</span>:                                                                          <span style=\"color: #800000; text-decoration-color: #800000\">│</span>\n",
       "<span style=\"color: #800000; text-decoration-color: #800000\">│</span>   <span style=\"color: #7f7f7f; text-decoration-color: #7f7f7f\"> 171 │   │   │   </span><span style=\"color: #0000ff; text-decoration-color: #0000ff\">if</span> gcold:                                                                     <span style=\"color: #800000; text-decoration-color: #800000\">│</span>\n",
       "<span style=\"color: #800000; text-decoration-color: #800000\">│</span>   <span style=\"color: #7f7f7f; text-decoration-color: #7f7f7f\"> 172 │   │   │   │   </span>gc.enable()                                                               <span style=\"color: #800000; text-decoration-color: #800000\">│</span>\n",
       "<span style=\"color: #800000; text-decoration-color: #800000\">│</span> <span style=\"color: #808000; text-decoration-color: #808000\">&lt;magic-timeit&gt;</span>:<span style=\"color: #0000ff; text-decoration-color: #0000ff\">1</span> in <span style=\"color: #00ff00; text-decoration-color: #00ff00\">inner</span>                                                                        <span style=\"color: #800000; text-decoration-color: #800000\">│</span>\n",
       "<span style=\"color: #800000; text-decoration-color: #800000\">│</span>                                                                                                  <span style=\"color: #800000; text-decoration-color: #800000\">│</span>\n",
       "<span style=\"color: #800000; text-decoration-color: #800000\">│</span> <span style=\"color: #bfbf7f; text-decoration-color: #bfbf7f\">/tmp/ipykernel_9824/</span><span style=\"color: #808000; text-decoration-color: #808000; font-weight: bold\">3749485233.py</span>:<span style=\"color: #0000ff; text-decoration-color: #0000ff\">14</span> in <span style=\"color: #00ff00; text-decoration-color: #00ff00\">calc_marginal</span>                                            <span style=\"color: #800000; text-decoration-color: #800000\">│</span>\n",
       "<span style=\"color: #800000; text-decoration-color: #800000\">│</span>                                                                                                  <span style=\"color: #800000; text-decoration-color: #800000\">│</span>\n",
       "<span style=\"color: #800000; text-decoration-color: #800000\">│</span> <span style=\"color: #800000; text-decoration-color: #800000; font-style: italic\">[Errno 2] No such file or directory: '/tmp/ipykernel_9824/3749485233.py'</span>                         <span style=\"color: #800000; text-decoration-color: #800000\">│</span>\n",
       "<span style=\"color: #800000; text-decoration-color: #800000\">│</span> <span style=\"color: #808000; text-decoration-color: #808000\">&lt;__array_function__ internals&gt;</span>:<span style=\"color: #0000ff; text-decoration-color: #0000ff\">180</span> in <span style=\"color: #00ff00; text-decoration-color: #00ff00\">histogramdd</span>                                                <span style=\"color: #800000; text-decoration-color: #800000\">│</span>\n",
       "<span style=\"color: #800000; text-decoration-color: #800000\">│</span>                                                                                                  <span style=\"color: #800000; text-decoration-color: #800000\">│</span>\n",
       "<span style=\"color: #800000; text-decoration-color: #800000\">│</span> <span style=\"color: #bfbf7f; text-decoration-color: #bfbf7f\">/mnt/ext/projects/pasteur/venv/lib/python3.10/site-packages/numpy/lib/</span><span style=\"color: #808000; text-decoration-color: #808000; font-weight: bold\">histograms.py</span>:<span style=\"color: #0000ff; text-decoration-color: #0000ff\">1095</span> in      <span style=\"color: #800000; text-decoration-color: #800000\">│</span>\n",
       "<span style=\"color: #800000; text-decoration-color: #800000\">│</span> <span style=\"color: #00ff00; text-decoration-color: #00ff00\">histogramdd</span>                                                                                      <span style=\"color: #800000; text-decoration-color: #800000\">│</span>\n",
       "<span style=\"color: #800000; text-decoration-color: #800000\">│</span>                                                                                                  <span style=\"color: #800000; text-decoration-color: #800000\">│</span>\n",
       "<span style=\"color: #800000; text-decoration-color: #800000\">│</span>   <span style=\"color: #7f7f7f; text-decoration-color: #7f7f7f\">1092 │   </span>                                                                                      <span style=\"color: #800000; text-decoration-color: #800000\">│</span>\n",
       "<span style=\"color: #800000; text-decoration-color: #800000\">│</span>   <span style=\"color: #7f7f7f; text-decoration-color: #7f7f7f\">1093 │   # Compute the number of repetitions in xy and assign it to the</span>                        <span style=\"color: #800000; text-decoration-color: #800000\">│</span>\n",
       "<span style=\"color: #800000; text-decoration-color: #800000\">│</span>   <span style=\"color: #7f7f7f; text-decoration-color: #7f7f7f\">1094 │   # flattened histmat.</span>                                                                  <span style=\"color: #800000; text-decoration-color: #800000\">│</span>\n",
       "<span style=\"color: #800000; text-decoration-color: #800000\">│</span> <span style=\"color: #800000; text-decoration-color: #800000\">❱ </span>1095 <span style=\"color: #7f7f7f; text-decoration-color: #7f7f7f\">│   </span>hist = np.bincount(xy, weights, minlength=nbin.prod())                                <span style=\"color: #800000; text-decoration-color: #800000\">│</span>\n",
       "<span style=\"color: #800000; text-decoration-color: #800000\">│</span>   <span style=\"color: #7f7f7f; text-decoration-color: #7f7f7f\">1096 │   </span>                                                                                      <span style=\"color: #800000; text-decoration-color: #800000\">│</span>\n",
       "<span style=\"color: #800000; text-decoration-color: #800000\">│</span>   <span style=\"color: #7f7f7f; text-decoration-color: #7f7f7f\">1097 │   # Shape into a proper matrix</span>                                                          <span style=\"color: #800000; text-decoration-color: #800000\">│</span>\n",
       "<span style=\"color: #800000; text-decoration-color: #800000\">│</span>   <span style=\"color: #7f7f7f; text-decoration-color: #7f7f7f\">1098 │   </span>hist = hist.reshape(nbin)                                                             <span style=\"color: #800000; text-decoration-color: #800000\">│</span>\n",
       "<span style=\"color: #800000; text-decoration-color: #800000\">│</span> <span style=\"color: #808000; text-decoration-color: #808000\">&lt;__array_function__ internals&gt;</span>:<span style=\"color: #0000ff; text-decoration-color: #0000ff\">180</span> in <span style=\"color: #00ff00; text-decoration-color: #00ff00\">bincount</span>                                                   <span style=\"color: #800000; text-decoration-color: #800000\">│</span>\n",
       "<span style=\"color: #800000; text-decoration-color: #800000\">╰──────────────────────────────────────────────────────────────────────────────────────────────────╯</span>\n",
       "<span style=\"color: #ff0000; text-decoration-color: #ff0000; font-weight: bold\">MemoryError: </span>Unable to allocate <span style=\"color: #008080; text-decoration-color: #008080; font-weight: bold\">2.00</span> TiB for an array with shape <span style=\"font-weight: bold\">(</span><span style=\"color: #008080; text-decoration-color: #008080; font-weight: bold\">274877906944</span>,<span style=\"font-weight: bold\">)</span> and data type int64\n",
       "</pre>\n"
      ],
      "text/plain": [
       "\u001b[31m╭─\u001b[0m\u001b[31m────────────────────────────── \u001b[0m\u001b[1;31mTraceback \u001b[0m\u001b[1;2;31m(most recent call last)\u001b[0m\u001b[31m ───────────────────────────────\u001b[0m\u001b[31m─╮\u001b[0m\n",
       "\u001b[31m│\u001b[0m \u001b[2;33m/tmp/ipykernel_9824/\u001b[0m\u001b[1;33m2048533878.py\u001b[0m:\u001b[94m1\u001b[0m in \u001b[92m<cell line: 1>\u001b[0m                                            \u001b[31m│\u001b[0m\n",
       "\u001b[31m│\u001b[0m                                                                                                  \u001b[31m│\u001b[0m\n",
       "\u001b[31m│\u001b[0m \u001b[3;31m[Errno 2] No such file or directory: '/tmp/ipykernel_9824/2048533878.py'\u001b[0m                         \u001b[31m│\u001b[0m\n",
       "\u001b[31m│\u001b[0m                                                                                                  \u001b[31m│\u001b[0m\n",
       "\u001b[31m│\u001b[0m \u001b[2;33m/mnt/ext/projects/pasteur/venv/lib/python3.10/site-packages/IPython/core/\u001b[0m\u001b[1;33minteractiveshell.py\u001b[0m:\u001b[94m241\u001b[0m \u001b[31m│\u001b[0m\n",
       "\u001b[31m│\u001b[0m \u001b[94m8\u001b[0m in \u001b[92mrun_line_magic\u001b[0m                                                                              \u001b[31m│\u001b[0m\n",
       "\u001b[31m│\u001b[0m                                                                                                  \u001b[31m│\u001b[0m\n",
       "\u001b[31m│\u001b[0m   \u001b[2m2415 \u001b[0m\u001b[2m│   │   │   \u001b[0m\u001b[94mif\u001b[0m \u001b[96mgetattr\u001b[0m(fn, \u001b[33m\"\u001b[0m\u001b[33mneeds_local_scope\u001b[0m\u001b[33m\"\u001b[0m, \u001b[94mFalse\u001b[0m):                                   \u001b[31m│\u001b[0m\n",
       "\u001b[31m│\u001b[0m   \u001b[2m2416 \u001b[0m\u001b[2m│   │   │   │   \u001b[0mkwargs[\u001b[33m'\u001b[0m\u001b[33mlocal_ns\u001b[0m\u001b[33m'\u001b[0m] = \u001b[96mself\u001b[0m.get_local_scope(stack_depth)                    \u001b[31m│\u001b[0m\n",
       "\u001b[31m│\u001b[0m   \u001b[2m2417 \u001b[0m\u001b[2m│   │   │   \u001b[0m\u001b[94mwith\u001b[0m \u001b[96mself\u001b[0m.builtin_trap:                                                       \u001b[31m│\u001b[0m\n",
       "\u001b[31m│\u001b[0m \u001b[31m❱ \u001b[0m2418 \u001b[2m│   │   │   │   \u001b[0mresult = fn(*args, **kwargs)                                              \u001b[31m│\u001b[0m\n",
       "\u001b[31m│\u001b[0m   \u001b[2m2419 \u001b[0m\u001b[2m│   │   │   \u001b[0m\u001b[94mreturn\u001b[0m result                                                                 \u001b[31m│\u001b[0m\n",
       "\u001b[31m│\u001b[0m   \u001b[2m2420 \u001b[0m\u001b[2m│   \u001b[0m                                                                                      \u001b[31m│\u001b[0m\n",
       "\u001b[31m│\u001b[0m   \u001b[2m2421 \u001b[0m\u001b[2m│   \u001b[0m\u001b[94mdef\u001b[0m \u001b[92mget_local_scope\u001b[0m(\u001b[96mself\u001b[0m, stack_depth):                                               \u001b[31m│\u001b[0m\n",
       "\u001b[31m│\u001b[0m                                                                                                  \u001b[31m│\u001b[0m\n",
       "\u001b[31m│\u001b[0m \u001b[2;33m/mnt/ext/projects/pasteur/venv/lib/python3.10/site-packages/\u001b[0m\u001b[1;33mdecorator.py\u001b[0m:\u001b[94m232\u001b[0m in \u001b[92mfun\u001b[0m              \u001b[31m│\u001b[0m\n",
       "\u001b[31m│\u001b[0m                                                                                                  \u001b[31m│\u001b[0m\n",
       "\u001b[31m│\u001b[0m   \u001b[2m229 \u001b[0m\u001b[2m│   │   \u001b[0m\u001b[94mdef\u001b[0m \u001b[92mfun\u001b[0m(*args, **kw):                                                              \u001b[31m│\u001b[0m\n",
       "\u001b[31m│\u001b[0m   \u001b[2m230 \u001b[0m\u001b[2m│   │   │   \u001b[0m\u001b[94mif\u001b[0m \u001b[95mnot\u001b[0m kwsyntax:                                                               \u001b[31m│\u001b[0m\n",
       "\u001b[31m│\u001b[0m   \u001b[2m231 \u001b[0m\u001b[2m│   │   │   │   \u001b[0margs, kw = fix(args, kw, sig)                                              \u001b[31m│\u001b[0m\n",
       "\u001b[31m│\u001b[0m \u001b[31m❱ \u001b[0m232 \u001b[2m│   │   │   \u001b[0m\u001b[94mreturn\u001b[0m caller(func, *(extras + args), **kw)                                    \u001b[31m│\u001b[0m\n",
       "\u001b[31m│\u001b[0m   \u001b[2m233 \u001b[0m\u001b[2m│   \u001b[0mfun.\u001b[91m__name__\u001b[0m = func.\u001b[91m__name__\u001b[0m                                                           \u001b[31m│\u001b[0m\n",
       "\u001b[31m│\u001b[0m   \u001b[2m234 \u001b[0m\u001b[2m│   \u001b[0mfun.\u001b[91m__doc__\u001b[0m = func.\u001b[91m__doc__\u001b[0m                                                             \u001b[31m│\u001b[0m\n",
       "\u001b[31m│\u001b[0m   \u001b[2m235 \u001b[0m\u001b[2m│   \u001b[0mfun.__wrapped__ = func                                                                 \u001b[31m│\u001b[0m\n",
       "\u001b[31m│\u001b[0m                                                                                                  \u001b[31m│\u001b[0m\n",
       "\u001b[31m│\u001b[0m \u001b[2;33m/mnt/ext/projects/pasteur/venv/lib/python3.10/site-packages/IPython/core/\u001b[0m\u001b[1;33mmagic.py\u001b[0m:\u001b[94m187\u001b[0m in         \u001b[31m│\u001b[0m\n",
       "\u001b[31m│\u001b[0m \u001b[92m<lambda>\u001b[0m                                                                                         \u001b[31m│\u001b[0m\n",
       "\u001b[31m│\u001b[0m                                                                                                  \u001b[31m│\u001b[0m\n",
       "\u001b[31m│\u001b[0m   \u001b[2m184 \u001b[0m\u001b[2m│   \u001b[0m\u001b[2m# This is a closure to capture the magic_kind.  We could also use a class,\u001b[0m             \u001b[31m│\u001b[0m\n",
       "\u001b[31m│\u001b[0m   \u001b[2m185 \u001b[0m\u001b[2m│   \u001b[0m\u001b[2m# but it's overkill for just that one bit of state.\u001b[0m                                    \u001b[31m│\u001b[0m\n",
       "\u001b[31m│\u001b[0m   \u001b[2m186 \u001b[0m\u001b[2m│   \u001b[0m\u001b[94mdef\u001b[0m \u001b[92mmagic_deco\u001b[0m(arg):                                                                   \u001b[31m│\u001b[0m\n",
       "\u001b[31m│\u001b[0m \u001b[31m❱ \u001b[0m187 \u001b[2m│   │   \u001b[0mcall = \u001b[94mlambda\u001b[0m f, *a, **k: f(*a, **k)                                               \u001b[31m│\u001b[0m\n",
       "\u001b[31m│\u001b[0m   \u001b[2m188 \u001b[0m\u001b[2m│   │   \u001b[0m                                                                                   \u001b[31m│\u001b[0m\n",
       "\u001b[31m│\u001b[0m   \u001b[2m189 \u001b[0m\u001b[2m│   │   \u001b[0m\u001b[94mif\u001b[0m callable(arg):                                                                  \u001b[31m│\u001b[0m\n",
       "\u001b[31m│\u001b[0m   \u001b[2m190 \u001b[0m\u001b[2m│   │   │   \u001b[0m\u001b[2m# \"Naked\" decorator call (just @foo, no args)\u001b[0m                                  \u001b[31m│\u001b[0m\n",
       "\u001b[31m│\u001b[0m                                                                                                  \u001b[31m│\u001b[0m\n",
       "\u001b[31m│\u001b[0m \u001b[2;33m/mnt/ext/projects/pasteur/venv/lib/python3.10/site-packages/IPython/core/magics/\u001b[0m\u001b[1;33mexecution.py\u001b[0m:\u001b[94m118\u001b[0m \u001b[31m│\u001b[0m\n",
       "\u001b[31m│\u001b[0m \u001b[94m0\u001b[0m in \u001b[92mtimeit\u001b[0m                                                                                      \u001b[31m│\u001b[0m\n",
       "\u001b[31m│\u001b[0m                                                                                                  \u001b[31m│\u001b[0m\n",
       "\u001b[31m│\u001b[0m   \u001b[2m1177 \u001b[0m\u001b[2m│   │   │   \u001b[0m\u001b[2m# determine number so that 0.2 <= total time < 2.0\u001b[0m                            \u001b[31m│\u001b[0m\n",
       "\u001b[31m│\u001b[0m   \u001b[2m1178 \u001b[0m\u001b[2m│   │   │   \u001b[0m\u001b[94mfor\u001b[0m index \u001b[95min\u001b[0m \u001b[96mrange\u001b[0m(\u001b[94m0\u001b[0m, \u001b[94m10\u001b[0m):                                                    \u001b[31m│\u001b[0m\n",
       "\u001b[31m│\u001b[0m   \u001b[2m1179 \u001b[0m\u001b[2m│   │   │   │   \u001b[0mnumber = \u001b[94m10\u001b[0m ** index                                                      \u001b[31m│\u001b[0m\n",
       "\u001b[31m│\u001b[0m \u001b[31m❱ \u001b[0m1180 \u001b[2m│   │   │   │   \u001b[0mtime_number = timer.timeit(number)                                        \u001b[31m│\u001b[0m\n",
       "\u001b[31m│\u001b[0m   \u001b[2m1181 \u001b[0m\u001b[2m│   │   │   │   \u001b[0m\u001b[94mif\u001b[0m time_number >= \u001b[94m0.2\u001b[0m:                                                    \u001b[31m│\u001b[0m\n",
       "\u001b[31m│\u001b[0m   \u001b[2m1182 \u001b[0m\u001b[2m│   │   │   │   │   \u001b[0m\u001b[94mbreak\u001b[0m                                                                 \u001b[31m│\u001b[0m\n",
       "\u001b[31m│\u001b[0m   \u001b[2m1183 \u001b[0m                                                                                          \u001b[31m│\u001b[0m\n",
       "\u001b[31m│\u001b[0m                                                                                                  \u001b[31m│\u001b[0m\n",
       "\u001b[31m│\u001b[0m \u001b[2;33m/mnt/ext/projects/pasteur/venv/lib/python3.10/site-packages/IPython/core/magics/\u001b[0m\u001b[1;33mexecution.py\u001b[0m:\u001b[94m169\u001b[0m \u001b[31m│\u001b[0m\n",
       "\u001b[31m│\u001b[0m in \u001b[92mtimeit\u001b[0m                                                                                        \u001b[31m│\u001b[0m\n",
       "\u001b[31m│\u001b[0m                                                                                                  \u001b[31m│\u001b[0m\n",
       "\u001b[31m│\u001b[0m   \u001b[2m 166 \u001b[0m\u001b[2m│   │   \u001b[0mgcold = gc.isenabled()                                                            \u001b[31m│\u001b[0m\n",
       "\u001b[31m│\u001b[0m   \u001b[2m 167 \u001b[0m\u001b[2m│   │   \u001b[0mgc.disable()                                                                      \u001b[31m│\u001b[0m\n",
       "\u001b[31m│\u001b[0m   \u001b[2m 168 \u001b[0m\u001b[2m│   │   \u001b[0m\u001b[94mtry\u001b[0m:                                                                              \u001b[31m│\u001b[0m\n",
       "\u001b[31m│\u001b[0m \u001b[31m❱ \u001b[0m 169 \u001b[2m│   │   │   \u001b[0mtiming = \u001b[96mself\u001b[0m.inner(it, \u001b[96mself\u001b[0m.timer)                                           \u001b[31m│\u001b[0m\n",
       "\u001b[31m│\u001b[0m   \u001b[2m 170 \u001b[0m\u001b[2m│   │   \u001b[0m\u001b[94mfinally\u001b[0m:                                                                          \u001b[31m│\u001b[0m\n",
       "\u001b[31m│\u001b[0m   \u001b[2m 171 \u001b[0m\u001b[2m│   │   │   \u001b[0m\u001b[94mif\u001b[0m gcold:                                                                     \u001b[31m│\u001b[0m\n",
       "\u001b[31m│\u001b[0m   \u001b[2m 172 \u001b[0m\u001b[2m│   │   │   │   \u001b[0mgc.enable()                                                               \u001b[31m│\u001b[0m\n",
       "\u001b[31m│\u001b[0m \u001b[33m<magic-timeit>\u001b[0m:\u001b[94m1\u001b[0m in \u001b[92minner\u001b[0m                                                                        \u001b[31m│\u001b[0m\n",
       "\u001b[31m│\u001b[0m                                                                                                  \u001b[31m│\u001b[0m\n",
       "\u001b[31m│\u001b[0m \u001b[2;33m/tmp/ipykernel_9824/\u001b[0m\u001b[1;33m3749485233.py\u001b[0m:\u001b[94m14\u001b[0m in \u001b[92mcalc_marginal\u001b[0m                                            \u001b[31m│\u001b[0m\n",
       "\u001b[31m│\u001b[0m                                                                                                  \u001b[31m│\u001b[0m\n",
       "\u001b[31m│\u001b[0m \u001b[3;31m[Errno 2] No such file or directory: '/tmp/ipykernel_9824/3749485233.py'\u001b[0m                         \u001b[31m│\u001b[0m\n",
       "\u001b[31m│\u001b[0m \u001b[33m<__array_function__ internals>\u001b[0m:\u001b[94m180\u001b[0m in \u001b[92mhistogramdd\u001b[0m                                                \u001b[31m│\u001b[0m\n",
       "\u001b[31m│\u001b[0m                                                                                                  \u001b[31m│\u001b[0m\n",
       "\u001b[31m│\u001b[0m \u001b[2;33m/mnt/ext/projects/pasteur/venv/lib/python3.10/site-packages/numpy/lib/\u001b[0m\u001b[1;33mhistograms.py\u001b[0m:\u001b[94m1095\u001b[0m in      \u001b[31m│\u001b[0m\n",
       "\u001b[31m│\u001b[0m \u001b[92mhistogramdd\u001b[0m                                                                                      \u001b[31m│\u001b[0m\n",
       "\u001b[31m│\u001b[0m                                                                                                  \u001b[31m│\u001b[0m\n",
       "\u001b[31m│\u001b[0m   \u001b[2m1092 \u001b[0m\u001b[2m│   \u001b[0m                                                                                      \u001b[31m│\u001b[0m\n",
       "\u001b[31m│\u001b[0m   \u001b[2m1093 \u001b[0m\u001b[2m│   \u001b[0m\u001b[2m# Compute the number of repetitions in xy and assign it to the\u001b[0m                        \u001b[31m│\u001b[0m\n",
       "\u001b[31m│\u001b[0m   \u001b[2m1094 \u001b[0m\u001b[2m│   \u001b[0m\u001b[2m# flattened histmat.\u001b[0m                                                                  \u001b[31m│\u001b[0m\n",
       "\u001b[31m│\u001b[0m \u001b[31m❱ \u001b[0m1095 \u001b[2m│   \u001b[0mhist = np.bincount(xy, weights, minlength=nbin.prod())                                \u001b[31m│\u001b[0m\n",
       "\u001b[31m│\u001b[0m   \u001b[2m1096 \u001b[0m\u001b[2m│   \u001b[0m                                                                                      \u001b[31m│\u001b[0m\n",
       "\u001b[31m│\u001b[0m   \u001b[2m1097 \u001b[0m\u001b[2m│   \u001b[0m\u001b[2m# Shape into a proper matrix\u001b[0m                                                          \u001b[31m│\u001b[0m\n",
       "\u001b[31m│\u001b[0m   \u001b[2m1098 \u001b[0m\u001b[2m│   \u001b[0mhist = hist.reshape(nbin)                                                             \u001b[31m│\u001b[0m\n",
       "\u001b[31m│\u001b[0m \u001b[33m<__array_function__ internals>\u001b[0m:\u001b[94m180\u001b[0m in \u001b[92mbincount\u001b[0m                                                   \u001b[31m│\u001b[0m\n",
       "\u001b[31m╰──────────────────────────────────────────────────────────────────────────────────────────────────╯\u001b[0m\n",
       "\u001b[1;91mMemoryError: \u001b[0mUnable to allocate \u001b[1;36m2.00\u001b[0m TiB for an array with shape \u001b[1m(\u001b[0m\u001b[1;36m274877906944\u001b[0m,\u001b[1m)\u001b[0m and data type int64\n"
      ]
     },
     "metadata": {},
     "output_type": "display_data"
    }
   ],
   "source": [
    "%timeit calc_marginal(data, domain, [0,1,2,3,4], [5,6,7,8,9,10,11,12,13,14,15,16,17,18])"
   ]
  },
  {
   "cell_type": "code",
   "execution_count": null,
   "metadata": {},
   "outputs": [
    {
     "name": "stdout",
     "output_type": "stream",
     "text": [
      "13.9 ms ± 9.81 µs per loop (mean ± std. dev. of 7 runs, 100 loops each)\n"
     ]
    }
   ],
   "source": [
    "%timeit calc_marginal_2(data, domain, [0,1,2,3,4], [5,6,7,8,9,10,11,12,13,14,15,16,17,18])"
   ]
  },
  {
   "cell_type": "code",
   "execution_count": null,
   "metadata": {},
   "outputs": [
    {
     "name": "stdout",
     "output_type": "stream",
     "text": [
      "Timer unit: 1e-06 s\n",
      "\n",
      "Total time: 0.013973 s\n",
      "File: /tmp/ipykernel_9824/4051514708.py\n",
      "Function: calc_marginal_2 at line 1\n",
      "\n",
      "Line #      Hits         Time  Per Hit   % Time  Line Contents\n",
      "==============================================================\n",
      "     1                                           def calc_marginal_2(\n",
      "     2                                               data: np.ndarray,\n",
      "     3                                               domain: np.ndarray,\n",
      "     4                                               x: list[int],\n",
      "     5                                               p: list[int],\n",
      "     6                                               rm_zeros: bool = False,\n",
      "     7                                           ):\n",
      "     8                                               \"\"\"Calculates the 1 way and 2 way marginals between the set of columns in x\n",
      "     9                                               and the set of columns in p.\"\"\"\n",
      "    10                                           \n",
      "    11         1       1719.0   1719.0     12.3      sub_data = data[:, x + p]\n",
      "    12         1         15.0     15.0      0.1      sub_domain = domain[x + p]\n",
      "    13                                           \n",
      "    14         1         48.0     48.0      0.3      x_dom = reduce(lambda a, b: a*b, domain[x], 1)\n",
      "    15         1         13.0     13.0      0.1      p_dom = reduce(lambda a, b: a*b, domain[p], 1)\n",
      "    16         1        236.0    236.0      1.7      idx = np.zeros((len(sub_data)), dtype=\"int64\")\n",
      "    17        20         40.0      2.0      0.3      for col, dom in zip(sub_data.transpose(), sub_domain):\n",
      "    18        19       9829.0    517.3     70.3          idx = idx*dom + col\n",
      "    19                                               \n",
      "    20         1       1056.0   1056.0      7.6      counts = np.bincount(idx, minlength=x_dom*p_dom)\n",
      "    21         1        377.0    377.0      2.7      margin = counts.reshape(x_dom, p_dom).astype(\"float\")\n",
      "    22                                           \n",
      "    23         1        365.0    365.0      2.6      margin /= margin.sum()\n",
      "    24         1          1.0      1.0      0.0      if rm_zeros:\n",
      "    25                                                   # Mutual info turns into NaN without this\n",
      "    26                                                   margin += 1e-24\n",
      "    27                                           \n",
      "    28         1          0.0      0.0      0.0      j_mar = margin\n",
      "    29         1        156.0    156.0      1.1      x_mar = np.sum(margin, axis=1)\n",
      "    30         1        117.0    117.0      0.8      p_mar = np.sum(margin, axis=0)\n",
      "    31                                           \n",
      "    32         1          1.0      1.0      0.0      return j_mar, x_mar, p_mar"
     ]
    }
   ],
   "source": [
    "%lprun -f calc_marginal_2 calc_marginal_2(data, domain, [0,1,2,3,4], [5,6,7,8,9,10,11,12,13,14,15,16,17,18])"
   ]
  },
  {
   "cell_type": "code",
   "execution_count": null,
   "metadata": {},
   "outputs": [],
   "source": [
    "import numexpr as ne\n",
    "\n",
    "def calc_marginal_3(\n",
    "    data: np.ndarray,\n",
    "    domain: np.ndarray,\n",
    "    x: list[int],\n",
    "    p: list[int],\n",
    "    rm_zeros: bool = False,\n",
    "):\n",
    "    \"\"\"Calculates the 1 way and 2 way marginals between the set of columns in x\n",
    "    and the set of columns in p.\"\"\"\n",
    "\n",
    "    xp = x + p\n",
    "    x_dom = reduce(lambda a, b: a*b, domain[x], 1)\n",
    "    p_dom = reduce(lambda a, b: a*b, domain[p], 1)\n",
    "\n",
    "    idx = np.zeros((len(data)), dtype=\"int64\")\n",
    "    for col in xp:\n",
    "        idx = domain[col]*idx + data[:, col]\n",
    "    \n",
    "    counts = np.bincount(idx, minlength=x_dom*p_dom)\n",
    "    margin = counts.reshape(x_dom, p_dom).astype(\"float\")\n",
    "\n",
    "    margin /= margin.sum()\n",
    "    if rm_zeros:\n",
    "        # Mutual info turns into NaN without this\n",
    "        margin += 1e-24\n",
    "\n",
    "    j_mar = margin\n",
    "    x_mar = np.sum(margin, axis=1)\n",
    "    p_mar = np.sum(margin, axis=0)\n",
    "\n",
    "    return j_mar, x_mar, p_mar\n",
    "    \n",
    "j_mar3, x_mar3, p_mar3 = calc_marginal_3(data, domain, [0,1,2,3,4], [5,6,7,8,9,10,11,12,13,14,15])"
   ]
  },
  {
   "cell_type": "code",
   "execution_count": null,
   "metadata": {},
   "outputs": [
    {
     "name": "stdout",
     "output_type": "stream",
     "text": [
      "12 ms ± 14.5 µs per loop (mean ± std. dev. of 7 runs, 100 loops each)\n"
     ]
    }
   ],
   "source": [
    "%timeit calc_marginal_3(data, domain, [0,1,2,3,4], [5,6,7,8,9,10,11,12,13,14,15,16,17,18])"
   ]
  },
  {
   "cell_type": "code",
   "execution_count": null,
   "metadata": {},
   "outputs": [
    {
     "name": "stdout",
     "output_type": "stream",
     "text": [
      "Timer unit: 1e-06 s\n",
      "\n",
      "Total time: 0.012281 s\n",
      "File: /tmp/ipykernel_9824/3634434575.py\n",
      "Function: calc_marginal_3 at line 3\n",
      "\n",
      "Line #      Hits         Time  Per Hit   % Time  Line Contents\n",
      "==============================================================\n",
      "     3                                           def calc_marginal_3(\n",
      "     4                                               data: np.ndarray,\n",
      "     5                                               domain: np.ndarray,\n",
      "     6                                               x: list[int],\n",
      "     7                                               p: list[int],\n",
      "     8                                               rm_zeros: bool = False,\n",
      "     9                                           ):\n",
      "    10                                               \"\"\"Calculates the 1 way and 2 way marginals between the set of columns in x\n",
      "    11                                               and the set of columns in p.\"\"\"\n",
      "    12                                           \n",
      "    13         1          2.0      2.0      0.0      xp = x + p\n",
      "    14         1         33.0     33.0      0.3      x_dom = reduce(lambda a, b: a*b, domain[x], 1)\n",
      "    15         1         13.0     13.0      0.1      p_dom = reduce(lambda a, b: a*b, domain[p], 1)\n",
      "    16                                           \n",
      "    17         1        326.0    326.0      2.7      idx = np.zeros((len(data)), dtype=\"int64\")\n",
      "    18        20         20.0      1.0      0.2      for col in xp:\n",
      "    19        19       9796.0    515.6     79.8          idx = domain[col]*idx + data[:, col]\n",
      "    20                                               \n",
      "    21         1       1074.0   1074.0      8.7      counts = np.bincount(idx, minlength=x_dom*p_dom)\n",
      "    22         1        384.0    384.0      3.1      margin = counts.reshape(x_dom, p_dom).astype(\"float\")\n",
      "    23                                           \n",
      "    24         1        362.0    362.0      2.9      margin /= margin.sum()\n",
      "    25         1          1.0      1.0      0.0      if rm_zeros:\n",
      "    26                                                   # Mutual info turns into NaN without this\n",
      "    27                                                   margin += 1e-24\n",
      "    28                                           \n",
      "    29         1          0.0      0.0      0.0      j_mar = margin\n",
      "    30         1        150.0    150.0      1.2      x_mar = np.sum(margin, axis=1)\n",
      "    31         1        119.0    119.0      1.0      p_mar = np.sum(margin, axis=0)\n",
      "    32                                           \n",
      "    33         1          1.0      1.0      0.0      return j_mar, x_mar, p_mar"
     ]
    }
   ],
   "source": [
    "%lprun -f calc_marginal_3 calc_marginal_3(data, domain, [0,1,2,3,4], [5,6,7,8,9,10,11,12,13,14,15,16,17,18])"
   ]
  },
  {
   "cell_type": "code",
   "execution_count": null,
   "metadata": {},
   "outputs": [],
   "source": [
    "assert np.all(j_mar1 == j_mar3)\n",
    "assert np.all(x_mar1 == x_mar3)\n",
    "assert np.all(p_mar1 == p_mar3)"
   ]
  },
  {
   "cell_type": "code",
   "execution_count": null,
   "metadata": {},
   "outputs": [],
   "source": [
    "def calc_marginal_4(\n",
    "    data: np.ndarray,\n",
    "    domain: np.ndarray,\n",
    "    x: list[int],\n",
    "    p: list[int],\n",
    "    rm_zeros: bool = False,\n",
    "):\n",
    "    \"\"\"Calculates the 1 way and 2 way marginals between the set of columns in x\n",
    "    and the set of columns in p.\"\"\"\n",
    "\n",
    "    xp = x + p\n",
    "    x_dom = reduce(lambda a, b: a*b, domain[x], 1)\n",
    "    p_dom = reduce(lambda a, b: a*b, domain[p], 1)\n",
    "\n",
    "    idx = np.zeros((len(data)), dtype=\"int64\")\n",
    "    mul = 1\n",
    "    for col in reversed(xp):\n",
    "        # idx += mul*data[:, col]\n",
    "        np.add(idx, mul*data[:, col], out=idx)\n",
    "        mul *= domain[col]\n",
    "    \n",
    "    counts = np.bincount(idx, minlength=x_dom*p_dom)\n",
    "    margin = counts.reshape(x_dom, p_dom).astype(\"float\")\n",
    "\n",
    "    margin /= margin.sum()\n",
    "    if rm_zeros:\n",
    "        # Mutual info turns into NaN without this\n",
    "        margin += 1e-24\n",
    "\n",
    "    j_mar = margin\n",
    "    x_mar = np.sum(margin, axis=1)\n",
    "    p_mar = np.sum(margin, axis=0)\n",
    "\n",
    "    return j_mar, x_mar, p_mar\n",
    "    \n",
    "j_mar4, x_mar4, p_mar4 = calc_marginal_4(data, domain, [0,1,2,3,4], [5,6,7,8,9,10,11,12,13,14,15])"
   ]
  },
  {
   "cell_type": "code",
   "execution_count": null,
   "metadata": {},
   "outputs": [
    {
     "name": "stdout",
     "output_type": "stream",
     "text": [
      "8.74 ms ± 12.8 µs per loop (mean ± std. dev. of 7 runs, 100 loops each)\n"
     ]
    }
   ],
   "source": [
    "%timeit calc_marginal_4(data, domain, [0,1,2,3,4], [5,6,7,8,9,10,11,12,13,14,15,16,17,18])"
   ]
  },
  {
   "cell_type": "code",
   "execution_count": null,
   "metadata": {},
   "outputs": [
    {
     "name": "stdout",
     "output_type": "stream",
     "text": [
      "Timer unit: 1e-06 s\n",
      "\n",
      "Total time: 0.009247 s\n",
      "File: /tmp/ipykernel_9824/1461518459.py\n",
      "Function: calc_marginal_4 at line 1\n",
      "\n",
      "Line #      Hits         Time  Per Hit   % Time  Line Contents\n",
      "==============================================================\n",
      "     1                                           def calc_marginal_4(\n",
      "     2                                               data: np.ndarray,\n",
      "     3                                               domain: np.ndarray,\n",
      "     4                                               x: list[int],\n",
      "     5                                               p: list[int],\n",
      "     6                                               rm_zeros: bool = False,\n",
      "     7                                           ):\n",
      "     8                                               \"\"\"Calculates the 1 way and 2 way marginals between the set of columns in x\n",
      "     9                                               and the set of columns in p.\"\"\"\n",
      "    10                                           \n",
      "    11         1          1.0      1.0      0.0      xp = x + p\n",
      "    12         1         32.0     32.0      0.3      x_dom = reduce(lambda a, b: a*b, domain[x], 1)\n",
      "    13         1         13.0     13.0      0.1      p_dom = reduce(lambda a, b: a*b, domain[p], 1)\n",
      "    14                                           \n",
      "    15         1        469.0    469.0      5.1      idx = np.zeros((len(data)), dtype=\"int64\")\n",
      "    16         1          2.0      2.0      0.0      mul = 1\n",
      "    17        20         18.0      0.9      0.2      for col in reversed(xp):\n",
      "    18                                                   # idx += mul*data[:, col]\n",
      "    19        19       6658.0    350.4     72.0          np.add(idx, mul*data[:, col], out=idx)\n",
      "    20        19         35.0      1.8      0.4          mul *= domain[col]\n",
      "    21                                               \n",
      "    22         1        974.0    974.0     10.5      counts = np.bincount(idx, minlength=x_dom*p_dom)\n",
      "    23         1        399.0    399.0      4.3      margin = counts.reshape(x_dom, p_dom).astype(\"float\")\n",
      "    24                                           \n",
      "    25         1        372.0    372.0      4.0      margin /= margin.sum()\n",
      "    26         1          2.0      2.0      0.0      if rm_zeros:\n",
      "    27                                                   # Mutual info turns into NaN without this\n",
      "    28                                                   margin += 1e-24\n",
      "    29                                           \n",
      "    30         1          0.0      0.0      0.0      j_mar = margin\n",
      "    31         1        153.0    153.0      1.7      x_mar = np.sum(margin, axis=1)\n",
      "    32         1        118.0    118.0      1.3      p_mar = np.sum(margin, axis=0)\n",
      "    33                                           \n",
      "    34         1          1.0      1.0      0.0      return j_mar, x_mar, p_mar"
     ]
    }
   ],
   "source": [
    "%lprun -f calc_marginal_4 calc_marginal_4(data, domain, [0,1,2,3,4], [5,6,7,8,9,10,11,12,13,14,15,16,17,18])"
   ]
  },
  {
   "cell_type": "code",
   "execution_count": null,
   "metadata": {},
   "outputs": [],
   "source": [
    "assert np.all(j_mar1 == j_mar4)\n",
    "assert np.all(x_mar1 == x_mar4)\n",
    "assert np.all(p_mar1 == p_mar4)"
   ]
  },
  {
   "cell_type": "code",
   "execution_count": null,
   "metadata": {},
   "outputs": [],
   "source": [
    "def calc_marginal_5(\n",
    "    data: np.ndarray,\n",
    "    domain: np.ndarray,\n",
    "    x: list[int],\n",
    "    p: list[int],\n",
    "    rm_zeros: bool = False,\n",
    "):\n",
    "    \"\"\"Calculates the 1 way and 2 way marginals between the set of columns in x\n",
    "    and the set of columns in p.\"\"\"\n",
    "\n",
    "    xp = x + p\n",
    "    x_dom = reduce(lambda a, b: a*b, domain[x], 1)\n",
    "    p_dom = reduce(lambda a, b: a*b, domain[p], 1)\n",
    "\n",
    "    idx = np.zeros((len(data)), dtype=\"uint16\")\n",
    "    tmp = np.empty((len(data)), dtype=\"uint16\")\n",
    "    mul = 1\n",
    "    for col in reversed(xp):\n",
    "        # idx += mul*data[:, col]\n",
    "        np.add(idx, np.multiply(mul,data[:, col],out=tmp), out=idx)\n",
    "        mul *= domain[col]\n",
    "    \n",
    "    counts = np.bincount(idx, minlength=x_dom*p_dom)\n",
    "    margin = counts.reshape(x_dom, p_dom).astype(\"float\")\n",
    "\n",
    "    margin /= margin.sum()\n",
    "    if rm_zeros:\n",
    "        # Mutual info turns into NaN without this\n",
    "        margin += 1e-24\n",
    "\n",
    "    j_mar = margin\n",
    "    x_mar = np.sum(margin, axis=1)\n",
    "    p_mar = np.sum(margin, axis=0)\n",
    "\n",
    "    return j_mar, x_mar, p_mar\n",
    "    \n",
    "j_mar5, x_mar5, p_mar5 = calc_marginal_5(data, domain, [0,1,2,3,4], [5,6,7,8,9,10,11,12,13,14,15])"
   ]
  },
  {
   "cell_type": "code",
   "execution_count": null,
   "metadata": {},
   "outputs": [
    {
     "name": "stdout",
     "output_type": "stream",
     "text": [
      "4.82 ms ± 10.8 µs per loop (mean ± std. dev. of 7 runs, 100 loops each)\n"
     ]
    }
   ],
   "source": [
    "%timeit calc_marginal_5(data, domain, [0,1,2,3,4], [5,6,7,8,9,10,11,12,13,14,15,16,17,18])"
   ]
  },
  {
   "cell_type": "code",
   "execution_count": null,
   "metadata": {},
   "outputs": [
    {
     "name": "stdout",
     "output_type": "stream",
     "text": [
      "Timer unit: 1e-06 s\n",
      "\n",
      "Total time: 0.009334 s\n",
      "File: /tmp/ipykernel_9824/1461518459.py\n",
      "Function: calc_marginal_4 at line 1\n",
      "\n",
      "Line #      Hits         Time  Per Hit   % Time  Line Contents\n",
      "==============================================================\n",
      "     1                                           def calc_marginal_4(\n",
      "     2                                               data: np.ndarray,\n",
      "     3                                               domain: np.ndarray,\n",
      "     4                                               x: list[int],\n",
      "     5                                               p: list[int],\n",
      "     6                                               rm_zeros: bool = False,\n",
      "     7                                           ):\n",
      "     8                                               \"\"\"Calculates the 1 way and 2 way marginals between the set of columns in x\n",
      "     9                                               and the set of columns in p.\"\"\"\n",
      "    10                                           \n",
      "    11         1          2.0      2.0      0.0      xp = x + p\n",
      "    12         1         35.0     35.0      0.4      x_dom = reduce(lambda a, b: a*b, domain[x], 1)\n",
      "    13         1         14.0     14.0      0.1      p_dom = reduce(lambda a, b: a*b, domain[p], 1)\n",
      "    14                                           \n",
      "    15         1        185.0    185.0      2.0      idx = np.zeros((len(data)), dtype=\"int64\")\n",
      "    16         1          1.0      1.0      0.0      mul = 1\n",
      "    17        20         17.0      0.8      0.2      for col in reversed(xp):\n",
      "    18                                                   # idx += mul*data[:, col]\n",
      "    19        19       6984.0    367.6     74.8          np.add(idx, mul*data[:, col], out=idx)\n",
      "    20        19         32.0      1.7      0.3          mul *= domain[col]\n",
      "    21                                               \n",
      "    22         1       1033.0   1033.0     11.1      counts = np.bincount(idx, minlength=x_dom*p_dom)\n",
      "    23         1        394.0    394.0      4.2      margin = counts.reshape(x_dom, p_dom).astype(\"float\")\n",
      "    24                                           \n",
      "    25         1        364.0    364.0      3.9      margin /= margin.sum()\n",
      "    26         1          1.0      1.0      0.0      if rm_zeros:\n",
      "    27                                                   # Mutual info turns into NaN without this\n",
      "    28                                                   margin += 1e-24\n",
      "    29                                           \n",
      "    30         1          0.0      0.0      0.0      j_mar = margin\n",
      "    31         1        153.0    153.0      1.6      x_mar = np.sum(margin, axis=1)\n",
      "    32         1        118.0    118.0      1.3      p_mar = np.sum(margin, axis=0)\n",
      "    33                                           \n",
      "    34         1          1.0      1.0      0.0      return j_mar, x_mar, p_mar"
     ]
    }
   ],
   "source": [
    "%lprun -f calc_marginal_4 calc_marginal_4(data, domain, [0,1,2,3,4], [5,6,7,8,9,10,11,12,13,14,15,16,17,18])"
   ]
  },
  {
   "cell_type": "code",
   "execution_count": null,
   "metadata": {},
   "outputs": [],
   "source": [
    "assert np.all(j_mar1 == j_mar5)\n",
    "assert np.all(x_mar1 == x_mar5)\n",
    "assert np.all(p_mar1 == p_mar5)"
   ]
  },
  {
   "cell_type": "code",
   "execution_count": null,
   "metadata": {},
   "outputs": [],
   "source": [
    "def calc_marginal_1way(\n",
    "    data: np.ndarray, domain: np.ndarray, x: list[int], rm_zeros: bool = False\n",
    "):\n",
    "    \"\"\"Calculates the 1 way marginal of x, returned as a 1D array.\"\"\"\n",
    "\n",
    "    x_dom = reduce(lambda a, b: a * b, domain[x], 1)\n",
    "\n",
    "    idx = np.zeros((len(data)), dtype=\"int64\")\n",
    "    mul = 1\n",
    "    for col in reversed(x):\n",
    "        # idx += mul*data[:, col]\n",
    "        np.add(idx, mul * data[:, col], out=idx)\n",
    "        mul *= domain[col]\n",
    "\n",
    "    counts = np.bincount(idx, minlength=x_dom)\n",
    "    margin = counts.astype(\"float\")\n",
    "    margin /= margin.sum()\n",
    "    if rm_zeros:\n",
    "        # Mutual info turns into NaN without this\n",
    "        margin += 1e-24\n",
    "\n",
    "    return margin\n",
    "\n",
    "mar = calc_marginal_1way(data, domain, [5,6,7,8,9,10,11,12,13,14,15,16,17,18])"
   ]
  },
  {
   "cell_type": "code",
   "execution_count": null,
   "metadata": {},
   "outputs": [
    {
     "name": "stdout",
     "output_type": "stream",
     "text": [
      "5.36 ms ± 5.11 µs per loop (mean ± std. dev. of 7 runs, 100 loops each)\n"
     ]
    }
   ],
   "source": [
    "%timeit calc_marginal_1way(data, domain, [5,6,7,8,9,10,11,12,13,14,15,16,17,18])"
   ]
  },
  {
   "cell_type": "code",
   "execution_count": null,
   "metadata": {},
   "outputs": [
    {
     "name": "stdout",
     "output_type": "stream",
     "text": [
      "Timer unit: 1e-06 s\n",
      "\n",
      "Total time: 0 s\n",
      "File: /tmp/ipykernel_9824/268377759.py\n",
      "Function: calc_marginal_1way at line 1\n",
      "\n",
      "Line #      Hits         Time  Per Hit   % Time  Line Contents\n",
      "==============================================================\n",
      "     1                                           def calc_marginal_1way(\n",
      "     2                                               data: np.ndarray, domain: np.ndarray, x: list[int], rm_zeros: bool = False\n",
      "     3                                           ):\n",
      "     4                                               \"\"\"Calculates the 1 way marginal of x, returned as a 1D array.\"\"\"\n",
      "     5                                           \n",
      "     6                                               x_dom = reduce(lambda a, b: a * b, domain[x], 1)\n",
      "     7                                           \n",
      "     8                                               idx = np.zeros((len(data)), dtype=\"int64\")\n",
      "     9                                               mul = 1\n",
      "    10                                               for col in reversed(x):\n",
      "    11                                                   # idx += mul*data[:, col]\n",
      "    12                                                   np.add(idx, mul * data[:, col], out=idx)\n",
      "    13                                                   mul *= domain[col]\n",
      "    14                                           \n",
      "    15                                               counts = np.bincount(idx, minlength=x_dom)\n",
      "    16                                               margin = counts.astype(\"float\")\n",
      "    17                                               margin /= margin.sum()\n",
      "    18                                               if rm_zeros:\n",
      "    19                                                   # Mutual info turns into NaN without this\n",
      "    20                                                   margin += 1e-24\n",
      "    21                                           \n",
      "    22                                               return margin"
     ]
    }
   ],
   "source": [
    "%lprun -f calc_marginal_1way (data, domain, [5,6,7,8,9,10,11,12,13,14,15,16,17,18])"
   ]
  },
  {
   "cell_type": "code",
   "execution_count": null,
   "metadata": {},
   "outputs": [],
   "source": [
    "def calc_marginal_1way_old(\n",
    "    data: np.ndarray, domain: np.ndarray, x: list[int], rm_zeros: bool = False\n",
    "):\n",
    "    \"\"\"Calculates the 1 way marginal of x, returned as a 1D array.\"\"\"\n",
    "    \n",
    "    sub_data = data[:, x]\n",
    "    sub_domain = domain[x]\n",
    "    margin, _ = np.histogramdd(sub_data, sub_domain)\n",
    "    margin /= margin.sum()\n",
    "    if rm_zeros:\n",
    "        # Mutual info turns into NaN without this\n",
    "        margin += 1e-24\n",
    "\n",
    "    return margin.reshape(-1)\n",
    "\n",
    "mar2 = calc_marginal_1way_old(data, domain, [5,6,7,8,9,10,11,12,13,14,15,16,17,18])"
   ]
  },
  {
   "cell_type": "code",
   "execution_count": null,
   "metadata": {},
   "outputs": [
    {
     "name": "stdout",
     "output_type": "stream",
     "text": [
      "547 ms ± 747 µs per loop (mean ± std. dev. of 7 runs, 1 loop each)\n"
     ]
    }
   ],
   "source": [
    "%timeit calc_marginal_1way_old(data, domain, [5,6,7,8,9,10,11,12,13,14,15,16,17,18])"
   ]
  },
  {
   "cell_type": "code",
   "execution_count": null,
   "metadata": {},
   "outputs": [],
   "source": [
    "assert np.all(mar == mar2)"
   ]
  },
  {
   "cell_type": "code",
   "execution_count": null,
   "metadata": {},
   "outputs": [],
   "source": [
    "model = catalog.load(\"mimic_tab_admissions.privbayes.model\")"
   ]
  },
  {
   "cell_type": "code",
   "execution_count": null,
   "metadata": {},
   "outputs": [
    {
     "name": "stdout",
     "output_type": "stream",
     "text": [
      "           INFO     Deterministic check: random number after          base.py:29\n",
      "                    PrivBayesSynth.fit(): <np.random> 0.96812                   \n",
      "                    <random> 0.14817                                            \n"
     ]
    }
   ],
   "source": [
    "model.fit({\"table\": table}, {})"
   ]
  },
  {
   "cell_type": "code",
   "execution_count": null,
   "metadata": {},
   "outputs": [],
   "source": [
    "import cupy as cp\n",
    "\n",
    "def calc_marginal_cupy(\n",
    "    data,\n",
    "    domain,\n",
    "    x: list[int],\n",
    "    p: list[int],\n",
    "    rm_zeros: bool = False,\n",
    "):\n",
    "    \"\"\"Calculates the 1 way and 2 way marginals between the set of columns in x\n",
    "    and the set of columns in p.\"\"\"\n",
    "\n",
    "    xp = x + p\n",
    "    x_dom = int(reduce(lambda a, b: a*b, domain[x], 1))\n",
    "    p_dom = int(reduce(lambda a, b: a*b, domain[p], 1))\n",
    "\n",
    "    idx = cp.zeros((len(data)), dtype=\"uint16\")\n",
    "    tmp = cp.empty((len(data)), dtype=\"uint16\")\n",
    "    mul = 1\n",
    "    for col in reversed(xp):\n",
    "        # idx += mul*data[:, col]\n",
    "        cp.add(idx, cp.multiply(mul,data[:, col],out=tmp), out=idx)\n",
    "        mul *= domain[col]\n",
    "    \n",
    "    counts = cp.bincount(idx, minlength=x_dom*p_dom)\n",
    "    margin = counts.reshape(x_dom, p_dom).astype(\"float\")\n",
    "\n",
    "    margin /= margin.sum()\n",
    "    if rm_zeros:\n",
    "        # Mutual info turns into NaN without this\n",
    "        margin += 1e-24\n",
    "\n",
    "    j_mar = margin\n",
    "    x_mar = cp.sum(margin, axis=1)\n",
    "    p_mar = cp.sum(margin, axis=0)\n",
    "\n",
    "    return j_mar, x_mar, p_mar\n",
    "\n",
    "cdata = cp.asarray(data)\n",
    "cdomain = cp.asarray(domain)\n",
    "j_mar5, x_mar5, p_mar5 = calc_marginal_cupy(cdata, cdomain, [0,1,2,3,4], [5,6,7,8,9,10,11,12,13,14,15])"
   ]
  },
  {
   "cell_type": "code",
   "execution_count": null,
   "metadata": {},
   "outputs": [
    {
     "name": "stdout",
     "output_type": "stream",
     "text": [
      "\n",
      "array([[0.93426498, 0.        , 0.        , ..., 0.        , 0.        ,\n",
      "        0.        ],\n",
      "       [0.        , 0.        , 0.        , ..., 0.        , 0.        ,\n",
      "        0.        ],\n",
      "       [0.        , 0.        , 0.        , ..., 0.        , 0.        ,\n",
      "        0.        ],\n",
      "       ...,\n",
      "       [0.        , 0.        , 0.        , ..., 0.        , 0.        ,\n",
      "        0.        ],\n",
      "       [0.        , 0.        , 0.        , ..., 0.        , 0.        ,\n",
      "        0.        ],\n",
      "       [0.        , 0.        , 0.        , ..., 0.        , 0.        ,\n",
      "        0.        ]])\n"
     ]
    }
   ],
   "source": [
    "j_mar5"
   ]
  },
  {
   "cell_type": "code",
   "execution_count": null,
   "metadata": {},
   "outputs": [
    {
     "name": "stdout",
     "output_type": "stream",
     "text": [
      "3.96 ms ± 5.95 µs per loop (mean ± std. dev. of 7 runs, 100 loops each)\n"
     ]
    }
   ],
   "source": [
    "%timeit calc_marginal_cupy(cdata, cdomain, [0,1,2,3,4], [5,6,7,8,9,10,11,12,13,14,15,16,17,18])[0][0]"
   ]
  },
  {
   "cell_type": "code",
   "execution_count": null,
   "metadata": {},
   "outputs": [
    {
     "name": "stdout",
     "output_type": "stream",
     "text": [
      "Timer unit: 1e-06 s\n",
      "\n",
      "Total time: 0.002122 s\n",
      "File: /tmp/ipykernel_9824/82347716.py\n",
      "Function: calc_marginal_cupy at line 3\n",
      "\n",
      "Line #      Hits         Time  Per Hit   % Time  Line Contents\n",
      "==============================================================\n",
      "     3                                           def calc_marginal_cupy(\n",
      "     4                                               data,\n",
      "     5                                               domain,\n",
      "     6                                               x: list[int],\n",
      "     7                                               p: list[int],\n",
      "     8                                               rm_zeros: bool = False,\n",
      "     9                                           ):\n",
      "    10                                               \"\"\"Calculates the 1 way and 2 way marginals between the set of columns in x\n",
      "    11                                               and the set of columns in p.\"\"\"\n",
      "    12                                           \n",
      "    13         1          2.0      2.0      0.1      xp = x + p\n",
      "    14         1        491.0    491.0     23.1      x_dom = int(reduce(lambda a, b: a*b, domain[x], 1))\n",
      "    15         1        357.0    357.0     16.8      p_dom = int(reduce(lambda a, b: a*b, domain[p], 1))\n",
      "    16                                           \n",
      "    17         1         28.0     28.0      1.3      idx = cp.zeros((len(data)), dtype=\"uint16\")\n",
      "    18         1          8.0      8.0      0.4      tmp = cp.empty((len(data)), dtype=\"uint16\")\n",
      "    19         1          0.0      0.0      0.0      mul = 1\n",
      "    20        20         15.0      0.8      0.7      for col in reversed(xp):\n",
      "    21                                                   # idx += mul*data[:, col]\n",
      "    22        19        447.0     23.5     21.1          cp.add(idx, cp.multiply(mul,data[:, col],out=tmp), out=idx)\n",
      "    23        19        260.0     13.7     12.3          mul *= domain[col]\n",
      "    24                                               \n",
      "    25         1        319.0    319.0     15.0      counts = cp.bincount(idx, minlength=x_dom*p_dom)\n",
      "    26         1         50.0     50.0      2.4      margin = counts.reshape(x_dom, p_dom).astype(\"float\")\n",
      "    27                                           \n",
      "    28         1         58.0     58.0      2.7      margin /= margin.sum()\n",
      "    29         1          1.0      1.0      0.0      if rm_zeros:\n",
      "    30                                                   # Mutual info turns into NaN without this\n",
      "    31                                                   margin += 1e-24\n",
      "    32                                           \n",
      "    33         1          1.0      1.0      0.0      j_mar = margin\n",
      "    34         1         39.0     39.0      1.8      x_mar = cp.sum(margin, axis=1)\n",
      "    35         1         45.0     45.0      2.1      p_mar = cp.sum(margin, axis=0)\n",
      "    36                                           \n",
      "    37         1          1.0      1.0      0.0      return j_mar, x_mar, p_mar"
     ]
    }
   ],
   "source": [
    "%lprun -f calc_marginal_cupy calc_marginal_cupy(cdata, cdomain, [0,1,2,3,4], [5,6,7,8,9,10,11,12,13,14,15,16,17,18])"
   ]
  },
  {
   "cell_type": "code",
   "execution_count": null,
   "metadata": {},
   "outputs": [
    {
     "name": "stdout",
     "output_type": "stream",
     "text": [
      "calc_marginal_cupy  :    CPU: 1490.534 us   +/-49.099 (min: 1453.099 / max: 2265.651) us     GPU-0: 4163.733 us   +/-96.352 (min: 4108.288 / max: 5195.776) us\n"
     ]
    }
   ],
   "source": [
    "\n",
    "from cupyx.profiler import benchmark\n",
    "print(benchmark(calc_marginal_cupy, (cdata, cdomain, [0,1,2,3,4], [5,6,7,8,9,10,11,12,13,14,15,16,17,18]), n_repeat=1000))"
   ]
  },
  {
   "cell_type": "code",
   "execution_count": null,
   "metadata": {},
   "outputs": [],
   "source": []
  }
 ],
 "metadata": {
  "language_info": {
   "codemirror_mode": {
    "name": "ipython",
    "version": 3
   },
   "file_extension": ".py",
   "mimetype": "text/x-python",
   "name": "python",
   "nbconvert_exporter": "python",
   "pygments_lexer": "ipython3",
   "version": "3.10.6"
  },
  "vscode": {
   "interpreter": {
    "hash": "50661068d2d5c6ff1ce24ae701dfa73cc4ae117a223c3f7199e1fdb4656c8912"
   }
  }
 },
 "nbformat": 4,
 "nbformat_minor": 2
}
