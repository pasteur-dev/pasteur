{
 "cells": [
  {
   "cell_type": "code",
   "execution_count": null,
   "metadata": {},
   "outputs": [
    {
     "name": "stdout",
     "output_type": "stream",
     "text": [
      "\u001b[0m\u001b[34mINFO    \u001b[0m Kedro project Pasteur                                                                                           \u001b[2m__init__.py\u001b[0m\u001b[2m:\u001b[0m\u001b[2m77\u001b[0m\n",
      "\u001b[0m\u001b[34mINFO    \u001b[0m Defined global variable \u001b[32m'context'\u001b[0m, \u001b[32m'session'\u001b[0m, \u001b[32m'catalog'\u001b[0m and \u001b[32m'pipelines'\u001b[0m                                         \u001b[2m__init__.py\u001b[0m\u001b[2m:\u001b[0m\u001b[2m78\u001b[0m\n",
      "\u001b[0m\u001b[34mINFO    \u001b[0m Registered line magic \u001b[32m'run_viz'\u001b[0m                                                                                 \u001b[2m__init__.py\u001b[0m\u001b[2m:\u001b[0m\u001b[2m84\u001b[0m\n"
     ]
    }
   ],
   "source": [
    "from pasteur.kedro.ipython import * # type: ignore\n",
    "register_kedro() # type: ignore\n",
    "\n",
    "%load_ext autoreload\n",
    "%autoreload 2"
   ]
  },
  {
   "cell_type": "code",
   "execution_count": null,
   "metadata": {},
   "outputs": [],
   "source": [
    "from pasteur.extras.views.texas import TexasBillionView"
   ]
  },
  {
   "cell_type": "code",
   "execution_count": null,
   "metadata": {},
   "outputs": [],
   "source": [
    "charges = catalog.load(\"texas.charges\")\n",
    "s = charges.sample().drop(columns=['modifier_1', 'modifier_2', 'modifier_3', 'modifier_4', 'hcpcs_qualifier'])"
   ]
  },
  {
   "cell_type": "code",
   "execution_count": null,
   "metadata": {},
   "outputs": [],
   "source": [
    "s = catalog.load('mimic.icu_chartevents').sample()"
   ]
  },
  {
   "cell_type": "code",
   "execution_count": null,
   "metadata": {},
   "outputs": [],
   "source": [
    "import numpy as np\n",
    "import pandas as pd"
   ]
  },
  {
   "cell_type": "code",
   "execution_count": null,
   "metadata": {},
   "outputs": [
    {
     "name": "stdout",
     "output_type": "stream",
     "text": [
      "            subject_id unique vals:    0 10312\n",
      "               hadm_id unique vals:    0 13324\n",
      "               stay_id unique vals:    0 14735\n",
      "             charttime unique vals:    0 2664114\n",
      "             storetime unique vals:    0 4715403\n",
      "                itemid unique vals:   10 2119\n",
      "                 value unique vals:    9 14187\n",
      "              valuenum unique vals:    6 11535\n",
      "              valueuom unique vals:    5 57\n",
      "               warning unique vals:    2 2\n"
     ]
    }
   ],
   "source": [
    "l = s.shape[0]\n",
    "target = 0.01 * l\n",
    "\n",
    "for col in s.columns:\n",
    "    # print(s[col].value_counts())\n",
    "    unique = len(s[col].unique())\n",
    "    big = np.count_nonzero(s[col].value_counts() > target)\n",
    "    print(f'{col:>22s} unique vals: {big:4d} {unique}')"
   ]
  },
  {
   "cell_type": "code",
   "execution_count": null,
   "metadata": {},
   "outputs": [
    {
     "name": "stdout",
     "output_type": "stream",
     "text": [
      "0.0 0.0\n"
     ]
    }
   ],
   "source": [
    "c = 'chrgs_non_cov'\n",
    "print(np.percentile(s[c], 10), np.percentile(s[c], 95))"
   ]
  },
  {
   "cell_type": "code",
   "execution_count": null,
   "metadata": {},
   "outputs": [
    {
     "name": "stdout",
     "output_type": "stream",
     "text": [
      "\n",
      "charge_id\n",
      "\u001b[1;36m0\u001b[0m              \u001b[1;36m0.0\u001b[0m\n",
      "\u001b[1;36m1\u001b[0m              \u001b[1;36m0.0\u001b[0m\n",
      "\u001b[1;36m2\u001b[0m              \u001b[1;36m0.0\u001b[0m\n",
      "\u001b[1;36m3\u001b[0m              \u001b[1;36m0.0\u001b[0m\n",
      "\u001b[1;36m4\u001b[0m              \u001b[1;36m0.0\u001b[0m\n",
      "             \u001b[33m...\u001b[0m  \n",
      "\u001b[1;36m12304531\u001b[0m       \u001b[1;36m0.0\u001b[0m\n",
      "\u001b[1;36m12304532\u001b[0m    \u001b[1;36m1800.0\u001b[0m\n",
      "\u001b[1;36m12304533\u001b[0m       \u001b[1;36m0.0\u001b[0m\n",
      "\u001b[1;36m12304534\u001b[0m       \u001b[1;36m0.0\u001b[0m\n",
      "\u001b[1;36m12304535\u001b[0m       \u001b[1;36m0.0\u001b[0m\n",
      "Name: unit_rate, Length: \u001b[1;36m12304536\u001b[0m, dtype: float32\n"
     ]
    }
   ],
   "source": [
    "s[c]"
   ]
  },
  {
   "cell_type": "code",
   "execution_count": null,
   "metadata": {},
   "outputs": [],
   "source": []
  }
 ],
 "metadata": {
  "language_info": {
   "codemirror_mode": {
    "name": "ipython",
    "version": 3
   },
   "file_extension": ".py",
   "mimetype": "text/x-python",
   "name": "python",
   "nbconvert_exporter": "python",
   "pygments_lexer": "ipython3",
   "version": "3.10.9 (main, Dec  7 2022, 01:12:00) [GCC 9.4.0]"
  },
  "vscode": {
   "interpreter": {
    "hash": "d48f3171bf93d5bacc74509c6ff913ccf36520ab35bc9e1b8a60d7039aa36cfb"
   }
  }
 },
 "nbformat": 4,
 "nbformat_minor": 2
}
