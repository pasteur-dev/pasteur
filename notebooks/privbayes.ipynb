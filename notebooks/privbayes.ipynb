{
 "cells": [
  {
   "cell_type": "code",
   "execution_count": null,
   "metadata": {},
   "outputs": [],
   "source": [
    "# Removes lint errors from VS Code\n",
    "from typing import Dict, TYPE_CHECKING, Tuple, List\n",
    "\n",
    "if TYPE_CHECKING:\n",
    "    import kedro\n",
    "\n",
    "    catalog: kedro.io.data_catalog.DataCatalog\n",
    "    session: kedro.framework.session.session.KedroSession\n",
    "    pipelines: Dict[str, kedro.pipeline.pipeline.Pipeline]\n"
   ]
  },
  {
   "cell_type": "code",
   "execution_count": null,
   "metadata": {},
   "outputs": [],
   "source": [
    "import os\n",
    "\n",
    "VIEW = os.getenv(\"DATASET_VIEW\") or \"tab_adult\"\n",
    "TABLE = os.getenv(\"DATASET_TABLE\") or \"table\"\n",
    "MULTI_PROCESS = (\n",
    "    os.getenv(\"MULTI_PROCESS\") if os.getenv(\"MULTI_PROCESS\") is not None else True\n",
    ")\n",
    "\n",
    "import numpy as np\n",
    "import pandas as pd\n",
    "from importlib import reload\n",
    "\n",
    "bin: pd.DataFrame = catalog.load(f\"{VIEW}.wrk.bin_{TABLE}\")\n",
    "random_state = catalog.load(\"params:random_state\")\n"
   ]
  },
  {
   "cell_type": "code",
   "execution_count": null,
   "metadata": {},
   "outputs": [],
   "source": [
    "bin.head()"
   ]
  },
  {
   "cell_type": "code",
   "execution_count": null,
   "metadata": {},
   "outputs": [],
   "source": [
    "import pasteur.synth.privbayes as pb\n",
    "reload(pb)\n",
    "\n",
    "e = 1\n",
    "beta = 0.1\n",
    "e1 = beta * e\n",
    "e2 = (1 - beta) * e\n",
    "\n",
    "d = len(bin.keys())\n",
    "n = len(bin)\n",
    "\n",
    "noise_ratio = 4\n",
    "\n",
    "k = pb.calc_k(d, n, e2, noise_ratio)"
   ]
  },
  {
   "cell_type": "code",
   "execution_count": null,
   "metadata": {},
   "outputs": [],
   "source": [
    "assert all(dtype.name == \"bool\" for dtype in bin.dtypes)"
   ]
  },
  {
   "cell_type": "code",
   "execution_count": null,
   "metadata": {},
   "outputs": [],
   "source": [
    "data = bin[[\"age_0\", \"workclass_0\", \"workclass_1\", \"workclass_3\"]]\n",
    "\n",
    "marginal = data.groupby(list(data.keys())).size()\n",
    "marginal"
   ]
  },
  {
   "cell_type": "code",
   "execution_count": null,
   "metadata": {},
   "outputs": [],
   "source": [
    "from scipy.stats import laplace\n",
    "\n",
    "noise_scale = 2*(d - k) / e2\n",
    "noise = laplace.rvs(loc=0, scale=noise_scale, size=marginal.shape)\n",
    "noise"
   ]
  },
  {
   "cell_type": "code",
   "execution_count": null,
   "metadata": {},
   "outputs": [],
   "source": [
    "noisy_marginal = marginal + noise\n",
    "noisy_marginal = noisy_marginal.clip(0)\n",
    "noisy_marginal = noisy_marginal / noisy_marginal.sum()\n",
    "noisy_marginal, noisy_marginal.sum()"
   ]
  },
  {
   "cell_type": "code",
   "execution_count": null,
   "metadata": {},
   "outputs": [],
   "source": [
    "noise_scale"
   ]
  },
  {
   "cell_type": "code",
   "execution_count": null,
   "metadata": {},
   "outputs": [],
   "source": [
    "len(bin) / len(marginal)"
   ]
  },
  {
   "cell_type": "code",
   "execution_count": null,
   "metadata": {},
   "outputs": [],
   "source": [
    "def calc_noisy_marginal(data: pd.DataFrame):\n",
    "    marginal = data.groupby(list(data.keys())).size()\n",
    "    noise_scale = 2*(d - k) / e2\n",
    "    noise = laplace.rvs(loc=0, scale=noise_scale, size=marginal.shape)"
   ]
  },
  {
   "cell_type": "code",
   "execution_count": null,
   "metadata": {},
   "outputs": [],
   "source": [
    "n, d = bin.shape\n",
    "n, d"
   ]
  },
  {
   "cell_type": "code",
   "execution_count": null,
   "metadata": {},
   "outputs": [],
   "source": [
    "x = \"age_0\"\n",
    "p = [\"workclass_0\", \"workclass_1\", \"workclass_3\"]\n",
    "\n",
    "joint = bin.groupby([x] + p).size()\n",
    "joint"
   ]
  },
  {
   "cell_type": "code",
   "execution_count": null,
   "metadata": {},
   "outputs": [],
   "source": [
    "x_marginal = joint.groupby(x).sum()\n",
    "\n",
    "x_marginal"
   ]
  },
  {
   "cell_type": "code",
   "execution_count": null,
   "metadata": {},
   "outputs": [],
   "source": [
    "p_marginal = joint.groupby(p).sum()\n",
    "\n",
    "p_marginal"
   ]
  },
  {
   "cell_type": "code",
   "execution_count": null,
   "metadata": {},
   "outputs": [],
   "source": [
    "contigency = pd.pivot(pd.DataFrame(bin.groupby([x] + p).size()).reset_index(), p, x).to_numpy(dtype=\"float\")\n",
    "contigency /= contigency.sum()\n",
    "contigency"
   ]
  },
  {
   "cell_type": "code",
   "execution_count": null,
   "metadata": {},
   "outputs": [],
   "source": [
    "x_marginal = contigency.sum(axis=0)\n",
    "x_marginal"
   ]
  },
  {
   "cell_type": "code",
   "execution_count": null,
   "metadata": {},
   "outputs": [],
   "source": [
    "p_marginal = contigency.sum(axis=1)\n",
    "p_marginal"
   ]
  },
  {
   "cell_type": "code",
   "execution_count": null,
   "metadata": {},
   "outputs": [],
   "source": [
    "(contigency*np.log2(contigency/np.outer(p_marginal, x_marginal))).sum()"
   ]
  },
  {
   "cell_type": "code",
   "execution_count": null,
   "metadata": {},
   "outputs": [],
   "source": [
    "%load_ext line_profiler"
   ]
  },
  {
   "cell_type": "code",
   "execution_count": null,
   "metadata": {},
   "outputs": [
    {
     "name": "stdout",
     "output_type": "stream",
     "text": [
      "7.16 ms ± 14.8 µs per loop (mean ± std. dev. of 7 runs, 100 loops each)\n"
     ]
    }
   ],
   "source": [
    "par = [bin[pi] for pi in p]\n",
    "chld = bin[x]\n",
    "%timeit pd.crosstab(par, chld)"
   ]
  },
  {
   "cell_type": "code",
   "execution_count": null,
   "metadata": {},
   "outputs": [
    {
     "name": "stdout",
     "output_type": "stream",
     "text": [
      "5.63 ms ± 15.9 µs per loop (mean ± std. dev. of 7 runs, 100 loops each)\n"
     ]
    }
   ],
   "source": [
    "%%timeit \n",
    "joint_dist = bin.groupby([x] + p).size()\n",
    "contigency_pd = pd.DataFrame(joint_dist).reset_index()\n",
    "contigency_pd = pd.pivot(contigency_pd, p, x)"
   ]
  },
  {
   "cell_type": "code",
   "execution_count": null,
   "metadata": {},
   "outputs": [
    {
     "name": "stdout",
     "output_type": "stream",
     "text": [
      "1.65 ms ± 9.77 µs per loop (mean ± std. dev. of 7 runs, 1000 loops each)\n"
     ]
    }
   ],
   "source": [
    "%timeit joint_dist = bin.groupby([x] + p).size()\n"
   ]
  },
  {
   "cell_type": "code",
   "execution_count": null,
   "metadata": {},
   "outputs": [
    {
     "name": "stdout",
     "output_type": "stream",
     "text": [
      "Timer unit: 1e-06 s\n",
      "\n",
      "Total time: 0.011686 s\n",
      "File: /tmp/ipykernel_4168668/872837184.py\n",
      "Function: calc_mutual_information at line 1\n",
      "\n",
      "Line #      Hits         Time  Per Hit   % Time  Line Contents\n",
      "==============================================================\n",
      "     1                                           def calc_mutual_information(data: pd.DataFrame, x: str, p: list[str]):\n",
      "     2         1       3764.0   3764.0     32.2      joint_dist = data.groupby([x] + p).size()\n",
      "     3         1       2837.0   2837.0     24.3      contigency_pd = pd.DataFrame(joint_dist).reset_index()\n",
      "     4         1       4965.0   4965.0     42.5      contigency_pd = pd.pivot(contigency_pd, p, x)\n",
      "     5                                           \n",
      "     6         1         40.0     40.0      0.3      contigency = contigency_pd.to_numpy(dtype=\"float\")\n",
      "     7         1         14.0     14.0      0.1      cg = contigency / contigency.sum()\n",
      "     8                                           \n",
      "     9                                               # Marginals\n",
      "    10         1          7.0      7.0      0.1      x_mar = contigency.sum(axis=0)\n",
      "    11         1          7.0      7.0      0.1      x_mar /= x_mar.sum()\n",
      "    12         1          4.0      4.0      0.0      p_mar = contigency.sum(axis=1)\n",
      "    13         1          5.0      5.0      0.0      p_mar /= p_mar.sum()\n",
      "    14                                           \n",
      "    15         1         43.0     43.0      0.4      return np.sum(cg*np.log2(cg/np.outer(p_mar, x_mar)))"
     ]
    }
   ],
   "source": [
    "def calc_mutual_information(data: pd.DataFrame, x: str, p: list[str]):\n",
    "    joint_dist = data.groupby([x] + p).size()\n",
    "    contigency_pd = pd.DataFrame(joint_dist).reset_index()\n",
    "    contigency_pd = pd.pivot(contigency_pd, p, x)\n",
    "\n",
    "    contigency = contigency_pd.to_numpy(dtype=\"float\")\n",
    "    cg = contigency / contigency.sum()\n",
    "\n",
    "    # Marginals\n",
    "    x_mar = contigency.sum(axis=0)\n",
    "    x_mar /= x_mar.sum()\n",
    "    p_mar = contigency.sum(axis=1)\n",
    "    p_mar /= p_mar.sum()\n",
    "\n",
    "    return np.sum(cg*np.log2(cg/np.outer(p_mar, x_mar)))\n",
    "\n",
    "\n",
    "%lprun -f calc_mutual_information calc_mutual_information(bin, x, p)\n",
    "# calc_mutual_information(bin, x, p)"
   ]
  },
  {
   "cell_type": "code",
   "execution_count": null,
   "metadata": {},
   "outputs": [
    {
     "name": "stdout",
     "output_type": "stream",
     "text": [
      "2: 145\n",
      "3: 144\n",
      "4: 429\n",
      "5: 852\n",
      "6: 1410\n",
      "7: 2100\n",
      "8: 2919\n",
      "9: 3864\n",
      "10: 4932\n",
      "11: 6120\n",
      "12: 7425\n",
      "13: 8844\n",
      "14: 10374\n",
      "15: 12012\n",
      "16: 13755\n",
      "17: 15600\n",
      "18: 17544\n",
      "19: 19584\n",
      "20: 21717\n",
      "21: 23940\n",
      "22: 26250\n",
      "23: 28644\n",
      "24: 31119\n",
      "25: 33672\n",
      "26: 36300\n",
      "27: 39000\n",
      "28: 41769\n",
      "29: 44604\n",
      "30: 47502\n",
      "31: 50460\n",
      "32: 53475\n",
      "33: 56544\n",
      "34: 59664\n",
      "35: 62832\n",
      "36: 66045\n",
      "37: 69300\n",
      "38: 72594\n",
      "39: 75924\n",
      "40: 79287\n",
      "41: 82680\n",
      "42: 86100\n",
      "43: 89544\n",
      "44: 93009\n",
      "45: 96492\n",
      "46: 99990\n",
      "47: 103500\n",
      "48: 107019\n",
      "49: 110544\n",
      "50: 114072\n",
      "51: 117600\n",
      "52: 121125\n",
      "53: 124644\n",
      "54: 128154\n",
      "55: 131652\n",
      "56: 135135\n",
      "57: 138600\n",
      "58: 142044\n",
      "59: 145464\n",
      "60: 148857\n",
      "61: 152220\n",
      "62: 155550\n",
      "63: 158844\n",
      "64: 162099\n",
      "65: 165312\n",
      "66: 168480\n",
      "67: 171600\n",
      "68: 174669\n",
      "69: 177684\n",
      "70: 180642\n",
      "71: 183540\n",
      "72: 186375\n",
      "73: 189144\n",
      "74: 191844\n",
      "75: 194472\n",
      "76: 197025\n",
      "77: 199500\n",
      "78: 201894\n",
      "79: 204204\n",
      "80: 206427\n",
      "81: 208560\n",
      "82: 210600\n",
      "83: 212544\n",
      "84: 214389\n",
      "85: 216132\n",
      "86: 217770\n",
      "87: 219300\n",
      "88: 220719\n",
      "89: 222024\n",
      "90: 223212\n",
      "91: 224280\n",
      "92: 225225\n",
      "93: 226044\n",
      "94: 226734\n",
      "95: 227292\n",
      "96: 227715\n",
      "97: 228000\n",
      "98: 228144\n",
      "99: 228144\n",
      "100: 227997\n",
      "101: 227700\n",
      "102: 227250\n",
      "103: 226644\n",
      "104: 225879\n",
      "105: 224952\n",
      "106: 223860\n",
      "107: 222600\n",
      "108: 221169\n",
      "109: 219564\n",
      "110: 217782\n",
      "111: 215820\n",
      "112: 213675\n",
      "113: 211344\n",
      "114: 208824\n",
      "115: 206112\n",
      "116: 203205\n",
      "117: 200100\n",
      "118: 196794\n",
      "119: 193284\n",
      "120: 189567\n",
      "121: 185640\n",
      "122: 181500\n",
      "123: 177144\n",
      "124: 172569\n",
      "125: 167772\n",
      "126: 162750\n",
      "127: 157500\n",
      "128: 152019\n",
      "129: 146304\n",
      "130: 140352\n",
      "131: 134160\n",
      "132: 127725\n",
      "133: 121044\n",
      "134: 114114\n",
      "135: 106932\n",
      "136: 99495\n",
      "137: 91800\n",
      "138: 83844\n",
      "139: 75624\n",
      "140: 67137\n",
      "141: 58380\n",
      "142: 49350\n",
      "143: 40044\n",
      "144: 30459\n",
      "145: 20592\n",
      "146: 10440\n",
      "18672085\n"
     ]
    }
   ],
   "source": [
    "import random\n",
    "from itertools import combinations as n_choose_k\n",
    "\n",
    "random.seed(0)\n",
    "\n",
    "def greedy_bayes(data: pd.DataFrame, k: int):\n",
    "    total_marginal = 0\n",
    "    N = {}\n",
    "    V = set()\n",
    "    A = set(data.keys())\n",
    "    d = len(data.keys())\n",
    "\n",
    "    # Add root randomly\n",
    "    x = random.sample(A, k=1)[0]\n",
    "    N[x] = []\n",
    "    V.add(x)\n",
    "\n",
    "    for _ in range(d - 1):\n",
    "        O = []\n",
    "\n",
    "        for x in A - V:\n",
    "            if len(V) > k:\n",
    "                O += [(x, c) for c in n_choose_k(V, k)]\n",
    "            else:\n",
    "                O += [(x, V.copy())]\n",
    "\n",
    "        x, p = O[0]\n",
    "        N[x] = p\n",
    "        V.add(x)\n",
    "        print(f\"{len(V)}: {len(O)}\")\n",
    "        total_marginal += len(O)\n",
    "\n",
    "    print(total_marginal)\n",
    "    return N, V\n",
    "\n",
    "greedy_bayes(bin, 2);"
   ]
  },
  {
   "cell_type": "code",
   "execution_count": null,
   "metadata": {},
   "outputs": [],
   "source": [
    "set([1,2,3]) - set([1,2,3])"
   ]
  },
  {
   "cell_type": "code",
   "execution_count": null,
   "metadata": {},
   "outputs": [
    {
     "data": {
      "text/html": [
       "<pre style=\"white-space:pre;overflow-x:auto;line-height:normal;font-family:Menlo,'DejaVu Sans Mono',consolas,'Courier New',monospace\">\n",
       "age_0  workclass_0  workclass_1  workclass_3\n",
       "<span style=\"color: #ff0000; text-decoration-color: #ff0000; font-style: italic\">False</span>  <span style=\"color: #ff0000; text-decoration-color: #ff0000; font-style: italic\">False</span>        <span style=\"color: #ff0000; text-decoration-color: #ff0000; font-style: italic\">False</span>        <span style=\"color: #ff0000; text-decoration-color: #ff0000; font-style: italic\">False</span>          <span style=\"color: #008080; text-decoration-color: #008080; font-weight: bold\">1227</span>\n",
       "                                 <span style=\"color: #00ff00; text-decoration-color: #00ff00; font-style: italic\">True</span>            <span style=\"color: #008080; text-decoration-color: #008080; font-weight: bold\">193</span>\n",
       "                    <span style=\"color: #00ff00; text-decoration-color: #00ff00; font-style: italic\">True</span>         <span style=\"color: #ff0000; text-decoration-color: #ff0000; font-style: italic\">False</span>           <span style=\"color: #008080; text-decoration-color: #008080; font-weight: bold\">483</span>\n",
       "       <span style=\"color: #00ff00; text-decoration-color: #00ff00; font-style: italic\">True</span>         <span style=\"color: #ff0000; text-decoration-color: #ff0000; font-style: italic\">False</span>        <span style=\"color: #ff0000; text-decoration-color: #ff0000; font-style: italic\">False</span>          <span style=\"color: #008080; text-decoration-color: #008080; font-weight: bold\">4563</span>\n",
       "<span style=\"color: #00ff00; text-decoration-color: #00ff00; font-style: italic\">True</span>   <span style=\"color: #ff0000; text-decoration-color: #ff0000; font-style: italic\">False</span>        <span style=\"color: #ff0000; text-decoration-color: #ff0000; font-style: italic\">False</span>        <span style=\"color: #ff0000; text-decoration-color: #ff0000; font-style: italic\">False</span>          <span style=\"color: #008080; text-decoration-color: #008080; font-weight: bold\">1261</span>\n",
       "                                 <span style=\"color: #00ff00; text-decoration-color: #00ff00; font-style: italic\">True</span>            <span style=\"color: #008080; text-decoration-color: #008080; font-weight: bold\">211</span>\n",
       "                    <span style=\"color: #00ff00; text-decoration-color: #00ff00; font-style: italic\">True</span>         <span style=\"color: #ff0000; text-decoration-color: #ff0000; font-style: italic\">False</span>           <span style=\"color: #008080; text-decoration-color: #008080; font-weight: bold\">538</span>\n",
       "       <span style=\"color: #00ff00; text-decoration-color: #00ff00; font-style: italic\">True</span>         <span style=\"color: #ff0000; text-decoration-color: #ff0000; font-style: italic\">False</span>        <span style=\"color: #ff0000; text-decoration-color: #ff0000; font-style: italic\">False</span>          <span style=\"color: #008080; text-decoration-color: #008080; font-weight: bold\">4548</span>\n",
       "dtype: int64\n",
       "</pre>\n"
      ],
      "text/plain": [
       "\n",
       "age_0  workclass_0  workclass_1  workclass_3\n",
       "\u001b[3;91mFalse\u001b[0m  \u001b[3;91mFalse\u001b[0m        \u001b[3;91mFalse\u001b[0m        \u001b[3;91mFalse\u001b[0m          \u001b[1;36m1227\u001b[0m\n",
       "                                 \u001b[3;92mTrue\u001b[0m            \u001b[1;36m193\u001b[0m\n",
       "                    \u001b[3;92mTrue\u001b[0m         \u001b[3;91mFalse\u001b[0m           \u001b[1;36m483\u001b[0m\n",
       "       \u001b[3;92mTrue\u001b[0m         \u001b[3;91mFalse\u001b[0m        \u001b[3;91mFalse\u001b[0m          \u001b[1;36m4563\u001b[0m\n",
       "\u001b[3;92mTrue\u001b[0m   \u001b[3;91mFalse\u001b[0m        \u001b[3;91mFalse\u001b[0m        \u001b[3;91mFalse\u001b[0m          \u001b[1;36m1261\u001b[0m\n",
       "                                 \u001b[3;92mTrue\u001b[0m            \u001b[1;36m211\u001b[0m\n",
       "                    \u001b[3;92mTrue\u001b[0m         \u001b[3;91mFalse\u001b[0m           \u001b[1;36m538\u001b[0m\n",
       "       \u001b[3;92mTrue\u001b[0m         \u001b[3;91mFalse\u001b[0m        \u001b[3;91mFalse\u001b[0m          \u001b[1;36m4548\u001b[0m\n",
       "dtype: int64\n"
      ]
     },
     "metadata": {},
     "output_type": "display_data"
    }
   ],
   "source": [
    "joint_dist = bin.groupby([x] + p).size()\n",
    "joint_dist"
   ]
  },
  {
   "cell_type": "code",
   "execution_count": null,
   "metadata": {},
   "outputs": [
    {
     "data": {
      "text/html": [
       "<pre style=\"white-space:pre;overflow-x:auto;line-height:normal;font-family:Menlo,'DejaVu Sans Mono',consolas,'Courier New',monospace\">\n",
       "<span style=\"font-weight: bold\">&lt;</span><span style=\"color: #ff00ff; text-decoration-color: #ff00ff; font-weight: bold\">PandasArray</span><span style=\"font-weight: bold\">&gt;</span>\n",
       "<span style=\"font-weight: bold\">[</span><span style=\"color: #008080; text-decoration-color: #008080; font-weight: bold\">1227</span>, <span style=\"color: #008080; text-decoration-color: #008080; font-weight: bold\">483</span>, <span style=\"color: #008080; text-decoration-color: #008080; font-weight: bold\">4563</span>, <span style=\"color: #008080; text-decoration-color: #008080; font-weight: bold\">1261</span>, <span style=\"color: #008080; text-decoration-color: #008080; font-weight: bold\">538</span>, <span style=\"color: #008080; text-decoration-color: #008080; font-weight: bold\">4548</span><span style=\"font-weight: bold\">]</span>\n",
       "Length: <span style=\"color: #008080; text-decoration-color: #008080; font-weight: bold\">6</span>, dtype: int64\n",
       "</pre>\n"
      ],
      "text/plain": [
       "\n",
       "\u001b[1m<\u001b[0m\u001b[1;95mPandasArray\u001b[0m\u001b[1m>\u001b[0m\n",
       "\u001b[1m[\u001b[0m\u001b[1;36m1227\u001b[0m, \u001b[1;36m483\u001b[0m, \u001b[1;36m4563\u001b[0m, \u001b[1;36m1261\u001b[0m, \u001b[1;36m538\u001b[0m, \u001b[1;36m4548\u001b[0m\u001b[1m]\u001b[0m\n",
       "Length: \u001b[1;36m6\u001b[0m, dtype: int64\n"
      ]
     },
     "metadata": {},
     "output_type": "display_data"
    }
   ],
   "source": [
    "joint_dist.xs(False, level=\"workclass_3\").array"
   ]
  },
  {
   "cell_type": "code",
   "execution_count": null,
   "metadata": {},
   "outputs": [],
   "source": []
  }
 ],
 "metadata": {
  "language_info": {
   "codemirror_mode": {
    "name": "ipython",
    "version": 3
   },
   "file_extension": ".py",
   "mimetype": "text/x-python",
   "name": "python",
   "nbconvert_exporter": "python",
   "pygments_lexer": "ipython3",
   "version": "3.10.5"
  },
  "vscode": {
   "interpreter": {
    "hash": "50661068d2d5c6ff1ce24ae701dfa73cc4ae117a223c3f7199e1fdb4656c8912"
   }
  }
 },
 "nbformat": 4,
 "nbformat_minor": 2
}
