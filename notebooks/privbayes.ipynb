{
 "cells": [
  {
   "cell_type": "code",
   "execution_count": null,
   "metadata": {},
   "outputs": [],
   "source": [
    "from pasteur.kedro.ipython import *\n",
    "register_kedro()"
   ]
  },
  {
   "cell_type": "code",
   "execution_count": null,
   "metadata": {},
   "outputs": [],
   "source": [
    "%load_ext autoreload\n",
    "%autoreload 2"
   ]
  },
  {
   "cell_type": "code",
   "execution_count": null,
   "metadata": {},
   "outputs": [],
   "source": [
    "import pandas as pd\n",
    "import numpy as np"
   ]
  },
  {
   "cell_type": "code",
   "execution_count": null,
   "metadata": {},
   "outputs": [],
   "source": [
    "from pasteur.metadata import Metadata\n",
    "from pasteur.transform import TableTransformer\n",
    "\n",
    "view = \"mimic_tab_admissions\"\n",
    "trn: TableTransformer = catalog.load(f\"{view}.trn.table\")\n",
    "table: pd.DataFrame = catalog.load(f\"{view}.wrk.idx_table\")"
   ]
  },
  {
   "cell_type": "code",
   "execution_count": null,
   "metadata": {},
   "outputs": [],
   "source": [
    "# sensitive\n",
    "table.head()"
   ]
  },
  {
   "cell_type": "code",
   "execution_count": null,
   "metadata": {},
   "outputs": [],
   "source": [
    "attrs = trn[\"idx\"].get_attributes()"
   ]
  },
  {
   "cell_type": "code",
   "execution_count": null,
   "metadata": {},
   "outputs": [
    {
     "name": "stdout",
     "output_type": "stream",
     "text": [
      "Attr\u001b[1m[\u001b[0m\u001b[33mna\u001b[0m=\u001b[1;36m1\u001b[0m,\u001b[33mukn\u001b[0m=\u001b[1;36m0\u001b[0m\u001b[1m]\u001b[0m\u001b[1m{\u001b[0m\u001b[32m'dod_year'\u001b[0m: Idx\u001b[1m{\u001b[0m\u001b[32m'None'\u001b[0m, \u001b[1m[\u001b[0m\u001b[32m'0.3984375'\u001b[0m, \u001b[32m'1.1953125'\u001b[0m, \u001b[32m'1.9921875'\u001b[0m, \u001b[32m'2.7890625'\u001b[0m, \u001b[32m'3.5859375'\u001b[0m, \u001b[32m'4.3828125'\u001b[0m, \u001b[32m'5.1796875'\u001b[0m, \u001b[32m'5.9765625'\u001b[0m, \u001b[32m'6.7734375'\u001b[0m, \u001b[32m'7.5703125'\u001b[0m, \u001b[32m'8.3671875'\u001b[0m, \u001b[32m'9.1640625'\u001b[0m, \u001b[32m'9.9609375'\u001b[0m, \u001b[32m'10.7578125'\u001b[0m, \u001b[32m'11.5546875'\u001b[0m, \u001b[32m'12.3515625'\u001b[0m, \u001b[32m'13.1484375'\u001b[0m, \u001b[32m'13.9453125'\u001b[0m, \u001b[32m'14.7421875'\u001b[0m, \u001b[32m'15.5390625'\u001b[0m, \u001b[32m'16.335938'\u001b[0m, \u001b[32m'17.132812'\u001b[0m, \u001b[32m'17.929688'\u001b[0m, \u001b[32m'18.726562'\u001b[0m, \u001b[32m'19.523438'\u001b[0m, \u001b[32m'20.320312'\u001b[0m, \u001b[32m'21.117188'\u001b[0m, \u001b[32m'21.914062'\u001b[0m, \u001b[32m'22.710938'\u001b[0m, \u001b[32m'23.507812'\u001b[0m, \u001b[32m'24.304688'\u001b[0m, \u001b[32m'25.101562'\u001b[0m, \u001b[32m'25.898438'\u001b[0m, \u001b[32m'26.695312'\u001b[0m, \u001b[32m'27.492188'\u001b[0m, \u001b[32m'28.289062'\u001b[0m, \u001b[32m'29.085938'\u001b[0m, \u001b[32m'29.882812'\u001b[0m, \u001b[32m'30.679688'\u001b[0m, \u001b[32m'31.476562'\u001b[0m, \u001b[32m'32.273438'\u001b[0m, \u001b[32m'33.070312'\u001b[0m, \u001b[32m'33.867188'\u001b[0m, \u001b[32m'34.664062'\u001b[0m, \u001b[32m'35.460938'\u001b[0m, \u001b[32m'36.257812'\u001b[0m, \u001b[32m'37.054688'\u001b[0m, \u001b[32m'37.851562'\u001b[0m, \u001b[32m'38.648438'\u001b[0m, \u001b[32m'39.445312'\u001b[0m, \u001b[32m'40.242188'\u001b[0m, \u001b[32m'41.039062'\u001b[0m, \u001b[32m'41.835938'\u001b[0m, \u001b[32m'42.632812'\u001b[0m, \u001b[32m'43.429688'\u001b[0m, \u001b[32m'44.226562'\u001b[0m, \u001b[32m'45.023438'\u001b[0m, \u001b[32m'45.820312'\u001b[0m, \u001b[32m'46.617188'\u001b[0m, \u001b[32m'47.414062'\u001b[0m, \u001b[32m'48.210938'\u001b[0m, \u001b[32m'49.007812'\u001b[0m, \u001b[32m'49.804688'\u001b[0m, \u001b[32m'50.601562'\u001b[0m, \u001b[32m'51.398438'\u001b[0m, \u001b[32m'52.195312'\u001b[0m, \u001b[32m'52.992188'\u001b[0m, \u001b[32m'53.789062'\u001b[0m, \u001b[32m'54.585938'\u001b[0m, \u001b[32m'55.382812'\u001b[0m, \u001b[32m'56.179688'\u001b[0m, \u001b[32m'56.976562'\u001b[0m, \u001b[32m'57.773438'\u001b[0m, \u001b[32m'58.570312'\u001b[0m, \u001b[32m'59.367188'\u001b[0m, \u001b[32m'60.164062'\u001b[0m, \u001b[32m'60.960938'\u001b[0m, \u001b[32m'61.757812'\u001b[0m, \u001b[32m'62.554688'\u001b[0m, \u001b[32m'63.351562'\u001b[0m, \u001b[32m'64.14844'\u001b[0m, \u001b[32m'64.94531'\u001b[0m, \u001b[32m'65.74219'\u001b[0m, \u001b[32m'66.53906'\u001b[0m, \u001b[32m'67.33594'\u001b[0m, \u001b[32m'68.13281'\u001b[0m, \u001b[32m'68.92969'\u001b[0m, \u001b[32m'69.72656'\u001b[0m, \u001b[32m'70.52344'\u001b[0m, \u001b[32m'71.32031'\u001b[0m, \u001b[32m'72.11719'\u001b[0m, \u001b[32m'72.91406'\u001b[0m, \u001b[32m'73.71094'\u001b[0m, \u001b[32m'74.50781'\u001b[0m, \u001b[32m'75.30469'\u001b[0m, \u001b[32m'76.10156'\u001b[0m, \u001b[32m'76.89844'\u001b[0m, \u001b[32m'77.69531'\u001b[0m, \u001b[32m'78.49219'\u001b[0m, \u001b[32m'79.28906'\u001b[0m, \u001b[32m'80.08594'\u001b[0m, \u001b[32m'80.88281'\u001b[0m, \u001b[32m'81.67969'\u001b[0m, \u001b[32m'82.47656'\u001b[0m, \u001b[32m'83.27344'\u001b[0m, \u001b[32m'84.07031'\u001b[0m, \u001b[32m'84.86719'\u001b[0m, \u001b[32m'85.66406'\u001b[0m, \u001b[32m'86.46094'\u001b[0m, \u001b[32m'87.25781'\u001b[0m, \u001b[32m'88.05469'\u001b[0m, \u001b[32m'88.85156'\u001b[0m, \u001b[32m'89.64844'\u001b[0m, \u001b[32m'90.44531'\u001b[0m, \u001b[32m'91.24219'\u001b[0m, \u001b[32m'92.03906'\u001b[0m, \u001b[32m'92.83594'\u001b[0m, \u001b[32m'93.63281'\u001b[0m, \u001b[32m'94.42969'\u001b[0m, \u001b[32m'95.22656'\u001b[0m, \u001b[32m'96.02344'\u001b[0m, \u001b[32m'96.82031'\u001b[0m, \u001b[32m'97.61719'\u001b[0m, \u001b[32m'98.41406'\u001b[0m, \u001b[32m'99.21094'\u001b[0m, \u001b[32m'100.00781'\u001b[0m, \u001b[32m'100.80469'\u001b[0m, \u001b[32m'101.60156'\u001b[0m\u001b[1m]\u001b[0m\u001b[1m}\u001b[0m, \u001b[32m'dod_week'\u001b[0m: Idx\u001b[1m{\u001b[0m\u001b[32m'None'\u001b[0m, \u001b[1m[\u001b[0m\u001b[32m'0'\u001b[0m, \u001b[32m'1'\u001b[0m, \u001b[32m'2'\u001b[0m, \u001b[32m'3'\u001b[0m, \u001b[32m'4'\u001b[0m, \u001b[32m'5'\u001b[0m, \u001b[32m'6'\u001b[0m, \u001b[32m'7'\u001b[0m, \u001b[32m'8'\u001b[0m, \u001b[32m'9'\u001b[0m, \u001b[32m'10'\u001b[0m, \u001b[32m'11'\u001b[0m, \u001b[32m'12'\u001b[0m, \u001b[32m'13'\u001b[0m, \u001b[32m'14'\u001b[0m, \u001b[32m'15'\u001b[0m, \u001b[32m'16'\u001b[0m, \u001b[32m'17'\u001b[0m, \u001b[32m'18'\u001b[0m, \u001b[32m'19'\u001b[0m, \u001b[32m'20'\u001b[0m, \u001b[32m'21'\u001b[0m, \u001b[32m'22'\u001b[0m, \u001b[32m'23'\u001b[0m, \u001b[32m'24'\u001b[0m, \u001b[32m'25'\u001b[0m, \u001b[32m'26'\u001b[0m, \u001b[32m'27'\u001b[0m, \u001b[32m'28'\u001b[0m, \u001b[32m'29'\u001b[0m, \u001b[32m'30'\u001b[0m, \u001b[32m'31'\u001b[0m, \u001b[32m'32'\u001b[0m, \u001b[32m'33'\u001b[0m, \u001b[32m'34'\u001b[0m, \u001b[32m'35'\u001b[0m, \u001b[32m'36'\u001b[0m, \u001b[32m'37'\u001b[0m, \u001b[32m'38'\u001b[0m, \u001b[32m'39'\u001b[0m, \u001b[32m'40'\u001b[0m, \u001b[32m'41'\u001b[0m, \u001b[32m'42'\u001b[0m, \u001b[32m'43'\u001b[0m, \u001b[32m'44'\u001b[0m, \u001b[32m'45'\u001b[0m, \u001b[32m'46'\u001b[0m, \u001b[32m'47'\u001b[0m, \u001b[32m'48'\u001b[0m, \u001b[32m'49'\u001b[0m, \u001b[32m'50'\u001b[0m, \u001b[32m'51'\u001b[0m\u001b[1m]\u001b[0m\u001b[1m}\u001b[0m, \u001b[32m'dod_day'\u001b[0m: Idx\u001b[1m{\u001b[0m\u001b[32m'None'\u001b[0m, \u001b[1m[\u001b[0m\u001b[32m'Monday'\u001b[0m, \u001b[32m'Tuesday'\u001b[0m, \u001b[32m'Wednesday'\u001b[0m, \u001b[32m'Thursday'\u001b[0m, \u001b[32m'Friday'\u001b[0m, \u001b[32m'Saturday'\u001b[0m, \u001b[32m'Sunday'\u001b[0m\u001b[1m]\u001b[0m\u001b[1m}\u001b[0m\u001b[1m}\u001b[0m\n"
     ]
    }
   ],
   "source": [
    "attrs[\"dod\"]"
   ]
  },
  {
   "cell_type": "code",
   "execution_count": null,
   "metadata": {},
   "outputs": [],
   "source": []
  }
 ],
 "metadata": {
  "language_info": {
   "codemirror_mode": {
    "name": "ipython",
    "version": 3
   },
   "file_extension": ".py",
   "mimetype": "text/x-python",
   "name": "python",
   "nbconvert_exporter": "python",
   "pygments_lexer": "ipython3",
   "version": "3.10.6"
  },
  "vscode": {
   "interpreter": {
    "hash": "50661068d2d5c6ff1ce24ae701dfa73cc4ae117a223c3f7199e1fdb4656c8912"
   }
  }
 },
 "nbformat": 4,
 "nbformat_minor": 2
}
