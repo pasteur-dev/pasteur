{
 "cells": [
  {
   "cell_type": "code",
   "execution_count": null,
   "metadata": {},
   "outputs": [],
   "source": [
    "from pasteur.kedro.ipython import *\n",
    "register_kedro()"
   ]
  },
  {
   "cell_type": "code",
   "execution_count": null,
   "metadata": {},
   "outputs": [],
   "source": [
    "# sensitive\n",
    "%pipe mimic_tab_admissions.ingest"
   ]
  },
  {
   "cell_type": "code",
   "execution_count": null,
   "metadata": {},
   "outputs": [],
   "source": [
    "%load_ext autoreload\n",
    "%autoreload 2"
   ]
  },
  {
   "cell_type": "code",
   "execution_count": null,
   "metadata": {},
   "outputs": [],
   "source": [
    "import pandas as pd\n",
    "import numpy as np"
   ]
  },
  {
   "cell_type": "code",
   "execution_count": null,
   "metadata": {},
   "outputs": [],
   "source": [
    "from pasteur.metadata import Metadata\n",
    "from pasteur.transform import TableTransformer, Attributes, get_type\n",
    "\n",
    "view = \"mimic_tab_admissions\"\n",
    "trn: TableTransformer = catalog.load(f\"{view}.trn.table\")\n",
    "table: pd.DataFrame = catalog.load(f\"{view}.wrk.idx_table\")"
   ]
  },
  {
   "cell_type": "code",
   "execution_count": null,
   "metadata": {},
   "outputs": [],
   "source": [
    "# sensitive\n",
    "table.head()"
   ]
  },
  {
   "cell_type": "code",
   "execution_count": null,
   "metadata": {},
   "outputs": [],
   "source": [
    "attrs = trn[\"idx\"].get_attributes()"
   ]
  },
  {
   "cell_type": "code",
   "execution_count": null,
   "metadata": {},
   "outputs": [],
   "source": [
    "def expand_table(attrs: Attributes, table: pd.DataFrame):\n",
    "    cols = {}\n",
    "    cols_noncommon = {}\n",
    "    domains = {}\n",
    "    for attr in attrs.values():\n",
    "        for name, col in attr.cols.items():\n",
    "            col_hier = []\n",
    "            col_noncommon = []\n",
    "            col_dom = []\n",
    "\n",
    "            lvl = col.lvl\n",
    "            for height in range(lvl.height):\n",
    "                domain = lvl.get_domain(height)\n",
    "                col_dom.append(domain)\n",
    "                \n",
    "                col_lvl = lvl.get_mapping(height)[table[name]]\n",
    "                col_lvl = col_lvl.astype(get_type(domain))\n",
    "                col_hier.append(col_lvl)\n",
    "\n",
    "                if attr.common > 0:\n",
    "                    nc = np.where(col_lvl > attr.common, col_lvl - attr.common, 0)\n",
    "                    col_noncommon.append(nc)\n",
    "\n",
    "            domains[name] = col_dom\n",
    "            cols[name] = col_hier\n",
    "            cols_noncommon[name] = col_noncommon\n",
    "    \n",
    "    return cols, cols_noncommon, domains\n",
    "\n",
    "cols, cols_noncommon, domains = expand_table(attrs, table)"
   ]
  },
  {
   "cell_type": "code",
   "execution_count": null,
   "metadata": {},
   "outputs": [
    {
     "name": "stdout",
     "output_type": "stream",
     "text": [
      "1.32 ms ± 2.62 µs per loop (mean ± std. dev. of 7 runs, 1000 loops each)\n"
     ]
    }
   ],
   "source": [
    "from functools import reduce\n",
    "from itertools import chain\n",
    "from typing import NamedTuple\n",
    "\n",
    "class AttrSelector(NamedTuple):\n",
    "    common: int\n",
    "    cols: dict[str, int]\n",
    "\n",
    "AttrSelectors = list[AttrSelector]\n",
    "\n",
    "def calc_marginal(\n",
    "    cols: dict[str, list[np.ndarray]],\n",
    "    cols_noncommon: dict[str, list[np.ndarray]],\n",
    "    domains: dict[str, list[int]],\n",
    "    x: AttrSelector,\n",
    "    p: AttrSelectors,\n",
    "    zero_fill: float | None = None,\n",
    "):\n",
    "    \"\"\"Calculates the 1 way and 2 way marginals between the subsection of the \n",
    "    hierarchical attribute x and the attributes p(arents).\"\"\"\n",
    "    xp = [x] + p\n",
    "    \n",
    "    # Find integer dtype based on domain\n",
    "    p_dom = 1\n",
    "    for attr in p:\n",
    "        for i, (n, h) in enumerate(attr.cols.items()):\n",
    "            p_dom *= domains[n][h] - (attr.common if i > 0 else 0)\n",
    "    x_dom = 1\n",
    "    for i, (n, h) in enumerate(x.cols.items()):\n",
    "        x_dom *= domains[n][h] - (attr.common if i > 0 else 0)\n",
    "\n",
    "    dtype = get_type(p_dom*x_dom)\n",
    "\n",
    "    n = len(next(iter(cols.values()))[0])\n",
    "    _sum_nd = np.zeros((n,), dtype=dtype)\n",
    "    _tmp_nd = np.zeros((n,), dtype=dtype)\n",
    "\n",
    "    mul = 1 \n",
    "    for attr in reversed(xp):\n",
    "        for i, (n, h) in enumerate(attr.cols.items()):\n",
    "            common = attr.common\n",
    "            if i == 0 or common == 0:\n",
    "                np.multiply(cols[n][h], mul, out=_tmp_nd)\n",
    "            else:\n",
    "                np.multiply(cols_noncommon[n][h], mul, out=_tmp_nd)\n",
    "            \n",
    "            np.add(_sum_nd, _tmp_nd, out=_sum_nd)\n",
    "            mul *= domains[n][h] - (common if i > 0 else 0)\n",
    "\n",
    "    counts = np.bincount(_sum_nd, minlength=p_dom*x_dom)\n",
    "    margin = counts.reshape(x_dom, p_dom).astype(\"float32\")\n",
    "\n",
    "    margin /= margin.sum()\n",
    "    if zero_fill is not None:\n",
    "        # Mutual info turns into NaN without this\n",
    "        margin += zero_fill\n",
    "\n",
    "    j_mar = margin\n",
    "    x_mar = np.sum(margin, axis=1)\n",
    "    p_mar = np.sum(margin, axis=0)\n",
    "\n",
    "    return j_mar, x_mar, p_mar\n",
    "\n",
    "x = AttrSelector(1, {\"ethnicity\": 0})\n",
    "p = [\n",
    "    AttrSelector(1, {\"hospital_expire_flag\": 0}),\n",
    "    AttrSelector(1, {\"language\": 0}),\n",
    "    AttrSelector(1, {\"insurance\": 0}),\n",
    "    AttrSelector(0, {\"admission_type\": 0})\n",
    "]\n",
    "%timeit calc_marginal(cols, cols_noncommon, domains, x, p)"
   ]
  },
  {
   "cell_type": "code",
   "execution_count": null,
   "metadata": {},
   "outputs": [
    {
     "name": "stdout",
     "output_type": "stream",
     "text": [
      "29.3 ms ± 42.4 µs per loop (mean ± std. dev. of 7 runs, 10 loops each)\n"
     ]
    }
   ],
   "source": [
    "scols = []\n",
    "sdoms = []\n",
    "for attr in [x] + p:\n",
    "    for n, h in attr.cols.items():\n",
    "        scols.append(cols[n][h])\n",
    "        sdoms.append(domains[n][h])\n",
    "\n",
    "scols = np.stack(scols).T\n",
    "%timeit np.histogramdd(scols, bins=sdoms)"
   ]
  },
  {
   "cell_type": "code",
   "execution_count": null,
   "metadata": {},
   "outputs": [],
   "source": []
  }
 ],
 "metadata": {
  "language_info": {
   "codemirror_mode": {
    "name": "ipython",
    "version": 3
   },
   "file_extension": ".py",
   "mimetype": "text/x-python",
   "name": "python",
   "nbconvert_exporter": "python",
   "pygments_lexer": "ipython3",
   "version": "3.10.6"
  },
  "vscode": {
   "interpreter": {
    "hash": "50661068d2d5c6ff1ce24ae701dfa73cc4ae117a223c3f7199e1fdb4656c8912"
   }
  }
 },
 "nbformat": 4,
 "nbformat_minor": 2
}
