{
 "cells": [
  {
   "cell_type": "code",
   "execution_count": null,
   "metadata": {},
   "outputs": [],
   "source": [
    "# Removes lint errors from VS Code\n",
    "from typing import Dict, TYPE_CHECKING, Tuple, List\n",
    "\n",
    "if TYPE_CHECKING:\n",
    "    import kedro\n",
    "\n",
    "    catalog: kedro.io.data_catalog.DataCatalog\n",
    "    session: kedro.framework.session.session.KedroSession\n",
    "    pipelines: Dict[str, kedro.pipeline.pipeline.Pipeline]\n"
   ]
  },
  {
   "cell_type": "code",
   "execution_count": null,
   "metadata": {},
   "outputs": [],
   "source": [
    "import os\n",
    "\n",
    "VIEW = os.getenv(\"DATASET_VIEW\") or \"tab_adult\"\n",
    "TABLE = os.getenv(\"DATASET_TABLE\") or \"table\"\n",
    "MULTI_PROCESS = (\n",
    "    os.getenv(\"MULTI_PROCESS\") if os.getenv(\"MULTI_PROCESS\") is not None else True\n",
    ")\n",
    "\n",
    "import numpy as np\n",
    "import pandas as pd\n",
    "from importlib import reload\n",
    "\n",
    "from pasteur.transform import TableTransformer\n",
    "\n",
    "bhr: pd.DataFrame = catalog.load(f\"{VIEW}.wrk.bhr_{TABLE}\")\n",
    "trn: TableTransformer = catalog.load(f\"{VIEW}.wrk.trn_{TABLE}\")\n",
    "random_state = catalog.load(\"params:random_state\")\n"
   ]
  },
  {
   "cell_type": "code",
   "execution_count": null,
   "metadata": {},
   "outputs": [],
   "source": [
    "# %load_ext line_profiler\n",
    "# %lprun -f calc_mutual_info calc_mutual_info(data, domain, x, p)\n",
    "\n",
    "attr_str = trn.get_attributes(\"bhr\", bhr)\n",
    "cols = list(bhr.columns)\n",
    "\n",
    "attr = []\n",
    "for a_cols in attr_str.values():\n",
    "    attr.append([cols.index(col) for col in a_cols])\n",
    "\n",
    "data = bhr.to_numpy(dtype=\"int16\")\n",
    "domain = data.max(axis=0) + 1"
   ]
  },
  {
   "cell_type": "code",
   "execution_count": null,
   "metadata": {},
   "outputs": [],
   "source": [
    "def sens_mutual_info(n: float):\n",
    "    \"\"\"Provides the the log2 sensitivity of the mutual information function for a given\n",
    "    dataset size (n).\"\"\"\n",
    "    return 2 / n * np.log2((n + 1) / 2) + (n - 1) / n * np.log2((n + 1) / (n - 1))\n",
    "\n",
    "\n",
    "def calc_mutual_info(data: np.ndarray, domain: np.ndarray, x: list[int], p: list[int]):\n",
    "    \"\"\"Calculates mutual information I(X,P) for the provided data using log2.\"\"\"\n",
    "    sub_data = data[:, x + p]\n",
    "    sub_domain = domain[x + p]\n",
    "    margin, _ = np.histogramdd(sub_data, sub_domain)\n",
    "    margin /= margin.sum()\n",
    "    margin += 1e-24\n",
    "\n",
    "    x_idx = tuple(range(len(x)))\n",
    "    p_idx = tuple(range(-len(p), 0))\n",
    "\n",
    "    x_mar = np.sum(margin, axis=p_idx).reshape(-1)\n",
    "    p_mar = np.sum(margin, axis=x_idx).reshape(-1)\n",
    "    j_mar = margin.reshape((len(x_mar), len(p_mar)))\n",
    "\n",
    "    # margin.reshape((len(x_mar), len(p_mar)))\n",
    "    # margin.shape|\n",
    "    return np.sum(j_mar * np.log2(j_mar / np.outer(x_mar, p_mar)))\n",
    "\n",
    "\n",
    "x = [11, 12, 13, 14]\n",
    "p = [22, 23, 24, 25]\n",
    "# %lprun -f calc_mutual_info calc_mutual_info(data, domain, x, p)\n",
    "# %timeit calc_mutual_info(data, domain, x, p)\n",
    "# calc_mutual_info(data, domain, x, p)\n"
   ]
  },
  {
   "cell_type": "code",
   "execution_count": null,
   "metadata": {},
   "outputs": [
    {
     "data": {
      "text/html": [
       "<pre style=\"white-space:pre;overflow-x:auto;line-height:normal;font-family:Menlo,'DejaVu Sans Mono',consolas,'Courier New',monospace\"><span style=\"color: #008080; text-decoration-color: #008080; font-weight: bold\">55044</span>\n",
       "</pre>\n"
      ],
      "text/plain": [
       "\u001b[1;36m55044\u001b[0m\n"
      ]
     },
     "metadata": {},
     "output_type": "display_data"
    }
   ],
   "source": [
    "from functools import reduce\n",
    "\n",
    "n = len(data)\n",
    "d = len(attr)\n",
    "e1 = 0.3\n",
    "e2 = 0.7\n",
    "\n",
    "# Returns the height of a hierarchical attribute\n",
    "height = lambda a: len(attr[a])\n",
    "# Returns the domain of a hierarchical attribute at height h (h=0 is max)\n",
    "dom = lambda a, h: reduce(lambda k, l: k * l, [domain[c] for c in attr[a][:height(a) - h]], 1)\n",
    "# Picks an item from a set, sets are ordered by default now so it's deterministic\n",
    "pick_from = lambda V: next(iter(V))\n",
    "\n",
    "# Sets are tuples that contain the height of each attribute in them, or -1\n",
    "# if the attribute is not in them\n",
    "# create_pset = lambda a, h: tuple(h if i == a else -1 for i in range(len(attr)))\n",
    "add_to_pset = lambda z, a, h: tuple(h if i == a else c for i, c in enumerate(z))\n",
    "empty_pset = tuple(-1 for _ in range(len(attr)))\n",
    "\n",
    "def maximal_parent_sets(V: set[int], t: float) -> list[tuple[int, int]]:\n",
    "    if t < 1:\n",
    "        return set()\n",
    "    if not V:\n",
    "        return set([empty_pset])\n",
    "\n",
    "    S = set()\n",
    "    U = set()\n",
    "    x = pick_from(V)\n",
    "    for h in range(height(x)):\n",
    "        for z in maximal_parent_sets(V - {x}, t / dom(x, h)):\n",
    "            if z in U:\n",
    "                continue\n",
    "            \n",
    "            U.add(z)\n",
    "            S.add(add_to_pset(z, x, h))\n",
    "    \n",
    "    for z in maximal_parent_sets(V - {x}, t):\n",
    "        if z not in U:\n",
    "            S.add(z)\n",
    "    \n",
    "    return S\n",
    "\n",
    "ex_psets = maximal_parent_sets({a for a in range(len(attr))}, 10000)\n",
    "len(ex_psets)"
   ]
  },
  {
   "cell_type": "code",
   "execution_count": null,
   "metadata": {},
   "outputs": [],
   "source": [
    "def greedy_bayes(theta, cb: callable=pick_from):\n",
    "    A = {a for a in range(len(attr))}\n",
    "    x1 = pick_from(A)\n",
    "    t = (n * e2) / (2 * d * theta)\n",
    "\n",
    "    V = {x1}\n",
    "    N = {(x1, empty_pset)}\n",
    "\n",
    "    for i in range(1, d):\n",
    "        O = set()\n",
    "        for x in A - V:\n",
    "            psets = maximal_parent_sets(V, t / dom(x, 0))\n",
    "            for pset in psets:\n",
    "                O.add((x, pset))\n",
    "            if not psets:\n",
    "                O.add((x, empty_pset))\n",
    "\n",
    "        print(f\"{i:2d}: Calculating {len(O):5d} marginals.\")\n",
    "        node = pick_from(O) # FIXME\n",
    "        V.add(node[0])\n",
    "        N.add(node)\n",
    "    \n",
    "    return N\n",
    "\n",
    "# greedy_bayes(0.01)"
   ]
  },
  {
   "cell_type": "code",
   "execution_count": null,
   "metadata": {},
   "outputs": [],
   "source": [
    "%load_ext line_profiler"
   ]
  },
  {
   "cell_type": "code",
   "execution_count": null,
   "metadata": {},
   "outputs": [],
   "source": [
    "def calc_candidate_scores(candidates: list[tuple[int, tuple[int]]], delta_fun: callable):\n",
    "    candidate_scores = []\n",
    "    for candidate in candidates:\n",
    "        x, pset = candidate\n",
    "\n",
    "        x_cols = attr[x]\n",
    "        p_cols = []\n",
    "        for p, h in enumerate(pset):\n",
    "            if h == -1:\n",
    "                continue\n",
    "\n",
    "            p_cols.extend(attr[p][:height(p) - h])\n",
    "        \n",
    "        score = delta_fun(data, domain, x_cols, p_cols)\n",
    "        candidate_scores.append(score)\n",
    "\n",
    "    return candidate_scores\n",
    "        \n",
    "# %lprun -f calc_candidate_scores calc_candidate_scores([(0, add_to_pset(empty_pset, 1, 0)), (2, add_to_pset(empty_pset, 1, 0))])"
   ]
  },
  {
   "cell_type": "code",
   "execution_count": null,
   "metadata": {},
   "outputs": [],
   "source": [
    "def exponential_pick_closure(score_fun: callable, delta_fun: callable):\n",
    "    def pick_candidate(candidates: set[tuple[int, tuple[int]]]):\n",
    "        candidates = list(candidates)\n",
    "        vals = np.array(calc_candidate_scores(candidates, score_fun))\n",
    "        delta = (d - 1)*delta_fun(n)/e1\n",
    "        \n",
    "        p = np.exp(vals / delta)\n",
    "        p /= p.sum()\n",
    "\n",
    "        choice = np.random.choice(len(candidates), size=1, p=p)[0]\n",
    "        \n",
    "        return candidates[choice]\n",
    "        \n",
    "    return pick_candidate\n",
    "# np.random.seed(0)\n",
    "# exponential_pick_candidate({(0, add_to_pset(empty_pset, 1, 0)), (2, add_to_pset(empty_pset, 1, 0))})"
   ]
  },
  {
   "cell_type": "code",
   "execution_count": null,
   "metadata": {},
   "outputs": [
    {
     "name": "stdout",
     "output_type": "stream",
     "text": [
      " 1: Calculating    13 marginals.\n",
      " 2: Calculating    55 marginals.\n",
      " 3: Calculating    79 marginals.\n",
      " 4: Calculating   101 marginals.\n",
      " 5: Calculating   100 marginals.\n",
      " 6: Calculating   102 marginals.\n",
      " 7: Calculating   113 marginals.\n",
      " 8: Calculating   101 marginals.\n",
      " 9: Calculating    75 marginals.\n",
      "10: Calculating    32 marginals.\n",
      "11: Calculating    36 marginals.\n",
      "12: Calculating    34 marginals.\n",
      "13: Calculating    23 marginals.\n"
     ]
    },
    {
     "data": {
      "text/html": [
       "<pre style=\"white-space:pre;overflow-x:auto;line-height:normal;font-family:Menlo,'DejaVu Sans Mono',consolas,'Courier New',monospace\">\n",
       "<span style=\"font-weight: bold\">{</span>\n",
       "    <span style=\"font-weight: bold\">(</span><span style=\"color: #008080; text-decoration-color: #008080; font-weight: bold\">9</span>, <span style=\"font-weight: bold\">(</span><span style=\"color: #008080; text-decoration-color: #008080; font-weight: bold\">1</span>, <span style=\"color: #008080; text-decoration-color: #008080; font-weight: bold\">-1</span>, <span style=\"color: #008080; text-decoration-color: #008080; font-weight: bold\">-1</span>, <span style=\"color: #008080; text-decoration-color: #008080; font-weight: bold\">4</span>, <span style=\"color: #008080; text-decoration-color: #008080; font-weight: bold\">-1</span>, <span style=\"color: #008080; text-decoration-color: #008080; font-weight: bold\">-1</span>, <span style=\"color: #008080; text-decoration-color: #008080; font-weight: bold\">-1</span>, <span style=\"color: #008080; text-decoration-color: #008080; font-weight: bold\">-1</span>, <span style=\"color: #008080; text-decoration-color: #008080; font-weight: bold\">-1</span>, <span style=\"color: #008080; text-decoration-color: #008080; font-weight: bold\">-1</span>, <span style=\"color: #008080; text-decoration-color: #008080; font-weight: bold\">-1</span>, <span style=\"color: #008080; text-decoration-color: #008080; font-weight: bold\">-1</span>, <span style=\"color: #008080; text-decoration-color: #008080; font-weight: bold\">-1</span>, <span style=\"color: #008080; text-decoration-color: #008080; font-weight: bold\">-1</span><span style=\"font-weight: bold\">))</span>,\n",
       "    <span style=\"font-weight: bold\">(</span><span style=\"color: #008080; text-decoration-color: #008080; font-weight: bold\">6</span>, <span style=\"font-weight: bold\">(</span><span style=\"color: #008080; text-decoration-color: #008080; font-weight: bold\">4</span>, <span style=\"color: #008080; text-decoration-color: #008080; font-weight: bold\">-1</span>, <span style=\"color: #008080; text-decoration-color: #008080; font-weight: bold\">-1</span>, <span style=\"color: #008080; text-decoration-color: #008080; font-weight: bold\">-1</span>, <span style=\"color: #008080; text-decoration-color: #008080; font-weight: bold\">-1</span>, <span style=\"color: #008080; text-decoration-color: #008080; font-weight: bold\">-1</span>, <span style=\"color: #008080; text-decoration-color: #008080; font-weight: bold\">-1</span>, <span style=\"color: #008080; text-decoration-color: #008080; font-weight: bold\">-1</span>, <span style=\"color: #008080; text-decoration-color: #008080; font-weight: bold\">-1</span>, <span style=\"color: #008080; text-decoration-color: #008080; font-weight: bold\">-1</span>, <span style=\"color: #008080; text-decoration-color: #008080; font-weight: bold\">-1</span>, <span style=\"color: #008080; text-decoration-color: #008080; font-weight: bold\">-1</span>, <span style=\"color: #008080; text-decoration-color: #008080; font-weight: bold\">-1</span>, <span style=\"color: #008080; text-decoration-color: #008080; font-weight: bold\">0</span><span style=\"font-weight: bold\">))</span>,\n",
       "    <span style=\"font-weight: bold\">(</span><span style=\"color: #008080; text-decoration-color: #008080; font-weight: bold\">8</span>, <span style=\"font-weight: bold\">(</span><span style=\"color: #008080; text-decoration-color: #008080; font-weight: bold\">4</span>, <span style=\"color: #008080; text-decoration-color: #008080; font-weight: bold\">-1</span>, <span style=\"color: #008080; text-decoration-color: #008080; font-weight: bold\">-1</span>, <span style=\"color: #008080; text-decoration-color: #008080; font-weight: bold\">4</span>, <span style=\"color: #008080; text-decoration-color: #008080; font-weight: bold\">-1</span>, <span style=\"color: #008080; text-decoration-color: #008080; font-weight: bold\">-1</span>, <span style=\"color: #008080; text-decoration-color: #008080; font-weight: bold\">-1</span>, <span style=\"color: #008080; text-decoration-color: #008080; font-weight: bold\">-1</span>, <span style=\"color: #008080; text-decoration-color: #008080; font-weight: bold\">-1</span>, <span style=\"color: #008080; text-decoration-color: #008080; font-weight: bold\">0</span>, <span style=\"color: #008080; text-decoration-color: #008080; font-weight: bold\">-1</span>, <span style=\"color: #008080; text-decoration-color: #008080; font-weight: bold\">-1</span>, <span style=\"color: #008080; text-decoration-color: #008080; font-weight: bold\">-1</span>, <span style=\"color: #008080; text-decoration-color: #008080; font-weight: bold\">-1</span><span style=\"font-weight: bold\">))</span>,\n",
       "    <span style=\"font-weight: bold\">(</span><span style=\"color: #008080; text-decoration-color: #008080; font-weight: bold\">10</span>, <span style=\"font-weight: bold\">(</span><span style=\"color: #008080; text-decoration-color: #008080; font-weight: bold\">5</span>, <span style=\"color: #008080; text-decoration-color: #008080; font-weight: bold\">-1</span>, <span style=\"color: #008080; text-decoration-color: #008080; font-weight: bold\">-1</span>, <span style=\"color: #008080; text-decoration-color: #008080; font-weight: bold\">3</span>, <span style=\"color: #008080; text-decoration-color: #008080; font-weight: bold\">-1</span>, <span style=\"color: #008080; text-decoration-color: #008080; font-weight: bold\">-1</span>, <span style=\"color: #008080; text-decoration-color: #008080; font-weight: bold\">-1</span>, <span style=\"color: #008080; text-decoration-color: #008080; font-weight: bold\">-1</span>, <span style=\"color: #008080; text-decoration-color: #008080; font-weight: bold\">-1</span>, <span style=\"color: #008080; text-decoration-color: #008080; font-weight: bold\">-1</span>, <span style=\"color: #008080; text-decoration-color: #008080; font-weight: bold\">-1</span>, <span style=\"color: #008080; text-decoration-color: #008080; font-weight: bold\">-1</span>, <span style=\"color: #008080; text-decoration-color: #008080; font-weight: bold\">-1</span>, <span style=\"color: #008080; text-decoration-color: #008080; font-weight: bold\">-1</span><span style=\"font-weight: bold\">))</span>,\n",
       "    <span style=\"font-weight: bold\">(</span><span style=\"color: #008080; text-decoration-color: #008080; font-weight: bold\">13</span>, <span style=\"font-weight: bold\">(</span><span style=\"color: #008080; text-decoration-color: #008080; font-weight: bold\">5</span>, <span style=\"color: #008080; text-decoration-color: #008080; font-weight: bold\">-1</span>, <span style=\"color: #008080; text-decoration-color: #008080; font-weight: bold\">-1</span>, <span style=\"color: #008080; text-decoration-color: #008080; font-weight: bold\">2</span>, <span style=\"color: #008080; text-decoration-color: #008080; font-weight: bold\">-1</span>, <span style=\"color: #008080; text-decoration-color: #008080; font-weight: bold\">-1</span>, <span style=\"color: #008080; text-decoration-color: #008080; font-weight: bold\">-1</span>, <span style=\"color: #008080; text-decoration-color: #008080; font-weight: bold\">-1</span>, <span style=\"color: #008080; text-decoration-color: #008080; font-weight: bold\">-1</span>, <span style=\"color: #008080; text-decoration-color: #008080; font-weight: bold\">-1</span>, <span style=\"color: #008080; text-decoration-color: #008080; font-weight: bold\">-1</span>, <span style=\"color: #008080; text-decoration-color: #008080; font-weight: bold\">-1</span>, <span style=\"color: #008080; text-decoration-color: #008080; font-weight: bold\">-1</span>, <span style=\"color: #008080; text-decoration-color: #008080; font-weight: bold\">-1</span><span style=\"font-weight: bold\">))</span>,\n",
       "    <span style=\"font-weight: bold\">(</span><span style=\"color: #008080; text-decoration-color: #008080; font-weight: bold\">12</span>, <span style=\"font-weight: bold\">(</span><span style=\"color: #008080; text-decoration-color: #008080; font-weight: bold\">-1</span>, <span style=\"color: #008080; text-decoration-color: #008080; font-weight: bold\">-1</span>, <span style=\"color: #008080; text-decoration-color: #008080; font-weight: bold\">-1</span>, <span style=\"color: #008080; text-decoration-color: #008080; font-weight: bold\">2</span>, <span style=\"color: #008080; text-decoration-color: #008080; font-weight: bold\">-1</span>, <span style=\"color: #008080; text-decoration-color: #008080; font-weight: bold\">-1</span>, <span style=\"color: #008080; text-decoration-color: #008080; font-weight: bold\">-1</span>, <span style=\"color: #008080; text-decoration-color: #008080; font-weight: bold\">0</span>, <span style=\"color: #008080; text-decoration-color: #008080; font-weight: bold\">-1</span>, <span style=\"color: #008080; text-decoration-color: #008080; font-weight: bold\">-1</span>, <span style=\"color: #008080; text-decoration-color: #008080; font-weight: bold\">-1</span>, <span style=\"color: #008080; text-decoration-color: #008080; font-weight: bold\">-1</span>, <span style=\"color: #008080; text-decoration-color: #008080; font-weight: bold\">-1</span>, <span style=\"color: #008080; text-decoration-color: #008080; font-weight: bold\">-1</span><span style=\"font-weight: bold\">))</span>,\n",
       "    <span style=\"font-weight: bold\">(</span><span style=\"color: #008080; text-decoration-color: #008080; font-weight: bold\">3</span>, <span style=\"font-weight: bold\">(</span><span style=\"color: #008080; text-decoration-color: #008080; font-weight: bold\">3</span>, <span style=\"color: #008080; text-decoration-color: #008080; font-weight: bold\">-1</span>, <span style=\"color: #008080; text-decoration-color: #008080; font-weight: bold\">-1</span>, <span style=\"color: #008080; text-decoration-color: #008080; font-weight: bold\">-1</span>, <span style=\"color: #008080; text-decoration-color: #008080; font-weight: bold\">-1</span>, <span style=\"color: #008080; text-decoration-color: #008080; font-weight: bold\">-1</span>, <span style=\"color: #008080; text-decoration-color: #008080; font-weight: bold\">-1</span>, <span style=\"color: #008080; text-decoration-color: #008080; font-weight: bold\">-1</span>, <span style=\"color: #008080; text-decoration-color: #008080; font-weight: bold\">-1</span>, <span style=\"color: #008080; text-decoration-color: #008080; font-weight: bold\">-1</span>, <span style=\"color: #008080; text-decoration-color: #008080; font-weight: bold\">-1</span>, <span style=\"color: #008080; text-decoration-color: #008080; font-weight: bold\">-1</span>, <span style=\"color: #008080; text-decoration-color: #008080; font-weight: bold\">-1</span>, <span style=\"color: #008080; text-decoration-color: #008080; font-weight: bold\">-1</span><span style=\"font-weight: bold\">))</span>,\n",
       "    <span style=\"font-weight: bold\">(</span><span style=\"color: #008080; text-decoration-color: #008080; font-weight: bold\">11</span>, <span style=\"font-weight: bold\">(</span><span style=\"color: #008080; text-decoration-color: #008080; font-weight: bold\">-1</span>, <span style=\"color: #008080; text-decoration-color: #008080; font-weight: bold\">-1</span>, <span style=\"color: #008080; text-decoration-color: #008080; font-weight: bold\">-1</span>, <span style=\"color: #008080; text-decoration-color: #008080; font-weight: bold\">-1</span>, <span style=\"color: #008080; text-decoration-color: #008080; font-weight: bold\">-1</span>, <span style=\"color: #008080; text-decoration-color: #008080; font-weight: bold\">-1</span>, <span style=\"color: #008080; text-decoration-color: #008080; font-weight: bold\">-1</span>, <span style=\"color: #008080; text-decoration-color: #008080; font-weight: bold\">0</span>, <span style=\"color: #008080; text-decoration-color: #008080; font-weight: bold\">-1</span>, <span style=\"color: #008080; text-decoration-color: #008080; font-weight: bold\">-1</span>, <span style=\"color: #008080; text-decoration-color: #008080; font-weight: bold\">-1</span>, <span style=\"color: #008080; text-decoration-color: #008080; font-weight: bold\">-1</span>, <span style=\"color: #008080; text-decoration-color: #008080; font-weight: bold\">-1</span>, <span style=\"color: #008080; text-decoration-color: #008080; font-weight: bold\">0</span><span style=\"font-weight: bold\">))</span>,\n",
       "    <span style=\"font-weight: bold\">(</span><span style=\"color: #008080; text-decoration-color: #008080; font-weight: bold\">4</span>, <span style=\"font-weight: bold\">(</span><span style=\"color: #008080; text-decoration-color: #008080; font-weight: bold\">-1</span>, <span style=\"color: #008080; text-decoration-color: #008080; font-weight: bold\">-1</span>, <span style=\"color: #008080; text-decoration-color: #008080; font-weight: bold\">-1</span>, <span style=\"color: #008080; text-decoration-color: #008080; font-weight: bold\">4</span>, <span style=\"color: #008080; text-decoration-color: #008080; font-weight: bold\">-1</span>, <span style=\"color: #008080; text-decoration-color: #008080; font-weight: bold\">-1</span>, <span style=\"color: #008080; text-decoration-color: #008080; font-weight: bold\">-1</span>, <span style=\"color: #008080; text-decoration-color: #008080; font-weight: bold\">0</span>, <span style=\"color: #008080; text-decoration-color: #008080; font-weight: bold\">-1</span>, <span style=\"color: #008080; text-decoration-color: #008080; font-weight: bold\">-1</span>, <span style=\"color: #008080; text-decoration-color: #008080; font-weight: bold\">-1</span>, <span style=\"color: #008080; text-decoration-color: #008080; font-weight: bold\">-1</span>, <span style=\"color: #008080; text-decoration-color: #008080; font-weight: bold\">-1</span>, <span style=\"color: #008080; text-decoration-color: #008080; font-weight: bold\">-1</span><span style=\"font-weight: bold\">))</span>,\n",
       "    <span style=\"font-weight: bold\">(</span><span style=\"color: #008080; text-decoration-color: #008080; font-weight: bold\">2</span>, <span style=\"font-weight: bold\">(</span><span style=\"color: #008080; text-decoration-color: #008080; font-weight: bold\">5</span>, <span style=\"color: #008080; text-decoration-color: #008080; font-weight: bold\">-1</span>, <span style=\"color: #008080; text-decoration-color: #008080; font-weight: bold\">-1</span>, <span style=\"color: #008080; text-decoration-color: #008080; font-weight: bold\">4</span>, <span style=\"color: #008080; text-decoration-color: #008080; font-weight: bold\">-1</span>, <span style=\"color: #008080; text-decoration-color: #008080; font-weight: bold\">-1</span>, <span style=\"color: #008080; text-decoration-color: #008080; font-weight: bold\">-1</span>, <span style=\"color: #008080; text-decoration-color: #008080; font-weight: bold\">-1</span>, <span style=\"color: #008080; text-decoration-color: #008080; font-weight: bold\">-1</span>, <span style=\"color: #008080; text-decoration-color: #008080; font-weight: bold\">-1</span>, <span style=\"color: #008080; text-decoration-color: #008080; font-weight: bold\">-1</span>, <span style=\"color: #008080; text-decoration-color: #008080; font-weight: bold\">-1</span>, <span style=\"color: #008080; text-decoration-color: #008080; font-weight: bold\">-1</span>, <span style=\"color: #008080; text-decoration-color: #008080; font-weight: bold\">-1</span><span style=\"font-weight: bold\">))</span>,\n",
       "    <span style=\"font-weight: bold\">(</span><span style=\"color: #008080; text-decoration-color: #008080; font-weight: bold\">5</span>, <span style=\"font-weight: bold\">(</span><span style=\"color: #008080; text-decoration-color: #008080; font-weight: bold\">-1</span>, <span style=\"color: #008080; text-decoration-color: #008080; font-weight: bold\">-1</span>, <span style=\"color: #008080; text-decoration-color: #008080; font-weight: bold\">5</span>, <span style=\"color: #008080; text-decoration-color: #008080; font-weight: bold\">4</span>, <span style=\"color: #008080; text-decoration-color: #008080; font-weight: bold\">-1</span>, <span style=\"color: #008080; text-decoration-color: #008080; font-weight: bold\">-1</span>, <span style=\"color: #008080; text-decoration-color: #008080; font-weight: bold\">-1</span>, <span style=\"color: #008080; text-decoration-color: #008080; font-weight: bold\">-1</span>, <span style=\"color: #008080; text-decoration-color: #008080; font-weight: bold\">-1</span>, <span style=\"color: #008080; text-decoration-color: #008080; font-weight: bold\">-1</span>, <span style=\"color: #008080; text-decoration-color: #008080; font-weight: bold\">-1</span>, <span style=\"color: #008080; text-decoration-color: #008080; font-weight: bold\">-1</span>, <span style=\"color: #008080; text-decoration-color: #008080; font-weight: bold\">-1</span>, <span style=\"color: #008080; text-decoration-color: #008080; font-weight: bold\">-1</span><span style=\"font-weight: bold\">))</span>,\n",
       "    <span style=\"font-weight: bold\">(</span><span style=\"color: #008080; text-decoration-color: #008080; font-weight: bold\">1</span>, <span style=\"font-weight: bold\">(</span><span style=\"color: #008080; text-decoration-color: #008080; font-weight: bold\">-1</span>, <span style=\"color: #008080; text-decoration-color: #008080; font-weight: bold\">-1</span>, <span style=\"color: #008080; text-decoration-color: #008080; font-weight: bold\">-1</span>, <span style=\"color: #008080; text-decoration-color: #008080; font-weight: bold\">-1</span>, <span style=\"color: #008080; text-decoration-color: #008080; font-weight: bold\">4</span>, <span style=\"color: #008080; text-decoration-color: #008080; font-weight: bold\">-1</span>, <span style=\"color: #008080; text-decoration-color: #008080; font-weight: bold\">-1</span>, <span style=\"color: #008080; text-decoration-color: #008080; font-weight: bold\">-1</span>, <span style=\"color: #008080; text-decoration-color: #008080; font-weight: bold\">-1</span>, <span style=\"color: #008080; text-decoration-color: #008080; font-weight: bold\">-1</span>, <span style=\"color: #008080; text-decoration-color: #008080; font-weight: bold\">-1</span>, <span style=\"color: #008080; text-decoration-color: #008080; font-weight: bold\">-1</span>, <span style=\"color: #008080; text-decoration-color: #008080; font-weight: bold\">-1</span>, <span style=\"color: #008080; text-decoration-color: #008080; font-weight: bold\">-1</span><span style=\"font-weight: bold\">))</span>,\n",
       "    <span style=\"font-weight: bold\">(</span><span style=\"color: #008080; text-decoration-color: #008080; font-weight: bold\">0</span>, <span style=\"font-weight: bold\">(</span><span style=\"color: #008080; text-decoration-color: #008080; font-weight: bold\">-1</span>, <span style=\"color: #008080; text-decoration-color: #008080; font-weight: bold\">-1</span>, <span style=\"color: #008080; text-decoration-color: #008080; font-weight: bold\">-1</span>, <span style=\"color: #008080; text-decoration-color: #008080; font-weight: bold\">-1</span>, <span style=\"color: #008080; text-decoration-color: #008080; font-weight: bold\">-1</span>, <span style=\"color: #008080; text-decoration-color: #008080; font-weight: bold\">-1</span>, <span style=\"color: #008080; text-decoration-color: #008080; font-weight: bold\">-1</span>, <span style=\"color: #008080; text-decoration-color: #008080; font-weight: bold\">-1</span>, <span style=\"color: #008080; text-decoration-color: #008080; font-weight: bold\">-1</span>, <span style=\"color: #008080; text-decoration-color: #008080; font-weight: bold\">-1</span>, <span style=\"color: #008080; text-decoration-color: #008080; font-weight: bold\">-1</span>, <span style=\"color: #008080; text-decoration-color: #008080; font-weight: bold\">-1</span>, <span style=\"color: #008080; text-decoration-color: #008080; font-weight: bold\">-1</span>, <span style=\"color: #008080; text-decoration-color: #008080; font-weight: bold\">-1</span><span style=\"font-weight: bold\">))</span>,\n",
       "    <span style=\"font-weight: bold\">(</span><span style=\"color: #008080; text-decoration-color: #008080; font-weight: bold\">7</span>, <span style=\"font-weight: bold\">(</span><span style=\"color: #008080; text-decoration-color: #008080; font-weight: bold\">-1</span>, <span style=\"color: #008080; text-decoration-color: #008080; font-weight: bold\">-1</span>, <span style=\"color: #008080; text-decoration-color: #008080; font-weight: bold\">-1</span>, <span style=\"color: #008080; text-decoration-color: #008080; font-weight: bold\">3</span>, <span style=\"color: #008080; text-decoration-color: #008080; font-weight: bold\">-1</span>, <span style=\"color: #008080; text-decoration-color: #008080; font-weight: bold\">-1</span>, <span style=\"color: #008080; text-decoration-color: #008080; font-weight: bold\">-1</span>, <span style=\"color: #008080; text-decoration-color: #008080; font-weight: bold\">-1</span>, <span style=\"color: #008080; text-decoration-color: #008080; font-weight: bold\">-1</span>, <span style=\"color: #008080; text-decoration-color: #008080; font-weight: bold\">-1</span>, <span style=\"color: #008080; text-decoration-color: #008080; font-weight: bold\">0</span>, <span style=\"color: #008080; text-decoration-color: #008080; font-weight: bold\">-1</span>, <span style=\"color: #008080; text-decoration-color: #008080; font-weight: bold\">-1</span>, <span style=\"color: #008080; text-decoration-color: #008080; font-weight: bold\">-1</span><span style=\"font-weight: bold\">))</span>\n",
       "<span style=\"font-weight: bold\">}</span>\n",
       "</pre>\n"
      ],
      "text/plain": [
       "\n",
       "\u001b[1m{\u001b[0m\n",
       "    \u001b[1m(\u001b[0m\u001b[1;36m9\u001b[0m, \u001b[1m(\u001b[0m\u001b[1;36m1\u001b[0m, \u001b[1;36m-1\u001b[0m, \u001b[1;36m-1\u001b[0m, \u001b[1;36m4\u001b[0m, \u001b[1;36m-1\u001b[0m, \u001b[1;36m-1\u001b[0m, \u001b[1;36m-1\u001b[0m, \u001b[1;36m-1\u001b[0m, \u001b[1;36m-1\u001b[0m, \u001b[1;36m-1\u001b[0m, \u001b[1;36m-1\u001b[0m, \u001b[1;36m-1\u001b[0m, \u001b[1;36m-1\u001b[0m, \u001b[1;36m-1\u001b[0m\u001b[1m)\u001b[0m\u001b[1m)\u001b[0m,\n",
       "    \u001b[1m(\u001b[0m\u001b[1;36m6\u001b[0m, \u001b[1m(\u001b[0m\u001b[1;36m4\u001b[0m, \u001b[1;36m-1\u001b[0m, \u001b[1;36m-1\u001b[0m, \u001b[1;36m-1\u001b[0m, \u001b[1;36m-1\u001b[0m, \u001b[1;36m-1\u001b[0m, \u001b[1;36m-1\u001b[0m, \u001b[1;36m-1\u001b[0m, \u001b[1;36m-1\u001b[0m, \u001b[1;36m-1\u001b[0m, \u001b[1;36m-1\u001b[0m, \u001b[1;36m-1\u001b[0m, \u001b[1;36m-1\u001b[0m, \u001b[1;36m0\u001b[0m\u001b[1m)\u001b[0m\u001b[1m)\u001b[0m,\n",
       "    \u001b[1m(\u001b[0m\u001b[1;36m8\u001b[0m, \u001b[1m(\u001b[0m\u001b[1;36m4\u001b[0m, \u001b[1;36m-1\u001b[0m, \u001b[1;36m-1\u001b[0m, \u001b[1;36m4\u001b[0m, \u001b[1;36m-1\u001b[0m, \u001b[1;36m-1\u001b[0m, \u001b[1;36m-1\u001b[0m, \u001b[1;36m-1\u001b[0m, \u001b[1;36m-1\u001b[0m, \u001b[1;36m0\u001b[0m, \u001b[1;36m-1\u001b[0m, \u001b[1;36m-1\u001b[0m, \u001b[1;36m-1\u001b[0m, \u001b[1;36m-1\u001b[0m\u001b[1m)\u001b[0m\u001b[1m)\u001b[0m,\n",
       "    \u001b[1m(\u001b[0m\u001b[1;36m10\u001b[0m, \u001b[1m(\u001b[0m\u001b[1;36m5\u001b[0m, \u001b[1;36m-1\u001b[0m, \u001b[1;36m-1\u001b[0m, \u001b[1;36m3\u001b[0m, \u001b[1;36m-1\u001b[0m, \u001b[1;36m-1\u001b[0m, \u001b[1;36m-1\u001b[0m, \u001b[1;36m-1\u001b[0m, \u001b[1;36m-1\u001b[0m, \u001b[1;36m-1\u001b[0m, \u001b[1;36m-1\u001b[0m, \u001b[1;36m-1\u001b[0m, \u001b[1;36m-1\u001b[0m, \u001b[1;36m-1\u001b[0m\u001b[1m)\u001b[0m\u001b[1m)\u001b[0m,\n",
       "    \u001b[1m(\u001b[0m\u001b[1;36m13\u001b[0m, \u001b[1m(\u001b[0m\u001b[1;36m5\u001b[0m, \u001b[1;36m-1\u001b[0m, \u001b[1;36m-1\u001b[0m, \u001b[1;36m2\u001b[0m, \u001b[1;36m-1\u001b[0m, \u001b[1;36m-1\u001b[0m, \u001b[1;36m-1\u001b[0m, \u001b[1;36m-1\u001b[0m, \u001b[1;36m-1\u001b[0m, \u001b[1;36m-1\u001b[0m, \u001b[1;36m-1\u001b[0m, \u001b[1;36m-1\u001b[0m, \u001b[1;36m-1\u001b[0m, \u001b[1;36m-1\u001b[0m\u001b[1m)\u001b[0m\u001b[1m)\u001b[0m,\n",
       "    \u001b[1m(\u001b[0m\u001b[1;36m12\u001b[0m, \u001b[1m(\u001b[0m\u001b[1;36m-1\u001b[0m, \u001b[1;36m-1\u001b[0m, \u001b[1;36m-1\u001b[0m, \u001b[1;36m2\u001b[0m, \u001b[1;36m-1\u001b[0m, \u001b[1;36m-1\u001b[0m, \u001b[1;36m-1\u001b[0m, \u001b[1;36m0\u001b[0m, \u001b[1;36m-1\u001b[0m, \u001b[1;36m-1\u001b[0m, \u001b[1;36m-1\u001b[0m, \u001b[1;36m-1\u001b[0m, \u001b[1;36m-1\u001b[0m, \u001b[1;36m-1\u001b[0m\u001b[1m)\u001b[0m\u001b[1m)\u001b[0m,\n",
       "    \u001b[1m(\u001b[0m\u001b[1;36m3\u001b[0m, \u001b[1m(\u001b[0m\u001b[1;36m3\u001b[0m, \u001b[1;36m-1\u001b[0m, \u001b[1;36m-1\u001b[0m, \u001b[1;36m-1\u001b[0m, \u001b[1;36m-1\u001b[0m, \u001b[1;36m-1\u001b[0m, \u001b[1;36m-1\u001b[0m, \u001b[1;36m-1\u001b[0m, \u001b[1;36m-1\u001b[0m, \u001b[1;36m-1\u001b[0m, \u001b[1;36m-1\u001b[0m, \u001b[1;36m-1\u001b[0m, \u001b[1;36m-1\u001b[0m, \u001b[1;36m-1\u001b[0m\u001b[1m)\u001b[0m\u001b[1m)\u001b[0m,\n",
       "    \u001b[1m(\u001b[0m\u001b[1;36m11\u001b[0m, \u001b[1m(\u001b[0m\u001b[1;36m-1\u001b[0m, \u001b[1;36m-1\u001b[0m, \u001b[1;36m-1\u001b[0m, \u001b[1;36m-1\u001b[0m, \u001b[1;36m-1\u001b[0m, \u001b[1;36m-1\u001b[0m, \u001b[1;36m-1\u001b[0m, \u001b[1;36m0\u001b[0m, \u001b[1;36m-1\u001b[0m, \u001b[1;36m-1\u001b[0m, \u001b[1;36m-1\u001b[0m, \u001b[1;36m-1\u001b[0m, \u001b[1;36m-1\u001b[0m, \u001b[1;36m0\u001b[0m\u001b[1m)\u001b[0m\u001b[1m)\u001b[0m,\n",
       "    \u001b[1m(\u001b[0m\u001b[1;36m4\u001b[0m, \u001b[1m(\u001b[0m\u001b[1;36m-1\u001b[0m, \u001b[1;36m-1\u001b[0m, \u001b[1;36m-1\u001b[0m, \u001b[1;36m4\u001b[0m, \u001b[1;36m-1\u001b[0m, \u001b[1;36m-1\u001b[0m, \u001b[1;36m-1\u001b[0m, \u001b[1;36m0\u001b[0m, \u001b[1;36m-1\u001b[0m, \u001b[1;36m-1\u001b[0m, \u001b[1;36m-1\u001b[0m, \u001b[1;36m-1\u001b[0m, \u001b[1;36m-1\u001b[0m, \u001b[1;36m-1\u001b[0m\u001b[1m)\u001b[0m\u001b[1m)\u001b[0m,\n",
       "    \u001b[1m(\u001b[0m\u001b[1;36m2\u001b[0m, \u001b[1m(\u001b[0m\u001b[1;36m5\u001b[0m, \u001b[1;36m-1\u001b[0m, \u001b[1;36m-1\u001b[0m, \u001b[1;36m4\u001b[0m, \u001b[1;36m-1\u001b[0m, \u001b[1;36m-1\u001b[0m, \u001b[1;36m-1\u001b[0m, \u001b[1;36m-1\u001b[0m, \u001b[1;36m-1\u001b[0m, \u001b[1;36m-1\u001b[0m, \u001b[1;36m-1\u001b[0m, \u001b[1;36m-1\u001b[0m, \u001b[1;36m-1\u001b[0m, \u001b[1;36m-1\u001b[0m\u001b[1m)\u001b[0m\u001b[1m)\u001b[0m,\n",
       "    \u001b[1m(\u001b[0m\u001b[1;36m5\u001b[0m, \u001b[1m(\u001b[0m\u001b[1;36m-1\u001b[0m, \u001b[1;36m-1\u001b[0m, \u001b[1;36m5\u001b[0m, \u001b[1;36m4\u001b[0m, \u001b[1;36m-1\u001b[0m, \u001b[1;36m-1\u001b[0m, \u001b[1;36m-1\u001b[0m, \u001b[1;36m-1\u001b[0m, \u001b[1;36m-1\u001b[0m, \u001b[1;36m-1\u001b[0m, \u001b[1;36m-1\u001b[0m, \u001b[1;36m-1\u001b[0m, \u001b[1;36m-1\u001b[0m, \u001b[1;36m-1\u001b[0m\u001b[1m)\u001b[0m\u001b[1m)\u001b[0m,\n",
       "    \u001b[1m(\u001b[0m\u001b[1;36m1\u001b[0m, \u001b[1m(\u001b[0m\u001b[1;36m-1\u001b[0m, \u001b[1;36m-1\u001b[0m, \u001b[1;36m-1\u001b[0m, \u001b[1;36m-1\u001b[0m, \u001b[1;36m4\u001b[0m, \u001b[1;36m-1\u001b[0m, \u001b[1;36m-1\u001b[0m, \u001b[1;36m-1\u001b[0m, \u001b[1;36m-1\u001b[0m, \u001b[1;36m-1\u001b[0m, \u001b[1;36m-1\u001b[0m, \u001b[1;36m-1\u001b[0m, \u001b[1;36m-1\u001b[0m, \u001b[1;36m-1\u001b[0m\u001b[1m)\u001b[0m\u001b[1m)\u001b[0m,\n",
       "    \u001b[1m(\u001b[0m\u001b[1;36m0\u001b[0m, \u001b[1m(\u001b[0m\u001b[1;36m-1\u001b[0m, \u001b[1;36m-1\u001b[0m, \u001b[1;36m-1\u001b[0m, \u001b[1;36m-1\u001b[0m, \u001b[1;36m-1\u001b[0m, \u001b[1;36m-1\u001b[0m, \u001b[1;36m-1\u001b[0m, \u001b[1;36m-1\u001b[0m, \u001b[1;36m-1\u001b[0m, \u001b[1;36m-1\u001b[0m, \u001b[1;36m-1\u001b[0m, \u001b[1;36m-1\u001b[0m, \u001b[1;36m-1\u001b[0m, \u001b[1;36m-1\u001b[0m\u001b[1m)\u001b[0m\u001b[1m)\u001b[0m,\n",
       "    \u001b[1m(\u001b[0m\u001b[1;36m7\u001b[0m, \u001b[1m(\u001b[0m\u001b[1;36m-1\u001b[0m, \u001b[1;36m-1\u001b[0m, \u001b[1;36m-1\u001b[0m, \u001b[1;36m3\u001b[0m, \u001b[1;36m-1\u001b[0m, \u001b[1;36m-1\u001b[0m, \u001b[1;36m-1\u001b[0m, \u001b[1;36m-1\u001b[0m, \u001b[1;36m-1\u001b[0m, \u001b[1;36m-1\u001b[0m, \u001b[1;36m0\u001b[0m, \u001b[1;36m-1\u001b[0m, \u001b[1;36m-1\u001b[0m, \u001b[1;36m-1\u001b[0m\u001b[1m)\u001b[0m\u001b[1m)\u001b[0m\n",
       "\u001b[1m}\u001b[0m\n"
      ]
     },
     "metadata": {},
     "output_type": "display_data"
    }
   ],
   "source": [
    "e1 = 1\n",
    "e2 = 3\n",
    "theta = 3\n",
    "np.random.seed(0)\n",
    "tree = greedy_bayes(theta, cb=exponential_pick_closure(calc_mutual_info, sens_mutual_info))\n",
    "\n",
    "tree"
   ]
  },
  {
   "cell_type": "code",
   "execution_count": null,
   "metadata": {},
   "outputs": [
    {
     "name": "stdout",
     "output_type": "stream",
     "text": [
      "//////////\n",
      "///     _Bayesian Tree_\n",
      "///                 sex:    capital-gain.3 native-country.0\n",
      "///                 age: \n",
      "///              fnlwgt:    capital-loss.4\n",
      "///      hours-per-week:   education-num.5   capital-gain.4\n",
      "///       education-num:             age.5   capital-gain.4\n",
      "///        capital-loss:    capital-gain.4            sex.0\n",
      "///           workclass:             sex.0     occupation.0\n",
      "///        capital-gain:             age.3\n",
      "///           education:    capital-gain.2            sex.0\n",
      "///          occupation:             age.5   capital-gain.2\n",
      "///      native-country:             age.5   capital-gain.3\n",
      "///        relationship:             age.4   capital-gain.4           race.0\n",
      "///      marital-status:             age.4     occupation.0\n",
      "///                race:             age.1   capital-gain.4\n"
     ]
    }
   ],
   "source": [
    "def print_tree(tree: set[tuple[int, tuple[int]]]):\n",
    "    attr_names = list(attr_str.keys())\n",
    "    s = f\"//////////\\n///{'_Bayesian Tree_':>20s}\"\n",
    "\n",
    "    for a, pset in reversed(list(tree)):\n",
    "        a_name = attr_names[a]\n",
    "        s += f\"\\n///{a_name:>20s}: \"\n",
    "\n",
    "        for p, h in enumerate(pset):\n",
    "            if h == -1:\n",
    "                continue\n",
    "\n",
    "            p_name = attr_names[p]\n",
    "            s += f\"{p_name:>15s}.{h}\"\n",
    "\n",
    "    return s\n",
    "\n",
    "\n",
    "print(print_tree(tree))\n"
   ]
  },
  {
   "cell_type": "code",
   "execution_count": null,
   "metadata": {},
   "outputs": [],
   "source": [
    "def sens_r_function(n: float):\n",
    "    \"\"\"Provides the the R function sensitivity for a given dataset size (n).\"\"\"\n",
    "    return 3/n + 2/(n**2)\n",
    "\n",
    "\n",
    "def calc_r_function(data: np.ndarray, domain: np.ndarray, x: list[int], p: list[int]):\n",
    "    \"\"\"Calculates the R(X,P) function for the provided data.\"\"\"\n",
    "    sub_data = data[:, x + p]\n",
    "    sub_domain = domain[x + p]\n",
    "    margin, _ = np.histogramdd(sub_data, sub_domain)\n",
    "    margin /= margin.sum()\n",
    "\n",
    "    x_idx = tuple(range(len(x)))\n",
    "    p_idx = tuple(range(-len(p), 0))\n",
    "\n",
    "    x_mar = np.sum(margin, axis=p_idx).reshape(-1)\n",
    "    p_mar = np.sum(margin, axis=x_idx).reshape(-1)\n",
    "    j_mar = margin.reshape((len(x_mar), len(p_mar)))\n",
    "\n",
    "    return np.sum(np.abs(j_mar-np.outer(x_mar, p_mar))) / 2\n",
    "\n",
    "\n",
    "x = [11, 12, 13, 14]\n",
    "p = [22, 23, 24, 25]\n",
    "# %lprun -f calc_r_function calc_r_function(data, domain, x, p)\n",
    "# %timeit calc_r_function(data, domain, x, p)\n",
    "# calc_r_function(data, domain, x, p), calc_mutual_info(data,domain,x,p)\n"
   ]
  },
  {
   "cell_type": "code",
   "execution_count": null,
   "metadata": {},
   "outputs": [
    {
     "name": "stdout",
     "output_type": "stream",
     "text": [
      " 1: Calculating    13 marginals.\n",
      " 2: Calculating    55 marginals.\n",
      " 3: Calculating    77 marginals.\n",
      " 4: Calculating    89 marginals.\n",
      " 5: Calculating    87 marginals.\n",
      " 6: Calculating    89 marginals.\n",
      " 7: Calculating    97 marginals.\n",
      " 8: Calculating    85 marginals.\n",
      " 9: Calculating    63 marginals.\n",
      "10: Calculating   118 marginals.\n",
      "11: Calculating    30 marginals.\n",
      "12: Calculating    30 marginals.\n",
      "13: Calculating    21 marginals.\n"
     ]
    }
   ],
   "source": [
    "e1 = 1\n",
    "e2 = 3\n",
    "theta = 4\n",
    "np.random.seed(0)\n",
    "tree = greedy_bayes(theta, cb=exponential_pick_closure(calc_r_function, sens_r_function))\n"
   ]
  },
  {
   "cell_type": "code",
   "execution_count": null,
   "metadata": {},
   "outputs": [
    {
     "name": "stdout",
     "output_type": "stream",
     "text": [
      "//////////\n",
      "///     _Bayesian Tree_\n",
      "///                 sex:    capital-gain.3 native-country.0\n",
      "///                 age: \n",
      "///              fnlwgt:    capital-loss.4\n",
      "///      hours-per-week:   education-num.5   capital-gain.4\n",
      "///       education-num:             age.5   capital-gain.4\n",
      "///      marital-status:             age.4            sex.0           race.0\n",
      "///        capital-loss:    capital-gain.4            sex.0\n",
      "///           workclass:             sex.0     occupation.0\n",
      "///        capital-gain:             age.3\n",
      "///           education:    capital-gain.2            sex.0\n",
      "///          occupation:             age.5   capital-gain.2\n",
      "///      native-country:             age.5   capital-gain.3\n",
      "///        relationship:             age.4   capital-gain.4           race.0\n",
      "///                race:             age.1   capital-gain.4\n"
     ]
    }
   ],
   "source": [
    "print(print_tree(tree))"
   ]
  },
  {
   "cell_type": "code",
   "execution_count": null,
   "metadata": {},
   "outputs": [],
   "source": []
  }
 ],
 "metadata": {
  "language_info": {
   "codemirror_mode": {
    "name": "ipython",
    "version": 3
   },
   "file_extension": ".py",
   "mimetype": "text/x-python",
   "name": "python",
   "nbconvert_exporter": "python",
   "pygments_lexer": "ipython3",
   "version": "3.10.6"
  },
  "vscode": {
   "interpreter": {
    "hash": "50661068d2d5c6ff1ce24ae701dfa73cc4ae117a223c3f7199e1fdb4656c8912"
   }
  }
 },
 "nbformat": 4,
 "nbformat_minor": 2
}
