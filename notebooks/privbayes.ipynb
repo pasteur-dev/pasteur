{
 "cells": [
  {
   "cell_type": "code",
   "execution_count": null,
   "metadata": {},
   "outputs": [],
   "source": [
    "# Removes lint errors from VS Code\n",
    "from typing import Dict, TYPE_CHECKING, Tuple, List\n",
    "\n",
    "if TYPE_CHECKING:\n",
    "    import kedro\n",
    "\n",
    "    catalog: kedro.io.data_catalog.DataCatalog\n",
    "    session: kedro.framework.session.session.KedroSession\n",
    "    pipelines: Dict[str, kedro.pipeline.pipeline.Pipeline]\n"
   ]
  },
  {
   "cell_type": "code",
   "execution_count": null,
   "metadata": {},
   "outputs": [],
   "source": [
    "import os\n",
    "\n",
    "VIEW = os.getenv(\"DATASET_VIEW\") or \"tab_adult\"\n",
    "TABLE = os.getenv(\"DATASET_TABLE\") or \"table\"\n",
    "MULTI_PROCESS = (\n",
    "    os.getenv(\"MULTI_PROCESS\") if os.getenv(\"MULTI_PROCESS\") is not None else True\n",
    ")\n",
    "\n",
    "import numpy as np\n",
    "import pandas as pd\n",
    "from importlib import reload\n",
    "\n",
    "bin: pd.DataFrame = catalog.load(f\"{VIEW}.wrk.bin_{TABLE}\")\n",
    "random_state = catalog.load(\"params:random_state\")\n"
   ]
  },
  {
   "cell_type": "code",
   "execution_count": null,
   "metadata": {},
   "outputs": [
    {
     "data": {
      "text/html": [
       "<div>\n",
       "<style scoped>\n",
       "    .dataframe tbody tr th:only-of-type {\n",
       "        vertical-align: middle;\n",
       "    }\n",
       "\n",
       "    .dataframe tbody tr th {\n",
       "        vertical-align: top;\n",
       "    }\n",
       "\n",
       "    .dataframe thead th {\n",
       "        text-align: right;\n",
       "    }\n",
       "</style>\n",
       "<table border=\"1\" class=\"dataframe\">\n",
       "  <thead>\n",
       "    <tr style=\"text-align: right;\">\n",
       "      <th></th>\n",
       "      <th>age_0</th>\n",
       "      <th>age_1</th>\n",
       "      <th>age_2</th>\n",
       "      <th>age_3</th>\n",
       "      <th>age_4</th>\n",
       "      <th>age_5</th>\n",
       "      <th>workclass_0</th>\n",
       "      <th>workclass_1</th>\n",
       "      <th>workclass_2</th>\n",
       "      <th>workclass_3</th>\n",
       "      <th>...</th>\n",
       "      <th>native-country_33</th>\n",
       "      <th>native-country_34</th>\n",
       "      <th>native-country_35</th>\n",
       "      <th>native-country_36</th>\n",
       "      <th>native-country_37</th>\n",
       "      <th>native-country_38</th>\n",
       "      <th>native-country_39</th>\n",
       "      <th>native-country_40</th>\n",
       "      <th>native-country_41</th>\n",
       "      <th>native-country_42</th>\n",
       "    </tr>\n",
       "    <tr>\n",
       "      <th>id</th>\n",
       "      <th></th>\n",
       "      <th></th>\n",
       "      <th></th>\n",
       "      <th></th>\n",
       "      <th></th>\n",
       "      <th></th>\n",
       "      <th></th>\n",
       "      <th></th>\n",
       "      <th></th>\n",
       "      <th></th>\n",
       "      <th></th>\n",
       "      <th></th>\n",
       "      <th></th>\n",
       "      <th></th>\n",
       "      <th></th>\n",
       "      <th></th>\n",
       "      <th></th>\n",
       "      <th></th>\n",
       "      <th></th>\n",
       "      <th></th>\n",
       "      <th></th>\n",
       "    </tr>\n",
       "  </thead>\n",
       "  <tbody>\n",
       "    <tr>\n",
       "      <th>4</th>\n",
       "      <td>False</td>\n",
       "      <td>True</td>\n",
       "      <td>True</td>\n",
       "      <td>False</td>\n",
       "      <td>False</td>\n",
       "      <td>False</td>\n",
       "      <td>True</td>\n",
       "      <td>False</td>\n",
       "      <td>False</td>\n",
       "      <td>False</td>\n",
       "      <td>...</td>\n",
       "      <td>False</td>\n",
       "      <td>False</td>\n",
       "      <td>False</td>\n",
       "      <td>False</td>\n",
       "      <td>False</td>\n",
       "      <td>False</td>\n",
       "      <td>False</td>\n",
       "      <td>False</td>\n",
       "      <td>False</td>\n",
       "      <td>False</td>\n",
       "    </tr>\n",
       "    <tr>\n",
       "      <th>6</th>\n",
       "      <td>True</td>\n",
       "      <td>False</td>\n",
       "      <td>False</td>\n",
       "      <td>True</td>\n",
       "      <td>False</td>\n",
       "      <td>False</td>\n",
       "      <td>True</td>\n",
       "      <td>False</td>\n",
       "      <td>False</td>\n",
       "      <td>False</td>\n",
       "      <td>...</td>\n",
       "      <td>False</td>\n",
       "      <td>False</td>\n",
       "      <td>False</td>\n",
       "      <td>False</td>\n",
       "      <td>False</td>\n",
       "      <td>False</td>\n",
       "      <td>False</td>\n",
       "      <td>False</td>\n",
       "      <td>False</td>\n",
       "      <td>False</td>\n",
       "    </tr>\n",
       "    <tr>\n",
       "      <th>7</th>\n",
       "      <td>False</td>\n",
       "      <td>False</td>\n",
       "      <td>False</td>\n",
       "      <td>True</td>\n",
       "      <td>False</td>\n",
       "      <td>False</td>\n",
       "      <td>False</td>\n",
       "      <td>True</td>\n",
       "      <td>False</td>\n",
       "      <td>False</td>\n",
       "      <td>...</td>\n",
       "      <td>False</td>\n",
       "      <td>False</td>\n",
       "      <td>False</td>\n",
       "      <td>False</td>\n",
       "      <td>False</td>\n",
       "      <td>False</td>\n",
       "      <td>False</td>\n",
       "      <td>False</td>\n",
       "      <td>False</td>\n",
       "      <td>False</td>\n",
       "    </tr>\n",
       "    <tr>\n",
       "      <th>9</th>\n",
       "      <td>True</td>\n",
       "      <td>True</td>\n",
       "      <td>True</td>\n",
       "      <td>True</td>\n",
       "      <td>False</td>\n",
       "      <td>False</td>\n",
       "      <td>True</td>\n",
       "      <td>False</td>\n",
       "      <td>False</td>\n",
       "      <td>False</td>\n",
       "      <td>...</td>\n",
       "      <td>False</td>\n",
       "      <td>False</td>\n",
       "      <td>False</td>\n",
       "      <td>False</td>\n",
       "      <td>False</td>\n",
       "      <td>False</td>\n",
       "      <td>False</td>\n",
       "      <td>False</td>\n",
       "      <td>False</td>\n",
       "      <td>False</td>\n",
       "    </tr>\n",
       "    <tr>\n",
       "      <th>10</th>\n",
       "      <td>False</td>\n",
       "      <td>False</td>\n",
       "      <td>True</td>\n",
       "      <td>True</td>\n",
       "      <td>False</td>\n",
       "      <td>False</td>\n",
       "      <td>True</td>\n",
       "      <td>False</td>\n",
       "      <td>False</td>\n",
       "      <td>False</td>\n",
       "      <td>...</td>\n",
       "      <td>False</td>\n",
       "      <td>False</td>\n",
       "      <td>False</td>\n",
       "      <td>False</td>\n",
       "      <td>False</td>\n",
       "      <td>False</td>\n",
       "      <td>False</td>\n",
       "      <td>False</td>\n",
       "      <td>False</td>\n",
       "      <td>False</td>\n",
       "    </tr>\n",
       "  </tbody>\n",
       "</table>\n",
       "<p>5 rows × 146 columns</p>\n",
       "</div>"
      ]
     },
     "execution_count": null,
     "metadata": {},
     "output_type": "execute_result"
    }
   ],
   "source": [
    "bin.head()"
   ]
  },
  {
   "cell_type": "code",
   "execution_count": null,
   "metadata": {},
   "outputs": [
    {
     "data": {
      "text/html": [
       "<pre style=\"white-space:pre;overflow-x:auto;line-height:normal;font-family:Menlo,'DejaVu Sans Mono',consolas,'Courier New',monospace\"><span style=\"color: #7fbfbf; text-decoration-color: #7fbfbf\">[08/04/22 14:57:52] </span><span style=\"color: #000080; text-decoration-color: #000080\">INFO    </span> Selected <span style=\"color: #808000; text-decoration-color: #808000\">k</span>=<span style=\"color: #008080; text-decoration-color: #008080; font-weight: bold\">2</span> with <span style=\"color: #808000; text-decoration-color: #808000\">usefulness</span>= <span style=\"color: #008080; text-decoration-color: #008080; font-weight: bold\">5.09</span> &gt;  <span style=\"color: #008080; text-decoration-color: #008080; font-weight: bold\">4.00</span>                             <a href=\"file:///mnt/ext/projects/pasteur/src/pasteur/synth/privbayes.py\" target=\"_blank\"><span style=\"color: #7f7f7f; text-decoration-color: #7f7f7f\">privbayes.py</span></a><span style=\"color: #7f7f7f; text-decoration-color: #7f7f7f\">:</span><a href=\"file:///mnt/ext/projects/pasteur/src/pasteur/synth/privbayes.py#37\" target=\"_blank\"><span style=\"color: #7f7f7f; text-decoration-color: #7f7f7f\">37</span></a>\n",
       "</pre>\n"
      ],
      "text/plain": [
       "\u001b[2;36m[08/04/22 14:57:52]\u001b[0m\u001b[2;36m \u001b[0m\u001b[34mINFO    \u001b[0m Selected \u001b[33mk\u001b[0m=\u001b[1;36m2\u001b[0m with \u001b[33musefulness\u001b[0m= \u001b[1;36m5.09\u001b[0m >  \u001b[1;36m4.00\u001b[0m                             \u001b]8;id=618906;file:///mnt/ext/projects/pasteur/src/pasteur/synth/privbayes.py\u001b\\\u001b[2mprivbayes.py\u001b[0m\u001b]8;;\u001b\\\u001b[2m:\u001b[0m\u001b]8;id=101799;file:///mnt/ext/projects/pasteur/src/pasteur/synth/privbayes.py#37\u001b\\\u001b[2m37\u001b[0m\u001b]8;;\u001b\\\n"
      ]
     },
     "metadata": {},
     "output_type": "display_data"
    }
   ],
   "source": [
    "import pasteur.synth.privbayes as pb\n",
    "reload(pb)\n",
    "\n",
    "e = 1\n",
    "beta = 0.1\n",
    "e1 = beta * e\n",
    "e2 = (1 - beta) * e\n",
    "\n",
    "d = len(bin.keys())\n",
    "n = len(bin)\n",
    "\n",
    "noise_ratio = 4\n",
    "\n",
    "k = pb.calc_k(d, n, e2, noise_ratio)"
   ]
  },
  {
   "cell_type": "code",
   "execution_count": null,
   "metadata": {},
   "outputs": [],
   "source": [
    "assert all(dtype.name == \"bool\" for dtype in bin.dtypes)"
   ]
  },
  {
   "cell_type": "code",
   "execution_count": null,
   "metadata": {},
   "outputs": [
    {
     "data": {
      "text/html": [
       "<pre style=\"white-space:pre;overflow-x:auto;line-height:normal;font-family:Menlo,'DejaVu Sans Mono',consolas,'Courier New',monospace\">\n",
       "age_0  workclass_0  workclass_1  workclass_3\n",
       "<span style=\"color: #ff0000; text-decoration-color: #ff0000; font-style: italic\">False</span>  <span style=\"color: #ff0000; text-decoration-color: #ff0000; font-style: italic\">False</span>        <span style=\"color: #ff0000; text-decoration-color: #ff0000; font-style: italic\">False</span>        <span style=\"color: #ff0000; text-decoration-color: #ff0000; font-style: italic\">False</span>          <span style=\"color: #008080; text-decoration-color: #008080; font-weight: bold\">1227</span>\n",
       "                                 <span style=\"color: #00ff00; text-decoration-color: #00ff00; font-style: italic\">True</span>            <span style=\"color: #008080; text-decoration-color: #008080; font-weight: bold\">193</span>\n",
       "                    <span style=\"color: #00ff00; text-decoration-color: #00ff00; font-style: italic\">True</span>         <span style=\"color: #ff0000; text-decoration-color: #ff0000; font-style: italic\">False</span>           <span style=\"color: #008080; text-decoration-color: #008080; font-weight: bold\">483</span>\n",
       "       <span style=\"color: #00ff00; text-decoration-color: #00ff00; font-style: italic\">True</span>         <span style=\"color: #ff0000; text-decoration-color: #ff0000; font-style: italic\">False</span>        <span style=\"color: #ff0000; text-decoration-color: #ff0000; font-style: italic\">False</span>          <span style=\"color: #008080; text-decoration-color: #008080; font-weight: bold\">4563</span>\n",
       "<span style=\"color: #00ff00; text-decoration-color: #00ff00; font-style: italic\">True</span>   <span style=\"color: #ff0000; text-decoration-color: #ff0000; font-style: italic\">False</span>        <span style=\"color: #ff0000; text-decoration-color: #ff0000; font-style: italic\">False</span>        <span style=\"color: #ff0000; text-decoration-color: #ff0000; font-style: italic\">False</span>          <span style=\"color: #008080; text-decoration-color: #008080; font-weight: bold\">1261</span>\n",
       "                                 <span style=\"color: #00ff00; text-decoration-color: #00ff00; font-style: italic\">True</span>            <span style=\"color: #008080; text-decoration-color: #008080; font-weight: bold\">211</span>\n",
       "                    <span style=\"color: #00ff00; text-decoration-color: #00ff00; font-style: italic\">True</span>         <span style=\"color: #ff0000; text-decoration-color: #ff0000; font-style: italic\">False</span>           <span style=\"color: #008080; text-decoration-color: #008080; font-weight: bold\">538</span>\n",
       "       <span style=\"color: #00ff00; text-decoration-color: #00ff00; font-style: italic\">True</span>         <span style=\"color: #ff0000; text-decoration-color: #ff0000; font-style: italic\">False</span>        <span style=\"color: #ff0000; text-decoration-color: #ff0000; font-style: italic\">False</span>          <span style=\"color: #008080; text-decoration-color: #008080; font-weight: bold\">4548</span>\n",
       "dtype: int64\n",
       "</pre>\n"
      ],
      "text/plain": [
       "\n",
       "age_0  workclass_0  workclass_1  workclass_3\n",
       "\u001b[3;91mFalse\u001b[0m  \u001b[3;91mFalse\u001b[0m        \u001b[3;91mFalse\u001b[0m        \u001b[3;91mFalse\u001b[0m          \u001b[1;36m1227\u001b[0m\n",
       "                                 \u001b[3;92mTrue\u001b[0m            \u001b[1;36m193\u001b[0m\n",
       "                    \u001b[3;92mTrue\u001b[0m         \u001b[3;91mFalse\u001b[0m           \u001b[1;36m483\u001b[0m\n",
       "       \u001b[3;92mTrue\u001b[0m         \u001b[3;91mFalse\u001b[0m        \u001b[3;91mFalse\u001b[0m          \u001b[1;36m4563\u001b[0m\n",
       "\u001b[3;92mTrue\u001b[0m   \u001b[3;91mFalse\u001b[0m        \u001b[3;91mFalse\u001b[0m        \u001b[3;91mFalse\u001b[0m          \u001b[1;36m1261\u001b[0m\n",
       "                                 \u001b[3;92mTrue\u001b[0m            \u001b[1;36m211\u001b[0m\n",
       "                    \u001b[3;92mTrue\u001b[0m         \u001b[3;91mFalse\u001b[0m           \u001b[1;36m538\u001b[0m\n",
       "       \u001b[3;92mTrue\u001b[0m         \u001b[3;91mFalse\u001b[0m        \u001b[3;91mFalse\u001b[0m          \u001b[1;36m4548\u001b[0m\n",
       "dtype: int64\n"
      ]
     },
     "metadata": {},
     "output_type": "display_data"
    }
   ],
   "source": [
    "data = bin[[\"age_0\", \"workclass_0\", \"workclass_1\", \"workclass_3\"]]\n",
    "\n",
    "marginal = data.groupby(list(data.keys())).size()\n",
    "marginal"
   ]
  },
  {
   "cell_type": "code",
   "execution_count": null,
   "metadata": {},
   "outputs": [
    {
     "data": {
      "text/html": [
       "<pre style=\"white-space:pre;overflow-x:auto;line-height:normal;font-family:Menlo,'DejaVu Sans Mono',consolas,'Courier New',monospace\">\n",
       "<span style=\"color: #800080; text-decoration-color: #800080; font-weight: bold\">array</span><span style=\"font-weight: bold\">([</span> <span style=\"color: #008080; text-decoration-color: #008080; font-weight: bold\">-60.28357558</span>,  <span style=\"color: #008080; text-decoration-color: #008080; font-weight: bold\">187.92522185</span>, <span style=\"color: #008080; text-decoration-color: #008080; font-weight: bold\">-450.38759065</span>,  <span style=\"color: #008080; text-decoration-color: #008080; font-weight: bold\">261.66961542</span>,\n",
       "        <span style=\"color: #008080; text-decoration-color: #008080; font-weight: bold\">301.08972393</span>,   <span style=\"color: #008080; text-decoration-color: #008080; font-weight: bold\">38.81723785</span>, <span style=\"color: #008080; text-decoration-color: #008080; font-weight: bold\">-799.25659474</span>, <span style=\"color: #008080; text-decoration-color: #008080; font-weight: bold\">-316.26261872</span><span style=\"font-weight: bold\">])</span>\n",
       "</pre>\n"
      ],
      "text/plain": [
       "\n",
       "\u001b[1;35marray\u001b[0m\u001b[1m(\u001b[0m\u001b[1m[\u001b[0m \u001b[1;36m-60.28357558\u001b[0m,  \u001b[1;36m187.92522185\u001b[0m, \u001b[1;36m-450.38759065\u001b[0m,  \u001b[1;36m261.66961542\u001b[0m,\n",
       "        \u001b[1;36m301.08972393\u001b[0m,   \u001b[1;36m38.81723785\u001b[0m, \u001b[1;36m-799.25659474\u001b[0m, \u001b[1;36m-316.26261872\u001b[0m\u001b[1m]\u001b[0m\u001b[1m)\u001b[0m\n"
      ]
     },
     "metadata": {},
     "output_type": "display_data"
    }
   ],
   "source": [
    "from scipy.stats import laplace\n",
    "\n",
    "noise_scale = 2*(d - k) / e2\n",
    "noise = laplace.rvs(loc=0, scale=noise_scale, size=marginal.shape)\n",
    "noise"
   ]
  },
  {
   "cell_type": "code",
   "execution_count": null,
   "metadata": {},
   "outputs": [
    {
     "data": {
      "text/html": [
       "<pre style=\"white-space:pre;overflow-x:auto;line-height:normal;font-family:Menlo,'DejaVu Sans Mono',consolas,'Courier New',monospace\">\n",
       "<span style=\"font-weight: bold\">(</span>\n",
       "    age_0  workclass_0  workclass_1  workclass_3\n",
       "<span style=\"color: #ff0000; text-decoration-color: #ff0000; font-style: italic\">False</span>  <span style=\"color: #ff0000; text-decoration-color: #ff0000; font-style: italic\">False</span>        <span style=\"color: #ff0000; text-decoration-color: #ff0000; font-style: italic\">False</span>        <span style=\"color: #ff0000; text-decoration-color: #ff0000; font-style: italic\">False</span>          <span style=\"color: #008080; text-decoration-color: #008080; font-weight: bold\">0.093723</span>\n",
       "                                 <span style=\"color: #00ff00; text-decoration-color: #00ff00; font-style: italic\">True</span>           <span style=\"color: #008080; text-decoration-color: #008080; font-weight: bold\">0.030600</span>\n",
       "                    <span style=\"color: #00ff00; text-decoration-color: #00ff00; font-style: italic\">True</span>         <span style=\"color: #ff0000; text-decoration-color: #ff0000; font-style: italic\">False</span>          <span style=\"color: #008080; text-decoration-color: #008080; font-weight: bold\">0.002620</span>\n",
       "       <span style=\"color: #00ff00; text-decoration-color: #00ff00; font-style: italic\">True</span>         <span style=\"color: #ff0000; text-decoration-color: #ff0000; font-style: italic\">False</span>        <span style=\"color: #ff0000; text-decoration-color: #ff0000; font-style: italic\">False</span>          <span style=\"color: #008080; text-decoration-color: #008080; font-weight: bold\">0.387568</span>\n",
       "<span style=\"color: #00ff00; text-decoration-color: #00ff00; font-style: italic\">True</span>   <span style=\"color: #ff0000; text-decoration-color: #ff0000; font-style: italic\">False</span>        <span style=\"color: #ff0000; text-decoration-color: #ff0000; font-style: italic\">False</span>        <span style=\"color: #ff0000; text-decoration-color: #ff0000; font-style: italic\">False</span>          <span style=\"color: #008080; text-decoration-color: #008080; font-weight: bold\">0.125483</span>\n",
       "                                 <span style=\"color: #00ff00; text-decoration-color: #00ff00; font-style: italic\">True</span>           <span style=\"color: #008080; text-decoration-color: #008080; font-weight: bold\">0.020068</span>\n",
       "                    <span style=\"color: #00ff00; text-decoration-color: #00ff00; font-style: italic\">True</span>         <span style=\"color: #ff0000; text-decoration-color: #ff0000; font-style: italic\">False</span>          <span style=\"color: #008080; text-decoration-color: #008080; font-weight: bold\">0.000000</span>\n",
       "       <span style=\"color: #00ff00; text-decoration-color: #00ff00; font-style: italic\">True</span>         <span style=\"color: #ff0000; text-decoration-color: #ff0000; font-style: italic\">False</span>        <span style=\"color: #ff0000; text-decoration-color: #ff0000; font-style: italic\">False</span>          <span style=\"color: #008080; text-decoration-color: #008080; font-weight: bold\">0.339938</span>\n",
       "dtype: float64,\n",
       "    <span style=\"color: #008080; text-decoration-color: #008080; font-weight: bold\">1.0</span>\n",
       "<span style=\"font-weight: bold\">)</span>\n",
       "</pre>\n"
      ],
      "text/plain": [
       "\n",
       "\u001b[1m(\u001b[0m\n",
       "    age_0  workclass_0  workclass_1  workclass_3\n",
       "\u001b[3;91mFalse\u001b[0m  \u001b[3;91mFalse\u001b[0m        \u001b[3;91mFalse\u001b[0m        \u001b[3;91mFalse\u001b[0m          \u001b[1;36m0.093723\u001b[0m\n",
       "                                 \u001b[3;92mTrue\u001b[0m           \u001b[1;36m0.030600\u001b[0m\n",
       "                    \u001b[3;92mTrue\u001b[0m         \u001b[3;91mFalse\u001b[0m          \u001b[1;36m0.002620\u001b[0m\n",
       "       \u001b[3;92mTrue\u001b[0m         \u001b[3;91mFalse\u001b[0m        \u001b[3;91mFalse\u001b[0m          \u001b[1;36m0.387568\u001b[0m\n",
       "\u001b[3;92mTrue\u001b[0m   \u001b[3;91mFalse\u001b[0m        \u001b[3;91mFalse\u001b[0m        \u001b[3;91mFalse\u001b[0m          \u001b[1;36m0.125483\u001b[0m\n",
       "                                 \u001b[3;92mTrue\u001b[0m           \u001b[1;36m0.020068\u001b[0m\n",
       "                    \u001b[3;92mTrue\u001b[0m         \u001b[3;91mFalse\u001b[0m          \u001b[1;36m0.000000\u001b[0m\n",
       "       \u001b[3;92mTrue\u001b[0m         \u001b[3;91mFalse\u001b[0m        \u001b[3;91mFalse\u001b[0m          \u001b[1;36m0.339938\u001b[0m\n",
       "dtype: float64,\n",
       "    \u001b[1;36m1.0\u001b[0m\n",
       "\u001b[1m)\u001b[0m\n"
      ]
     },
     "metadata": {},
     "output_type": "display_data"
    }
   ],
   "source": [
    "noisy_marginal = marginal + noise\n",
    "noisy_marginal = noisy_marginal.clip(0)\n",
    "noisy_marginal = noisy_marginal / noisy_marginal.sum()\n",
    "noisy_marginal, noisy_marginal.sum()"
   ]
  },
  {
   "cell_type": "code",
   "execution_count": null,
   "metadata": {},
   "outputs": [
    {
     "data": {
      "text/html": [
       "<pre style=\"white-space:pre;overflow-x:auto;line-height:normal;font-family:Menlo,'DejaVu Sans Mono',consolas,'Courier New',monospace\"><span style=\"color: #008080; text-decoration-color: #008080; font-weight: bold\">320.0</span>\n",
       "</pre>\n"
      ],
      "text/plain": [
       "\u001b[1;36m320.0\u001b[0m\n"
      ]
     },
     "metadata": {},
     "output_type": "display_data"
    }
   ],
   "source": [
    "noise_scale"
   ]
  },
  {
   "cell_type": "code",
   "execution_count": null,
   "metadata": {},
   "outputs": [
    {
     "data": {
      "text/html": [
       "<pre style=\"white-space:pre;overflow-x:auto;line-height:normal;font-family:Menlo,'DejaVu Sans Mono',consolas,'Courier New',monospace\"><span style=\"color: #008080; text-decoration-color: #008080; font-weight: bold\">1628.0</span>\n",
       "</pre>\n"
      ],
      "text/plain": [
       "\u001b[1;36m1628.0\u001b[0m\n"
      ]
     },
     "metadata": {},
     "output_type": "display_data"
    }
   ],
   "source": [
    "len(bin) / len(marginal)"
   ]
  },
  {
   "cell_type": "code",
   "execution_count": null,
   "metadata": {},
   "outputs": [],
   "source": [
    "def calc_noisy_marginal(data: pd.DataFrame):\n",
    "    marginal = data.groupby(list(data.keys())).size()\n",
    "    noise_scale = 2*(d - k) / e2\n",
    "    noise = laplace.rvs(loc=0, scale=noise_scale, size=marginal.shape)"
   ]
  },
  {
   "cell_type": "code",
   "execution_count": null,
   "metadata": {},
   "outputs": [
    {
     "data": {
      "text/html": [
       "<pre style=\"white-space:pre;overflow-x:auto;line-height:normal;font-family:Menlo,'DejaVu Sans Mono',consolas,'Courier New',monospace\"><span style=\"font-weight: bold\">(</span><span style=\"color: #008080; text-decoration-color: #008080; font-weight: bold\">13024</span>, <span style=\"color: #008080; text-decoration-color: #008080; font-weight: bold\">146</span><span style=\"font-weight: bold\">)</span>\n",
       "</pre>\n"
      ],
      "text/plain": [
       "\u001b[1m(\u001b[0m\u001b[1;36m13024\u001b[0m, \u001b[1;36m146\u001b[0m\u001b[1m)\u001b[0m\n"
      ]
     },
     "metadata": {},
     "output_type": "display_data"
    }
   ],
   "source": [
    "n, d = bin.shape\n",
    "n, d"
   ]
  },
  {
   "cell_type": "code",
   "execution_count": null,
   "metadata": {},
   "outputs": [
    {
     "data": {
      "text/html": [
       "<pre style=\"white-space:pre;overflow-x:auto;line-height:normal;font-family:Menlo,'DejaVu Sans Mono',consolas,'Courier New',monospace\">\n",
       "age_0  workclass_0  workclass_1  workclass_3\n",
       "<span style=\"color: #ff0000; text-decoration-color: #ff0000; font-style: italic\">False</span>  <span style=\"color: #ff0000; text-decoration-color: #ff0000; font-style: italic\">False</span>        <span style=\"color: #ff0000; text-decoration-color: #ff0000; font-style: italic\">False</span>        <span style=\"color: #ff0000; text-decoration-color: #ff0000; font-style: italic\">False</span>          <span style=\"color: #008080; text-decoration-color: #008080; font-weight: bold\">1227</span>\n",
       "                                 <span style=\"color: #00ff00; text-decoration-color: #00ff00; font-style: italic\">True</span>            <span style=\"color: #008080; text-decoration-color: #008080; font-weight: bold\">193</span>\n",
       "                    <span style=\"color: #00ff00; text-decoration-color: #00ff00; font-style: italic\">True</span>         <span style=\"color: #ff0000; text-decoration-color: #ff0000; font-style: italic\">False</span>           <span style=\"color: #008080; text-decoration-color: #008080; font-weight: bold\">483</span>\n",
       "       <span style=\"color: #00ff00; text-decoration-color: #00ff00; font-style: italic\">True</span>         <span style=\"color: #ff0000; text-decoration-color: #ff0000; font-style: italic\">False</span>        <span style=\"color: #ff0000; text-decoration-color: #ff0000; font-style: italic\">False</span>          <span style=\"color: #008080; text-decoration-color: #008080; font-weight: bold\">4563</span>\n",
       "<span style=\"color: #00ff00; text-decoration-color: #00ff00; font-style: italic\">True</span>   <span style=\"color: #ff0000; text-decoration-color: #ff0000; font-style: italic\">False</span>        <span style=\"color: #ff0000; text-decoration-color: #ff0000; font-style: italic\">False</span>        <span style=\"color: #ff0000; text-decoration-color: #ff0000; font-style: italic\">False</span>          <span style=\"color: #008080; text-decoration-color: #008080; font-weight: bold\">1261</span>\n",
       "                                 <span style=\"color: #00ff00; text-decoration-color: #00ff00; font-style: italic\">True</span>            <span style=\"color: #008080; text-decoration-color: #008080; font-weight: bold\">211</span>\n",
       "                    <span style=\"color: #00ff00; text-decoration-color: #00ff00; font-style: italic\">True</span>         <span style=\"color: #ff0000; text-decoration-color: #ff0000; font-style: italic\">False</span>           <span style=\"color: #008080; text-decoration-color: #008080; font-weight: bold\">538</span>\n",
       "       <span style=\"color: #00ff00; text-decoration-color: #00ff00; font-style: italic\">True</span>         <span style=\"color: #ff0000; text-decoration-color: #ff0000; font-style: italic\">False</span>        <span style=\"color: #ff0000; text-decoration-color: #ff0000; font-style: italic\">False</span>          <span style=\"color: #008080; text-decoration-color: #008080; font-weight: bold\">4548</span>\n",
       "dtype: int64\n",
       "</pre>\n"
      ],
      "text/plain": [
       "\n",
       "age_0  workclass_0  workclass_1  workclass_3\n",
       "\u001b[3;91mFalse\u001b[0m  \u001b[3;91mFalse\u001b[0m        \u001b[3;91mFalse\u001b[0m        \u001b[3;91mFalse\u001b[0m          \u001b[1;36m1227\u001b[0m\n",
       "                                 \u001b[3;92mTrue\u001b[0m            \u001b[1;36m193\u001b[0m\n",
       "                    \u001b[3;92mTrue\u001b[0m         \u001b[3;91mFalse\u001b[0m           \u001b[1;36m483\u001b[0m\n",
       "       \u001b[3;92mTrue\u001b[0m         \u001b[3;91mFalse\u001b[0m        \u001b[3;91mFalse\u001b[0m          \u001b[1;36m4563\u001b[0m\n",
       "\u001b[3;92mTrue\u001b[0m   \u001b[3;91mFalse\u001b[0m        \u001b[3;91mFalse\u001b[0m        \u001b[3;91mFalse\u001b[0m          \u001b[1;36m1261\u001b[0m\n",
       "                                 \u001b[3;92mTrue\u001b[0m            \u001b[1;36m211\u001b[0m\n",
       "                    \u001b[3;92mTrue\u001b[0m         \u001b[3;91mFalse\u001b[0m           \u001b[1;36m538\u001b[0m\n",
       "       \u001b[3;92mTrue\u001b[0m         \u001b[3;91mFalse\u001b[0m        \u001b[3;91mFalse\u001b[0m          \u001b[1;36m4548\u001b[0m\n",
       "dtype: int64\n"
      ]
     },
     "metadata": {},
     "output_type": "display_data"
    }
   ],
   "source": [
    "x = \"age_0\"\n",
    "p = [\"workclass_0\", \"workclass_1\", \"workclass_3\"]\n",
    "\n",
    "joint = bin.groupby([x] + p).size()\n",
    "joint"
   ]
  },
  {
   "cell_type": "code",
   "execution_count": null,
   "metadata": {},
   "outputs": [
    {
     "data": {
      "text/html": [
       "<pre style=\"white-space:pre;overflow-x:auto;line-height:normal;font-family:Menlo,'DejaVu Sans Mono',consolas,'Courier New',monospace\">\n",
       "age_0\n",
       "<span style=\"color: #ff0000; text-decoration-color: #ff0000; font-style: italic\">False</span>    <span style=\"color: #008080; text-decoration-color: #008080; font-weight: bold\">6466</span>\n",
       "<span style=\"color: #00ff00; text-decoration-color: #00ff00; font-style: italic\">True</span>     <span style=\"color: #008080; text-decoration-color: #008080; font-weight: bold\">6558</span>\n",
       "dtype: int64\n",
       "</pre>\n"
      ],
      "text/plain": [
       "\n",
       "age_0\n",
       "\u001b[3;91mFalse\u001b[0m    \u001b[1;36m6466\u001b[0m\n",
       "\u001b[3;92mTrue\u001b[0m     \u001b[1;36m6558\u001b[0m\n",
       "dtype: int64\n"
      ]
     },
     "metadata": {},
     "output_type": "display_data"
    }
   ],
   "source": [
    "x_marginal = joint.groupby(x).sum()\n",
    "\n",
    "x_marginal"
   ]
  },
  {
   "cell_type": "code",
   "execution_count": null,
   "metadata": {},
   "outputs": [
    {
     "data": {
      "text/html": [
       "<pre style=\"white-space:pre;overflow-x:auto;line-height:normal;font-family:Menlo,'DejaVu Sans Mono',consolas,'Courier New',monospace\">\n",
       "workclass_0  workclass_1  workclass_3\n",
       "<span style=\"color: #ff0000; text-decoration-color: #ff0000; font-style: italic\">False</span>        <span style=\"color: #ff0000; text-decoration-color: #ff0000; font-style: italic\">False</span>        <span style=\"color: #ff0000; text-decoration-color: #ff0000; font-style: italic\">False</span>          <span style=\"color: #008080; text-decoration-color: #008080; font-weight: bold\">2488</span>\n",
       "                          <span style=\"color: #00ff00; text-decoration-color: #00ff00; font-style: italic\">True</span>            <span style=\"color: #008080; text-decoration-color: #008080; font-weight: bold\">404</span>\n",
       "             <span style=\"color: #00ff00; text-decoration-color: #00ff00; font-style: italic\">True</span>         <span style=\"color: #ff0000; text-decoration-color: #ff0000; font-style: italic\">False</span>          <span style=\"color: #008080; text-decoration-color: #008080; font-weight: bold\">1021</span>\n",
       "<span style=\"color: #00ff00; text-decoration-color: #00ff00; font-style: italic\">True</span>         <span style=\"color: #ff0000; text-decoration-color: #ff0000; font-style: italic\">False</span>        <span style=\"color: #ff0000; text-decoration-color: #ff0000; font-style: italic\">False</span>          <span style=\"color: #008080; text-decoration-color: #008080; font-weight: bold\">9111</span>\n",
       "dtype: int64\n",
       "</pre>\n"
      ],
      "text/plain": [
       "\n",
       "workclass_0  workclass_1  workclass_3\n",
       "\u001b[3;91mFalse\u001b[0m        \u001b[3;91mFalse\u001b[0m        \u001b[3;91mFalse\u001b[0m          \u001b[1;36m2488\u001b[0m\n",
       "                          \u001b[3;92mTrue\u001b[0m            \u001b[1;36m404\u001b[0m\n",
       "             \u001b[3;92mTrue\u001b[0m         \u001b[3;91mFalse\u001b[0m          \u001b[1;36m1021\u001b[0m\n",
       "\u001b[3;92mTrue\u001b[0m         \u001b[3;91mFalse\u001b[0m        \u001b[3;91mFalse\u001b[0m          \u001b[1;36m9111\u001b[0m\n",
       "dtype: int64\n"
      ]
     },
     "metadata": {},
     "output_type": "display_data"
    }
   ],
   "source": [
    "p_marginal = joint.groupby(p).sum()\n",
    "\n",
    "p_marginal"
   ]
  },
  {
   "cell_type": "code",
   "execution_count": null,
   "metadata": {},
   "outputs": [
    {
     "data": {
      "text/html": [
       "<pre style=\"white-space:pre;overflow-x:auto;line-height:normal;font-family:Menlo,'DejaVu Sans Mono',consolas,'Courier New',monospace\">\n",
       "<span style=\"color: #800080; text-decoration-color: #800080; font-weight: bold\">array</span><span style=\"font-weight: bold\">([[</span><span style=\"color: #008080; text-decoration-color: #008080; font-weight: bold\">0.09421069</span>, <span style=\"color: #008080; text-decoration-color: #008080; font-weight: bold\">0.09682125</span><span style=\"font-weight: bold\">]</span>,\n",
       "       <span style=\"font-weight: bold\">[</span><span style=\"color: #008080; text-decoration-color: #008080; font-weight: bold\">0.0148188</span> , <span style=\"color: #008080; text-decoration-color: #008080; font-weight: bold\">0.01620086</span><span style=\"font-weight: bold\">]</span>,\n",
       "       <span style=\"font-weight: bold\">[</span><span style=\"color: #008080; text-decoration-color: #008080; font-weight: bold\">0.03708538</span>, <span style=\"color: #008080; text-decoration-color: #008080; font-weight: bold\">0.04130835</span><span style=\"font-weight: bold\">]</span>,\n",
       "       <span style=\"font-weight: bold\">[</span><span style=\"color: #008080; text-decoration-color: #008080; font-weight: bold\">0.35035319</span>, <span style=\"color: #008080; text-decoration-color: #008080; font-weight: bold\">0.34920147</span><span style=\"font-weight: bold\">]])</span>\n",
       "</pre>\n"
      ],
      "text/plain": [
       "\n",
       "\u001b[1;35marray\u001b[0m\u001b[1m(\u001b[0m\u001b[1m[\u001b[0m\u001b[1m[\u001b[0m\u001b[1;36m0.09421069\u001b[0m, \u001b[1;36m0.09682125\u001b[0m\u001b[1m]\u001b[0m,\n",
       "       \u001b[1m[\u001b[0m\u001b[1;36m0.0148188\u001b[0m , \u001b[1;36m0.01620086\u001b[0m\u001b[1m]\u001b[0m,\n",
       "       \u001b[1m[\u001b[0m\u001b[1;36m0.03708538\u001b[0m, \u001b[1;36m0.04130835\u001b[0m\u001b[1m]\u001b[0m,\n",
       "       \u001b[1m[\u001b[0m\u001b[1;36m0.35035319\u001b[0m, \u001b[1;36m0.34920147\u001b[0m\u001b[1m]\u001b[0m\u001b[1m]\u001b[0m\u001b[1m)\u001b[0m\n"
      ]
     },
     "metadata": {},
     "output_type": "display_data"
    }
   ],
   "source": [
    "contigency = pd.pivot(pd.DataFrame(bin.groupby([x] + p).size()).reset_index(), p, x).to_numpy(dtype=\"float\")\n",
    "contigency /= contigency.sum()\n",
    "contigency"
   ]
  },
  {
   "cell_type": "code",
   "execution_count": null,
   "metadata": {},
   "outputs": [
    {
     "data": {
      "text/html": [
       "<pre style=\"white-space:pre;overflow-x:auto;line-height:normal;font-family:Menlo,'DejaVu Sans Mono',consolas,'Courier New',monospace\"><span style=\"color: #800080; text-decoration-color: #800080; font-weight: bold\">array</span><span style=\"font-weight: bold\">([</span><span style=\"color: #008080; text-decoration-color: #008080; font-weight: bold\">0.49646806</span>, <span style=\"color: #008080; text-decoration-color: #008080; font-weight: bold\">0.50353194</span><span style=\"font-weight: bold\">])</span>\n",
       "</pre>\n"
      ],
      "text/plain": [
       "\u001b[1;35marray\u001b[0m\u001b[1m(\u001b[0m\u001b[1m[\u001b[0m\u001b[1;36m0.49646806\u001b[0m, \u001b[1;36m0.50353194\u001b[0m\u001b[1m]\u001b[0m\u001b[1m)\u001b[0m\n"
      ]
     },
     "metadata": {},
     "output_type": "display_data"
    }
   ],
   "source": [
    "x_marginal = contigency.sum(axis=0)\n",
    "x_marginal"
   ]
  },
  {
   "cell_type": "code",
   "execution_count": null,
   "metadata": {},
   "outputs": [
    {
     "data": {
      "text/html": [
       "<pre style=\"white-space:pre;overflow-x:auto;line-height:normal;font-family:Menlo,'DejaVu Sans Mono',consolas,'Courier New',monospace\"><span style=\"color: #800080; text-decoration-color: #800080; font-weight: bold\">array</span><span style=\"font-weight: bold\">([</span><span style=\"color: #008080; text-decoration-color: #008080; font-weight: bold\">0.19103194</span>, <span style=\"color: #008080; text-decoration-color: #008080; font-weight: bold\">0.03101966</span>, <span style=\"color: #008080; text-decoration-color: #008080; font-weight: bold\">0.07839373</span>, <span style=\"color: #008080; text-decoration-color: #008080; font-weight: bold\">0.69955467</span><span style=\"font-weight: bold\">])</span>\n",
       "</pre>\n"
      ],
      "text/plain": [
       "\u001b[1;35marray\u001b[0m\u001b[1m(\u001b[0m\u001b[1m[\u001b[0m\u001b[1;36m0.19103194\u001b[0m, \u001b[1;36m0.03101966\u001b[0m, \u001b[1;36m0.07839373\u001b[0m, \u001b[1;36m0.69955467\u001b[0m\u001b[1m]\u001b[0m\u001b[1m)\u001b[0m\n"
      ]
     },
     "metadata": {},
     "output_type": "display_data"
    }
   ],
   "source": [
    "p_marginal = contigency.sum(axis=1)\n",
    "p_marginal"
   ]
  },
  {
   "cell_type": "code",
   "execution_count": null,
   "metadata": {},
   "outputs": [
    {
     "data": {
      "text/html": [
       "<pre style=\"white-space:pre;overflow-x:auto;line-height:normal;font-family:Menlo,'DejaVu Sans Mono',consolas,'Courier New',monospace\"><span style=\"color: #008080; text-decoration-color: #008080; font-weight: bold\">0.00019971752759421221</span>\n",
       "</pre>\n"
      ],
      "text/plain": [
       "\u001b[1;36m0.00019971752759421221\u001b[0m\n"
      ]
     },
     "metadata": {},
     "output_type": "display_data"
    }
   ],
   "source": [
    "(contigency*np.log2(contigency/np.outer(p_marginal, x_marginal))).sum()"
   ]
  },
  {
   "cell_type": "code",
   "execution_count": null,
   "metadata": {},
   "outputs": [],
   "source": [
    "%load_ext line_profiler"
   ]
  },
  {
   "cell_type": "code",
   "execution_count": null,
   "metadata": {},
   "outputs": [
    {
     "name": "stdout",
     "output_type": "stream",
     "text": [
      "4.97 ms ± 77.3 µs per loop (mean ± std. dev. of 7 runs, 100 loops each)\n"
     ]
    }
   ],
   "source": [
    "par = [bin[pi] for pi in p]\n",
    "chld = bin[x]\n",
    "%timeit pd.crosstab(par, chld)"
   ]
  },
  {
   "cell_type": "code",
   "execution_count": null,
   "metadata": {},
   "outputs": [
    {
     "name": "stdout",
     "output_type": "stream",
     "text": [
      "4.01 ms ± 7.78 µs per loop (mean ± std. dev. of 7 runs, 100 loops each)\n"
     ]
    }
   ],
   "source": [
    "%%timeit \n",
    "joint_dist = bin.groupby([x] + p).size()\n",
    "contigency_pd = pd.DataFrame(joint_dist).reset_index()\n",
    "contigency_pd = pd.pivot(contigency_pd, p, x)"
   ]
  },
  {
   "cell_type": "code",
   "execution_count": null,
   "metadata": {},
   "outputs": [
    {
     "name": "stdout",
     "output_type": "stream",
     "text": [
      "1.28 ms ± 1.55 µs per loop (mean ± std. dev. of 7 runs, 1000 loops each)\n"
     ]
    }
   ],
   "source": [
    "%timeit joint_dist = bin.groupby([x] + p).size()\n"
   ]
  },
  {
   "cell_type": "code",
   "execution_count": null,
   "metadata": {},
   "outputs": [
    {
     "name": "stdout",
     "output_type": "stream",
     "text": [
      "Timer unit: 1e-06 s\n",
      "\n",
      "Total time: 0.010258 s\n",
      "File: /tmp/ipykernel_294820/872837184.py\n",
      "Function: calc_mutual_information at line 1\n",
      "\n",
      "Line #      Hits         Time  Per Hit   % Time  Line Contents\n",
      "==============================================================\n",
      "     1                                           def calc_mutual_information(data: pd.DataFrame, x: str, p: list[str]):\n",
      "     2         1       3669.0   3669.0     35.8      joint_dist = data.groupby([x] + p).size()\n",
      "     3         1       2383.0   2383.0     23.2      contigency_pd = pd.DataFrame(joint_dist).reset_index()\n",
      "     4         1       4109.0   4109.0     40.1      contigency_pd = pd.pivot(contigency_pd, p, x)\n",
      "     5                                           \n",
      "     6         1         29.0     29.0      0.3      contigency = contigency_pd.to_numpy(dtype=\"float\")\n",
      "     7         1         13.0     13.0      0.1      cg = contigency / contigency.sum()\n",
      "     8                                           \n",
      "     9                                               # Marginals\n",
      "    10         1          5.0      5.0      0.0      x_mar = contigency.sum(axis=0)\n",
      "    11         1          5.0      5.0      0.0      x_mar /= x_mar.sum()\n",
      "    12         1          3.0      3.0      0.0      p_mar = contigency.sum(axis=1)\n",
      "    13         1          5.0      5.0      0.0      p_mar /= p_mar.sum()\n",
      "    14                                           \n",
      "    15         1         37.0     37.0      0.4      return np.sum(cg*np.log2(cg/np.outer(p_mar, x_mar)))"
     ]
    }
   ],
   "source": [
    "def calc_mutual_information(data: pd.DataFrame, x: str, p: list[str]):\n",
    "    joint_dist = data.groupby([x] + p).size()\n",
    "    contigency_pd = pd.DataFrame(joint_dist).reset_index()\n",
    "    contigency_pd = pd.pivot(contigency_pd, p, x)\n",
    "\n",
    "    contigency = contigency_pd.to_numpy(dtype=\"float\")\n",
    "    cg = contigency / contigency.sum()\n",
    "\n",
    "    # Marginals\n",
    "    x_mar = contigency.sum(axis=0)\n",
    "    x_mar /= x_mar.sum()\n",
    "    p_mar = contigency.sum(axis=1)\n",
    "    p_mar /= p_mar.sum()\n",
    "\n",
    "    return np.sum(cg*np.log2(cg/np.outer(p_mar, x_mar)))\n",
    "\n",
    "\n",
    "%lprun -f calc_mutual_information calc_mutual_information(bin, x, p)\n",
    "# calc_mutual_information(bin, x, p)"
   ]
  },
  {
   "cell_type": "code",
   "execution_count": null,
   "metadata": {},
   "outputs": [
    {
     "name": "stdout",
     "output_type": "stream",
     "text": [
      "2: 145\n",
      "3: 144\n",
      "4: 429\n",
      "5: 852\n",
      "6: 1410\n",
      "7: 2100\n",
      "8: 2919\n",
      "9: 3864\n",
      "10: 4932\n",
      "11: 6120\n",
      "12: 7425\n",
      "13: 8844\n",
      "14: 10374\n",
      "15: 12012\n",
      "16: 13755\n",
      "17: 15600\n",
      "18: 17544\n",
      "19: 19584\n",
      "20: 21717\n",
      "21: 23940\n",
      "22: 26250\n",
      "23: 28644\n",
      "24: 31119\n",
      "25: 33672\n",
      "26: 36300\n",
      "27: 39000\n",
      "28: 41769\n",
      "29: 44604\n",
      "30: 47502\n",
      "31: 50460\n",
      "32: 53475\n",
      "33: 56544\n",
      "34: 59664\n",
      "35: 62832\n",
      "36: 66045\n",
      "37: 69300\n",
      "38: 72594\n",
      "39: 75924\n",
      "40: 79287\n",
      "41: 82680\n",
      "42: 86100\n",
      "43: 89544\n",
      "44: 93009\n",
      "45: 96492\n",
      "46: 99990\n",
      "47: 103500\n",
      "48: 107019\n",
      "49: 110544\n",
      "50: 114072\n",
      "51: 117600\n",
      "52: 121125\n",
      "53: 124644\n",
      "54: 128154\n",
      "55: 131652\n",
      "56: 135135\n",
      "57: 138600\n",
      "58: 142044\n",
      "59: 145464\n",
      "60: 148857\n",
      "61: 152220\n",
      "62: 155550\n",
      "63: 158844\n",
      "64: 162099\n",
      "65: 165312\n",
      "66: 168480\n",
      "67: 171600\n",
      "68: 174669\n",
      "69: 177684\n",
      "70: 180642\n",
      "71: 183540\n",
      "72: 186375\n",
      "73: 189144\n",
      "74: 191844\n",
      "75: 194472\n",
      "76: 197025\n",
      "77: 199500\n",
      "78: 201894\n",
      "79: 204204\n",
      "80: 206427\n",
      "81: 208560\n",
      "82: 210600\n",
      "83: 212544\n",
      "84: 214389\n",
      "85: 216132\n",
      "86: 217770\n",
      "87: 219300\n",
      "88: 220719\n",
      "89: 222024\n",
      "90: 223212\n",
      "91: 224280\n",
      "92: 225225\n",
      "93: 226044\n",
      "94: 226734\n",
      "95: 227292\n",
      "96: 227715\n",
      "97: 228000\n",
      "98: 228144\n",
      "99: 228144\n",
      "100: 227997\n",
      "101: 227700\n",
      "102: 227250\n",
      "103: 226644\n",
      "104: 225879\n",
      "105: 224952\n",
      "106: 223860\n",
      "107: 222600\n",
      "108: 221169\n",
      "109: 219564\n",
      "110: 217782\n",
      "111: 215820\n",
      "112: 213675\n",
      "113: 211344\n",
      "114: 208824\n",
      "115: 206112\n",
      "116: 203205\n",
      "117: 200100\n",
      "118: 196794\n",
      "119: 193284\n",
      "120: 189567\n",
      "121: 185640\n",
      "122: 181500\n",
      "123: 177144\n",
      "124: 172569\n",
      "125: 167772\n",
      "126: 162750\n",
      "127: 157500\n",
      "128: 152019\n",
      "129: 146304\n",
      "130: 140352\n",
      "131: 134160\n",
      "132: 127725\n",
      "133: 121044\n",
      "134: 114114\n",
      "135: 106932\n",
      "136: 99495\n",
      "137: 91800\n",
      "138: 83844\n",
      "139: 75624\n",
      "140: 67137\n",
      "141: 58380\n",
      "142: 49350\n",
      "143: 40044\n",
      "144: 30459\n",
      "145: 20592\n",
      "146: 10440\n",
      "18672085\n"
     ]
    }
   ],
   "source": [
    "import random\n",
    "from itertools import combinations as n_choose_k\n",
    "\n",
    "random.seed(0)\n",
    "\n",
    "def greedy_bayes(data: pd.DataFrame, k: int):\n",
    "    total_marginal = 0\n",
    "    N = {}\n",
    "    V = set()\n",
    "    A = set(data.keys())\n",
    "    d = len(data.keys())\n",
    "\n",
    "    # Add root randomly\n",
    "    x = random.sample(A, k=1)[0]\n",
    "    N[x] = []\n",
    "    V.add(x)\n",
    "\n",
    "    for _ in range(d - 1):\n",
    "        O = []\n",
    "\n",
    "        for x in A - V:\n",
    "            if len(V) > k:\n",
    "                O += [(x, c) for c in n_choose_k(V, k)]\n",
    "            else:\n",
    "                O += [(x, V.copy())]\n",
    "\n",
    "        x, p = O[0]\n",
    "        N[x] = p\n",
    "        V.add(x)\n",
    "        print(f\"{len(V)}: {len(O)}\")\n",
    "        total_marginal += len(O)\n",
    "\n",
    "    print(total_marginal)\n",
    "    return N, V\n",
    "\n",
    "greedy_bayes(bin, 2);"
   ]
  },
  {
   "cell_type": "code",
   "execution_count": null,
   "metadata": {},
   "outputs": [
    {
     "data": {
      "text/html": [
       "<pre style=\"white-space:pre;overflow-x:auto;line-height:normal;font-family:Menlo,'DejaVu Sans Mono',consolas,'Courier New',monospace\"><span style=\"color: #800080; text-decoration-color: #800080; font-weight: bold\">set</span><span style=\"font-weight: bold\">()</span>\n",
       "</pre>\n"
      ],
      "text/plain": [
       "\u001b[1;35mset\u001b[0m\u001b[1m(\u001b[0m\u001b[1m)\u001b[0m\n"
      ]
     },
     "metadata": {},
     "output_type": "display_data"
    }
   ],
   "source": [
    "set([1,2,3]) - set([1,2,3])"
   ]
  },
  {
   "cell_type": "code",
   "execution_count": null,
   "metadata": {},
   "outputs": [
    {
     "data": {
      "text/html": [
       "<pre style=\"white-space:pre;overflow-x:auto;line-height:normal;font-family:Menlo,'DejaVu Sans Mono',consolas,'Courier New',monospace\">\n",
       "age_0  workclass_0  workclass_1  workclass_3\n",
       "<span style=\"color: #ff0000; text-decoration-color: #ff0000; font-style: italic\">False</span>  <span style=\"color: #ff0000; text-decoration-color: #ff0000; font-style: italic\">False</span>        <span style=\"color: #ff0000; text-decoration-color: #ff0000; font-style: italic\">False</span>        <span style=\"color: #ff0000; text-decoration-color: #ff0000; font-style: italic\">False</span>          <span style=\"color: #008080; text-decoration-color: #008080; font-weight: bold\">1227</span>\n",
       "                                 <span style=\"color: #00ff00; text-decoration-color: #00ff00; font-style: italic\">True</span>            <span style=\"color: #008080; text-decoration-color: #008080; font-weight: bold\">193</span>\n",
       "                    <span style=\"color: #00ff00; text-decoration-color: #00ff00; font-style: italic\">True</span>         <span style=\"color: #ff0000; text-decoration-color: #ff0000; font-style: italic\">False</span>           <span style=\"color: #008080; text-decoration-color: #008080; font-weight: bold\">483</span>\n",
       "       <span style=\"color: #00ff00; text-decoration-color: #00ff00; font-style: italic\">True</span>         <span style=\"color: #ff0000; text-decoration-color: #ff0000; font-style: italic\">False</span>        <span style=\"color: #ff0000; text-decoration-color: #ff0000; font-style: italic\">False</span>          <span style=\"color: #008080; text-decoration-color: #008080; font-weight: bold\">4563</span>\n",
       "<span style=\"color: #00ff00; text-decoration-color: #00ff00; font-style: italic\">True</span>   <span style=\"color: #ff0000; text-decoration-color: #ff0000; font-style: italic\">False</span>        <span style=\"color: #ff0000; text-decoration-color: #ff0000; font-style: italic\">False</span>        <span style=\"color: #ff0000; text-decoration-color: #ff0000; font-style: italic\">False</span>          <span style=\"color: #008080; text-decoration-color: #008080; font-weight: bold\">1261</span>\n",
       "                                 <span style=\"color: #00ff00; text-decoration-color: #00ff00; font-style: italic\">True</span>            <span style=\"color: #008080; text-decoration-color: #008080; font-weight: bold\">211</span>\n",
       "                    <span style=\"color: #00ff00; text-decoration-color: #00ff00; font-style: italic\">True</span>         <span style=\"color: #ff0000; text-decoration-color: #ff0000; font-style: italic\">False</span>           <span style=\"color: #008080; text-decoration-color: #008080; font-weight: bold\">538</span>\n",
       "       <span style=\"color: #00ff00; text-decoration-color: #00ff00; font-style: italic\">True</span>         <span style=\"color: #ff0000; text-decoration-color: #ff0000; font-style: italic\">False</span>        <span style=\"color: #ff0000; text-decoration-color: #ff0000; font-style: italic\">False</span>          <span style=\"color: #008080; text-decoration-color: #008080; font-weight: bold\">4548</span>\n",
       "dtype: int64\n",
       "</pre>\n"
      ],
      "text/plain": [
       "\n",
       "age_0  workclass_0  workclass_1  workclass_3\n",
       "\u001b[3;91mFalse\u001b[0m  \u001b[3;91mFalse\u001b[0m        \u001b[3;91mFalse\u001b[0m        \u001b[3;91mFalse\u001b[0m          \u001b[1;36m1227\u001b[0m\n",
       "                                 \u001b[3;92mTrue\u001b[0m            \u001b[1;36m193\u001b[0m\n",
       "                    \u001b[3;92mTrue\u001b[0m         \u001b[3;91mFalse\u001b[0m           \u001b[1;36m483\u001b[0m\n",
       "       \u001b[3;92mTrue\u001b[0m         \u001b[3;91mFalse\u001b[0m        \u001b[3;91mFalse\u001b[0m          \u001b[1;36m4563\u001b[0m\n",
       "\u001b[3;92mTrue\u001b[0m   \u001b[3;91mFalse\u001b[0m        \u001b[3;91mFalse\u001b[0m        \u001b[3;91mFalse\u001b[0m          \u001b[1;36m1261\u001b[0m\n",
       "                                 \u001b[3;92mTrue\u001b[0m            \u001b[1;36m211\u001b[0m\n",
       "                    \u001b[3;92mTrue\u001b[0m         \u001b[3;91mFalse\u001b[0m           \u001b[1;36m538\u001b[0m\n",
       "       \u001b[3;92mTrue\u001b[0m         \u001b[3;91mFalse\u001b[0m        \u001b[3;91mFalse\u001b[0m          \u001b[1;36m4548\u001b[0m\n",
       "dtype: int64\n"
      ]
     },
     "metadata": {},
     "output_type": "display_data"
    }
   ],
   "source": [
    "joint_dist = bin.groupby([x] + p).size()\n",
    "joint_dist"
   ]
  },
  {
   "cell_type": "code",
   "execution_count": null,
   "metadata": {},
   "outputs": [
    {
     "data": {
      "text/html": [
       "<pre style=\"white-space:pre;overflow-x:auto;line-height:normal;font-family:Menlo,'DejaVu Sans Mono',consolas,'Courier New',monospace\">\n",
       "<span style=\"font-weight: bold\">&lt;</span><span style=\"color: #ff00ff; text-decoration-color: #ff00ff; font-weight: bold\">PandasArray</span><span style=\"font-weight: bold\">&gt;</span>\n",
       "<span style=\"font-weight: bold\">[</span><span style=\"color: #008080; text-decoration-color: #008080; font-weight: bold\">1227</span>, <span style=\"color: #008080; text-decoration-color: #008080; font-weight: bold\">483</span>, <span style=\"color: #008080; text-decoration-color: #008080; font-weight: bold\">4563</span>, <span style=\"color: #008080; text-decoration-color: #008080; font-weight: bold\">1261</span>, <span style=\"color: #008080; text-decoration-color: #008080; font-weight: bold\">538</span>, <span style=\"color: #008080; text-decoration-color: #008080; font-weight: bold\">4548</span><span style=\"font-weight: bold\">]</span>\n",
       "Length: <span style=\"color: #008080; text-decoration-color: #008080; font-weight: bold\">6</span>, dtype: int64\n",
       "</pre>\n"
      ],
      "text/plain": [
       "\n",
       "\u001b[1m<\u001b[0m\u001b[1;95mPandasArray\u001b[0m\u001b[1m>\u001b[0m\n",
       "\u001b[1m[\u001b[0m\u001b[1;36m1227\u001b[0m, \u001b[1;36m483\u001b[0m, \u001b[1;36m4563\u001b[0m, \u001b[1;36m1261\u001b[0m, \u001b[1;36m538\u001b[0m, \u001b[1;36m4548\u001b[0m\u001b[1m]\u001b[0m\n",
       "Length: \u001b[1;36m6\u001b[0m, dtype: int64\n"
      ]
     },
     "metadata": {},
     "output_type": "display_data"
    }
   ],
   "source": [
    "joint_dist.xs(False, level=\"workclass_3\").array"
   ]
  },
  {
   "cell_type": "code",
   "execution_count": null,
   "metadata": {},
   "outputs": [
    {
     "name": "stdout",
     "output_type": "stream",
     "text": [
      "1.46 ms ± 4.2 µs per loop (mean ± std. dev. of 7 runs, 1000 loops each)\n"
     ]
    }
   ],
   "source": [
    "%%timeit\n",
    "data = bin[[x] + p].to_numpy()\n",
    "domain = data.max(axis=0) + 1\n",
    "\n",
    "margin, _ = np.histogramdd(data, domain)\n",
    "margin_sum = margin.sum()\n",
    "\n",
    "x_idx = 0\n",
    "p_idx = tuple(range(1, len(p) + 1))\n",
    "\n",
    "j_mar = margin / margin_sum\n",
    "x_mar = np.sum(margin, axis=p_idx) / margin_sum\n",
    "p_mar = np.sum(margin, axis=x_idx) / margin_sum"
   ]
  },
  {
   "cell_type": "code",
   "execution_count": null,
   "metadata": {},
   "outputs": [
    {
     "data": {
      "text/html": [
       "<pre style=\"white-space:pre;overflow-x:auto;line-height:normal;font-family:Menlo,'DejaVu Sans Mono',consolas,'Courier New',monospace\"><span style=\"color: #800080; text-decoration-color: #800080; font-weight: bold\">array</span><span style=\"font-weight: bold\">([</span><span style=\"color: #008080; text-decoration-color: #008080; font-weight: bold\">12620</span>.,   <span style=\"color: #008080; text-decoration-color: #008080; font-weight: bold\">404</span>.<span style=\"font-weight: bold\">])</span>\n",
       "</pre>\n"
      ],
      "text/plain": [
       "\u001b[1;35marray\u001b[0m\u001b[1m(\u001b[0m\u001b[1m[\u001b[0m\u001b[1;36m12620\u001b[0m.,   \u001b[1;36m404\u001b[0m.\u001b[1m]\u001b[0m\u001b[1m)\u001b[0m\n"
      ]
     },
     "metadata": {},
     "output_type": "display_data"
    }
   ],
   "source": [
    "margin.sum(axis=tuple(range(len(p))))"
   ]
  },
  {
   "cell_type": "code",
   "execution_count": null,
   "metadata": {},
   "outputs": [
    {
     "name": "stdout",
     "output_type": "stream",
     "text": [
      "85.2 ns ± 0.231 ns per loop (mean ± std. dev. of 7 runs, 10000000 loops each)\n"
     ]
    }
   ],
   "source": [
    "x_mar = contigency.sum(axis=0)\n",
    "x_mar /= x_mar.sum()\n",
    "p_mar = contigency.sum(axis=1)\n",
    "p_mar /= p_mar.sum()\n",
    "\n",
    "return np.sum(cg*np.log2(cg/np.outer(p_mar, x_mar)))"
   ]
  },
  {
   "cell_type": "code",
   "execution_count": null,
   "metadata": {},
   "outputs": [],
   "source": []
  }
 ],
 "metadata": {
  "language_info": {
   "codemirror_mode": {
    "name": "ipython",
    "version": 3
   },
   "file_extension": ".py",
   "mimetype": "text/x-python",
   "name": "python",
   "nbconvert_exporter": "python",
   "pygments_lexer": "ipython3",
   "version": "3.10.5"
  },
  "vscode": {
   "interpreter": {
    "hash": "50661068d2d5c6ff1ce24ae701dfa73cc4ae117a223c3f7199e1fdb4656c8912"
   }
  }
 },
 "nbformat": 4,
 "nbformat_minor": 2
}
