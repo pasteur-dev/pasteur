{
 "cells": [
  {
   "cell_type": "code",
   "execution_count": null,
   "metadata": {},
   "outputs": [],
   "source": [
    "# Removes lint errors from VS Code\n",
    "from typing import Dict, TYPE_CHECKING, Tuple, List\n",
    "\n",
    "if TYPE_CHECKING:\n",
    "    import kedro\n",
    "\n",
    "    catalog: kedro.io.data_catalog.DataCatalog\n",
    "    session: kedro.framework.session.session.KedroSession\n",
    "    pipelines: Dict[str, kedro.pipeline.pipeline.Pipeline]\n"
   ]
  },
  {
   "cell_type": "code",
   "execution_count": null,
   "metadata": {},
   "outputs": [],
   "source": [
    "import os\n",
    "\n",
    "VIEW = os.getenv(\"DATASET_VIEW\") or \"tab_adult\"\n",
    "TABLE = os.getenv(\"DATASET_TABLE\") or \"table\"\n",
    "MULTI_PROCESS = (\n",
    "    os.getenv(\"MULTI_PROCESS\") if os.getenv(\"MULTI_PROCESS\") is not None else True\n",
    ")\n",
    "\n",
    "import numpy as np\n",
    "import pandas as pd\n",
    "from importlib import reload\n",
    "\n",
    "from pasteur.transform import TableTransformer\n",
    "\n",
    "bhr: pd.DataFrame = catalog.load(f\"{VIEW}.wrk.bhr_{TABLE}\")\n",
    "trn: TableTransformer = catalog.load(f\"{VIEW}.wrk.trn_{TABLE}\")\n",
    "random_state = catalog.load(\"params:random_state\")\n"
   ]
  },
  {
   "cell_type": "code",
   "execution_count": null,
   "metadata": {},
   "outputs": [],
   "source": [
    "# %load_ext line_profiler\n",
    "# %lprun -f calc_mutual_info calc_mutual_info(data, domain, x, p)\n",
    "\n",
    "attr_str = trn.get_attributes(\"bhr\", bhr)\n",
    "cols = list(bhr.columns)\n",
    "\n",
    "attr = []\n",
    "for a_cols in attr_str.values():\n",
    "    attr.append([cols.index(col) for col in a_cols])\n",
    "\n",
    "data = bhr.to_numpy(dtype=\"int16\")\n",
    "domain = data.max(axis=0) + 1"
   ]
  },
  {
   "cell_type": "code",
   "execution_count": null,
   "metadata": {},
   "outputs": [
    {
     "name": "stdout",
     "output_type": "stream",
     "text": [
      "4.74 ms ± 79.6 µs per loop (mean ± std. dev. of 7 runs, 100 loops each)\n"
     ]
    }
   ],
   "source": [
    "def calc_mutual_info(data: np.ndarray, domain: np.ndarray, x: list[int], p: list[int]):\n",
    "    sub_data = data[:, x + p]\n",
    "    sub_domain = domain[x + p]\n",
    "    margin, _ = np.histogramdd(sub_data, sub_domain)\n",
    "    margin /= margin.sum()\n",
    "    margin += 1e-24\n",
    "\n",
    "    x_idx = tuple(range(len(x)))\n",
    "    p_idx = tuple(range(-len(p), 0))\n",
    "\n",
    "    x_mar = np.sum(margin, axis=p_idx).reshape(-1)\n",
    "    p_mar = np.sum(margin, axis=x_idx).reshape(-1)\n",
    "    j_mar = margin.reshape((len(x_mar), len(p_mar)))\n",
    "\n",
    "    # margin.reshape((len(x_mar), len(p_mar)))\n",
    "    # margin.shape|\n",
    "    return np.sum(j_mar*np.log(j_mar/np.outer(x_mar, p_mar)))\n",
    "\n",
    "x = [11, 12, 13, 14]\n",
    "p = [22, 23, 24, 25]\n",
    "# %lprun -f calc_mutual_info calc_mutual_info(data, domain, x, p)\n",
    "dt = data.astype(dtype=\"int16\")\n",
    "%timeit calc_mutual_info(dt, domain, x, p)\n",
    "# calc_mutual_info(data, domain, x, p)"
   ]
  },
  {
   "cell_type": "code",
   "execution_count": null,
   "metadata": {},
   "outputs": [],
   "source": [
    "from functools import reduce\n",
    "\n",
    "n = len(data)\n",
    "d = len(attr)\n",
    "e1 = 0.3\n",
    "e2 = 0.7\n",
    "\n",
    "# Returns the height of a hierarchical attribute\n",
    "height = lambda a: len(attr[a])\n",
    "# Returns the domain of a hierarchical attribute at height h (h=0 is max)\n",
    "dom = lambda a, h: reduce(lambda k, l: k * l, [domain[c] for c in attr[a][:height(a) - h]], 1)\n",
    "# Picks an item from a set, sets are ordered by default now so it's deterministic\n",
    "pick_from = lambda V: next(iter(V))\n",
    "\n",
    "# Sets are tuples that contain the height of each attribute in them, or -1\n",
    "# if the attribute is not in them\n",
    "# create_pset = lambda a, h: tuple(h if i == a else -1 for i in range(len(attr)))\n",
    "add_to_pset = lambda z, a, h: tuple(h if i == a else c for i, c in enumerate(z))\n",
    "empty_pset = tuple(-1 for _ in range(len(attr)))\n",
    "\n",
    "def maximal_parent_sets(V: set[int], t: float) -> list[tuple[int, int]]:\n",
    "    if t < 1:\n",
    "        return []\n",
    "    if not V:\n",
    "        return [empty_pset]\n",
    "\n",
    "    S = set()\n",
    "    U = set()\n",
    "    x = pick_from(V)\n",
    "    for h in range(height(x)):\n",
    "        for z in maximal_parent_sets(V - {x}, t / dom(x, h)):\n",
    "            if z in U:\n",
    "                continue\n",
    "            \n",
    "            U.add(z)\n",
    "            S.add(add_to_pset(z, x, h))\n",
    "    \n",
    "    for z in maximal_parent_sets(V - {x}, t):\n",
    "        if z not in U:\n",
    "            S.add(z)\n",
    "    \n",
    "    return S"
   ]
  },
  {
   "cell_type": "code",
   "execution_count": null,
   "metadata": {},
   "outputs": [
    {
     "data": {
      "text/html": [
       "<pre style=\"white-space:pre;overflow-x:auto;line-height:normal;font-family:Menlo,'DejaVu Sans Mono',consolas,'Courier New',monospace\"><span style=\"font-weight: bold\">{(</span><span style=\"color: #008080; text-decoration-color: #008080; font-weight: bold\">0</span>, <span style=\"color: #008080; text-decoration-color: #008080; font-weight: bold\">0</span>, <span style=\"color: #008080; text-decoration-color: #008080; font-weight: bold\">0</span>, <span style=\"color: #008080; text-decoration-color: #008080; font-weight: bold\">0</span>, <span style=\"color: #008080; text-decoration-color: #008080; font-weight: bold\">0</span>, <span style=\"color: #008080; text-decoration-color: #008080; font-weight: bold\">0</span>, <span style=\"color: #008080; text-decoration-color: #008080; font-weight: bold\">0</span>, <span style=\"color: #008080; text-decoration-color: #008080; font-weight: bold\">0</span>, <span style=\"color: #008080; text-decoration-color: #008080; font-weight: bold\">0</span>, <span style=\"color: #008080; text-decoration-color: #008080; font-weight: bold\">0</span>, <span style=\"color: #008080; text-decoration-color: #008080; font-weight: bold\">0</span>, <span style=\"color: #008080; text-decoration-color: #008080; font-weight: bold\">0</span>, <span style=\"color: #008080; text-decoration-color: #008080; font-weight: bold\">0</span>, <span style=\"color: #008080; text-decoration-color: #008080; font-weight: bold\">0</span><span style=\"font-weight: bold\">)}</span>\n",
       "</pre>\n"
      ],
      "text/plain": [
       "\u001b[1m{\u001b[0m\u001b[1m(\u001b[0m\u001b[1;36m0\u001b[0m, \u001b[1;36m0\u001b[0m, \u001b[1;36m0\u001b[0m, \u001b[1;36m0\u001b[0m, \u001b[1;36m0\u001b[0m, \u001b[1;36m0\u001b[0m, \u001b[1;36m0\u001b[0m, \u001b[1;36m0\u001b[0m, \u001b[1;36m0\u001b[0m, \u001b[1;36m0\u001b[0m, \u001b[1;36m0\u001b[0m, \u001b[1;36m0\u001b[0m, \u001b[1;36m0\u001b[0m, \u001b[1;36m0\u001b[0m\u001b[1m)\u001b[0m\u001b[1m}\u001b[0m\n"
      ]
     },
     "metadata": {},
     "output_type": "display_data"
    }
   ],
   "source": [
    "def greedy_bayes(theta):\n",
    "    A = {a for a in range(len(attr))}\n",
    "    x1 = pick_from(D)\n",
    "    t = (n * e2) / (2 * d * theta)\n",
    "\n",
    "    V = {x1}\n",
    "    N = {(x1, empty_pset)}\n",
    "\n",
    "    for i in range(1, d):\n",
    "        O = {}\n",
    "        for x in A - V:\n",
    "            Tx = maximal_parent_sets(V, t / dom(x, 0))\n",
    "            for t in Tx:\n",
    "                O.add((x, t))\n",
    "            if not Tx:\n",
    "                O.add{(x, empty_pset)}\n",
    "    \n",
    "        t = pick_from(O) # FIXME\n",
    "        V.add(t[0])\n",
    "        N.add(t)"
   ]
  }
 ],
 "metadata": {
  "language_info": {
   "codemirror_mode": {
    "name": "ipython",
    "version": 3
   },
   "file_extension": ".py",
   "mimetype": "text/x-python",
   "name": "python",
   "nbconvert_exporter": "python",
   "pygments_lexer": "ipython3",
   "version": "3.10.6"
  },
  "vscode": {
   "interpreter": {
    "hash": "50661068d2d5c6ff1ce24ae701dfa73cc4ae117a223c3f7199e1fdb4656c8912"
   }
  }
 },
 "nbformat": 4,
 "nbformat_minor": 2
}
