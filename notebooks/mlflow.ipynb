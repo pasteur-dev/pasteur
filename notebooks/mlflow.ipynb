{
 "cells": [
  {
   "cell_type": "code",
   "execution_count": null,
   "metadata": {},
   "outputs": [
    {
     "name": "stdout",
     "output_type": "stream",
     "text": [
      "\u001b[0m\u001b[34mINFO    \u001b[0m Kedro project Pasteur                                                                                           \u001b[2m__init__.py\u001b[0m\u001b[2m:\u001b[0m\u001b[2m77\u001b[0m\n",
      "\u001b[0m\u001b[34mINFO    \u001b[0m Defined global variable \u001b[32m'context'\u001b[0m, \u001b[32m'session'\u001b[0m, \u001b[32m'catalog'\u001b[0m and \u001b[32m'pipelines'\u001b[0m                                         \u001b[2m__init__.py\u001b[0m\u001b[2m:\u001b[0m\u001b[2m78\u001b[0m\n",
      "\u001b[0m\u001b[34mINFO    \u001b[0m Registered line magic \u001b[32m'run_viz'\u001b[0m                                                                                 \u001b[2m__init__.py\u001b[0m\u001b[2m:\u001b[0m\u001b[2m84\u001b[0m\n",
      "\u001b[0m\u001b[34mINFO    \u001b[0m Registered line magic \u001b[32m'reload_kedro_mlflow'\u001b[0m                                                                     \u001b[2m__init__.py\u001b[0m\u001b[2m:\u001b[0m\u001b[2m84\u001b[0m\n"
     ]
    }
   ],
   "source": [
    "from pasteur.kedro.ipython import *\n",
    "register_kedro()"
   ]
  },
  {
   "cell_type": "code",
   "execution_count": null,
   "metadata": {},
   "outputs": [
    {
     "name": "stdout",
     "output_type": "stream",
     "text": [
      "The autoreload extension is already loaded. To reload it, use:\n",
      "  %reload_ext autoreload\n"
     ]
    }
   ],
   "source": [
    "%load_ext autoreload\n",
    "%autoreload 2"
   ]
  },
  {
   "cell_type": "code",
   "execution_count": null,
   "metadata": {},
   "outputs": [],
   "source": [
    "import mlflow"
   ]
  },
  {
   "cell_type": "code",
   "execution_count": null,
   "metadata": {},
   "outputs": [],
   "source": [
    "mlflow.set_tracking_uri(\"../data/reporting/flow\")"
   ]
  },
  {
   "cell_type": "code",
   "execution_count": null,
   "metadata": {},
   "outputs": [
    {
     "name": "stdout",
     "output_type": "stream",
     "text": [
      "\n",
      "\u001b[1m[\u001b[0m\n",
      "    \u001b[1m<\u001b[0m\u001b[1;95mExperiment:\u001b[0m\u001b[39m \u001b[0m\u001b[33martifact_location\u001b[0m\u001b[39m=\u001b[0m\u001b[32m'file:///mnt/ext/projects/pasteur/data/reporting/flow/1'\u001b[0m\u001b[39m, \u001b[0m\u001b[33mcreation_time\u001b[0m\u001b[39m=\u001b[0m\u001b[3;35mNone\u001b[0m\u001b[39m, \u001b[0m\u001b[33mexperiment_id\u001b[0m\u001b[39m=\u001b[0m\u001b[32m'1'\u001b[0m\u001b[39m, \u001b[0m\u001b[33mlast_update_time\u001b[0m\u001b[39m=\u001b[0m\u001b[3;35mNone\u001b[0m\u001b[39m, \u001b[0m\u001b[33mlifecycle_stage\u001b[0m\u001b[39m=\u001b[0m\u001b[32m'active'\u001b[0m\u001b[39m, \u001b[0m\u001b[33mname\u001b[0m\u001b[39m=\u001b[0m\u001b[32m'tab_adult'\u001b[0m\u001b[39m, \u001b[0m\u001b[33mtags\u001b[0m\u001b[39m=\u001b[0m\u001b[1;39m{\u001b[0m\u001b[1;39m}\u001b[0m\u001b[1m>\u001b[0m,\n",
      "    \u001b[1m<\u001b[0m\u001b[1;95mExperiment:\u001b[0m\u001b[39m \u001b[0m\u001b[33martifact_location\u001b[0m\u001b[39m=\u001b[0m\u001b[32m'file:///mnt/ext/projects/pasteur/data/reporting/flow/2'\u001b[0m\u001b[39m, \u001b[0m\u001b[33mcreation_time\u001b[0m\u001b[39m=\u001b[0m\u001b[3;35mNone\u001b[0m\u001b[39m, \u001b[0m\u001b[33mexperiment_id\u001b[0m\u001b[39m=\u001b[0m\u001b[32m'2'\u001b[0m\u001b[39m, \u001b[0m\u001b[33mlast_update_time\u001b[0m\u001b[39m=\u001b[0m\u001b[3;35mNone\u001b[0m\u001b[39m, \u001b[0m\u001b[33mlifecycle_stage\u001b[0m\u001b[39m=\u001b[0m\u001b[32m'active'\u001b[0m\u001b[39m, \u001b[0m\u001b[33mname\u001b[0m\u001b[39m=\u001b[0m\u001b[32m'mimic_tab_admissions'\u001b[0m\u001b[39m, \u001b[0m\u001b[33mtags\u001b[0m\u001b[39m=\u001b[0m\u001b[1;39m{\u001b[0m\u001b[1;39m}\u001b[0m\u001b[1m>\u001b[0m,\n",
      "    \u001b[1m<\u001b[0m\u001b[1;95mExperiment:\u001b[0m\u001b[39m \u001b[0m\u001b[33martifact_location\u001b[0m\u001b[39m=\u001b[0m\u001b[32m'file:///mnt/ext/projects/pasteur/data/reporting/flow/3'\u001b[0m\u001b[39m, \u001b[0m\u001b[33mcreation_time\u001b[0m\u001b[39m=\u001b[0m\u001b[3;35mNone\u001b[0m\u001b[39m, \u001b[0m\u001b[33mexperiment_id\u001b[0m\u001b[39m=\u001b[0m\u001b[32m'3'\u001b[0m\u001b[39m, \u001b[0m\u001b[33mlast_update_time\u001b[0m\u001b[39m=\u001b[0m\u001b[3;35mNone\u001b[0m\u001b[39m, \u001b[0m\u001b[33mlifecycle_stage\u001b[0m\u001b[39m=\u001b[0m\u001b[32m'active'\u001b[0m\u001b[39m, \u001b[0m\u001b[33mname\u001b[0m\u001b[39m=\u001b[0m\u001b[32m'mimic_mm_core'\u001b[0m\u001b[39m, \u001b[0m\u001b[33mtags\u001b[0m\u001b[39m=\u001b[0m\u001b[1;39m{\u001b[0m\u001b[1;39m}\u001b[0m\u001b[1m>\u001b[0m\n",
      "\u001b[1m]\u001b[0m\n"
     ]
    }
   ],
   "source": [
    "mlflow.list_experiments()"
   ]
  },
  {
   "cell_type": "code",
   "execution_count": null,
   "metadata": {},
   "outputs": [
    {
     "name": "stdout",
     "output_type": "stream",
     "text": [
      "\u001b[1m<\u001b[0m\u001b[1;95mExperiment:\u001b[0m\u001b[39m \u001b[0m\u001b[33martifact_location\u001b[0m\u001b[39m=\u001b[0m\u001b[32m'file:///mnt/ext/projects/pasteur/data/reporting/flow/1'\u001b[0m\u001b[39m, \u001b[0m\u001b[33mcreation_time\u001b[0m\u001b[39m=\u001b[0m\u001b[3;35mNone\u001b[0m\u001b[39m, \u001b[0m\u001b[33mexperiment_id\u001b[0m\u001b[39m=\u001b[0m\u001b[32m'1'\u001b[0m\u001b[39m, \u001b[0m\u001b[33mlast_update_time\u001b[0m\u001b[39m=\u001b[0m\u001b[3;35mNone\u001b[0m\u001b[39m, \u001b[0m\u001b[33mlifecycle_stage\u001b[0m\u001b[39m=\u001b[0m\u001b[32m'active'\u001b[0m\u001b[39m, \u001b[0m\u001b[33mname\u001b[0m\u001b[39m=\u001b[0m\u001b[32m'tab_adult'\u001b[0m\u001b[39m, \u001b[0m\u001b[33mtags\u001b[0m\u001b[39m=\u001b[0m\u001b[1;39m{\u001b[0m\u001b[1;39m}\u001b[0m\u001b[1m>\u001b[0m\n"
     ]
    }
   ],
   "source": [
    "mlflow.get_experiment_by_name(\"tab_adult\")"
   ]
  },
  {
   "cell_type": "code",
   "execution_count": null,
   "metadata": {},
   "outputs": [],
   "source": [
    "run = mlflow.list_run_infos(\"1\")[0]"
   ]
  },
  {
   "cell_type": "code",
   "execution_count": null,
   "metadata": {},
   "outputs": [
    {
     "name": "stdout",
     "output_type": "stream",
     "text": [
      "\n",
      "\u001b[1m{\u001b[0m\n",
      "    \u001b[32m'_run_uuid'\u001b[0m: \u001b[32m'4d00a7888da44b669a8b81b12f80f47d'\u001b[0m,\n",
      "    \u001b[32m'_run_id'\u001b[0m: \u001b[32m'4d00a7888da44b669a8b81b12f80f47d'\u001b[0m,\n",
      "    \u001b[32m'_experiment_id'\u001b[0m: \u001b[32m'1'\u001b[0m,\n",
      "    \u001b[32m'_user_id'\u001b[0m: \u001b[32m'dev'\u001b[0m,\n",
      "    \u001b[32m'_status'\u001b[0m: \u001b[32m'FINISHED'\u001b[0m,\n",
      "    \u001b[32m'_start_time'\u001b[0m: \u001b[1;36m1666132271204\u001b[0m,\n",
      "    \u001b[32m'_end_time'\u001b[0m: \u001b[1;36m1666132334818\u001b[0m,\n",
      "    \u001b[32m'_lifecycle_stage'\u001b[0m: \u001b[32m'active'\u001b[0m,\n",
      "    \u001b[32m'_artifact_uri'\u001b[0m: \u001b[32m'file:///mnt/ext/projects/pasteur/data/reporting/flow/1/4d00a7888da44b669a8b81b12f80f47d/artifacts'\u001b[0m\n",
      "\u001b[1m}\u001b[0m\n"
     ]
    }
   ],
   "source": [
    "run.__dict__"
   ]
  },
  {
   "cell_type": "code",
   "execution_count": null,
   "metadata": {},
   "outputs": [
    {
     "name": "stdout",
     "output_type": "stream",
     "text": [
      "\n",
      "\u001b[1m{\u001b[0m\n",
      "    \u001b[32m'_metric_objs'\u001b[0m: \u001b[1m[\u001b[0m\u001b[1m]\u001b[0m,\n",
      "    \u001b[32m'_metrics'\u001b[0m: \u001b[1m{\u001b[0m\u001b[1m}\u001b[0m,\n",
      "    \u001b[32m'_params'\u001b[0m: \u001b[1m{\u001b[0m\n",
      "        \u001b[32m'e1'\u001b[0m: \u001b[32m'0.3'\u001b[0m,\n",
      "        \u001b[32m'alg.theta'\u001b[0m: \u001b[32m'4'\u001b[0m,\n",
      "        \u001b[32m'alg.unbounded_dp'\u001b[0m: \u001b[32m'True'\u001b[0m,\n",
      "        \u001b[32m'perf.multiprocess'\u001b[0m: \u001b[32m'True'\u001b[0m,\n",
      "        \u001b[32m'view'\u001b[0m: \u001b[32m'tab_adult'\u001b[0m,\n",
      "        \u001b[32m'alg.ep'\u001b[0m: \u001b[32m'0.1'\u001b[0m,\n",
      "        \u001b[32m'random_state'\u001b[0m: \u001b[32m'1234212'\u001b[0m,\n",
      "        \u001b[32m'perf.synth.gpu'\u001b[0m: \u001b[32m'False'\u001b[0m,\n",
      "        \u001b[32m'alg._name'\u001b[0m: \u001b[32m'privbayes'\u001b[0m,\n",
      "        \u001b[32m'alg.c'\u001b[0m: \u001b[32m'1.5'\u001b[0m,\n",
      "        \u001b[32m'alg.rebalance_columns'\u001b[0m: \u001b[32m'True'\u001b[0m,\n",
      "        \u001b[32m'alg.u'\u001b[0m: \u001b[32m'1.3'\u001b[0m,\n",
      "        \u001b[32m'alg.e2'\u001b[0m: \u001b[32m'0.7'\u001b[0m,\n",
      "        \u001b[32m'ratios'\u001b[0m: \u001b[32m\"\u001b[0m\u001b[32m{\u001b[0m\u001b[32m'wrk': 0.8, 'ref': 0.2\u001b[0m\u001b[32m}\u001b[0m\u001b[32m\"\u001b[0m,\n",
      "        \u001b[32m'alg.random_init'\u001b[0m: \u001b[32m'False'\u001b[0m,\n",
      "        \u001b[32m'alg.e1'\u001b[0m: \u001b[32m'0.3'\u001b[0m\n",
      "    \u001b[1m}\u001b[0m,\n",
      "    \u001b[32m'_tags'\u001b[0m: \u001b[1m{\u001b[0m\n",
      "        \u001b[32m'mlflow.source.name'\u001b[0m: \u001b[32m'/mnt/ext/projects/pasteur/venv/bin/kedro'\u001b[0m,\n",
      "        \u001b[32m'extra_params'\u001b[0m: \u001b[32m\"\u001b[0m\u001b[32m{\u001b[0m\u001b[32m'e1': 0.3\u001b[0m\u001b[32m}\u001b[0m\u001b[32m\"\u001b[0m,\n",
      "        \u001b[32m'session_id'\u001b[0m: \u001b[32m'2022-10-18T22.31.10.948Z'\u001b[0m,\n",
      "        \u001b[32m'mlflow.source.git.commit'\u001b[0m: \u001b[32m'e2890e6b5531cbbc99abe6303805bf52d845cb0a'\u001b[0m,\n",
      "        \u001b[32m'project_path'\u001b[0m: \u001b[32m'/mnt/ext/projects/pasteur'\u001b[0m,\n",
      "        \u001b[32m'mlflow.runName'\u001b[0m: \u001b[32m'tab_adult.privbayes.synth \u001b[0m\u001b[32me1\u001b[0m\u001b[32m=\u001b[0m\u001b[32m0\u001b[0m\u001b[32m.3'\u001b[0m,\n",
      "        \u001b[32m'perf.synth.sample'\u001b[0m: \u001b[32m'00:00:00:183'\u001b[0m,\n",
      "        \u001b[32m'mlflow.user'\u001b[0m: \u001b[32m'dev'\u001b[0m,\n",
      "        \u001b[32m'runner'\u001b[0m: \u001b[32m'\u001b[0m\u001b[32m<\u001b[0m\u001b[32mParallelRunner\u001b[0m\u001b[32m tab_adult.privbayes.synth \u001b[0m\u001b[32me1\u001b[0m\u001b[32m=\u001b[0m\u001b[32m0\u001b[0m\u001b[32m.3\u001b[0m\u001b[32m>\u001b[0m\u001b[32m'\u001b[0m,\n",
      "        \u001b[32m'mlflow.source.type'\u001b[0m: \u001b[32m'LOCAL'\u001b[0m,\n",
      "        \u001b[32m'perf.synth.bake'\u001b[0m: \u001b[32m'00:00:06:425'\u001b[0m,\n",
      "        \u001b[32m'perf.synth.preprocess'\u001b[0m: \u001b[32m'00:00:00:063'\u001b[0m,\n",
      "        \u001b[32m'perf.synth.total'\u001b[0m: \u001b[32m'00:00:06:688'\u001b[0m,\n",
      "        \u001b[32m'perf.synth.fit'\u001b[0m: \u001b[32m'00:00:00:016'\u001b[0m,\n",
      "        \u001b[32m'pipeline_name'\u001b[0m: \u001b[32m'tab_adult.privbayes.synth'\u001b[0m,\n",
      "        \u001b[32m'kedro_version'\u001b[0m: \u001b[32m'0.18.3'\u001b[0m\n",
      "    \u001b[1m}\u001b[0m\n",
      "\u001b[1m}\u001b[0m\n"
     ]
    }
   ],
   "source": [
    "mlflow.get_run(\"4d00a7888da44b669a8b81b12f80f47d\")._data.__dict__"
   ]
  },
  {
   "cell_type": "code",
   "execution_count": null,
   "metadata": {},
   "outputs": [],
   "source": []
  }
 ],
 "metadata": {
  "language_info": {
   "codemirror_mode": {
    "name": "ipython",
    "version": 3
   },
   "file_extension": ".py",
   "mimetype": "text/x-python",
   "name": "python",
   "nbconvert_exporter": "python",
   "pygments_lexer": "ipython3",
   "version": "3.10.7"
  },
  "vscode": {
   "interpreter": {
    "hash": "97cc609b13305c559618ec78a438abc56230b9381f827f22d070313b9a1f3777"
   }
  }
 },
 "nbformat": 4,
 "nbformat_minor": 2
}
