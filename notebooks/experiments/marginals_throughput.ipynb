{
 "cells": [
  {
   "cell_type": "code",
   "execution_count": null,
   "metadata": {},
   "outputs": [
    {
     "name": "stdout",
     "output_type": "stream",
     "text": [
      "\u001b[0m\u001b[34mINFO    \u001b[0m Kedro project Pasteur                                                                                           \u001b[2m__init__.py\u001b[0m\u001b[2m:\u001b[0m\u001b[2m77\u001b[0m\n",
      "\u001b[0m\u001b[34mINFO    \u001b[0m Defined global variable \u001b[32m'context'\u001b[0m, \u001b[32m'session'\u001b[0m, \u001b[32m'catalog'\u001b[0m and \u001b[32m'pipelines'\u001b[0m                                         \u001b[2m__init__.py\u001b[0m\u001b[2m:\u001b[0m\u001b[2m78\u001b[0m\n",
      "\u001b[0m\u001b[34mINFO    \u001b[0m Registered line magic \u001b[32m'run_viz'\u001b[0m                                                                                 \u001b[2m__init__.py\u001b[0m\u001b[2m:\u001b[0m\u001b[2m84\u001b[0m\n"
     ]
    }
   ],
   "source": [
    "from pasteur.kedro.ipython import * # type: ignore\n",
    "register_kedro() # type: ignore\n",
    "\n",
    "%load_ext autoreload\n",
    "%autoreload 2"
   ]
  },
  {
   "cell_type": "code",
   "execution_count": null,
   "metadata": {},
   "outputs": [
    {
     "name": "stdout",
     "output_type": "stream",
     "text": [
      "\u001b[0m\u001b[31mWARNING \u001b[0m Launching a process pool implicitly. Use `\u001b[1;35minit_pool\u001b[0m\u001b[1m(\u001b[0m\u001b[1m)\u001b[0m` to explicitly control pool creation.                    \u001b[2mprogress.py\u001b[0m\u001b[2m:\u001b[0m\u001b[2m250\u001b[0m\n",
      "\u001b[0m\u001b[34mINFO    \u001b[0m Processed \u001b[1;36m16\u001b[0m marginals.                                                                                          \u001b[2moracle.py\u001b[0m\u001b[2m:\u001b[0m\u001b[2m603\u001b[0m\n",
      "\u001b[0m\u001b[31mWARNING \u001b[0m Rebalancing columns without using Differential Privacy \u001b[1m(\u001b[0m\u001b[33me_p\u001b[0m=\u001b[35minf\u001b[0m\u001b[1m)\u001b[0m                                              \u001b[2mhierarchy.py\u001b[0m\u001b[2m:\u001b[0m\u001b[2m442\u001b[0m\n"
     ]
    }
   ],
   "source": [
    "from pasteur.hierarchy import rebalance_attributes\n",
    "from pasteur.marginal import MarginalOracle\n",
    "\n",
    "old_attrs = catalog.load(\"mimic_billion.trn.table\")[\"idx\"].get_attributes()\n",
    "wrk = catalog.load(\"mimic_billion.wrk.idx_table\")\n",
    "\n",
    "m = MarginalOracle(old_attrs, wrk)\n",
    "counts = m.get_counts()\n",
    "m.close()\n",
    "\n",
    "attrs = rebalance_attributes(counts, old_attrs, fixed=[2, 4, 8, 16, 32, 48], u=4)"
   ]
  },
  {
   "cell_type": "code",
   "execution_count": null,
   "metadata": {},
   "outputs": [],
   "source": [
    "from pasteur.marginal import AttrSelector\n",
    "from pasteur.marginal.oracle import parallel_load\n",
    "from pasteur.marginal.memory import map_to_memory, load_from_memory\n",
    "from pasteur.utils import LazyDataset, LazyPartition\n",
    "from pasteur.utils.progress import init_pool\n",
    "import time"
   ]
  },
  {
   "cell_type": "code",
   "execution_count": null,
   "metadata": {},
   "outputs": [],
   "source": [
    "mar = {\n",
    "    \"gender\": AttrSelector(\"gender\", 0, {\"gender\": 0}),\n",
    "    \"warning\": AttrSelector(\"warning\", 0, {\"warning\": 0}),\n",
    "    \"intime\": AttrSelector(\"intime\", 0, {\"intime_day\": 1}),\n",
    "    \"outtime\": AttrSelector(\"outtime\", 0, {\"outtime_day\": 1}),\n",
    "    \"charttime\": AttrSelector(\n",
    "        \"charttime\", 0, {\"charttime_day\": 0, \"charttime_time\": 2}\n",
    "    ),\n",
    "}"
   ]
  },
  {
   "cell_type": "code",
   "execution_count": null,
   "metadata": {},
   "outputs": [],
   "source": [
    "from functools import partial\n",
    "\n",
    "sample = wrk.sample()\n",
    "\n",
    "def get_small_dataset(n):\n",
    "    return LazyDataset(merged_load=LazyPartition(lambda: sample[:n], lambda: sample[:n].shape))\n",
    "\n",
    "def get_big_dataset(n):\n",
    "    return LazyDataset(merged_load=None, partitions=dict(list(wrk._partitions.items())[:n]))\n"
   ]
  },
  {
   "cell_type": "code",
   "execution_count": null,
   "metadata": {},
   "outputs": [],
   "source": [
    "import pasteur.utils.progress\n",
    "pasteur.utils.progress.JUPYTER_MAX_NEST = 0"
   ]
  },
  {
   "cell_type": "code",
   "execution_count": null,
   "metadata": {},
   "outputs": [],
   "source": [
    "M_base = 6e11\n",
    "\n",
    "tests = [\n",
    "    (20_000, get_small_dataset(20_000), 1_000_000, 100_000),\n",
    "    (100_000, get_small_dataset(100_000), 1_000_000, 100_000),\n",
    "    (500_000, get_small_dataset(500_000), 1_000_000, 50_000),\n",
    "    (1_000_000, get_small_dataset(1_000_000), 500_000, 25_000),\n",
    "    (5_000_000, get_small_dataset(5_000_000), 100_000, 5_000),\n",
    "    (10_000_000, get_small_dataset(10_000_000), 50_000, 2_500),\n",
    "    (50_000_000, get_big_dataset(3), 25_000, 2_000),\n",
    "    (100_000_000, get_big_dataset(6), 15_000, 1_000),\n",
    "    (500_000_000, get_big_dataset(31), 4_000, 200),\n",
    "    (1_000_000_000, wrk, 1_500, 35),\n",
    "]"
   ]
  },
  {
   "cell_type": "code",
   "execution_count": null,
   "metadata": {},
   "outputs": [
    {
     "name": "stdout",
     "output_type": "stream",
     "text": [
      "\u001b[1m(\u001b[0m\u001b[1;36m50059779\u001b[0m, \u001b[1;36m16\u001b[0m\u001b[1m)\u001b[0m\n"
     ]
    }
   ],
   "source": [
    "get_big_dataset(3).shape"
   ]
  },
  {
   "cell_type": "code",
   "execution_count": null,
   "metadata": {},
   "outputs": [
    {
     "name": "stdout",
     "output_type": "stream",
     "text": [
      "> Single Core\n",
      "N=         20,000:  16813.807 m/s (   5.9s)\n",
      "N=        100,000:   7136.520 m/s (  14.0s)\n",
      "N=        500,000:   1607.646 m/s (  31.1s)\n",
      "N=      1,000,000:    754.892 m/s (  33.1s)\n",
      "N=      5,000,000:    160.452 m/s (  31.2s)\n",
      "N=     10,000,000:     81.071 m/s (  30.8s)\n",
      "N=     50,000,000:     16.073 m/s ( 124.4s)\n",
      "N=    100,000,000:      8.034 m/s ( 124.5s)\n",
      "N=    500,000,000:      1.601 m/s ( 124.9s)\n",
      "N=  1,000,000,000:      0.832 m/s (  42.0s)\n"
     ]
    }
   ],
   "source": [
    "pasteur.utils.progress.IS_SUBPROCESS = True\n",
    "\n",
    "print(\"> Single Core\")\n",
    "for N, ds, _, M in tests:\n",
    "\n",
    "    with MarginalOracle(attrs, ds, mode=\"inmemory_shared\", max_worker_mult=1, log=False) as m:\n",
    "        with init_pool():\n",
    "            m.load_data()\n",
    "        reqs = [mar for _ in range(M)]\n",
    "        \n",
    "        with init_pool(max_workers=1):\n",
    "            start = time.perf_counter()\n",
    "            m.process(reqs, desc=f\"N={N:,}\")\n",
    "            end = time.perf_counter()\n",
    "\n",
    "        print(f\"N={N: 15,d}: {(M / (end - start)):>10.3f} m/s ({end - start:>6.1f}s)\")\n",
    "\n",
    "pasteur.utils.progress.IS_SUBPROCESS = False\n"
   ]
  },
  {
   "cell_type": "code",
   "execution_count": null,
   "metadata": {},
   "outputs": [
    {
     "name": "stdout",
     "output_type": "stream",
     "text": [
      "> Shared Memory\n",
      "N=         20,000:  26589.471 m/s (  37.6s)\n",
      "N=        100,000:  22948.376 m/s (  43.6s)\n",
      "N=        500,000:  14391.234 m/s (  69.5s)\n",
      "N=      1,000,000:   8983.527 m/s (  55.7s)\n",
      "N=      5,000,000:    935.436 m/s ( 106.9s)\n",
      "N=     10,000,000:    413.813 m/s ( 120.8s)\n",
      "N=     50,000,000:    122.456 m/s ( 204.2s)\n",
      "N=    100,000,000:     98.648 m/s ( 152.1s)\n",
      "N=    500,000,000:     18.605 m/s ( 215.0s)\n",
      "N=  1,000,000,000:     10.128 m/s ( 197.5s)\n"
     ]
    }
   ],
   "source": [
    "print(\"> Shared Memory\")\n",
    "for N, ds, M, _ in tests:\n",
    "    with init_pool(), MarginalOracle(attrs, ds, mode=\"inmemory_shared\", max_worker_mult=1, log=False) as m:\n",
    "        m.load_data()\n",
    "        reqs = [mar for _ in range(M)]\n",
    "        \n",
    "        start = time.perf_counter()\n",
    "        m.process(reqs, desc=f\"N={N:,}\")\n",
    "        end = time.perf_counter()\n",
    "\n",
    "        print(f\"N={N: 15,d}: {(M / (end - start)):>10.3f} m/s ({end - start:>6.1f}s)\")\n"
   ]
  },
  {
   "cell_type": "code",
   "execution_count": null,
   "metadata": {},
   "outputs": [
    {
     "name": "stdout",
     "output_type": "stream",
     "text": [
      "> Unique Copy\n",
      "N=         20,000:  26614.486 m/s (  37.6s)\n",
      "N=        100,000:  23344.753 m/s (  42.8s)\n",
      "N=        500,000:  13172.459 m/s (  75.9s)\n",
      "N=      1,000,000:   8897.922 m/s (  56.2s)\n",
      "N=      5,000,000:   2325.286 m/s (  43.0s)\n",
      "N=     10,000,000:   1167.204 m/s (  42.8s)\n",
      "N=     50,000,000:    222.590 m/s ( 112.3s)\n"
     ]
    }
   ],
   "source": [
    "print(\"> Unique Copy\")\n",
    "for N, ds, M, _ in tests:\n",
    "    if N > 52_000_000:\n",
    "        continue\n",
    "\n",
    "    with init_pool(), MarginalOracle(attrs, ds, mode=\"inmemory_copy\", max_worker_mult=1, log=False) as m:\n",
    "        m.load_data()\n",
    "        reqs = [mar for _ in range(M)]\n",
    "        \n",
    "        start = time.perf_counter()\n",
    "        m.process(reqs, desc=f\"N={N:,}\")\n",
    "        end = time.perf_counter()\n",
    "\n",
    "        print(f\"N={N: 15,d}: {(M / (end - start)):>10.3f} m/s ({end - start:>6.1f}s)\")\n"
   ]
  },
  {
   "cell_type": "code",
   "execution_count": null,
   "metadata": {},
   "outputs": [
    {
     "name": "stdout",
     "output_type": "stream",
     "text": [
      "> Unique Partition\n",
      "N=     10,000,000:    469.820 m/s (  21.3s)\n",
      "N=     50,000,000:    179.130 m/s (  55.8s)\n",
      "N=    100,000,000:    103.713 m/s (  96.4s)\n",
      "N=    500,000,000:     25.505 m/s ( 156.8s)\n",
      "N=  1,000,000,000:     12.394 m/s ( 121.0s)\n"
     ]
    }
   ],
   "source": [
    "print(\"> Unique Partition\")\n",
    "for N, ds, M, _ in tests:\n",
    "    M = min(M, 10000)\n",
    "    if N < 10_000_000:\n",
    "        continue\n",
    "\n",
    "    with init_pool(), MarginalOracle(attrs, ds, mode=\"inmemory_batched\", max_worker_mult=1, log=False, repartitions=32) as m:\n",
    "        m.load_data()\n",
    "        reqs = [mar for _ in range(M)]\n",
    "        \n",
    "        start = time.perf_counter()\n",
    "        m.process(reqs, desc=f\"N={N:,}\")\n",
    "        end = time.perf_counter()\n",
    "\n",
    "        print(f\"N={N: 15,d}: {(M / (end - start)):>10.3f} m/s ({end - start:>6.1f}s)\")\n"
   ]
  },
  {
   "cell_type": "code",
   "execution_count": null,
   "metadata": {},
   "outputs": [],
   "source": []
  }
 ],
 "metadata": {
  "language_info": {
   "codemirror_mode": {
    "name": "ipython",
    "version": 3
   },
   "file_extension": ".py",
   "mimetype": "text/x-python",
   "name": "python",
   "nbconvert_exporter": "python",
   "pygments_lexer": "ipython3",
   "version": "3.10.9"
  },
  "vscode": {
   "interpreter": {
    "hash": "06fefce6151b2561bea7dbaa3a9e0f8a5fddd1f07747f54ebd96cc390fa4aebe"
   }
  }
 },
 "nbformat": 4,
 "nbformat_minor": 2
}
