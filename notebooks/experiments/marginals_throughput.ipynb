{
 "cells": [
  {
   "cell_type": "code",
   "execution_count": null,
   "metadata": {},
   "outputs": [],
   "source": [
    "from pasteur.kedro.ipython import * # type: ignore\n",
    "register_kedro() # type: ignore\n",
    "\n",
    "%load_ext autoreload\n",
    "%autoreload 2"
   ]
  },
  {
   "cell_type": "code",
   "execution_count": null,
   "metadata": {},
   "outputs": [],
   "source": [
    "from pasteur.hierarchy import rebalance_attributes\n",
    "from pasteur.marginal import MarginalOracle\n",
    "\n",
    "old_attrs = catalog.load(\"mimic_billion.trn.table\")[\"idx\"].get_attributes()\n",
    "wrk = catalog.load(\"mimic_billion.wrk.idx_table\")\n",
    "\n",
    "m = MarginalOracle(old_attrs, wrk)\n",
    "counts = m.get_counts()\n",
    "m.close()\n",
    "\n",
    "attrs = rebalance_attributes(counts, old_attrs, fixed=[2, 4, 8, 16, 32, 48], u=4)"
   ]
  },
  {
   "cell_type": "code",
   "execution_count": null,
   "metadata": {},
   "outputs": [],
   "source": [
    "from pasteur.marginal import AttrSelector\n",
    "from pasteur.marginal.oracle import parallel_load\n",
    "from pasteur.marginal.memory import map_to_memory, load_from_memory\n",
    "from pasteur.utils import LazyDataset, LazyPartition\n",
    "from pasteur.utils.progress import init_pool\n",
    "import time"
   ]
  },
  {
   "cell_type": "code",
   "execution_count": null,
   "metadata": {},
   "outputs": [],
   "source": [
    "mar = {\n",
    "    \"gender\": AttrSelector(\"gender\", 0, {\"gender\": 0}),\n",
    "    \"warning\": AttrSelector(\"warning\", 0, {\"warning\": 0}),\n",
    "    \"intime\": AttrSelector(\"intime\", 0, {\"intime_day\": 1}),\n",
    "    \"outtime\": AttrSelector(\"outtime\", 0, {\"outtime_day\": 1}),\n",
    "    \"charttime\": AttrSelector(\n",
    "        \"charttime\", 0, {\"charttime_day\": 0, \"charttime_time\": 2}\n",
    "    ),\n",
    "}"
   ]
  },
  {
   "cell_type": "code",
   "execution_count": null,
   "metadata": {},
   "outputs": [],
   "source": [
    "from functools import partial\n",
    "\n",
    "sample = wrk.sample()\n",
    "\n",
    "def get_small_dataset(n):\n",
    "    return LazyDataset(merged_load=LazyPartition(lambda: sample[:n], lambda: sample[:n].shape))\n",
    "\n",
    "def get_big_dataset(n):\n",
    "    return LazyDataset(merged_load=None, partitions=dict(list(wrk._partitions.items())[:n]))\n"
   ]
  },
  {
   "cell_type": "code",
   "execution_count": null,
   "metadata": {},
   "outputs": [],
   "source": [
    "tests = [\n",
    "    (100_000, get_small_dataset(100_000), 10_000_000),\n",
    "    (500_000, get_small_dataset(500_000), 100_000),\n",
    "    (1_000_000, get_small_dataset(1_000_000), 1_000_000),\n",
    "    (10_000_000, get_small_dataset(10_000_000), 200_000),\n",
    "    (100_000_000, get_big_dataset(6), 50_000),\n",
    "    (500_000_000, get_big_dataset(31), 20_000),\n",
    "    (1_000_000_000, wrk, 10_000),\n",
    "]"
   ]
  },
  {
   "cell_type": "code",
   "execution_count": null,
   "metadata": {},
   "outputs": [],
   "source": [
    "print(\"> Single Core\")\n",
    "for N, ds, M in tests:\n",
    "    M = M // 30\n",
    "\n",
    "    with MarginalOracle(attrs, ds, mode=\"inmemory_shared\", max_worker_mult=1, log=False) as m:\n",
    "        init_pool(max_workers=1)\n",
    "        m.load_data()\n",
    "        reqs = [mar for _ in range(M)]\n",
    "        init_pool()\n",
    "\n",
    "        start = time.perf_counter()\n",
    "        m.process(reqs, desc=f\"N={N:,}\")\n",
    "        end = time.perf_counter()\n",
    "\n",
    "        print(f\"N={N: 5d}: {(M / (end - start)):.3f}\")\n"
   ]
  },
  {
   "cell_type": "code",
   "execution_count": null,
   "metadata": {},
   "outputs": [],
   "source": []
  }
 ],
 "metadata": {
  "language_info": {
   "codemirror_mode": {
    "name": "ipython",
    "version": 3
   },
   "file_extension": ".py",
   "mimetype": "text/x-python",
   "name": "python",
   "nbconvert_exporter": "python",
   "pygments_lexer": "ipython3",
   "version": "3.10.9"
  },
  "vscode": {
   "interpreter": {
    "hash": "06fefce6151b2561bea7dbaa3a9e0f8a5fddd1f07747f54ebd96cc390fa4aebe"
   }
  }
 },
 "nbformat": 4,
 "nbformat_minor": 2
}
