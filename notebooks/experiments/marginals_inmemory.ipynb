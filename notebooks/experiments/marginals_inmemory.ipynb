{
 "cells": [
  {
   "cell_type": "code",
   "execution_count": null,
   "metadata": {},
   "outputs": [
    {
     "name": "stdout",
     "output_type": "stream",
     "text": [
      "\u001b[0m\u001b[34mINFO    \u001b[0m Kedro project Pasteur                                                                                           \u001b[2m__init__.py\u001b[0m\u001b[2m:\u001b[0m\u001b[2m77\u001b[0m\n",
      "\u001b[0m\u001b[34mINFO    \u001b[0m Defined global variable \u001b[32m'context'\u001b[0m, \u001b[32m'session'\u001b[0m, \u001b[32m'catalog'\u001b[0m and \u001b[32m'pipelines'\u001b[0m                                         \u001b[2m__init__.py\u001b[0m\u001b[2m:\u001b[0m\u001b[2m78\u001b[0m\n",
      "\u001b[0m\u001b[34mINFO    \u001b[0m Registered line magic \u001b[32m'run_viz'\u001b[0m                                                                                 \u001b[2m__init__.py\u001b[0m\u001b[2m:\u001b[0m\u001b[2m84\u001b[0m\n"
     ]
    }
   ],
   "source": [
    "from pasteur.kedro.ipython import * # type: ignore\n",
    "register_kedro() # type: ignore\n",
    "\n",
    "%load_ext autoreload\n",
    "%autoreload 2"
   ]
  },
  {
   "cell_type": "code",
   "execution_count": null,
   "metadata": {},
   "outputs": [
    {
     "name": "stdout",
     "output_type": "stream",
     "text": [
      "\u001b[1m(\u001b[0m\u001b[1;36m11557126\u001b[0m, \u001b[1;36m12\u001b[0m\u001b[1m)\u001b[0m\n"
     ]
    }
   ],
   "source": [
    "# Use the first partition of texas_charges with the fit transformer\n",
    "attrs = catalog.load('texas_charges.trn.table')['idx'].get_attributes()\n",
    "wrk = catalog.load('texas_charges.wrk.idx_table').sample()\n",
    "ref = catalog.load('texas_charges.ref.idx_table').sample()\n",
    "\n",
    "import pandas as pd\n",
    "import numpy as np\n",
    "table = pd.concat([wrk, ref])\n",
    "table.shape"
   ]
  },
  {
   "cell_type": "code",
   "execution_count": null,
   "metadata": {},
   "outputs": [],
   "source": [
    "Ns = [\n",
    "    20_000,\n",
    "    500_000,\n",
    "    1_000_000,\n",
    "    2_000_000,\n",
    "    5_000_000,\n",
    "    10_000_000\n",
    "]\n",
    "\n",
    "N_dom = 1_000_000"
   ]
  },
  {
   "cell_type": "code",
   "execution_count": null,
   "metadata": {},
   "outputs": [],
   "source": [
    "def stub_columns(table, cols):\n",
    "    table_out = table\n",
    "    l = len(table)\n",
    "    for col, dom in cols.items():\n",
    "        table_out = table_out.assign(**{col: np.random.randint(dom, size=(l, ))})\n",
    "    return table_out\n",
    "\n",
    "table_stub = stub_columns(table, {'revenue_code': 357, 'hcpcs_procedure_code': 3018, \"modifier_1\": 48, \"modifier_2\": 14, \"hcpcs_qualifier\": 6})"
   ]
  },
  {
   "cell_type": "code",
   "execution_count": null,
   "metadata": {},
   "outputs": [
    {
     "name": "stdout",
     "output_type": "stream",
     "text": [
      "\u001b[0m\u001b[31mWARNING \u001b[0m Launching a process pool implicitly. Use `\u001b[1;35minit_pool\u001b[0m\u001b[1m(\u001b[0m\u001b[1m)\u001b[0m` to explicitly control pool creation.                    \u001b[2mprogress.py\u001b[0m\u001b[2m:\u001b[0m\u001b[2m227\u001b[0m\n",
      "\u001b[0m\u001b[31mWARNING \u001b[0m Rebalancing columns without using Differential Privacy \u001b[1m(\u001b[0m\u001b[33me_p\u001b[0m=\u001b[35minf\u001b[0m\u001b[1m)\u001b[0m                                              \u001b[2mhierarchy.py\u001b[0m\u001b[2m:\u001b[0m\u001b[2m440\u001b[0m\n"
     ]
    }
   ],
   "source": [
    "from pasteur.hierarchy import rebalance_attributes\n",
    "from pasteur.marginal import MarginalOracle\n",
    "from pasteur.utils import LazyDataset, LazyPartition\n",
    "\n",
    "m = MarginalOracle(attrs, LazyDataset(LazyPartition(lambda: table_stub, lambda: table.shape)))\n",
    "counts = m.get_counts()\n",
    "m.close()\n",
    "\n",
    "new_attrs = rebalance_attributes(counts, attrs)"
   ]
  },
  {
   "cell_type": "code",
   "execution_count": null,
   "metadata": {},
   "outputs": [
    {
     "name": "stdout",
     "output_type": "stream",
     "text": [
      "             revenue_code | 0:357, 1:280, 2:216, 3:166, 4:128, 5: 98, 6: 76, 7: 58, 8: 45, 9: 35, 10: 27, 11: 21, 12: 16, 13: 12, 14:  8, 15:  5, 16:  4, 17:  3\n",
      "          hcpcs_qualifier | 0:  6, 1:  5, 2:  4, 3:  3\n",
      "     hcpcs_procedure_code | 0:3018, 1:2965, 2:2281, 3:1755, 4:1350, 5:1039, 6:799, 7:615, 8:473, 9:364, 10:280, 11:216, 12:166, 13:128, 14: 98, 15: 76, 16: 58, 17: 45, 18: 35, 19: 27, 20: 21, 21: 16, 22: 12, 23:  8, 24:  5, 25:  4, 26:  3\n",
      "               modifier_1 | 0: 48, 1: 45, 2: 35, 3: 27, 4: 21, 5: 16, 6: 12, 7:  8, 8:  5, 9:  4, 10:  3\n",
      "               modifier_2 | 0: 14, 1: 12, 2:  8, 3:  5, 4:  4, 5:  3\n",
      "               modifier_3 | 0:  3, 1:  3\n",
      "               modifier_4 | 0:  3, 1:  3\n",
      "    unit_measurement_code | 0:  6, 1:  5, 2:  4, 3:  3\n",
      "         units_of_service | 0: 21, 1: 21, 2: 16, 3: 12, 4:  8, 5:  5, 6:  4, 7:  2\n",
      "                unit_rate | 0: 21, 1: 21, 2: 16, 3: 12, 4:  8, 5:  5, 6:  4, 7:  2\n",
      "          chrgs_line_item | 0: 20, 1: 16, 2: 12, 3:  8, 4:  5, 5:  4, 6:  2\n",
      "            chrgs_non_cov | 0: 20, 1: 16, 2: 12, 3:  8, 4:  5, 5:  4, 6:  2\n"
     ]
    }
   ],
   "source": [
    "for name, attr in new_attrs.items():\n",
    "    for val_name, val in attr.vals.items():\n",
    "        print(f\"{val_name:>25s} | {', '.join(f'{h}:{val.get_domain(h):3d}' for h in range(val.height))}\")\n"
   ]
  },
  {
   "cell_type": "code",
   "execution_count": null,
   "metadata": {},
   "outputs": [
    {
     "name": "stdout",
     "output_type": "stream",
     "text": [
      "62,208\n"
     ]
    }
   ],
   "source": [
    "m2_8 = {'revenue_code': 17, 'hcpcs_qualifier': 3, 'hcpcs_procedure_code': 26, 'modifier_1': 10, 'modifier_2': 5}\n",
    "m2_12 = {'revenue_code': 17, 'hcpcs_qualifier': 3, 'hcpcs_procedure_code': 26, 'modifier_1': 10, 'modifier_2': 5, 'unit_measurement_code': 2, 'units_of_service': 6}\n",
    "m2_16 = {'revenue_code': 17, 'hcpcs_qualifier': 3, 'hcpcs_procedure_code': 26, 'modifier_1': 10, 'modifier_2': 5, 'unit_measurement_code': 2, 'units_of_service': 6, 'unit_rate': 6, 'chrgs_line_item': 5}\n",
    "m2_20 = {'revenue_code': 16, 'hcpcs_qualifier': 2, 'hcpcs_procedure_code': 23, 'modifier_1': 10, 'modifier_2': 5, 'unit_measurement_code': 2, 'units_of_service': 6, 'unit_rate': 6, 'chrgs_line_item': 5, 'chrgs_non_cov': 5}\n",
    "m2_24 = {'revenue_code': 16, 'hcpcs_qualifier': 2, 'hcpcs_procedure_code': 20, 'modifier_1': 8, 'modifier_2': 5, 'unit_measurement_code': 1, 'units_of_service': 5, 'unit_rate': 5, 'chrgs_line_item': 4, 'chrgs_non_cov': 4}\n",
    "m2_28 = {'revenue_code': 12, 'hcpcs_qualifier': 2, 'hcpcs_procedure_code': 18, 'modifier_1': 6, 'modifier_2': 5, 'unit_measurement_code': 1, 'units_of_service': 5, 'unit_rate': 5, 'chrgs_line_item': 4, 'chrgs_non_cov': 4}\n",
    "m2_32 = {'revenue_code': 9, 'hcpcs_qualifier': 2, 'hcpcs_procedure_code': 16, 'modifier_1': 4, 'modifier_2': 5, 'unit_measurement_code': 1, 'units_of_service': 4, 'unit_rate': 4, 'chrgs_line_item': 4, 'chrgs_non_cov': 4}\n",
    "\n",
    "typ_1 = {'revenue_code': 17, 'hcpcs_qualifier': 3, 'hcpcs_procedure_code': 26, 'modifier_1': 10, 'modifier_2': 5, 'unit_measurement_code': 2, 'units_of_service': 6, 'unit_rate': 6, 'chrgs_line_item': 5}\n",
    "tst = typ_1\n",
    "\n",
    "def get_dom(cols):\n",
    "    dom = 1\n",
    "    for n, h in cols.items():\n",
    "        dom *= new_attrs[n][n].get_domain(h)\n",
    "    return dom\n",
    "\n",
    "print(f'{get_dom(tst):,}')"
   ]
  },
  {
   "cell_type": "code",
   "execution_count": null,
   "metadata": {},
   "outputs": [],
   "source": [
    "from pasteur.marginal import AttrSelector, AttrSelectors, expand_table\n",
    "from pasteur.marginal.native_py import calc_marginal_1way as calc_marginal_native\n",
    "from pasteur.marginal.numpy import calc_marginal_1way as calc_marginal_numpy\n",
    "\n",
    "import numpy as np"
   ]
  },
  {
   "cell_type": "code",
   "execution_count": null,
   "metadata": {},
   "outputs": [
    {
     "name": "stderr",
     "output_type": "stream",
     "text": [
      "2000-01-01 00:00:00,000394: W external/org_tensorflow/tensorflow/tsl/platform/default/dso_loader.cc:66] Could not load dynamic library 'libcudart.so.11.0'; dlerror: libcudart.so.11.0: cannot open shared object file: No such file or directory\n",
      "2000-01-01 00:00:00,000408: W external/org_tensorflow/tensorflow/tsl/platform/default/dso_loader.cc:66] Could not load dynamic library 'libcudart.so.11.0'; dlerror: libcudart.so.11.0: cannot open shared object file: No such file or directory\n",
      "2000-01-01 00:00:00,000250: W external/org_tensorflow/tensorflow/tsl/platform/default/dso_loader.cc:66] Could not load dynamic library 'libcudart.so.11.0'; dlerror: libcudart.so.11.0: cannot open shared object file: No such file or directory\n"
     ]
    }
   ],
   "source": [
    "import jax\n",
    "import jax.numpy as jnp\n",
    "\n",
    "def marginal_jax(ops, dom):\n",
    "    out = None\n",
    "    for mult, op in ops:\n",
    "        if out == None:\n",
    "            out = mult * op\n",
    "        else:\n",
    "            out += mult * op\n",
    "    return jnp.zeros(dom).at[out].add(1)\n",
    "\n",
    "marginal_jax = jax.jit(marginal_jax, static_argnums=[1])\n",
    "\n",
    "def calc_marginal_jax(\n",
    "    cols: dict[str, list[np.ndarray]],\n",
    "    cols_noncommon: dict[str, list[np.ndarray]],\n",
    "    domains: dict[str, list[int]],\n",
    "    x: AttrSelectors,\n",
    "    out: np.ndarray | None = None\n",
    "):\n",
    "    \"\"\"Calculates the 1 way marginal of the subsections of attributes x\"\"\"\n",
    "\n",
    "    ops = []\n",
    "    mul = 1\n",
    "    for attr in reversed(x.values()):\n",
    "        common = attr.common\n",
    "        l_mul = 1\n",
    "        for i, (n, h) in enumerate(attr.cols.items()):\n",
    "            if common == 0 or i == 0:\n",
    "                ops.append((l_mul * mul, jnp.asarray(cols[n][h])))\n",
    "            else:\n",
    "                ops.append((l_mul * mul, jnp.asarray(cols_noncommon[n][h])))\n",
    "            l_mul *= domains[n][h] - common\n",
    "        mul *= l_mul + common\n",
    "\n",
    "    marginal_jax(ops, mul).block_until_ready()\n",
    "    %timeit marginal_jax(ops, mul).block_until_ready()"
   ]
  },
  {
   "cell_type": "code",
   "execution_count": null,
   "metadata": {},
   "outputs": [],
   "source": [
    "def compare_marginals(M, N, desc):\n",
    "    print(\"##############\")\n",
    "    print(desc)\n",
    "    x = {n: AttrSelector(n, 0, {n: h}) for n,h in M.items()}\n",
    "    cols, cols_noncommon, domains = expand_table(new_attrs, table_stub[:N])\n",
    "\n",
    "    out16 = np.zeros((get_dom(M),), dtype=np.uint32)\n",
    "    dom32 = max(get_dom(M), 2**17)\n",
    "    out32 = np.zeros((dom32,), dtype=np.uint32)\n",
    "\n",
    "    # vc_df = pd.DataFrame({n: cols[n][h] for n, h in M.items()})\n",
    "    # %timeit vc_df.value_counts()\n",
    "\n",
    "    # hdd_np = vc_df.to_numpy()\n",
    "    # %timeit np.histogramdd(hdd_np, [domains[n][h] for n, h in M.items()])\n",
    "\n",
    "    # %timeit calc_marginal_numpy(cols, cols_noncommon, domains, x)\n",
    "\n",
    "    with jax.default_device(jax.devices(\"cpu\")[0]):\n",
    "        calc_marginal_jax(cols, cols_noncommon, domains, x)\n",
    "    # # calc_marginal_jax(cols, cols_noncommon, domains, x)\n",
    "\n",
    "    # %timeit calc_marginal_native(cols, cols_noncommon, domains, x, simd=False, out=out16)\n",
    "    # %timeit calc_marginal_native(cols, cols_noncommon, domains, x, out=out32)\n",
    "    # %timeit calc_marginal_native(cols, cols_noncommon, domains, x, out=out16)"
   ]
  },
  {
   "cell_type": "code",
   "execution_count": null,
   "metadata": {},
   "outputs": [
    {
     "name": "stdout",
     "output_type": "stream",
     "text": [
      "##############\n",
      "N = 20,000\n",
      "\u001b[0m\u001b[34mINFO    \u001b[0m Unable to initialize backend \u001b[32m'tpu_driver'\u001b[0m: NOT_FOUND: Unable to find driver in registry given worker:        \u001b[2mxla_bridge.py\u001b[0m\u001b[2m:\u001b[0m\u001b[2m355\u001b[0m\n",
      "\u001b[0m\u001b[34mINFO    \u001b[0m Unable to initialize backend \u001b[32m'rocm'\u001b[0m: NOT_FOUND: Could not find registered platform with name: \u001b[32m\"rocm\"\u001b[0m.        \u001b[2mxla_bridge.py\u001b[0m\u001b[2m:\u001b[0m\u001b[2m355\u001b[0m\n",
      "\u001b[0m         Available platform names are: Host CUDA Interpreter                                                          \u001b[2m                 \u001b[0m\n",
      "\u001b[0m\u001b[34mINFO    \u001b[0m Unable to initialize backend \u001b[32m'tpu'\u001b[0m: module \u001b[32m'jaxlib.xla_extension'\u001b[0m has no attribute \u001b[32m'get_tpu_client'\u001b[0m          \u001b[2mxla_bridge.py\u001b[0m\u001b[2m:\u001b[0m\u001b[2m355\u001b[0m\n",
      "\u001b[0m\u001b[34mINFO    \u001b[0m Unable to initialize backend \u001b[32m'plugin'\u001b[0m: xla_extension has no attributes named get_plugin_device_client.       \u001b[2mxla_bridge.py\u001b[0m\u001b[2m:\u001b[0m\u001b[2m355\u001b[0m\n",
      "\u001b[0m         Compile TensorFlow with \u001b[35m/\u001b[0m\u001b[35m/tensorflow/compiler/xla/\u001b[0m\u001b[95mpython\u001b[0m:enable_plugin_device set to true \u001b[1m(\u001b[0mdefaults to       \u001b[2m                 \u001b[0m\n",
      "\u001b[0m         false\u001b[1m)\u001b[0m to enable this.                                                                                       \u001b[2m                 \u001b[0m\n",
      "214 µs ± 1.56 µs per loop (mean ± std. dev. of 7 runs, 1000 loops each)\n",
      "##############\n",
      "N = 500,000\n",
      "4 ms ± 27.1 µs per loop (mean ± std. dev. of 7 runs, 100 loops each)\n",
      "##############\n",
      "N = 1,000,000\n",
      "8.01 ms ± 45.1 µs per loop (mean ± std. dev. of 7 runs, 100 loops each)\n",
      "##############\n",
      "N = 2,000,000\n",
      "15.9 ms ± 272 µs per loop (mean ± std. dev. of 7 runs, 100 loops each)\n",
      "##############\n",
      "N = 5,000,000\n",
      "46.2 ms ± 374 µs per loop (mean ± std. dev. of 7 runs, 10 loops each)\n",
      "##############\n",
      "N = 10,000,000\n",
      "91.8 ms ± 1.68 ms per loop (mean ± std. dev. of 7 runs, 10 loops each)\n"
     ]
    }
   ],
   "source": [
    "M = typ_1\n",
    "\n",
    "for N in Ns:\n",
    "    compare_marginals(M, N, f\"N = {N:,}\")"
   ]
  },
  {
   "cell_type": "code",
   "execution_count": null,
   "metadata": {},
   "outputs": [],
   "source": [
    "Ms = {\n",
    "    \"2^8\": m2_8,\n",
    "    \"2^12\": m2_12,\n",
    "    \"2^16\": m2_16,\n",
    "    \"2^20\": m2_20,\n",
    "    \"2^24\": m2_24,\n",
    "    \"2^28\": m2_28,\n",
    "    # \"2^32\": m2_32\n",
    "}"
   ]
  },
  {
   "cell_type": "code",
   "execution_count": null,
   "metadata": {},
   "outputs": [
    {
     "name": "stdout",
     "output_type": "stream",
     "text": [
      "##############\n",
      "dom = 2^8\n",
      "8.02 ms ± 28.8 µs per loop (mean ± std. dev. of 7 runs, 100 loops each)\n",
      "##############\n",
      "dom = 2^12\n",
      "8.09 ms ± 19.9 µs per loop (mean ± std. dev. of 7 runs, 100 loops each)\n",
      "##############\n",
      "dom = 2^16\n",
      "7.92 ms ± 26.5 µs per loop (mean ± std. dev. of 7 runs, 100 loops each)\n",
      "##############\n",
      "dom = 2^20\n",
      "8.37 ms ± 256 µs per loop (mean ± std. dev. of 7 runs, 100 loops each)\n",
      "##############\n",
      "dom = 2^24\n",
      "23.2 ms ± 664 µs per loop (mean ± std. dev. of 7 runs, 10 loops each)\n",
      "##############\n",
      "dom = 2^28\n",
      "201 ms ± 3.06 ms per loop (mean ± std. dev. of 7 runs, 1 loop each)\n"
     ]
    }
   ],
   "source": [
    "for name, M in Ms.items():\n",
    "    compare_marginals(M, N_dom, f\"dom = {name}\")"
   ]
  },
  {
   "cell_type": "code",
   "execution_count": null,
   "metadata": {},
   "outputs": [],
   "source": []
  }
 ],
 "metadata": {
  "language_info": {
   "codemirror_mode": {
    "name": "ipython",
    "version": 3
   },
   "file_extension": ".py",
   "mimetype": "text/x-python",
   "name": "python",
   "nbconvert_exporter": "python",
   "pygments_lexer": "ipython3",
   "version": "3.10.6"
  },
  "vscode": {
   "interpreter": {
    "hash": "50661068d2d5c6ff1ce24ae701dfa73cc4ae117a223c3f7199e1fdb4656c8912"
   }
  }
 },
 "nbformat": 4,
 "nbformat_minor": 2
}
