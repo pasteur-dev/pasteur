{
 "cells": [
  {
   "cell_type": "code",
   "execution_count": null,
   "metadata": {},
   "outputs": [
    {
     "name": "stdout",
     "output_type": "stream",
     "text": [
      "\u001b[0m\u001b[34mINFO    \u001b[0m Kedro project Pasteur                                                                                           \u001b[2m__init__.py\u001b[0m\u001b[2m:\u001b[0m\u001b[2m77\u001b[0m\n",
      "\u001b[0m\u001b[34mINFO    \u001b[0m Defined global variable \u001b[32m'context'\u001b[0m, \u001b[32m'session'\u001b[0m, \u001b[32m'catalog'\u001b[0m and \u001b[32m'pipelines'\u001b[0m                                         \u001b[2m__init__.py\u001b[0m\u001b[2m:\u001b[0m\u001b[2m78\u001b[0m\n",
      "\u001b[0m\u001b[34mINFO    \u001b[0m Registered line magic \u001b[32m'run_viz'\u001b[0m                                                                                 \u001b[2m__init__.py\u001b[0m\u001b[2m:\u001b[0m\u001b[2m84\u001b[0m\n"
     ]
    }
   ],
   "source": [
    "from pasteur.kedro.ipython import * # type: ignore\n",
    "register_kedro() # type: ignore\n",
    "\n",
    "%load_ext autoreload\n",
    "%autoreload 2"
   ]
  },
  {
   "cell_type": "code",
   "execution_count": null,
   "metadata": {},
   "outputs": [],
   "source": [
    "views = [\n",
    "    \"tab_adult\",\n",
    "    \"texas_billion\",\n",
    "    \"mimic_tab_admissions\"\n",
    "]"
   ]
  },
  {
   "cell_type": "code",
   "execution_count": null,
   "metadata": {},
   "outputs": [],
   "source": [
    "import os\n",
    "base_dir = catalog.load(\"params:base_location\")\n",
    "\n",
    "out_dir = os.path.join(base_dir, \"external/domains\")\n",
    "os.makedirs(out_dir)"
   ]
  },
  {
   "cell_type": "code",
   "execution_count": null,
   "metadata": {},
   "outputs": [],
   "source": [
    "from typing import cast\n",
    "from pasteur.attribute import IdxValue\n",
    "\n",
    "import json\n",
    "\n",
    "for view in views:\n",
    "    attrs = catalog.load(f'{view}.trn.table')['idx'].get_attributes()\n",
    "\n",
    "    domain = {}\n",
    "    for attr in attrs.values():\n",
    "        for val in attr.vals.values():\n",
    "            domain[val.name] = cast(IdxValue, val).get_domain(0)\n",
    "    \n",
    "    with open(os.path.join(out_dir, f\"pgm.{view}.json\"), 'w') as f:\n",
    "        json.dump(domain, f)\n",
    "\n",
    "    privmrf_dom = {}\n",
    "    for name, dom in domain.items():\n",
    "        privmrf_dom[name] = {\"type\": \"discrete\", \"domain\": dom}\n",
    "    \n",
    "    with open(os.path.join(out_dir, f\"privmrf.{view}.json\"), 'w') as f:\n",
    "        json.dump(privmrf_dom, f) \n"
   ]
  },
  {
   "cell_type": "code",
   "execution_count": null,
   "metadata": {},
   "outputs": [
    {
     "name": "stdout",
     "output_type": "stream",
     "text": [
      "1_2_0:(3816, 15)\n",
      "4_3_1:(3164, 15)\n",
      "2_1_0:(4669, 15)\n",
      "1_0_2:(0, 15)\n",
      "2_2_2:(46364, 15)\n",
      "2_3_1:(5303, 15)\n",
      "0_0_1:(13404, 15)\n",
      "0_2_1:(5827, 15)\n",
      "3_0_2:(0, 15)\n",
      "2_2_0:(46364, 15)\n",
      "3_1_0:(943, 15)\n",
      "3_0_1:(0, 15)\n",
      "0_3_1:(2562, 15)\n",
      "3_2_0:(536, 15)\n",
      "3_0_0:(0, 15)\n",
      "0_3_0:(2562, 15)\n",
      "4_2_0:(8416, 15)\n",
      "2_3_2:(5303, 15)\n",
      "2_0_1:(7947, 15)\n",
      "3_2_2:(536, 15)\n",
      "4_0_1:(14428, 15)\n",
      "4_3_2:(3164, 15)\n",
      "3_3_0:(44156, 15)\n",
      "1_0_0:(0, 15)\n",
      "4_2_2:(8416, 15)\n",
      "1_1_0:(13009, 15)\n",
      "1_0_1:(0, 15)\n",
      "0_0_2:(13404, 15)\n",
      "4_3_0:(3164, 15)\n",
      "0_0_0:(13404, 15)\n",
      "4_2_1:(8416, 15)\n",
      "2_1_2:(4669, 15)\n",
      "1_1_1:(13009, 15)\n",
      "2_0_0:(7947, 15)\n",
      "1_1_2:(13009, 15)\n",
      "0_1_2:(14758, 15)\n",
      "4_0_0:(14428, 15)\n",
      "3_1_1:(943, 15)\n",
      "1_3_0:(7269, 15)\n",
      "3_3_1:(44156, 15)\n",
      "1_3_2:(7269, 15)\n",
      "2_0_2:(7947, 15)\n",
      "3_3_2:(44156, 15)\n",
      "0_1_1:(14758, 15)\n",
      "3_2_1:(536, 15)\n",
      "4_1_1:(6733, 15)\n",
      "1_2_2:(3816, 15)\n",
      "4_0_2:(14428, 15)\n",
      "0_2_2:(5827, 15)\n",
      "0_2_0:(5827, 15)\n",
      "2_1_1:(4669, 15)\n",
      "2_3_0:(5303, 15)\n",
      "0_3_2:(2562, 15)\n",
      "1_3_1:(7269, 15)\n",
      "1_2_1:(3816, 15)\n",
      "3_1_2:(943, 15)\n",
      "0_1_0:(14758, 15)\n",
      "2_2_1:(46364, 15)\n",
      "4_1_0:(6733, 15)\n",
      "4_1_2:(6733, 15)\n",
      "\u001b[1m(\u001b[0m\u001b[1;36m609912\u001b[0m, \u001b[1;36m15\u001b[0m\u001b[1m)\u001b[0m\n"
     ]
    }
   ],
   "source": [
    "a = catalog.load('mimic_billion.wrk.table')\n",
    "\n",
    "for name, part in a.items():\n",
    "    print(f\"{name}:{part.shape}\")\n",
    "\n",
    "a.shape"
   ]
  },
  {
   "cell_type": "code",
   "execution_count": null,
   "metadata": {},
   "outputs": [],
   "source": []
  }
 ],
 "metadata": {
  "language_info": {
   "codemirror_mode": {
    "name": "ipython",
    "version": 3
   },
   "file_extension": ".py",
   "mimetype": "text/x-python",
   "name": "python",
   "nbconvert_exporter": "python",
   "pygments_lexer": "ipython3",
   "version": "3.10.9"
  },
  "vscode": {
   "interpreter": {
    "hash": "d48f3171bf93d5bacc74509c6ff913ccf36520ab35bc9e1b8a60d7039aa36cfb"
   }
  }
 },
 "nbformat": 4,
 "nbformat_minor": 2
}
