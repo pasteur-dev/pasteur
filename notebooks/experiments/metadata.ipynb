{
 "cells": [
  {
   "cell_type": "code",
   "execution_count": null,
   "metadata": {},
   "outputs": [
    {
     "name": "stdout",
     "output_type": "stream",
     "text": [
      "\u001b[0m\u001b[34mINFO    \u001b[0m Kedro project Pasteur                                                                                           \u001b[2m__init__.py\u001b[0m\u001b[2m:\u001b[0m\u001b[2m77\u001b[0m\n",
      "\u001b[0m\u001b[34mINFO    \u001b[0m Defined global variable \u001b[32m'context'\u001b[0m, \u001b[32m'session'\u001b[0m, \u001b[32m'catalog'\u001b[0m and \u001b[32m'pipelines'\u001b[0m                                         \u001b[2m__init__.py\u001b[0m\u001b[2m:\u001b[0m\u001b[2m78\u001b[0m\n",
      "\u001b[0m\u001b[34mINFO    \u001b[0m Registered line magic \u001b[32m'run_viz'\u001b[0m                                                                                 \u001b[2m__init__.py\u001b[0m\u001b[2m:\u001b[0m\u001b[2m84\u001b[0m\n"
     ]
    }
   ],
   "source": [
    "from pasteur.kedro.ipython import * # type: ignore\n",
    "register_kedro() # type: ignore\n",
    "\n",
    "%load_ext autoreload\n",
    "%autoreload 2"
   ]
  },
  {
   "cell_type": "code",
   "execution_count": null,
   "metadata": {},
   "outputs": [],
   "source": [
    "views = [\n",
    "    \"tab_adult\",\n",
    "    \"mimic_billion\",\n",
    "    \"mimic_tab_admissions\"\n",
    "]"
   ]
  },
  {
   "cell_type": "code",
   "execution_count": null,
   "metadata": {},
   "outputs": [],
   "source": [
    "import os\n",
    "base_dir = catalog.load(\"params:base_location\")\n",
    "\n",
    "out_dir = os.path.join(base_dir, \"external/domains\")\n",
    "os.makedirs(out_dir)"
   ]
  },
  {
   "cell_type": "code",
   "execution_count": null,
   "metadata": {},
   "outputs": [],
   "source": [
    "from typing import cast\n",
    "from pasteur.attribute import IdxValue\n",
    "\n",
    "import json\n",
    "\n",
    "for view in views:\n",
    "    attrs = catalog.load(f'{view}.trn.table')['idx'].get_attributes()\n",
    "\n",
    "    domain = {}\n",
    "    for attr in attrs.values():\n",
    "        for val in attr.vals.values():\n",
    "            domain[val.name] = cast(IdxValue, val).get_domain(0)\n",
    "    \n",
    "    with open(os.path.join(out_dir, f\"pgm.{view}.json\"), 'w') as f:\n",
    "        json.dump(domain, f)\n",
    "\n",
    "    privmrf_dom = {}\n",
    "    for name, dom in domain.items():\n",
    "        privmrf_dom[name] = {\"type\": \"discrete\", \"domain\": dom}\n",
    "    \n",
    "    with open(os.path.join(out_dir, f\"privmrf.{view}.json\"), 'w') as f:\n",
    "        json.dump(privmrf_dom, f) \n"
   ]
  }
 ],
 "metadata": {
  "language_info": {
   "codemirror_mode": {
    "name": "ipython",
    "version": 3
   },
   "file_extension": ".py",
   "mimetype": "text/x-python",
   "name": "python",
   "nbconvert_exporter": "python",
   "pygments_lexer": "ipython3",
   "version": "3.10.9"
  },
  "vscode": {
   "interpreter": {
    "hash": "d48f3171bf93d5bacc74509c6ff913ccf36520ab35bc9e1b8a60d7039aa36cfb"
   }
  }
 },
 "nbformat": 4,
 "nbformat_minor": 2
}
