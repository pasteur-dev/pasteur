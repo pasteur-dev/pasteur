{
 "cells": [
  {
   "cell_type": "code",
   "execution_count": null,
   "metadata": {},
   "outputs": [
    {
     "name": "stdout",
     "output_type": "stream",
     "text": [
      "\u001b[0m\u001b[34mINFO    \u001b[0m Kedro project Pasteur                                                                                           \u001b[2m__init__.py\u001b[0m\u001b[2m:\u001b[0m\u001b[2m77\u001b[0m\n",
      "\u001b[0m\u001b[34mINFO    \u001b[0m Defined global variable \u001b[32m'context'\u001b[0m, \u001b[32m'session'\u001b[0m, \u001b[32m'catalog'\u001b[0m and \u001b[32m'pipelines'\u001b[0m                                         \u001b[2m__init__.py\u001b[0m\u001b[2m:\u001b[0m\u001b[2m78\u001b[0m\n",
      "\u001b[0m\u001b[34mINFO    \u001b[0m Registered line magic \u001b[32m'run_viz'\u001b[0m                                                                                 \u001b[2m__init__.py\u001b[0m\u001b[2m:\u001b[0m\u001b[2m84\u001b[0m\n"
     ]
    }
   ],
   "source": [
    "from pasteur.kedro.ipython import * # type: ignore\n",
    "register_kedro() # type: ignore\n",
    "\n",
    "%load_ext autoreload\n",
    "%autoreload 2"
   ]
  },
  {
   "cell_type": "code",
   "execution_count": null,
   "metadata": {},
   "outputs": [
    {
     "name": "stdout",
     "output_type": "stream",
     "text": [
      "\u001b[0m\u001b[31mWARNING \u001b[0m Loading partitioned dataset as a whole, this may cause memory issues.                                           \u001b[2m__init__.py\u001b[0m\u001b[2m:\u001b[0m\u001b[2m85\u001b[0m\n"
     ]
    }
   ],
   "source": [
    "texas = catalog.load('texas.charges')()"
   ]
  },
  {
   "cell_type": "code",
   "execution_count": null,
   "metadata": {},
   "outputs": [
    {
     "name": "stdout",
     "output_type": "stream",
     "text": [
      "<class 'pandas.core.frame.DataFrame'>\n",
      "RangeIndex: 508660708 entries, 0 to 508660707\n",
      "Data columns (total 11 columns):\n",
      " #   Column                 Dtype   \n",
      "---  ------                 -----   \n",
      " 0   record_id              int64   \n",
      " 1   revenue_code           category\n",
      " 2   hcpcs_qualifier        category\n",
      " 3   hcpcs_procedure_code   category\n",
      " 4   modifier_1             category\n",
      " 5   modifier_2             category\n",
      " 6   unit_measurement_code  category\n",
      " 7   units_of_service       Int32   \n",
      " 8   unit_rate              float32 \n",
      " 9   chrgs_line_item        float32 \n",
      " 10  chrgs_non_cov          float32 \n",
      "dtypes: Int32(1), category(6), float32(3), int64(1)\n",
      "memory usage: 16.6 GB\n"
     ]
    }
   ],
   "source": [
    "# Optimised load = RAM use for CSV, Parquet, and csv.gz\n",
    "texas.drop(columns=['modifier_3', 'modifier_4']).info()"
   ]
  },
  {
   "cell_type": "code",
   "execution_count": null,
   "metadata": {},
   "outputs": [],
   "source": [
    "# 3GB\n",
    "texas.drop(columns=['modifier_3', 'modifier_4']).to_parquet(\"../../data/texas_tmp.pq\")"
   ]
  },
  {
   "cell_type": "code",
   "execution_count": null,
   "metadata": {},
   "outputs": [
    {
     "name": "stdout",
     "output_type": "stream",
     "text": [
      "24 s ± 890 ms per loop (mean ± std. dev. of 7 runs, 1 loop each)\n"
     ]
    }
   ],
   "source": [
    "import pandas as pd\n",
    "\n",
    "%timeit pd.read_parquet(\"../../data/texas_tmp.pq\")"
   ]
  },
  {
   "cell_type": "code",
   "execution_count": null,
   "metadata": {},
   "outputs": [],
   "source": [
    "import pyarrow as pa\n",
    "\n",
    "texas_pa = pa.Table.from_pandas(texas.drop(columns=['modifier_3', 'modifier_4']))"
   ]
  },
  {
   "cell_type": "code",
   "execution_count": null,
   "metadata": {},
   "outputs": [],
   "source": [
    "import pyarrow.csv as csv\n",
    "\n",
    "with pa.CompressedOutputStream(\"../../data/texas_tmp.csv.gz\", \"gzip\") as out:\n",
    "    csv.write_csv(texas_pa, out)"
   ]
  },
  {
   "cell_type": "code",
   "execution_count": null,
   "metadata": {},
   "outputs": [],
   "source": [
    "# $ gzip -dk texas_tmp.csv.gz"
   ]
  },
  {
   "cell_type": "code",
   "execution_count": null,
   "metadata": {},
   "outputs": [
    {
     "name": "stdout",
     "output_type": "stream",
     "text": [
      "\n",
      "record_id                   int64\n",
      "revenue_code             category\n",
      "hcpcs_qualifier          category\n",
      "hcpcs_procedure_code     category\n",
      "modifier_1               category\n",
      "modifier_2               category\n",
      "unit_measurement_code    category\n",
      "units_of_service            Int32\n",
      "unit_rate                 float32\n",
      "chrgs_line_item           float32\n",
      "chrgs_non_cov             float32\n",
      "dtype: object\n"
     ]
    }
   ],
   "source": [
    "import pandas as pd\n",
    "texas.drop(columns=['modifier_3', 'modifier_4']).dtypes"
   ]
  },
  {
   "cell_type": "code",
   "execution_count": null,
   "metadata": {},
   "outputs": [],
   "source": [
    "texas_csv = pd.read_csv(\n",
    "    \"../../data/texas_tmp.csv.gz\",\n",
    "    dtype={\n",
    "        \"revenue_code\": \"category\",\n",
    "        \"hcpcs_qualifier\": \"category\",\n",
    "        \"hcpcs_procedure_code\": \"category\",\n",
    "        \"modifier_1\": \"category\",\n",
    "        \"modifier_2\": \"category\",\n",
    "        \"unit_measurement_code\": \"category\",\n",
    "        \"units_of_service\": \"Int32\",\n",
    "        \"unit_rate\": \"float32\",\n",
    "        \"chrgs_line_item\": \"float32\",\n",
    "        \"chrgs_non_cov\": \"float32\",\n",
    "    },\n",
    ")\n"
   ]
  },
  {
   "cell_type": "code",
   "execution_count": null,
   "metadata": {},
   "outputs": [
    {
     "name": "stdout",
     "output_type": "stream",
     "text": [
      "<class 'pandas.core.frame.DataFrame'>\n",
      "RangeIndex: 508660708 entries, 0 to 508660707\n",
      "Data columns (total 11 columns):\n",
      " #   Column                 Dtype   \n",
      "---  ------                 -----   \n",
      " 0   record_id              int64   \n",
      " 1   revenue_code           category\n",
      " 2   hcpcs_qualifier        category\n",
      " 3   hcpcs_procedure_code   category\n",
      " 4   modifier_1             category\n",
      " 5   modifier_2             category\n",
      " 6   unit_measurement_code  category\n",
      " 7   units_of_service       Int32   \n",
      " 8   unit_rate              float32 \n",
      " 9   chrgs_line_item        float32 \n",
      " 10  chrgs_non_cov          float32 \n",
      "dtypes: Int32(1), category(6), float32(3), int64(1)\n",
      "memory usage: 16.6 GB\n"
     ]
    }
   ],
   "source": [
    "texas_csv.info()"
   ]
  },
  {
   "cell_type": "code",
   "execution_count": null,
   "metadata": {},
   "outputs": [
    {
     "name": "stdout",
     "output_type": "stream",
     "text": [
      "\u001b[0m\u001b[31mWARNING \u001b[0m Loading partitioned dataset as a whole, this may cause memory issues.                                           \u001b[2m__init__.py\u001b[0m\u001b[2m:\u001b[0m\u001b[2m85\u001b[0m\n"
     ]
    }
   ],
   "source": [
    "p = catalog.load(\"mimic.hosp_pharmacy\")()\n",
    "p = p.assign(poe_id=p['poe_id'].map(lambda x: int(x[1])*10000 + int(x[0]) if x is not None else 0))"
   ]
  },
  {
   "cell_type": "code",
   "execution_count": null,
   "metadata": {},
   "outputs": [],
   "source": [
    "p.to_parquet(\"../../data/pharma_tmp.pq\")"
   ]
  },
  {
   "cell_type": "code",
   "execution_count": null,
   "metadata": {},
   "outputs": [
    {
     "name": "stdout",
     "output_type": "stream",
     "text": [
      "<class 'pandas.core.frame.DataFrame'>\n",
      "Int64Index: 14736384 entries, 0 to 14736346\n",
      "Data columns (total 27 columns):\n",
      " #   Column             Dtype         \n",
      "---  ------             -----         \n",
      " 0   subject_id         int32         \n",
      " 1   hadm_id            int32         \n",
      " 2   pharmacy_id        int32         \n",
      " 3   poe_id             int64         \n",
      " 4   starttime          datetime64[ns]\n",
      " 5   stoptime           datetime64[ns]\n",
      " 6   medication         category      \n",
      " 7   proc_type          category      \n",
      " 8   status             category      \n",
      " 9   entertime          datetime64[ns]\n",
      " 10  verifiedtime       datetime64[ns]\n",
      " 11  route              category      \n",
      " 12  frequency          category      \n",
      " 13  disp_sched         category      \n",
      " 14  infusion_type      category      \n",
      " 15  sliding_scale      category      \n",
      " 16  lockout_interval   category      \n",
      " 17  basal_rate         category      \n",
      " 18  one_hr_max         category      \n",
      " 19  doses_per_24_hrs   category      \n",
      " 20  duration           category      \n",
      " 21  duration_interval  category      \n",
      " 22  expiration_value   category      \n",
      " 23  expiration_unit    category      \n",
      " 24  expirationdate     datetime64[ns]\n",
      " 25  dispensation       category      \n",
      " 26  fill_quantity      category      \n",
      "dtypes: category(18), datetime64[ns](5), int32(3), int64(1)\n",
      "memory usage: 1.2 GB\n"
     ]
    }
   ],
   "source": [
    "p.info()"
   ]
  },
  {
   "cell_type": "code",
   "execution_count": null,
   "metadata": {},
   "outputs": [],
   "source": [
    "import pyarrow as pa\n",
    "\n",
    "p_pa = pa.Table.from_pandas(p).drop([\"__index_level_0__\"])"
   ]
  },
  {
   "cell_type": "code",
   "execution_count": null,
   "metadata": {},
   "outputs": [],
   "source": [
    "import pyarrow.csv as csv\n",
    "\n",
    "with pa.CompressedOutputStream(\"../../data/pharma_tmp.csv.gz\", \"gzip\") as out:\n",
    "    csv.write_csv(p_pa, out)"
   ]
  },
  {
   "cell_type": "code",
   "execution_count": null,
   "metadata": {},
   "outputs": [],
   "source": [
    "# $ gzip -dk pharma_tmp.csv.gz"
   ]
  },
  {
   "cell_type": "code",
   "execution_count": null,
   "metadata": {},
   "outputs": [
    {
     "name": "stdout",
     "output_type": "stream",
     "text": [
      "<class 'pandas.core.frame.DataFrame'>\n",
      "RangeIndex: 14736384 entries, 0 to 14736383\n",
      "Data columns (total 27 columns):\n",
      " #   Column             Dtype         \n",
      "---  ------             -----         \n",
      " 0   subject_id         int32         \n",
      " 1   hadm_id            int32         \n",
      " 2   pharmacy_id        int32         \n",
      " 3   poe_id             int64         \n",
      " 4   starttime          datetime64[ns]\n",
      " 5   stoptime           datetime64[ns]\n",
      " 6   medication         category      \n",
      " 7   proc_type          category      \n",
      " 8   status             category      \n",
      " 9   entertime          datetime64[ns]\n",
      " 10  verifiedtime       datetime64[ns]\n",
      " 11  route              category      \n",
      " 12  frequency          category      \n",
      " 13  disp_sched         category      \n",
      " 14  infusion_type      category      \n",
      " 15  sliding_scale      category      \n",
      " 16  lockout_interval   category      \n",
      " 17  basal_rate         category      \n",
      " 18  one_hr_max         category      \n",
      " 19  doses_per_24_hrs   category      \n",
      " 20  duration           category      \n",
      " 21  duration_interval  category      \n",
      " 22  expiration_value   category      \n",
      " 23  expiration_unit    category      \n",
      " 24  expirationdate     datetime64[ns]\n",
      " 25  dispensation       category      \n",
      " 26  fill_quantity      category      \n",
      "dtypes: category(18), datetime64[ns](5), int32(3), int64(1)\n",
      "memory usage: 1.1 GB\n"
     ]
    }
   ],
   "source": [
    "p_pq = pd.read_parquet(\"../../data/pharma_tmp.pq\").reset_index(drop=True)\n",
    "p_pq.info()"
   ]
  },
  {
   "cell_type": "code",
   "execution_count": null,
   "metadata": {},
   "outputs": [
    {
     "name": "stdout",
     "output_type": "stream",
     "text": [
      "1.33 s ± 22.6 ms per loop (mean ± std. dev. of 7 runs, 1 loop each)\n"
     ]
    }
   ],
   "source": [
    "%timeit pd.read_parquet(\"../../data/pharma_tmp.pq\")"
   ]
  },
  {
   "cell_type": "code",
   "execution_count": null,
   "metadata": {},
   "outputs": [
    {
     "name": "stdout",
     "output_type": "stream",
     "text": [
      "\u001b[0m\u001b[31mWARNING \u001b[0m \u001b[35m/tmp/ipykernel_2651520/\u001b[0m\u001b[95m949738715.py\u001b[0m:\u001b[1;36m1\u001b[0m: DtypeWarning: Columns \u001b[1m(\u001b[0m\u001b[1;36m16\u001b[0m,\u001b[1;36m18\u001b[0m,\u001b[1;36m24\u001b[0m,\u001b[1;36m26\u001b[0m\u001b[1m)\u001b[0m have mixed types. Specify dtype     \u001b[2mwarnings.py\u001b[0m\u001b[2m:\u001b[0m\u001b[2m109\u001b[0m\n",
      "\u001b[0m         option on import or set \u001b[33mlow_memory\u001b[0m=\u001b[3;91mFalse\u001b[0m.                                                                      \u001b[2m               \u001b[0m\n",
      "\u001b[0m           p_csv = \u001b[1;35mpd.read_csv\u001b[0m\u001b[1m(\u001b[0m\u001b[32m\"../../data/pharma_tmp.csv\"\u001b[0m\u001b[1m)\u001b[0m                                                             \u001b[2m               \u001b[0m\n",
      "\u001b[0m                                                                                                                        \u001b[2m               \u001b[0m\n"
     ]
    }
   ],
   "source": [
    "p_csv = pd.read_csv(\"../../data/pharma_tmp.csv\")"
   ]
  },
  {
   "cell_type": "code",
   "execution_count": null,
   "metadata": {},
   "outputs": [
    {
     "name": "stdout",
     "output_type": "stream",
     "text": [
      "<class 'pandas.core.frame.DataFrame'>\n",
      "RangeIndex: 14736384 entries, 0 to 14736383\n",
      "Data columns (total 27 columns):\n",
      " #   Column             Dtype  \n",
      "---  ------             -----  \n",
      " 0   subject_id         int64  \n",
      " 1   hadm_id            int64  \n",
      " 2   pharmacy_id        int64  \n",
      " 3   poe_id             int64  \n",
      " 4   starttime          object \n",
      " 5   stoptime           object \n",
      " 6   medication         object \n",
      " 7   proc_type          object \n",
      " 8   status             object \n",
      " 9   entertime          object \n",
      " 10  verifiedtime       object \n",
      " 11  route              object \n",
      " 12  frequency          object \n",
      " 13  disp_sched         object \n",
      " 14  infusion_type      object \n",
      " 15  sliding_scale      object \n",
      " 16  lockout_interval   object \n",
      " 17  basal_rate         float64\n",
      " 18  one_hr_max         object \n",
      " 19  doses_per_24_hrs   float64\n",
      " 20  duration           float64\n",
      " 21  duration_interval  object \n",
      " 22  expiration_value   float64\n",
      " 23  expiration_unit    object \n",
      " 24  expirationdate     object \n",
      " 25  dispensation       object \n",
      " 26  fill_quantity      object \n",
      "dtypes: float64(4), int64(4), object(19)\n",
      "memory usage: 16.3 GB\n"
     ]
    }
   ],
   "source": [
    "p_csv.info(memory_usage=\"deep\")"
   ]
  },
  {
   "cell_type": "code",
   "execution_count": null,
   "metadata": {},
   "outputs": [
    {
     "name": "stdout",
     "output_type": "stream",
     "text": [
      "\u001b[0m\u001b[31mWARNING \u001b[0m \u001b[35m/tmp/ipykernel_2651520/\u001b[0m\u001b[95m2930756594.py\u001b[0m:\u001b[1;36m1\u001b[0m: DtypeWarning: Columns \u001b[1m(\u001b[0m\u001b[1;36m16\u001b[0m,\u001b[1;36m18\u001b[0m,\u001b[1;36m24\u001b[0m,\u001b[1;36m26\u001b[0m\u001b[1m)\u001b[0m have mixed types. Specify dtype    \u001b[2mwarnings.py\u001b[0m\u001b[2m:\u001b[0m\u001b[2m109\u001b[0m\n",
      "\u001b[0m         option on import or set \u001b[33mlow_memory\u001b[0m=\u001b[3;91mFalse\u001b[0m.                                                                      \u001b[2m               \u001b[0m\n",
      "\u001b[0m           p_csv = \u001b[1;35mpd.read_csv\u001b[0m\u001b[1m(\u001b[0m\u001b[32m\"../../data/pharma_tmp.csv.gz\"\u001b[0m\u001b[1m)\u001b[0m                                                          \u001b[2m               \u001b[0m\n",
      "\u001b[0m                                                                                                                        \u001b[2m               \u001b[0m\n"
     ]
    }
   ],
   "source": [
    "p_csv = pd.read_csv(\"../../data/pharma_tmp.csv.gz\")"
   ]
  },
  {
   "cell_type": "code",
   "execution_count": null,
   "metadata": {},
   "outputs": [
    {
     "name": "stdout",
     "output_type": "stream",
     "text": [
      "<class 'pandas.core.frame.DataFrame'>\n",
      "RangeIndex: 14736384 entries, 0 to 14736383\n",
      "Data columns (total 27 columns):\n",
      " #   Column             Dtype  \n",
      "---  ------             -----  \n",
      " 0   subject_id         int64  \n",
      " 1   hadm_id            int64  \n",
      " 2   pharmacy_id        int64  \n",
      " 3   poe_id             int64  \n",
      " 4   starttime          object \n",
      " 5   stoptime           object \n",
      " 6   medication         object \n",
      " 7   proc_type          object \n",
      " 8   status             object \n",
      " 9   entertime          object \n",
      " 10  verifiedtime       object \n",
      " 11  route              object \n",
      " 12  frequency          object \n",
      " 13  disp_sched         object \n",
      " 14  infusion_type      object \n",
      " 15  sliding_scale      object \n",
      " 16  lockout_interval   object \n",
      " 17  basal_rate         float64\n",
      " 18  one_hr_max         object \n",
      " 19  doses_per_24_hrs   float64\n",
      " 20  duration           float64\n",
      " 21  duration_interval  object \n",
      " 22  expiration_value   float64\n",
      " 23  expiration_unit    object \n",
      " 24  expirationdate     object \n",
      " 25  dispensation       object \n",
      " 26  fill_quantity      object \n",
      "dtypes: float64(4), int64(4), object(19)\n",
      "memory usage: 16.3 GB\n"
     ]
    }
   ],
   "source": [
    "p_csv.info(memory_usage=\"deep\")"
   ]
  },
  {
   "cell_type": "code",
   "execution_count": null,
   "metadata": {},
   "outputs": [
    {
     "name": "stdout",
     "output_type": "stream",
     "text": [
      "\n",
      "subject_id                    int32\n",
      "hadm_id                       int32\n",
      "pharmacy_id                   int32\n",
      "poe_id                        int64\n",
      "starttime            datetime64\u001b[1m[\u001b[0mns\u001b[1m]\u001b[0m\n",
      "stoptime             datetime64\u001b[1m[\u001b[0mns\u001b[1m]\u001b[0m\n",
      "medication                 category\n",
      "proc_type                  category\n",
      "status                     category\n",
      "entertime            datetime64\u001b[1m[\u001b[0mns\u001b[1m]\u001b[0m\n",
      "verifiedtime         datetime64\u001b[1m[\u001b[0mns\u001b[1m]\u001b[0m\n",
      "route                      category\n",
      "frequency                  category\n",
      "disp_sched                 category\n",
      "infusion_type              category\n",
      "sliding_scale              category\n",
      "lockout_interval           category\n",
      "basal_rate                 category\n",
      "one_hr_max                 category\n",
      "doses_per_24_hrs           category\n",
      "duration                   category\n",
      "duration_interval          category\n",
      "expiration_value           category\n",
      "expiration_unit            category\n",
      "expirationdate       datetime64\u001b[1m[\u001b[0mns\u001b[1m]\u001b[0m\n",
      "dispensation               category\n",
      "fill_quantity              category\n",
      "dtype: object\n"
     ]
    }
   ],
   "source": [
    "p.dtypes"
   ]
  },
  {
   "cell_type": "code",
   "execution_count": null,
   "metadata": {},
   "outputs": [],
   "source": [
    "p_csv = pd.read_csv(\n",
    "    \"../../data/pharma_tmp.csv\",\n",
    "    parse_dates=[\"expirationdate\", \"verifiedtime\", \"entertime\", \"stoptime\", \"starttime\"],\n",
    "    dtype={\n",
    "        \"subject_id\": \"int32\",\n",
    "        \"hadm_id\": \"int32\",\n",
    "        \"pharmacy_id\": \"int32\",\n",
    "        \"poe_id\": \"int64\",\n",
    "        \"medication\": \"category\",\n",
    "        \"proc_type\": \"category\",\n",
    "        \"status\": \"category\",\n",
    "        \"route\": \"category\",\n",
    "        \"frequency\": \"category\",\n",
    "        \"disp_sched\": \"category\",\n",
    "        \"infusion_type\": \"category\",\n",
    "        \"sliding_scale\": \"category\",\n",
    "        \"lockout_interval\": \"category\",\n",
    "        \"basal_rate\": \"category\",\n",
    "        \"one_hr_max\": \"category\",\n",
    "        \"doses_per_24_hrs\": \"category\",\n",
    "        \"duration\": \"category\",\n",
    "        \"duration_interval\": \"category\",\n",
    "        \"expiration_value\": \"category\",\n",
    "        \"expiration_unit\": \"category\",\n",
    "        \"dispensation\": \"category\",\n",
    "        \"fill_quantity\": \"category\",\n",
    "    },\n",
    ")\n"
   ]
  },
  {
   "cell_type": "code",
   "execution_count": null,
   "metadata": {},
   "outputs": [
    {
     "name": "stdout",
     "output_type": "stream",
     "text": [
      "<class 'pandas.core.frame.DataFrame'>\n",
      "RangeIndex: 14736384 entries, 0 to 14736383\n",
      "Data columns (total 27 columns):\n",
      " #   Column             Dtype         \n",
      "---  ------             -----         \n",
      " 0   subject_id         int32         \n",
      " 1   hadm_id            int32         \n",
      " 2   pharmacy_id        int32         \n",
      " 3   poe_id             int64         \n",
      " 4   starttime          datetime64[ns]\n",
      " 5   stoptime           datetime64[ns]\n",
      " 6   medication         category      \n",
      " 7   proc_type          category      \n",
      " 8   status             category      \n",
      " 9   entertime          datetime64[ns]\n",
      " 10  verifiedtime       datetime64[ns]\n",
      " 11  route              category      \n",
      " 12  frequency          category      \n",
      " 13  disp_sched         category      \n",
      " 14  infusion_type      category      \n",
      " 15  sliding_scale      category      \n",
      " 16  lockout_interval   category      \n",
      " 17  basal_rate         category      \n",
      " 18  one_hr_max         category      \n",
      " 19  doses_per_24_hrs   category      \n",
      " 20  duration           category      \n",
      " 21  duration_interval  category      \n",
      " 22  expiration_value   category      \n",
      " 23  expiration_unit    category      \n",
      " 24  expirationdate     datetime64[ns]\n",
      " 25  dispensation       category      \n",
      " 26  fill_quantity      category      \n",
      "dtypes: category(18), datetime64[ns](5), int32(3), int64(1)\n",
      "memory usage: 1.1 GB\n"
     ]
    }
   ],
   "source": [
    "p_csv.info(memory_usage=\"deep\")"
   ]
  },
  {
   "cell_type": "code",
   "execution_count": null,
   "metadata": {},
   "outputs": [],
   "source": [
    "p_csv = pd.read_csv(\n",
    "    \"../../data/pharma_tmp.csv.gz\",\n",
    "    parse_dates=[\"expirationdate\", \"verifiedtime\", \"entertime\", \"stoptime\", \"starttime\"],\n",
    "    dtype={\n",
    "        \"subject_id\": \"int32\",\n",
    "        \"hadm_id\": \"int32\",\n",
    "        \"pharmacy_id\": \"int32\",\n",
    "        \"poe_id\": \"int64\",\n",
    "        \"medication\": \"category\",\n",
    "        \"proc_type\": \"category\",\n",
    "        \"status\": \"category\",\n",
    "        \"route\": \"category\",\n",
    "        \"frequency\": \"category\",\n",
    "        \"disp_sched\": \"category\",\n",
    "        \"infusion_type\": \"category\",\n",
    "        \"sliding_scale\": \"category\",\n",
    "        \"lockout_interval\": \"category\",\n",
    "        \"basal_rate\": \"category\",\n",
    "        \"one_hr_max\": \"category\",\n",
    "        \"doses_per_24_hrs\": \"category\",\n",
    "        \"duration\": \"category\",\n",
    "        \"duration_interval\": \"category\",\n",
    "        \"expiration_value\": \"category\",\n",
    "        \"expiration_unit\": \"category\",\n",
    "        \"dispensation\": \"category\",\n",
    "        \"fill_quantity\": \"category\",\n",
    "    },\n",
    ")\n"
   ]
  },
  {
   "cell_type": "code",
   "execution_count": null,
   "metadata": {},
   "outputs": [
    {
     "name": "stdout",
     "output_type": "stream",
     "text": [
      "<class 'pandas.core.frame.DataFrame'>\n",
      "RangeIndex: 14736384 entries, 0 to 14736383\n",
      "Data columns (total 27 columns):\n",
      " #   Column             Dtype         \n",
      "---  ------             -----         \n",
      " 0   subject_id         int32         \n",
      " 1   hadm_id            int32         \n",
      " 2   pharmacy_id        int32         \n",
      " 3   poe_id             int64         \n",
      " 4   starttime          datetime64[ns]\n",
      " 5   stoptime           datetime64[ns]\n",
      " 6   medication         category      \n",
      " 7   proc_type          category      \n",
      " 8   status             category      \n",
      " 9   entertime          datetime64[ns]\n",
      " 10  verifiedtime       datetime64[ns]\n",
      " 11  route              category      \n",
      " 12  frequency          category      \n",
      " 13  disp_sched         category      \n",
      " 14  infusion_type      category      \n",
      " 15  sliding_scale      category      \n",
      " 16  lockout_interval   category      \n",
      " 17  basal_rate         category      \n",
      " 18  one_hr_max         category      \n",
      " 19  doses_per_24_hrs   category      \n",
      " 20  duration           category      \n",
      " 21  duration_interval  category      \n",
      " 22  expiration_value   category      \n",
      " 23  expiration_unit    category      \n",
      " 24  expirationdate     datetime64[ns]\n",
      " 25  dispensation       category      \n",
      " 26  fill_quantity      category      \n",
      "dtypes: category(18), datetime64[ns](5), int32(3), int64(1)\n",
      "memory usage: 1.1 GB\n"
     ]
    }
   ],
   "source": [
    "p_csv.info(memory_usage=\"deep\")"
   ]
  },
  {
   "cell_type": "code",
   "execution_count": null,
   "metadata": {},
   "outputs": [],
   "source": []
  }
 ],
 "metadata": {
  "language_info": {
   "codemirror_mode": {
    "name": "ipython",
    "version": 3
   },
   "file_extension": ".py",
   "mimetype": "text/x-python",
   "name": "python",
   "nbconvert_exporter": "python",
   "pygments_lexer": "ipython3",
   "version": "3.10.9"
  },
  "vscode": {
   "interpreter": {
    "hash": "06fefce6151b2561bea7dbaa3a9e0f8a5fddd1f07747f54ebd96cc390fa4aebe"
   }
  }
 },
 "nbformat": 4,
 "nbformat_minor": 2
}
