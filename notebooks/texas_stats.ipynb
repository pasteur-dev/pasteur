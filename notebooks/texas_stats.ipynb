{
 "cells": [
  {
   "cell_type": "code",
   "execution_count": null,
   "metadata": {},
   "outputs": [
    {
     "name": "stdout",
     "output_type": "stream",
     "text": [
      "\u001b[0m\u001b[34mINFO    \u001b[0m Kedro project Pasteur                                                                                           \u001b[2m__init__.py\u001b[0m\u001b[2m:\u001b[0m\u001b[2m77\u001b[0m\n",
      "\u001b[0m\u001b[34mINFO    \u001b[0m Defined global variable \u001b[32m'context'\u001b[0m, \u001b[32m'session'\u001b[0m, \u001b[32m'catalog'\u001b[0m and \u001b[32m'pipelines'\u001b[0m                                         \u001b[2m__init__.py\u001b[0m\u001b[2m:\u001b[0m\u001b[2m78\u001b[0m\n",
      "\u001b[0m\u001b[34mINFO    \u001b[0m Registered line magic \u001b[32m'run_viz'\u001b[0m                                                                                 \u001b[2m__init__.py\u001b[0m\u001b[2m:\u001b[0m\u001b[2m84\u001b[0m\n"
     ]
    }
   ],
   "source": [
    "from pasteur.kedro.ipython import * # type: ignore\n",
    "register_kedro() # type: ignore"
   ]
  },
  {
   "cell_type": "code",
   "execution_count": null,
   "metadata": {},
   "outputs": [
    {
     "name": "stdout",
     "output_type": "stream",
     "text": [
      "307 = 286 + 13 + 10\n"
     ]
    }
   ],
   "source": [
    "len_base = len(catalog.load(\"texas.base\")[\"2011q1\"]().keys())\n",
    "len_charges = len(catalog.load(\"texas.charges\")[\"2011q1\"]().keys())\n",
    "len_facility = len(catalog.load(\"texas.facility\").keys())\n",
    "\n",
    "len_total = len_base + len_charges + len_facility - 2\n",
    "print(f\"{len_total} = {len_base} + {len_charges} + {len_facility}\")"
   ]
  },
  {
   "cell_type": "code",
   "execution_count": null,
   "metadata": {},
   "outputs": [
    {
     "name": "stdout",
     "output_type": "stream",
     "text": [
      "2013q3: 11557149\n",
      "2015q1: 11990947\n",
      "2012q4: 11593617\n",
      "2006q2: 11088535\n",
      "2009q2: 11336603\n",
      "2016q1: 12263596\n",
      "2013q1: 11615014\n",
      "2011q3: 11008163\n",
      "2009q3: 11399181\n",
      "2013q4: 11745726\n",
      "2012q3: 11605802\n",
      "2014q1: 11859542\n",
      "2014q4: 11645692\n",
      "2007q3: 11192673\n",
      "2008q2: 11099847\n",
      "2016q4: 12422080\n",
      "2010q4: 11344149\n",
      "2010q2: 10912601\n",
      "2010q3: 10984757\n",
      "2015q2: 11984998\n",
      "2007q1: 11589437\n",
      "2008q3: 11187371\n",
      "2013q2: 11629821\n",
      "2006q1: 11377458\n",
      "2016q2: 12135421\n",
      "2007q4: 11241566\n",
      "2007q2: 11322195\n",
      "2011q4: 11160928\n",
      "2016q3: 12377363\n",
      "2011q2: 10820733\n",
      "2015q4: 12304536\n",
      "2009q4: 12311844\n",
      "2006q4: 11439364\n",
      "2006q3: 11087792\n",
      "2014q3: 11647938\n",
      "2012q1: 11568053\n",
      "2012q2: 11386168\n",
      "2014q2: 11578376\n",
      "2008q4: 11271851\n",
      "2015q3: 12090296\n",
      "2011q1: 11218228\n",
      "2010q1: 12296693\n",
      "2008q1: 11538152\n",
      "2009q1: 11428452\n",
      "Total: 508660708\n"
     ]
    }
   ],
   "source": [
    "len_total_charges = 0\n",
    "for pid, partition in catalog.load(\"texas.charges\").items():\n",
    "    len_partition = len(partition())\n",
    "    print(f\"{pid}: {len_partition}\")\n",
    "    len_total_charges += len_partition\n",
    "\n",
    "print(f\"Total: {len_total_charges}\")"
   ]
  },
  {
   "cell_type": "code",
   "execution_count": null,
   "metadata": {},
   "outputs": [],
   "source": []
  }
 ],
 "metadata": {
  "language_info": {
   "codemirror_mode": {
    "name": "ipython",
    "version": 3
   },
   "file_extension": ".py",
   "mimetype": "text/x-python",
   "name": "python",
   "nbconvert_exporter": "python",
   "pygments_lexer": "ipython3",
   "version": "3.10.8"
  },
  "vscode": {
   "interpreter": {
    "hash": "50661068d2d5c6ff1ce24ae701dfa73cc4ae117a223c3f7199e1fdb4656c8912"
   }
  }
 },
 "nbformat": 4,
 "nbformat_minor": 2
}
