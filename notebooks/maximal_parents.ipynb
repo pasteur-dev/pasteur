{
 "cells": [
  {
   "cell_type": "code",
   "execution_count": null,
   "metadata": {},
   "outputs": [
    {
     "name": "stdout",
     "output_type": "stream",
     "text": [
      "\u001b[0m\u001b[34mINFO    \u001b[0m Kedro project Pasteur                                                                                           \u001b[2m__init__.py\u001b[0m\u001b[2m:\u001b[0m\u001b[2m77\u001b[0m\n",
      "\u001b[0m\u001b[34mINFO    \u001b[0m Defined global variable \u001b[32m'context'\u001b[0m, \u001b[32m'session'\u001b[0m, \u001b[32m'catalog'\u001b[0m and \u001b[32m'pipelines'\u001b[0m                                         \u001b[2m__init__.py\u001b[0m\u001b[2m:\u001b[0m\u001b[2m78\u001b[0m\n",
      "\u001b[0m\u001b[34mINFO    \u001b[0m Registered line magic \u001b[32m'run_viz'\u001b[0m                                                                                 \u001b[2m__init__.py\u001b[0m\u001b[2m:\u001b[0m\u001b[2m84\u001b[0m\n",
      "\u001b[0m\u001b[34mINFO    \u001b[0m Registered line magic \u001b[32m'reload_kedro_mlflow'\u001b[0m                                                                     \u001b[2m__init__.py\u001b[0m\u001b[2m:\u001b[0m\u001b[2m84\u001b[0m\n"
     ]
    }
   ],
   "source": [
    "from pasteur.kedro.ipython import *\n",
    "register_kedro()"
   ]
  },
  {
   "cell_type": "code",
   "execution_count": null,
   "metadata": {},
   "outputs": [],
   "source": [
    "%load_ext autoreload\n",
    "%autoreload 2\n",
    "%load_ext line_profiler"
   ]
  },
  {
   "cell_type": "code",
   "execution_count": null,
   "metadata": {},
   "outputs": [],
   "source": [
    "import pandas as pd\n",
    "import numpy as np"
   ]
  },
  {
   "cell_type": "code",
   "execution_count": null,
   "metadata": {},
   "outputs": [],
   "source": [
    "from pasteur.metadata import Metadata\n",
    "\n",
    "trn: pd.DataFrame = catalog.load(\"mimic_tab_admissions.trn.table\")\n",
    "table = catalog.load(\"mimic_tab_admissions.wrk.idx_table\")"
   ]
  },
  {
   "cell_type": "code",
   "execution_count": null,
   "metadata": {},
   "outputs": [],
   "source": [
    "attrs = trn[\"idx\"].get_attributes()"
   ]
  },
  {
   "cell_type": "code",
   "execution_count": null,
   "metadata": {},
   "outputs": [
    {
     "name": "stdout",
     "output_type": "stream",
     "text": [
      "\n",
      "\u001b[1m{\u001b[0m\n",
      "    \u001b[32m'birth_year'\u001b[0m: Attr\u001b[1m[\u001b[0m\u001b[33mna\u001b[0m=\u001b[1;36m0\u001b[0m,\u001b[33mukn\u001b[0m=\u001b[1;36m0\u001b[0m\u001b[1m]\u001b[0m\u001b[1m{\u001b[0m\u001b[1m}\u001b[0m,\n",
      "    \u001b[32m'dod'\u001b[0m: Attr\u001b[1m[\u001b[0m\u001b[33mna\u001b[0m=\u001b[1;36m1\u001b[0m,\u001b[33mukn\u001b[0m=\u001b[1;36m0\u001b[0m\u001b[1m]\u001b[0m\u001b[1m{\u001b[0m\u001b[32m'dod_year'\u001b[0m: \u001b[1m<\u001b[0m\u001b[1;95mpasteur.synth.hierarchy.RebalancedColumn\u001b[0m\u001b[39m object at \u001b[0m\u001b[1;36m0x7f8f28461240\u001b[0m\u001b[1m>\u001b[0m, \u001b[32m'dod_week'\u001b[0m: \u001b[1m<\u001b[0m\u001b[1;95mpasteur.synth.hierarchy.RebalancedColumn\u001b[0m\u001b[39m object at \u001b[0m\u001b[1;36m0x7f8f28461270\u001b[0m\u001b[1m>\u001b[0m, \u001b[32m'dod_day'\u001b[0m: \u001b[1m<\u001b[0m\u001b[1;95mpasteur.synth.hierarchy.RebalancedColumn\u001b[0m\u001b[39m object at \u001b[0m\u001b[1;36m0x7f8f284612d0\u001b[0m\u001b[1m>\u001b[0m\u001b[1m}\u001b[0m,\n",
      "    \u001b[32m'admittime'\u001b[0m: Attr\u001b[1m[\u001b[0m\u001b[33mna\u001b[0m=\u001b[1;36m0\u001b[0m,\u001b[33mukn\u001b[0m=\u001b[1;36m0\u001b[0m\u001b[1m]\u001b[0m\u001b[1m{\u001b[0m\u001b[32m'admittime_year'\u001b[0m: \u001b[1m<\u001b[0m\u001b[1;95mpasteur.synth.hierarchy.RebalancedColumn\u001b[0m\u001b[39m object at \u001b[0m\u001b[1;36m0x7f8f28461840\u001b[0m\u001b[1m>\u001b[0m, \u001b[32m'admittime_week'\u001b[0m: \u001b[1m<\u001b[0m\u001b[1;95mpasteur.synth.hierarchy.RebalancedColumn\u001b[0m\u001b[39m object at \u001b[0m\u001b[1;36m0x7f8f284618a0\u001b[0m\u001b[1m>\u001b[0m, \u001b[32m'admittime_day'\u001b[0m: \u001b[1m<\u001b[0m\u001b[1;95mpasteur.synth.hierarchy.RebalancedColumn\u001b[0m\u001b[39m object at \u001b[0m\u001b[1;36m0x7f8f28461900\u001b[0m\u001b[1m>\u001b[0m, \u001b[32m'admittime_time'\u001b[0m: \u001b[1m<\u001b[0m\u001b[1;95mpasteur.synth.hierarchy.RebalancedColumn\u001b[0m\u001b[39m object at \u001b[0m\u001b[1;36m0x7f8f28461960\u001b[0m\u001b[1m>\u001b[0m\u001b[1m}\u001b[0m,\n",
      "    \u001b[32m'dischtime'\u001b[0m: Attr\u001b[1m[\u001b[0m\u001b[33mna\u001b[0m=\u001b[1;36m0\u001b[0m,\u001b[33mukn\u001b[0m=\u001b[1;36m0\u001b[0m\u001b[1m]\u001b[0m\u001b[1m{\u001b[0m\u001b[32m'dischtime_day'\u001b[0m: \u001b[1m<\u001b[0m\u001b[1;95mpasteur.synth.hierarchy.RebalancedColumn\u001b[0m\u001b[39m object at \u001b[0m\u001b[1;36m0x7f8f28461ba0\u001b[0m\u001b[1m>\u001b[0m, \u001b[32m'dischtime_time'\u001b[0m: \u001b[1m<\u001b[0m\u001b[1;95mpasteur.synth.hierarchy.RebalancedColumn\u001b[0m\u001b[39m object at \u001b[0m\u001b[1;36m0x7f8f28461c00\u001b[0m\u001b[1m>\u001b[0m\u001b[1m}\u001b[0m,\n",
      "    \u001b[32m'deathtime'\u001b[0m: Attr\u001b[1m[\u001b[0m\u001b[33mna\u001b[0m=\u001b[1;36m1\u001b[0m,\u001b[33mukn\u001b[0m=\u001b[1;36m0\u001b[0m\u001b[1m]\u001b[0m\u001b[1m{\u001b[0m\u001b[32m'deathtime_day'\u001b[0m: \u001b[1m<\u001b[0m\u001b[1;95mpasteur.synth.hierarchy.RebalancedColumn\u001b[0m\u001b[39m object at \u001b[0m\u001b[1;36m0x7f8f28461ed0\u001b[0m\u001b[1m>\u001b[0m, \u001b[32m'deathtime_time'\u001b[0m: \u001b[1m<\u001b[0m\u001b[1;95mpasteur.synth.hierarchy.RebalancedColumn\u001b[0m\u001b[39m object at \u001b[0m\u001b[1;36m0x7f8f28461f60\u001b[0m\u001b[1m>\u001b[0m\u001b[1m}\u001b[0m,\n",
      "    \u001b[32m'admission_type'\u001b[0m: Attr\u001b[1m[\u001b[0m\u001b[33mna\u001b[0m=\u001b[1;36m0\u001b[0m,\u001b[33mukn\u001b[0m=\u001b[1;36m0\u001b[0m\u001b[1m]\u001b[0m\u001b[1m{\u001b[0m\u001b[32m'admission_type'\u001b[0m: \u001b[1m<\u001b[0m\u001b[1;95mpasteur.synth.hierarchy.RebalancedColumn\u001b[0m\u001b[39m object at \u001b[0m\u001b[1;36m0x7f8f284620b0\u001b[0m\u001b[1m>\u001b[0m\u001b[1m}\u001b[0m,\n",
      "    \u001b[32m'admission_location'\u001b[0m: Attr\u001b[1m[\u001b[0m\u001b[33mna\u001b[0m=\u001b[1;36m1\u001b[0m,\u001b[33mukn\u001b[0m=\u001b[1;36m0\u001b[0m\u001b[1m]\u001b[0m\u001b[1m{\u001b[0m\u001b[32m'admission_location'\u001b[0m: \u001b[1m<\u001b[0m\u001b[1;95mpasteur.synth.hierarchy.RebalancedColumn\u001b[0m\u001b[39m object at \u001b[0m\u001b[1;36m0x7f8f28462290\u001b[0m\u001b[1m>\u001b[0m\u001b[1m}\u001b[0m,\n",
      "    \u001b[32m'discharge_location'\u001b[0m: Attr\u001b[1m[\u001b[0m\u001b[33mna\u001b[0m=\u001b[1;36m1\u001b[0m,\u001b[33mukn\u001b[0m=\u001b[1;36m0\u001b[0m\u001b[1m]\u001b[0m\u001b[1m{\u001b[0m\u001b[32m'discharge_location'\u001b[0m: \u001b[1m<\u001b[0m\u001b[1;95mpasteur.synth.hierarchy.RebalancedColumn\u001b[0m\u001b[39m object at \u001b[0m\u001b[1;36m0x7f8f28462470\u001b[0m\u001b[1m>\u001b[0m\u001b[1m}\u001b[0m,\n",
      "    \u001b[32m'insurance'\u001b[0m: Attr\u001b[1m[\u001b[0m\u001b[33mna\u001b[0m=\u001b[1;36m0\u001b[0m,\u001b[33mukn\u001b[0m=\u001b[1;36m0\u001b[0m\u001b[1m]\u001b[0m\u001b[1m{\u001b[0m\u001b[32m'insurance'\u001b[0m: \u001b[1m<\u001b[0m\u001b[1;95mpasteur.synth.hierarchy.RebalancedColumn\u001b[0m\u001b[39m object at \u001b[0m\u001b[1;36m0x7f8f28462650\u001b[0m\u001b[1m>\u001b[0m\u001b[1m}\u001b[0m,\n",
      "    \u001b[32m'language'\u001b[0m: Attr\u001b[1m[\u001b[0m\u001b[33mna\u001b[0m=\u001b[1;36m0\u001b[0m,\u001b[33mukn\u001b[0m=\u001b[1;36m0\u001b[0m\u001b[1m]\u001b[0m\u001b[1m{\u001b[0m\u001b[32m'language'\u001b[0m: \u001b[1m<\u001b[0m\u001b[1;95mpasteur.synth.hierarchy.RebalancedColumn\u001b[0m\u001b[39m object at \u001b[0m\u001b[1;36m0x7f8f28462860\u001b[0m\u001b[1m>\u001b[0m\u001b[1m}\u001b[0m,\n",
      "    \u001b[32m'marital_status'\u001b[0m: Attr\u001b[1m[\u001b[0m\u001b[33mna\u001b[0m=\u001b[1;36m1\u001b[0m,\u001b[33mukn\u001b[0m=\u001b[1;36m0\u001b[0m\u001b[1m]\u001b[0m\u001b[1m{\u001b[0m\u001b[32m'marital_status'\u001b[0m: \u001b[1m<\u001b[0m\u001b[1;95mpasteur.synth.hierarchy.RebalancedColumn\u001b[0m\u001b[39m object at \u001b[0m\u001b[1;36m0x7f8f28462a40\u001b[0m\u001b[1m>\u001b[0m\u001b[1m}\u001b[0m,\n",
      "    \u001b[32m'ethnicity'\u001b[0m: Attr\u001b[1m[\u001b[0m\u001b[33mna\u001b[0m=\u001b[1;36m0\u001b[0m,\u001b[33mukn\u001b[0m=\u001b[1;36m0\u001b[0m\u001b[1m]\u001b[0m\u001b[1m{\u001b[0m\u001b[32m'ethnicity'\u001b[0m: \u001b[1m<\u001b[0m\u001b[1;95mpasteur.synth.hierarchy.RebalancedColumn\u001b[0m\u001b[39m object at \u001b[0m\u001b[1;36m0x7f8f28462c20\u001b[0m\u001b[1m>\u001b[0m\u001b[1m}\u001b[0m,\n",
      "    \u001b[32m'hospital_expire_flag'\u001b[0m: Attr\u001b[1m[\u001b[0m\u001b[33mna\u001b[0m=\u001b[1;36m0\u001b[0m,\u001b[33mukn\u001b[0m=\u001b[1;36m0\u001b[0m\u001b[1m]\u001b[0m\u001b[1m{\u001b[0m\u001b[32m'hospital_expire_flag'\u001b[0m: \u001b[1m<\u001b[0m\u001b[1;95mpasteur.synth.hierarchy.RebalancedColumn\u001b[0m\u001b[39m object at \u001b[0m\u001b[1;36m0x7f8f28462e00\u001b[0m\u001b[1m>\u001b[0m\u001b[1m}\u001b[0m,\n",
      "    \u001b[32m'gender'\u001b[0m: Attr\u001b[1m[\u001b[0m\u001b[33mna\u001b[0m=\u001b[1;36m0\u001b[0m,\u001b[33mukn\u001b[0m=\u001b[1;36m0\u001b[0m\u001b[1m]\u001b[0m\u001b[1m{\u001b[0m\u001b[32m'gender'\u001b[0m: \u001b[1m<\u001b[0m\u001b[1;95mpasteur.synth.hierarchy.RebalancedColumn\u001b[0m\u001b[39m object at \u001b[0m\u001b[1;36m0x7f8f28462fe0\u001b[0m\u001b[1m>\u001b[0m\u001b[1m}\u001b[0m\n",
      "\u001b[1m}\u001b[0m\n"
     ]
    }
   ],
   "source": [
    "from copy import copy\n",
    "from pasteur.synth.privbayes import rebalance_column\n",
    "\n",
    "new_attrs = {}\n",
    "for name, attr in attrs.items():\n",
    "    cols = {}\n",
    "    for col_name, col in attr.cols.items():\n",
    "        cols[col_name] = rebalance_column(\n",
    "            table[col_name], col, 0\n",
    "        )\n",
    "\n",
    "    new_attr = copy(attr)\n",
    "    new_attr.update_cols(cols)\n",
    "    new_attrs[name] = new_attr\n",
    "new_attrs"
   ]
  },
  {
   "cell_type": "code",
   "execution_count": null,
   "metadata": {},
   "outputs": [
    {
     "name": "stdout",
     "output_type": "stream",
     "text": [
      "[[33, 27, 21, 16, 12, 8, 5, 4, 2], [53, 45, 35, 27, 21, 16, 12, 8, 5, 4, 2], [8, 5, 4, 2], [32, 27, 21, 16, 12, 8, 5, 4, 2], [52, 45, 35, 27, 21, 16, 12, 8, 5, 4, 2], [7, 5, 4, 2], [24, 21, 16, 12, 8, 5, 4, 2], [64, 58, 45, 35, 27, 21, 16, 12, 8, 5, 4, 2], [24, 21, 16, 12, 8, 5, 4, 2], [65, 58, 45, 35, 27, 21, 16, 12, 8, 5, 4, 2], [25, 21, 16, 12, 8, 5, 4, 2], [9, 8, 5, 4, 2], [12, 8, 5, 4, 2], [14, 12, 8, 5, 4, 2], [3, 2], [2], [5, 4, 2], [8, 5, 4, 2], [2], [2]]\n"
     ]
    }
   ],
   "source": [
    "col_names = []  # col -> str name\n",
    "groups = []  # col -> attribute parent\n",
    "group_names = []  # attr (group) -> str name\n",
    "heights = []  # col -> max height\n",
    "common = []  # col -> common val number\n",
    "domain = []  # col, height -> domain\n",
    "for i, (an, a) in enumerate(new_attrs.items()):\n",
    "    group_names.append(an)\n",
    "    for n, c in a.cols.items():\n",
    "        col_names.append(n)\n",
    "        groups.append(i)\n",
    "        heights.append(c.height)\n",
    "        common.append(a.common)\n",
    "        domain.append([c.get_domain(h) for h in range(c.height)])\n",
    "\n",
    "print(domain)"
   ]
  },
  {
   "cell_type": "code",
   "execution_count": null,
   "metadata": {},
   "outputs": [],
   "source": [
    "from pasteur.synth.privbayes import EMPTY_PSET, add_to_pset\n",
    "\n",
    "def maximal_parents(\n",
    "    V: tuple[int], tau: float, P: dict[int, dict[int, int]] = {}\n",
    ") -> list[tuple[int]]:\n",
    "    \"\"\"Given a set V containing hierarchical attributes (by int) and a tau\n",
    "    score that is divided by the size of the domain, return a set of all\n",
    "    possible combinations of attributes, such that if t > 1 there isn't an\n",
    "    attribute that can be indexed in a higher level\"\"\"\n",
    "    \n",
    "    if not V:\n",
    "        return [EMPTY_PSET]\n",
    "\n",
    "    # Calculate domain manually to correct it based on common attrs\n",
    "    dom = 1\n",
    "    for g, a in P.items():\n",
    "        l_dom = 1\n",
    "        cmn = 0\n",
    "        for x, h in a.items():\n",
    "            cmn = common[x]  # same for x of a\n",
    "            l_dom *= domain[x][h] - cmn\n",
    "        dom *= l_dom + cmn\n",
    "\n",
    "    if tau < dom:\n",
    "        return []\n",
    "\n",
    "    x = V[0]\n",
    "    V = V[1:]\n",
    "\n",
    "    S = []\n",
    "    U = set()\n",
    "\n",
    "    # Create copy of P for the version with x that has\n",
    "    # a dict for x's group. Avoid deep copying\n",
    "    P_x = P.copy()\n",
    "    g = groups[x]\n",
    "    gx = P.get(g, {}).copy()\n",
    "    P_x[g] = gx\n",
    "\n",
    "    for h in range(heights[x]):\n",
    "        # Check domain is non-one when considering common attrs\n",
    "        # Having multiple cols with domain 1 can skew exponential alg\n",
    "        # into selecting columns from multi-col attributes\n",
    "        if P.get(groups[x], None) and domain[x][h] == common[x] + 1:\n",
    "            continue\n",
    "        # Only changes local copy\n",
    "        P_x[g][x] = h\n",
    "        for z in maximal_parents(V, tau, P_x):\n",
    "            if z not in U:\n",
    "                U.add(z)\n",
    "                S.append(add_to_pset(z, x, h))\n",
    "\n",
    "    for z in maximal_parents(V, tau, P):\n",
    "        if z not in U:\n",
    "            S.append(z)\n",
    "\n",
    "    return S"
   ]
  },
  {
   "cell_type": "code",
   "execution_count": null,
   "metadata": {},
   "outputs": [
    {
     "name": "stdout",
     "output_type": "stream",
     "text": [
      "\u001b[1;36m65184\u001b[0m\n"
     ]
    }
   ],
   "source": [
    "V = (0, 2, 4, 6, 7, 10, 11, 13, 15, 16)\n",
    "len(maximal_parents(V, 3000))\n"
   ]
  },
  {
   "cell_type": "code",
   "execution_count": null,
   "metadata": {},
   "outputs": [
    {
     "name": "stdout",
     "output_type": "stream",
     "text": [
      "8.7 s ± 43.9 ms per loop (mean ± std. dev. of 7 runs, 1 loop each)\n"
     ]
    }
   ],
   "source": [
    "%timeit maximal_parents(V, 3000)"
   ]
  },
  {
   "cell_type": "code",
   "execution_count": null,
   "metadata": {},
   "outputs": [
    {
     "name": "stdout",
     "output_type": "stream",
     "text": [
      "Timer unit: 1e-06 s\n",
      "\n",
      "Total time: 22.5815 s\n",
      "File: /tmp/ipykernel_996423/2764480977.py\n",
      "Function: maximal_parents at line 3\n",
      "\n",
      "Line #      Hits         Time  Per Hit   % Time  Line Contents\n",
      "==============================================================\n",
      "     3                                           def maximal_parents(\n",
      "     4                                               V: tuple[int], tau: float, P: dict[int, dict[int, int]] = {}\n",
      "     5                                           ) -> list[tuple[int]]:\n",
      "     6                                               \"\"\"Given a set V containing hierarchical attributes (by int) and a tau\n",
      "     7                                               score that is divided by the size of the domain, return a set of all\n",
      "     8                                               possible combinations of attributes, such that if t > 1 there isn't an\n",
      "     9                                               attribute that can be indexed in a higher level\"\"\"\n",
      "    10                                               \n",
      "    11   1295494     579617.0      0.4      2.6      if not V:\n",
      "    12    585976     266461.0      0.5      1.2          return [EMPTY_PSET]\n",
      "    13                                           \n",
      "    14                                               # Calculate domain manually to correct it based on common attrs\n",
      "    15    709518     305739.0      0.4      1.4      dom = 1\n",
      "    16   3655936    1817983.0      0.5      8.1      for g, a in P.items():\n",
      "    17   2946418    1300507.0      0.4      5.8          l_dom = 1\n",
      "    18   2946418    1212353.0      0.4      5.4          cmn = 0\n",
      "    19   6369083    3254409.0      0.5     14.4          for x, h in a.items():\n",
      "    20   3422665    1611981.0      0.5      7.1              cmn = common[x]  # same for x of a\n",
      "    21   3422665    2519320.0      0.7     11.2              l_dom *= domain[x][h] - cmn\n",
      "    22   2946418    1975457.0      0.7      8.7          dom *= l_dom + cmn\n",
      "    23                                           \n",
      "    24    709518     375139.0      0.5      1.7      if tau < dom:\n",
      "    25    391744     168077.0      0.4      0.7          return []\n",
      "    26                                           \n",
      "    27    317774     149148.0      0.5      0.7      x = V[0]\n",
      "    28    317774     163677.0      0.5      0.7      V = V[1:]\n",
      "    29                                           \n",
      "    30    317774     136563.0      0.4      0.6      S = []\n",
      "    31    317774     160752.0      0.5      0.7      U = set()\n",
      "    32                                           \n",
      "    33                                               # Create copy of P for the version with x that has\n",
      "    34                                               # a dict for x's group. Avoid deep copying\n",
      "    35    317774     184738.0      0.6      0.8      P_x = P.copy()\n",
      "    36    317774     152212.0      0.5      0.7      g = groups[x]\n",
      "    37    317774     205583.0      0.6      0.9      gx = P.get(g, {}).copy()\n",
      "    38    317774     163484.0      0.5      0.7      P_x[g] = gx\n",
      "    39                                           \n",
      "    40   1295502     639535.0      0.5      2.8      for h in range(heights[x]):\n",
      "    41                                                   # Check domain is non-one when considering common attrs\n",
      "    42                                                   # Having multiple cols with domain 1 can skew exponential alg\n",
      "    43                                                   # into selecting columns from multi-col attributes\n",
      "    44    977728     598435.0      0.6      2.7          if P.get(groups[x], None) and domain[x][h] == common[x] + 1:\n",
      "    45         9          3.0      0.3      0.0              continue\n",
      "    46                                                   # Only changes local copy\n",
      "    47    977719     520286.0      0.5      2.3          P_x[g][x] = h\n",
      "    48   1701503     891797.0      0.5      3.9          for z in maximal_parents(V, tau, P_x):\n",
      "    49    723784     849220.0      1.2      3.8              if z not in U:\n",
      "    50    369818     438827.0      1.2      1.9                  U.add(z)\n",
      "    51    369818     854450.0      2.3      3.8                  S.append(add_to_pset(z, x, h))\n",
      "    52                                           \n",
      "    53    728029     354946.0      0.5      1.6      for z in maximal_parents(V, tau, P):\n",
      "    54    410255     481428.0      1.2      2.1          if z not in U:\n",
      "    55    201853     114922.0      0.6      0.5              S.append(z)\n",
      "    56                                           \n",
      "    57    317774     134430.0      0.4      0.6      return S"
     ]
    }
   ],
   "source": [
    "%lprun -f maximal_parents maximal_parents(V, 1000)"
   ]
  },
  {
   "cell_type": "code",
   "execution_count": null,
   "metadata": {},
   "outputs": [
    {
     "name": "stdout",
     "output_type": "stream",
     "text": [
      "\u001b[1m(\u001b[0m\u001b[1m(\u001b[0m\u001b[1;36m0\u001b[0m, \u001b[1;36m2\u001b[0m\u001b[1m)\u001b[0m, \u001b[1m(\u001b[0m\u001b[1;36m4\u001b[0m, \u001b[1;36m6\u001b[0m\u001b[1m)\u001b[0m, \u001b[1m(\u001b[0m\u001b[1;36m7\u001b[0m,\u001b[1m)\u001b[0m, \u001b[1m(\u001b[0m\u001b[1;36m10\u001b[0m,\u001b[1m)\u001b[0m, \u001b[1m(\u001b[0m\u001b[1;36m11\u001b[0m,\u001b[1m)\u001b[0m, \u001b[1m(\u001b[0m\u001b[1;36m13\u001b[0m,\u001b[1m)\u001b[0m, \u001b[1m(\u001b[0m\u001b[1;36m15\u001b[0m,\u001b[1m)\u001b[0m, \u001b[1m(\u001b[0m\u001b[1;36m16\u001b[0m,\u001b[1m)\u001b[0m\u001b[1m)\u001b[0m\n"
     ]
    }
   ],
   "source": [
    "A_dict = {}\n",
    "for c in V:\n",
    "    group = groups[c]\n",
    "    if group in A_dict:\n",
    "        A_dict[groups[c]].append(c)\n",
    "    else:\n",
    "        A_dict[groups[c]] = [c]\n",
    "A = tuple(tuple(group) for group in A_dict.values())\n",
    "A   "
   ]
  },
  {
   "cell_type": "code",
   "execution_count": null,
   "metadata": {},
   "outputs": [
    {
     "name": "stdout",
     "output_type": "stream",
     "text": [
      "\u001b[1;36m88424\u001b[0m\n"
     ]
    }
   ],
   "source": [
    "from pasteur.synth.privbayes import MAX_COLS, add_multiple_to_pset, EMPTY_PSET\n",
    "\n",
    "empty_list = [-1 for _ in range(MAX_COLS)]\n",
    "empty_activity = [False for _ in range(MAX_COLS)]\n",
    "\n",
    "def maximal_parents_new(\n",
    "    A: tuple[tuple[int]], tau: float, parent_dom: int = 1\n",
    ") -> list[tuple[int]]:\n",
    "    \"\"\"Given a set V containing hierarchical attributes (by int) and a tau\n",
    "    score that is divided by the size of the domain, return a set of all\n",
    "    possible combinations of attributes, such that if t > 1 there isn't an\n",
    "    attribute that can be indexed in a higher level\"\"\"\n",
    "\n",
    "    a = A[0]\n",
    "    a_n = len(a)\n",
    "    g = groups[a[0]]\n",
    "    cmn = common[a[0]]\n",
    "\n",
    "    A = A[1:]\n",
    "    S = []\n",
    "    U = set()\n",
    "\n",
    "    curr_attrs = list(empty_list)\n",
    "    act_attrs = list(empty_activity)\n",
    "    has_combs = True\n",
    "    while has_combs:\n",
    "        # Simple counter structure without iterators that will iterate over\n",
    "        # all attribute height combinations\n",
    "        i = 0\n",
    "        carry = True\n",
    "        while carry:\n",
    "            carry = curr_attrs[i] == heights[a[i]] - 1 - (i != 0)\n",
    "            act_attrs[i] = not carry\n",
    "\n",
    "            if carry:\n",
    "                curr_attrs[i] = -1\n",
    "                i += 1\n",
    "                # Detect overflow and break\n",
    "                # Placing check on with condition would make it run every time\n",
    "                if i == a_n:\n",
    "                    has_combs = False\n",
    "                    break\n",
    "            else:\n",
    "                curr_attrs[i] += 1\n",
    "\n",
    "        # Find domain\n",
    "        l_dom = parent_dom\n",
    "        if has_combs:\n",
    "            for i in range(a_n):\n",
    "                h = curr_attrs[i]\n",
    "                if h != -1:\n",
    "                    dom = domain[a[i]][h]\n",
    "                    l_dom *= dom - cmn\n",
    "            l_dom += cmn\n",
    "        # print(curr_attrs[:a_n], l_dom)\n",
    "\n",
    "        # Run check to skip recursion\n",
    "        if tau < l_dom:\n",
    "            continue\n",
    "\n",
    "        # Original algorithm ends by running another loop which doesn't include x\n",
    "        # Conveniently, when i overflows and we run the last execution, curr_attrs\n",
    "        # will consist of -1, which is equivalent\n",
    "        if A:\n",
    "            act_frozen = tuple(act_attrs)\n",
    "            for z in maximal_parents_new(A, tau / l_dom):\n",
    "                check = (act_frozen, z)\n",
    "                if check not in U:\n",
    "                    U.add(check)\n",
    "                    S.append(add_multiple_to_pset(z, a, curr_attrs))\n",
    "        else:\n",
    "            S.append(add_multiple_to_pset(EMPTY_PSET, a, curr_attrs))\n",
    "\n",
    "    return S\n",
    "\n",
    "len(maximal_parents_new(A, 3000))"
   ]
  },
  {
   "cell_type": "code",
   "execution_count": null,
   "metadata": {},
   "outputs": [
    {
     "name": "stdout",
     "output_type": "stream",
     "text": [
      "10.7 s ± 90 ms per loop (mean ± std. dev. of 7 runs, 1 loop each)\n"
     ]
    }
   ],
   "source": [
    "%timeit maximal_parents_new(A, 3000)"
   ]
  },
  {
   "cell_type": "code",
   "execution_count": null,
   "metadata": {},
   "outputs": [],
   "source": [
    "# %lprun -f maximal_parents_new maximal_parents_new(A, 1000)"
   ]
  },
  {
   "cell_type": "code",
   "execution_count": null,
   "metadata": {},
   "outputs": [
    {
     "name": "stdout",
     "output_type": "stream",
     "text": [
      "\u001b[1;36m86454\u001b[0m\n"
     ]
    }
   ],
   "source": [
    "from pasteur.synth.privbayes import add_multiple_to_pset, EMPTY_PSET, EMPTY_ACTIVE, EMPTY_LIST\n",
    "\n",
    "def maximal_parents_new2(\n",
    "    A: tuple[tuple[int]], tau: float, parent_dom: int = 1\n",
    ") -> list[tuple[int]]:\n",
    "    \"\"\"Given a set V containing hierarchical attributes (by int) and a tau\n",
    "    score that is divided by the size of the domain, return a set of all\n",
    "    possible combinations of attributes, such that if t > 1 there isn't an\n",
    "    attribute that can be indexed in a higher level\"\"\"\n",
    "\n",
    "    if not A:\n",
    "        return [EMPTY_PSET]\n",
    "\n",
    "    a = A[0]\n",
    "    a_n = len(a)\n",
    "    x = a[0]\n",
    "    g = groups[x]\n",
    "    cmn = common[x]\n",
    "\n",
    "    A = A[1:]\n",
    "    S = []\n",
    "    U = set()\n",
    "\n",
    "    if a_n == 1:\n",
    "        # Use specific implementation for single variables\n",
    "        x = a[0]\n",
    "        for h in range(heights[x]):\n",
    "            # Find domain\n",
    "            l_dom = parent_dom * (domain[x][h] - cmn) + cmn\n",
    "\n",
    "            # Run check to skip recursion\n",
    "            if tau < l_dom:\n",
    "                continue\n",
    "\n",
    "            for z in maximal_parents_new2(A, tau / l_dom):\n",
    "                if z not in U:\n",
    "                    U.add(z)\n",
    "                    S.append(add_to_pset(z, x, h))\n",
    "        \n",
    "        for z in maximal_parents_new2(A, tau / parent_dom):\n",
    "            if z not in U:\n",
    "                S.append(z)\n",
    "    else:\n",
    "        # Compensating for multi-domain attrs is more complicated\n",
    "        curr_attrs = list(EMPTY_LIST)\n",
    "        act_attrs = list(EMPTY_ACTIVE)\n",
    "        has_combs = True\n",
    "        \n",
    "        while has_combs:\n",
    "            # Simple counter structure without iterators that will iterate over\n",
    "            # all attribute height combinations\n",
    "            for i in range(a_n):\n",
    "                carry = curr_attrs[i] == heights[a[i]] - 1 - (i != 0)\n",
    "                act_attrs[i] = not carry\n",
    "\n",
    "                if carry:\n",
    "                    curr_attrs[i] = -1\n",
    "                    # Detect overflow and break\n",
    "                    # Placing check on with condition would make it run every time\n",
    "                    if i == a_n - 1:\n",
    "                        has_combs = False\n",
    "                else:\n",
    "                    curr_attrs[i] += 1\n",
    "                    break\n",
    "\n",
    "            # Find domain\n",
    "            l_dom = parent_dom\n",
    "            if has_combs:\n",
    "                for i in range(a_n):\n",
    "                    h = curr_attrs[i]\n",
    "                    if h != -1:\n",
    "                        dom = domain[a[i]][h]\n",
    "                        l_dom *= dom - cmn\n",
    "                l_dom += cmn\n",
    "            # print(curr_attrs[:a_n], l_dom)\n",
    "\n",
    "            # Run check to skip recursion\n",
    "            if tau < l_dom:\n",
    "                continue\n",
    "\n",
    "            # Original algorithm ends by running another loop which doesn't include x\n",
    "            # Conveniently, when i overflows and we run the last execution, curr_attrs\n",
    "            # will consist of -1, which is equivalent\n",
    "            act_frozen = tuple(act_attrs)\n",
    "            for z in maximal_parents_new2(A, tau / l_dom):\n",
    "                check = (act_frozen, z)\n",
    "                if check not in U:\n",
    "                    U.add(check)\n",
    "                    S.append(add_multiple_to_pset(z, a, curr_attrs))\n",
    "\n",
    "    return S\n",
    "\n",
    "len(maximal_parents_new2(A, 3000))\n",
    "# maximal_parents_new2(A, 3000)[:10]\n"
   ]
  },
  {
   "cell_type": "code",
   "execution_count": null,
   "metadata": {},
   "outputs": [
    {
     "name": "stdout",
     "output_type": "stream",
     "text": [
      "3.87 s ± 10.1 ms per loop (mean ± std. dev. of 7 runs, 1 loop each)\n"
     ]
    }
   ],
   "source": [
    "%timeit maximal_parents_new2(A, 3000)"
   ]
  },
  {
   "cell_type": "code",
   "execution_count": null,
   "metadata": {},
   "outputs": [
    {
     "name": "stdout",
     "output_type": "stream",
     "text": [
      "Timer unit: 1e-06 s\n",
      "\n",
      "Total time: 0.574207 s\n",
      "File: /mnt/ext/projects/pasteur/src/pasteur/synth/privbayes.py\n",
      "Function: add_multiple_to_pset at line 96\n",
      "\n",
      "Line #      Hits         Time  Per Hit   % Time  Line Contents\n",
      "==============================================================\n",
      "    96                                           def add_multiple_to_pset(s: tuple, x: list[int], h: list[int]):\n",
      "    97                                               \"\"\"Given parent set `s`, adds attributes `x` with heights `h`.\n",
      "    98                                           \n",
      "    99                                               `x` is checked for length, so `h` may be a larger array.\"\"\"\n",
      "   100                                           \n",
      "   101    210502     143954.0      0.7     25.1      s = list(s)\n",
      "   102                                           \n",
      "   103    446275     164981.0      0.4     28.7      for i in range(len(x)):\n",
      "   104    235773     102480.0      0.4     17.8          s[x[i]] = h[i]\n",
      "   105    210502     162792.0      0.8     28.4      return tuple(s)"
     ]
    }
   ],
   "source": [
    "%lprun -f add_multiple_to_pset maximal_parents_new2(A, 300)"
   ]
  },
  {
   "cell_type": "code",
   "execution_count": null,
   "metadata": {},
   "outputs": [],
   "source": []
  }
 ],
 "metadata": {
  "language_info": {
   "codemirror_mode": {
    "name": "ipython",
    "version": 3
   },
   "file_extension": ".py",
   "mimetype": "text/x-python",
   "name": "python",
   "nbconvert_exporter": "python",
   "pygments_lexer": "ipython3",
   "version": "3.10.7"
  },
  "vscode": {
   "interpreter": {
    "hash": "97cc609b13305c559618ec78a438abc56230b9381f827f22d070313b9a1f3777"
   }
  }
 },
 "nbformat": 4,
 "nbformat_minor": 2
}
