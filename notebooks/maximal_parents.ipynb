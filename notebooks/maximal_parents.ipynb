{
 "cells": [
  {
   "cell_type": "code",
   "execution_count": null,
   "metadata": {},
   "outputs": [
    {
     "name": "stdout",
     "output_type": "stream",
     "text": [
      "\u001b[0m\u001b[34mINFO    \u001b[0m Kedro project Pasteur                                                                                           \u001b[2m__init__.py\u001b[0m\u001b[2m:\u001b[0m\u001b[2m77\u001b[0m\n",
      "\u001b[0m\u001b[34mINFO    \u001b[0m Defined global variable \u001b[32m'context'\u001b[0m, \u001b[32m'session'\u001b[0m, \u001b[32m'catalog'\u001b[0m and \u001b[32m'pipelines'\u001b[0m                                         \u001b[2m__init__.py\u001b[0m\u001b[2m:\u001b[0m\u001b[2m78\u001b[0m\n",
      "\u001b[0m\u001b[34mINFO    \u001b[0m Registered line magic \u001b[32m'run_viz'\u001b[0m                                                                                 \u001b[2m__init__.py\u001b[0m\u001b[2m:\u001b[0m\u001b[2m84\u001b[0m\n",
      "\u001b[0m\u001b[34mINFO    \u001b[0m Registered line magic \u001b[32m'reload_kedro_mlflow'\u001b[0m                                                                     \u001b[2m__init__.py\u001b[0m\u001b[2m:\u001b[0m\u001b[2m84\u001b[0m\n"
     ]
    }
   ],
   "source": [
    "from pasteur.kedro.ipython import *\n",
    "register_kedro()"
   ]
  },
  {
   "cell_type": "code",
   "execution_count": null,
   "metadata": {},
   "outputs": [],
   "source": [
    "%load_ext autoreload\n",
    "%autoreload 2\n",
    "%load_ext line_profiler"
   ]
  },
  {
   "cell_type": "code",
   "execution_count": null,
   "metadata": {},
   "outputs": [],
   "source": [
    "import pandas as pd\n",
    "import numpy as np"
   ]
  },
  {
   "cell_type": "code",
   "execution_count": null,
   "metadata": {},
   "outputs": [],
   "source": [
    "from pasteur.metadata import Metadata\n",
    "\n",
    "trn: pd.DataFrame = catalog.load(\"mimic_tab_admissions.trn.table\")\n",
    "table = catalog.load(\"mimic_tab_admissions.wrk.idx_table\")"
   ]
  },
  {
   "cell_type": "code",
   "execution_count": null,
   "metadata": {},
   "outputs": [],
   "source": [
    "attrs = trn[\"idx\"].get_attributes()"
   ]
  },
  {
   "cell_type": "code",
   "execution_count": null,
   "metadata": {},
   "outputs": [
    {
     "name": "stdout",
     "output_type": "stream",
     "text": [
      "\n",
      "\u001b[1m{\u001b[0m\n",
      "    \u001b[32m'birth_year'\u001b[0m: Attr\u001b[1m[\u001b[0m\u001b[33mna\u001b[0m=\u001b[1;36m0\u001b[0m,\u001b[33mukn\u001b[0m=\u001b[1;36m0\u001b[0m\u001b[1m]\u001b[0m\u001b[1m{\u001b[0m\u001b[1m}\u001b[0m,\n",
      "    \u001b[32m'dod'\u001b[0m: Attr\u001b[1m[\u001b[0m\u001b[33mna\u001b[0m=\u001b[1;36m1\u001b[0m,\u001b[33mukn\u001b[0m=\u001b[1;36m0\u001b[0m\u001b[1m]\u001b[0m\u001b[1m{\u001b[0m\u001b[32m'dod_year'\u001b[0m: \u001b[1m<\u001b[0m\u001b[1;95mpasteur.synth.hierarchy.RebalancedColumn\u001b[0m\u001b[39m object at \u001b[0m\u001b[1;36m0x7f81b88100a0\u001b[0m\u001b[1m>\u001b[0m, \u001b[32m'dod_week'\u001b[0m: \u001b[1m<\u001b[0m\u001b[1;95mpasteur.synth.hierarchy.RebalancedColumn\u001b[0m\u001b[39m object at \u001b[0m\u001b[1;36m0x7f81b88100d0\u001b[0m\u001b[1m>\u001b[0m, \u001b[32m'dod_day'\u001b[0m: \u001b[1m<\u001b[0m\u001b[1;95mpasteur.synth.hierarchy.RebalancedColumn\u001b[0m\u001b[39m object at \u001b[0m\u001b[1;36m0x7f81b8810130\u001b[0m\u001b[1m>\u001b[0m\u001b[1m}\u001b[0m,\n",
      "    \u001b[32m'admittime'\u001b[0m: Attr\u001b[1m[\u001b[0m\u001b[33mna\u001b[0m=\u001b[1;36m0\u001b[0m,\u001b[33mukn\u001b[0m=\u001b[1;36m0\u001b[0m\u001b[1m]\u001b[0m\u001b[1m{\u001b[0m\u001b[32m'admittime_year'\u001b[0m: \u001b[1m<\u001b[0m\u001b[1;95mpasteur.synth.hierarchy.RebalancedColumn\u001b[0m\u001b[39m object at \u001b[0m\u001b[1;36m0x7f81b8810610\u001b[0m\u001b[1m>\u001b[0m, \u001b[32m'admittime_week'\u001b[0m: \u001b[1m<\u001b[0m\u001b[1;95mpasteur.synth.hierarchy.RebalancedColumn\u001b[0m\u001b[39m object at \u001b[0m\u001b[1;36m0x7f81b8810670\u001b[0m\u001b[1m>\u001b[0m, \u001b[32m'admittime_day'\u001b[0m: \u001b[1m<\u001b[0m\u001b[1;95mpasteur.synth.hierarchy.RebalancedColumn\u001b[0m\u001b[39m object at \u001b[0m\u001b[1;36m0x7f81b88106d0\u001b[0m\u001b[1m>\u001b[0m, \u001b[32m'admittime_time'\u001b[0m: \u001b[1m<\u001b[0m\u001b[1;95mpasteur.synth.hierarchy.RebalancedColumn\u001b[0m\u001b[39m object at \u001b[0m\u001b[1;36m0x7f81b8810730\u001b[0m\u001b[1m>\u001b[0m\u001b[1m}\u001b[0m,\n",
      "    \u001b[32m'dischtime'\u001b[0m: Attr\u001b[1m[\u001b[0m\u001b[33mna\u001b[0m=\u001b[1;36m0\u001b[0m,\u001b[33mukn\u001b[0m=\u001b[1;36m0\u001b[0m\u001b[1m]\u001b[0m\u001b[1m{\u001b[0m\u001b[32m'dischtime_day'\u001b[0m: \u001b[1m<\u001b[0m\u001b[1;95mpasteur.synth.hierarchy.RebalancedColumn\u001b[0m\u001b[39m object at \u001b[0m\u001b[1;36m0x7f81b8810910\u001b[0m\u001b[1m>\u001b[0m, \u001b[32m'dischtime_time'\u001b[0m: \u001b[1m<\u001b[0m\u001b[1;95mpasteur.synth.hierarchy.RebalancedColumn\u001b[0m\u001b[39m object at \u001b[0m\u001b[1;36m0x7f81b8810970\u001b[0m\u001b[1m>\u001b[0m\u001b[1m}\u001b[0m,\n",
      "    \u001b[32m'deathtime'\u001b[0m: Attr\u001b[1m[\u001b[0m\u001b[33mna\u001b[0m=\u001b[1;36m1\u001b[0m,\u001b[33mukn\u001b[0m=\u001b[1;36m0\u001b[0m\u001b[1m]\u001b[0m\u001b[1m{\u001b[0m\u001b[32m'deathtime_day'\u001b[0m: \u001b[1m<\u001b[0m\u001b[1;95mpasteur.synth.hierarchy.RebalancedColumn\u001b[0m\u001b[39m object at \u001b[0m\u001b[1;36m0x7f81b8810c10\u001b[0m\u001b[1m>\u001b[0m, \u001b[32m'deathtime_time'\u001b[0m: \u001b[1m<\u001b[0m\u001b[1;95mpasteur.synth.hierarchy.RebalancedColumn\u001b[0m\u001b[39m object at \u001b[0m\u001b[1;36m0x7f81b8810ca0\u001b[0m\u001b[1m>\u001b[0m\u001b[1m}\u001b[0m,\n",
      "    \u001b[32m'admission_type'\u001b[0m: Attr\u001b[1m[\u001b[0m\u001b[33mna\u001b[0m=\u001b[1;36m0\u001b[0m,\u001b[33mukn\u001b[0m=\u001b[1;36m0\u001b[0m\u001b[1m]\u001b[0m\u001b[1m{\u001b[0m\u001b[32m'admission_type'\u001b[0m: \u001b[1m<\u001b[0m\u001b[1;95mpasteur.synth.hierarchy.RebalancedColumn\u001b[0m\u001b[39m object at \u001b[0m\u001b[1;36m0x7f81b8810df0\u001b[0m\u001b[1m>\u001b[0m\u001b[1m}\u001b[0m,\n",
      "    \u001b[32m'admission_location'\u001b[0m: Attr\u001b[1m[\u001b[0m\u001b[33mna\u001b[0m=\u001b[1;36m1\u001b[0m,\u001b[33mukn\u001b[0m=\u001b[1;36m0\u001b[0m\u001b[1m]\u001b[0m\u001b[1m{\u001b[0m\u001b[32m'admission_location'\u001b[0m: \u001b[1m<\u001b[0m\u001b[1;95mpasteur.synth.hierarchy.RebalancedColumn\u001b[0m\u001b[39m object at \u001b[0m\u001b[1;36m0x7f81b8810fd0\u001b[0m\u001b[1m>\u001b[0m\u001b[1m}\u001b[0m,\n",
      "    \u001b[32m'discharge_location'\u001b[0m: Attr\u001b[1m[\u001b[0m\u001b[33mna\u001b[0m=\u001b[1;36m1\u001b[0m,\u001b[33mukn\u001b[0m=\u001b[1;36m0\u001b[0m\u001b[1m]\u001b[0m\u001b[1m{\u001b[0m\u001b[32m'discharge_location'\u001b[0m: \u001b[1m<\u001b[0m\u001b[1;95mpasteur.synth.hierarchy.RebalancedColumn\u001b[0m\u001b[39m object at \u001b[0m\u001b[1;36m0x7f81b88111b0\u001b[0m\u001b[1m>\u001b[0m\u001b[1m}\u001b[0m,\n",
      "    \u001b[32m'insurance'\u001b[0m: Attr\u001b[1m[\u001b[0m\u001b[33mna\u001b[0m=\u001b[1;36m0\u001b[0m,\u001b[33mukn\u001b[0m=\u001b[1;36m0\u001b[0m\u001b[1m]\u001b[0m\u001b[1m{\u001b[0m\u001b[32m'insurance'\u001b[0m: \u001b[1m<\u001b[0m\u001b[1;95mpasteur.synth.hierarchy.RebalancedColumn\u001b[0m\u001b[39m object at \u001b[0m\u001b[1;36m0x7f81b8811390\u001b[0m\u001b[1m>\u001b[0m\u001b[1m}\u001b[0m,\n",
      "    \u001b[32m'language'\u001b[0m: Attr\u001b[1m[\u001b[0m\u001b[33mna\u001b[0m=\u001b[1;36m0\u001b[0m,\u001b[33mukn\u001b[0m=\u001b[1;36m0\u001b[0m\u001b[1m]\u001b[0m\u001b[1m{\u001b[0m\u001b[32m'language'\u001b[0m: \u001b[1m<\u001b[0m\u001b[1;95mpasteur.synth.hierarchy.RebalancedColumn\u001b[0m\u001b[39m object at \u001b[0m\u001b[1;36m0x7f81b88115a0\u001b[0m\u001b[1m>\u001b[0m\u001b[1m}\u001b[0m,\n",
      "    \u001b[32m'marital_status'\u001b[0m: Attr\u001b[1m[\u001b[0m\u001b[33mna\u001b[0m=\u001b[1;36m1\u001b[0m,\u001b[33mukn\u001b[0m=\u001b[1;36m0\u001b[0m\u001b[1m]\u001b[0m\u001b[1m{\u001b[0m\u001b[32m'marital_status'\u001b[0m: \u001b[1m<\u001b[0m\u001b[1;95mpasteur.synth.hierarchy.RebalancedColumn\u001b[0m\u001b[39m object at \u001b[0m\u001b[1;36m0x7f81b8811780\u001b[0m\u001b[1m>\u001b[0m\u001b[1m}\u001b[0m,\n",
      "    \u001b[32m'ethnicity'\u001b[0m: Attr\u001b[1m[\u001b[0m\u001b[33mna\u001b[0m=\u001b[1;36m0\u001b[0m,\u001b[33mukn\u001b[0m=\u001b[1;36m0\u001b[0m\u001b[1m]\u001b[0m\u001b[1m{\u001b[0m\u001b[32m'ethnicity'\u001b[0m: \u001b[1m<\u001b[0m\u001b[1;95mpasteur.synth.hierarchy.RebalancedColumn\u001b[0m\u001b[39m object at \u001b[0m\u001b[1;36m0x7f81b8811960\u001b[0m\u001b[1m>\u001b[0m\u001b[1m}\u001b[0m,\n",
      "    \u001b[32m'hospital_expire_flag'\u001b[0m: Attr\u001b[1m[\u001b[0m\u001b[33mna\u001b[0m=\u001b[1;36m0\u001b[0m,\u001b[33mukn\u001b[0m=\u001b[1;36m0\u001b[0m\u001b[1m]\u001b[0m\u001b[1m{\u001b[0m\u001b[32m'hospital_expire_flag'\u001b[0m: \u001b[1m<\u001b[0m\u001b[1;95mpasteur.synth.hierarchy.RebalancedColumn\u001b[0m\u001b[39m object at \u001b[0m\u001b[1;36m0x7f81b8811b40\u001b[0m\u001b[1m>\u001b[0m\u001b[1m}\u001b[0m,\n",
      "    \u001b[32m'gender'\u001b[0m: Attr\u001b[1m[\u001b[0m\u001b[33mna\u001b[0m=\u001b[1;36m0\u001b[0m,\u001b[33mukn\u001b[0m=\u001b[1;36m0\u001b[0m\u001b[1m]\u001b[0m\u001b[1m{\u001b[0m\u001b[32m'gender'\u001b[0m: \u001b[1m<\u001b[0m\u001b[1;95mpasteur.synth.hierarchy.RebalancedColumn\u001b[0m\u001b[39m object at \u001b[0m\u001b[1;36m0x7f81b8811d20\u001b[0m\u001b[1m>\u001b[0m\u001b[1m}\u001b[0m\n",
      "\u001b[1m}\u001b[0m\n"
     ]
    }
   ],
   "source": [
    "from copy import copy\n",
    "from pasteur.synth.hierarchy import rebalance_column\n",
    "\n",
    "new_attrs = {}\n",
    "for name, attr in attrs.items():\n",
    "    cols = {}\n",
    "    for col_name, col in attr.cols.items():\n",
    "        cols[col_name] = rebalance_column(\n",
    "            table[col_name], col, 0\n",
    "        )\n",
    "\n",
    "    new_attr = copy(attr)\n",
    "    new_attr.update_cols(cols)\n",
    "    new_attrs[name] = new_attr\n",
    "new_attrs"
   ]
  },
  {
   "cell_type": "code",
   "execution_count": null,
   "metadata": {},
   "outputs": [
    {
     "name": "stdout",
     "output_type": "stream",
     "text": [
      "[[33, 27, 21, 16, 12, 8, 5, 4, 2], [53, 45, 35, 27, 21, 16, 12, 8, 5, 4, 2], [8, 5, 4, 2], [32, 27, 21, 16, 12, 8, 5, 4, 2], [52, 45, 35, 27, 21, 16, 12, 8, 5, 4, 2], [7, 5, 4, 2], [24, 21, 16, 12, 8, 5, 4, 2], [64, 58, 45, 35, 27, 21, 16, 12, 8, 5, 4, 2], [24, 21, 16, 12, 8, 5, 4, 2], [65, 58, 45, 35, 27, 21, 16, 12, 8, 5, 4, 2], [25, 21, 16, 12, 8, 5, 4, 2], [9, 8, 5, 4, 2], [12, 8, 5, 4, 2], [14, 12, 8, 5, 4, 2], [3, 2], [2], [5, 4, 2], [8, 5, 4, 2], [2], [2]]\n"
     ]
    }
   ],
   "source": [
    "col_names = []  # col -> str name\n",
    "groups = []  # col -> attribute parent\n",
    "group_names = []  # attr (group) -> str name\n",
    "heights = []  # col -> max height\n",
    "common = []  # col -> common val number\n",
    "domain = []  # col, height -> domain\n",
    "for i, (an, a) in enumerate(new_attrs.items()):\n",
    "    group_names.append(an)\n",
    "    for n, c in a.cols.items():\n",
    "        col_names.append(n)\n",
    "        groups.append(i)\n",
    "        heights.append(c.height)\n",
    "        common.append(a.common)\n",
    "        domain.append([c.get_domain(h) for h in range(c.height)])\n",
    "\n",
    "print(domain)"
   ]
  },
  {
   "cell_type": "code",
   "execution_count": null,
   "metadata": {},
   "outputs": [],
   "source": [
    "from pasteur.synth.privbayes import EMPTY_PSET, add_to_pset\n",
    "\n",
    "def maximal_parents(\n",
    "    V: tuple[int], tau: float, P: dict[int, dict[int, int]] = {}\n",
    ") -> list[tuple[int]]:\n",
    "    \"\"\"Given a set V containing hierarchical attributes (by int) and a tau\n",
    "    score that is divided by the size of the domain, return a set of all\n",
    "    possible combinations of attributes, such that if t > 1 there isn't an\n",
    "    attribute that can be indexed in a higher level\"\"\"\n",
    "    \n",
    "    if not V:\n",
    "        return [EMPTY_PSET]\n",
    "\n",
    "    # Calculate domain manually to correct it based on common attrs\n",
    "    dom = 1\n",
    "    for g, a in P.items():\n",
    "        l_dom = 1\n",
    "        cmn = 0\n",
    "        for x, h in a.items():\n",
    "            cmn = common[x]  # same for x of a\n",
    "            l_dom *= domain[x][h] - cmn\n",
    "        dom *= l_dom + cmn\n",
    "\n",
    "    if tau < dom:\n",
    "        return []\n",
    "\n",
    "    x = V[0]\n",
    "    V = V[1:]\n",
    "\n",
    "    S = []\n",
    "    U = set()\n",
    "\n",
    "    # Create copy of P for the version with x that has\n",
    "    # a dict for x's group. Avoid deep copying\n",
    "    P_x = P.copy()\n",
    "    g = groups[x]\n",
    "    gx = P.get(g, {}).copy()\n",
    "    P_x[g] = gx\n",
    "\n",
    "    for h in range(heights[x]):\n",
    "        # Check domain is non-one when considering common attrs\n",
    "        # Having multiple cols with domain 1 can skew exponential alg\n",
    "        # into selecting columns from multi-col attributes\n",
    "        if P.get(groups[x], None) and domain[x][h] == common[x] + 1:\n",
    "            continue\n",
    "        # Only changes local copy\n",
    "        P_x[g][x] = h\n",
    "        for z in maximal_parents(V, tau, P_x):\n",
    "            if z not in U:\n",
    "                U.add(z)\n",
    "                S.append(add_to_pset(z, x, h))\n",
    "\n",
    "    for z in maximal_parents(V, tau, P):\n",
    "        if z not in U:\n",
    "            S.append(z)\n",
    "\n",
    "    return S"
   ]
  },
  {
   "cell_type": "code",
   "execution_count": null,
   "metadata": {},
   "outputs": [],
   "source": [
    "V = (0, 1, 2, 4, 6, 7, 10, 11, 13, 15, 16, )\n",
    "# len(maximal_parents(V, 3000))\n"
   ]
  },
  {
   "cell_type": "code",
   "execution_count": null,
   "metadata": {},
   "outputs": [],
   "source": [
    "# %timeit maximal_parents(V, 3000)"
   ]
  },
  {
   "cell_type": "code",
   "execution_count": null,
   "metadata": {},
   "outputs": [],
   "source": [
    "# %lprun -f maximal_parents maximal_parents(V, 1000)"
   ]
  },
  {
   "cell_type": "code",
   "execution_count": null,
   "metadata": {},
   "outputs": [
    {
     "name": "stdout",
     "output_type": "stream",
     "text": [
      "\u001b[1m(\u001b[0m\u001b[1m(\u001b[0m\u001b[1;36m0\u001b[0m, \u001b[1;36m1\u001b[0m, \u001b[1;36m2\u001b[0m\u001b[1m)\u001b[0m, \u001b[1m(\u001b[0m\u001b[1;36m4\u001b[0m, \u001b[1;36m6\u001b[0m\u001b[1m)\u001b[0m, \u001b[1m(\u001b[0m\u001b[1;36m7\u001b[0m,\u001b[1m)\u001b[0m, \u001b[1m(\u001b[0m\u001b[1;36m10\u001b[0m,\u001b[1m)\u001b[0m, \u001b[1m(\u001b[0m\u001b[1;36m11\u001b[0m,\u001b[1m)\u001b[0m, \u001b[1m(\u001b[0m\u001b[1;36m13\u001b[0m,\u001b[1m)\u001b[0m, \u001b[1m(\u001b[0m\u001b[1;36m15\u001b[0m,\u001b[1m)\u001b[0m, \u001b[1m(\u001b[0m\u001b[1;36m16\u001b[0m,\u001b[1m)\u001b[0m\u001b[1m)\u001b[0m\n"
     ]
    }
   ],
   "source": [
    "A_dict = {}\n",
    "for c in V:\n",
    "    group = groups[c]\n",
    "    if group in A_dict:\n",
    "        A_dict[groups[c]].append(c)\n",
    "    else:\n",
    "        A_dict[groups[c]] = [c]\n",
    "A = tuple(tuple(group) for group in A_dict.values())\n",
    "A   "
   ]
  },
  {
   "cell_type": "code",
   "execution_count": null,
   "metadata": {},
   "outputs": [
    {
     "name": "stdout",
     "output_type": "stream",
     "text": [
      "\u001b[1;36m160851\u001b[0m\n"
     ]
    }
   ],
   "source": [
    "from pasteur.synth.privbayes import MAX_COLS, add_multiple_to_pset, EMPTY_PSET, EMPTY_LIST, EMPTY_ACTIVE\n",
    "\n",
    "def maximal_parents_new(\n",
    "    A: tuple[tuple[int]], tau: float, partial: bool = False\n",
    ") -> list[tuple[int]]:\n",
    "    \"\"\"Given a set V containing hierarchical attributes (by int) and a tau\n",
    "    score that is divided by the size of the domain, return a set of all\n",
    "    possible combinations of attributes, such that if t > 1 there isn't an\n",
    "    attribute that can be indexed in a higher level\n",
    "\n",
    "    If `partial` is true the first set domain will be reduced by common\"\"\"\n",
    "\n",
    "    if not A:\n",
    "        return [EMPTY_PSET]\n",
    "\n",
    "    a = A[0]\n",
    "    a_n = len(a)\n",
    "    x = a[0]\n",
    "    cmn = common[x]\n",
    "\n",
    "    A = A[1:]\n",
    "    S = []\n",
    "    U = set()\n",
    "\n",
    "    if a_n == 1:\n",
    "        # Use specific implementation for single variables\n",
    "        x = a[0]\n",
    "        for h in range(heights[x]):\n",
    "            # Find domain\n",
    "            l_dom = domain[x][h] - (cmn if partial else 0)\n",
    "\n",
    "            # Run check to skip recursion\n",
    "            if tau < l_dom:\n",
    "                continue\n",
    "\n",
    "            for z in maximal_parents_new(A, tau / l_dom):\n",
    "                if z not in U:\n",
    "                    U.add(z)\n",
    "                    S.append(add_to_pset(z, x, h))\n",
    "\n",
    "        for z in maximal_parents_new(A, tau):\n",
    "            if z not in U:\n",
    "                S.append(z)\n",
    "    else:\n",
    "        # Compensating for multi-domain attrs is more complicated\n",
    "        curr_attrs = list(EMPTY_LIST)\n",
    "        act_attrs = list(EMPTY_ACTIVE)\n",
    "        has_combs = True\n",
    "\n",
    "        while has_combs:\n",
    "            # Simple counter structure without iterators that will iterate over\n",
    "            # all attribute height combinations\n",
    "            for i in range(a_n):\n",
    "                carry = curr_attrs[i] == heights[a[i]] - 1 - (i != 0)\n",
    "                act_attrs[i] = not carry\n",
    "\n",
    "                if carry:\n",
    "                    curr_attrs[i] = -1\n",
    "                    # Detect overflow and break\n",
    "                    # Placing check on with condition would make it run every time\n",
    "                    if i == a_n - 1:\n",
    "                        has_combs = False\n",
    "                else:\n",
    "                    curr_attrs[i] += 1\n",
    "                    break\n",
    "\n",
    "            # Find domain\n",
    "            l_dom = 1\n",
    "            if has_combs:\n",
    "                for i in range(a_n):\n",
    "                    h = curr_attrs[i]\n",
    "                    if h != -1:\n",
    "                        dom = domain[a[i]][h]\n",
    "                        l_dom *= dom - cmn\n",
    "                if not partial:\n",
    "                    l_dom += cmn\n",
    "            # print(curr_attrs[:a_n], l_dom)\n",
    "\n",
    "            # Run check to skip recursion\n",
    "            if tau < l_dom:\n",
    "                continue\n",
    "\n",
    "            # Original algorithm ends by running another loop which doesn't include x\n",
    "            # Conveniently, when i overflows and we run the last execution, curr_attrs\n",
    "            # will consist of -1, which is equivalent\n",
    "            act_frozen = tuple(act_attrs)\n",
    "            for z in maximal_parents_new(A, tau / l_dom):\n",
    "                check = (act_frozen, z)\n",
    "                if check not in U:\n",
    "                    U.add(check)\n",
    "                    S.append(add_multiple_to_pset(z, a, curr_attrs))\n",
    "\n",
    "    return S\n",
    "\n",
    "len(maximal_parents_new(A, 3000))"
   ]
  },
  {
   "cell_type": "code",
   "execution_count": null,
   "metadata": {},
   "outputs": [],
   "source": [
    "# %timeit maximal_parents_new(A, 3000)"
   ]
  },
  {
   "cell_type": "code",
   "execution_count": null,
   "metadata": {},
   "outputs": [],
   "source": [
    "# %lprun -f maximal_parents_new maximal_parents_new(A, 1000)"
   ]
  },
  {
   "cell_type": "code",
   "execution_count": null,
   "metadata": {},
   "outputs": [
    {
     "name": "stdout",
     "output_type": "stream",
     "text": [
      "\u001b[1;36m115115\u001b[0m\n"
     ]
    }
   ],
   "source": [
    "from itertools import combinations\n",
    "\n",
    "empty_list = [0 for _ in range(3)]\n",
    "\n",
    "def maximal_parents_new2(\n",
    "    A: tuple[tuple[int]], tau: float, partial: bool = False\n",
    ") -> list[tuple[int]]:\n",
    "    \"\"\"Given a set V containing hierarchical attributes (by int) and a tau\n",
    "    score that is divided by the size of the domain, return a set of all\n",
    "    possible combinations of attributes, such that if t > 1 there isn't an\n",
    "    attribute that can be indexed in a higher level\n",
    "\n",
    "    If `partial` is true the first set domain will be reduced by common\"\"\"\n",
    "\n",
    "    if not A:\n",
    "        return [EMPTY_PSET]\n",
    "\n",
    "    a_full = A[0]\n",
    "    cmn = common[a_full[0]]\n",
    "\n",
    "    A = A[1:]\n",
    "    S = []\n",
    "    U_global = set()\n",
    "    U = set()\n",
    "\n",
    "    # First do single combinations, they are simplified\n",
    "    not_first = False\n",
    "    for x in a_full:\n",
    "        U = set()\n",
    "        # Only the first variable can have a only common domain (last height)\n",
    "        # (all last heights are equivalent for the same attribute; skip to prevent bias)\n",
    "        for h in range(heights[x] - not_first):\n",
    "            # Find domain\n",
    "            l_dom = domain[x][h] - (cmn if partial else 0)\n",
    "\n",
    "            # Run check to skip recursion\n",
    "            if tau < l_dom:\n",
    "                continue\n",
    "\n",
    "            for z in maximal_parents_new2(A, tau / l_dom):\n",
    "                if z not in U:\n",
    "                    U_global.add(z)\n",
    "                    U.add(z)\n",
    "                    S.append(add_to_pset(z, x, h))\n",
    "        not_first = True\n",
    "\n",
    "    a_full_n = len(a_full)\n",
    "    if a_full_n > 1:\n",
    "        for l in range(2, a_full_n+1):\n",
    "            for a in combinations(a_full, r=l):\n",
    "                U = set()\n",
    "                \n",
    "                # Compensating for multi-domain attrs is more complicated\n",
    "                curr_attrs = list(empty_list)\n",
    "                has_combs = True\n",
    "\n",
    "                while has_combs:\n",
    "                    # Find domain\n",
    "                    l_dom = 1\n",
    "                    for i in range(l):\n",
    "                        dom = domain[a[i]][curr_attrs[i]]\n",
    "                        l_dom *= dom - cmn\n",
    "                    if not partial:\n",
    "                        l_dom += cmn\n",
    "                    # print(curr_attrs[:a_n], l_dom)\n",
    "\n",
    "                    # Run check to skip recursion\n",
    "                    if tau > l_dom:\n",
    "                        for z in maximal_parents_new2(A, tau / l_dom):\n",
    "                            if z not in U:\n",
    "                                U_global.add(z)\n",
    "                                U.add(z)\n",
    "                                S.append(add_multiple_to_pset(z, a, curr_attrs))\n",
    "\n",
    "                    # Simple counter structure without iterators that will iterate over\n",
    "                    # all attribute height combinations\n",
    "                    for i in range(l):\n",
    "                        # In multi-attr mode, none of the variables cah have\n",
    "                        # a common only domain (last height)\n",
    "                        if curr_attrs[i] < heights[a[i]] - 2:\n",
    "                            curr_attrs[i] += 1\n",
    "                            break\n",
    "                        else:\n",
    "                            curr_attrs[i] = 0\n",
    "                            # Detect overflow and break\n",
    "                            # Placing check on with condition would make it run every time\n",
    "                            if i == l - 1:\n",
    "                                has_combs = False\n",
    "\n",
    "    # As in the default privbayes maximal_parents, add all combinations that don't include\n",
    "    # parents\n",
    "    for z in maximal_parents_new2(A, tau):\n",
    "        if z not in U_global:\n",
    "            S.append(z)\n",
    "    \n",
    "    return S\n",
    "\n",
    "len(maximal_parents_new2(A, 3000))"
   ]
  },
  {
   "cell_type": "code",
   "execution_count": null,
   "metadata": {},
   "outputs": [
    {
     "name": "stdout",
     "output_type": "stream",
     "text": [
      "5.75 s ± 5.65 ms per loop (mean ± std. dev. of 7 runs, 1 loop each)\n"
     ]
    }
   ],
   "source": [
    "%timeit maximal_parents_new2(A, 3000)"
   ]
  },
  {
   "cell_type": "code",
   "execution_count": null,
   "metadata": {},
   "outputs": [
    {
     "name": "stdout",
     "output_type": "stream",
     "text": [
      "Timer unit: 1e-06 s\n",
      "\n",
      "Total time: 9.25738 s\n",
      "File: /tmp/ipykernel_1358483/3656769381.py\n",
      "Function: maximal_parents_new2 at line 5\n",
      "\n",
      "Line #      Hits         Time  Per Hit   % Time  Line Contents\n",
      "==============================================================\n",
      "     5                                           def maximal_parents_new2(\n",
      "     6                                               A: tuple[tuple[int]], tau: float, partial: bool = False\n",
      "     7                                           ) -> list[tuple[int]]:\n",
      "     8                                               \"\"\"Given a set V containing hierarchical attributes (by int) and a tau\n",
      "     9                                               score that is divided by the size of the domain, return a set of all\n",
      "    10                                               possible combinations of attributes, such that if t > 1 there isn't an\n",
      "    11                                               attribute that can be indexed in a higher level\n",
      "    12                                           \n",
      "    13                                               If `partial` is true the first set domain will be reduced by common\"\"\"\n",
      "    14                                           \n",
      "    15    580621     308190.0      0.5      3.3      if not A:\n",
      "    16    266702     144929.0      0.5      1.6          return [EMPTY_PSET]\n",
      "    17                                           \n",
      "    18    313919     173370.0      0.6      1.9      a_full = A[0]\n",
      "    19    313919     182194.0      0.6      2.0      cmn = common[a_full[0]]\n",
      "    20                                           \n",
      "    21    313919     190762.0      0.6      2.1      A = A[1:]\n",
      "    22    313919     158815.0      0.5      1.7      S = []\n",
      "    23    313919     180159.0      0.6      1.9      U_global = set()\n",
      "    24    313919     170492.0      0.5      1.8      U = set()\n",
      "    25                                           \n",
      "    26                                               # First do single combinations, they are simplified\n",
      "    27    628037     342745.0      0.5      3.7      for x in a_full:\n",
      "    28    314118     208853.0      0.7      2.3          U.clear()\n",
      "    29                                                   # Use specific implementation for single variables\n",
      "    30   1288777     751338.0      0.6      8.1          for h in range(heights[x]):\n",
      "    31                                                       # Find domain\n",
      "    32    974659     701148.0      0.7      7.6              l_dom = domain[x][h] - (cmn if partial else 0)\n",
      "    33                                           \n",
      "    34                                                       # Run check to skip recursion\n",
      "    35    974659     627511.0      0.6      6.8              if tau < l_dom:\n",
      "    36    708712     365946.0      0.5      4.0                  continue\n",
      "    37                                           \n",
      "    38    766172     512440.0      0.7      5.5              for z in maximal_parents_new2(A, tau / l_dom):\n",
      "    39    500225     548402.0      1.1      5.9                  if z not in U:\n",
      "    40    370516     438944.0      1.2      4.7                      U_global.add(z)\n",
      "    41    370516     402818.0      1.1      4.4                      U.add(z)\n",
      "    42    370516     879612.0      2.4      9.5                      S.append(add_to_pset(z, x, h))\n",
      "    43                                               \n",
      "    44    313919     179695.0      0.6      1.9      a_full_n = len(a_full)\n",
      "    45    313919     197481.0      0.6      2.1      if a_full_n > 1:\n",
      "    46       397        281.0      0.7      0.0          for l in range(2, a_full_n+1):\n",
      "    47       400        413.0      1.0      0.0              for a in combinations(a_full, r=l):\n",
      "    48       201      13529.0     67.3      0.1                  U.clear()\n",
      "    49                                                           \n",
      "    50                                                           # Compensating for multi-domain attrs is more complicated\n",
      "    51       201        153.0      0.8      0.0                  curr_attrs = list(empty_list)\n",
      "    52       201         96.0      0.5      0.0                  has_combs = True\n",
      "    53                                           \n",
      "    54     12273       7575.0      0.6      0.1                  while has_combs:\n",
      "    55                                                               # Find domain\n",
      "    56     12072       6285.0      0.5      0.1                      l_dom = 1\n",
      "    57     36360      20432.0      0.6      0.2                      for i in range(l):\n",
      "    58     24288      15268.0      0.6      0.2                          dom = domain[a[i]][curr_attrs[i]]\n",
      "    59     24288      18014.0      0.7      0.2                          l_dom *= dom - cmn\n",
      "    60     12072       6242.0      0.5      0.1                      if not partial:\n",
      "    61     12072       7441.0      0.6      0.1                          l_dom += cmn\n",
      "    62                                                               # print(curr_attrs[:a_n], l_dom)\n",
      "    63                                           \n",
      "    64                                                               # Run check to skip recursion\n",
      "    65     12072       8044.0      0.7      0.1                      if tau > l_dom:\n",
      "    66     25781      17585.0      0.7      0.2                          for z in maximal_parents_new2(A, tau / l_dom):\n",
      "    67     25027      28081.0      1.1      0.3                              if z not in U:\n",
      "    68     11294      15274.0      1.4      0.2                                  U_global.add(z)\n",
      "    69     11294      12149.0      1.1      0.1                                  U.add(z)\n",
      "    70     11294      38217.0      3.4      0.4                                  S.append(add_multiple_to_pset(z, a, curr_attrs))\n",
      "    71                                           \n",
      "    72                                                               # Simple counter structure without iterators that will iterate over\n",
      "    73                                                               # all attribute height combinations\n",
      "    74     13488       8803.0      0.7      0.1                      for i in range(l):\n",
      "    75                                                                   # We only allow for minimum domain (ie only common attrs)\n",
      "    76                                                                   # for the first variable only\n",
      "    77     13287      10319.0      0.8      0.1                          if curr_attrs[i] < heights[a[i]] - 2 - (i != 0):\n",
      "    78     11871       7202.0      0.6      0.1                              curr_attrs[i] += 1\n",
      "    79     11871       6147.0      0.5      0.1                              break\n",
      "    80                                                                   else:\n",
      "    81      1416        819.0      0.6      0.0                              curr_attrs[i] = 0\n",
      "    82                                                                       # Detect overflow and break\n",
      "    83                                                                       # Placing check on with condition would make it run every time\n",
      "    84      1416        953.0      0.7      0.0                              if i == l - 1:\n",
      "    85       201        121.0      0.6      0.0                                  has_combs = False\n",
      "    86                                           \n",
      "    87                                               # As in the default privbayes maximal_parents, add all combinations that don't include\n",
      "    88                                               # parents\n",
      "    89    772017     432062.0      0.6      4.7      for z in maximal_parents_new2(A, tau):\n",
      "    90    458098     503615.0      1.1      5.4          if z not in U_global:\n",
      "    91    381092     249213.0      0.7      2.7              S.append(z)\n",
      "    92                                               \n",
      "    93    313919     157204.0      0.5      1.7      return S"
     ]
    }
   ],
   "source": [
    "%lprun -f maximal_parents_new2 maximal_parents_new2(A, 1000)"
   ]
  },
  {
   "cell_type": "code",
   "execution_count": null,
   "metadata": {},
   "outputs": [],
   "source": []
  }
 ],
 "metadata": {
  "language_info": {
   "codemirror_mode": {
    "name": "ipython",
    "version": 3
   },
   "file_extension": ".py",
   "mimetype": "text/x-python",
   "name": "python",
   "nbconvert_exporter": "python",
   "pygments_lexer": "ipython3",
   "version": "3.10.7"
  },
  "vscode": {
   "interpreter": {
    "hash": "50661068d2d5c6ff1ce24ae701dfa73cc4ae117a223c3f7199e1fdb4656c8912"
   }
  }
 },
 "nbformat": 4,
 "nbformat_minor": 2
}
