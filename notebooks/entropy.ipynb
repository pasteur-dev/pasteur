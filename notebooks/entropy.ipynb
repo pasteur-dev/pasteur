{
 "cells": [
  {
   "cell_type": "code",
   "execution_count": null,
   "metadata": {},
   "outputs": [
    {
     "name": "stdout",
     "output_type": "stream",
     "text": [
      "\u001b[0m\u001b[34mINFO    \u001b[0m Kedro project Pasteur                                                                                           \u001b[2m__init__.py\u001b[0m\u001b[2m:\u001b[0m\u001b[2m77\u001b[0m\n",
      "\u001b[0m\u001b[34mINFO    \u001b[0m Defined global variable \u001b[32m'context'\u001b[0m, \u001b[32m'session'\u001b[0m, \u001b[32m'catalog'\u001b[0m and \u001b[32m'pipelines'\u001b[0m                                         \u001b[2m__init__.py\u001b[0m\u001b[2m:\u001b[0m\u001b[2m78\u001b[0m\n",
      "\u001b[0m\u001b[34mINFO    \u001b[0m Registered line magic \u001b[32m'run_viz'\u001b[0m                                                                                 \u001b[2m__init__.py\u001b[0m\u001b[2m:\u001b[0m\u001b[2m84\u001b[0m\n",
      "\u001b[0m\u001b[34mINFO    \u001b[0m Registered line magic \u001b[32m'reload_kedro_mlflow'\u001b[0m                                                                     \u001b[2m__init__.py\u001b[0m\u001b[2m:\u001b[0m\u001b[2m84\u001b[0m\n"
     ]
    }
   ],
   "source": [
    "from pasteur.kedro.ipython import *\n",
    "register_kedro()"
   ]
  },
  {
   "cell_type": "code",
   "execution_count": null,
   "metadata": {},
   "outputs": [],
   "source": [
    "%load_ext autoreload\n",
    "%autoreload 2\n",
    "%load_ext line_profiler"
   ]
  },
  {
   "cell_type": "code",
   "execution_count": null,
   "metadata": {},
   "outputs": [],
   "source": [
    "import pandas as pd\n",
    "import numpy as np"
   ]
  },
  {
   "cell_type": "code",
   "execution_count": null,
   "metadata": {},
   "outputs": [],
   "source": [
    "from pasteur.metadata import Metadata\n",
    "\n",
    "trn: pd.DataFrame = catalog.load(\"mimic_tab_admissions.trn.table\")\n",
    "table = catalog.load(\"mimic_tab_admissions.wrk.idx_table\")"
   ]
  },
  {
   "cell_type": "code",
   "execution_count": null,
   "metadata": {},
   "outputs": [],
   "source": [
    "attrs = trn[\"idx\"].get_attributes()"
   ]
  },
  {
   "cell_type": "code",
   "execution_count": null,
   "metadata": {},
   "outputs": [
    {
     "name": "stdout",
     "output_type": "stream",
     "text": [
      "\n",
      "\u001b[1m{\u001b[0m\n",
      "    \u001b[32m'birth_year'\u001b[0m: Attr\u001b[1m[\u001b[0m\u001b[33mna\u001b[0m=\u001b[1;36m0\u001b[0m,\u001b[33mukn\u001b[0m=\u001b[1;36m0\u001b[0m\u001b[1m]\u001b[0m\u001b[1m{\u001b[0m\u001b[1m}\u001b[0m,\n",
      "    \u001b[32m'dod'\u001b[0m: Attr\u001b[1m[\u001b[0m\u001b[33mna\u001b[0m=\u001b[1;36m1\u001b[0m,\u001b[33mukn\u001b[0m=\u001b[1;36m0\u001b[0m\u001b[1m]\u001b[0m\u001b[1m{\u001b[0m\u001b[32m'dod_year'\u001b[0m: \u001b[1m<\u001b[0m\u001b[1;95mpasteur.synth.hierarchy.RebalancedColumn\u001b[0m\u001b[39m object at \u001b[0m\u001b[1;36m0x7ff8f970cd00\u001b[0m\u001b[1m>\u001b[0m, \u001b[32m'dod_week'\u001b[0m: \u001b[1m<\u001b[0m\u001b[1;95mpasteur.synth.hierarchy.RebalancedColumn\u001b[0m\u001b[39m object at \u001b[0m\u001b[1;36m0x7ff8f970cca0\u001b[0m\u001b[1m>\u001b[0m, \u001b[32m'dod_day'\u001b[0m: \u001b[1m<\u001b[0m\u001b[1;95mpasteur.synth.hierarchy.RebalancedColumn\u001b[0m\u001b[39m object at \u001b[0m\u001b[1;36m0x7ff8f970cc10\u001b[0m\u001b[1m>\u001b[0m\u001b[1m}\u001b[0m,\n",
      "    \u001b[32m'admittime'\u001b[0m: Attr\u001b[1m[\u001b[0m\u001b[33mna\u001b[0m=\u001b[1;36m0\u001b[0m,\u001b[33mukn\u001b[0m=\u001b[1;36m0\u001b[0m\u001b[1m]\u001b[0m\u001b[1m{\u001b[0m\u001b[32m'admittime_year'\u001b[0m: \u001b[1m<\u001b[0m\u001b[1;95mpasteur.synth.hierarchy.RebalancedColumn\u001b[0m\u001b[39m object at \u001b[0m\u001b[1;36m0x7ff8f970f5e0\u001b[0m\u001b[1m>\u001b[0m, \u001b[32m'admittime_week'\u001b[0m: \u001b[1m<\u001b[0m\u001b[1;95mpasteur.synth.hierarchy.RebalancedColumn\u001b[0m\u001b[39m object at \u001b[0m\u001b[1;36m0x7ff8f970f580\u001b[0m\u001b[1m>\u001b[0m, \u001b[32m'admittime_day'\u001b[0m: \u001b[1m<\u001b[0m\u001b[1;95mpasteur.synth.hierarchy.RebalancedColumn\u001b[0m\u001b[39m object at \u001b[0m\u001b[1;36m0x7ff8f970f520\u001b[0m\u001b[1m>\u001b[0m, \u001b[32m'admittime_time'\u001b[0m: \u001b[1m<\u001b[0m\u001b[1;95mpasteur.synth.hierarchy.RebalancedColumn\u001b[0m\u001b[39m object at \u001b[0m\u001b[1;36m0x7ff8f970f4c0\u001b[0m\u001b[1m>\u001b[0m\u001b[1m}\u001b[0m,\n",
      "    \u001b[32m'dischtime'\u001b[0m: Attr\u001b[1m[\u001b[0m\u001b[33mna\u001b[0m=\u001b[1;36m0\u001b[0m,\u001b[33mukn\u001b[0m=\u001b[1;36m0\u001b[0m\u001b[1m]\u001b[0m\u001b[1m{\u001b[0m\u001b[32m'dischtime_day'\u001b[0m: \u001b[1m<\u001b[0m\u001b[1;95mpasteur.synth.hierarchy.RebalancedColumn\u001b[0m\u001b[39m object at \u001b[0m\u001b[1;36m0x7ff8f970f280\u001b[0m\u001b[1m>\u001b[0m, \u001b[32m'dischtime_time'\u001b[0m: \u001b[1m<\u001b[0m\u001b[1;95mpasteur.synth.hierarchy.RebalancedColumn\u001b[0m\u001b[39m object at \u001b[0m\u001b[1;36m0x7ff8f970f220\u001b[0m\u001b[1m>\u001b[0m\u001b[1m}\u001b[0m,\n",
      "    \u001b[32m'deathtime'\u001b[0m: Attr\u001b[1m[\u001b[0m\u001b[33mna\u001b[0m=\u001b[1;36m1\u001b[0m,\u001b[33mukn\u001b[0m=\u001b[1;36m0\u001b[0m\u001b[1m]\u001b[0m\u001b[1m{\u001b[0m\u001b[32m'deathtime_day'\u001b[0m: \u001b[1m<\u001b[0m\u001b[1;95mpasteur.synth.hierarchy.RebalancedColumn\u001b[0m\u001b[39m object at \u001b[0m\u001b[1;36m0x7ff8f970ef50\u001b[0m\u001b[1m>\u001b[0m, \u001b[32m'deathtime_time'\u001b[0m: \u001b[1m<\u001b[0m\u001b[1;95mpasteur.synth.hierarchy.RebalancedColumn\u001b[0m\u001b[39m object at \u001b[0m\u001b[1;36m0x7ff8f970eec0\u001b[0m\u001b[1m>\u001b[0m\u001b[1m}\u001b[0m,\n",
      "    \u001b[32m'admission_type'\u001b[0m: Attr\u001b[1m[\u001b[0m\u001b[33mna\u001b[0m=\u001b[1;36m0\u001b[0m,\u001b[33mukn\u001b[0m=\u001b[1;36m0\u001b[0m\u001b[1m]\u001b[0m\u001b[1m{\u001b[0m\u001b[32m'admission_type'\u001b[0m: \u001b[1m<\u001b[0m\u001b[1;95mpasteur.synth.hierarchy.RebalancedColumn\u001b[0m\u001b[39m object at \u001b[0m\u001b[1;36m0x7ff8f970ed70\u001b[0m\u001b[1m>\u001b[0m\u001b[1m}\u001b[0m,\n",
      "    \u001b[32m'admission_location'\u001b[0m: Attr\u001b[1m[\u001b[0m\u001b[33mna\u001b[0m=\u001b[1;36m1\u001b[0m,\u001b[33mukn\u001b[0m=\u001b[1;36m0\u001b[0m\u001b[1m]\u001b[0m\u001b[1m{\u001b[0m\u001b[32m'admission_location'\u001b[0m: \u001b[1m<\u001b[0m\u001b[1;95mpasteur.synth.hierarchy.RebalancedColumn\u001b[0m\u001b[39m object at \u001b[0m\u001b[1;36m0x7ff8f970eb90\u001b[0m\u001b[1m>\u001b[0m\u001b[1m}\u001b[0m,\n",
      "    \u001b[32m'discharge_location'\u001b[0m: Attr\u001b[1m[\u001b[0m\u001b[33mna\u001b[0m=\u001b[1;36m1\u001b[0m,\u001b[33mukn\u001b[0m=\u001b[1;36m0\u001b[0m\u001b[1m]\u001b[0m\u001b[1m{\u001b[0m\u001b[32m'discharge_location'\u001b[0m: \u001b[1m<\u001b[0m\u001b[1;95mpasteur.synth.hierarchy.RebalancedColumn\u001b[0m\u001b[39m object at \u001b[0m\u001b[1;36m0x7ff8f970e9b0\u001b[0m\u001b[1m>\u001b[0m\u001b[1m}\u001b[0m,\n",
      "    \u001b[32m'insurance'\u001b[0m: Attr\u001b[1m[\u001b[0m\u001b[33mna\u001b[0m=\u001b[1;36m0\u001b[0m,\u001b[33mukn\u001b[0m=\u001b[1;36m0\u001b[0m\u001b[1m]\u001b[0m\u001b[1m{\u001b[0m\u001b[32m'insurance'\u001b[0m: \u001b[1m<\u001b[0m\u001b[1;95mpasteur.synth.hierarchy.RebalancedColumn\u001b[0m\u001b[39m object at \u001b[0m\u001b[1;36m0x7ff8f970e7d0\u001b[0m\u001b[1m>\u001b[0m\u001b[1m}\u001b[0m,\n",
      "    \u001b[32m'language'\u001b[0m: Attr\u001b[1m[\u001b[0m\u001b[33mna\u001b[0m=\u001b[1;36m0\u001b[0m,\u001b[33mukn\u001b[0m=\u001b[1;36m0\u001b[0m\u001b[1m]\u001b[0m\u001b[1m{\u001b[0m\u001b[32m'language'\u001b[0m: \u001b[1m<\u001b[0m\u001b[1;95mpasteur.synth.hierarchy.RebalancedColumn\u001b[0m\u001b[39m object at \u001b[0m\u001b[1;36m0x7ff8f970e5c0\u001b[0m\u001b[1m>\u001b[0m\u001b[1m}\u001b[0m,\n",
      "    \u001b[32m'marital_status'\u001b[0m: Attr\u001b[1m[\u001b[0m\u001b[33mna\u001b[0m=\u001b[1;36m1\u001b[0m,\u001b[33mukn\u001b[0m=\u001b[1;36m0\u001b[0m\u001b[1m]\u001b[0m\u001b[1m{\u001b[0m\u001b[32m'marital_status'\u001b[0m: \u001b[1m<\u001b[0m\u001b[1;95mpasteur.synth.hierarchy.RebalancedColumn\u001b[0m\u001b[39m object at \u001b[0m\u001b[1;36m0x7ff8f970e3e0\u001b[0m\u001b[1m>\u001b[0m\u001b[1m}\u001b[0m,\n",
      "    \u001b[32m'ethnicity'\u001b[0m: Attr\u001b[1m[\u001b[0m\u001b[33mna\u001b[0m=\u001b[1;36m0\u001b[0m,\u001b[33mukn\u001b[0m=\u001b[1;36m0\u001b[0m\u001b[1m]\u001b[0m\u001b[1m{\u001b[0m\u001b[32m'ethnicity'\u001b[0m: \u001b[1m<\u001b[0m\u001b[1;95mpasteur.synth.hierarchy.RebalancedColumn\u001b[0m\u001b[39m object at \u001b[0m\u001b[1;36m0x7ff8f970e200\u001b[0m\u001b[1m>\u001b[0m\u001b[1m}\u001b[0m,\n",
      "    \u001b[32m'hospital_expire_flag'\u001b[0m: Attr\u001b[1m[\u001b[0m\u001b[33mna\u001b[0m=\u001b[1;36m0\u001b[0m,\u001b[33mukn\u001b[0m=\u001b[1;36m0\u001b[0m\u001b[1m]\u001b[0m\u001b[1m{\u001b[0m\u001b[32m'hospital_expire_flag'\u001b[0m: \u001b[1m<\u001b[0m\u001b[1;95mpasteur.synth.hierarchy.RebalancedColumn\u001b[0m\u001b[39m object at \u001b[0m\u001b[1;36m0x7ff8f970e020\u001b[0m\u001b[1m>\u001b[0m\u001b[1m}\u001b[0m,\n",
      "    \u001b[32m'gender'\u001b[0m: Attr\u001b[1m[\u001b[0m\u001b[33mna\u001b[0m=\u001b[1;36m0\u001b[0m,\u001b[33mukn\u001b[0m=\u001b[1;36m0\u001b[0m\u001b[1m]\u001b[0m\u001b[1m{\u001b[0m\u001b[32m'gender'\u001b[0m: \u001b[1m<\u001b[0m\u001b[1;95mpasteur.synth.hierarchy.RebalancedColumn\u001b[0m\u001b[39m object at \u001b[0m\u001b[1;36m0x7ff8f970de40\u001b[0m\u001b[1m>\u001b[0m\u001b[1m}\u001b[0m\n",
      "\u001b[1m}\u001b[0m\n"
     ]
    }
   ],
   "source": [
    "from copy import copy\n",
    "from pasteur.synth.privbayes import rebalance_column\n",
    "\n",
    "new_attrs = {}\n",
    "for name, attr in attrs.items():\n",
    "    cols = {}\n",
    "    for col_name, col in attr.cols.items():\n",
    "        cols[col_name] = rebalance_column(\n",
    "            table[col_name], col, 0\n",
    "        )\n",
    "\n",
    "    new_attr = copy(attr)\n",
    "    new_attr.update_cols(cols)\n",
    "    new_attrs[name] = new_attr\n",
    "new_attrs"
   ]
  },
  {
   "cell_type": "code",
   "execution_count": null,
   "metadata": {},
   "outputs": [
    {
     "name": "stdout",
     "output_type": "stream",
     "text": [
      "\n",
      "\u001b[1m(\u001b[0m\n",
      "    \u001b[1;35marray\u001b[0m\u001b[1m(\u001b[0m\u001b[1m[\u001b[0m\u001b[1;36m0.57051281\u001b[0m, \u001b[1;36m0.57051281\u001b[0m, \u001b[1;36m0.57051281\u001b[0m, \u001b[1;36m0.57051281\u001b[0m, \u001b[1;36m0.57051281\u001b[0m,\n",
      "       \u001b[1;36m0.5704901\u001b[0m , \u001b[1;36m0.57033927\u001b[0m, \u001b[1;36m0.56983351\u001b[0m, \u001b[1;36m0.56904794\u001b[0m, \u001b[1;36m0.56808503\u001b[0m,\n",
      "       \u001b[1;36m0.56704387\u001b[0m, \u001b[1;36m0.56529822\u001b[0m, \u001b[1;36m0.56361042\u001b[0m, \u001b[1;36m0.56107146\u001b[0m, \u001b[1;36m0.55832771\u001b[0m,\n",
      "       \u001b[1;36m0.55486176\u001b[0m, \u001b[1;36m0.54989038\u001b[0m, \u001b[1;36m0.54361104\u001b[0m, \u001b[1;36m0.53674918\u001b[0m, \u001b[1;36m0.52901496\u001b[0m,\n",
      "       \u001b[1;36m0.52013597\u001b[0m, \u001b[1;36m0.51093399\u001b[0m, \u001b[1;36m0.5012749\u001b[0m , \u001b[1;36m0.49003703\u001b[0m, \u001b[1;36m0.47908775\u001b[0m,\n",
      "       \u001b[1;36m0.46561534\u001b[0m, \u001b[1;36m0.44977822\u001b[0m, \u001b[1;36m0.43117611\u001b[0m, \u001b[1;36m0.40784666\u001b[0m, \u001b[1;36m0.37856016\u001b[0m,\n",
      "       \u001b[1;36m0.33974806\u001b[0m, \u001b[1;36m0.2700249\u001b[0m \u001b[1m]\u001b[0m\u001b[1m)\u001b[0m,\n",
      "    \u001b[1;35marray\u001b[0m\u001b[1m(\u001b[0m\u001b[1m[\u001b[0m\u001b[1;36m5.043\u001b[0m, \u001b[1;36m5\u001b[0m.   , \u001b[1;36m4.953\u001b[0m, \u001b[1;36m4.906\u001b[0m, \u001b[1;36m4.86\u001b[0m , \u001b[1;36m4.81\u001b[0m , \u001b[1;36m4.754\u001b[0m, \u001b[1;36m4.7\u001b[0m  , \u001b[1;36m4.645\u001b[0m,\n",
      "       \u001b[1;36m4.586\u001b[0m, \u001b[1;36m4.523\u001b[0m, \u001b[1;36m4.46\u001b[0m , \u001b[1;36m4.39\u001b[0m , \u001b[1;36m4.32\u001b[0m , \u001b[1;36m4.246\u001b[0m, \u001b[1;36m4.17\u001b[0m , \u001b[1;36m4.086\u001b[0m, \u001b[1;36m4\u001b[0m.   ,\n",
      "       \u001b[1;36m3.906\u001b[0m, \u001b[1;36m3.807\u001b[0m, \u001b[1;36m3.701\u001b[0m, \u001b[1;36m3.586\u001b[0m, \u001b[1;36m3.459\u001b[0m, \u001b[1;36m3.322\u001b[0m, \u001b[1;36m3.17\u001b[0m , \u001b[1;36m3\u001b[0m.   , \u001b[1;36m2.807\u001b[0m,\n",
      "       \u001b[1;36m2.586\u001b[0m, \u001b[1;36m2.322\u001b[0m, \u001b[1;36m2\u001b[0m.   , \u001b[1;36m1.585\u001b[0m, \u001b[1;36m1\u001b[0m.   \u001b[1m]\u001b[0m, \u001b[33mdtype\u001b[0m=\u001b[35mfloat16\u001b[0m\u001b[1m)\u001b[0m\n",
      "\u001b[1m)\u001b[0m\n"
     ]
    }
   ],
   "source": [
    "ZERO_FILL = 1e-24\n",
    "grouping = new_attrs[\"dod\"][\"dod_year\"].grouping\n",
    "column = table[\"dod_year\"]\n",
    "\n",
    "mapped = grouping[:, column]\n",
    "counts = []\n",
    "domains = np.max(grouping, axis=1) + 1\n",
    "\n",
    "for i in range(len(mapped)):\n",
    "    counts.append(np.bincount(mapped[i, :]))\n",
    "\n",
    "entropies = []\n",
    "for count in counts:\n",
    "    p = count / count.max() + ZERO_FILL\n",
    "    entropies.append(-np.sum(p * np.log2(p)))\n",
    "\n",
    "entropies = np.array(entropies)\n",
    "\n",
    "entropies, np.log2(domains)"
   ]
  },
  {
   "cell_type": "code",
   "execution_count": null,
   "metadata": {},
   "outputs": [
    {
     "name": "stdout",
     "output_type": "stream",
     "text": [
      "\n",
      "\u001b[1;35marray\u001b[0m\u001b[1m(\u001b[0m\u001b[1m[\u001b[0m\u001b[1;36m0.11313035\u001b[0m, \u001b[1;36m0.11410256\u001b[0m, \u001b[1;36m0.1151824\u001b[0m , \u001b[1;36m0.11628287\u001b[0m, \u001b[1;36m0.11740457\u001b[0m,\n",
      "       \u001b[1;36m0.1186397\u001b[0m , \u001b[1;36m0.11997276\u001b[0m, \u001b[1;36m0.12126133\u001b[0m, \u001b[1;36m0.12251999\u001b[0m, \u001b[1;36m0.12387544\u001b[0m,\n",
      "       \u001b[1;36m0.12535685\u001b[0m, \u001b[1;36m0.12672184\u001b[0m, \u001b[1;36m0.12836678\u001b[0m, \u001b[1;36m0.12986826\u001b[0m, \u001b[1;36m0.13149208\u001b[0m,\n",
      "       \u001b[1;36m0.13300057\u001b[0m, \u001b[1;36m0.1345812\u001b[0m , \u001b[1;36m0.13590276\u001b[0m, \u001b[1;36m0.13740779\u001b[0m, \u001b[1;36m0.13897161\u001b[0m,\n",
      "       \u001b[1;36m0.14053278\u001b[0m, \u001b[1;36m0.14248268\u001b[0m, \u001b[1;36m0.14491968\u001b[0m, \u001b[1;36m0.14750086\u001b[0m, \u001b[1;36m0.15113551\u001b[0m,\n",
      "       \u001b[1;36m0.15520511\u001b[0m, \u001b[1;36m0.16025501\u001b[0m, \u001b[1;36m0.1667388\u001b[0m , \u001b[1;36m0.17562447\u001b[0m, \u001b[1;36m0.18928008\u001b[0m,\n",
      "       \u001b[1;36m0.21435737\u001b[0m, \u001b[1;36m0.2700249\u001b[0m \u001b[1m]\u001b[0m\u001b[1m)\u001b[0m\n"
     ]
    }
   ],
   "source": [
    "entropies / np.log2(domains)"
   ]
  },
  {
   "cell_type": "code",
   "execution_count": null,
   "metadata": {},
   "outputs": [
    {
     "name": "stdout",
     "output_type": "stream",
     "text": [
      "\n",
      "\u001b[1;35marray\u001b[0m\u001b[1m(\u001b[0m\u001b[1m[\u001b[0m\u001b[1;36m0.97835785\u001b[0m, \u001b[1;36m0.98056799\u001b[0m, \u001b[1;36m0.98277814\u001b[0m, \u001b[1;36m0.98498829\u001b[0m, \u001b[1;36m0.98719843\u001b[0m,\n",
      "       \u001b[1;36m0.99010588\u001b[0m, \u001b[1;36m0.99205359\u001b[0m, \u001b[1;36m0.99411721\u001b[0m, \u001b[1;36m0.99568601\u001b[0m, \u001b[1;36m0.99693549\u001b[0m,\n",
      "       \u001b[1;36m0.99876953\u001b[0m, \u001b[1;36m0.99861473\u001b[0m, \u001b[1;36m1\u001b[0m.        , \u001b[1;36m0.99984233\u001b[0m, \u001b[1;36m0.99927879\u001b[0m,\n",
      "       \u001b[1;36m0.99737457\u001b[0m, \u001b[1;36m0.99411908\u001b[0m, \u001b[1;36m0.9883828\u001b[0m , \u001b[1;36m0.98214475\u001b[0m, \u001b[1;36m0.97550706\u001b[0m,\n",
      "       \u001b[1;36m0.96652244\u001b[0m, \u001b[1;36m0.95800035\u001b[0m, \u001b[1;36m0.95024649\u001b[0m, \u001b[1;36m0.94033363\u001b[0m, \u001b[1;36m0.93293345\u001b[0m,\n",
      "       \u001b[1;36m0.92353372\u001b[0m, \u001b[1;36m0.91303037\u001b[0m, \u001b[1;36m0.90088109\u001b[0m, \u001b[1;36m0.88795046\u001b[0m, \u001b[1;36m0.87600618\u001b[0m,\n",
      "       \u001b[1;36m0.87437662\u001b[0m, \u001b[1;36m0.89264349\u001b[0m\u001b[1m]\u001b[0m\u001b[1m)\u001b[0m\n"
     ]
    }
   ],
   "source": [
    "u = 1.5\n",
    "x = (1 + u/np.log2(domains))*entropies\n",
    "x / x.max()"
   ]
  },
  {
   "cell_type": "code",
   "execution_count": null,
   "metadata": {},
   "outputs": [],
   "source": []
  }
 ],
 "metadata": {
  "language_info": {
   "codemirror_mode": {
    "name": "ipython",
    "version": 3
   },
   "file_extension": ".py",
   "mimetype": "text/x-python",
   "name": "python",
   "nbconvert_exporter": "python",
   "pygments_lexer": "ipython3",
   "version": "3.10.7"
  },
  "vscode": {
   "interpreter": {
    "hash": "97cc609b13305c559618ec78a438abc56230b9381f827f22d070313b9a1f3777"
   }
  }
 },
 "nbformat": 4,
 "nbformat_minor": 2
}
