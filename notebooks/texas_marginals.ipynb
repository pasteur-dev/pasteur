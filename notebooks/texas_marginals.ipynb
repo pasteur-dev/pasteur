{
 "cells": [
  {
   "cell_type": "code",
   "execution_count": null,
   "metadata": {},
   "outputs": [
    {
     "name": "stdout",
     "output_type": "stream",
     "text": [
      "\u001b[0m\u001b[34mINFO    \u001b[0m Kedro project Pasteur                                                                                           \u001b[2m__init__.py\u001b[0m\u001b[2m:\u001b[0m\u001b[2m77\u001b[0m\n",
      "\u001b[0m\u001b[34mINFO    \u001b[0m Defined global variable \u001b[32m'context'\u001b[0m, \u001b[32m'session'\u001b[0m, \u001b[32m'catalog'\u001b[0m and \u001b[32m'pipelines'\u001b[0m                                         \u001b[2m__init__.py\u001b[0m\u001b[2m:\u001b[0m\u001b[2m78\u001b[0m\n",
      "\u001b[0m\u001b[34mINFO    \u001b[0m Registered line magic \u001b[32m'run_viz'\u001b[0m                                                                                 \u001b[2m__init__.py\u001b[0m\u001b[2m:\u001b[0m\u001b[2m84\u001b[0m\n"
     ]
    }
   ],
   "source": [
    "from pasteur.kedro.ipython import * # type: ignore\n",
    "register_kedro() # type: ignore"
   ]
  },
  {
   "cell_type": "code",
   "execution_count": null,
   "metadata": {},
   "outputs": [],
   "source": [
    "table = catalog.load(\"tab_texas_charges.wrk.idx_table\")\n",
    "trn = catalog.load(\"tab_texas_charges.trn.table\")"
   ]
  },
  {
   "cell_type": "code",
   "execution_count": null,
   "metadata": {},
   "outputs": [],
   "source": [
    "attr = trn[\"idx\"].get_attributes()"
   ]
  },
  {
   "cell_type": "code",
   "execution_count": null,
   "metadata": {},
   "outputs": [
    {
     "name": "stdout",
     "output_type": "stream",
     "text": [
      "\n",
      "revenue_code              \u001b[1;36m461\u001b[0m\n",
      "hcpcs_qualifier             \u001b[1;36m6\u001b[0m\n",
      "hcpcs_procedure_code     \u001b[1;36m5146\u001b[0m\n",
      "modifier_1                \u001b[1;36m155\u001b[0m\n",
      "modifier_2                 \u001b[1;36m48\u001b[0m\n",
      "modifier_3                  \u001b[1;36m4\u001b[0m\n",
      "modifier_4                  \u001b[1;36m5\u001b[0m\n",
      "unit_measurement_code       \u001b[1;36m8\u001b[0m\n",
      "units_of_service            \u001b[1;36m8\u001b[0m\n",
      "unit_rate                  \u001b[1;36m13\u001b[0m\n",
      "chrgs_line_item            \u001b[1;36m10\u001b[0m\n",
      "chrgs_non_cov              \u001b[1;36m17\u001b[0m\n",
      "dtype: int64\n"
     ]
    }
   ],
   "source": [
    "table.nunique()"
   ]
  },
  {
   "cell_type": "code",
   "execution_count": null,
   "metadata": {},
   "outputs": [],
   "source": [
    "%load_ext line_profiler"
   ]
  },
  {
   "cell_type": "code",
   "execution_count": null,
   "metadata": {},
   "outputs": [],
   "source": [
    "# Oprimise rebalancer\n",
    "from pasteur.hierarchy import rebalance_value, make_grouping, find_smallest_group, create_node_to_group_map"
   ]
  },
  {
   "cell_type": "code",
   "execution_count": null,
   "metadata": {},
   "outputs": [],
   "source": [
    "target = \"hcpcs_procedure_code\"\n",
    "val = attr[target][target]\n",
    "# val"
   ]
  },
  {
   "cell_type": "code",
   "execution_count": null,
   "metadata": {},
   "outputs": [
    {
     "name": "stdout",
     "output_type": "stream",
     "text": [
      "\u001b[1m<\u001b[0m\u001b[1;95mpasteur.hierarchy.RebalancedValue\u001b[0m\u001b[39m object at \u001b[0m\u001b[1;36m0x7f1fbbf0a6b0\u001b[0m\u001b[1m>\u001b[0m\n"
     ]
    }
   ],
   "source": [
    "rebalance_value(table[target], val)"
   ]
  },
  {
   "cell_type": "code",
   "execution_count": null,
   "metadata": {},
   "outputs": [
    {
     "name": "stdout",
     "output_type": "stream",
     "text": [
      "Timer unit: 1e-06 s\n",
      "\n",
      "Total time: 1.08502 s\n",
      "File: /mnt/ext/projects/pasteur/src/pasteur/hierarchy.py\n",
      "Function: make_grouping at line 224\n",
      "\n",
      "Line #      Hits         Time  Per Hit   % Time  Line Contents\n",
      "==============================================================\n",
      "   224                                           def make_grouping(counts: np.ndarray, head: Level, common: int = 0) -> np.ndarray:\n",
      "   225                                               \"\"\"Converts the hierarchical attribute level tree provided into a node-to-group\n",
      "   226                                               mapping, where `group[i][j] = z`, where `i` is the height of the mapping\n",
      "   227                                               `j` is node `j` and `z` is the group the node is associated at that height.\n",
      "   228                                           \n",
      "   229                                               `counts` provides the class densities. It doesn't need to be normalized and\n",
      "   230                                               some of its values may be *negative*.\n",
      "   231                                           \n",
      "   232                                               Reason: if `counts` is differentially private, then some values will have\n",
      "   233                                               negative probability after adding noise. If we clip to 0, then the mean added\n",
      "   234                                               value of noise will become positive, and large groups of small classes will have\n",
      "   235                                               their probability increase by `m*n` (where `m` is the noise scale, `n` the\n",
      "   236                                               number of groups).\n",
      "   237                                           \n",
      "   238                                               `common` is the number of values in the beginning of the domain are shared with other\n",
      "   239                                               columns in the attribute. Those values will never be merged.\n",
      "   240                                               This also means that the minimum domain of this column will be `common + 1`.\n",
      "   241                                               \"\"\"\n",
      "   242                                           \n",
      "   243         1       1351.0   1351.0      0.1      tree = create_tree(head, common)\n",
      "   244         1        527.0    527.0      0.0      n = head.get_domain(0)\n",
      "   245         1         20.0     20.0      0.0      grouping = np.empty((n - common, n), dtype=get_dtype(n))\n",
      "   246         1        548.0    548.0      0.1      create_node_to_group_map(tree, grouping[0, :])\n",
      "   247                                           \n",
      "   248       460        209.0      0.5      0.0      for i in range(1, n - common):\n",
      "   249       459     782504.0   1704.8     72.1          node, a, b, _ = find_smallest_group(counts, tree)\n",
      "   250       459      72618.0    158.2      6.7          merge_groups_in_node(node, a, b)\n",
      "   251       459      54207.0    118.1      5.0          prune_tree(tree)\n",
      "   252       459     173038.0    377.0     15.9          create_node_to_group_map(tree, grouping[i, :])\n",
      "   253                                           \n",
      "   254         1          0.0      0.0      0.0      return grouping"
     ]
    }
   ],
   "source": [
    "%lprun -f make_grouping rebalance_value(table[target], val)"
   ]
  },
  {
   "cell_type": "code",
   "execution_count": null,
   "metadata": {},
   "outputs": [
    {
     "name": "stdout",
     "output_type": "stream",
     "text": [
      "Timer unit: 1e-06 s\n",
      "\n",
      "Total time: 0.332929 s\n",
      "File: /mnt/ext/projects/pasteur/src/pasteur/hierarchy.py\n",
      "Function: create_node_to_group_map at line 200\n",
      "\n",
      "Line #      Hits         Time  Per Hit   % Time  Line Contents\n",
      "==============================================================\n",
      "   200                                           def create_node_to_group_map(tree: list, grouping: np.ndarray, ofs: int = 0):\n",
      "   201                                               \"\"\"Traverses `tree` and creates an array which maps nodes to groups such that:\n",
      "   202                                           \n",
      "   203                                               `arr[x] = y`, where `x` is the node and `y` is its group.\n",
      "   204                                           \n",
      "   205                                               `grouping` is updated in place to form arr recursively and `ofs` is\n",
      "   206                                               used to keep track of the current group number during recursion.\"\"\"\n",
      "   207                                           \n",
      "   208    108328      31221.0      0.3      9.4      for child in tree:\n",
      "   209    107409      33457.0      0.3     10.0          if child is None:\n",
      "   210                                                       # unclean, assumes when `None`, `ofs <= common`, ie the first `common`\n",
      "   211                                                       # buckets will be None\n",
      "   212       920        451.0      0.5      0.1              grouping[ofs] = ofs\n",
      "   213       920        336.0      0.4      0.1              ofs += 1\n",
      "   214    106489      37333.0      0.4     11.2          elif isinstance(child, set):\n",
      "   215    317630      98948.0      0.3     29.7              for i in child:\n",
      "   216    211600      90406.0      0.4     27.2                  grouping[i] = ofs\n",
      "   217    106030      40339.0      0.4     12.1              ofs += 1\n",
      "   218                                                   else:\n",
      "   219       459        196.0      0.4      0.1              ofs = create_node_to_group_map(child, grouping, ofs)\n",
      "   220                                           \n",
      "   221       919        242.0      0.3      0.1      return ofs"
     ]
    }
   ],
   "source": [
    "%lprun -f create_node_to_group_map rebalance_value(table[target], val)"
   ]
  },
  {
   "cell_type": "code",
   "execution_count": null,
   "metadata": {},
   "outputs": [
    {
     "name": "stdout",
     "output_type": "stream",
     "text": [
      "Timer unit: 1e-06 s\n",
      "\n",
      "Total time: 0.993943 s\n",
      "File: /mnt/ext/projects/pasteur/src/pasteur/hierarchy.py\n",
      "Function: find_smallest_group at line 133\n",
      "\n",
      "Line #      Hits         Time  Per Hit   % Time  Line Contents\n",
      "==============================================================\n",
      "   133                                           def find_smallest_group(\n",
      "   134                                               counts: np.ndarray, parent: list[N]\n",
      "   135                                           ) -> tuple[list, set, set, float]:\n",
      "   136                                               \"\"\"Finds groups `a`, `b` which when combined form `c`, where `c` is the smallest\n",
      "   137                                               group that can be formed by any two nodes in the tree, which are valid to merge.\n",
      "   138                                           \n",
      "   139                                               Returns the parent `node` of `a` and `b`, `a`, `b`, and the size of the resulting group.\n",
      "   140                                           \n",
      "   141                                               Can be used with `merge_groups_in_node()` and `prune_tree()` to merge the two smallest\n",
      "   142                                               groups in the tree.\n",
      "   143                                           \n",
      "   144                                               `parent` represents a tree over the hierarchy of the attribute.\n",
      "   145                                               Children can either be lists (nodes), sets (leafs, groups), or None\n",
      "   146                                               (placeholders, common values, shouldn't be merged).\n",
      "   147                                               \"\"\"\n",
      "   148       918        423.0      0.5      0.0      s_node = []\n",
      "   149       918        383.0      0.4      0.0      s_a = ()\n",
      "   150       918        335.0      0.4      0.0      s_b = ()\n",
      "   151       918        341.0      0.4      0.0      s_size = -1\n",
      "   152                                           \n",
      "   153                                               # First do a recursive pass\n",
      "   154    108324      42908.0      0.4      4.3      for child in parent:\n",
      "   155    107406      56561.0      0.5      5.7          if isinstance(child, list):\n",
      "   156       459        213.0      0.5      0.0              node, a, b, size = find_smallest_group(counts, child)\n",
      "   157       459        210.0      0.5      0.0              if s_size == -1 or size < s_size:\n",
      "   158       459        205.0      0.4      0.0                  s_node = node\n",
      "   159       459        183.0      0.4      0.0                  s_a = a\n",
      "   160       459        177.0      0.4      0.0                  s_b = b\n",
      "   161       459        207.0      0.5      0.0                  s_size = size\n",
      "   162                                           \n",
      "   163                                               # Secondly, consider children\n",
      "   164       918        488.0      0.5      0.0      if isinstance(parent, OrdNode):\n",
      "   165                                                   # For ordinal nodes we only check nearby nodes\n",
      "   166    106029      44068.0      0.4      4.4          for i in range(len(parent) - 1):\n",
      "   167    105570      50768.0      0.5      5.1              a = parent[i]\n",
      "   168    105570      50923.0      0.5      5.1              if not isinstance(a, set):\n",
      "   169                                                           continue\n",
      "   170    105570      51633.0      0.5      5.2              b = parent[i + 1]\n",
      "   171    105570      49158.0      0.5      4.9              if not isinstance(b, set):\n",
      "   172                                                           continue\n",
      "   173                                           \n",
      "   174    105570     562745.0      5.3     56.6              size = get_group_size(counts, a.union(b))\n",
      "   175    105570      74398.0      0.7      7.5              if s_size == -1 or size < s_size:\n",
      "   176      2473       1010.0      0.4      0.1                  s_node = parent\n",
      "   177      2473        928.0      0.4      0.1                  s_a = a\n",
      "   178      2473        933.0      0.4      0.1                  s_b = b\n",
      "   179      2473       1192.0      0.5      0.1                  s_size = size\n",
      "   180                                               else:\n",
      "   181                                                   # For categorical nodes we check all pairs\n",
      "   182      1836       1189.0      0.6      0.1          for i, j in combinations(range(len(parent)), 2):\n",
      "   183      1377        660.0      0.5      0.1              a = parent[i]\n",
      "   184      1377        685.0      0.5      0.1              if not isinstance(a, set):\n",
      "   185      1377        569.0      0.4      0.1                  continue\n",
      "   186                                                       b = parent[j]\n",
      "   187                                                       if not isinstance(b, set):\n",
      "   188                                                           continue\n",
      "   189                                           \n",
      "   190                                                       size = get_group_size(counts, a.union(b))\n",
      "   191                                                       if s_size == -1 or size < s_size:\n",
      "   192                                                           s_node = parent\n",
      "   193                                                           s_a = a\n",
      "   194                                                           s_b = b\n",
      "   195                                                           s_size = size\n",
      "   196                                           \n",
      "   197       918        450.0      0.5      0.0      return s_node, s_a, s_b, s_size"
     ]
    }
   ],
   "source": [
    "%lprun -f find_smallest_group rebalance_value(table[target], val)"
   ]
  },
  {
   "cell_type": "code",
   "execution_count": null,
   "metadata": {},
   "outputs": [],
   "source": []
  }
 ],
 "metadata": {
  "language_info": {
   "codemirror_mode": {
    "name": "ipython",
    "version": 3
   },
   "file_extension": ".py",
   "mimetype": "text/x-python",
   "name": "python",
   "nbconvert_exporter": "python",
   "pygments_lexer": "ipython3",
   "version": "3.10.8"
  },
  "vscode": {
   "interpreter": {
    "hash": "50661068d2d5c6ff1ce24ae701dfa73cc4ae117a223c3f7199e1fdb4656c8912"
   }
  }
 },
 "nbformat": 4,
 "nbformat_minor": 2
}
