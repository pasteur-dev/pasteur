{
 "cells": [
  {
   "cell_type": "code",
   "execution_count": null,
   "metadata": {},
   "outputs": [
    {
     "name": "stdout",
     "output_type": "stream",
     "text": [
      "\u001b[0m\u001b[34mINFO    \u001b[0m Kedro project Pasteur                                                                                           \u001b[2m__init__.py\u001b[0m\u001b[2m:\u001b[0m\u001b[2m77\u001b[0m\n",
      "\u001b[0m\u001b[34mINFO    \u001b[0m Defined global variable \u001b[32m'context'\u001b[0m, \u001b[32m'session'\u001b[0m, \u001b[32m'catalog'\u001b[0m and \u001b[32m'pipelines'\u001b[0m                                         \u001b[2m__init__.py\u001b[0m\u001b[2m:\u001b[0m\u001b[2m78\u001b[0m\n",
      "\u001b[0m\u001b[31mWARNING \u001b[0m \u001b[35m/mnt/ext/projects/pasteur/venv/lib/python3.10/site-packages/plotly/graph_objects/\u001b[0m\u001b[95m__init__.py\u001b[0m:\u001b[1;36m288\u001b[0m:              \u001b[2mwarnings.py\u001b[0m\u001b[2m:\u001b[0m\u001b[2m109\u001b[0m\n",
      "\u001b[0m         DeprecationWarning: distutils Version classes are deprecated. Use packaging.version instead.                   \u001b[2m               \u001b[0m\n",
      "\u001b[0m           if \u001b[1;35mLooseVersion\u001b[0m\u001b[1m(\u001b[0mipywidgets.__version__\u001b[1m)\u001b[0m >= \u001b[1;35mLooseVersion\u001b[0m\u001b[1m(\u001b[0m\u001b[32m\"7.0.0\"\u001b[0m\u001b[1m)\u001b[0m:                                            \u001b[2m               \u001b[0m\n",
      "\u001b[0m                                                                                                                        \u001b[2m               \u001b[0m\n",
      "\u001b[0m\u001b[34mINFO    \u001b[0m Registered line magic \u001b[32m'run_viz'\u001b[0m                                                                                 \u001b[2m__init__.py\u001b[0m\u001b[2m:\u001b[0m\u001b[2m84\u001b[0m\n"
     ]
    }
   ],
   "source": [
    "from pasteur.kedro.ipython import * # type: ignore\n",
    "register_kedro() # type: ignore"
   ]
  },
  {
   "cell_type": "code",
   "execution_count": null,
   "metadata": {},
   "outputs": [
    {
     "name": "stdout",
     "output_type": "stream",
     "text": [
      "\u001b[0m\u001b[31mWARNING \u001b[0m \u001b[35m/mnt/ext/projects/pasteur/venv/lib/python3.10/site-packages/IPython/extensions/\u001b[0m\u001b[95mautoreload.py\u001b[0m:\u001b[1;36m121\u001b[0m:              \u001b[2mwarnings.py\u001b[0m\u001b[2m:\u001b[0m\u001b[2m109\u001b[0m\n",
      "\u001b[0m         DeprecationWarning: the imp module is deprecated in favour of importlib and slated for removal in Python \u001b[1;36m3.12\u001b[0m; \u001b[2m               \u001b[0m\n",
      "\u001b[0m         see the module's documentation for alternative uses                                                            \u001b[2m               \u001b[0m\n",
      "\u001b[0m           from imp import reload                                                                                       \u001b[2m               \u001b[0m\n",
      "\u001b[0m                                                                                                                        \u001b[2m               \u001b[0m\n"
     ]
    }
   ],
   "source": [
    "%load_ext autoreload\n",
    "%autoreload 2"
   ]
  },
  {
   "cell_type": "code",
   "execution_count": null,
   "metadata": {},
   "outputs": [
    {
     "name": "stdout",
     "output_type": "stream",
     "text": [
      "\u001b[1;36m9251363\u001b[0m\n"
     ]
    }
   ],
   "source": [
    "view = \"texas_charges\"\n",
    "\n",
    "# LIM = 100000\n",
    "enc = catalog.load(f'{view}.wrk.idx_table').sample()#[:LIM]\n",
    "trn = catalog.load(f'{view}.trn.table')\n",
    "attrs = trn['idx'].get_attributes()\n",
    "len(enc)"
   ]
  },
  {
   "cell_type": "code",
   "execution_count": null,
   "metadata": {},
   "outputs": [
    {
     "name": "stdout",
     "output_type": "stream",
     "text": [
      "\u001b[1;35mdict_keys\u001b[0m\u001b[1m(\u001b[0m\u001b[1m[\u001b[0m\u001b[32m'revenue_code'\u001b[0m, \u001b[32m'hcpcs_qualifier'\u001b[0m, \u001b[32m'hcpcs_procedure_code'\u001b[0m, \u001b[32m'modifier_1'\u001b[0m, \u001b[32m'modifier_2'\u001b[0m, \u001b[32m'modifier_3'\u001b[0m, \u001b[32m'modifier_4'\u001b[0m, \u001b[32m'unit_measurement_code'\u001b[0m, \u001b[32m'units_of_service'\u001b[0m, \u001b[32m'unit_rate'\u001b[0m, \u001b[32m'chrgs_line_item'\u001b[0m, \u001b[32m'chrgs_non_cov'\u001b[0m\u001b[1m]\u001b[0m\u001b[1m)\u001b[0m\n"
     ]
    }
   ],
   "source": [
    "from pasteur.extras.synth.math import expand_table, calc_marginal, AttrSelector, AttrSelectors, get_dtype\n",
    "\n",
    "cols, cols_noncommon, domains = expand_table(attrs, enc)\n",
    "domains.keys()"
   ]
  },
  {
   "cell_type": "code",
   "execution_count": null,
   "metadata": {},
   "outputs": [],
   "source": [
    "tst = ['unit_measurement_code', 'unit_measurement_code', 'unit_measurement_code', 'unit_measurement_code','unit_measurement_code','unit_measurement_code']\n",
    "# tst = ['unit_measurement_code', 'unit_measurement_code', 'unit_measurement_code']"
   ]
  },
  {
   "cell_type": "code",
   "execution_count": null,
   "metadata": {},
   "outputs": [
    {
     "name": "stdout",
     "output_type": "stream",
     "text": [
      "90.3 ms ± 10.3 ms per loop (mean ± std. dev. of 7 runs, 10 loops each)\n"
     ]
    }
   ],
   "source": [
    "x = AttrSelector(tst[0], 0, {tst[0]: 0})\n",
    "p = {str(i): AttrSelector(col, 0, {col: 0}) for i, col in enumerate(tst[1:])}\n",
    "\n",
    "%timeit calc_marginal(cols, cols_noncommon, domains, x, p)"
   ]
  },
  {
   "cell_type": "code",
   "execution_count": null,
   "metadata": {},
   "outputs": [
    {
     "name": "stdout",
     "output_type": "stream",
     "text": [
      "682 ms ± 2.08 ms per loop (mean ± std. dev. of 7 runs, 1 loop each)\n"
     ]
    }
   ],
   "source": [
    "import numpy as np\n",
    "\n",
    "%timeit np.histogramdd(enc[tst].to_numpy(), [domains[col][0] for col in tst])"
   ]
  },
  {
   "cell_type": "code",
   "execution_count": null,
   "metadata": {},
   "outputs": [],
   "source": [
    "%load_ext line_profiler"
   ]
  },
  {
   "cell_type": "code",
   "execution_count": null,
   "metadata": {},
   "outputs": [
    {
     "name": "stdout",
     "output_type": "stream",
     "text": [
      "77.1 ms ± 157 µs per loop (mean ± std. dev. of 7 runs, 10 loops each)\n"
     ]
    }
   ],
   "source": [
    "\n",
    "def calc_marginal2(\n",
    "    cols: dict[str, list[np.ndarray]],\n",
    "    cols_noncommon: dict[str, list[np.ndarray]],\n",
    "    domains: dict[str, list[int]],\n",
    "    x: AttrSelector,\n",
    "    p: AttrSelectors,\n",
    "    partial: bool = False,\n",
    "    zero_fill: float | None = None,\n",
    "):\n",
    "    \"\"\"Calculates the 1 way and 2 way marginals between the subsection of the\n",
    "    hierarchical attribute x and the attributes p(arents).\"\"\"\n",
    "\n",
    "    # Find integer dtype based on domain\n",
    "    p_dom = 1\n",
    "    for attr in p.values():\n",
    "        common = attr.common\n",
    "        l_dom = 1\n",
    "        for i, (n, h) in enumerate(attr.cols.items()):\n",
    "            l_dom *= domains[n][h] - common\n",
    "        p_dom *= l_dom + common\n",
    "    x_dom = 1\n",
    "    for i, (n, h) in enumerate(x.cols.items()):\n",
    "        x_dom *= domains[n][h] - x.common\n",
    "    x_dom += x.common\n",
    "\n",
    "    dtype = get_dtype(p_dom * x_dom)\n",
    "\n",
    "    n = len(next(iter(cols.values()))[0])\n",
    "    _sum_nd = np.zeros((n,), dtype=dtype)\n",
    "    _tmp_nd = np.zeros((n,), dtype=dtype)\n",
    "\n",
    "    # Handle parents\n",
    "    mul = 1\n",
    "    for attr_name, attr in p.items():\n",
    "        common = attr.common\n",
    "        l_mul = 1\n",
    "        p_partial = partial and attr_name == x.name\n",
    "        for i, (n, h) in enumerate(attr.cols.items()):\n",
    "            if common == 0 or i == 0:\n",
    "                np.multiply(cols[n][h], mul * l_mul, out=_tmp_nd, dtype=dtype)\n",
    "            else:\n",
    "                np.multiply(cols_noncommon[n][h], mul * l_mul, out=_tmp_nd, dtype=dtype)\n",
    "\n",
    "            np.add(_sum_nd, _tmp_nd, out=_sum_nd, dtype=dtype)\n",
    "            l_mul *= domains[n][h] - common\n",
    "\n",
    "        if p_partial:\n",
    "            mul *= l_mul\n",
    "        else:\n",
    "            mul *= l_mul + common\n",
    "\n",
    "    # Handle x\n",
    "    common = x.common\n",
    "    for i, (n, h) in enumerate(x.cols.items()):\n",
    "        if common == 0 or (i == 0 and not partial):\n",
    "            np.multiply(cols[n][h], mul, out=_tmp_nd, dtype=dtype)\n",
    "        else:\n",
    "            np.multiply(cols_noncommon[n][h], mul, out=_tmp_nd, dtype=dtype)\n",
    "\n",
    "        np.add(_sum_nd, _tmp_nd, out=_sum_nd, dtype=dtype)\n",
    "        mul *= domains[n][h] - common\n",
    "\n",
    "    # Keep only non-common items if there is a parent to source the others\n",
    "    if partial:\n",
    "        n = next(iter(x.cols))\n",
    "        _sum_nd = _sum_nd[cols[n][0] >= common]\n",
    "        x_dom = x_dom - x.common\n",
    "\n",
    "    return np.bincount(_sum_nd, minlength=p_dom * x_dom)#.reshape(x_dom, p_dom)\n",
    "    # return np.zeros()\n",
    "\n",
    "    # j_mar = margin\n",
    "    # x_mar = np.sum(margin, axis=1)\n",
    "    # p_mar = np.sum(margin, axis=0)\n",
    "\n",
    "    # return j_mar, x_mar, p_mar\n",
    "\n",
    "%timeit calc_marginal2(cols, cols_noncommon, domains, x, p)\n",
    "# %lprun -f calc_marginal2 calc_marginal2(cols, cols_noncommon, domains, x, p)\n",
    "b = calc_marginal2(cols, cols_noncommon, domains, x, p)"
   ]
  },
  {
   "cell_type": "code",
   "execution_count": null,
   "metadata": {},
   "outputs": [],
   "source": [
    "# import jax.numpy as jnp\n",
    "# from jax import grad, jit, vmap, default_device, devices\n",
    "# from jax import random, ops\n",
    "# from typing import NamedTuple\n",
    "# import jax.lax as lax\n",
    "\n",
    "\n",
    "# class JaxSelector(NamedTuple):\n",
    "#     common: int\n",
    "#     cols: list[tuple[int, jnp.ndarray]]\n",
    "\n",
    "\n",
    "# JaxSelectors = list[JaxSelector]\n",
    "\n",
    "\n",
    "# def collapse_marginal(x: JaxSelector, P: JaxSelectors):\n",
    "#     # Handle parents\n",
    "#     sum_arr = None\n",
    "#     mul = 1\n",
    "#     for p in P:\n",
    "#         common = p.common\n",
    "#         l_mul = 1\n",
    "#         for dom, col in p.cols:\n",
    "#             tmp_arr = col * (mul * l_mul)\n",
    "#             if sum_arr is None:\n",
    "#                 sum_arr = tmp_arr\n",
    "#             else:\n",
    "#                 sum_arr += tmp_arr\n",
    "#             l_mul *= dom - common\n",
    "\n",
    "#     # Handle x\n",
    "#     assert sum_arr is not None\n",
    "#     common = x.common\n",
    "#     for dom, col in x.cols:\n",
    "#         sum_arr += dom * mul\n",
    "#         mul *= dom - common\n",
    "\n",
    "#     return sum_arr"
   ]
  },
  {
   "cell_type": "code",
   "execution_count": null,
   "metadata": {},
   "outputs": [],
   "source": [
    "# def count(sum_arr, length: int):\n",
    "#     # return jnp.bincount(sum_arr, length=length)\n",
    "#     # return lax.broadcast(jnp.uint32(0), [length]).at[sum_arr].add(jnp.uint8(1))\n",
    "#     def f(carry, x):\n",
    "#         return carry, x\n",
    "    \n",
    "#     return lax.scan(f, lax.broadcast(jnp.uint16(0), [length]), sum_arr)\n",
    "#     # op = lax.broadcast(jnp.uint16(0), [length])\n",
    "#     # sc = lax.expand_dims(sum_arr, [1])\n",
    "#     # up = lax.broadcast(jnp.uint16(1), [sc.shape[0]])\n",
    "#     # return lax.scatter_add(op, sc, up, lax.ScatterDimensionNumbers(tuple(), (0,), (0,)), mode=\"promise_in_bounds\")\n",
    "\n",
    "# def fun():\n",
    "#     x = JaxSelector(0, [(domains[tst[0]][0], jnp.array(cols[tst[0]][0]))])\n",
    "#     P = []\n",
    "#     for col in tst[1:]:\n",
    "#         P.append(JaxSelector(0, [(domains[col][0], jnp.array(cols[col][0]))]))\n",
    "    \n",
    "#     p_dom = 1\n",
    "#     for p in P:\n",
    "#         common = p.common\n",
    "#         l_dom = 1\n",
    "#         for dom, _ in p.cols:\n",
    "#             l_dom *= dom - common\n",
    "#         p_dom *= l_dom + common\n",
    "#     x_dom = 1\n",
    "#     for dom, _ in x.cols:\n",
    "#         x_dom *= dom - x.common\n",
    "#     x_dom += x.common\n",
    "#     length = p_dom * x_dom\n",
    "#     print(length)\n",
    "\n",
    "#     try:\n",
    "#         cmp = jit(collapse_marginal).lower(x, P)\n",
    "#         # print(cmp.as_text())\n",
    "#         cmp = cmp.compile()\n",
    "#         # print(cmp.as_text())\n",
    "\n",
    "#         print(jit(count, static_argnums=1).lower(cmp(x, P), length).as_text())\n",
    "#         print(count(cmp(x, P), length)[:10])\n",
    "#     except Exception as e:\n",
    "#         print(e)\n",
    "#         return\n",
    "\n",
    "#     TIMES = 10\n",
    "#     def xn():\n",
    "#         out = count(cmp(x, P), length)\n",
    "\n",
    "#         for i in range(TIMES-1):\n",
    "#             out += count(cmp(x, P), length)\n",
    "        \n",
    "#         out.block_until_ready()\n",
    "\n",
    "#     # %timeit xn()\n",
    "#     %timeit count(cmp(x, P), length).block_until_ready()\n",
    "#     %timeit xn()\n",
    "\n",
    "\n",
    "# for cuda in (False,): #True):\n",
    "#     d = devices('cuda' if cuda else 'cpu')[0]\n",
    "#     with default_device(d):\n",
    "#         fun()\n"
   ]
  },
  {
   "cell_type": "code",
   "execution_count": null,
   "metadata": {},
   "outputs": [
    {
     "name": "stdout",
     "output_type": "stream",
     "text": [
      "18.4 ms ± 26.3 µs per loop (mean ± std. dev. of 7 runs, 100 loops each)\n"
     ]
    }
   ],
   "source": [
    "Op = tuple[int, np.ndarray]\n",
    "\n",
    "from pasteur.marginal.native import marginal\n",
    "\n",
    "def calc_marginal_native(\n",
    "    cols: dict[str, list[np.ndarray]],\n",
    "    cols_noncommon: dict[str, list[np.ndarray]],\n",
    "    domains: dict[str, list[int]],\n",
    "    x: AttrSelector,\n",
    "    p: AttrSelectors,\n",
    "    partial: bool = False,\n",
    "    zero_fill: float | None = None,\n",
    "    out: np.ndarray | None = None\n",
    "):\n",
    "    \"\"\"Calculates the 1 way and 2 way marginals between the subsection of the\n",
    "    hierarchical attribute x and the attributes p(arents).\"\"\"\n",
    "\n",
    "    # Keep only non-common items if there is a parent to source the others\n",
    "    # if partial:\n",
    "    #     n = next(iter(x.cols))\n",
    "    #     mask = cols[n][0] >= x.common\n",
    "    #     x_dom = x_dom - x.common\n",
    "\n",
    "\n",
    "    # Handle parents\n",
    "    ops: list[Op] = []\n",
    "    mul = 1\n",
    "    for attr_name, attr in p.items():\n",
    "        common = attr.common\n",
    "        l_mul = 1\n",
    "        p_partial = partial and attr_name == x.name\n",
    "        for i, (n, h) in enumerate(attr.cols.items()):\n",
    "            if common == 0 or i == 0:\n",
    "                ops.append((mul*l_mul, cols[n][h]))\n",
    "            else:\n",
    "                ops.append((mul*l_mul, cols_noncommon[n][h]))\n",
    "\n",
    "            l_mul *= domains[n][h] - common\n",
    "\n",
    "        if p_partial:\n",
    "            mul *= l_mul\n",
    "        else:\n",
    "            mul *= l_mul + common\n",
    "    p_dom = mul\n",
    "\n",
    "    # Handle x\n",
    "    common = x.common\n",
    "    l_mul = 1\n",
    "    for i, (n, h) in enumerate(x.cols.items()):\n",
    "        if common == 0 or (i == 0 and not partial):\n",
    "            ops.append((mul*l_mul, cols[n][h]))\n",
    "        else:\n",
    "            ops.append((mul*l_mul, cols_noncommon[n][h]))\n",
    "\n",
    "        l_mul *= domains[n][h] - common\n",
    "    \n",
    "    if not partial:\n",
    "        l_mul += common\n",
    "    x_dom = l_mul\n",
    "    dom = mul * l_mul\n",
    "\n",
    "    if out is None:\n",
    "        out = np.zeros((dom, ), dtype=np.uint32)\n",
    "    else:\n",
    "        out = out.reshape((-1,))\n",
    "\n",
    "    marginal(dom, out, ops)\n",
    "\n",
    "    return out.reshape((x_dom, p_dom))\n",
    "\n",
    "%timeit calc_marginal_native(cols, cols_noncommon, domains, x, p)\n",
    "# %lprun -f calc_marginal2 calc_marginal2(cols, cols_noncommon, domains, x, p)\n",
    "a = calc_marginal_native(cols, cols_noncommon, domains, x, p)"
   ]
  },
  {
   "cell_type": "code",
   "execution_count": null,
   "metadata": {},
   "outputs": [
    {
     "name": "stdout",
     "output_type": "stream",
     "text": [
      "\u001b[1;36m6\u001b[0m\n"
     ]
    }
   ],
   "source": [
    "len(a)"
   ]
  },
  {
   "cell_type": "code",
   "execution_count": null,
   "metadata": {},
   "outputs": [
    {
     "name": "stdout",
     "output_type": "stream",
     "text": [
      "\u001b[1;36m46656\u001b[0m\n"
     ]
    }
   ],
   "source": [
    "len(b)"
   ]
  },
  {
   "cell_type": "code",
   "execution_count": null,
   "metadata": {},
   "outputs": [
    {
     "name": "stdout",
     "output_type": "stream",
     "text": [
      "\u001b[1;35marray\u001b[0m\u001b[1m(\u001b[0m\u001b[1m[\u001b[0m\u001b[1;36m8532670\u001b[0m\u001b[1m]\u001b[0m\u001b[1m)\u001b[0m\n"
     ]
    }
   ],
   "source": [
    "b[a.reshape(-1) != b]"
   ]
  },
  {
   "cell_type": "code",
   "execution_count": null,
   "metadata": {},
   "outputs": [
    {
     "name": "stdout",
     "output_type": "stream",
     "text": [
      "\u001b[1;35marray\u001b[0m\u001b[1m(\u001b[0m\u001b[1m[\u001b[0m\u001b[1;36m8532667\u001b[0m\u001b[1m]\u001b[0m, \u001b[33mdtype\u001b[0m=\u001b[35muint32\u001b[0m\u001b[1m)\u001b[0m\n"
     ]
    }
   ],
   "source": [
    "a.reshape(-1)[a.reshape(-1) != b]"
   ]
  },
  {
   "cell_type": "code",
   "execution_count": null,
   "metadata": {},
   "outputs": [
    {
     "name": "stdout",
     "output_type": "stream",
     "text": [
      "\u001b[1;35marray\u001b[0m\u001b[1m(\u001b[0m\u001b[1m[\u001b[0m    \u001b[1;36m210\u001b[0m,  \u001b[1;36m718467\u001b[0m,       \u001b[1;36m4\u001b[0m,      \u001b[1;36m12\u001b[0m, \u001b[1;36m8532667\u001b[0m\u001b[1m]\u001b[0m, \u001b[33mdtype\u001b[0m=\u001b[35muint32\u001b[0m\u001b[1m)\u001b[0m\n"
     ]
    }
   ],
   "source": [
    "a[a != 0]"
   ]
  },
  {
   "cell_type": "code",
   "execution_count": null,
   "metadata": {},
   "outputs": [
    {
     "name": "stdout",
     "output_type": "stream",
     "text": [
      "\u001b[1;35marray\u001b[0m\u001b[1m(\u001b[0m\u001b[1m[\u001b[0m    \u001b[1;36m210\u001b[0m,  \u001b[1;36m718467\u001b[0m,       \u001b[1;36m4\u001b[0m,      \u001b[1;36m12\u001b[0m, \u001b[1;36m8532670\u001b[0m\u001b[1m]\u001b[0m\u001b[1m)\u001b[0m\n"
     ]
    }
   ],
   "source": [
    "b[b != 0]"
   ]
  },
  {
   "cell_type": "code",
   "execution_count": null,
   "metadata": {},
   "outputs": [],
   "source": []
  }
 ],
 "metadata": {
  "language_info": {
   "codemirror_mode": {
    "name": "ipython",
    "version": 3
   },
   "file_extension": ".py",
   "mimetype": "text/x-python",
   "name": "python",
   "nbconvert_exporter": "python",
   "pygments_lexer": "ipython3",
   "version": "3.10.6"
  },
  "vscode": {
   "interpreter": {
    "hash": "50661068d2d5c6ff1ce24ae701dfa73cc4ae117a223c3f7199e1fdb4656c8912"
   }
  }
 },
 "nbformat": 4,
 "nbformat_minor": 2
}
