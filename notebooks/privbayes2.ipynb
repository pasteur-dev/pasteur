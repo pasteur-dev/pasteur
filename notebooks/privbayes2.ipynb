{
 "cells": [
  {
   "cell_type": "code",
   "execution_count": null,
   "metadata": {},
   "outputs": [],
   "source": [
    "from pasteur.kedro.ipython import *\n",
    "\n",
    "register_kedro()"
   ]
  },
  {
   "cell_type": "code",
   "execution_count": null,
   "metadata": {},
   "outputs": [],
   "source": [
    "%load_ext autoreload\n",
    "%autoreload 2\n",
    "%load_ext line_profiler"
   ]
  },
  {
   "cell_type": "code",
   "execution_count": null,
   "metadata": {},
   "outputs": [],
   "source": [
    "import pandas as pd\n",
    "import numpy as np\n"
   ]
  },
  {
   "cell_type": "code",
   "execution_count": null,
   "metadata": {},
   "outputs": [],
   "source": [
    "from pasteur.metadata import Metadata\n",
    "from pasteur.transform import TableTransformer, Attributes, get_dtype\n",
    "\n",
    "view = \"mimic_tab_admissions\"\n",
    "trn: TableTransformer = catalog.load(f\"{view}.trn.table\")\n",
    "table: pd.DataFrame = catalog.load(f\"{view}.wrk.idx_table\")\n"
   ]
  },
  {
   "cell_type": "code",
   "execution_count": null,
   "metadata": {},
   "outputs": [],
   "source": [
    "# sensitive\n",
    "table.head()\n"
   ]
  },
  {
   "cell_type": "code",
   "execution_count": null,
   "metadata": {},
   "outputs": [],
   "source": [
    "attrs = trn[\"idx\"].get_attributes()\n"
   ]
  },
  {
   "cell_type": "code",
   "execution_count": null,
   "metadata": {},
   "outputs": [],
   "source": [
    "# from pasteur.synth.math import expand_table, calc_marginal, calc_marginal_1way, AttrSelector, AttrSelectors\n",
    "# cols, cols_noncommon, domains = expand_table(attrs, table)\n",
    "from functools import reduce\n"
   ]
  },
  {
   "cell_type": "code",
   "execution_count": null,
   "metadata": {},
   "outputs": [],
   "source": [
    "from typing import Callable\n",
    "\n",
    "col_idx = {}\n",
    "groups = []\n",
    "heights = []\n",
    "common = []\n",
    "domains = []\n",
    "for i, a in enumerate(attrs.values()):\n",
    "    for n, c in a.cols.items():\n",
    "        col_idx[n] = i\n",
    "        groups.append(i)\n",
    "        heights.append(c.lvl.height)\n",
    "        common.append(a.common)\n",
    "        domains.append([c.get_domain(h) for h in range(c.height)])\n",
    "\n",
    "n = len(col_idx)\n",
    "empty_pset = tuple(-1 for _ in range(n))\n",
    "\n",
    "\n",
    "def add_to_pset(s, x, h):\n",
    "    s = list(s)\n",
    "    s[x] = h\n",
    "    return tuple(s)\n"
   ]
  },
  {
   "cell_type": "code",
   "execution_count": null,
   "metadata": {},
   "outputs": [],
   "source": [
    "def maximal_parents(V: tuple[int], tau: float, _pgroups=set()) -> list[tuple[int]]:\n",
    "    if tau < 1:\n",
    "        return []\n",
    "    if not V:\n",
    "        return [empty_pset]\n",
    "    x = V[0]\n",
    "    V = V[1:]\n",
    "\n",
    "    S = []\n",
    "    U = set()\n",
    "\n",
    "    for h in range(heights[x]):\n",
    "        dom = domains[x][h]\n",
    "        g = groups[x]\n",
    "        if g in _pgroups:\n",
    "            dom -= common[x]\n",
    "            _pgroups_with_x = _pgroups\n",
    "        else:\n",
    "            _pgroups_with_x = _pgroups.copy()\n",
    "            _pgroups_with_x.add(g)\n",
    "\n",
    "        for z in maximal_parents(V, tau / dom, _pgroups_with_x):\n",
    "            if z not in U:\n",
    "                U.add(z)\n",
    "                S.append(add_to_pset(z, x, h))\n",
    "\n",
    "    for z in maximal_parents(V, tau, _pgroups):\n",
    "        if z not in U:\n",
    "            S.append(z)\n",
    "\n",
    "    return S\n"
   ]
  },
  {
   "cell_type": "code",
   "execution_count": null,
   "metadata": {},
   "outputs": [
    {
     "name": "stdout",
     "output_type": "stream",
     "text": [
      "\u001b[1;36m400866\u001b[0m\n"
     ]
    }
   ],
   "source": [
    "psets = maximal_parents(tuple(range(n)), 100000000)\n",
    "len(psets)\n"
   ]
  },
  {
   "cell_type": "code",
   "execution_count": null,
   "metadata": {},
   "outputs": [
    {
     "name": "stdout",
     "output_type": "stream",
     "text": [
      "1.11 s ± 7.88 ms per loop (mean ± std. dev. of 7 runs, 1 loop each)\n"
     ]
    }
   ],
   "source": [
    "%timeit maximal_parents(tuple(range(n)), 10000)"
   ]
  },
  {
   "cell_type": "code",
   "execution_count": null,
   "metadata": {},
   "outputs": [
    {
     "name": "stdout",
     "output_type": "stream",
     "text": [
      "Timer unit: 1e-06 s\n",
      "\n",
      "Total time: 8.71678 s\n",
      "File: /tmp/ipykernel_2390497/3433675883.py\n",
      "Function: maximal_parents at line 1\n",
      "\n",
      "Line #      Hits         Time  Per Hit   % Time  Line Contents\n",
      "==============================================================\n",
      "     1                                           def maximal_parents(V: tuple[int], tau: float, _pgroups=set()) -> list[tuple[int]]:\n",
      "     2   1246985     552431.0      0.4      6.3      if tau < 1:\n",
      "     3    307524     119424.0      0.4      1.4          return []\n",
      "     4    939461     366322.0      0.4      4.2      if not V:\n",
      "     5    324176     133626.0      0.4      1.5          return [empty_pset]\n",
      "     6    615285     259700.0      0.4      3.0      x = V[0]\n",
      "     7    615285     289405.0      0.5      3.3      V = V[1:]\n",
      "     8                                           \n",
      "     9    615285     238856.0      0.4      2.7      S = []\n",
      "    10    615285     275013.0      0.4      3.2      U = set()\n",
      "    11                                           \n",
      "    12   1246984     624042.0      0.5      7.2      for h in range(heights[x]):\n",
      "    13    631699     287790.0      0.5      3.3          dom = domains[x][h]\n",
      "    14    631699     257139.0      0.4      2.9          g = groups[x]\n",
      "    15    631699     269553.0      0.4      3.1          if g in _pgroups:\n",
      "    16     20802       9309.0      0.4      0.1              dom -= common[x]\n",
      "    17     20802       8144.0      0.4      0.1              _pgroups_with_x = _pgroups\n",
      "    18                                                   else:\n",
      "    19    610897     333398.0      0.5      3.8              _pgroups_with_x = _pgroups.copy()\n",
      "    20    610897     301376.0      0.5      3.5              _pgroups_with_x.add(g)\n",
      "    21                                           \n",
      "    22   1241513     607384.0      0.5      7.0          for z in maximal_parents(V, tau / dom, _pgroups_with_x):\n",
      "    23    609814     330583.0      0.5      3.8              if z not in U:\n",
      "    24    609623     368069.0      0.6      4.2                  U.add(z)\n",
      "    25    609623     788260.0      1.3      9.0                  S.append(add_to_pset(z, x, h))\n",
      "    26                                           \n",
      "    27   1942176     816128.0      0.4      9.4      for z in maximal_parents(V, tau, _pgroups):\n",
      "    28   1326891     737737.0      0.6      8.5          if z not in U:\n",
      "    29   1009808     512383.0      0.5      5.9              S.append(z)\n",
      "    30                                           \n",
      "    31    615285     230711.0      0.4      2.6      return S"
     ]
    }
   ],
   "source": [
    "%lprun -f maximal_parents maximal_parents(tuple(range(n)), 10000)"
   ]
  },
  {
   "cell_type": "code",
   "execution_count": null,
   "metadata": {},
   "outputs": [],
   "source": [
    "from pasteur.synth.privbayes import greedy_bayes, PrivBayesSynth"
   ]
  },
  {
   "cell_type": "code",
   "execution_count": null,
   "metadata": {},
   "outputs": [
    {
     "name": "stdout",
     "output_type": "stream",
     "text": [
      "\u001b[0m\u001b[31mWARNING \u001b[0m Considering \u001b[33me2\u001b[0m=\u001b[1;36m10000\u001b[0m unbounded, t will be bound to \u001b[1;35mmin\u001b[0m\u001b[1m(\u001b[0mn/\u001b[1;36m10\u001b[0m, \u001b[1;36m1e+05\u001b[0m\u001b[1m)\u001b[0m=\u001b[1;36m41947.20\u001b[0m for computational reasons.       \u001b[2mprivbayes.py\u001b[0m\u001b[2m:\u001b[0m\u001b[2m328\u001b[0m\n",
      ">>>>>>>  Finding Nodes: 100%|\u001b[34m##########################################################################\u001b[0m| 23/23 [00:00<00:00,  1.00it/s]\u001b[0m\n",
      "\u001b[0m\u001b[34mINFO    \u001b[0m Bayesian Network Tree:                                                                                        \u001b[2mprivbayes.py\u001b[0m\u001b[2m:\u001b[0m\u001b[2m559\u001b[0m\n",
      "\u001b[0m         \u001b[1m(\u001b[0mPrivBayes \u001b[33me1\u001b[0m=\u001b[1;36m0\u001b[0m\u001b[1;36m.30\u001b[0m, \u001b[33me2\u001b[0m=\u001b[1;36m10000\u001b[0m\u001b[1;36m.00\u001b[0m, \u001b[33mtheta\u001b[0m=\u001b[1;36m4\u001b[0m\u001b[1;36m.00\u001b[0m, available \u001b[33mt\u001b[0m=\u001b[1;36m41947\u001b[0m\u001b[1;36m.20\u001b[0m\u001b[1m)\u001b[0m                                            \u001b[2m                \u001b[0m\n",
      "\u001b[0m         ┌─────────────────────┬─────┬──────────┬─────────────────────────────────────────────────────────┐            \u001b[2m                \u001b[0m\n",
      "\u001b[0m         │           Attribute │ Dom │ Avail. t │ Parents                                                 │            \u001b[2m                \u001b[0m\n",
      "\u001b[0m         ├─────────────────────┼─────┼──────────┼─────────────────────────────────────────────────────────┤            \u001b[2m                \u001b[0m\n",
      "\u001b[0m         │      admittime_year │ \u001b[1;36m128\u001b[0m │   \u001b[1;36m327.71\u001b[0m │                                                         │            \u001b[2m                \u001b[0m\n",
      "\u001b[0m         │           insurance │   \u001b[1;36m3\u001b[0m │ \u001b[1;36m13982.40\u001b[0m │ admittime.0___                                          │            \u001b[2m                \u001b[0m\n",
      "\u001b[0m         │      marital_status │   \u001b[1;36m5\u001b[0m │  \u001b[1;36m8389.44\u001b[0m │ admittime.0___ insurance.\u001b[1;36m0\u001b[0m                              │            \u001b[2m                \u001b[0m\n",
      "\u001b[0m         │      admission_type │   \u001b[1;36m9\u001b[0m │  \u001b[1;36m4660.80\u001b[0m │ admittime.0___ insurance.\u001b[1;36m0\u001b[0m marital_status.\u001b[1;36m0\u001b[0m             │            \u001b[2m                \u001b[0m\n",
      "\u001b[0m         │  admission_location │  \u001b[1;36m12\u001b[0m │  \u001b[1;36m3495.60\u001b[0m │ admission_type.\u001b[1;36m0\u001b[0m insurance.\u001b[1;36m0\u001b[0m marital_status.\u001b[1;36m0\u001b[0m           │            \u001b[2m                \u001b[0m\n",
      "\u001b[0m         │  discharge_location │  \u001b[1;36m14\u001b[0m │  \u001b[1;36m2996.23\u001b[0m │ admission_type.\u001b[1;36m0\u001b[0m admission_location.\u001b[1;36m0\u001b[0m insurance.\u001b[1;36m0\u001b[0m       │            \u001b[2m                \u001b[0m\n",
      "\u001b[0m         │                     │     │          │ > marital_status.\u001b[1;36m0\u001b[0m                                      │            \u001b[2m                \u001b[0m\n",
      "\u001b[0m         │      dischtime_time │  \u001b[1;36m48\u001b[0m │   \u001b[1;36m873.90\u001b[0m │ discharge_location.\u001b[1;36m0\u001b[0m insurance.\u001b[1;36m0\u001b[0m marital_status.\u001b[1;36m0\u001b[0m       │            \u001b[2m                \u001b[0m\n",
      "\u001b[0m         │      admittime_time │  \u001b[1;36m48\u001b[0m │   \u001b[1;36m873.90\u001b[0m │ discharge_location.\u001b[1;36m0\u001b[0m insurance.\u001b[1;36m0\u001b[0m marital_status.\u001b[1;36m0\u001b[0m       │            \u001b[2m                \u001b[0m\n",
      "\u001b[0m         │      admittime_week │  \u001b[1;36m52\u001b[0m │   \u001b[1;36m806.68\u001b[0m │ discharge_location.\u001b[1;36m0\u001b[0m insurance.\u001b[1;36m0\u001b[0m marital_status.\u001b[1;36m0\u001b[0m       │            \u001b[2m                \u001b[0m\n",
      "\u001b[0m         │      dischtime_week │  \u001b[1;36m52\u001b[0m │   \u001b[1;36m806.68\u001b[0m │ admittime._0__ admission_type.\u001b[1;36m0\u001b[0m                         │            \u001b[2m                \u001b[0m\n",
      "\u001b[0m         │       dischtime_day │   \u001b[1;36m7\u001b[0m │  \u001b[1;36m5992.46\u001b[0m │ admittime._0__ dischtime._0__                           │            \u001b[2m                \u001b[0m\n",
      "\u001b[0m         │       admittime_day │   \u001b[1;36m7\u001b[0m │  \u001b[1;36m5992.46\u001b[0m │ dischtime.__0_ admission_type.\u001b[1;36m0\u001b[0m discharge_location.\u001b[1;36m0\u001b[0m    │            \u001b[2m                \u001b[0m\n",
      "\u001b[0m         │                     │     │          │ > marital_status.\u001b[1;36m0\u001b[0m                                      │            \u001b[2m                \u001b[0m\n",
      "\u001b[0m         │           ethnicity │   \u001b[1;36m8\u001b[0m │  \u001b[1;36m5243.40\u001b[0m │ admission_type.\u001b[1;36m0\u001b[0m admission_location.\u001b[1;36m0\u001b[0m insurance.\u001b[1;36m0\u001b[0m       │            \u001b[2m                \u001b[0m\n",
      "\u001b[0m         │                     │     │          │ > marital_status.\u001b[1;36m0\u001b[0m                                      │            \u001b[2m                \u001b[0m\n",
      "\u001b[0m         │              gender │   \u001b[1;36m2\u001b[0m │ \u001b[1;36m20973.60\u001b[0m │ admittime.___0 admission_type.\u001b[1;36m0\u001b[0m marital_status.\u001b[1;36m0\u001b[0m        │            \u001b[2m                \u001b[0m\n",
      "\u001b[0m         │                     │     │          │ > ethnicity.\u001b[1;36m0\u001b[0m                                           │            \u001b[2m                \u001b[0m\n",
      "\u001b[0m         │            language │   \u001b[1;36m2\u001b[0m │ \u001b[1;36m20973.60\u001b[0m │ admittime._0__ admission_type.\u001b[1;36m0\u001b[0m marital_status.\u001b[1;36m0\u001b[0m        │            \u001b[2m                \u001b[0m\n",
      "\u001b[0m         │                     │     │          │ > ethnicity.\u001b[1;36m0\u001b[0m                                           │            \u001b[2m                \u001b[0m\n",
      "\u001b[0m         │            dod_year │ \u001b[1;36m129\u001b[0m │   \u001b[1;36m325.17\u001b[0m │ admittime.0___ language.\u001b[1;36m0\u001b[0m                               │            \u001b[2m                \u001b[0m\n",
      "\u001b[0m         │            dod_week │  \u001b[1;36m53\u001b[0m │   \u001b[1;36m791.46\u001b[0m │ dod.1__ dischtime.__0_ admission_type.\u001b[1;36m0\u001b[0m language.\u001b[1;36m0\u001b[0m      │            \u001b[2m                \u001b[0m\n",
      "\u001b[0m         │                     │     │          │ > gender.\u001b[1;36m0\u001b[0m                                              │            \u001b[2m                \u001b[0m\n",
      "\u001b[0m         │             dod_day │   \u001b[1;36m8\u001b[0m │  \u001b[1;36m5243.40\u001b[0m │ dod.11_ admittime._00_ insurance.\u001b[1;36m0\u001b[0m language.\u001b[1;36m0\u001b[0m           │            \u001b[2m                \u001b[0m\n",
      "\u001b[0m         │hospital_expire_flag │   \u001b[1;36m2\u001b[0m │ \u001b[1;36m20973.60\u001b[0m │ dod.\u001b[1;36m110\u001b[0m admittime._00_ insurance.\u001b[1;36m0\u001b[0m language.\u001b[1;36m0\u001b[0m           │            \u001b[2m                \u001b[0m\n",
      "\u001b[0m         │      deathtime_week │  \u001b[1;36m53\u001b[0m │   \u001b[1;36m791.46\u001b[0m │ dod.\u001b[1;36m111\u001b[0m admission_location.\u001b[1;36m0\u001b[0m insurance.\u001b[1;36m0\u001b[0m language.\u001b[1;36m0\u001b[0m     │            \u001b[2m                \u001b[0m\n",
      "\u001b[0m         │                     │     │          │ > hospital_expire_flag.\u001b[1;36m0\u001b[0m gender.\u001b[1;36m0\u001b[0m                       │            \u001b[2m                \u001b[0m\n",
      "\u001b[0m         │       deathtime_day │   \u001b[1;36m8\u001b[0m │  \u001b[1;36m5243.40\u001b[0m │ dod.\u001b[1;36m110\u001b[0m admittime.__0_ deathtime._1__                   │            \u001b[2m                \u001b[0m\n",
      "\u001b[0m         │                     │     │          │ > discharge_location.\u001b[1;36m0\u001b[0m insurance.\u001b[1;36m0\u001b[0m                      │            \u001b[2m                \u001b[0m\n",
      "\u001b[0m         │      deathtime_year │ \u001b[1;36m129\u001b[0m │   \u001b[1;36m325.17\u001b[0m │ dod.\u001b[1;36m110\u001b[0m deathtime._11_ admission_type.\u001b[1;36m0\u001b[0m language.\u001b[1;36m0\u001b[0m      │            \u001b[2m                \u001b[0m\n",
      "\u001b[0m         │      deathtime_time │  \u001b[1;36m49\u001b[0m │   \u001b[1;36m856.07\u001b[0m │ dod.\u001b[1;36m111\u001b[0m admittime.__0_ insurance.\u001b[1;36m0\u001b[0m ethnicity.\u001b[1;36m0\u001b[0m          │            \u001b[2m                \u001b[0m\n",
      "\u001b[0m         │                     │     │          │ > hospital_expire_flag.\u001b[1;36m0\u001b[0m                                │            \u001b[2m                \u001b[0m\n",
      "\u001b[0m         │      dischtime_year │ \u001b[1;36m128\u001b[0m │   \u001b[1;36m327.71\u001b[0m │ dod.\u001b[1;36m110\u001b[0m deathtime.\u001b[1;36m1111\u001b[0m                                  │            \u001b[2m                \u001b[0m\n",
      "\u001b[0m         └─────────────────────┴─────┴──────────┴─────────────────────────────────────────────────────────┘            \u001b[2m                \u001b[0m\n"
     ]
    }
   ],
   "source": [
    "s = PrivBayesSynth(e2=10000)\n",
    "s.bake(attrs={\"table\": attrs}, data={\"table\": table}, ids=None)"
   ]
  },
  {
   "cell_type": "code",
   "execution_count": null,
   "metadata": {},
   "outputs": [
    {
     "name": "stdout",
     "output_type": "stream",
     "text": [
      "\u001b[0m\u001b[31mWARNING \u001b[0m Considering \u001b[33me2\u001b[0m=\u001b[1;36m10000\u001b[0m unbounded, sampling without DP.                                                          \u001b[2mprivbayes.py\u001b[0m\u001b[2m:\u001b[0m\u001b[2m571\u001b[0m\n"
     ]
    }
   ],
   "source": [
    "s.fit(data={\"table\": table}, ids=None)"
   ]
  },
  {
   "cell_type": "code",
   "execution_count": null,
   "metadata": {},
   "outputs": [
    {
     "name": "stdout",
     "output_type": "stream",
     "text": [
      "admittime_year (128, 1) 128\n",
      "insurance (3, 128) 384\n",
      "marital_status (5, 384) 1920\n",
      "admission_type (9, 1920) 17280\n",
      "admission_location (12, 135) 1620\n",
      "discharge_location (14, 1620) 22680\n",
      "dischtime_time (48, 210) 10080\n",
      "admittime_time (48, 210) 10080\n",
      "admittime_week (52, 210) 10920\n",
      "dischtime_week (52, 468) 24336\n",
      "dischtime_day (7, 2704) 18928\n",
      "admittime_day (7, 4410) 30870\n",
      "ethnicity (8, 1620) 12960\n",
      "gender (2, 17280) 34560\n",
      "language (2, 18720) 37440\n",
      "dod_year (129, 256) 33024\n",
      "dod_week (53, 504) 26712\n",
      "dod_day (8, 4368) 34944\n",
      "hospital_expire_flag (2, 30576) 61152\n",
      "deathtime_week (53, 576) 30528\n",
      "deathtime_day (8, 8232) 65856\n",
      "deathtime_year (129, 504) 65016\n",
      "deathtime_time (49, 672) 32928\n",
      "dischtime_year (128, 672) 86016\n"
     ]
    }
   ],
   "source": [
    "node_names = [n.col for n in s.nodes]\n",
    "for c, m in zip(node_names, s.marginals):\n",
    "    print(c, m.shape, m.shape[0]*m.shape[1])"
   ]
  },
  {
   "cell_type": "code",
   "execution_count": null,
   "metadata": {},
   "outputs": [
    {
     "data": {
      "text/html": [
       "<pre style=\"white-space:pre;overflow-x:auto;line-height:normal;font-family:Menlo,'DejaVu Sans Mono',consolas,'Courier New',monospace\"><span style=\"color: #800000; text-decoration-color: #800000\">╭─────────────────────────────── </span><span style=\"color: #800000; text-decoration-color: #800000; font-weight: bold\">Traceback </span><span style=\"color: #bf7f7f; text-decoration-color: #bf7f7f; font-weight: bold\">(most recent call last)</span><span style=\"color: #800000; text-decoration-color: #800000\"> ────────────────────────────────╮</span>\n",
       "<span style=\"color: #800000; text-decoration-color: #800000\">│</span> <span style=\"color: #bfbf7f; text-decoration-color: #bfbf7f\">/tmp/ipykernel_2390497/</span><span style=\"color: #808000; text-decoration-color: #808000; font-weight: bold\">1899138632.py</span>:<span style=\"color: #0000ff; text-decoration-color: #0000ff\">1</span> in <span style=\"color: #00ff00; text-decoration-color: #00ff00\">&lt;cell line: 1&gt;</span>                                         <span style=\"color: #800000; text-decoration-color: #800000\">│</span>\n",
       "<span style=\"color: #800000; text-decoration-color: #800000\">│</span>                                                                                                  <span style=\"color: #800000; text-decoration-color: #800000\">│</span>\n",
       "<span style=\"color: #800000; text-decoration-color: #800000\">│</span> <span style=\"color: #800000; text-decoration-color: #800000; font-style: italic\">[Errno 2] No such file or directory: '/tmp/ipykernel_2390497/1899138632.py'</span>                      <span style=\"color: #800000; text-decoration-color: #800000\">│</span>\n",
       "<span style=\"color: #800000; text-decoration-color: #800000\">│</span>                                                                                                  <span style=\"color: #800000; text-decoration-color: #800000\">│</span>\n",
       "<span style=\"color: #800000; text-decoration-color: #800000\">│</span> <span style=\"color: #bfbf7f; text-decoration-color: #bfbf7f\">/mnt/ext/projects/pasteur/src/pasteur/synth/</span><span style=\"color: #808000; text-decoration-color: #808000; font-weight: bold\">base.py</span>:<span style=\"color: #0000ff; text-decoration-color: #0000ff\">26</span> in <span style=\"color: #00ff00; text-decoration-color: #00ff00\">wrapped</span>                                <span style=\"color: #800000; text-decoration-color: #800000\">│</span>\n",
       "<span style=\"color: #800000; text-decoration-color: #800000\">│</span>                                                                                                  <span style=\"color: #800000; text-decoration-color: #800000\">│</span>\n",
       "<span style=\"color: #800000; text-decoration-color: #800000\">│</span>   <span style=\"color: #7f7f7f; text-decoration-color: #7f7f7f\"> 23 │   │   │   </span>np.random.seed(<span style=\"color: #00ffff; text-decoration-color: #00ffff\">self</span>.seed)                                                      <span style=\"color: #800000; text-decoration-color: #800000\">│</span>\n",
       "<span style=\"color: #800000; text-decoration-color: #800000\">│</span>   <span style=\"color: #7f7f7f; text-decoration-color: #7f7f7f\"> 24 │   │   │   </span>random.seed(<span style=\"color: #00ffff; text-decoration-color: #00ffff\">self</span>.seed)                                                         <span style=\"color: #800000; text-decoration-color: #800000\">│</span>\n",
       "<span style=\"color: #800000; text-decoration-color: #800000\">│</span>   <span style=\"color: #7f7f7f; text-decoration-color: #7f7f7f\"> 25 │   │   </span>                                                                                   <span style=\"color: #800000; text-decoration-color: #800000\">│</span>\n",
       "<span style=\"color: #800000; text-decoration-color: #800000\">│</span> <span style=\"color: #800000; text-decoration-color: #800000\">❱ </span> 26 <span style=\"color: #7f7f7f; text-decoration-color: #7f7f7f\">│   │   </span>a = obj_func(<span style=\"color: #00ffff; text-decoration-color: #00ffff\">self</span>, *args, **kwargs)                                                <span style=\"color: #800000; text-decoration-color: #800000\">│</span>\n",
       "<span style=\"color: #800000; text-decoration-color: #800000\">│</span>   <span style=\"color: #7f7f7f; text-decoration-color: #7f7f7f\"> 27 │   │   </span>                                                                                   <span style=\"color: #800000; text-decoration-color: #800000\">│</span>\n",
       "<span style=\"color: #800000; text-decoration-color: #800000\">│</span>   <span style=\"color: #7f7f7f; text-decoration-color: #7f7f7f\"> 28 │   │   </span><span style=\"color: #0000ff; text-decoration-color: #0000ff\">if</span> <span style=\"color: #00ffff; text-decoration-color: #00ffff\">self</span>.seed <span style=\"color: #ff00ff; text-decoration-color: #ff00ff\">is</span> <span style=\"color: #ff00ff; text-decoration-color: #ff00ff\">not</span> <span style=\"color: #0000ff; text-decoration-color: #0000ff\">None</span>:                                                          <span style=\"color: #800000; text-decoration-color: #800000\">│</span>\n",
       "<span style=\"color: #800000; text-decoration-color: #800000\">│</span>   <span style=\"color: #7f7f7f; text-decoration-color: #7f7f7f\"> 29 │   │   │   </span>logger.info(                                                                   <span style=\"color: #800000; text-decoration-color: #800000\">│</span>\n",
       "<span style=\"color: #800000; text-decoration-color: #800000\">│</span>                                                                                                  <span style=\"color: #800000; text-decoration-color: #800000\">│</span>\n",
       "<span style=\"color: #800000; text-decoration-color: #800000\">│</span> <span style=\"color: #bfbf7f; text-decoration-color: #bfbf7f\">/mnt/ext/projects/pasteur/src/pasteur/synth/</span><span style=\"color: #808000; text-decoration-color: #808000; font-weight: bold\">privbayes.py</span>:<span style=\"color: #0000ff; text-decoration-color: #0000ff\">580</span> in <span style=\"color: #00ff00; text-decoration-color: #00ff00\">sample</span>                           <span style=\"color: #800000; text-decoration-color: #800000\">│</span>\n",
       "<span style=\"color: #800000; text-decoration-color: #800000\">│</span>                                                                                                  <span style=\"color: #800000; text-decoration-color: #800000\">│</span>\n",
       "<span style=\"color: #800000; text-decoration-color: #800000\">│</span>   <span style=\"color: #7f7f7f; text-decoration-color: #7f7f7f\">577 │   │   </span><span style=\"color: #00ffff; text-decoration-color: #00ffff\">self</span>, n: <span style=\"color: #00ffff; text-decoration-color: #00ffff\">int</span> = <span style=\"color: #0000ff; text-decoration-color: #0000ff\">None</span>                                                                <span style=\"color: #800000; text-decoration-color: #800000\">│</span>\n",
       "<span style=\"color: #800000; text-decoration-color: #800000\">│</span>   <span style=\"color: #7f7f7f; text-decoration-color: #7f7f7f\">578 │   </span>) -&gt; <span style=\"color: #00ffff; text-decoration-color: #00ffff\">tuple</span>[<span style=\"color: #00ffff; text-decoration-color: #00ffff\">dict</span>[<span style=\"color: #00ffff; text-decoration-color: #00ffff\">str</span>, pd.DataFrame], <span style=\"color: #00ffff; text-decoration-color: #00ffff\">dict</span>[<span style=\"color: #00ffff; text-decoration-color: #00ffff\">str</span>, pd.DataFrame]]:                          <span style=\"color: #800000; text-decoration-color: #800000\">│</span>\n",
       "<span style=\"color: #800000; text-decoration-color: #800000\">│</span>   <span style=\"color: #7f7f7f; text-decoration-color: #7f7f7f\">579 │   │   </span>data = {                                                                           <span style=\"color: #800000; text-decoration-color: #800000\">│</span>\n",
       "<span style=\"color: #800000; text-decoration-color: #800000\">│</span> <span style=\"color: #800000; text-decoration-color: #800000\">❱ </span>580 <span style=\"color: #7f7f7f; text-decoration-color: #7f7f7f\">│   │   │   </span><span style=\"color: #00ffff; text-decoration-color: #00ffff\">self</span>.table_name: sample_rows(                                                  <span style=\"color: #800000; text-decoration-color: #800000\">│</span>\n",
       "<span style=\"color: #800000; text-decoration-color: #800000\">│</span>   <span style=\"color: #7f7f7f; text-decoration-color: #7f7f7f\">581 │   │   │   │   </span><span style=\"color: #00ffff; text-decoration-color: #00ffff\">self</span>.nodes, <span style=\"color: #00ffff; text-decoration-color: #00ffff\">self</span>.marginals, <span style=\"color: #00ffff; text-decoration-color: #00ffff\">self</span>.n <span style=\"color: #0000ff; text-decoration-color: #0000ff\">if</span> n <span style=\"color: #ff00ff; text-decoration-color: #ff00ff\">is</span> <span style=\"color: #0000ff; text-decoration-color: #0000ff\">None</span> <span style=\"color: #0000ff; text-decoration-color: #0000ff\">else</span> n                     <span style=\"color: #800000; text-decoration-color: #800000\">│</span>\n",
       "<span style=\"color: #800000; text-decoration-color: #800000\">│</span>   <span style=\"color: #7f7f7f; text-decoration-color: #7f7f7f\">582 │   │   │   </span>)                                                                              <span style=\"color: #800000; text-decoration-color: #800000\">│</span>\n",
       "<span style=\"color: #800000; text-decoration-color: #800000\">│</span>   <span style=\"color: #7f7f7f; text-decoration-color: #7f7f7f\">583 │   │   </span>}                                                                                  <span style=\"color: #800000; text-decoration-color: #800000\">│</span>\n",
       "<span style=\"color: #800000; text-decoration-color: #800000\">│</span>                                                                                                  <span style=\"color: #800000; text-decoration-color: #800000\">│</span>\n",
       "<span style=\"color: #800000; text-decoration-color: #800000\">│</span> <span style=\"color: #bfbf7f; text-decoration-color: #bfbf7f\">/mnt/ext/projects/pasteur/src/pasteur/synth/</span><span style=\"color: #808000; text-decoration-color: #808000; font-weight: bold\">privbayes.py</span>:<span style=\"color: #0000ff; text-decoration-color: #0000ff\">458</span> in <span style=\"color: #00ff00; text-decoration-color: #00ff00\">sample_rows</span>                      <span style=\"color: #800000; text-decoration-color: #800000\">│</span>\n",
       "<span style=\"color: #800000; text-decoration-color: #800000\">│</span>                                                                                                  <span style=\"color: #800000; text-decoration-color: #800000\">│</span>\n",
       "<span style=\"color: #800000; text-decoration-color: #800000\">│</span>   <span style=\"color: #7f7f7f; text-decoration-color: #7f7f7f\">455 │   </span>dtype = <span style=\"color: #808000; text-decoration-color: #808000\">\"uint32\"</span>                                                                       <span style=\"color: #800000; text-decoration-color: #800000\">│</span>\n",
       "<span style=\"color: #800000; text-decoration-color: #800000\">│</span>   <span style=\"color: #7f7f7f; text-decoration-color: #7f7f7f\">456 │   </span>out = pd.DataFrame(dtype=dtype)                                                        <span style=\"color: #800000; text-decoration-color: #800000\">│</span>\n",
       "<span style=\"color: #800000; text-decoration-color: #800000\">│</span>   <span style=\"color: #7f7f7f; text-decoration-color: #7f7f7f\">457 │   </span>                                                                                       <span style=\"color: #800000; text-decoration-color: #800000\">│</span>\n",
       "<span style=\"color: #800000; text-decoration-color: #800000\">│</span> <span style=\"color: #800000; text-decoration-color: #800000\">❱ </span>458 <span style=\"color: #7f7f7f; text-decoration-color: #7f7f7f\">│   </span><span style=\"color: #0000ff; text-decoration-color: #0000ff\">for</span> (x, p), marginal <span style=\"color: #ff00ff; text-decoration-color: #ff00ff\">in</span> <span style=\"color: #00ffff; text-decoration-color: #00ffff\">zip</span>(nodes, marginals):                                         <span style=\"color: #800000; text-decoration-color: #800000\">│</span>\n",
       "<span style=\"color: #800000; text-decoration-color: #800000\">│</span>   <span style=\"color: #7f7f7f; text-decoration-color: #7f7f7f\">459 │   │   </span>x_cols = x.cols[: <span style=\"color: #00ffff; text-decoration-color: #00ffff\">len</span>(x.cols) - x.h]                                               <span style=\"color: #800000; text-decoration-color: #800000\">│</span>\n",
       "<span style=\"color: #800000; text-decoration-color: #800000\">│</span>   <span style=\"color: #7f7f7f; text-decoration-color: #7f7f7f\">460 │   │   </span>p_cols = <span style=\"color: #00ffff; text-decoration-color: #00ffff\">list</span>(chain.from_iterable(a.cols[: <span style=\"color: #00ffff; text-decoration-color: #00ffff\">len</span>(a.cols) - a.h] <span style=\"color: #0000ff; text-decoration-color: #0000ff\">for</span> a <span style=\"color: #ff00ff; text-decoration-color: #ff00ff\">in</span> p))         <span style=\"color: #800000; text-decoration-color: #800000\">│</span>\n",
       "<span style=\"color: #800000; text-decoration-color: #800000\">│</span>   <span style=\"color: #7f7f7f; text-decoration-color: #7f7f7f\">461 </span>                                                                                           <span style=\"color: #800000; text-decoration-color: #800000\">│</span>\n",
       "<span style=\"color: #800000; text-decoration-color: #800000\">╰──────────────────────────────────────────────────────────────────────────────────────────────────╯</span>\n",
       "<span style=\"color: #ff0000; text-decoration-color: #ff0000; font-weight: bold\">ValueError: </span>too many values to unpack <span style=\"font-weight: bold\">(</span>expected <span style=\"color: #008080; text-decoration-color: #008080; font-weight: bold\">2</span><span style=\"font-weight: bold\">)</span>\n",
       "</pre>\n"
      ],
      "text/plain": [
       "\u001b[31m╭─\u001b[0m\u001b[31m────────────────────────────── \u001b[0m\u001b[1;31mTraceback \u001b[0m\u001b[1;2;31m(most recent call last)\u001b[0m\u001b[31m ───────────────────────────────\u001b[0m\u001b[31m─╮\u001b[0m\n",
       "\u001b[31m│\u001b[0m \u001b[2;33m/tmp/ipykernel_2390497/\u001b[0m\u001b[1;33m1899138632.py\u001b[0m:\u001b[94m1\u001b[0m in \u001b[92m<cell line: 1>\u001b[0m                                         \u001b[31m│\u001b[0m\n",
       "\u001b[31m│\u001b[0m                                                                                                  \u001b[31m│\u001b[0m\n",
       "\u001b[31m│\u001b[0m \u001b[3;31m[Errno 2] No such file or directory: '/tmp/ipykernel_2390497/1899138632.py'\u001b[0m                      \u001b[31m│\u001b[0m\n",
       "\u001b[31m│\u001b[0m                                                                                                  \u001b[31m│\u001b[0m\n",
       "\u001b[31m│\u001b[0m \u001b[2;33m/mnt/ext/projects/pasteur/src/pasteur/synth/\u001b[0m\u001b[1;33mbase.py\u001b[0m:\u001b[94m26\u001b[0m in \u001b[92mwrapped\u001b[0m                                \u001b[31m│\u001b[0m\n",
       "\u001b[31m│\u001b[0m                                                                                                  \u001b[31m│\u001b[0m\n",
       "\u001b[31m│\u001b[0m   \u001b[2m 23 \u001b[0m\u001b[2m│   │   │   \u001b[0mnp.random.seed(\u001b[96mself\u001b[0m.seed)                                                      \u001b[31m│\u001b[0m\n",
       "\u001b[31m│\u001b[0m   \u001b[2m 24 \u001b[0m\u001b[2m│   │   │   \u001b[0mrandom.seed(\u001b[96mself\u001b[0m.seed)                                                         \u001b[31m│\u001b[0m\n",
       "\u001b[31m│\u001b[0m   \u001b[2m 25 \u001b[0m\u001b[2m│   │   \u001b[0m                                                                                   \u001b[31m│\u001b[0m\n",
       "\u001b[31m│\u001b[0m \u001b[31m❱ \u001b[0m 26 \u001b[2m│   │   \u001b[0ma = obj_func(\u001b[96mself\u001b[0m, *args, **kwargs)                                                \u001b[31m│\u001b[0m\n",
       "\u001b[31m│\u001b[0m   \u001b[2m 27 \u001b[0m\u001b[2m│   │   \u001b[0m                                                                                   \u001b[31m│\u001b[0m\n",
       "\u001b[31m│\u001b[0m   \u001b[2m 28 \u001b[0m\u001b[2m│   │   \u001b[0m\u001b[94mif\u001b[0m \u001b[96mself\u001b[0m.seed \u001b[95mis\u001b[0m \u001b[95mnot\u001b[0m \u001b[94mNone\u001b[0m:                                                          \u001b[31m│\u001b[0m\n",
       "\u001b[31m│\u001b[0m   \u001b[2m 29 \u001b[0m\u001b[2m│   │   │   \u001b[0mlogger.info(                                                                   \u001b[31m│\u001b[0m\n",
       "\u001b[31m│\u001b[0m                                                                                                  \u001b[31m│\u001b[0m\n",
       "\u001b[31m│\u001b[0m \u001b[2;33m/mnt/ext/projects/pasteur/src/pasteur/synth/\u001b[0m\u001b[1;33mprivbayes.py\u001b[0m:\u001b[94m580\u001b[0m in \u001b[92msample\u001b[0m                           \u001b[31m│\u001b[0m\n",
       "\u001b[31m│\u001b[0m                                                                                                  \u001b[31m│\u001b[0m\n",
       "\u001b[31m│\u001b[0m   \u001b[2m577 \u001b[0m\u001b[2m│   │   \u001b[0m\u001b[96mself\u001b[0m, n: \u001b[96mint\u001b[0m = \u001b[94mNone\u001b[0m                                                                \u001b[31m│\u001b[0m\n",
       "\u001b[31m│\u001b[0m   \u001b[2m578 \u001b[0m\u001b[2m│   \u001b[0m) -> \u001b[96mtuple\u001b[0m[\u001b[96mdict\u001b[0m[\u001b[96mstr\u001b[0m, pd.DataFrame], \u001b[96mdict\u001b[0m[\u001b[96mstr\u001b[0m, pd.DataFrame]]:                          \u001b[31m│\u001b[0m\n",
       "\u001b[31m│\u001b[0m   \u001b[2m579 \u001b[0m\u001b[2m│   │   \u001b[0mdata = {                                                                           \u001b[31m│\u001b[0m\n",
       "\u001b[31m│\u001b[0m \u001b[31m❱ \u001b[0m580 \u001b[2m│   │   │   \u001b[0m\u001b[96mself\u001b[0m.table_name: sample_rows(                                                  \u001b[31m│\u001b[0m\n",
       "\u001b[31m│\u001b[0m   \u001b[2m581 \u001b[0m\u001b[2m│   │   │   │   \u001b[0m\u001b[96mself\u001b[0m.nodes, \u001b[96mself\u001b[0m.marginals, \u001b[96mself\u001b[0m.n \u001b[94mif\u001b[0m n \u001b[95mis\u001b[0m \u001b[94mNone\u001b[0m \u001b[94melse\u001b[0m n                     \u001b[31m│\u001b[0m\n",
       "\u001b[31m│\u001b[0m   \u001b[2m582 \u001b[0m\u001b[2m│   │   │   \u001b[0m)                                                                              \u001b[31m│\u001b[0m\n",
       "\u001b[31m│\u001b[0m   \u001b[2m583 \u001b[0m\u001b[2m│   │   \u001b[0m}                                                                                  \u001b[31m│\u001b[0m\n",
       "\u001b[31m│\u001b[0m                                                                                                  \u001b[31m│\u001b[0m\n",
       "\u001b[31m│\u001b[0m \u001b[2;33m/mnt/ext/projects/pasteur/src/pasteur/synth/\u001b[0m\u001b[1;33mprivbayes.py\u001b[0m:\u001b[94m458\u001b[0m in \u001b[92msample_rows\u001b[0m                      \u001b[31m│\u001b[0m\n",
       "\u001b[31m│\u001b[0m                                                                                                  \u001b[31m│\u001b[0m\n",
       "\u001b[31m│\u001b[0m   \u001b[2m455 \u001b[0m\u001b[2m│   \u001b[0mdtype = \u001b[33m\"\u001b[0m\u001b[33muint32\u001b[0m\u001b[33m\"\u001b[0m                                                                       \u001b[31m│\u001b[0m\n",
       "\u001b[31m│\u001b[0m   \u001b[2m456 \u001b[0m\u001b[2m│   \u001b[0mout = pd.DataFrame(dtype=dtype)                                                        \u001b[31m│\u001b[0m\n",
       "\u001b[31m│\u001b[0m   \u001b[2m457 \u001b[0m\u001b[2m│   \u001b[0m                                                                                       \u001b[31m│\u001b[0m\n",
       "\u001b[31m│\u001b[0m \u001b[31m❱ \u001b[0m458 \u001b[2m│   \u001b[0m\u001b[94mfor\u001b[0m (x, p), marginal \u001b[95min\u001b[0m \u001b[96mzip\u001b[0m(nodes, marginals):                                         \u001b[31m│\u001b[0m\n",
       "\u001b[31m│\u001b[0m   \u001b[2m459 \u001b[0m\u001b[2m│   │   \u001b[0mx_cols = x.cols[: \u001b[96mlen\u001b[0m(x.cols) - x.h]                                               \u001b[31m│\u001b[0m\n",
       "\u001b[31m│\u001b[0m   \u001b[2m460 \u001b[0m\u001b[2m│   │   \u001b[0mp_cols = \u001b[96mlist\u001b[0m(chain.from_iterable(a.cols[: \u001b[96mlen\u001b[0m(a.cols) - a.h] \u001b[94mfor\u001b[0m a \u001b[95min\u001b[0m p))         \u001b[31m│\u001b[0m\n",
       "\u001b[31m│\u001b[0m   \u001b[2m461 \u001b[0m                                                                                           \u001b[31m│\u001b[0m\n",
       "\u001b[31m╰──────────────────────────────────────────────────────────────────────────────────────────────────╯\u001b[0m\n",
       "\u001b[1;91mValueError: \u001b[0mtoo many values to unpack \u001b[1m(\u001b[0mexpected \u001b[1;36m2\u001b[0m\u001b[1m)\u001b[0m\n"
      ]
     },
     "metadata": {},
     "output_type": "display_data"
    }
   ],
   "source": [
    "s.sample()"
   ]
  },
  {
   "cell_type": "code",
   "execution_count": null,
   "metadata": {},
   "outputs": [
    {
     "name": "stdout",
     "output_type": "stream",
     "text": [
      "\u001b[1;36m5\u001b[0m\n"
     ]
    }
   ],
   "source": [
    "attrs[\"marital_status\"].cols[\"marital_status\"].lvl.size"
   ]
  },
  {
   "cell_type": "code",
   "execution_count": null,
   "metadata": {},
   "outputs": [],
   "source": []
  }
 ],
 "metadata": {
  "language_info": {
   "codemirror_mode": {
    "name": "ipython",
    "version": 3
   },
   "file_extension": ".py",
   "mimetype": "text/x-python",
   "name": "python",
   "nbconvert_exporter": "python",
   "pygments_lexer": "ipython3",
   "version": "3.10.6"
  },
  "vscode": {
   "interpreter": {
    "hash": "50661068d2d5c6ff1ce24ae701dfa73cc4ae117a223c3f7199e1fdb4656c8912"
   }
  }
 },
 "nbformat": 4,
 "nbformat_minor": 2
}
