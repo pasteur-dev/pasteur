{
 "cells": [
  {
   "cell_type": "code",
   "execution_count": null,
   "metadata": {},
   "outputs": [],
   "source": [
    "from pasteur.kedro.ipython import *\n",
    "\n",
    "register_kedro()\n"
   ]
  },
  {
   "cell_type": "code",
   "execution_count": null,
   "metadata": {},
   "outputs": [
    {
     "name": "stdout",
     "output_type": "stream",
     "text": [
      "The autoreload extension is already loaded. To reload it, use:\n",
      "  %reload_ext autoreload\n",
      "The line_profiler extension is already loaded. To reload it, use:\n",
      "  %reload_ext line_profiler\n"
     ]
    }
   ],
   "source": [
    "%load_ext autoreload\n",
    "%autoreload 2\n",
    "%load_ext line_profiler"
   ]
  },
  {
   "cell_type": "code",
   "execution_count": null,
   "metadata": {},
   "outputs": [],
   "source": [
    "import pandas as pd\n",
    "import numpy as np\n"
   ]
  },
  {
   "cell_type": "code",
   "execution_count": null,
   "metadata": {},
   "outputs": [],
   "source": [
    "from pasteur.metadata import Metadata\n",
    "from pasteur.transform import TableTransformer, Attributes, get_dtype\n",
    "\n",
    "view = \"mimic_tab_admissions\"\n",
    "trn: TableTransformer = catalog.load(f\"{view}.trn.table\")\n",
    "table: pd.DataFrame = catalog.load(f\"{view}.wrk.idx_table\")\n"
   ]
  },
  {
   "cell_type": "code",
   "execution_count": null,
   "metadata": {},
   "outputs": [],
   "source": [
    "# sensitive\n",
    "table.head()\n"
   ]
  },
  {
   "cell_type": "code",
   "execution_count": null,
   "metadata": {},
   "outputs": [],
   "source": [
    "attrs = trn[\"idx\"].get_attributes()\n"
   ]
  },
  {
   "cell_type": "code",
   "execution_count": null,
   "metadata": {},
   "outputs": [],
   "source": [
    "# from pasteur.synth.math import expand_table, calc_marginal, calc_marginal_1way, AttrSelector, AttrSelectors\n",
    "# cols, cols_noncommon, domains = expand_table(attrs, table)\n",
    "from functools import reduce\n"
   ]
  },
  {
   "cell_type": "code",
   "execution_count": null,
   "metadata": {},
   "outputs": [],
   "source": [
    "from typing import Callable\n",
    "\n",
    "col_idx = {}\n",
    "groups = []\n",
    "heights = []\n",
    "common = []\n",
    "domains = []\n",
    "for i, a in enumerate(attrs.values()):\n",
    "    for n, c in a.cols.items():\n",
    "        col_idx[n] = i\n",
    "        groups.append(i)\n",
    "        heights.append(c.lvl.height)\n",
    "        common.append(a.common)\n",
    "        domains.append([c.get_domain(h) for h in range(c.height)])\n",
    "\n",
    "n = len(col_idx)\n",
    "empty_pset = tuple(-1 for _ in range(n))\n",
    "\n",
    "\n",
    "def add_to_pset(s, x, h):\n",
    "    s = list(s)\n",
    "    s[x] = h\n",
    "    return tuple(s)\n"
   ]
  },
  {
   "cell_type": "code",
   "execution_count": null,
   "metadata": {},
   "outputs": [],
   "source": [
    "def maximal_parents(V: tuple[int], tau: float, _pgroups=set()) -> list[tuple[int]]:\n",
    "    if not V or tau < 1:\n",
    "        return [empty_pset]\n",
    "    x = V[0]\n",
    "    V = V[1:]\n",
    "\n",
    "    S = []\n",
    "    U = set()\n",
    "\n",
    "    for h in range(heights[x]):\n",
    "        dom = domains[x][h]\n",
    "        g = groups[x]\n",
    "        if g in _pgroups:\n",
    "            dom -= common[x]\n",
    "            _pgroups_with_x = _pgroups\n",
    "        else:\n",
    "            _pgroups_with_x = _pgroups.copy()\n",
    "            _pgroups_with_x.add(g)\n",
    "\n",
    "        for z in maximal_parents(V, tau / dom, _pgroups_with_x):\n",
    "            if z not in U:\n",
    "                U.add(z)\n",
    "                S.append(add_to_pset(z, x, h))\n",
    "\n",
    "    for z in maximal_parents(V, tau, _pgroups):\n",
    "        if z not in U:\n",
    "            S.append(z)\n",
    "\n",
    "    return S\n"
   ]
  },
  {
   "cell_type": "code",
   "execution_count": null,
   "metadata": {},
   "outputs": [
    {
     "name": "stdout",
     "output_type": "stream",
     "text": [
      "\u001b[1;36m3626\u001b[0m\n"
     ]
    }
   ],
   "source": [
    "psets = maximal_parents(tuple(range(n)), 1000)\n",
    "len(psets)\n"
   ]
  },
  {
   "cell_type": "code",
   "execution_count": null,
   "metadata": {},
   "outputs": [
    {
     "name": "stdout",
     "output_type": "stream",
     "text": [
      "1.62 s ± 5.65 ms per loop (mean ± std. dev. of 7 runs, 1 loop each)\n"
     ]
    }
   ],
   "source": [
    "%timeit maximal_parents(tuple(range(n)), 10000)"
   ]
  },
  {
   "cell_type": "code",
   "execution_count": null,
   "metadata": {},
   "outputs": [
    {
     "name": "stdout",
     "output_type": "stream",
     "text": [
      "Timer unit: 1e-06 s\n",
      "\n",
      "Total time: 11.2147 s\n",
      "File: /tmp/ipykernel_2346141/4156758356.py\n",
      "Function: maximal_parents at line 1\n",
      "\n",
      "Line #      Hits         Time  Per Hit   % Time  Line Contents\n",
      "==============================================================\n",
      "     1                                           def maximal_parents(V: tuple[int], tau: float, _pgroups=set()) -> list[tuple[int]]:\n",
      "     2   1246985     580478.0      0.5      5.2      if not V or tau < 1:\n",
      "     3    631700     256795.0      0.4      2.3          return [empty_pset]\n",
      "     4    615285     258966.0      0.4      2.3      x = V[0]\n",
      "     5    615285     289066.0      0.5      2.6      V = V[1:]\n",
      "     6                                           \n",
      "     7    615285     234493.0      0.4      2.1      S = []\n",
      "     8    615285     278822.0      0.5      2.5      U = set()\n",
      "     9                                           \n",
      "    10   1246984     633816.0      0.5      5.7      for h in range(heights[x]):\n",
      "    11    631699     290068.0      0.5      2.6          dom = domains[x][h]\n",
      "    12    631699     255574.0      0.4      2.3          g = groups[x]\n",
      "    13    631699     268533.0      0.4      2.4          if g in _pgroups:\n",
      "    14     20802       9384.0      0.5      0.1              dom -= common[x]\n",
      "    15     20802       8367.0      0.4      0.1              _pgroups_with_x = _pgroups\n",
      "    16                                                   else:\n",
      "    17    610897     339812.0      0.6      3.0              _pgroups_with_x = _pgroups.copy()\n",
      "    18    610897     304087.0      0.5      2.7              _pgroups_with_x.add(g)\n",
      "    19                                           \n",
      "    20   1923530     910470.0      0.5      8.1          for z in maximal_parents(V, tau / dom, _pgroups_with_x):\n",
      "    21   1291831     687774.0      0.5      6.1              if z not in U:\n",
      "    22   1278370     771296.0      0.6      6.9                  U.add(z)\n",
      "    23   1278370    1654138.0      1.3     14.7                  S.append(add_to_pset(z, x, h))\n",
      "    24                                           \n",
      "    25   2667698    1099941.0      0.4      9.8      for z in maximal_parents(V, tau, _pgroups):\n",
      "    26   2052413    1138829.0      0.6     10.2          if z not in U:\n",
      "    27   1447705     713902.0      0.5      6.4              S.append(z)\n",
      "    28                                           \n",
      "    29    615285     230071.0      0.4      2.1      return S"
     ]
    }
   ],
   "source": [
    "%lprun -f maximal_parents maximal_parents(tuple(range(n)), 10000)"
   ]
  },
  {
   "cell_type": "code",
   "execution_count": null,
   "metadata": {},
   "outputs": [],
   "source": []
  }
 ],
 "metadata": {
  "language_info": {
   "codemirror_mode": {
    "name": "ipython",
    "version": 3
   },
   "file_extension": ".py",
   "mimetype": "text/x-python",
   "name": "python",
   "nbconvert_exporter": "python",
   "pygments_lexer": "ipython3",
   "version": "3.10.6"
  },
  "vscode": {
   "interpreter": {
    "hash": "50661068d2d5c6ff1ce24ae701dfa73cc4ae117a223c3f7199e1fdb4656c8912"
   }
  }
 },
 "nbformat": 4,
 "nbformat_minor": 2
}
