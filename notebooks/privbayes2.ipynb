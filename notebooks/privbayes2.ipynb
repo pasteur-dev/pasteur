{
 "cells": [
  {
   "cell_type": "code",
   "execution_count": null,
   "metadata": {},
   "outputs": [],
   "source": [
    "from pasteur.kedro.ipython import *\n",
    "\n",
    "register_kedro()\n"
   ]
  },
  {
   "cell_type": "code",
   "execution_count": null,
   "metadata": {},
   "outputs": [],
   "source": [
    "%load_ext autoreload\n",
    "%autoreload 2\n",
    "%load_ext line_profiler"
   ]
  },
  {
   "cell_type": "code",
   "execution_count": null,
   "metadata": {},
   "outputs": [],
   "source": [
    "import pandas as pd\n",
    "import numpy as np\n"
   ]
  },
  {
   "cell_type": "code",
   "execution_count": null,
   "metadata": {},
   "outputs": [],
   "source": [
    "from pasteur.metadata import Metadata\n",
    "from pasteur.transform import TableTransformer, Attributes, get_dtype\n",
    "\n",
    "view = \"mimic_tab_admissions\"\n",
    "trn: TableTransformer = catalog.load(f\"{view}.trn.table\")\n",
    "table: pd.DataFrame = catalog.load(f\"{view}.wrk.idx_table\")\n"
   ]
  },
  {
   "cell_type": "code",
   "execution_count": null,
   "metadata": {},
   "outputs": [],
   "source": [
    "# sensitive\n",
    "table.head()\n"
   ]
  },
  {
   "cell_type": "code",
   "execution_count": null,
   "metadata": {},
   "outputs": [],
   "source": [
    "attrs = trn[\"idx\"].get_attributes()\n"
   ]
  },
  {
   "cell_type": "code",
   "execution_count": null,
   "metadata": {},
   "outputs": [],
   "source": [
    "# from pasteur.synth.math import expand_table, calc_marginal, calc_marginal_1way, AttrSelector, AttrSelectors\n",
    "# cols, cols_noncommon, domains = expand_table(attrs, table)\n",
    "from functools import reduce\n"
   ]
  },
  {
   "cell_type": "code",
   "execution_count": null,
   "metadata": {},
   "outputs": [],
   "source": [
    "from typing import Callable\n",
    "\n",
    "col_idx = {}\n",
    "groups = []\n",
    "heights = []\n",
    "common = []\n",
    "domains = []\n",
    "for i, a in enumerate(attrs.values()):\n",
    "    for n, c in a.cols.items():\n",
    "        col_idx[n] = i\n",
    "        groups.append(i)\n",
    "        heights.append(c.lvl.height)\n",
    "        common.append(a.common)\n",
    "        domains.append([c.get_domain(h) for h in range(c.height)])\n",
    "\n",
    "n = len(col_idx)\n",
    "empty_pset = tuple(-1 for _ in range(n))\n",
    "\n",
    "\n",
    "def add_to_pset(s, x, h):\n",
    "    s = list(s)\n",
    "    s[x] = h\n",
    "    return tuple(s)\n"
   ]
  },
  {
   "cell_type": "code",
   "execution_count": null,
   "metadata": {},
   "outputs": [],
   "source": [
    "def maximal_parents(V: tuple[int], tau: float, _pgroups=set()) -> list[tuple[int]]:\n",
    "    if tau < 1:\n",
    "        return []\n",
    "    if not V:\n",
    "        return [empty_pset]\n",
    "    x = V[0]\n",
    "    V = V[1:]\n",
    "\n",
    "    S = []\n",
    "    U = set()\n",
    "\n",
    "    for h in range(heights[x]):\n",
    "        dom = domains[x][h]\n",
    "        g = groups[x]\n",
    "        if g in _pgroups:\n",
    "            dom -= common[x]\n",
    "            _pgroups_with_x = _pgroups\n",
    "        else:\n",
    "            _pgroups_with_x = _pgroups.copy()\n",
    "            _pgroups_with_x.add(g)\n",
    "\n",
    "        for z in maximal_parents(V, tau / dom, _pgroups_with_x):\n",
    "            if z not in U:\n",
    "                U.add(z)\n",
    "                S.append(add_to_pset(z, x, h))\n",
    "\n",
    "    for z in maximal_parents(V, tau, _pgroups):\n",
    "        if z not in U:\n",
    "            S.append(z)\n",
    "\n",
    "    return S\n"
   ]
  },
  {
   "cell_type": "code",
   "execution_count": null,
   "metadata": {},
   "outputs": [
    {
     "name": "stdout",
     "output_type": "stream",
     "text": [
      "\u001b[1;36m1576\u001b[0m\n"
     ]
    }
   ],
   "source": [
    "psets = maximal_parents(tuple(range(n)), 1000)\n",
    "len(psets)\n"
   ]
  },
  {
   "cell_type": "code",
   "execution_count": null,
   "metadata": {},
   "outputs": [
    {
     "name": "stdout",
     "output_type": "stream",
     "text": [
      "1.12 s ± 4.08 ms per loop (mean ± std. dev. of 7 runs, 1 loop each)\n"
     ]
    }
   ],
   "source": [
    "%timeit maximal_parents(tuple(range(n)), 10000)"
   ]
  },
  {
   "cell_type": "code",
   "execution_count": null,
   "metadata": {},
   "outputs": [
    {
     "name": "stdout",
     "output_type": "stream",
     "text": [
      "Timer unit: 1e-06 s\n",
      "\n",
      "Total time: 8.72521 s\n",
      "File: /tmp/ipykernel_2349234/3433675883.py\n",
      "Function: maximal_parents at line 1\n",
      "\n",
      "Line #      Hits         Time  Per Hit   % Time  Line Contents\n",
      "==============================================================\n",
      "     1                                           def maximal_parents(V: tuple[int], tau: float, _pgroups=set()) -> list[tuple[int]]:\n",
      "     2   1246985     553492.0      0.4      6.3      if tau < 1:\n",
      "     3    307524     117733.0      0.4      1.3          return []\n",
      "     4    939461     365033.0      0.4      4.2      if not V:\n",
      "     5    324176     132790.0      0.4      1.5          return [empty_pset]\n",
      "     6    615285     256888.0      0.4      2.9      x = V[0]\n",
      "     7    615285     296507.0      0.5      3.4      V = V[1:]\n",
      "     8                                           \n",
      "     9    615285     235346.0      0.4      2.7      S = []\n",
      "    10    615285     273404.0      0.4      3.1      U = set()\n",
      "    11                                           \n",
      "    12   1246984     628877.0      0.5      7.2      for h in range(heights[x]):\n",
      "    13    631699     289253.0      0.5      3.3          dom = domains[x][h]\n",
      "    14    631699     256350.0      0.4      2.9          g = groups[x]\n",
      "    15    631699     270982.0      0.4      3.1          if g in _pgroups:\n",
      "    16     20802       9334.0      0.4      0.1              dom -= common[x]\n",
      "    17     20802       8184.0      0.4      0.1              _pgroups_with_x = _pgroups\n",
      "    18                                                   else:\n",
      "    19    610897     335704.0      0.5      3.8              _pgroups_with_x = _pgroups.copy()\n",
      "    20    610897     300813.0      0.5      3.4              _pgroups_with_x.add(g)\n",
      "    21                                           \n",
      "    22   1241513     613189.0      0.5      7.0          for z in maximal_parents(V, tau / dom, _pgroups_with_x):\n",
      "    23    609814     326196.0      0.5      3.7              if z not in U:\n",
      "    24    609623     367306.0      0.6      4.2                  U.add(z)\n",
      "    25    609623     798307.0      1.3      9.1                  S.append(add_to_pset(z, x, h))\n",
      "    26                                           \n",
      "    27   1942176     813278.0      0.4      9.3      for z in maximal_parents(V, tau, _pgroups):\n",
      "    28   1326891     730628.0      0.6      8.4          if z not in U:\n",
      "    29   1009808     516702.0      0.5      5.9              S.append(z)\n",
      "    30                                           \n",
      "    31    615285     228915.0      0.4      2.6      return S"
     ]
    }
   ],
   "source": [
    "%lprun -f maximal_parents maximal_parents(tuple(range(n)), 10000)"
   ]
  },
  {
   "cell_type": "code",
   "execution_count": null,
   "metadata": {},
   "outputs": [],
   "source": []
  }
 ],
 "metadata": {
  "language_info": {
   "codemirror_mode": {
    "name": "ipython",
    "version": 3
   },
   "file_extension": ".py",
   "mimetype": "text/x-python",
   "name": "python",
   "nbconvert_exporter": "python",
   "pygments_lexer": "ipython3",
   "version": "3.10.6"
  },
  "vscode": {
   "interpreter": {
    "hash": "50661068d2d5c6ff1ce24ae701dfa73cc4ae117a223c3f7199e1fdb4656c8912"
   }
  }
 },
 "nbformat": 4,
 "nbformat_minor": 2
}
