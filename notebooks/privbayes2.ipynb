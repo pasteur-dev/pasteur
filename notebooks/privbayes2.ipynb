{
 "cells": [
  {
   "cell_type": "code",
   "execution_count": null,
   "metadata": {},
   "outputs": [],
   "source": [
    "from pasteur.kedro.ipython import *\n",
    "register_kedro()"
   ]
  },
  {
   "cell_type": "code",
   "execution_count": null,
   "metadata": {},
   "outputs": [],
   "source": [
    "%load_ext autoreload\n",
    "%autoreload 2\n",
    "%load_ext line_profiler"
   ]
  },
  {
   "cell_type": "code",
   "execution_count": null,
   "metadata": {},
   "outputs": [],
   "source": [
    "import pandas as pd\n",
    "import numpy as np"
   ]
  },
  {
   "cell_type": "code",
   "execution_count": null,
   "metadata": {},
   "outputs": [],
   "source": [
    "from pasteur.metadata import Metadata\n",
    "from pasteur.transform import TableTransformer, Attributes, get_dtype\n",
    "\n",
    "view = \"mimic_tab_admissions\"\n",
    "trn: TableTransformer = catalog.load(f\"{view}.trn.table\")\n",
    "table: pd.DataFrame = catalog.load(f\"{view}.wrk.idx_table\")"
   ]
  },
  {
   "cell_type": "code",
   "execution_count": null,
   "metadata": {},
   "outputs": [],
   "source": [
    "# sensitive\n",
    "table.head()"
   ]
  },
  {
   "cell_type": "code",
   "execution_count": null,
   "metadata": {},
   "outputs": [],
   "source": [
    "attrs = trn[\"idx\"].get_attributes()"
   ]
  },
  {
   "cell_type": "code",
   "execution_count": null,
   "metadata": {},
   "outputs": [],
   "source": [
    "# from pasteur.synth.math import expand_table, calc_marginal, calc_marginal_1way, AttrSelector, AttrSelectors\n",
    "# cols, cols_noncommon, domains = expand_table(attrs, table)\n",
    "from functools import reduce"
   ]
  },
  {
   "cell_type": "code",
   "execution_count": null,
   "metadata": {},
   "outputs": [],
   "source": [
    "from typing import Callable\n",
    "\n",
    "col_idx = {}\n",
    "groups = []\n",
    "heights = []\n",
    "common = []\n",
    "domains = []\n",
    "for i, a in enumerate(attrs.values()):\n",
    "    for n, c in a.cols.items():\n",
    "        col_idx[n] = i\n",
    "        groups.append(i)\n",
    "        heights.append(c.lvl.height)\n",
    "        common.append(a.common)\n",
    "        domains.append([c.get_domain(h) for h in range(c.height)])\n",
    "\n",
    "n = len(col_idx)"
   ]
  },
  {
   "cell_type": "code",
   "execution_count": null,
   "metadata": {},
   "outputs": [],
   "source": [
    "class Pset(tuple[int]):\n",
    "    \"\"\"Pset is a decorated tuple that holds a number for each column, -1 if\n",
    "    the column is not included and its height if it is.\n",
    "    \n",
    "    It's a decorated tuple because tuples are hashable and the order of columns\n",
    "    doesn't matter.\"\"\"\n",
    "\n",
    "    def pop(self, i: int) -> \"Pset\":\n",
    "        return Pset(v if j != i else -1 for j, v in enumerate(self))\n",
    "    \n",
    "    def pop_first(self):\n",
    "        for i, v in enumerate(self):\n",
    "            if v != -1:\n",
    "                return i, self.pop(i)\n",
    "        return None, self.empty(len(self))\n",
    "    \n",
    "    def add(self, i: int, h: int = 0):\n",
    "        return Pset(v if j != i else h for j, v in enumerate(self))\n",
    "\n",
    "    def contains(self, i: int):\n",
    "        return self[i] != -1\n",
    "    \n",
    "    @staticmethod\n",
    "    def empty(n: int):\n",
    "        return Pset(-1 for _ in range(n))\n",
    "    \n",
    "    @staticmethod\n",
    "    def all(n: int):\n",
    "        return Pset(0 for _ in range(n))"
   ]
  },
  {
   "cell_type": "code",
   "execution_count": null,
   "metadata": {},
   "outputs": [],
   "source": [
    "def find_tau(P: Pset, tau: float):\n",
    "    inc_groups = set()\n",
    "    for i, h in enumerate(P):\n",
    "        if h == -1:\n",
    "            continue\n",
    "\n",
    "        dom = domains[i][h]\n",
    "        if groups[i] in inc_groups:\n",
    "            dom -= common[i]\n",
    "        inc_groups.add(groups[i])\n",
    "        tau /= dom\n",
    "    \n",
    "    return tau\n",
    "\n",
    "def maximal_parents(V: Pset, P: Pset, tau: float) -> list[Pset]:\n",
    "    x, V = V.pop_first()\n",
    "\n",
    "    if find_tau(P, tau) < 1 or x is None:\n",
    "        return [Pset.empty(n)]\n",
    "\n",
    "    S = []\n",
    "    U = set()\n",
    "\n",
    "    for h in range(heights[x]):\n",
    "        for z in maximal_parents(V, P.add(x, h), tau):\n",
    "            if z not in U:\n",
    "                U.add(z)\n",
    "                S.append(z.add(x, h))\n",
    "\n",
    "    for z in maximal_parents(V, P, tau):\n",
    "        if z not in U:\n",
    "            S.append(z)\n",
    "\n",
    "    return S"
   ]
  },
  {
   "cell_type": "code",
   "execution_count": null,
   "metadata": {},
   "outputs": [
    {
     "name": "stdout",
     "output_type": "stream",
     "text": [
      "\u001b[1;36m3470\u001b[0m\n"
     ]
    }
   ],
   "source": [
    "psets = maximal_parents(Pset.all(n).pop_first()[1], Pset.empty(n), 1000)\n",
    "len(psets)"
   ]
  },
  {
   "cell_type": "code",
   "execution_count": null,
   "metadata": {},
   "outputs": [
    {
     "name": "stdout",
     "output_type": "stream",
     "text": [
      "Timer unit: 1e-06 s\n",
      "\n",
      "Total time: 11.9732 s\n",
      "File: /tmp/ipykernel_2329787/1750792131.py\n",
      "Function: maximal_parents at line 15\n",
      "\n",
      "Line #      Hits         Time  Per Hit   % Time  Line Contents\n",
      "==============================================================\n",
      "    15                                           def maximal_parents(V: Pset, P: Pset, tau: float) -> list[Pset]:\n",
      "    16    150159    3597120.0     24.0     30.0      x, V = V.pop_first()\n",
      "    17                                           \n",
      "    18    150159    2447219.0     16.3     20.4      if find_tau(P, tau) < 1 or x is None:\n",
      "    19     76547    1105020.0     14.4      9.2          return [Pset.empty(n)]\n",
      "    20                                           \n",
      "    21     73612      27624.0      0.4      0.2      S = []\n",
      "    22     73612      32304.0      0.4      0.3      U = set()\n",
      "    23                                           \n",
      "    24    150158      72663.0      0.5      0.6      for h in range(heights[x]):\n",
      "    25    230973    1431580.0      6.2     12.0          for z in maximal_parents(V, P.add(x, h), tau):\n",
      "    26    154427      78530.0      0.5      0.7              if z not in U:\n",
      "    27    152635      89071.0      0.6      0.7                  U.add(z)\n",
      "    28    152635    2660877.0     17.4     22.2                  S.append(z.add(x, h))\n",
      "    29                                           \n",
      "    30    350202     162037.0      0.5      1.4      for z in maximal_parents(V, P, tau):\n",
      "    31    276590     144537.0      0.5      1.2          if z not in U:\n",
      "    32    205305      98918.0      0.5      0.8              S.append(z)\n",
      "    33                                           \n",
      "    34     73612      25655.0      0.3      0.2      return S"
     ]
    }
   ],
   "source": [
    "%lprun -f maximal_parents maximal_parents(Pset.all(n).pop_first()[1], Pset.empty(n), 1000)"
   ]
  },
  {
   "cell_type": "code",
   "execution_count": null,
   "metadata": {},
   "outputs": [],
   "source": []
  }
 ],
 "metadata": {
  "language_info": {
   "codemirror_mode": {
    "name": "ipython",
    "version": 3
   },
   "file_extension": ".py",
   "mimetype": "text/x-python",
   "name": "python",
   "nbconvert_exporter": "python",
   "pygments_lexer": "ipython3",
   "version": "3.10.6"
  },
  "vscode": {
   "interpreter": {
    "hash": "50661068d2d5c6ff1ce24ae701dfa73cc4ae117a223c3f7199e1fdb4656c8912"
   }
  }
 },
 "nbformat": 4,
 "nbformat_minor": 2
}
