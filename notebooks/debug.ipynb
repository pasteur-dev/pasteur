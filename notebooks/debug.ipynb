{
 "cells": [
  {
   "cell_type": "code",
   "execution_count": null,
   "metadata": {},
   "outputs": [],
   "source": [
    "from pasteur.kedro.ipython import *\n",
    "register_kedro()"
   ]
  },
  {
   "cell_type": "code",
   "execution_count": null,
   "metadata": {},
   "outputs": [
    {
     "name": "stderr",
     "output_type": "stream",
     "text": [
      "Executing pipeline tab_adult.ingest: 100%|██████████| 10/10 [00:00<00:00, 26.15it/s]\n",
      "2000-01-01 00:00:00,000 - pasteur.synth.privbayes - WARNING - Current variable domain implementation (required by ['dod_year', 'dod_week', 'dod_day', 'admittime', 'admittime_year', 'admittime_week', 'admittime_day', 'dischtime', 'dischtime_day', 'deathtime', 'deathtime_day']) technically violates DP (to be fixed).\n",
      "2000-01-01 00:00:00,000 - pasteur.synth.privbayes - WARNING - Baking without DP (e1=inf).                                 \n",
      "Finding Nodes: 100%|██████████| 19/19 [00:00<00:00,  1.00it/s]verrides `alg.e1=0.3`:   0%|          | 0/3 [00:00<?, ?it/s]\n",
      "2000-01-01 00:00:00,000 - pasteur.synth.privbayes - INFO - Bayesian Network Tree:                                         \n",
      "(PrivBayes e1=1000000.00, e2=0.70, theta=4.00, available t=918.61)\n",
      "┌─────────────────────┬─────┬──────────┬──────────────────────────────────────────────────────────────────────┐\n",
      "│           Attribute │ Dom │ Avail. t │                                                                      │\n",
      "├─────────────────────┼─────┼──────────┼──────────────────────────────────────────────────────────────────────┤\n",
      "│      admittime_year │ 128 │     7.18 │                                                                      │\n",
      "│      marital_status │   6 │   153.10 │ admittime_year.0                                                     │\n",
      "│      admission_type │   9 │   102.07 │ admittime_year.3 marital_status.0                                    │\n",
      "│  admission_location │  13 │    70.66 │ admittime_year.5 admission_type.0                                    │\n",
      "│  discharge_location │  15 │    61.24 │ admittime_year.5 admission_type.0                                    │\n",
      "│           insurance │   3 │   306.20 │ admittime_year.5 admission_type.0 marital_status.0                   │\n",
      "│           admittime │  32 │    28.71 │ admittime_year.6 admission_type.0                                    │\n",
      "│           dischtime │  32 │    28.71 │ admittime_year.6 admission_type.0                                    │\n",
      "│           ethnicity │   8 │   114.83 │ admittime_year.5      insurance.0 marital_status.0                   │\n",
      "│              gender │   2 │   459.31 │ admittime_year.4 marital_status.0      ethnicity.0                   │\n",
      "│            language │   2 │   459.31 │ admittime_year.4      insurance.0      ethnicity.0         gender.0  │\n",
      "│       dischtime_day │ 128 │     7.18 │ admittime_year.6      insurance.0                                    │\n",
      "│       admittime_day │   8 │   114.83 │  dischtime_day.1                                                     │\n",
      "│            dod_year │ 129 │     7.12 │ admittime_year.5                                                     │\n",
      "│             dod_day │   9 │   102.07 │       dod_year.6       language.0      ethnicity.0         gender.0  │\n",
      "│            dod_week │  65 │    14.13 │       dod_year.6 admittime_year.6         gender.0                   │\n",
      "│hospital_expire_flag │   2 │   459.31 │       dod_year.6      dischtime.2discharge_location.0                │\n",
      "│           deathtime │  33 │    27.84 │      dischtime.2hospital_expire_flag.0                               │\n",
      "│       deathtime_day │ 129 │     7.12 │        dod_day.2      deathtime.5                                    │\n",
      "│      admittime_week │  64 │    14.35 │       dod_week.5      admittime.4      dischtime.4                   │\n",
      "└─────────────────────┴─────┴──────────┴──────────────────────────────────────────────────────────────────────┘\n",
      "2000-01-01 00:00:00,000 - pasteur.synth.base - INFO - Deterministic check: random number after    PrivBayesSynth.bake(): <np.random> 0.59768 <random> 0.14817\n",
      "2000-01-01 00:00:00,000 - pasteur.synth.base - INFO - Deterministic check: random number after     PrivBayesSynth.fit(): <np.random> 0.96323 <random> 0.14817\n",
      "2000-01-01 00:00:00,000 - pasteur.synth.base - INFO - Deterministic check: random number after  PrivBayesSynth.sample(): <np.random> 0.38249 <random> 0.14817\n",
      "Executing pipeline mimic_tab_admissions.privbayes.synth with overrides `alg.e1=0.3`: 100%|██████████| 3/3 [00:00<00:00,  1.00it/s]\n",
      "2000-01-01 00:00:00,000 - pasteur.synth.privbayes - WARNING - Current variable domain implementation (required by ['dod_year', 'dod_week', 'dod_day', 'admittime', 'admittime_year', 'admittime_week', 'admittime_day', 'dischtime', 'dischtime_day', 'deathtime', 'deathtime_day']) technically violates DP (to be fixed).\n",
      "2000-01-01 00:00:00,000 - pasteur.synth.privbayes - WARNING - Baking without DP (e1=inf).                                 \n",
      "Finding Nodes: 100%|██████████| 19/19 [00:00<00:00,  1.00it/s]verrides `alg.e1=0.5`:   0%|          | 0/3 [00:00<?, ?it/s]\n",
      "2000-01-01 00:00:00,000 - pasteur.synth.privbayes - INFO - Bayesian Network Tree:                                         \n",
      "(PrivBayes e1=1000000.00, e2=0.70, theta=4.00, available t=918.61)\n",
      "┌─────────────────────┬─────┬──────────┬──────────────────────────────────────────────────────────────────────┐\n",
      "│           Attribute │ Dom │ Avail. t │                                                                      │\n",
      "├─────────────────────┼─────┼──────────┼──────────────────────────────────────────────────────────────────────┤\n",
      "│      admittime_year │ 128 │     7.18 │                                                                      │\n",
      "│      marital_status │   6 │   153.10 │ admittime_year.0                                                     │\n",
      "│      admission_type │   9 │   102.07 │ admittime_year.3 marital_status.0                                    │\n",
      "│  admission_location │  13 │    70.66 │ admittime_year.5 admission_type.0                                    │\n",
      "│  discharge_location │  15 │    61.24 │ admittime_year.5 admission_type.0                                    │\n",
      "│           insurance │   3 │   306.20 │ admittime_year.5 admission_type.0 marital_status.0                   │\n",
      "│           admittime │  32 │    28.71 │ admittime_year.6 admission_type.0                                    │\n",
      "│           dischtime │  32 │    28.71 │ admittime_year.6 admission_type.0                                    │\n",
      "│           ethnicity │   8 │   114.83 │ admittime_year.5      insurance.0 marital_status.0                   │\n",
      "│              gender │   2 │   459.31 │ admittime_year.4 marital_status.0      ethnicity.0                   │\n",
      "│            language │   2 │   459.31 │ admittime_year.4      insurance.0      ethnicity.0         gender.0  │\n",
      "│       dischtime_day │ 128 │     7.18 │ admittime_year.6      insurance.0                                    │\n",
      "│       admittime_day │   8 │   114.83 │  dischtime_day.1                                                     │\n",
      "│            dod_year │ 129 │     7.12 │ admittime_year.5                                                     │\n",
      "│             dod_day │   9 │   102.07 │       dod_year.6       language.0      ethnicity.0         gender.0  │\n",
      "│            dod_week │  65 │    14.13 │       dod_year.6 admittime_year.6         gender.0                   │\n",
      "│hospital_expire_flag │   2 │   459.31 │       dod_year.6      dischtime.2discharge_location.0                │\n",
      "│           deathtime │  33 │    27.84 │      dischtime.2hospital_expire_flag.0                               │\n",
      "│       deathtime_day │ 129 │     7.12 │        dod_day.2      deathtime.5                                    │\n",
      "│      admittime_week │  64 │    14.35 │       dod_week.5      admittime.4      dischtime.4                   │\n",
      "└─────────────────────┴─────┴──────────┴──────────────────────────────────────────────────────────────────────┘\n",
      "2000-01-01 00:00:00,000 - pasteur.synth.base - INFO - Deterministic check: random number after    PrivBayesSynth.bake(): <np.random> 0.59768 <random> 0.14817\n",
      "2000-01-01 00:00:00,000 - pasteur.synth.base - INFO - Deterministic check: random number after     PrivBayesSynth.fit(): <np.random> 0.96323 <random> 0.14817\n",
      "2000-01-01 00:00:00,000 - pasteur.synth.base - INFO - Deterministic check: random number after  PrivBayesSynth.sample(): <np.random> 0.38249 <random> 0.14817\n",
      "Executing pipeline mimic_tab_admissions.privbayes.synth with overrides `alg.e1=0.5`: 100%|██████████| 3/3 [00:00<00:00,  1.00it/s]\n",
      "2000-01-01 00:00:00,000 - pasteur.synth.privbayes - WARNING - Current variable domain implementation (required by ['dod_year', 'dod_week', 'dod_day', 'admittime', 'admittime_year', 'admittime_week', 'admittime_day', 'dischtime', 'dischtime_day', 'deathtime', 'deathtime_day']) technically violates DP (to be fixed).\n",
      "2000-01-01 00:00:00,000 - pasteur.synth.privbayes - WARNING - Baking without DP (e1=inf).                                 \n",
      "Executing pipeline mimic_tab_admissions.privbayes.synth with overrides `alg.e1=0.9`:   0%|          | 0/3 [00:00<?, ?it/s]"
     ]
    }
   ],
   "source": [
    "%pipe tab_adult.ingest\n",
    "for e1 in (0.3, 0.5, 0.9, 1.5):\n",
    "    pipe(\"mimic_tab_admissions.privbayes.synth\", {\"alg.e1\": e1})"
   ]
  },
  {
   "cell_type": "code",
   "execution_count": null,
   "metadata": {},
   "outputs": [],
   "source": []
  }
 ],
 "metadata": {
  "language_info": {
   "codemirror_mode": {
    "name": "ipython",
    "version": 3
   },
   "file_extension": ".py",
   "mimetype": "text/x-python",
   "name": "python",
   "nbconvert_exporter": "python",
   "pygments_lexer": "ipython3",
   "version": "3.10.6"
  },
  "vscode": {
   "interpreter": {
    "hash": "50661068d2d5c6ff1ce24ae701dfa73cc4ae117a223c3f7199e1fdb4656c8912"
   }
  }
 },
 "nbformat": 4,
 "nbformat_minor": 2
}
