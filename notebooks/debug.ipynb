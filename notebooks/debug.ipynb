{
 "cells": [
  {
   "cell_type": "code",
   "execution_count": null,
   "metadata": {},
   "outputs": [
    {
     "name": "stdout",
     "output_type": "stream",
     "text": [
      "\u001b[0m\u001b[34mINFO    \u001b[0m Kedro project Pasteur                                                                                           \u001b[2m__init__.py\u001b[0m\u001b[2m:\u001b[0m\u001b[2m77\u001b[0m\n",
      "\u001b[0m\u001b[34mINFO    \u001b[0m Defined global variable \u001b[32m'context'\u001b[0m, \u001b[32m'session'\u001b[0m, \u001b[32m'catalog'\u001b[0m and \u001b[32m'pipelines'\u001b[0m                                         \u001b[2m__init__.py\u001b[0m\u001b[2m:\u001b[0m\u001b[2m78\u001b[0m\n",
      "\u001b[0m\u001b[34mINFO    \u001b[0m Registered line magic \u001b[32m'run_viz'\u001b[0m                                                                                 \u001b[2m__init__.py\u001b[0m\u001b[2m:\u001b[0m\u001b[2m84\u001b[0m\n",
      "\u001b[0m\u001b[34mINFO    \u001b[0m Registered line magic \u001b[32m'reload_kedro_mlflow'\u001b[0m                                                                     \u001b[2m__init__.py\u001b[0m\u001b[2m:\u001b[0m\u001b[2m84\u001b[0m\n"
     ]
    }
   ],
   "source": [
    "from pasteur.kedro.ipython import *\n",
    "register_kedro()"
   ]
  },
  {
   "cell_type": "code",
   "execution_count": null,
   "metadata": {},
   "outputs": [],
   "source": [
    "%load_ext autoreload\n",
    "%autoreload 2"
   ]
  },
  {
   "cell_type": "code",
   "execution_count": null,
   "metadata": {},
   "outputs": [],
   "source": [
    "import pandas as pd\n",
    "import numpy as np"
   ]
  },
  {
   "cell_type": "code",
   "execution_count": null,
   "metadata": {},
   "outputs": [],
   "source": [
    "from pasteur.metadata import Metadata\n",
    "\n",
    "trn: pd.DataFrame = catalog.load(\"mimic_tab_admissions.trn.table\")\n",
    "table = catalog.load(\"mimic_tab_admissions.wrk.idx_table\")"
   ]
  },
  {
   "cell_type": "code",
   "execution_count": null,
   "metadata": {},
   "outputs": [],
   "source": [
    "attrs = trn[\"idx\"].get_attributes()"
   ]
  },
  {
   "cell_type": "code",
   "execution_count": null,
   "metadata": {},
   "outputs": [
    {
     "name": "stdout",
     "output_type": "stream",
     "text": [
      "Idx\u001b[1m[\u001b[0m\u001b[32m'0.4921875'\u001b[0m, \u001b[32m'1.4765625'\u001b[0m, \u001b[32m'2.4609375'\u001b[0m, \u001b[32m'3.4453125'\u001b[0m, \u001b[32m'4.4296875'\u001b[0m, \u001b[32m'5.4140625'\u001b[0m, \u001b[32m'6.3984375'\u001b[0m, \u001b[32m'7.3828125'\u001b[0m, \u001b[32m'8.3671875'\u001b[0m, \u001b[32m'9.3515625'\u001b[0m, \u001b[32m'10.3359375'\u001b[0m, \u001b[32m'11.3203125'\u001b[0m, \u001b[32m'12.3046875'\u001b[0m, \u001b[32m'13.2890625'\u001b[0m, \u001b[32m'14.2734375'\u001b[0m, \u001b[32m'15.2578125'\u001b[0m, \u001b[32m'16.242188'\u001b[0m, \u001b[32m'17.226562'\u001b[0m, \u001b[32m'18.210938'\u001b[0m, \u001b[32m'19.195312'\u001b[0m, \u001b[32m'20.179688'\u001b[0m, \u001b[32m'21.164062'\u001b[0m, \u001b[32m'22.148438'\u001b[0m, \u001b[32m'23.132812'\u001b[0m, \u001b[32m'24.117188'\u001b[0m, \u001b[32m'25.101562'\u001b[0m, \u001b[32m'26.085938'\u001b[0m, \u001b[32m'27.070312'\u001b[0m, \u001b[32m'28.054688'\u001b[0m, \u001b[32m'29.039062'\u001b[0m, \u001b[32m'30.023438'\u001b[0m, \u001b[32m'31.007812'\u001b[0m, \u001b[32m'31.992188'\u001b[0m, \u001b[32m'32.976562'\u001b[0m, \u001b[32m'33.960938'\u001b[0m, \u001b[32m'34.945312'\u001b[0m, \u001b[32m'35.929688'\u001b[0m, \u001b[32m'36.914062'\u001b[0m, \u001b[32m'37.898438'\u001b[0m, \u001b[32m'38.882812'\u001b[0m, \u001b[32m'39.867188'\u001b[0m, \u001b[32m'40.851562'\u001b[0m, \u001b[32m'41.835938'\u001b[0m, \u001b[32m'42.820312'\u001b[0m, \u001b[32m'43.804688'\u001b[0m, \u001b[32m'44.789062'\u001b[0m, \u001b[32m'45.773438'\u001b[0m, \u001b[32m'46.757812'\u001b[0m, \u001b[32m'47.742188'\u001b[0m, \u001b[32m'48.726562'\u001b[0m, \u001b[32m'49.710938'\u001b[0m, \u001b[32m'50.695312'\u001b[0m, \u001b[32m'51.679688'\u001b[0m, \u001b[32m'52.664062'\u001b[0m, \u001b[32m'53.648438'\u001b[0m, \u001b[32m'54.632812'\u001b[0m, \u001b[32m'55.617188'\u001b[0m, \u001b[32m'56.601562'\u001b[0m, \u001b[32m'57.585938'\u001b[0m, \u001b[32m'58.570312'\u001b[0m, \u001b[32m'59.554688'\u001b[0m, \u001b[32m'60.539062'\u001b[0m, \u001b[32m'61.523438'\u001b[0m, \u001b[32m'62.507812'\u001b[0m\u001b[1m]\u001b[0m\n"
     ]
    }
   ],
   "source": [
    "from pasteur.transform.attribute import LevelColumn\n",
    "\n",
    "col: LevelColumn = attrs[\"dischtime\"][\"dischtime_day\"]\n",
    "col"
   ]
  },
  {
   "cell_type": "code",
   "execution_count": null,
   "metadata": {},
   "outputs": [],
   "source": [
    "counts = np.bincount(table[\"dischtime_day\"])"
   ]
  },
  {
   "cell_type": "code",
   "execution_count": null,
   "metadata": {},
   "outputs": [
    {
     "name": "stdout",
     "output_type": "stream",
     "text": [
      "\u001b[1;36m63\u001b[0m\n"
     ]
    }
   ],
   "source": [
    "from pasteur.synth.hierarchy import RebalancedColumn\n",
    "\n",
    "rc = RebalancedColumn(counts, col)\n",
    "rc.height"
   ]
  },
  {
   "cell_type": "code",
   "execution_count": null,
   "metadata": {},
   "outputs": [
    {
     "name": "stdout",
     "output_type": "stream",
     "text": [
      "\u001b[1m(\u001b[0m\u001b[1m[\u001b[0m\u001b[1;36m2\u001b[0m, \u001b[1;36m4\u001b[0m, \u001b[1;36m6\u001b[0m, \u001b[1;36m8\u001b[0m, \u001b[1;36m12\u001b[0m, \u001b[1;36m15\u001b[0m, \u001b[1;36m20\u001b[0m, \u001b[1;36m26\u001b[0m, \u001b[1;36m34\u001b[0m, \u001b[1;36m44\u001b[0m, \u001b[1;36m57\u001b[0m, \u001b[1;36m64\u001b[0m\u001b[1m]\u001b[0m, \u001b[1;36m12\u001b[0m\u001b[1m)\u001b[0m\n"
     ]
    }
   ],
   "source": [
    "import math\n",
    "from math import ceil, log\n",
    "\n",
    "u = 1.3\n",
    "fixed = [2, 4, 6, 8, 12]\n",
    "\n",
    "height = col.height\n",
    "max_domain = col.get_domain(0)\n",
    "\n",
    "# Start by applying the fixed domain values\n",
    "# If the fixed domain list goes higher than the domain of the attribute\n",
    "# use the fixed list values that are lower, and append the maximum value at the end \n",
    "new_domain = []\n",
    "for i, dom in enumerate(fixed):\n",
    "    if dom >= max_domain:\n",
    "        new_domain.append(max_domain)\n",
    "        break\n",
    "    else:\n",
    "        new_domain.append(dom)\n",
    "\n",
    "# If the fixed values don't go that high, continue by adding values that increase\n",
    "# by u, yielding log(max_domain, u) levels\n",
    "fixed_max_dom = fixed[-1]\n",
    "if fixed_max_dom < max_domain:\n",
    "    new_level_n = ceil(log(max_domain / fixed_max_dom, u))\n",
    "    \n",
    "    for i in range(1, new_level_n):\n",
    "        dom = ceil(fixed_max_dom) * u ** i\n",
    "        new_domain.append(int(dom))\n",
    "\n",
    "    new_domain.append(max_domain)\n",
    "\n",
    "new_domain, len(new_domain)"
   ]
  },
  {
   "cell_type": "code",
   "execution_count": null,
   "metadata": {},
   "outputs": [],
   "source": []
  }
 ],
 "metadata": {
  "language_info": {
   "codemirror_mode": {
    "name": "ipython",
    "version": 3
   },
   "file_extension": ".py",
   "mimetype": "text/x-python",
   "name": "python",
   "nbconvert_exporter": "python",
   "pygments_lexer": "ipython3",
   "version": "3.10.7"
  },
  "vscode": {
   "interpreter": {
    "hash": "97cc609b13305c559618ec78a438abc56230b9381f827f22d070313b9a1f3777"
   }
  }
 },
 "nbformat": 4,
 "nbformat_minor": 2
}
