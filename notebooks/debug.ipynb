{
 "cells": [
  {
   "cell_type": "code",
   "execution_count": null,
   "metadata": {},
   "outputs": [],
   "source": [
    "from pasteur.kedro.ipython import *\n",
    "register_kedro()"
   ]
  },
  {
   "cell_type": "code",
   "execution_count": null,
   "metadata": {},
   "outputs": [],
   "source": [
    "%load_ext autoreload\n",
    "%autoreload 2"
   ]
  },
  {
   "cell_type": "code",
   "execution_count": null,
   "metadata": {},
   "outputs": [],
   "source": [
    "from pasteur.transform.attribute import *"
   ]
  },
  {
   "cell_type": "code",
   "execution_count": null,
   "metadata": {},
   "outputs": [
    {
     "name": "stdout",
     "output_type": "stream",
     "text": [
      "\u001b[1m{\u001b[0m\u001b[32m'None'\u001b[0m, \u001b[32m'1'\u001b[0m, \u001b[1m[\u001b[0m\u001b[32m'1'\u001b[0m, \u001b[32m'2'\u001b[0m, \u001b[1m[\u001b[0m\u001b[32m'asbdasf'\u001b[0m, \u001b[32m'4'\u001b[0m\u001b[1m]\u001b[0m, \u001b[1m{\u001b[0m\u001b[32m'6'\u001b[0m, \u001b[32m'7'\u001b[0m\u001b[1m}\u001b[0m\u001b[1m]\u001b[0m\u001b[1m}\u001b[0m\n"
     ]
    }
   ],
   "source": [
    "a = NodeLevel.from_str(\"[1,2,[asbdasf,4],{6,7}]\", nullable=True, ukn_val=1)\n",
    "a"
   ]
  },
  {
   "cell_type": "code",
   "execution_count": null,
   "metadata": {},
   "outputs": [
    {
     "name": "stdout",
     "output_type": "stream",
     "text": [
      "\u001b[1;36m2\u001b[0m\n"
     ]
    }
   ],
   "source": [
    "a.height"
   ]
  },
  {
   "cell_type": "code",
   "execution_count": null,
   "metadata": {},
   "outputs": [
    {
     "name": "stdout",
     "output_type": "stream",
     "text": [
      "\u001b[1m[\u001b[0m\u001b[1;36m0\u001b[0m, \u001b[1;36m1\u001b[0m, \u001b[1;36m2\u001b[0m, \u001b[1;36m3\u001b[0m, \u001b[1m[\u001b[0m\u001b[1;36m4\u001b[0m, \u001b[1;36m5\u001b[0m\u001b[1m]\u001b[0m, \u001b[1m[\u001b[0m\u001b[1;36m6\u001b[0m, \u001b[1;36m7\u001b[0m\u001b[1m]\u001b[0m\u001b[1m]\u001b[0m\n"
     ]
    }
   ],
   "source": [
    "a.get_groups(1)"
   ]
  },
  {
   "cell_type": "code",
   "execution_count": null,
   "metadata": {},
   "outputs": [
    {
     "name": "stdout",
     "output_type": "stream",
     "text": [
      "\u001b[1;36m8\u001b[0m\n"
     ]
    }
   ],
   "source": [
    "a.size"
   ]
  },
  {
   "cell_type": "code",
   "execution_count": null,
   "metadata": {},
   "outputs": [
    {
     "name": "stdout",
     "output_type": "stream",
     "text": [
      "\u001b[1;35marray\u001b[0m\u001b[1m(\u001b[0m\u001b[1m[\u001b[0m\u001b[1;36m0\u001b[0m, \u001b[1;36m1\u001b[0m, \u001b[1;36m2\u001b[0m, \u001b[1;36m2\u001b[0m, \u001b[1;36m2\u001b[0m, \u001b[1;36m2\u001b[0m, \u001b[1;36m2\u001b[0m, \u001b[1;36m2\u001b[0m\u001b[1m]\u001b[0m, \u001b[33mdtype\u001b[0m=\u001b[35muint8\u001b[0m\u001b[1m)\u001b[0m\n"
     ]
    }
   ],
   "source": [
    "a.get_mapping(a.height)"
   ]
  },
  {
   "cell_type": "code",
   "execution_count": null,
   "metadata": {},
   "outputs": [
    {
     "name": "stdout",
     "output_type": "stream",
     "text": [
      "Attr\u001b[1m[\u001b[0m\u001b[33mna\u001b[0m=\u001b[1;36m0\u001b[0m,\u001b[33mukn\u001b[0m=\u001b[1;36m0\u001b[0m\u001b[1m]\u001b[0m\u001b[1m{\u001b[0m\u001b[32m'a'\u001b[0m: Idx\u001b[1m{\u001b[0m\u001b[32m'1'\u001b[0m, \u001b[32m'3'\u001b[0m, \u001b[32m'2'\u001b[0m, \u001b[32m'32'\u001b[0m\u001b[1m}\u001b[0m\u001b[1m}\u001b[0m\n"
     ]
    }
   ],
   "source": [
    "Attribute(\"tst\", {\"a\": IdxColumn(NodeLevel(\"cat\", [1,3,2,32]))})"
   ]
  },
  {
   "cell_type": "code",
   "execution_count": null,
   "metadata": {},
   "outputs": [
    {
     "name": "stdout",
     "output_type": "stream",
     "text": [
      "Attr\u001b[1m[\u001b[0m\u001b[33mna\u001b[0m=\u001b[1;36m1\u001b[0m,\u001b[33mukn\u001b[0m=\u001b[1;36m1\u001b[0m\u001b[1m]\u001b[0m\u001b[1m{\u001b[0m\u001b[32m'tst'\u001b[0m: Idx\u001b[1m{\u001b[0m\u001b[32m'None'\u001b[0m, \u001b[32m'abc'\u001b[0m, \u001b[32m'1'\u001b[0m, \u001b[32m'2'\u001b[0m, \u001b[32m'3'\u001b[0m, \u001b[32m'4'\u001b[0m, \u001b[32m'5'\u001b[0m, \u001b[32m'6'\u001b[0m\u001b[1m}\u001b[0m\u001b[1m}\u001b[0m\n"
     ]
    }
   ],
   "source": [
    "CatAttribute(\"tst\", [1,2,3,4,5,6], True, \"abc\")"
   ]
  },
  {
   "cell_type": "code",
   "execution_count": null,
   "metadata": {},
   "outputs": [
    {
     "name": "stdout",
     "output_type": "stream",
     "text": [
      "Attr\u001b[1m[\u001b[0m\u001b[33mna\u001b[0m=\u001b[1;36m1\u001b[0m,\u001b[33mukn\u001b[0m=\u001b[1;36m1\u001b[0m\u001b[1m]\u001b[0m\u001b[1m{\u001b[0m\u001b[32m'tst'\u001b[0m: Idx\u001b[1m{\u001b[0m\u001b[32m'None'\u001b[0m, \u001b[32m'abc'\u001b[0m, \u001b[1m[\u001b[0m\u001b[32m'1'\u001b[0m, \u001b[32m'2'\u001b[0m, \u001b[32m'3'\u001b[0m, \u001b[32m'4'\u001b[0m, \u001b[32m'5'\u001b[0m, \u001b[32m'6'\u001b[0m\u001b[1m]\u001b[0m\u001b[1m}\u001b[0m\u001b[1m}\u001b[0m\n"
     ]
    }
   ],
   "source": [
    "OrdAttribute(\"tst\", [1,2,3,4,5,6], True, \"abc\")"
   ]
  },
  {
   "cell_type": "code",
   "execution_count": null,
   "metadata": {},
   "outputs": [
    {
     "name": "stdout",
     "output_type": "stream",
     "text": [
      "Attr\u001b[1m[\u001b[0m\u001b[33mna\u001b[0m=\u001b[1;36m1\u001b[0m,\u001b[33mukn\u001b[0m=\u001b[1;36m0\u001b[0m\u001b[1m]\u001b[0m\u001b[1m{\u001b[0m\u001b[32m'tst'\u001b[0m: Num\u001b[1m[\u001b[0m\u001b[1;36m50\u001b[0m\u001b[1m]\u001b[0m\u001b[1m}\u001b[0m\n"
     ]
    }
   ],
   "source": [
    "NumAttribute(\"tst\", 50, True)"
   ]
  },
  {
   "cell_type": "code",
   "execution_count": null,
   "metadata": {},
   "outputs": [],
   "source": [
    "from pasteur.transform.base import TimeTransformer\n",
    "import pandas as pd"
   ]
  },
  {
   "cell_type": "code",
   "execution_count": null,
   "metadata": {},
   "outputs": [
    {
     "name": "stdout",
     "output_type": "stream",
     "text": [
      "\n",
      "\u001b[1;36m2\u001b[0m   \u001b[1;36m2000\u001b[0m-\u001b[1;36m01\u001b[0m-\u001b[1;36m01\u001b[0m \u001b[1;92m00:05:01\u001b[0m\n",
      "\u001b[1;36m3\u001b[0m   \u001b[1;36m2000\u001b[0m-\u001b[1;36m01\u001b[0m-\u001b[1;36m01\u001b[0m \u001b[1;92m01:06:02\u001b[0m\n",
      "\u001b[1;36m4\u001b[0m   \u001b[1;36m2000\u001b[0m-\u001b[1;36m01\u001b[0m-\u001b[1;36m01\u001b[0m \u001b[1;92m02:07:03\u001b[0m\n",
      "\u001b[1;36m5\u001b[0m   \u001b[1;36m2000\u001b[0m-\u001b[1;36m01\u001b[0m-\u001b[1;36m01\u001b[0m \u001b[1;92m03:30:30\u001b[0m\n",
      "\u001b[1;36m6\u001b[0m   \u001b[1;36m2000\u001b[0m-\u001b[1;36m01\u001b[0m-\u001b[1;36m01\u001b[0m \u001b[1;92m04:31:40\u001b[0m\n",
      "\u001b[1;36m7\u001b[0m                   NaT\n",
      "Name: tst, dtype: datetime64\u001b[1m[\u001b[0mns\u001b[1m]\u001b[0m\n"
     ]
    }
   ],
   "source": [
    "tst_dates = pd.to_datetime(\n",
    "    {\n",
    "        \"year\": 2000,\n",
    "        \"month\": 1,\n",
    "        \"day\": 1,\n",
    "        \"hour\": range(6),\n",
    "        \"minute\": [5, 6, 7, 30, 31, pd.NA],\n",
    "        \"second\": [1, 2, 3, 30, 40, pd.NA],\n",
    "    }\n",
    ")\n",
    "tst_dates.name = \"tst\"\n",
    "tst_dates.index = range(2,8)\n",
    "tst_dates\n"
   ]
  },
  {
   "cell_type": "code",
   "execution_count": null,
   "metadata": {},
   "outputs": [],
   "source": [
    "trn = TimeTransformer(\"halfminute\", nullable=True)\n",
    "trn.fit(tst_dates);"
   ]
  },
  {
   "cell_type": "code",
   "execution_count": null,
   "metadata": {},
   "outputs": [
    {
     "name": "stdout",
     "output_type": "stream",
     "text": [
      "\n",
      "   tst_time\n",
      "\u001b[1;36m2\u001b[0m        \u001b[1;36m11\u001b[0m\n",
      "\u001b[1;36m3\u001b[0m       \u001b[1;36m133\u001b[0m\n",
      "\u001b[1;36m4\u001b[0m       \u001b[1;36m255\u001b[0m\n",
      "\u001b[1;36m5\u001b[0m       \u001b[1;36m422\u001b[0m\n",
      "\u001b[1;36m6\u001b[0m       \u001b[1;36m544\u001b[0m\n",
      "\u001b[1;36m7\u001b[0m         \u001b[1;36m0\u001b[0m\n"
     ]
    },
    {
     "data": {
      "text/html": [
       "<div>\n",
       "<style scoped>\n",
       "    .dataframe tbody tr th:only-of-type {\n",
       "        vertical-align: middle;\n",
       "    }\n",
       "\n",
       "    .dataframe tbody tr th {\n",
       "        vertical-align: top;\n",
       "    }\n",
       "\n",
       "    .dataframe thead th {\n",
       "        text-align: right;\n",
       "    }\n",
       "</style>\n",
       "<table border=\"1\" class=\"dataframe\">\n",
       "  <thead>\n",
       "    <tr style=\"text-align: right;\">\n",
       "      <th></th>\n",
       "      <th>tst_time</th>\n",
       "    </tr>\n",
       "  </thead>\n",
       "  <tbody>\n",
       "    <tr>\n",
       "      <th>2</th>\n",
       "      <td>11</td>\n",
       "    </tr>\n",
       "    <tr>\n",
       "      <th>3</th>\n",
       "      <td>133</td>\n",
       "    </tr>\n",
       "    <tr>\n",
       "      <th>4</th>\n",
       "      <td>255</td>\n",
       "    </tr>\n",
       "    <tr>\n",
       "      <th>5</th>\n",
       "      <td>422</td>\n",
       "    </tr>\n",
       "    <tr>\n",
       "      <th>6</th>\n",
       "      <td>544</td>\n",
       "    </tr>\n",
       "    <tr>\n",
       "      <th>7</th>\n",
       "      <td>0</td>\n",
       "    </tr>\n",
       "  </tbody>\n",
       "</table>\n",
       "</div>"
      ]
     },
     "execution_count": null,
     "metadata": {},
     "output_type": "execute_result"
    }
   ],
   "source": [
    "enc = trn.transform(tst_dates)\n",
    "enc"
   ]
  },
  {
   "cell_type": "code",
   "execution_count": null,
   "metadata": {},
   "outputs": [],
   "source": [
    "mp = next(iter(trn.attr.cols.values())).get_human_values()"
   ]
  },
  {
   "cell_type": "code",
   "execution_count": null,
   "metadata": {},
   "outputs": [
    {
     "name": "stdout",
     "output_type": "stream",
     "text": [
      "\n",
      "\u001b[1;36m11\u001b[0m     \u001b[1;92m00:05:00\u001b[0m\n",
      "\u001b[1;36m133\u001b[0m    \u001b[1;92m01:06:00\u001b[0m\n",
      "\u001b[1;36m255\u001b[0m    \u001b[1;92m02:07:00\u001b[0m\n",
      "\u001b[1;36m422\u001b[0m    \u001b[1;92m03:30:30\u001b[0m\n",
      "\u001b[1;36m544\u001b[0m    \u001b[1;92m04:31:30\u001b[0m\n",
      "\u001b[1;36m0\u001b[0m          \u001b[3;35mNone\u001b[0m\n",
      "dtype: object\n"
     ]
    }
   ],
   "source": [
    "pd.Series(mp)[enc[\"tst_time\"]]"
   ]
  },
  {
   "cell_type": "code",
   "execution_count": null,
   "metadata": {},
   "outputs": [
    {
     "name": "stdout",
     "output_type": "stream",
     "text": [
      "\n",
      "\u001b[1;36m2\u001b[0m   \u001b[1;36m2000\u001b[0m-\u001b[1;36m01\u001b[0m-\u001b[1;36m01\u001b[0m \u001b[1;92m00:05:00\u001b[0m\n",
      "\u001b[1;36m3\u001b[0m   \u001b[1;36m2000\u001b[0m-\u001b[1;36m01\u001b[0m-\u001b[1;36m01\u001b[0m \u001b[1;92m01:06:00\u001b[0m\n",
      "\u001b[1;36m4\u001b[0m   \u001b[1;36m2000\u001b[0m-\u001b[1;36m01\u001b[0m-\u001b[1;36m01\u001b[0m \u001b[1;92m02:07:00\u001b[0m\n",
      "\u001b[1;36m5\u001b[0m   \u001b[1;36m2000\u001b[0m-\u001b[1;36m01\u001b[0m-\u001b[1;36m01\u001b[0m \u001b[1;92m03:30:30\u001b[0m\n",
      "\u001b[1;36m6\u001b[0m   \u001b[1;36m2000\u001b[0m-\u001b[1;36m01\u001b[0m-\u001b[1;36m01\u001b[0m \u001b[1;92m04:31:30\u001b[0m\n",
      "\u001b[1;36m7\u001b[0m                   NaT\n",
      "Name: tst, dtype: datetime64\u001b[1m[\u001b[0mns\u001b[1m]\u001b[0m\n"
     ]
    }
   ],
   "source": [
    "trn.reverse(enc)"
   ]
  },
  {
   "cell_type": "code",
   "execution_count": null,
   "metadata": {},
   "outputs": [
    {
     "name": "stdout",
     "output_type": "stream",
     "text": [
      "\n",
      "\u001b[1;36m2\u001b[0m   NaT\n",
      "\u001b[1;36m3\u001b[0m   NaT\n",
      "\u001b[1;36m4\u001b[0m   NaT\n",
      "\u001b[1;36m5\u001b[0m   NaT\n",
      "\u001b[1;36m6\u001b[0m   NaT\n",
      "\u001b[1;36m7\u001b[0m   NaT\n",
      "dtype: datetime64\u001b[1m[\u001b[0mns\u001b[1m]\u001b[0m\n"
     ]
    }
   ],
   "source": [
    "pd.Series(pd.NaT, index=enc.index)"
   ]
  },
  {
   "cell_type": "code",
   "execution_count": null,
   "metadata": {},
   "outputs": [],
   "source": [
    "from pasteur.transform.base import DatetimeTransformer, DateTransformer"
   ]
  },
  {
   "cell_type": "code",
   "execution_count": null,
   "metadata": {},
   "outputs": [],
   "source": [
    "trn = DatetimeTransformer(nullable=True)\n",
    "trn.fit(tst_dates);"
   ]
  },
  {
   "cell_type": "code",
   "execution_count": null,
   "metadata": {},
   "outputs": [
    {
     "name": "stdout",
     "output_type": "stream",
     "text": [
      "\n",
      "   tst_year  tst_week  tst_day  tst_time\n",
      "\u001b[1;36m2\u001b[0m       \u001b[1;36m0.0\u001b[0m        \u001b[1;36m52\u001b[0m        \u001b[1;36m6\u001b[0m         \u001b[1;36m1\u001b[0m\n",
      "\u001b[1;36m3\u001b[0m       \u001b[1;36m0.0\u001b[0m        \u001b[1;36m52\u001b[0m        \u001b[1;36m6\u001b[0m         \u001b[1;36m3\u001b[0m\n",
      "\u001b[1;36m4\u001b[0m       \u001b[1;36m0.0\u001b[0m        \u001b[1;36m52\u001b[0m        \u001b[1;36m6\u001b[0m         \u001b[1;36m5\u001b[0m\n",
      "\u001b[1;36m5\u001b[0m       \u001b[1;36m0.0\u001b[0m        \u001b[1;36m52\u001b[0m        \u001b[1;36m6\u001b[0m         \u001b[1;36m8\u001b[0m\n",
      "\u001b[1;36m6\u001b[0m       \u001b[1;36m0.0\u001b[0m        \u001b[1;36m52\u001b[0m        \u001b[1;36m6\u001b[0m        \u001b[1;36m10\u001b[0m\n",
      "\u001b[1;36m7\u001b[0m       NaN         \u001b[1;36m0\u001b[0m        \u001b[1;36m0\u001b[0m         \u001b[1;36m0\u001b[0m\n"
     ]
    },
    {
     "data": {
      "text/html": [
       "<div>\n",
       "<style scoped>\n",
       "    .dataframe tbody tr th:only-of-type {\n",
       "        vertical-align: middle;\n",
       "    }\n",
       "\n",
       "    .dataframe tbody tr th {\n",
       "        vertical-align: top;\n",
       "    }\n",
       "\n",
       "    .dataframe thead th {\n",
       "        text-align: right;\n",
       "    }\n",
       "</style>\n",
       "<table border=\"1\" class=\"dataframe\">\n",
       "  <thead>\n",
       "    <tr style=\"text-align: right;\">\n",
       "      <th></th>\n",
       "      <th>tst_year</th>\n",
       "      <th>tst_week</th>\n",
       "      <th>tst_day</th>\n",
       "      <th>tst_time</th>\n",
       "    </tr>\n",
       "  </thead>\n",
       "  <tbody>\n",
       "    <tr>\n",
       "      <th>2</th>\n",
       "      <td>0.0</td>\n",
       "      <td>52</td>\n",
       "      <td>6</td>\n",
       "      <td>1</td>\n",
       "    </tr>\n",
       "    <tr>\n",
       "      <th>3</th>\n",
       "      <td>0.0</td>\n",
       "      <td>52</td>\n",
       "      <td>6</td>\n",
       "      <td>3</td>\n",
       "    </tr>\n",
       "    <tr>\n",
       "      <th>4</th>\n",
       "      <td>0.0</td>\n",
       "      <td>52</td>\n",
       "      <td>6</td>\n",
       "      <td>5</td>\n",
       "    </tr>\n",
       "    <tr>\n",
       "      <th>5</th>\n",
       "      <td>0.0</td>\n",
       "      <td>52</td>\n",
       "      <td>6</td>\n",
       "      <td>8</td>\n",
       "    </tr>\n",
       "    <tr>\n",
       "      <th>6</th>\n",
       "      <td>0.0</td>\n",
       "      <td>52</td>\n",
       "      <td>6</td>\n",
       "      <td>10</td>\n",
       "    </tr>\n",
       "    <tr>\n",
       "      <th>7</th>\n",
       "      <td>NaN</td>\n",
       "      <td>0</td>\n",
       "      <td>0</td>\n",
       "      <td>0</td>\n",
       "    </tr>\n",
       "  </tbody>\n",
       "</table>\n",
       "</div>"
      ]
     },
     "execution_count": null,
     "metadata": {},
     "output_type": "execute_result"
    }
   ],
   "source": [
    "enc = trn.transform(tst_dates)\n",
    "enc"
   ]
  },
  {
   "cell_type": "code",
   "execution_count": null,
   "metadata": {},
   "outputs": [
    {
     "name": "stdout",
     "output_type": "stream",
     "text": [
      "\n",
      "\u001b[1;36m2\u001b[0m   \u001b[1;36m2000\u001b[0m-\u001b[1;36m01\u001b[0m-\u001b[1;36m01\u001b[0m \u001b[1;92m00:00:00\u001b[0m\n",
      "\u001b[1;36m3\u001b[0m   \u001b[1;36m2000\u001b[0m-\u001b[1;36m01\u001b[0m-\u001b[1;36m01\u001b[0m \u001b[1;92m01:00:00\u001b[0m\n",
      "\u001b[1;36m4\u001b[0m   \u001b[1;36m2000\u001b[0m-\u001b[1;36m01\u001b[0m-\u001b[1;36m01\u001b[0m \u001b[1;92m02:00:00\u001b[0m\n",
      "\u001b[1;36m5\u001b[0m   \u001b[1;36m2000\u001b[0m-\u001b[1;36m01\u001b[0m-\u001b[1;36m01\u001b[0m \u001b[1;92m03:30:00\u001b[0m\n",
      "\u001b[1;36m6\u001b[0m   \u001b[1;36m2000\u001b[0m-\u001b[1;36m01\u001b[0m-\u001b[1;36m01\u001b[0m \u001b[1;92m04:30:00\u001b[0m\n",
      "\u001b[1;36m7\u001b[0m                   NaT\n",
      "Name: tst, dtype: datetime64\u001b[1m[\u001b[0mns\u001b[1m]\u001b[0m\n"
     ]
    }
   ],
   "source": [
    "trn.reverse(enc)"
   ]
  },
  {
   "cell_type": "code",
   "execution_count": null,
   "metadata": {},
   "outputs": [],
   "source": []
  }
 ],
 "metadata": {
  "language_info": {
   "codemirror_mode": {
    "name": "ipython",
    "version": 3
   },
   "file_extension": ".py",
   "mimetype": "text/x-python",
   "name": "python",
   "nbconvert_exporter": "python",
   "pygments_lexer": "ipython3",
   "version": "3.10.6"
  },
  "vscode": {
   "interpreter": {
    "hash": "97cc609b13305c559618ec78a438abc56230b9381f827f22d070313b9a1f3777"
   }
  }
 },
 "nbformat": 4,
 "nbformat_minor": 2
}
