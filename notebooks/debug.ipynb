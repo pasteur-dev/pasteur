{
 "cells": [
  {
   "cell_type": "code",
   "execution_count": null,
   "metadata": {},
   "outputs": [],
   "source": [
    "from pasteur.kedro.ipython import *\n",
    "register_kedro()"
   ]
  },
  {
   "cell_type": "code",
   "execution_count": null,
   "metadata": {},
   "outputs": [
    {
     "name": "stdout",
     "output_type": "stream",
     "text": [
      "\u001b[2;36m[08/11/22 02:56:12]\u001b[0m\u001b[2;36m \u001b[0m\u001b[34mINFO    \u001b[0m tst                                                                                                                                      \u001b[2m755717273.py\u001b[0m\u001b[2m:\u001b[0m\u001b[2m2\u001b[0m\n"
     ]
    }
   ],
   "source": [
    "import logging\n",
    "logging.root.info(\"tst\")\n",
    "\n",
    "next(iter(logging.root.handlers)).console.__dict__;"
   ]
  },
  {
   "cell_type": "code",
   "execution_count": null,
   "metadata": {},
   "outputs": [
    {
     "name": "stdout",
     "output_type": "stream",
     "text": [
      "\u001b[2;36m[08/11/22 02:56:13]\u001b[0m\u001b[2;36m \u001b[0m\u001b[34mINFO    \u001b[0m Executing pipeline tab_adult.ingest with overrides `\u001b[33mtst\u001b[0m=\u001b[1;36m5\u001b[0m`                                                                                \u001b[2mrunner.py\u001b[0m\u001b[2m:\u001b[0m\u001b[2m108\u001b[0m\n",
      "\u001b[2;36m                   \u001b[0m\u001b[2;36m \u001b[0m\u001b[34mINFO    \u001b[0m Completed node  \u001b[1;36m1\u001b[0m/\u001b[1;36m10\u001b[0m: adult.ingest_table                                                                                                  \u001b[2mrunner.py\u001b[0m\u001b[2m:\u001b[0m\u001b[2m134\u001b[0m\n",
      "\u001b[2;36m                   \u001b[0m\u001b[2;36m \u001b[0m\u001b[34mINFO    \u001b[0m Completed node  \u001b[1;36m2\u001b[0m/\u001b[1;36m10\u001b[0m: tab_adult.gen_keys                                                                                                  \u001b[2mrunner.py\u001b[0m\u001b[2m:\u001b[0m\u001b[2m134\u001b[0m\n",
      "\u001b[2;36m                   \u001b[0m\u001b[2;36m \u001b[0m\u001b[34mINFO    \u001b[0m Completed node  \u001b[1;36m3\u001b[0m/\u001b[1;36m10\u001b[0m: tab_adult.ingest_table                                                                                              \u001b[2mrunner.py\u001b[0m\u001b[2m:\u001b[0m\u001b[2m134\u001b[0m\n",
      "\u001b[2;36m                   \u001b[0m\u001b[2;36m \u001b[0m\u001b[34mINFO    \u001b[0m Completed node  \u001b[1;36m4\u001b[0m/\u001b[1;36m10\u001b[0m: tab_adult.filter                                                                                                    \u001b[2mrunner.py\u001b[0m\u001b[2m:\u001b[0m\u001b[2m134\u001b[0m\n",
      "\u001b[2;36m                   \u001b[0m\u001b[2;36m \u001b[0m\u001b[34mINFO    \u001b[0m Completed node  \u001b[1;36m5\u001b[0m/\u001b[1;36m10\u001b[0m: tab_adult.filter                                                                                                    \u001b[2mrunner.py\u001b[0m\u001b[2m:\u001b[0m\u001b[2m134\u001b[0m\n",
      "\u001b[2;36m                   \u001b[0m\u001b[2;36m \u001b[0m\u001b[34mINFO    \u001b[0m Completed node  \u001b[1;36m6\u001b[0m/\u001b[1;36m10\u001b[0m: tab_adult.filter                                                                                                    \u001b[2mrunner.py\u001b[0m\u001b[2m:\u001b[0m\u001b[2m134\u001b[0m\n",
      "\u001b[2;36m                   \u001b[0m\u001b[2;36m \u001b[0m\u001b[34mINFO    \u001b[0m Completed node  \u001b[1;36m7\u001b[0m/\u001b[1;36m10\u001b[0m: tab_adult.filter                                                                                                    \u001b[2mrunner.py\u001b[0m\u001b[2m:\u001b[0m\u001b[2m134\u001b[0m\n",
      "\u001b[2;36m                   \u001b[0m\u001b[2;36m \u001b[0m\u001b[34mINFO    \u001b[0m Completed node  \u001b[1;36m8\u001b[0m/\u001b[1;36m10\u001b[0m: tab_adult.wrk.fit_table                                                                                             \u001b[2mrunner.py\u001b[0m\u001b[2m:\u001b[0m\u001b[2m134\u001b[0m\n",
      "\u001b[2;36m                   \u001b[0m\u001b[2;36m \u001b[0m\u001b[34mINFO    \u001b[0m Completed node  \u001b[1;36m9\u001b[0m/\u001b[1;36m10\u001b[0m: tab_adult.wrk.find_ids                                                                                              \u001b[2mrunner.py\u001b[0m\u001b[2m:\u001b[0m\u001b[2m134\u001b[0m\n",
      "\u001b[2;36m                   \u001b[0m\u001b[2;36m \u001b[0m\u001b[34mINFO    \u001b[0m Completed node \u001b[1;36m10\u001b[0m/\u001b[1;36m10\u001b[0m: tab_adult.wrk.transform_table                                                                                       \u001b[2mrunner.py\u001b[0m\u001b[2m:\u001b[0m\u001b[2m134\u001b[0m\n",
      "\u001b[2;36m[08/11/22 02:56:14]\u001b[0m\u001b[2;36m \u001b[0m\u001b[34mINFO    \u001b[0m Executing pipeline tab_adult.privbayes.synth with overrides `alg.\u001b[33me1\u001b[0m=\u001b[1;36m0\u001b[0m\u001b[1;36m.3\u001b[0m`                                                                  \u001b[2mrunner.py\u001b[0m\u001b[2m:\u001b[0m\u001b[2m108\u001b[0m\n",
      "\u001b[2;36m                   \u001b[0m\u001b[2;36m \u001b[0m\u001b[31mWARNING \u001b[0m Current variable domain implementation \u001b[1m(\u001b[0mrequired by \u001b[1m[\u001b[0m\u001b[32m'age'\u001b[0m, \u001b[32m'fnlwgt'\u001b[0m, \u001b[32m'education-num'\u001b[0m, \u001b[32m'capital-gain'\u001b[0m, \u001b[32m'capital-loss'\u001b[0m,                 \u001b[2mprivbayes.py\u001b[0m\u001b[2m:\u001b[0m\u001b[2m584\u001b[0m\n",
      "\u001b[2;36m                    \u001b[0m         \u001b[32m'hours-per-week'\u001b[0m\u001b[1m]\u001b[0m\u001b[1m)\u001b[0m technically violates DP \u001b[1m(\u001b[0mto be fixed\u001b[1m)\u001b[0m.                                                                              \u001b[2m                \u001b[0m\n"
     ]
    },
    {
     "name": "stderr",
     "output_type": "stream",
     "text": [
      "                    >>>>>>>  Finding Nodes: 100%|\u001b[34m##################################################################################################\u001b[0m| 13/13 [00:00<00:00, 102.10it/s]\u001b[0m"
     ]
    },
    {
     "name": "stdout",
     "output_type": "stream",
     "text": [
      "\u001b[2;36m                   \u001b[0m\u001b[2;36m \u001b[0m\u001b[34mINFO    \u001b[0m Bayesian Network Tree:                                                                                                                 \u001b[2mprivbayes.py\u001b[0m\u001b[2m:\u001b[0m\u001b[2m616\u001b[0m\n",
      "\u001b[2;36m                    \u001b[0m         \u001b[1m(\u001b[0mPrivBayes \u001b[33me1\u001b[0m=\u001b[1;36m0\u001b[0m\u001b[1;36m.50\u001b[0m, \u001b[33me2\u001b[0m=\u001b[1;36m1\u001b[0m\u001b[1;36m.60\u001b[0m, \u001b[33mtheta\u001b[0m=\u001b[1;36m2\u001b[0m\u001b[1;36m.00\u001b[0m, available \u001b[33mt\u001b[0m=\u001b[1;36m372\u001b[0m\u001b[1;36m.11\u001b[0m\u001b[1m)\u001b[0m                                                                           \u001b[2m                \u001b[0m\n",
      "\u001b[2;36m                    \u001b[0m         ┌─────────────────────┬─────┬──────────┬──────────────────────────────────────────────────────────────────────┐                        \u001b[2m                \u001b[0m\n",
      "\u001b[2;36m                    \u001b[0m         │           Attribute │ Dom │ Avail. t │                                                                      │                        \u001b[2m                \u001b[0m\n",
      "\u001b[2;36m                    \u001b[0m         ├─────────────────────┼─────┼──────────┼──────────────────────────────────────────────────────────────────────┤                        \u001b[2m                \u001b[0m\n",
      "\u001b[2;36m                    \u001b[0m         │                 age │  \u001b[1;36m32\u001b[0m │    \u001b[1;36m11.63\u001b[0m │                                                                      │                        \u001b[2m                \u001b[0m\n",
      "\u001b[2;36m                    \u001b[0m         │      marital-status │   \u001b[1;36m7\u001b[0m │    \u001b[1;36m53.16\u001b[0m │            age.\u001b[1;36m0\u001b[0m                                                     │                        \u001b[2m                \u001b[0m\n",
      "\u001b[2;36m                    \u001b[0m         │        relationship │   \u001b[1;36m6\u001b[0m │    \u001b[1;36m62.02\u001b[0m │            age.\u001b[1;36m2\u001b[0m marital-status.\u001b[1;36m0\u001b[0m                                    │                        \u001b[2m                \u001b[0m\n",
      "\u001b[2;36m                    \u001b[0m         │                 sex │   \u001b[1;36m2\u001b[0m │   \u001b[1;36m186.06\u001b[0m │            age.\u001b[1;36m3\u001b[0m marital-status.\u001b[1;36m0\u001b[0m   relationship.\u001b[1;36m0\u001b[0m                   │                        \u001b[2m                \u001b[0m\n",
      "\u001b[2;36m                    \u001b[0m         │          occupation │  \u001b[1;36m15\u001b[0m │    \u001b[1;36m24.81\u001b[0m │            age.\u001b[1;36m4\u001b[0m   relationship.\u001b[1;36m0\u001b[0m            sex.\u001b[1;36m0\u001b[0m                   │                        \u001b[2m                \u001b[0m\n",
      "\u001b[2;36m                    \u001b[0m         │           education │  \u001b[1;36m16\u001b[0m │    \u001b[1;36m23.26\u001b[0m │     occupation.\u001b[1;36m0\u001b[0m                                                     │                        \u001b[2m                \u001b[0m\n",
      "\u001b[2;36m                    \u001b[0m         │       education-num │  \u001b[1;36m16\u001b[0m │    \u001b[1;36m23.26\u001b[0m │      education.\u001b[1;36m0\u001b[0m                                                     │                        \u001b[2m                \u001b[0m\n",
      "\u001b[2;36m                    \u001b[0m         │           workclass │   \u001b[1;36m9\u001b[0m │    \u001b[1;36m41.35\u001b[0m │            age.\u001b[1;36m4\u001b[0m  education-num.\u001b[1;36m4\u001b[0m     occupation.\u001b[1;36m0\u001b[0m                   │                        \u001b[2m                \u001b[0m\n",
      "\u001b[2;36m                    \u001b[0m         │      hours-per-week │  \u001b[1;36m32\u001b[0m │    \u001b[1;36m11.63\u001b[0m │            age.\u001b[1;36m3\u001b[0m  education-num.\u001b[1;36m4\u001b[0m            sex.\u001b[1;36m0\u001b[0m                   │                        \u001b[2m                \u001b[0m\n",
      "\u001b[2;36m                    \u001b[0m         │                race │   \u001b[1;36m5\u001b[0m │    \u001b[1;36m74.42\u001b[0m │            age.\u001b[1;36m4\u001b[0m  education-num.\u001b[1;36m2\u001b[0m hours-per-week.\u001b[1;36m3\u001b[0m            sex.\u001b[1;36m0\u001b[0m  │                        \u001b[2m                \u001b[0m\n",
      "\u001b[2;36m                    \u001b[0m         │        capital-gain │  \u001b[1;36m16\u001b[0m │    \u001b[1;36m23.26\u001b[0m │  education-num.\u001b[1;36m3\u001b[0m   relationship.\u001b[1;36m0\u001b[0m                                    │                        \u001b[2m                \u001b[0m\n",
      "\u001b[2;36m                    \u001b[0m         │      native-country │  \u001b[1;36m42\u001b[0m │     \u001b[1;36m8.86\u001b[0m │  education-num.\u001b[1;36m3\u001b[0m   capital-gain.\u001b[1;36m3\u001b[0m hours-per-week.\u001b[1;36m4\u001b[0m                   │                        \u001b[2m                \u001b[0m\n",
      "\u001b[2;36m                    \u001b[0m         │              fnlwgt │  \u001b[1;36m32\u001b[0m │    \u001b[1;36m11.63\u001b[0m │            age.\u001b[1;36m3\u001b[0m  education-num.\u001b[1;36m4\u001b[0m   capital-gain.\u001b[1;36m4\u001b[0m hours-per-week.\u001b[1;36m4\u001b[0m  │                        \u001b[2m                \u001b[0m\n",
      "\u001b[2;36m                    \u001b[0m         │        capital-loss │  \u001b[1;36m32\u001b[0m │    \u001b[1;36m11.63\u001b[0m │  education-num.\u001b[1;36m4\u001b[0m   capital-gain.\u001b[1;36m4\u001b[0m marital-status.\u001b[1;36m0\u001b[0m                   │                        \u001b[2m                \u001b[0m\n",
      "\u001b[2;36m                    \u001b[0m         └─────────────────────┴─────┴──────────┴──────────────────────────────────────────────────────────────────────┘                        \u001b[2m                \u001b[0m\n",
      "\u001b[2;36m                   \u001b[0m\u001b[2;36m \u001b[0m\u001b[34mINFO    \u001b[0m Deterministic check: random number after    \u001b[1;35mPrivBayesSynth.bake\u001b[0m\u001b[1m(\u001b[0m\u001b[1m)\u001b[0m: \u001b[1m<\u001b[0m\u001b[1;95mnp.random\u001b[0m\u001b[1m>\u001b[0m \u001b[1;36m0.81059\u001b[0m \u001b[1m<\u001b[0m\u001b[1;95mrandom\u001b[0m\u001b[1m>\u001b[0m \u001b[1;36m0.14817\u001b[0m                                      \u001b[2mbase.py\u001b[0m\u001b[2m:\u001b[0m\u001b[2m29\u001b[0m\n",
      "\u001b[2;36m                   \u001b[0m\u001b[2;36m \u001b[0m\u001b[34mINFO    \u001b[0m Deterministic check: random number after     \u001b[1;35mPrivBayesSynth.fit\u001b[0m\u001b[1m(\u001b[0m\u001b[1m)\u001b[0m: \u001b[1m<\u001b[0m\u001b[1;95mnp.random\u001b[0m\u001b[1m>\u001b[0m \u001b[1;36m0.79007\u001b[0m \u001b[1m<\u001b[0m\u001b[1;95mrandom\u001b[0m\u001b[1m>\u001b[0m \u001b[1;36m0.14817\u001b[0m                                      \u001b[2mbase.py\u001b[0m\u001b[2m:\u001b[0m\u001b[2m29\u001b[0m\n",
      "\u001b[2;36m                   \u001b[0m\u001b[2;36m \u001b[0m\u001b[34mINFO    \u001b[0m Completed node  \u001b[1;36m1\u001b[0m/ \u001b[1;36m3\u001b[0m: tab_adult.privbayes.fit                                                                                             \u001b[2mrunner.py\u001b[0m\u001b[2m:\u001b[0m\u001b[2m134\u001b[0m\n"
     ]
    },
    {
     "name": "stderr",
     "output_type": "stream",
     "text": [
      "\n"
     ]
    },
    {
     "name": "stdout",
     "output_type": "stream",
     "text": [
      "\u001b[2;36m                   \u001b[0m\u001b[2;36m \u001b[0m\u001b[34mINFO    \u001b[0m Deterministic check: random number after  \u001b[1;35mPrivBayesSynth.sample\u001b[0m\u001b[1m(\u001b[0m\u001b[1m)\u001b[0m: \u001b[1m<\u001b[0m\u001b[1;95mnp.random\u001b[0m\u001b[1m>\u001b[0m \u001b[1;36m0.66804\u001b[0m \u001b[1m<\u001b[0m\u001b[1;95mrandom\u001b[0m\u001b[1m>\u001b[0m \u001b[1;36m0.14817\u001b[0m                                      \u001b[2mbase.py\u001b[0m\u001b[2m:\u001b[0m\u001b[2m29\u001b[0m\n",
      "\u001b[2;36m                   \u001b[0m\u001b[2;36m \u001b[0m\u001b[34mINFO    \u001b[0m Completed node  \u001b[1;36m2\u001b[0m/ \u001b[1;36m3\u001b[0m: tab_adult.privbayes.synth_sample                                                                                    \u001b[2mrunner.py\u001b[0m\u001b[2m:\u001b[0m\u001b[2m134\u001b[0m\n",
      "\u001b[2;36m                   \u001b[0m\u001b[2;36m \u001b[0m\u001b[34mINFO    \u001b[0m Completed node  \u001b[1;36m3\u001b[0m/ \u001b[1;36m3\u001b[0m: tab_adult.privbayes.reverse_table                                                                                   \u001b[2mrunner.py\u001b[0m\u001b[2m:\u001b[0m\u001b[2m134\u001b[0m\n",
      "\u001b[2;36m[08/11/22 02:56:15]\u001b[0m\u001b[2;36m \u001b[0m\u001b[34mINFO    \u001b[0m Executing pipeline tab_adult.privbayes.synth with overrides `alg.\u001b[33me1\u001b[0m=\u001b[1;36m0\u001b[0m\u001b[1;36m.5\u001b[0m`                                                                  \u001b[2mrunner.py\u001b[0m\u001b[2m:\u001b[0m\u001b[2m108\u001b[0m\n",
      "\u001b[2;36m                   \u001b[0m\u001b[2;36m \u001b[0m\u001b[31mWARNING \u001b[0m Current variable domain implementation \u001b[1m(\u001b[0mrequired by \u001b[1m[\u001b[0m\u001b[32m'age'\u001b[0m, \u001b[32m'fnlwgt'\u001b[0m, \u001b[32m'education-num'\u001b[0m, \u001b[32m'capital-gain'\u001b[0m, \u001b[32m'capital-loss'\u001b[0m,                 \u001b[2mprivbayes.py\u001b[0m\u001b[2m:\u001b[0m\u001b[2m584\u001b[0m\n",
      "\u001b[2;36m                    \u001b[0m         \u001b[32m'hours-per-week'\u001b[0m\u001b[1m]\u001b[0m\u001b[1m)\u001b[0m technically violates DP \u001b[1m(\u001b[0mto be fixed\u001b[1m)\u001b[0m.                                                                              \u001b[2m                \u001b[0m\n"
     ]
    },
    {
     "name": "stderr",
     "output_type": "stream",
     "text": [
      "                    >>>>>>>  Finding Nodes: 100%|\u001b[34m###################################################################################################\u001b[0m| 13/13 [00:00<00:00, 94.11it/s]\u001b[0m"
     ]
    },
    {
     "name": "stdout",
     "output_type": "stream",
     "text": [
      "\u001b[2;36m                   \u001b[0m\u001b[2;36m \u001b[0m\u001b[34mINFO    \u001b[0m Bayesian Network Tree:                                                                                                                 \u001b[2mprivbayes.py\u001b[0m\u001b[2m:\u001b[0m\u001b[2m616\u001b[0m\n",
      "\u001b[2;36m                    \u001b[0m         \u001b[1m(\u001b[0mPrivBayes \u001b[33me1\u001b[0m=\u001b[1;36m0\u001b[0m\u001b[1;36m.50\u001b[0m, \u001b[33me2\u001b[0m=\u001b[1;36m1\u001b[0m\u001b[1;36m.60\u001b[0m, \u001b[33mtheta\u001b[0m=\u001b[1;36m2\u001b[0m\u001b[1;36m.00\u001b[0m, available \u001b[33mt\u001b[0m=\u001b[1;36m372\u001b[0m\u001b[1;36m.11\u001b[0m\u001b[1m)\u001b[0m                                                                           \u001b[2m                \u001b[0m\n",
      "\u001b[2;36m                    \u001b[0m         ┌─────────────────────┬─────┬──────────┬──────────────────────────────────────────────────────────────────────┐                        \u001b[2m                \u001b[0m\n",
      "\u001b[2;36m                    \u001b[0m         │           Attribute │ Dom │ Avail. t │                                                                      │                        \u001b[2m                \u001b[0m\n",
      "\u001b[2;36m                    \u001b[0m         ├─────────────────────┼─────┼──────────┼──────────────────────────────────────────────────────────────────────┤                        \u001b[2m                \u001b[0m\n",
      "\u001b[2;36m                    \u001b[0m         │                 age │  \u001b[1;36m32\u001b[0m │    \u001b[1;36m11.63\u001b[0m │                                                                      │                        \u001b[2m                \u001b[0m\n",
      "\u001b[2;36m                    \u001b[0m         │      marital-status │   \u001b[1;36m7\u001b[0m │    \u001b[1;36m53.16\u001b[0m │            age.\u001b[1;36m0\u001b[0m                                                     │                        \u001b[2m                \u001b[0m\n",
      "\u001b[2;36m                    \u001b[0m         │        relationship │   \u001b[1;36m6\u001b[0m │    \u001b[1;36m62.02\u001b[0m │            age.\u001b[1;36m2\u001b[0m marital-status.\u001b[1;36m0\u001b[0m                                    │                        \u001b[2m                \u001b[0m\n",
      "\u001b[2;36m                    \u001b[0m         │                 sex │   \u001b[1;36m2\u001b[0m │   \u001b[1;36m186.06\u001b[0m │            age.\u001b[1;36m3\u001b[0m marital-status.\u001b[1;36m0\u001b[0m   relationship.\u001b[1;36m0\u001b[0m                   │                        \u001b[2m                \u001b[0m\n",
      "\u001b[2;36m                    \u001b[0m         │          occupation │  \u001b[1;36m15\u001b[0m │    \u001b[1;36m24.81\u001b[0m │            age.\u001b[1;36m4\u001b[0m   relationship.\u001b[1;36m0\u001b[0m            sex.\u001b[1;36m0\u001b[0m                   │                        \u001b[2m                \u001b[0m\n",
      "\u001b[2;36m                    \u001b[0m         │           education │  \u001b[1;36m16\u001b[0m │    \u001b[1;36m23.26\u001b[0m │     occupation.\u001b[1;36m0\u001b[0m                                                     │                        \u001b[2m                \u001b[0m\n",
      "\u001b[2;36m                    \u001b[0m         │       education-num │  \u001b[1;36m16\u001b[0m │    \u001b[1;36m23.26\u001b[0m │      education.\u001b[1;36m0\u001b[0m                                                     │                        \u001b[2m                \u001b[0m\n",
      "\u001b[2;36m                    \u001b[0m         │           workclass │   \u001b[1;36m9\u001b[0m │    \u001b[1;36m41.35\u001b[0m │            age.\u001b[1;36m4\u001b[0m  education-num.\u001b[1;36m4\u001b[0m     occupation.\u001b[1;36m0\u001b[0m                   │                        \u001b[2m                \u001b[0m\n",
      "\u001b[2;36m                    \u001b[0m         │      hours-per-week │  \u001b[1;36m32\u001b[0m │    \u001b[1;36m11.63\u001b[0m │            age.\u001b[1;36m3\u001b[0m  education-num.\u001b[1;36m4\u001b[0m            sex.\u001b[1;36m0\u001b[0m                   │                        \u001b[2m                \u001b[0m\n",
      "\u001b[2;36m                    \u001b[0m         │                race │   \u001b[1;36m5\u001b[0m │    \u001b[1;36m74.42\u001b[0m │            age.\u001b[1;36m4\u001b[0m  education-num.\u001b[1;36m2\u001b[0m hours-per-week.\u001b[1;36m3\u001b[0m            sex.\u001b[1;36m0\u001b[0m  │                        \u001b[2m                \u001b[0m\n",
      "\u001b[2;36m                    \u001b[0m         │        capital-gain │  \u001b[1;36m16\u001b[0m │    \u001b[1;36m23.26\u001b[0m │  education-num.\u001b[1;36m3\u001b[0m   relationship.\u001b[1;36m0\u001b[0m                                    │                        \u001b[2m                \u001b[0m\n",
      "\u001b[2;36m                    \u001b[0m         │      native-country │  \u001b[1;36m42\u001b[0m │     \u001b[1;36m8.86\u001b[0m │  education-num.\u001b[1;36m3\u001b[0m   capital-gain.\u001b[1;36m3\u001b[0m hours-per-week.\u001b[1;36m4\u001b[0m                   │                        \u001b[2m                \u001b[0m\n",
      "\u001b[2;36m                    \u001b[0m         │              fnlwgt │  \u001b[1;36m32\u001b[0m │    \u001b[1;36m11.63\u001b[0m │            age.\u001b[1;36m3\u001b[0m  education-num.\u001b[1;36m4\u001b[0m   capital-gain.\u001b[1;36m4\u001b[0m hours-per-week.\u001b[1;36m4\u001b[0m  │                        \u001b[2m                \u001b[0m\n",
      "\u001b[2;36m                    \u001b[0m         │        capital-loss │  \u001b[1;36m32\u001b[0m │    \u001b[1;36m11.63\u001b[0m │  education-num.\u001b[1;36m4\u001b[0m   capital-gain.\u001b[1;36m4\u001b[0m marital-status.\u001b[1;36m0\u001b[0m                   │                        \u001b[2m                \u001b[0m\n",
      "\u001b[2;36m                    \u001b[0m         └─────────────────────┴─────┴──────────┴──────────────────────────────────────────────────────────────────────┘                        \u001b[2m                \u001b[0m\n",
      "\u001b[2;36m                   \u001b[0m\u001b[2;36m \u001b[0m\u001b[34mINFO    \u001b[0m Deterministic check: random number after    \u001b[1;35mPrivBayesSynth.bake\u001b[0m\u001b[1m(\u001b[0m\u001b[1m)\u001b[0m: \u001b[1m<\u001b[0m\u001b[1;95mnp.random\u001b[0m\u001b[1m>\u001b[0m \u001b[1;36m0.81059\u001b[0m \u001b[1m<\u001b[0m\u001b[1;95mrandom\u001b[0m\u001b[1m>\u001b[0m \u001b[1;36m0.14817\u001b[0m                                      \u001b[2mbase.py\u001b[0m\u001b[2m:\u001b[0m\u001b[2m29\u001b[0m\n",
      "\u001b[2;36m                   \u001b[0m\u001b[2;36m \u001b[0m\u001b[34mINFO    \u001b[0m Deterministic check: random number after     \u001b[1;35mPrivBayesSynth.fit\u001b[0m\u001b[1m(\u001b[0m\u001b[1m)\u001b[0m: \u001b[1m<\u001b[0m\u001b[1;95mnp.random\u001b[0m\u001b[1m>\u001b[0m \u001b[1;36m0.79007\u001b[0m \u001b[1m<\u001b[0m\u001b[1;95mrandom\u001b[0m\u001b[1m>\u001b[0m \u001b[1;36m0.14817\u001b[0m                                      \u001b[2mbase.py\u001b[0m\u001b[2m:\u001b[0m\u001b[2m29\u001b[0m\n",
      "\u001b[2;36m                   \u001b[0m\u001b[2;36m \u001b[0m\u001b[34mINFO    \u001b[0m Completed node  \u001b[1;36m1\u001b[0m/ \u001b[1;36m3\u001b[0m: tab_adult.privbayes.fit                                                                                             \u001b[2mrunner.py\u001b[0m\u001b[2m:\u001b[0m\u001b[2m134\u001b[0m\n"
     ]
    },
    {
     "name": "stderr",
     "output_type": "stream",
     "text": [
      "\n"
     ]
    },
    {
     "name": "stdout",
     "output_type": "stream",
     "text": [
      "\u001b[2;36m                   \u001b[0m\u001b[2;36m \u001b[0m\u001b[34mINFO    \u001b[0m Deterministic check: random number after  \u001b[1;35mPrivBayesSynth.sample\u001b[0m\u001b[1m(\u001b[0m\u001b[1m)\u001b[0m: \u001b[1m<\u001b[0m\u001b[1;95mnp.random\u001b[0m\u001b[1m>\u001b[0m \u001b[1;36m0.66804\u001b[0m \u001b[1m<\u001b[0m\u001b[1;95mrandom\u001b[0m\u001b[1m>\u001b[0m \u001b[1;36m0.14817\u001b[0m                                      \u001b[2mbase.py\u001b[0m\u001b[2m:\u001b[0m\u001b[2m29\u001b[0m\n",
      "\u001b[2;36m                   \u001b[0m\u001b[2;36m \u001b[0m\u001b[34mINFO    \u001b[0m Completed node  \u001b[1;36m2\u001b[0m/ \u001b[1;36m3\u001b[0m: tab_adult.privbayes.synth_sample                                                                                    \u001b[2mrunner.py\u001b[0m\u001b[2m:\u001b[0m\u001b[2m134\u001b[0m\n",
      "\u001b[2;36m                   \u001b[0m\u001b[2;36m \u001b[0m\u001b[34mINFO    \u001b[0m Completed node  \u001b[1;36m3\u001b[0m/ \u001b[1;36m3\u001b[0m: tab_adult.privbayes.reverse_table                                                                                   \u001b[2mrunner.py\u001b[0m\u001b[2m:\u001b[0m\u001b[2m134\u001b[0m\n",
      "\u001b[2;36m[08/11/22 02:56:16]\u001b[0m\u001b[2;36m \u001b[0m\u001b[34mINFO    \u001b[0m Executing pipeline tab_adult.privbayes.synth with overrides `alg.\u001b[33me1\u001b[0m=\u001b[1;36m0\u001b[0m\u001b[1;36m.9\u001b[0m`                                                                  \u001b[2mrunner.py\u001b[0m\u001b[2m:\u001b[0m\u001b[2m108\u001b[0m\n",
      "\u001b[2;36m                   \u001b[0m\u001b[2;36m \u001b[0m\u001b[31mWARNING \u001b[0m Current variable domain implementation \u001b[1m(\u001b[0mrequired by \u001b[1m[\u001b[0m\u001b[32m'age'\u001b[0m, \u001b[32m'fnlwgt'\u001b[0m, \u001b[32m'education-num'\u001b[0m, \u001b[32m'capital-gain'\u001b[0m, \u001b[32m'capital-loss'\u001b[0m,                 \u001b[2mprivbayes.py\u001b[0m\u001b[2m:\u001b[0m\u001b[2m584\u001b[0m\n",
      "\u001b[2;36m                    \u001b[0m         \u001b[32m'hours-per-week'\u001b[0m\u001b[1m]\u001b[0m\u001b[1m)\u001b[0m technically violates DP \u001b[1m(\u001b[0mto be fixed\u001b[1m)\u001b[0m.                                                                              \u001b[2m                \u001b[0m\n"
     ]
    },
    {
     "name": "stderr",
     "output_type": "stream",
     "text": [
      "                    >>>>>>>  Finding Nodes: 100%|\u001b[34m###################################################################################################\u001b[0m| 13/13 [00:00<00:00, 96.48it/s]\u001b[0m"
     ]
    },
    {
     "name": "stdout",
     "output_type": "stream",
     "text": [
      "\u001b[2;36m                   \u001b[0m\u001b[2;36m \u001b[0m\u001b[34mINFO    \u001b[0m Bayesian Network Tree:                                                                                                                 \u001b[2mprivbayes.py\u001b[0m\u001b[2m:\u001b[0m\u001b[2m616\u001b[0m\n",
      "\u001b[2;36m                    \u001b[0m         \u001b[1m(\u001b[0mPrivBayes \u001b[33me1\u001b[0m=\u001b[1;36m0\u001b[0m\u001b[1;36m.50\u001b[0m, \u001b[33me2\u001b[0m=\u001b[1;36m1\u001b[0m\u001b[1;36m.60\u001b[0m, \u001b[33mtheta\u001b[0m=\u001b[1;36m2\u001b[0m\u001b[1;36m.00\u001b[0m, available \u001b[33mt\u001b[0m=\u001b[1;36m372\u001b[0m\u001b[1;36m.11\u001b[0m\u001b[1m)\u001b[0m                                                                           \u001b[2m                \u001b[0m\n",
      "\u001b[2;36m                    \u001b[0m         ┌─────────────────────┬─────┬──────────┬──────────────────────────────────────────────────────────────────────┐                        \u001b[2m                \u001b[0m\n",
      "\u001b[2;36m                    \u001b[0m         │           Attribute │ Dom │ Avail. t │                                                                      │                        \u001b[2m                \u001b[0m\n",
      "\u001b[2;36m                    \u001b[0m         ├─────────────────────┼─────┼──────────┼──────────────────────────────────────────────────────────────────────┤                        \u001b[2m                \u001b[0m\n",
      "\u001b[2;36m                    \u001b[0m         │                 age │  \u001b[1;36m32\u001b[0m │    \u001b[1;36m11.63\u001b[0m │                                                                      │                        \u001b[2m                \u001b[0m\n",
      "\u001b[2;36m                    \u001b[0m         │      marital-status │   \u001b[1;36m7\u001b[0m │    \u001b[1;36m53.16\u001b[0m │            age.\u001b[1;36m0\u001b[0m                                                     │                        \u001b[2m                \u001b[0m\n",
      "\u001b[2;36m                    \u001b[0m         │        relationship │   \u001b[1;36m6\u001b[0m │    \u001b[1;36m62.02\u001b[0m │            age.\u001b[1;36m2\u001b[0m marital-status.\u001b[1;36m0\u001b[0m                                    │                        \u001b[2m                \u001b[0m\n",
      "\u001b[2;36m                    \u001b[0m         │                 sex │   \u001b[1;36m2\u001b[0m │   \u001b[1;36m186.06\u001b[0m │            age.\u001b[1;36m3\u001b[0m marital-status.\u001b[1;36m0\u001b[0m   relationship.\u001b[1;36m0\u001b[0m                   │                        \u001b[2m                \u001b[0m\n",
      "\u001b[2;36m                    \u001b[0m         │          occupation │  \u001b[1;36m15\u001b[0m │    \u001b[1;36m24.81\u001b[0m │            age.\u001b[1;36m4\u001b[0m   relationship.\u001b[1;36m0\u001b[0m            sex.\u001b[1;36m0\u001b[0m                   │                        \u001b[2m                \u001b[0m\n",
      "\u001b[2;36m                    \u001b[0m         │           education │  \u001b[1;36m16\u001b[0m │    \u001b[1;36m23.26\u001b[0m │     occupation.\u001b[1;36m0\u001b[0m                                                     │                        \u001b[2m                \u001b[0m\n",
      "\u001b[2;36m                    \u001b[0m         │       education-num │  \u001b[1;36m16\u001b[0m │    \u001b[1;36m23.26\u001b[0m │      education.\u001b[1;36m0\u001b[0m                                                     │                        \u001b[2m                \u001b[0m\n",
      "\u001b[2;36m                    \u001b[0m         │           workclass │   \u001b[1;36m9\u001b[0m │    \u001b[1;36m41.35\u001b[0m │            age.\u001b[1;36m4\u001b[0m  education-num.\u001b[1;36m4\u001b[0m     occupation.\u001b[1;36m0\u001b[0m                   │                        \u001b[2m                \u001b[0m\n",
      "\u001b[2;36m                    \u001b[0m         │      hours-per-week │  \u001b[1;36m32\u001b[0m │    \u001b[1;36m11.63\u001b[0m │            age.\u001b[1;36m3\u001b[0m  education-num.\u001b[1;36m4\u001b[0m            sex.\u001b[1;36m0\u001b[0m                   │                        \u001b[2m                \u001b[0m\n",
      "\u001b[2;36m                    \u001b[0m         │                race │   \u001b[1;36m5\u001b[0m │    \u001b[1;36m74.42\u001b[0m │            age.\u001b[1;36m4\u001b[0m  education-num.\u001b[1;36m2\u001b[0m hours-per-week.\u001b[1;36m3\u001b[0m            sex.\u001b[1;36m0\u001b[0m  │                        \u001b[2m                \u001b[0m\n",
      "\u001b[2;36m                    \u001b[0m         │        capital-gain │  \u001b[1;36m16\u001b[0m │    \u001b[1;36m23.26\u001b[0m │  education-num.\u001b[1;36m3\u001b[0m   relationship.\u001b[1;36m0\u001b[0m                                    │                        \u001b[2m                \u001b[0m\n",
      "\u001b[2;36m                    \u001b[0m         │      native-country │  \u001b[1;36m42\u001b[0m │     \u001b[1;36m8.86\u001b[0m │  education-num.\u001b[1;36m3\u001b[0m   capital-gain.\u001b[1;36m3\u001b[0m hours-per-week.\u001b[1;36m4\u001b[0m                   │                        \u001b[2m                \u001b[0m\n",
      "\u001b[2;36m                    \u001b[0m         │              fnlwgt │  \u001b[1;36m32\u001b[0m │    \u001b[1;36m11.63\u001b[0m │            age.\u001b[1;36m3\u001b[0m  education-num.\u001b[1;36m4\u001b[0m   capital-gain.\u001b[1;36m4\u001b[0m hours-per-week.\u001b[1;36m4\u001b[0m  │                        \u001b[2m                \u001b[0m\n",
      "\u001b[2;36m                    \u001b[0m         │        capital-loss │  \u001b[1;36m32\u001b[0m │    \u001b[1;36m11.63\u001b[0m │  education-num.\u001b[1;36m4\u001b[0m   capital-gain.\u001b[1;36m4\u001b[0m marital-status.\u001b[1;36m0\u001b[0m                   │                        \u001b[2m                \u001b[0m\n",
      "\u001b[2;36m                    \u001b[0m         └─────────────────────┴─────┴──────────┴──────────────────────────────────────────────────────────────────────┘                        \u001b[2m                \u001b[0m\n",
      "\u001b[2;36m                   \u001b[0m\u001b[2;36m \u001b[0m\u001b[34mINFO    \u001b[0m Deterministic check: random number after    \u001b[1;35mPrivBayesSynth.bake\u001b[0m\u001b[1m(\u001b[0m\u001b[1m)\u001b[0m: \u001b[1m<\u001b[0m\u001b[1;95mnp.random\u001b[0m\u001b[1m>\u001b[0m \u001b[1;36m0.81059\u001b[0m \u001b[1m<\u001b[0m\u001b[1;95mrandom\u001b[0m\u001b[1m>\u001b[0m \u001b[1;36m0.14817\u001b[0m                                      \u001b[2mbase.py\u001b[0m\u001b[2m:\u001b[0m\u001b[2m29\u001b[0m\n",
      "\u001b[2;36m                   \u001b[0m\u001b[2;36m \u001b[0m\u001b[34mINFO    \u001b[0m Deterministic check: random number after     \u001b[1;35mPrivBayesSynth.fit\u001b[0m\u001b[1m(\u001b[0m\u001b[1m)\u001b[0m: \u001b[1m<\u001b[0m\u001b[1;95mnp.random\u001b[0m\u001b[1m>\u001b[0m \u001b[1;36m0.79007\u001b[0m \u001b[1m<\u001b[0m\u001b[1;95mrandom\u001b[0m\u001b[1m>\u001b[0m \u001b[1;36m0.14817\u001b[0m                                      \u001b[2mbase.py\u001b[0m\u001b[2m:\u001b[0m\u001b[2m29\u001b[0m\n",
      "\u001b[2;36m                   \u001b[0m\u001b[2;36m \u001b[0m\u001b[34mINFO    \u001b[0m Completed node  \u001b[1;36m1\u001b[0m/ \u001b[1;36m3\u001b[0m: tab_adult.privbayes.fit                                                                                             \u001b[2mrunner.py\u001b[0m\u001b[2m:\u001b[0m\u001b[2m134\u001b[0m\n"
     ]
    },
    {
     "name": "stderr",
     "output_type": "stream",
     "text": [
      "\n"
     ]
    },
    {
     "name": "stdout",
     "output_type": "stream",
     "text": [
      "\u001b[2;36m                   \u001b[0m\u001b[2;36m \u001b[0m\u001b[34mINFO    \u001b[0m Deterministic check: random number after  \u001b[1;35mPrivBayesSynth.sample\u001b[0m\u001b[1m(\u001b[0m\u001b[1m)\u001b[0m: \u001b[1m<\u001b[0m\u001b[1;95mnp.random\u001b[0m\u001b[1m>\u001b[0m \u001b[1;36m0.66804\u001b[0m \u001b[1m<\u001b[0m\u001b[1;95mrandom\u001b[0m\u001b[1m>\u001b[0m \u001b[1;36m0.14817\u001b[0m                                      \u001b[2mbase.py\u001b[0m\u001b[2m:\u001b[0m\u001b[2m29\u001b[0m\n",
      "\u001b[2;36m                   \u001b[0m\u001b[2;36m \u001b[0m\u001b[34mINFO    \u001b[0m Completed node  \u001b[1;36m2\u001b[0m/ \u001b[1;36m3\u001b[0m: tab_adult.privbayes.synth_sample                                                                                    \u001b[2mrunner.py\u001b[0m\u001b[2m:\u001b[0m\u001b[2m134\u001b[0m\n",
      "\u001b[2;36m                   \u001b[0m\u001b[2;36m \u001b[0m\u001b[34mINFO    \u001b[0m Completed node  \u001b[1;36m3\u001b[0m/ \u001b[1;36m3\u001b[0m: tab_adult.privbayes.reverse_table                                                                                   \u001b[2mrunner.py\u001b[0m\u001b[2m:\u001b[0m\u001b[2m134\u001b[0m\n",
      "\u001b[2;36m[08/11/22 02:56:17]\u001b[0m\u001b[2;36m \u001b[0m\u001b[34mINFO    \u001b[0m Executing pipeline tab_adult.privbayes.synth with overrides `alg.\u001b[33me1\u001b[0m=\u001b[1;36m1\u001b[0m\u001b[1;36m.5\u001b[0m`                                                                  \u001b[2mrunner.py\u001b[0m\u001b[2m:\u001b[0m\u001b[2m108\u001b[0m\n",
      "\u001b[2;36m                   \u001b[0m\u001b[2;36m \u001b[0m\u001b[31mWARNING \u001b[0m Current variable domain implementation \u001b[1m(\u001b[0mrequired by \u001b[1m[\u001b[0m\u001b[32m'age'\u001b[0m, \u001b[32m'fnlwgt'\u001b[0m, \u001b[32m'education-num'\u001b[0m, \u001b[32m'capital-gain'\u001b[0m, \u001b[32m'capital-loss'\u001b[0m,                 \u001b[2mprivbayes.py\u001b[0m\u001b[2m:\u001b[0m\u001b[2m584\u001b[0m\n",
      "\u001b[2;36m                    \u001b[0m         \u001b[32m'hours-per-week'\u001b[0m\u001b[1m]\u001b[0m\u001b[1m)\u001b[0m technically violates DP \u001b[1m(\u001b[0mto be fixed\u001b[1m)\u001b[0m.                                                                              \u001b[2m                \u001b[0m\n"
     ]
    },
    {
     "name": "stderr",
     "output_type": "stream",
     "text": [
      "                    >>>>>>>  Finding Nodes: 100%|\u001b[34m###################################################################################################\u001b[0m| 13/13 [00:00<00:00, 99.51it/s]\u001b[0m"
     ]
    },
    {
     "name": "stdout",
     "output_type": "stream",
     "text": [
      "\u001b[2;36m                   \u001b[0m\u001b[2;36m \u001b[0m\u001b[34mINFO    \u001b[0m Bayesian Network Tree:                                                                                                                 \u001b[2mprivbayes.py\u001b[0m\u001b[2m:\u001b[0m\u001b[2m616\u001b[0m\n",
      "\u001b[2;36m                    \u001b[0m         \u001b[1m(\u001b[0mPrivBayes \u001b[33me1\u001b[0m=\u001b[1;36m0\u001b[0m\u001b[1;36m.50\u001b[0m, \u001b[33me2\u001b[0m=\u001b[1;36m1\u001b[0m\u001b[1;36m.60\u001b[0m, \u001b[33mtheta\u001b[0m=\u001b[1;36m2\u001b[0m\u001b[1;36m.00\u001b[0m, available \u001b[33mt\u001b[0m=\u001b[1;36m372\u001b[0m\u001b[1;36m.11\u001b[0m\u001b[1m)\u001b[0m                                                                           \u001b[2m                \u001b[0m\n",
      "\u001b[2;36m                    \u001b[0m         ┌─────────────────────┬─────┬──────────┬──────────────────────────────────────────────────────────────────────┐                        \u001b[2m                \u001b[0m\n",
      "\u001b[2;36m                    \u001b[0m         │           Attribute │ Dom │ Avail. t │                                                                      │                        \u001b[2m                \u001b[0m\n",
      "\u001b[2;36m                    \u001b[0m         ├─────────────────────┼─────┼──────────┼──────────────────────────────────────────────────────────────────────┤                        \u001b[2m                \u001b[0m\n",
      "\u001b[2;36m                    \u001b[0m         │                 age │  \u001b[1;36m32\u001b[0m │    \u001b[1;36m11.63\u001b[0m │                                                                      │                        \u001b[2m                \u001b[0m\n",
      "\u001b[2;36m                    \u001b[0m         │      marital-status │   \u001b[1;36m7\u001b[0m │    \u001b[1;36m53.16\u001b[0m │            age.\u001b[1;36m0\u001b[0m                                                     │                        \u001b[2m                \u001b[0m\n",
      "\u001b[2;36m                    \u001b[0m         │        relationship │   \u001b[1;36m6\u001b[0m │    \u001b[1;36m62.02\u001b[0m │            age.\u001b[1;36m2\u001b[0m marital-status.\u001b[1;36m0\u001b[0m                                    │                        \u001b[2m                \u001b[0m\n",
      "\u001b[2;36m                    \u001b[0m         │                 sex │   \u001b[1;36m2\u001b[0m │   \u001b[1;36m186.06\u001b[0m │            age.\u001b[1;36m3\u001b[0m marital-status.\u001b[1;36m0\u001b[0m   relationship.\u001b[1;36m0\u001b[0m                   │                        \u001b[2m                \u001b[0m\n",
      "\u001b[2;36m                    \u001b[0m         │          occupation │  \u001b[1;36m15\u001b[0m │    \u001b[1;36m24.81\u001b[0m │            age.\u001b[1;36m4\u001b[0m   relationship.\u001b[1;36m0\u001b[0m            sex.\u001b[1;36m0\u001b[0m                   │                        \u001b[2m                \u001b[0m\n",
      "\u001b[2;36m                    \u001b[0m         │           education │  \u001b[1;36m16\u001b[0m │    \u001b[1;36m23.26\u001b[0m │     occupation.\u001b[1;36m0\u001b[0m                                                     │                        \u001b[2m                \u001b[0m\n",
      "\u001b[2;36m                    \u001b[0m         │       education-num │  \u001b[1;36m16\u001b[0m │    \u001b[1;36m23.26\u001b[0m │      education.\u001b[1;36m0\u001b[0m                                                     │                        \u001b[2m                \u001b[0m\n",
      "\u001b[2;36m                    \u001b[0m         │           workclass │   \u001b[1;36m9\u001b[0m │    \u001b[1;36m41.35\u001b[0m │            age.\u001b[1;36m4\u001b[0m  education-num.\u001b[1;36m4\u001b[0m     occupation.\u001b[1;36m0\u001b[0m                   │                        \u001b[2m                \u001b[0m\n",
      "\u001b[2;36m                    \u001b[0m         │      hours-per-week │  \u001b[1;36m32\u001b[0m │    \u001b[1;36m11.63\u001b[0m │            age.\u001b[1;36m3\u001b[0m  education-num.\u001b[1;36m4\u001b[0m            sex.\u001b[1;36m0\u001b[0m                   │                        \u001b[2m                \u001b[0m\n",
      "\u001b[2;36m                    \u001b[0m         │                race │   \u001b[1;36m5\u001b[0m │    \u001b[1;36m74.42\u001b[0m │            age.\u001b[1;36m4\u001b[0m  education-num.\u001b[1;36m2\u001b[0m hours-per-week.\u001b[1;36m3\u001b[0m            sex.\u001b[1;36m0\u001b[0m  │                        \u001b[2m                \u001b[0m\n",
      "\u001b[2;36m                    \u001b[0m         │        capital-gain │  \u001b[1;36m16\u001b[0m │    \u001b[1;36m23.26\u001b[0m │  education-num.\u001b[1;36m3\u001b[0m   relationship.\u001b[1;36m0\u001b[0m                                    │                        \u001b[2m                \u001b[0m\n",
      "\u001b[2;36m                    \u001b[0m         │      native-country │  \u001b[1;36m42\u001b[0m │     \u001b[1;36m8.86\u001b[0m │  education-num.\u001b[1;36m3\u001b[0m   capital-gain.\u001b[1;36m3\u001b[0m hours-per-week.\u001b[1;36m4\u001b[0m                   │                        \u001b[2m                \u001b[0m\n",
      "\u001b[2;36m                    \u001b[0m         │              fnlwgt │  \u001b[1;36m32\u001b[0m │    \u001b[1;36m11.63\u001b[0m │            age.\u001b[1;36m3\u001b[0m  education-num.\u001b[1;36m4\u001b[0m   capital-gain.\u001b[1;36m4\u001b[0m hours-per-week.\u001b[1;36m4\u001b[0m  │                        \u001b[2m                \u001b[0m\n",
      "\u001b[2;36m                    \u001b[0m         │        capital-loss │  \u001b[1;36m32\u001b[0m │    \u001b[1;36m11.63\u001b[0m │  education-num.\u001b[1;36m4\u001b[0m   capital-gain.\u001b[1;36m4\u001b[0m marital-status.\u001b[1;36m0\u001b[0m                   │                        \u001b[2m                \u001b[0m\n",
      "\u001b[2;36m                    \u001b[0m         └─────────────────────┴─────┴──────────┴──────────────────────────────────────────────────────────────────────┘                        \u001b[2m                \u001b[0m\n",
      "\u001b[2;36m                   \u001b[0m\u001b[2;36m \u001b[0m\u001b[34mINFO    \u001b[0m Deterministic check: random number after    \u001b[1;35mPrivBayesSynth.bake\u001b[0m\u001b[1m(\u001b[0m\u001b[1m)\u001b[0m: \u001b[1m<\u001b[0m\u001b[1;95mnp.random\u001b[0m\u001b[1m>\u001b[0m \u001b[1;36m0.81059\u001b[0m \u001b[1m<\u001b[0m\u001b[1;95mrandom\u001b[0m\u001b[1m>\u001b[0m \u001b[1;36m0.14817\u001b[0m                                      \u001b[2mbase.py\u001b[0m\u001b[2m:\u001b[0m\u001b[2m29\u001b[0m\n",
      "\u001b[2;36m                   \u001b[0m\u001b[2;36m \u001b[0m\u001b[34mINFO    \u001b[0m Deterministic check: random number after     \u001b[1;35mPrivBayesSynth.fit\u001b[0m\u001b[1m(\u001b[0m\u001b[1m)\u001b[0m: \u001b[1m<\u001b[0m\u001b[1;95mnp.random\u001b[0m\u001b[1m>\u001b[0m \u001b[1;36m0.79007\u001b[0m \u001b[1m<\u001b[0m\u001b[1;95mrandom\u001b[0m\u001b[1m>\u001b[0m \u001b[1;36m0.14817\u001b[0m                                      \u001b[2mbase.py\u001b[0m\u001b[2m:\u001b[0m\u001b[2m29\u001b[0m\n",
      "\u001b[2;36m                   \u001b[0m\u001b[2;36m \u001b[0m\u001b[34mINFO    \u001b[0m Completed node  \u001b[1;36m1\u001b[0m/ \u001b[1;36m3\u001b[0m: tab_adult.privbayes.fit                                                                                             \u001b[2mrunner.py\u001b[0m\u001b[2m:\u001b[0m\u001b[2m134\u001b[0m\n"
     ]
    },
    {
     "name": "stderr",
     "output_type": "stream",
     "text": [
      "\n"
     ]
    },
    {
     "name": "stdout",
     "output_type": "stream",
     "text": [
      "\u001b[2;36m                   \u001b[0m\u001b[2;36m \u001b[0m\u001b[34mINFO    \u001b[0m Deterministic check: random number after  \u001b[1;35mPrivBayesSynth.sample\u001b[0m\u001b[1m(\u001b[0m\u001b[1m)\u001b[0m: \u001b[1m<\u001b[0m\u001b[1;95mnp.random\u001b[0m\u001b[1m>\u001b[0m \u001b[1;36m0.66804\u001b[0m \u001b[1m<\u001b[0m\u001b[1;95mrandom\u001b[0m\u001b[1m>\u001b[0m \u001b[1;36m0.14817\u001b[0m                                      \u001b[2mbase.py\u001b[0m\u001b[2m:\u001b[0m\u001b[2m29\u001b[0m\n",
      "\u001b[2;36m                   \u001b[0m\u001b[2;36m \u001b[0m\u001b[34mINFO    \u001b[0m Completed node  \u001b[1;36m2\u001b[0m/ \u001b[1;36m3\u001b[0m: tab_adult.privbayes.synth_sample                                                                                    \u001b[2mrunner.py\u001b[0m\u001b[2m:\u001b[0m\u001b[2m134\u001b[0m\n",
      "\u001b[2;36m                   \u001b[0m\u001b[2;36m \u001b[0m\u001b[34mINFO    \u001b[0m Completed node  \u001b[1;36m3\u001b[0m/ \u001b[1;36m3\u001b[0m: tab_adult.privbayes.reverse_table                                                                                   \u001b[2mrunner.py\u001b[0m\u001b[2m:\u001b[0m\u001b[2m134\u001b[0m\n"
     ]
    }
   ],
   "source": [
    "%pipe tab_adult.ingest tst=5\n",
    "for e1 in (0.3, 0.5, 0.9, 1.5):\n",
    "    pipe(\"tab_adult.privbayes.synth\", {\"alg.e1\": e1})"
   ]
  },
  {
   "cell_type": "code",
   "execution_count": null,
   "metadata": {},
   "outputs": [
    {
     "name": "stdout",
     "output_type": "stream",
     "text": [
      "\u001b[2;36m[08/11/22 02:56:18]\u001b[0m\u001b[2;36m \u001b[0m\u001b[34mINFO    \u001b[0m Executing pipeline mimic_tab_admissions.ingest                                                                                            \u001b[2mrunner.py\u001b[0m\u001b[2m:\u001b[0m\u001b[2m108\u001b[0m\n",
      "\u001b[2;36m[08/11/22 02:56:21]\u001b[0m\u001b[2;36m \u001b[0m\u001b[34mINFO    \u001b[0m Completed node  \u001b[1;36m1\u001b[0m/\u001b[1;36m11\u001b[0m: mimic.ingest_core_admissions                                                                                        \u001b[2mrunner.py\u001b[0m\u001b[2m:\u001b[0m\u001b[2m134\u001b[0m\n",
      "\u001b[2;36m                   \u001b[0m\u001b[2;36m \u001b[0m\u001b[34mINFO    \u001b[0m Completed node  \u001b[1;36m2\u001b[0m/\u001b[1;36m11\u001b[0m: mimic.ingest_core_patients                                                                                          \u001b[2mrunner.py\u001b[0m\u001b[2m:\u001b[0m\u001b[2m134\u001b[0m\n",
      "\u001b[2;36m                   \u001b[0m\u001b[2;36m \u001b[0m\u001b[34mINFO    \u001b[0m Completed node  \u001b[1;36m3\u001b[0m/\u001b[1;36m11\u001b[0m: mimic_tab_admissions.gen_keys                                                                                       \u001b[2mrunner.py\u001b[0m\u001b[2m:\u001b[0m\u001b[2m134\u001b[0m\n",
      "\u001b[2;36m[08/11/22 02:56:22]\u001b[0m\u001b[2;36m \u001b[0m\u001b[34mINFO    \u001b[0m Completed node  \u001b[1;36m4\u001b[0m/\u001b[1;36m11\u001b[0m: mimic_tab_admissions.ingest_table                                                                                   \u001b[2mrunner.py\u001b[0m\u001b[2m:\u001b[0m\u001b[2m134\u001b[0m\n",
      "\u001b[2;36m                   \u001b[0m\u001b[2;36m \u001b[0m\u001b[34mINFO    \u001b[0m Completed node  \u001b[1;36m5\u001b[0m/\u001b[1;36m11\u001b[0m: mimic_tab_admissions.filter                                                                                         \u001b[2mrunner.py\u001b[0m\u001b[2m:\u001b[0m\u001b[2m134\u001b[0m\n",
      "\u001b[2;36m[08/11/22 02:56:23]\u001b[0m\u001b[2;36m \u001b[0m\u001b[34mINFO    \u001b[0m Completed node  \u001b[1;36m6\u001b[0m/\u001b[1;36m11\u001b[0m: mimic_tab_admissions.filter                                                                                         \u001b[2mrunner.py\u001b[0m\u001b[2m:\u001b[0m\u001b[2m134\u001b[0m\n",
      "\u001b[2;36m                   \u001b[0m\u001b[2;36m \u001b[0m\u001b[34mINFO    \u001b[0m Completed node  \u001b[1;36m7\u001b[0m/\u001b[1;36m11\u001b[0m: mimic_tab_admissions.filter                                                                                         \u001b[2mrunner.py\u001b[0m\u001b[2m:\u001b[0m\u001b[2m134\u001b[0m\n",
      "\u001b[2;36m                   \u001b[0m\u001b[2;36m \u001b[0m\u001b[34mINFO    \u001b[0m Completed node  \u001b[1;36m8\u001b[0m/\u001b[1;36m11\u001b[0m: mimic_tab_admissions.filter                                                                                         \u001b[2mrunner.py\u001b[0m\u001b[2m:\u001b[0m\u001b[2m134\u001b[0m\n",
      "\u001b[2;36m                   \u001b[0m\u001b[2;36m \u001b[0m\u001b[31mWARNING \u001b[0m Nullable column doesn't have transformers for na vals, using \u001b[1m<\u001b[0m\u001b[1;95mname\u001b[0m\u001b[1m>\u001b[0m_NA col.                                                                 \u001b[2mbase.py\u001b[0m\u001b[2m:\u001b[0m\u001b[2m168\u001b[0m\n",
      "\u001b[2;36m[08/11/22 02:56:24]\u001b[0m\u001b[2;36m \u001b[0m\u001b[31mWARNING \u001b[0m Nullable column doesn't have transformers for na vals, using \u001b[1m<\u001b[0m\u001b[1;95mname\u001b[0m\u001b[1m>\u001b[0m_NA col.                                                                 \u001b[2mbase.py\u001b[0m\u001b[2m:\u001b[0m\u001b[2m168\u001b[0m\n",
      "\u001b[2;36m                   \u001b[0m\u001b[2;36m \u001b[0m\u001b[34mINFO    \u001b[0m Completed node  \u001b[1;36m9\u001b[0m/\u001b[1;36m11\u001b[0m: mimic_tab_admissions.wrk.fit_table                                                                                  \u001b[2mrunner.py\u001b[0m\u001b[2m:\u001b[0m\u001b[2m134\u001b[0m\n",
      "\u001b[2;36m                   \u001b[0m\u001b[2;36m \u001b[0m\u001b[34mINFO    \u001b[0m Completed node \u001b[1;36m10\u001b[0m/\u001b[1;36m11\u001b[0m: mimic_tab_admissions.wrk.find_ids                                                                                   \u001b[2mrunner.py\u001b[0m\u001b[2m:\u001b[0m\u001b[2m134\u001b[0m\n",
      "\u001b[2;36m[08/11/22 02:56:26]\u001b[0m\u001b[2;36m \u001b[0m\u001b[34mINFO    \u001b[0m Completed node \u001b[1;36m11\u001b[0m/\u001b[1;36m11\u001b[0m: mimic_tab_admissions.wrk.transform_table                                                                            \u001b[2mrunner.py\u001b[0m\u001b[2m:\u001b[0m\u001b[2m134\u001b[0m\n",
      "\u001b[2;36m[08/11/22 02:56:26]\u001b[0m\u001b[2;36m \u001b[0m\u001b[34mINFO    \u001b[0m Executing pipeline mimic_tab_admissions.privbayes.synth with overrides `alg.\u001b[33me1\u001b[0m=\u001b[1;36m0\u001b[0m\u001b[1;36m.3\u001b[0m`                                                       \u001b[2mrunner.py\u001b[0m\u001b[2m:\u001b[0m\u001b[2m108\u001b[0m\n",
      "\u001b[2;36m                   \u001b[0m\u001b[2;36m \u001b[0m\u001b[31mWARNING \u001b[0m Current variable domain implementation \u001b[1m(\u001b[0mrequired by \u001b[1m[\u001b[0m\u001b[32m'dod_year'\u001b[0m, \u001b[32m'dod_week'\u001b[0m, \u001b[32m'dod_day'\u001b[0m, \u001b[32m'admittime'\u001b[0m, \u001b[32m'admittime_year'\u001b[0m,                 \u001b[2mprivbayes.py\u001b[0m\u001b[2m:\u001b[0m\u001b[2m584\u001b[0m\n",
      "\u001b[2;36m                    \u001b[0m         \u001b[32m'admittime_week'\u001b[0m, \u001b[32m'admittime_day'\u001b[0m, \u001b[32m'dischtime'\u001b[0m, \u001b[32m'dischtime_day'\u001b[0m, \u001b[32m'deathtime'\u001b[0m, \u001b[32m'deathtime_day'\u001b[0m\u001b[1m]\u001b[0m\u001b[1m)\u001b[0m technically violates DP \u001b[1m(\u001b[0mto be fixed\u001b[1m)\u001b[0m. \u001b[2m                \u001b[0m\n"
     ]
    },
    {
     "name": "stderr",
     "output_type": "stream",
     "text": [
      "                    >>>>>>>  Finding Nodes: 100%|\u001b[34m###################################################################################################\u001b[0m| 19/19 [00:00<00:00,  1.00it/s]\u001b[0m\n"
     ]
    },
    {
     "name": "stdout",
     "output_type": "stream",
     "text": [
      "\u001b[2;36m[08/11/22 02:56:50]\u001b[0m\u001b[2;36m \u001b[0m\u001b[34mINFO    \u001b[0m Bayesian Network Tree:                                                                                                                 \u001b[2mprivbayes.py\u001b[0m\u001b[2m:\u001b[0m\u001b[2m616\u001b[0m\n",
      "\u001b[2;36m                    \u001b[0m         \u001b[1m(\u001b[0mPrivBayes \u001b[33me1\u001b[0m=\u001b[1;36m0\u001b[0m\u001b[1;36m.30\u001b[0m, \u001b[33me2\u001b[0m=\u001b[1;36m0\u001b[0m\u001b[1;36m.70\u001b[0m, \u001b[33mtheta\u001b[0m=\u001b[1;36m4\u001b[0m\u001b[1;36m.00\u001b[0m, available \u001b[33mt\u001b[0m=\u001b[1;36m918\u001b[0m\u001b[1;36m.61\u001b[0m\u001b[1m)\u001b[0m                                                                           \u001b[2m                \u001b[0m\n",
      "\u001b[2;36m                    \u001b[0m         ┌─────────────────────┬─────┬──────────┬──────────────────────────────────────────────────────────────────────┐                        \u001b[2m                \u001b[0m\n",
      "\u001b[2;36m                    \u001b[0m         │           Attribute │ Dom │ Avail. t │                                                                      │                        \u001b[2m                \u001b[0m\n",
      "\u001b[2;36m                    \u001b[0m         ├─────────────────────┼─────┼──────────┼──────────────────────────────────────────────────────────────────────┤                        \u001b[2m                \u001b[0m\n",
      "\u001b[2;36m                    \u001b[0m         │      admittime_year │ \u001b[1;36m128\u001b[0m │     \u001b[1;36m7.18\u001b[0m │                                                                      │                        \u001b[2m                \u001b[0m\n",
      "\u001b[2;36m                    \u001b[0m         │      marital_status │   \u001b[1;36m6\u001b[0m │   \u001b[1;36m153.10\u001b[0m │ admittime_year.\u001b[1;36m0\u001b[0m                                                     │                        \u001b[2m                \u001b[0m\n",
      "\u001b[2;36m                    \u001b[0m         │      admission_type │   \u001b[1;36m9\u001b[0m │   \u001b[1;36m102.07\u001b[0m │ admittime_year.\u001b[1;36m3\u001b[0m marital_status.\u001b[1;36m0\u001b[0m                                    │                        \u001b[2m                \u001b[0m\n",
      "\u001b[2;36m                    \u001b[0m         │  admission_location │  \u001b[1;36m13\u001b[0m │    \u001b[1;36m70.66\u001b[0m │ admittime_year.\u001b[1;36m5\u001b[0m admission_type.\u001b[1;36m0\u001b[0m                                    │                        \u001b[2m                \u001b[0m\n",
      "\u001b[2;36m                    \u001b[0m         │  discharge_location │  \u001b[1;36m15\u001b[0m │    \u001b[1;36m61.24\u001b[0m │ admittime_year.\u001b[1;36m5\u001b[0m admission_type.\u001b[1;36m0\u001b[0m                                    │                        \u001b[2m                \u001b[0m\n",
      "\u001b[2;36m                    \u001b[0m         │           insurance │   \u001b[1;36m3\u001b[0m │   \u001b[1;36m306.20\u001b[0m │ admittime_year.\u001b[1;36m5\u001b[0m admission_type.\u001b[1;36m0\u001b[0m marital_status.\u001b[1;36m0\u001b[0m                   │                        \u001b[2m                \u001b[0m\n",
      "\u001b[2;36m                    \u001b[0m         │           admittime │  \u001b[1;36m32\u001b[0m │    \u001b[1;36m28.71\u001b[0m │ admittime_year.\u001b[1;36m6\u001b[0m admission_type.\u001b[1;36m0\u001b[0m                                    │                        \u001b[2m                \u001b[0m\n",
      "\u001b[2;36m                    \u001b[0m         │           dischtime │  \u001b[1;36m32\u001b[0m │    \u001b[1;36m28.71\u001b[0m │ admittime_year.\u001b[1;36m6\u001b[0m admission_type.\u001b[1;36m0\u001b[0m                                    │                        \u001b[2m                \u001b[0m\n",
      "\u001b[2;36m                    \u001b[0m         │           ethnicity │   \u001b[1;36m8\u001b[0m │   \u001b[1;36m114.83\u001b[0m │ admittime_year.\u001b[1;36m5\u001b[0m      insurance.\u001b[1;36m0\u001b[0m marital_status.\u001b[1;36m0\u001b[0m                   │                        \u001b[2m                \u001b[0m\n",
      "\u001b[2;36m                    \u001b[0m         │              gender │   \u001b[1;36m2\u001b[0m │   \u001b[1;36m459.31\u001b[0m │ admittime_year.\u001b[1;36m4\u001b[0m marital_status.\u001b[1;36m0\u001b[0m      ethnicity.\u001b[1;36m0\u001b[0m                   │                        \u001b[2m                \u001b[0m\n",
      "\u001b[2;36m                    \u001b[0m         │            language │   \u001b[1;36m2\u001b[0m │   \u001b[1;36m459.31\u001b[0m │ admittime_year.\u001b[1;36m4\u001b[0m      dischtime.\u001b[1;36m4\u001b[0m      insurance.\u001b[1;36m0\u001b[0m      ethnicity.\u001b[1;36m0\u001b[0m  │                        \u001b[2m                \u001b[0m\n",
      "\u001b[2;36m                    \u001b[0m         │       dischtime_day │ \u001b[1;36m128\u001b[0m │     \u001b[1;36m7.18\u001b[0m │      admittime.\u001b[1;36m4\u001b[0m admittime_year.\u001b[1;36m6\u001b[0m                                    │                        \u001b[2m                \u001b[0m\n",
      "\u001b[2;36m                    \u001b[0m         │       admittime_day │   \u001b[1;36m8\u001b[0m │   \u001b[1;36m114.83\u001b[0m │  dischtime_day.\u001b[1;36m1\u001b[0m                                                     │                        \u001b[2m                \u001b[0m\n",
      "\u001b[2;36m                    \u001b[0m         │            dod_year │ \u001b[1;36m129\u001b[0m │     \u001b[1;36m7.12\u001b[0m │ admittime_year.\u001b[1;36m6\u001b[0m      insurance.\u001b[1;36m0\u001b[0m                                    │                        \u001b[2m                \u001b[0m\n",
      "\u001b[2;36m                    \u001b[0m         │             dod_day │   \u001b[1;36m9\u001b[0m │   \u001b[1;36m102.07\u001b[0m │       dod_year.\u001b[1;36m6\u001b[0m      admittime.\u001b[1;36m4\u001b[0m  admittime_day.\u001b[1;36m2\u001b[0m      ethnicity.\u001b[1;36m0\u001b[0m  │                        \u001b[2m                \u001b[0m\n",
      "\u001b[2;36m                    \u001b[0m         │            dod_week │  \u001b[1;36m65\u001b[0m │    \u001b[1;36m14.13\u001b[0m │       dod_year.\u001b[1;36m6\u001b[0m      insurance.\u001b[1;36m0\u001b[0m                                    │                        \u001b[2m                \u001b[0m\n",
      "\u001b[2;36m                    \u001b[0m         │hospital_expire_flag │   \u001b[1;36m2\u001b[0m │   \u001b[1;36m459.31\u001b[0m │       dod_year.\u001b[1;36m7\u001b[0m  dischtime_day.\u001b[1;36m6\u001b[0m       language.\u001b[1;36m0\u001b[0m marital_status.\u001b[1;36m0\u001b[0m      ethnicity.\u001b[1;36m0\u001b[0m│         \u001b[2m                \u001b[0m\n",
      "\u001b[2;36m                    \u001b[0m         │           deathtime │  \u001b[1;36m33\u001b[0m │    \u001b[1;36m27.84\u001b[0m │       dod_year.\u001b[1;36m6\u001b[0m admission_type.\u001b[1;36m0\u001b[0m                                    │                        \u001b[2m                \u001b[0m\n",
      "\u001b[2;36m                    \u001b[0m         │       deathtime_day │ \u001b[1;36m129\u001b[0m │     \u001b[1;36m7.12\u001b[0m │      insurance.0hospital_expire_flag.\u001b[1;36m0\u001b[0m                               │                        \u001b[2m                \u001b[0m\n",
      "\u001b[2;36m                    \u001b[0m         │      admittime_week │  \u001b[1;36m64\u001b[0m │    \u001b[1;36m14.35\u001b[0m │       dod_week.\u001b[1;36m5\u001b[0m admittime_year.\u001b[1;36m6\u001b[0m      dischtime.\u001b[1;36m4\u001b[0m                   │                        \u001b[2m                \u001b[0m\n",
      "\u001b[2;36m                    \u001b[0m         └─────────────────────┴─────┴──────────┴──────────────────────────────────────────────────────────────────────┘                        \u001b[2m                \u001b[0m\n",
      "\u001b[2;36m                   \u001b[0m\u001b[2;36m \u001b[0m\u001b[34mINFO    \u001b[0m Deterministic check: random number after    \u001b[1;35mPrivBayesSynth.bake\u001b[0m\u001b[1m(\u001b[0m\u001b[1m)\u001b[0m: \u001b[1m<\u001b[0m\u001b[1;95mnp.random\u001b[0m\u001b[1m>\u001b[0m \u001b[1;36m0.55166\u001b[0m \u001b[1m<\u001b[0m\u001b[1;95mrandom\u001b[0m\u001b[1m>\u001b[0m \u001b[1;36m0.14817\u001b[0m                                      \u001b[2mbase.py\u001b[0m\u001b[2m:\u001b[0m\u001b[2m29\u001b[0m\n",
      "\u001b[2;36m                   \u001b[0m\u001b[2;36m \u001b[0m\u001b[34mINFO    \u001b[0m Deterministic check: random number after     \u001b[1;35mPrivBayesSynth.fit\u001b[0m\u001b[1m(\u001b[0m\u001b[1m)\u001b[0m: \u001b[1m<\u001b[0m\u001b[1;95mnp.random\u001b[0m\u001b[1m>\u001b[0m \u001b[1;36m0.96812\u001b[0m \u001b[1m<\u001b[0m\u001b[1;95mrandom\u001b[0m\u001b[1m>\u001b[0m \u001b[1;36m0.14817\u001b[0m                                      \u001b[2mbase.py\u001b[0m\u001b[2m:\u001b[0m\u001b[2m29\u001b[0m\n",
      "\u001b[2;36m                   \u001b[0m\u001b[2;36m \u001b[0m\u001b[34mINFO    \u001b[0m Completed node  \u001b[1;36m1\u001b[0m/ \u001b[1;36m3\u001b[0m: mimic_tab_admissions.privbayes.fit                                                                                  \u001b[2mrunner.py\u001b[0m\u001b[2m:\u001b[0m\u001b[2m134\u001b[0m\n",
      "\u001b[2;36m                   \u001b[0m\u001b[2;36m \u001b[0m\u001b[34mINFO    \u001b[0m Deterministic check: random number after  \u001b[1;35mPrivBayesSynth.sample\u001b[0m\u001b[1m(\u001b[0m\u001b[1m)\u001b[0m: \u001b[1m<\u001b[0m\u001b[1;95mnp.random\u001b[0m\u001b[1m>\u001b[0m \u001b[1;36m0.72209\u001b[0m \u001b[1m<\u001b[0m\u001b[1;95mrandom\u001b[0m\u001b[1m>\u001b[0m \u001b[1;36m0.14817\u001b[0m                                      \u001b[2mbase.py\u001b[0m\u001b[2m:\u001b[0m\u001b[2m29\u001b[0m\n",
      "\u001b[2;36m                   \u001b[0m\u001b[2;36m \u001b[0m\u001b[34mINFO    \u001b[0m Completed node  \u001b[1;36m2\u001b[0m/ \u001b[1;36m3\u001b[0m: mimic_tab_admissions.privbayes.synth_sample                                                                         \u001b[2mrunner.py\u001b[0m\u001b[2m:\u001b[0m\u001b[2m134\u001b[0m\n",
      "\u001b[2;36m[08/11/22 02:56:52]\u001b[0m\u001b[2;36m \u001b[0m\u001b[34mINFO    \u001b[0m Completed node  \u001b[1;36m3\u001b[0m/ \u001b[1;36m3\u001b[0m: mimic_tab_admissions.privbayes.reverse_table                                                                        \u001b[2mrunner.py\u001b[0m\u001b[2m:\u001b[0m\u001b[2m134\u001b[0m\n",
      "\u001b[2;36m[08/11/22 02:56:53]\u001b[0m\u001b[2;36m \u001b[0m\u001b[34mINFO    \u001b[0m Executing pipeline mimic_tab_admissions.privbayes.synth with overrides `alg.\u001b[33me1\u001b[0m=\u001b[1;36m0\u001b[0m\u001b[1;36m.5\u001b[0m`                                                       \u001b[2mrunner.py\u001b[0m\u001b[2m:\u001b[0m\u001b[2m108\u001b[0m\n",
      "\u001b[2;36m                   \u001b[0m\u001b[2;36m \u001b[0m\u001b[31mWARNING \u001b[0m Current variable domain implementation \u001b[1m(\u001b[0mrequired by \u001b[1m[\u001b[0m\u001b[32m'dod_year'\u001b[0m, \u001b[32m'dod_week'\u001b[0m, \u001b[32m'dod_day'\u001b[0m, \u001b[32m'admittime'\u001b[0m, \u001b[32m'admittime_year'\u001b[0m,                 \u001b[2mprivbayes.py\u001b[0m\u001b[2m:\u001b[0m\u001b[2m584\u001b[0m\n",
      "\u001b[2;36m                    \u001b[0m         \u001b[32m'admittime_week'\u001b[0m, \u001b[32m'admittime_day'\u001b[0m, \u001b[32m'dischtime'\u001b[0m, \u001b[32m'dischtime_day'\u001b[0m, \u001b[32m'deathtime'\u001b[0m, \u001b[32m'deathtime_day'\u001b[0m\u001b[1m]\u001b[0m\u001b[1m)\u001b[0m technically violates DP \u001b[1m(\u001b[0mto be fixed\u001b[1m)\u001b[0m. \u001b[2m                \u001b[0m\n"
     ]
    },
    {
     "name": "stderr",
     "output_type": "stream",
     "text": [
      "                    >>>>>>>  Finding Nodes: 100%|\u001b[34m###################################################################################################\u001b[0m| 19/19 [00:00<00:00,  1.00it/s]\u001b[0m\n"
     ]
    },
    {
     "name": "stdout",
     "output_type": "stream",
     "text": [
      "\u001b[2;36m[08/11/22 02:57:16]\u001b[0m\u001b[2;36m \u001b[0m\u001b[34mINFO    \u001b[0m Bayesian Network Tree:                                                                                                                 \u001b[2mprivbayes.py\u001b[0m\u001b[2m:\u001b[0m\u001b[2m616\u001b[0m\n",
      "\u001b[2;36m                    \u001b[0m         \u001b[1m(\u001b[0mPrivBayes \u001b[33me1\u001b[0m=\u001b[1;36m0\u001b[0m\u001b[1;36m.30\u001b[0m, \u001b[33me2\u001b[0m=\u001b[1;36m0\u001b[0m\u001b[1;36m.70\u001b[0m, \u001b[33mtheta\u001b[0m=\u001b[1;36m4\u001b[0m\u001b[1;36m.00\u001b[0m, available \u001b[33mt\u001b[0m=\u001b[1;36m918\u001b[0m\u001b[1;36m.61\u001b[0m\u001b[1m)\u001b[0m                                                                           \u001b[2m                \u001b[0m\n",
      "\u001b[2;36m                    \u001b[0m         ┌─────────────────────┬─────┬──────────┬──────────────────────────────────────────────────────────────────────┐                        \u001b[2m                \u001b[0m\n",
      "\u001b[2;36m                    \u001b[0m         │           Attribute │ Dom │ Avail. t │                                                                      │                        \u001b[2m                \u001b[0m\n",
      "\u001b[2;36m                    \u001b[0m         ├─────────────────────┼─────┼──────────┼──────────────────────────────────────────────────────────────────────┤                        \u001b[2m                \u001b[0m\n",
      "\u001b[2;36m                    \u001b[0m         │      admittime_year │ \u001b[1;36m128\u001b[0m │     \u001b[1;36m7.18\u001b[0m │                                                                      │                        \u001b[2m                \u001b[0m\n",
      "\u001b[2;36m                    \u001b[0m         │      marital_status │   \u001b[1;36m6\u001b[0m │   \u001b[1;36m153.10\u001b[0m │ admittime_year.\u001b[1;36m0\u001b[0m                                                     │                        \u001b[2m                \u001b[0m\n",
      "\u001b[2;36m                    \u001b[0m         │      admission_type │   \u001b[1;36m9\u001b[0m │   \u001b[1;36m102.07\u001b[0m │ admittime_year.\u001b[1;36m3\u001b[0m marital_status.\u001b[1;36m0\u001b[0m                                    │                        \u001b[2m                \u001b[0m\n",
      "\u001b[2;36m                    \u001b[0m         │  admission_location │  \u001b[1;36m13\u001b[0m │    \u001b[1;36m70.66\u001b[0m │ admittime_year.\u001b[1;36m5\u001b[0m admission_type.\u001b[1;36m0\u001b[0m                                    │                        \u001b[2m                \u001b[0m\n",
      "\u001b[2;36m                    \u001b[0m         │  discharge_location │  \u001b[1;36m15\u001b[0m │    \u001b[1;36m61.24\u001b[0m │ admittime_year.\u001b[1;36m5\u001b[0m admission_type.\u001b[1;36m0\u001b[0m                                    │                        \u001b[2m                \u001b[0m\n",
      "\u001b[2;36m                    \u001b[0m         │           insurance │   \u001b[1;36m3\u001b[0m │   \u001b[1;36m306.20\u001b[0m │ admittime_year.\u001b[1;36m5\u001b[0m admission_type.\u001b[1;36m0\u001b[0m marital_status.\u001b[1;36m0\u001b[0m                   │                        \u001b[2m                \u001b[0m\n",
      "\u001b[2;36m                    \u001b[0m         │           admittime │  \u001b[1;36m32\u001b[0m │    \u001b[1;36m28.71\u001b[0m │ admittime_year.\u001b[1;36m6\u001b[0m admission_type.\u001b[1;36m0\u001b[0m                                    │                        \u001b[2m                \u001b[0m\n",
      "\u001b[2;36m                    \u001b[0m         │           dischtime │  \u001b[1;36m32\u001b[0m │    \u001b[1;36m28.71\u001b[0m │ admittime_year.\u001b[1;36m6\u001b[0m admission_type.\u001b[1;36m0\u001b[0m                                    │                        \u001b[2m                \u001b[0m\n",
      "\u001b[2;36m                    \u001b[0m         │           ethnicity │   \u001b[1;36m8\u001b[0m │   \u001b[1;36m114.83\u001b[0m │ admittime_year.\u001b[1;36m5\u001b[0m      insurance.\u001b[1;36m0\u001b[0m marital_status.\u001b[1;36m0\u001b[0m                   │                        \u001b[2m                \u001b[0m\n",
      "\u001b[2;36m                    \u001b[0m         │              gender │   \u001b[1;36m2\u001b[0m │   \u001b[1;36m459.31\u001b[0m │ admittime_year.\u001b[1;36m4\u001b[0m marital_status.\u001b[1;36m0\u001b[0m      ethnicity.\u001b[1;36m0\u001b[0m                   │                        \u001b[2m                \u001b[0m\n",
      "\u001b[2;36m                    \u001b[0m         │            language │   \u001b[1;36m2\u001b[0m │   \u001b[1;36m459.31\u001b[0m │ admittime_year.\u001b[1;36m4\u001b[0m      dischtime.\u001b[1;36m4\u001b[0m      insurance.\u001b[1;36m0\u001b[0m      ethnicity.\u001b[1;36m0\u001b[0m  │                        \u001b[2m                \u001b[0m\n",
      "\u001b[2;36m                    \u001b[0m         │       dischtime_day │ \u001b[1;36m128\u001b[0m │     \u001b[1;36m7.18\u001b[0m │      admittime.\u001b[1;36m4\u001b[0m admittime_year.\u001b[1;36m6\u001b[0m                                    │                        \u001b[2m                \u001b[0m\n",
      "\u001b[2;36m                    \u001b[0m         │       admittime_day │   \u001b[1;36m8\u001b[0m │   \u001b[1;36m114.83\u001b[0m │  dischtime_day.\u001b[1;36m1\u001b[0m                                                     │                        \u001b[2m                \u001b[0m\n",
      "\u001b[2;36m                    \u001b[0m         │            dod_year │ \u001b[1;36m129\u001b[0m │     \u001b[1;36m7.12\u001b[0m │ admittime_year.\u001b[1;36m6\u001b[0m      insurance.\u001b[1;36m0\u001b[0m                                    │                        \u001b[2m                \u001b[0m\n",
      "\u001b[2;36m                    \u001b[0m         │             dod_day │   \u001b[1;36m9\u001b[0m │   \u001b[1;36m102.07\u001b[0m │       dod_year.\u001b[1;36m6\u001b[0m      admittime.\u001b[1;36m4\u001b[0m  admittime_day.\u001b[1;36m2\u001b[0m      ethnicity.\u001b[1;36m0\u001b[0m  │                        \u001b[2m                \u001b[0m\n",
      "\u001b[2;36m                    \u001b[0m         │            dod_week │  \u001b[1;36m65\u001b[0m │    \u001b[1;36m14.13\u001b[0m │       dod_year.\u001b[1;36m6\u001b[0m      insurance.\u001b[1;36m0\u001b[0m                                    │                        \u001b[2m                \u001b[0m\n",
      "\u001b[2;36m                    \u001b[0m         │hospital_expire_flag │   \u001b[1;36m2\u001b[0m │   \u001b[1;36m459.31\u001b[0m │       dod_year.\u001b[1;36m7\u001b[0m  dischtime_day.\u001b[1;36m6\u001b[0m       language.\u001b[1;36m0\u001b[0m marital_status.\u001b[1;36m0\u001b[0m      ethnicity.\u001b[1;36m0\u001b[0m│         \u001b[2m                \u001b[0m\n",
      "\u001b[2;36m                    \u001b[0m         │           deathtime │  \u001b[1;36m33\u001b[0m │    \u001b[1;36m27.84\u001b[0m │       dod_year.\u001b[1;36m6\u001b[0m admission_type.\u001b[1;36m0\u001b[0m                                    │                        \u001b[2m                \u001b[0m\n",
      "\u001b[2;36m                    \u001b[0m         │       deathtime_day │ \u001b[1;36m129\u001b[0m │     \u001b[1;36m7.12\u001b[0m │      insurance.0hospital_expire_flag.\u001b[1;36m0\u001b[0m                               │                        \u001b[2m                \u001b[0m\n",
      "\u001b[2;36m                    \u001b[0m         │      admittime_week │  \u001b[1;36m64\u001b[0m │    \u001b[1;36m14.35\u001b[0m │       dod_week.\u001b[1;36m5\u001b[0m admittime_year.\u001b[1;36m6\u001b[0m      dischtime.\u001b[1;36m4\u001b[0m                   │                        \u001b[2m                \u001b[0m\n",
      "\u001b[2;36m                    \u001b[0m         └─────────────────────┴─────┴──────────┴──────────────────────────────────────────────────────────────────────┘                        \u001b[2m                \u001b[0m\n",
      "\u001b[2;36m                   \u001b[0m\u001b[2;36m \u001b[0m\u001b[34mINFO    \u001b[0m Deterministic check: random number after    \u001b[1;35mPrivBayesSynth.bake\u001b[0m\u001b[1m(\u001b[0m\u001b[1m)\u001b[0m: \u001b[1m<\u001b[0m\u001b[1;95mnp.random\u001b[0m\u001b[1m>\u001b[0m \u001b[1;36m0.55166\u001b[0m \u001b[1m<\u001b[0m\u001b[1;95mrandom\u001b[0m\u001b[1m>\u001b[0m \u001b[1;36m0.14817\u001b[0m                                      \u001b[2mbase.py\u001b[0m\u001b[2m:\u001b[0m\u001b[2m29\u001b[0m\n",
      "\u001b[2;36m                   \u001b[0m\u001b[2;36m \u001b[0m\u001b[34mINFO    \u001b[0m Deterministic check: random number after     \u001b[1;35mPrivBayesSynth.fit\u001b[0m\u001b[1m(\u001b[0m\u001b[1m)\u001b[0m: \u001b[1m<\u001b[0m\u001b[1;95mnp.random\u001b[0m\u001b[1m>\u001b[0m \u001b[1;36m0.96812\u001b[0m \u001b[1m<\u001b[0m\u001b[1;95mrandom\u001b[0m\u001b[1m>\u001b[0m \u001b[1;36m0.14817\u001b[0m                                      \u001b[2mbase.py\u001b[0m\u001b[2m:\u001b[0m\u001b[2m29\u001b[0m\n",
      "\u001b[2;36m                   \u001b[0m\u001b[2;36m \u001b[0m\u001b[34mINFO    \u001b[0m Completed node  \u001b[1;36m1\u001b[0m/ \u001b[1;36m3\u001b[0m: mimic_tab_admissions.privbayes.fit                                                                                  \u001b[2mrunner.py\u001b[0m\u001b[2m:\u001b[0m\u001b[2m134\u001b[0m\n",
      "\u001b[2;36m                   \u001b[0m\u001b[2;36m \u001b[0m\u001b[34mINFO    \u001b[0m Deterministic check: random number after  \u001b[1;35mPrivBayesSynth.sample\u001b[0m\u001b[1m(\u001b[0m\u001b[1m)\u001b[0m: \u001b[1m<\u001b[0m\u001b[1;95mnp.random\u001b[0m\u001b[1m>\u001b[0m \u001b[1;36m0.72209\u001b[0m \u001b[1m<\u001b[0m\u001b[1;95mrandom\u001b[0m\u001b[1m>\u001b[0m \u001b[1;36m0.14817\u001b[0m                                      \u001b[2mbase.py\u001b[0m\u001b[2m:\u001b[0m\u001b[2m29\u001b[0m\n",
      "\u001b[2;36m                   \u001b[0m\u001b[2;36m \u001b[0m\u001b[34mINFO    \u001b[0m Completed node  \u001b[1;36m2\u001b[0m/ \u001b[1;36m3\u001b[0m: mimic_tab_admissions.privbayes.synth_sample                                                                         \u001b[2mrunner.py\u001b[0m\u001b[2m:\u001b[0m\u001b[2m134\u001b[0m\n",
      "\u001b[2;36m[08/11/22 02:57:18]\u001b[0m\u001b[2;36m \u001b[0m\u001b[34mINFO    \u001b[0m Completed node  \u001b[1;36m3\u001b[0m/ \u001b[1;36m3\u001b[0m: mimic_tab_admissions.privbayes.reverse_table                                                                        \u001b[2mrunner.py\u001b[0m\u001b[2m:\u001b[0m\u001b[2m134\u001b[0m\n",
      "\u001b[2;36m[08/11/22 02:57:19]\u001b[0m\u001b[2;36m \u001b[0m\u001b[34mINFO    \u001b[0m Executing pipeline mimic_tab_admissions.privbayes.synth with overrides `alg.\u001b[33me1\u001b[0m=\u001b[1;36m0\u001b[0m\u001b[1;36m.9\u001b[0m`                                                       \u001b[2mrunner.py\u001b[0m\u001b[2m:\u001b[0m\u001b[2m108\u001b[0m\n",
      "\u001b[2;36m                   \u001b[0m\u001b[2;36m \u001b[0m\u001b[31mWARNING \u001b[0m Current variable domain implementation \u001b[1m(\u001b[0mrequired by \u001b[1m[\u001b[0m\u001b[32m'dod_year'\u001b[0m, \u001b[32m'dod_week'\u001b[0m, \u001b[32m'dod_day'\u001b[0m, \u001b[32m'admittime'\u001b[0m, \u001b[32m'admittime_year'\u001b[0m,                 \u001b[2mprivbayes.py\u001b[0m\u001b[2m:\u001b[0m\u001b[2m584\u001b[0m\n",
      "\u001b[2;36m                    \u001b[0m         \u001b[32m'admittime_week'\u001b[0m, \u001b[32m'admittime_day'\u001b[0m, \u001b[32m'dischtime'\u001b[0m, \u001b[32m'dischtime_day'\u001b[0m, \u001b[32m'deathtime'\u001b[0m, \u001b[32m'deathtime_day'\u001b[0m\u001b[1m]\u001b[0m\u001b[1m)\u001b[0m technically violates DP \u001b[1m(\u001b[0mto be fixed\u001b[1m)\u001b[0m. \u001b[2m                \u001b[0m\n"
     ]
    },
    {
     "name": "stderr",
     "output_type": "stream",
     "text": [
      "                    >>>>>>>  Finding Nodes: 100%|\u001b[34m###################################################################################################\u001b[0m| 19/19 [00:00<00:00,  1.00it/s]\u001b[0m\n"
     ]
    },
    {
     "name": "stdout",
     "output_type": "stream",
     "text": [
      "\u001b[2;36m[08/11/22 02:57:42]\u001b[0m\u001b[2;36m \u001b[0m\u001b[34mINFO    \u001b[0m Bayesian Network Tree:                                                                                                                 \u001b[2mprivbayes.py\u001b[0m\u001b[2m:\u001b[0m\u001b[2m616\u001b[0m\n",
      "\u001b[2;36m                    \u001b[0m         \u001b[1m(\u001b[0mPrivBayes \u001b[33me1\u001b[0m=\u001b[1;36m0\u001b[0m\u001b[1;36m.30\u001b[0m, \u001b[33me2\u001b[0m=\u001b[1;36m0\u001b[0m\u001b[1;36m.70\u001b[0m, \u001b[33mtheta\u001b[0m=\u001b[1;36m4\u001b[0m\u001b[1;36m.00\u001b[0m, available \u001b[33mt\u001b[0m=\u001b[1;36m918\u001b[0m\u001b[1;36m.61\u001b[0m\u001b[1m)\u001b[0m                                                                           \u001b[2m                \u001b[0m\n",
      "\u001b[2;36m                    \u001b[0m         ┌─────────────────────┬─────┬──────────┬──────────────────────────────────────────────────────────────────────┐                        \u001b[2m                \u001b[0m\n",
      "\u001b[2;36m                    \u001b[0m         │           Attribute │ Dom │ Avail. t │                                                                      │                        \u001b[2m                \u001b[0m\n",
      "\u001b[2;36m                    \u001b[0m         ├─────────────────────┼─────┼──────────┼──────────────────────────────────────────────────────────────────────┤                        \u001b[2m                \u001b[0m\n",
      "\u001b[2;36m                    \u001b[0m         │      admittime_year │ \u001b[1;36m128\u001b[0m │     \u001b[1;36m7.18\u001b[0m │                                                                      │                        \u001b[2m                \u001b[0m\n",
      "\u001b[2;36m                    \u001b[0m         │      marital_status │   \u001b[1;36m6\u001b[0m │   \u001b[1;36m153.10\u001b[0m │ admittime_year.\u001b[1;36m0\u001b[0m                                                     │                        \u001b[2m                \u001b[0m\n",
      "\u001b[2;36m                    \u001b[0m         │      admission_type │   \u001b[1;36m9\u001b[0m │   \u001b[1;36m102.07\u001b[0m │ admittime_year.\u001b[1;36m3\u001b[0m marital_status.\u001b[1;36m0\u001b[0m                                    │                        \u001b[2m                \u001b[0m\n",
      "\u001b[2;36m                    \u001b[0m         │  admission_location │  \u001b[1;36m13\u001b[0m │    \u001b[1;36m70.66\u001b[0m │ admittime_year.\u001b[1;36m5\u001b[0m admission_type.\u001b[1;36m0\u001b[0m                                    │                        \u001b[2m                \u001b[0m\n",
      "\u001b[2;36m                    \u001b[0m         │  discharge_location │  \u001b[1;36m15\u001b[0m │    \u001b[1;36m61.24\u001b[0m │ admittime_year.\u001b[1;36m5\u001b[0m admission_type.\u001b[1;36m0\u001b[0m                                    │                        \u001b[2m                \u001b[0m\n",
      "\u001b[2;36m                    \u001b[0m         │           insurance │   \u001b[1;36m3\u001b[0m │   \u001b[1;36m306.20\u001b[0m │ admittime_year.\u001b[1;36m5\u001b[0m admission_type.\u001b[1;36m0\u001b[0m marital_status.\u001b[1;36m0\u001b[0m                   │                        \u001b[2m                \u001b[0m\n",
      "\u001b[2;36m                    \u001b[0m         │           admittime │  \u001b[1;36m32\u001b[0m │    \u001b[1;36m28.71\u001b[0m │ admittime_year.\u001b[1;36m6\u001b[0m admission_type.\u001b[1;36m0\u001b[0m                                    │                        \u001b[2m                \u001b[0m\n",
      "\u001b[2;36m                    \u001b[0m         │           dischtime │  \u001b[1;36m32\u001b[0m │    \u001b[1;36m28.71\u001b[0m │ admittime_year.\u001b[1;36m6\u001b[0m admission_type.\u001b[1;36m0\u001b[0m                                    │                        \u001b[2m                \u001b[0m\n",
      "\u001b[2;36m                    \u001b[0m         │           ethnicity │   \u001b[1;36m8\u001b[0m │   \u001b[1;36m114.83\u001b[0m │ admittime_year.\u001b[1;36m5\u001b[0m      insurance.\u001b[1;36m0\u001b[0m marital_status.\u001b[1;36m0\u001b[0m                   │                        \u001b[2m                \u001b[0m\n",
      "\u001b[2;36m                    \u001b[0m         │              gender │   \u001b[1;36m2\u001b[0m │   \u001b[1;36m459.31\u001b[0m │ admittime_year.\u001b[1;36m4\u001b[0m marital_status.\u001b[1;36m0\u001b[0m      ethnicity.\u001b[1;36m0\u001b[0m                   │                        \u001b[2m                \u001b[0m\n",
      "\u001b[2;36m                    \u001b[0m         │            language │   \u001b[1;36m2\u001b[0m │   \u001b[1;36m459.31\u001b[0m │ admittime_year.\u001b[1;36m4\u001b[0m      dischtime.\u001b[1;36m4\u001b[0m      insurance.\u001b[1;36m0\u001b[0m      ethnicity.\u001b[1;36m0\u001b[0m  │                        \u001b[2m                \u001b[0m\n",
      "\u001b[2;36m                    \u001b[0m         │       dischtime_day │ \u001b[1;36m128\u001b[0m │     \u001b[1;36m7.18\u001b[0m │      admittime.\u001b[1;36m4\u001b[0m admittime_year.\u001b[1;36m6\u001b[0m                                    │                        \u001b[2m                \u001b[0m\n",
      "\u001b[2;36m                    \u001b[0m         │       admittime_day │   \u001b[1;36m8\u001b[0m │   \u001b[1;36m114.83\u001b[0m │  dischtime_day.\u001b[1;36m1\u001b[0m                                                     │                        \u001b[2m                \u001b[0m\n",
      "\u001b[2;36m                    \u001b[0m         │            dod_year │ \u001b[1;36m129\u001b[0m │     \u001b[1;36m7.12\u001b[0m │ admittime_year.\u001b[1;36m6\u001b[0m      insurance.\u001b[1;36m0\u001b[0m                                    │                        \u001b[2m                \u001b[0m\n",
      "\u001b[2;36m                    \u001b[0m         │             dod_day │   \u001b[1;36m9\u001b[0m │   \u001b[1;36m102.07\u001b[0m │       dod_year.\u001b[1;36m6\u001b[0m      admittime.\u001b[1;36m4\u001b[0m  admittime_day.\u001b[1;36m2\u001b[0m      ethnicity.\u001b[1;36m0\u001b[0m  │                        \u001b[2m                \u001b[0m\n",
      "\u001b[2;36m                    \u001b[0m         │            dod_week │  \u001b[1;36m65\u001b[0m │    \u001b[1;36m14.13\u001b[0m │       dod_year.\u001b[1;36m6\u001b[0m      insurance.\u001b[1;36m0\u001b[0m                                    │                        \u001b[2m                \u001b[0m\n",
      "\u001b[2;36m                    \u001b[0m         │hospital_expire_flag │   \u001b[1;36m2\u001b[0m │   \u001b[1;36m459.31\u001b[0m │       dod_year.\u001b[1;36m7\u001b[0m  dischtime_day.\u001b[1;36m6\u001b[0m       language.\u001b[1;36m0\u001b[0m marital_status.\u001b[1;36m0\u001b[0m      ethnicity.\u001b[1;36m0\u001b[0m│         \u001b[2m                \u001b[0m\n",
      "\u001b[2;36m                    \u001b[0m         │           deathtime │  \u001b[1;36m33\u001b[0m │    \u001b[1;36m27.84\u001b[0m │       dod_year.\u001b[1;36m6\u001b[0m admission_type.\u001b[1;36m0\u001b[0m                                    │                        \u001b[2m                \u001b[0m\n",
      "\u001b[2;36m                    \u001b[0m         │       deathtime_day │ \u001b[1;36m129\u001b[0m │     \u001b[1;36m7.12\u001b[0m │      insurance.0hospital_expire_flag.\u001b[1;36m0\u001b[0m                               │                        \u001b[2m                \u001b[0m\n",
      "\u001b[2;36m                    \u001b[0m         │      admittime_week │  \u001b[1;36m64\u001b[0m │    \u001b[1;36m14.35\u001b[0m │       dod_week.\u001b[1;36m5\u001b[0m admittime_year.\u001b[1;36m6\u001b[0m      dischtime.\u001b[1;36m4\u001b[0m                   │                        \u001b[2m                \u001b[0m\n",
      "\u001b[2;36m                    \u001b[0m         └─────────────────────┴─────┴──────────┴──────────────────────────────────────────────────────────────────────┘                        \u001b[2m                \u001b[0m\n",
      "\u001b[2;36m                   \u001b[0m\u001b[2;36m \u001b[0m\u001b[34mINFO    \u001b[0m Deterministic check: random number after    \u001b[1;35mPrivBayesSynth.bake\u001b[0m\u001b[1m(\u001b[0m\u001b[1m)\u001b[0m: \u001b[1m<\u001b[0m\u001b[1;95mnp.random\u001b[0m\u001b[1m>\u001b[0m \u001b[1;36m0.55166\u001b[0m \u001b[1m<\u001b[0m\u001b[1;95mrandom\u001b[0m\u001b[1m>\u001b[0m \u001b[1;36m0.14817\u001b[0m                                      \u001b[2mbase.py\u001b[0m\u001b[2m:\u001b[0m\u001b[2m29\u001b[0m\n",
      "\u001b[2;36m                   \u001b[0m\u001b[2;36m \u001b[0m\u001b[34mINFO    \u001b[0m Deterministic check: random number after     \u001b[1;35mPrivBayesSynth.fit\u001b[0m\u001b[1m(\u001b[0m\u001b[1m)\u001b[0m: \u001b[1m<\u001b[0m\u001b[1;95mnp.random\u001b[0m\u001b[1m>\u001b[0m \u001b[1;36m0.96812\u001b[0m \u001b[1m<\u001b[0m\u001b[1;95mrandom\u001b[0m\u001b[1m>\u001b[0m \u001b[1;36m0.14817\u001b[0m                                      \u001b[2mbase.py\u001b[0m\u001b[2m:\u001b[0m\u001b[2m29\u001b[0m\n",
      "\u001b[2;36m                   \u001b[0m\u001b[2;36m \u001b[0m\u001b[34mINFO    \u001b[0m Completed node  \u001b[1;36m1\u001b[0m/ \u001b[1;36m3\u001b[0m: mimic_tab_admissions.privbayes.fit                                                                                  \u001b[2mrunner.py\u001b[0m\u001b[2m:\u001b[0m\u001b[2m134\u001b[0m\n",
      "\u001b[2;36m[08/11/22 02:57:43]\u001b[0m\u001b[2;36m \u001b[0m\u001b[34mINFO    \u001b[0m Deterministic check: random number after  \u001b[1;35mPrivBayesSynth.sample\u001b[0m\u001b[1m(\u001b[0m\u001b[1m)\u001b[0m: \u001b[1m<\u001b[0m\u001b[1;95mnp.random\u001b[0m\u001b[1m>\u001b[0m \u001b[1;36m0.72209\u001b[0m \u001b[1m<\u001b[0m\u001b[1;95mrandom\u001b[0m\u001b[1m>\u001b[0m \u001b[1;36m0.14817\u001b[0m                                      \u001b[2mbase.py\u001b[0m\u001b[2m:\u001b[0m\u001b[2m29\u001b[0m\n",
      "\u001b[2;36m                   \u001b[0m\u001b[2;36m \u001b[0m\u001b[34mINFO    \u001b[0m Completed node  \u001b[1;36m2\u001b[0m/ \u001b[1;36m3\u001b[0m: mimic_tab_admissions.privbayes.synth_sample                                                                         \u001b[2mrunner.py\u001b[0m\u001b[2m:\u001b[0m\u001b[2m134\u001b[0m\n",
      "\u001b[2;36m[08/11/22 02:57:45]\u001b[0m\u001b[2;36m \u001b[0m\u001b[34mINFO    \u001b[0m Completed node  \u001b[1;36m3\u001b[0m/ \u001b[1;36m3\u001b[0m: mimic_tab_admissions.privbayes.reverse_table                                                                        \u001b[2mrunner.py\u001b[0m\u001b[2m:\u001b[0m\u001b[2m134\u001b[0m\n",
      "\u001b[2;36m[08/11/22 02:57:45]\u001b[0m\u001b[2;36m \u001b[0m\u001b[34mINFO    \u001b[0m Executing pipeline mimic_tab_admissions.privbayes.synth with overrides `alg.\u001b[33me1\u001b[0m=\u001b[1;36m1\u001b[0m\u001b[1;36m.5\u001b[0m`                                                       \u001b[2mrunner.py\u001b[0m\u001b[2m:\u001b[0m\u001b[2m108\u001b[0m\n",
      "\u001b[2;36m                   \u001b[0m\u001b[2;36m \u001b[0m\u001b[31mWARNING \u001b[0m Current variable domain implementation \u001b[1m(\u001b[0mrequired by \u001b[1m[\u001b[0m\u001b[32m'dod_year'\u001b[0m, \u001b[32m'dod_week'\u001b[0m, \u001b[32m'dod_day'\u001b[0m, \u001b[32m'admittime'\u001b[0m, \u001b[32m'admittime_year'\u001b[0m,                 \u001b[2mprivbayes.py\u001b[0m\u001b[2m:\u001b[0m\u001b[2m584\u001b[0m\n",
      "\u001b[2;36m                    \u001b[0m         \u001b[32m'admittime_week'\u001b[0m, \u001b[32m'admittime_day'\u001b[0m, \u001b[32m'dischtime'\u001b[0m, \u001b[32m'dischtime_day'\u001b[0m, \u001b[32m'deathtime'\u001b[0m, \u001b[32m'deathtime_day'\u001b[0m\u001b[1m]\u001b[0m\u001b[1m)\u001b[0m technically violates DP \u001b[1m(\u001b[0mto be fixed\u001b[1m)\u001b[0m. \u001b[2m                \u001b[0m\n"
     ]
    },
    {
     "name": "stderr",
     "output_type": "stream",
     "text": [
      "                    >>>>>>>  Finding Nodes: 100%|\u001b[34m###################################################################################################\u001b[0m| 19/19 [00:00<00:00,  1.00it/s]\u001b[0m\n"
     ]
    },
    {
     "name": "stdout",
     "output_type": "stream",
     "text": [
      "\u001b[2;36m[08/11/22 02:58:09]\u001b[0m\u001b[2;36m \u001b[0m\u001b[34mINFO    \u001b[0m Bayesian Network Tree:                                                                                                                 \u001b[2mprivbayes.py\u001b[0m\u001b[2m:\u001b[0m\u001b[2m616\u001b[0m\n",
      "\u001b[2;36m                    \u001b[0m         \u001b[1m(\u001b[0mPrivBayes \u001b[33me1\u001b[0m=\u001b[1;36m0\u001b[0m\u001b[1;36m.30\u001b[0m, \u001b[33me2\u001b[0m=\u001b[1;36m0\u001b[0m\u001b[1;36m.70\u001b[0m, \u001b[33mtheta\u001b[0m=\u001b[1;36m4\u001b[0m\u001b[1;36m.00\u001b[0m, available \u001b[33mt\u001b[0m=\u001b[1;36m918\u001b[0m\u001b[1;36m.61\u001b[0m\u001b[1m)\u001b[0m                                                                           \u001b[2m                \u001b[0m\n",
      "\u001b[2;36m                    \u001b[0m         ┌─────────────────────┬─────┬──────────┬──────────────────────────────────────────────────────────────────────┐                        \u001b[2m                \u001b[0m\n",
      "\u001b[2;36m                    \u001b[0m         │           Attribute │ Dom │ Avail. t │                                                                      │                        \u001b[2m                \u001b[0m\n",
      "\u001b[2;36m                    \u001b[0m         ├─────────────────────┼─────┼──────────┼──────────────────────────────────────────────────────────────────────┤                        \u001b[2m                \u001b[0m\n",
      "\u001b[2;36m                    \u001b[0m         │      admittime_year │ \u001b[1;36m128\u001b[0m │     \u001b[1;36m7.18\u001b[0m │                                                                      │                        \u001b[2m                \u001b[0m\n",
      "\u001b[2;36m                    \u001b[0m         │      marital_status │   \u001b[1;36m6\u001b[0m │   \u001b[1;36m153.10\u001b[0m │ admittime_year.\u001b[1;36m0\u001b[0m                                                     │                        \u001b[2m                \u001b[0m\n",
      "\u001b[2;36m                    \u001b[0m         │      admission_type │   \u001b[1;36m9\u001b[0m │   \u001b[1;36m102.07\u001b[0m │ admittime_year.\u001b[1;36m3\u001b[0m marital_status.\u001b[1;36m0\u001b[0m                                    │                        \u001b[2m                \u001b[0m\n",
      "\u001b[2;36m                    \u001b[0m         │  admission_location │  \u001b[1;36m13\u001b[0m │    \u001b[1;36m70.66\u001b[0m │ admittime_year.\u001b[1;36m5\u001b[0m admission_type.\u001b[1;36m0\u001b[0m                                    │                        \u001b[2m                \u001b[0m\n",
      "\u001b[2;36m                    \u001b[0m         │  discharge_location │  \u001b[1;36m15\u001b[0m │    \u001b[1;36m61.24\u001b[0m │ admittime_year.\u001b[1;36m5\u001b[0m admission_type.\u001b[1;36m0\u001b[0m                                    │                        \u001b[2m                \u001b[0m\n",
      "\u001b[2;36m                    \u001b[0m         │           insurance │   \u001b[1;36m3\u001b[0m │   \u001b[1;36m306.20\u001b[0m │ admittime_year.\u001b[1;36m5\u001b[0m admission_type.\u001b[1;36m0\u001b[0m marital_status.\u001b[1;36m0\u001b[0m                   │                        \u001b[2m                \u001b[0m\n",
      "\u001b[2;36m                    \u001b[0m         │           admittime │  \u001b[1;36m32\u001b[0m │    \u001b[1;36m28.71\u001b[0m │ admittime_year.\u001b[1;36m6\u001b[0m admission_type.\u001b[1;36m0\u001b[0m                                    │                        \u001b[2m                \u001b[0m\n",
      "\u001b[2;36m                    \u001b[0m         │           dischtime │  \u001b[1;36m32\u001b[0m │    \u001b[1;36m28.71\u001b[0m │ admittime_year.\u001b[1;36m6\u001b[0m admission_type.\u001b[1;36m0\u001b[0m                                    │                        \u001b[2m                \u001b[0m\n",
      "\u001b[2;36m                    \u001b[0m         │           ethnicity │   \u001b[1;36m8\u001b[0m │   \u001b[1;36m114.83\u001b[0m │ admittime_year.\u001b[1;36m5\u001b[0m      insurance.\u001b[1;36m0\u001b[0m marital_status.\u001b[1;36m0\u001b[0m                   │                        \u001b[2m                \u001b[0m\n",
      "\u001b[2;36m                    \u001b[0m         │              gender │   \u001b[1;36m2\u001b[0m │   \u001b[1;36m459.31\u001b[0m │ admittime_year.\u001b[1;36m4\u001b[0m marital_status.\u001b[1;36m0\u001b[0m      ethnicity.\u001b[1;36m0\u001b[0m                   │                        \u001b[2m                \u001b[0m\n",
      "\u001b[2;36m                    \u001b[0m         │            language │   \u001b[1;36m2\u001b[0m │   \u001b[1;36m459.31\u001b[0m │ admittime_year.\u001b[1;36m4\u001b[0m      dischtime.\u001b[1;36m4\u001b[0m      insurance.\u001b[1;36m0\u001b[0m      ethnicity.\u001b[1;36m0\u001b[0m  │                        \u001b[2m                \u001b[0m\n",
      "\u001b[2;36m                    \u001b[0m         │       dischtime_day │ \u001b[1;36m128\u001b[0m │     \u001b[1;36m7.18\u001b[0m │      admittime.\u001b[1;36m4\u001b[0m admittime_year.\u001b[1;36m6\u001b[0m                                    │                        \u001b[2m                \u001b[0m\n",
      "\u001b[2;36m                    \u001b[0m         │       admittime_day │   \u001b[1;36m8\u001b[0m │   \u001b[1;36m114.83\u001b[0m │  dischtime_day.\u001b[1;36m1\u001b[0m                                                     │                        \u001b[2m                \u001b[0m\n",
      "\u001b[2;36m                    \u001b[0m         │            dod_year │ \u001b[1;36m129\u001b[0m │     \u001b[1;36m7.12\u001b[0m │ admittime_year.\u001b[1;36m6\u001b[0m      insurance.\u001b[1;36m0\u001b[0m                                    │                        \u001b[2m                \u001b[0m\n",
      "\u001b[2;36m                    \u001b[0m         │             dod_day │   \u001b[1;36m9\u001b[0m │   \u001b[1;36m102.07\u001b[0m │       dod_year.\u001b[1;36m6\u001b[0m      admittime.\u001b[1;36m4\u001b[0m  admittime_day.\u001b[1;36m2\u001b[0m      ethnicity.\u001b[1;36m0\u001b[0m  │                        \u001b[2m                \u001b[0m\n",
      "\u001b[2;36m                    \u001b[0m         │            dod_week │  \u001b[1;36m65\u001b[0m │    \u001b[1;36m14.13\u001b[0m │       dod_year.\u001b[1;36m6\u001b[0m      insurance.\u001b[1;36m0\u001b[0m                                    │                        \u001b[2m                \u001b[0m\n",
      "\u001b[2;36m                    \u001b[0m         │hospital_expire_flag │   \u001b[1;36m2\u001b[0m │   \u001b[1;36m459.31\u001b[0m │       dod_year.\u001b[1;36m7\u001b[0m  dischtime_day.\u001b[1;36m6\u001b[0m       language.\u001b[1;36m0\u001b[0m marital_status.\u001b[1;36m0\u001b[0m      ethnicity.\u001b[1;36m0\u001b[0m│         \u001b[2m                \u001b[0m\n",
      "\u001b[2;36m                    \u001b[0m         │           deathtime │  \u001b[1;36m33\u001b[0m │    \u001b[1;36m27.84\u001b[0m │       dod_year.\u001b[1;36m6\u001b[0m admission_type.\u001b[1;36m0\u001b[0m                                    │                        \u001b[2m                \u001b[0m\n",
      "\u001b[2;36m                    \u001b[0m         │       deathtime_day │ \u001b[1;36m129\u001b[0m │     \u001b[1;36m7.12\u001b[0m │      insurance.0hospital_expire_flag.\u001b[1;36m0\u001b[0m                               │                        \u001b[2m                \u001b[0m\n",
      "\u001b[2;36m                    \u001b[0m         │      admittime_week │  \u001b[1;36m64\u001b[0m │    \u001b[1;36m14.35\u001b[0m │       dod_week.\u001b[1;36m5\u001b[0m admittime_year.\u001b[1;36m6\u001b[0m      dischtime.\u001b[1;36m4\u001b[0m                   │                        \u001b[2m                \u001b[0m\n",
      "\u001b[2;36m                    \u001b[0m         └─────────────────────┴─────┴──────────┴──────────────────────────────────────────────────────────────────────┘                        \u001b[2m                \u001b[0m\n",
      "\u001b[2;36m                   \u001b[0m\u001b[2;36m \u001b[0m\u001b[34mINFO    \u001b[0m Deterministic check: random number after    \u001b[1;35mPrivBayesSynth.bake\u001b[0m\u001b[1m(\u001b[0m\u001b[1m)\u001b[0m: \u001b[1m<\u001b[0m\u001b[1;95mnp.random\u001b[0m\u001b[1m>\u001b[0m \u001b[1;36m0.55166\u001b[0m \u001b[1m<\u001b[0m\u001b[1;95mrandom\u001b[0m\u001b[1m>\u001b[0m \u001b[1;36m0.14817\u001b[0m                                      \u001b[2mbase.py\u001b[0m\u001b[2m:\u001b[0m\u001b[2m29\u001b[0m\n",
      "\u001b[2;36m                   \u001b[0m\u001b[2;36m \u001b[0m\u001b[34mINFO    \u001b[0m Deterministic check: random number after     \u001b[1;35mPrivBayesSynth.fit\u001b[0m\u001b[1m(\u001b[0m\u001b[1m)\u001b[0m: \u001b[1m<\u001b[0m\u001b[1;95mnp.random\u001b[0m\u001b[1m>\u001b[0m \u001b[1;36m0.96812\u001b[0m \u001b[1m<\u001b[0m\u001b[1;95mrandom\u001b[0m\u001b[1m>\u001b[0m \u001b[1;36m0.14817\u001b[0m                                      \u001b[2mbase.py\u001b[0m\u001b[2m:\u001b[0m\u001b[2m29\u001b[0m\n",
      "\u001b[2;36m                   \u001b[0m\u001b[2;36m \u001b[0m\u001b[34mINFO    \u001b[0m Completed node  \u001b[1;36m1\u001b[0m/ \u001b[1;36m3\u001b[0m: mimic_tab_admissions.privbayes.fit                                                                                  \u001b[2mrunner.py\u001b[0m\u001b[2m:\u001b[0m\u001b[2m134\u001b[0m\n",
      "\u001b[2;36m[08/11/22 02:58:10]\u001b[0m\u001b[2;36m \u001b[0m\u001b[34mINFO    \u001b[0m Deterministic check: random number after  \u001b[1;35mPrivBayesSynth.sample\u001b[0m\u001b[1m(\u001b[0m\u001b[1m)\u001b[0m: \u001b[1m<\u001b[0m\u001b[1;95mnp.random\u001b[0m\u001b[1m>\u001b[0m \u001b[1;36m0.72209\u001b[0m \u001b[1m<\u001b[0m\u001b[1;95mrandom\u001b[0m\u001b[1m>\u001b[0m \u001b[1;36m0.14817\u001b[0m                                      \u001b[2mbase.py\u001b[0m\u001b[2m:\u001b[0m\u001b[2m29\u001b[0m\n",
      "\u001b[2;36m                   \u001b[0m\u001b[2;36m \u001b[0m\u001b[34mINFO    \u001b[0m Completed node  \u001b[1;36m2\u001b[0m/ \u001b[1;36m3\u001b[0m: mimic_tab_admissions.privbayes.synth_sample                                                                         \u001b[2mrunner.py\u001b[0m\u001b[2m:\u001b[0m\u001b[2m134\u001b[0m\n",
      "\u001b[2;36m[08/11/22 02:58:11]\u001b[0m\u001b[2;36m \u001b[0m\u001b[34mINFO    \u001b[0m Completed node  \u001b[1;36m3\u001b[0m/ \u001b[1;36m3\u001b[0m: mimic_tab_admissions.privbayes.reverse_table                                                                        \u001b[2mrunner.py\u001b[0m\u001b[2m:\u001b[0m\u001b[2m134\u001b[0m\n"
     ]
    }
   ],
   "source": [
    "%pipe mimic_tab_admissions.ingest\n",
    "for e1 in (0.3, 0.5, 0.9, 1.5):\n",
    "    pipe(\"mimic_tab_admissions.privbayes.synth\", {\"alg.e1\": e1})"
   ]
  },
  {
   "cell_type": "code",
   "execution_count": null,
   "metadata": {},
   "outputs": [],
   "source": []
  }
 ],
 "metadata": {
  "language_info": {
   "codemirror_mode": {
    "name": "ipython",
    "version": 3
   },
   "file_extension": ".py",
   "mimetype": "text/x-python",
   "name": "python",
   "nbconvert_exporter": "python",
   "pygments_lexer": "ipython3",
   "version": "3.10.6"
  },
  "vscode": {
   "interpreter": {
    "hash": "50661068d2d5c6ff1ce24ae701dfa73cc4ae117a223c3f7199e1fdb4656c8912"
   }
  }
 },
 "nbformat": 4,
 "nbformat_minor": 2
}
