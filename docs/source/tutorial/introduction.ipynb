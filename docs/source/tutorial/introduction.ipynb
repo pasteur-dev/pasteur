{
 "cells": [
  {
   "attachments": {},
   "cell_type": "markdown",
   "metadata": {},
   "source": [
    "# Introduction\n",
    "Welcome and thank you for your interest in synthetic data generation!\n",
    "\n",
    "In this tutorial, we're going to setup a Pasteur project from scratch, and add\n",
    "support for a custom dataset with its own evaluation metrics.\n",
    "Through this tutorial, you will get introduced to Pasteur's architecture and\n",
    "module system.\n",
    "\n",
    "The tutorial begins with detailing Pasteur's architecture and module system.\n",
    "Afterwards, we create a project and begin integrating and analyzing a new dataset.\n"
   ]
  },
  {
   "cell_type": "markdown",
   "metadata": {},
   "source": []
  }
 ],
 "metadata": {
  "language_info": {
   "name": "python",
   "version": "3.10.6"
  }
 },
 "nbformat": 4,
 "nbformat_minor": 2
}
