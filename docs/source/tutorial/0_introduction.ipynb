{
 "cells": [
  {
   "attachments": {},
   "cell_type": "markdown",
   "metadata": {},
   "source": [
    "# Introduction\n",
    "In this tutorial, we're going to setup a Pasteur project from scratch, and add\n",
    "support for a custom dataset with its own evaluation metrics.\n",
    "Through this tutorial, you will get introduced to Pasteur's architecture and\n",
    "module system.\n",
    "\n",
    "The tutorial begins with detailing Pasteur's architecture and module system.\n",
    "Afterwards, we create a project and begin integrating and analyzing a new dataset.\n",
    "Finally, we extend this project by creating modules for all of Pasteur's supported\n",
    "modules.\n",
    "\n",
    "In this tutorial, we will briefly mention but not touch the out-of-core features\n",
    "of Pasteur, which will be analyzed in a future \"Advanced Topics\" section."
   ]
  },
  {
   "cell_type": "markdown",
   "metadata": {},
   "source": []
  }
 ],
 "metadata": {
  "language_info": {
   "name": "python"
  }
 },
 "nbformat": 4,
 "nbformat_minor": 2
}
